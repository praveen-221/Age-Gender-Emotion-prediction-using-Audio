{
  "nbformat": 4,
  "nbformat_minor": 0,
  "metadata": {
    "colab": {
      "provenance": [],
      "include_colab_link": true
    },
    "kernelspec": {
      "name": "python3",
      "display_name": "Python 3"
    },
    "language_info": {
      "name": "python"
    }
  },
  "cells": [
    {
      "cell_type": "markdown",
      "metadata": {
        "id": "view-in-github",
        "colab_type": "text"
      },
      "source": [
        "<a href=\"https://colab.research.google.com/github/praveen-221/Age-Gender-Emotion-prediction-using-Audio/blob/main/ML_project_Age.ipynb\" target=\"_parent\"><img src=\"https://colab.research.google.com/assets/colab-badge.svg\" alt=\"Open In Colab\"/></a>"
      ]
    },
    {
      "cell_type": "markdown",
      "source": [
        "### Age Classification"
      ],
      "metadata": {
        "id": "EzZ3BroMAOQn"
      }
    },
    {
      "cell_type": "code",
      "source": [
        "from google.colab import drive\n",
        "drive.mount('/content/drive')"
      ],
      "metadata": {
        "colab": {
          "base_uri": "https://localhost:8080/"
        },
        "id": "fUALCss1maHJ",
        "outputId": "b96c2786-faff-4a86-c759-0ed8ef19272a"
      },
      "execution_count": null,
      "outputs": [
        {
          "output_type": "stream",
          "name": "stdout",
          "text": [
            "Drive already mounted at /content/drive; to attempt to forcibly remount, call drive.mount(\"/content/drive\", force_remount=True).\n"
          ]
        }
      ]
    },
    {
      "cell_type": "code",
      "execution_count": null,
      "metadata": {
        "id": "Vus0wvX2_q3I"
      },
      "outputs": [],
      "source": [
        "import pandas as pd\n",
        "import numpy as np\n",
        "import matplotlib.pyplot as plt\n",
        "from sklearn.model_selection import train_test_split\n",
        "from sklearn.metrics import precision_score, recall_score, f1_score, accuracy_score\n",
        "from sklearn import tree\n",
        "from sklearn.ensemble import RandomForestClassifier\n",
        "from sklearn.svm import SVC"
      ]
    },
    {
      "cell_type": "code",
      "source": [
        "#from google.colab import drive\n",
        "#drive.mount('/content/drive')\n",
        "#data = pd.read_csv(\"/content/drive/MyDrive/cleaned-dataset/cleaned_age.csv\")\n",
        "data = pd.read_csv(\"/content/drive/MyDrive/cleaned_age.csv\")\n",
        "# data = pd.read_csv(\"cleaned_age.csv\", index_col = None)"
      ],
      "metadata": {
        "id": "sWN1fGO5Rnzp"
      },
      "execution_count": null,
      "outputs": []
    },
    {
      "cell_type": "code",
      "source": [
        "data.columns"
      ],
      "metadata": {
        "colab": {
          "base_uri": "https://localhost:8080/"
        },
        "id": "p4n8m7YPa9vt",
        "outputId": "7f45e27a-6dbc-4837-a44c-686ea7ccaa7d"
      },
      "execution_count": null,
      "outputs": [
        {
          "output_type": "execute_result",
          "data": {
            "text/plain": [
              "Index(['Unnamed: 0.1', 'Unnamed: 0', 'meanfreq', 'sd', 'median', 'Q25', 'Q75',\n",
              "       'IQR', 'skew', 'kurt', 'sp.ent', 'sfm', 'mode', 'centroid', 'meanfun',\n",
              "       'minfun', 'maxfun', 'meandom', 'mindom', 'maxdom', 'dfrange', 'modindx',\n",
              "       'label'],\n",
              "      dtype='object')"
            ]
          },
          "metadata": {},
          "execution_count": 37
        }
      ]
    },
    {
      "cell_type": "code",
      "source": [
        "from sklearn.preprocessing import LabelEncoder\n",
        "le = LabelEncoder()"
      ],
      "metadata": {
        "id": "bbGa5AAQE4tm"
      },
      "execution_count": null,
      "outputs": []
    },
    {
      "cell_type": "code",
      "source": [
        "data.label = le.fit_transform(data.label)\n",
        "data"
      ],
      "metadata": {
        "colab": {
          "base_uri": "https://localhost:8080/",
          "height": 424
        },
        "id": "YQgKiSA5E9BH",
        "outputId": "a4a48a86-6e72-4e37-d8c2-cafe352aca95"
      },
      "execution_count": null,
      "outputs": [
        {
          "output_type": "execute_result",
          "data": {
            "text/plain": [
              "      Unnamed: 0.1  Unnamed: 0  meanfreq        sd    median       Q25  \\\n",
              "0               66          67  0.133338  0.069304  0.107668  0.089192   \n",
              "1               84          85  0.137433  0.058518  0.112037  0.092841   \n",
              "2               85          86  0.142227  0.065447  0.112242  0.093455   \n",
              "3               87          88  0.133325  0.072849  0.113360  0.082861   \n",
              "4               88          89  0.130487  0.070407  0.113418  0.076098   \n",
              "...            ...         ...       ...       ...       ...       ...   \n",
              "4356          6220        6221  0.241377  0.039956  0.252299  0.225070   \n",
              "4357          6222        6223  0.235059  0.053056  0.252532  0.231392   \n",
              "4358          6224        6225  0.230992  0.053711  0.252760  0.223666   \n",
              "4359          6230        6231  0.240334  0.044747  0.253897  0.233837   \n",
              "4360          6235        6236  0.227517  0.059336  0.257051  0.198797   \n",
              "\n",
              "           Q75       IQR      skew       kurt  ...  centroid   meanfun  \\\n",
              "0     0.195267  0.106075  3.043456  13.694173  ...  0.133338  0.121968   \n",
              "1     0.200079  0.107238  2.807995  12.776650  ...  0.137433  0.111204   \n",
              "2     0.202909  0.109455  2.380899   9.942833  ...  0.142227  0.118711   \n",
              "3     0.203753  0.120892  1.904123   7.799218  ...  0.133325  0.116200   \n",
              "4     0.196188  0.120089  1.820873   8.561101  ...  0.130487  0.114802   \n",
              "...        ...       ...       ...        ...  ...       ...       ...   \n",
              "4356  0.269297  0.044227  2.730197  11.467950  ...  0.241377  0.176361   \n",
              "4357  0.264468  0.033077  2.869390  12.009156  ...  0.235059  0.120552   \n",
              "4358  0.265731  0.042065  3.277391  15.202833  ...  0.230992  0.162745   \n",
              "4359  0.265619  0.031782  2.826720  11.350446  ...  0.240334  0.134127   \n",
              "4360  0.267371  0.068574  3.287888  14.553146  ...  0.227517  0.121157   \n",
              "\n",
              "        minfun    maxfun   meandom  mindom     maxdom    dfrange   modindx  \\\n",
              "0     0.047337  0.277457  0.822656  0.0000   4.687500   4.687500  0.076296   \n",
              "1     0.047151  0.277457  1.313384  0.0000   6.046875   6.046875  0.135811   \n",
              "2     0.047013  0.275862  0.593750  0.0000   6.539062   6.539062  0.096102   \n",
              "3     0.047105  0.279070  0.424922  0.0000   5.812500   5.812500  0.081880   \n",
              "4     0.047151  0.279070  0.198070  0.0000   1.078125   1.078125  0.131579   \n",
              "...        ...       ...       ...     ...        ...        ...       ...   \n",
              "4356  0.047666  0.279070  1.224946  0.0000   6.140625   6.140625  0.093181   \n",
              "4357  0.047572  0.274286  1.103427  0.0000  10.382812  10.382812  0.056716   \n",
              "4358  0.047059  0.277457  1.297944  0.1875  11.812500  11.625000  0.081470   \n",
              "4359  0.046967  0.271186  0.528390  0.0000   3.187500   3.187500  0.065266   \n",
              "4360  0.047105  0.279070  0.974657  0.0000  10.078125  10.078125  0.064763   \n",
              "\n",
              "      label  \n",
              "0         2  \n",
              "1         2  \n",
              "2         0  \n",
              "3         2  \n",
              "4         0  \n",
              "...     ...  \n",
              "4356      1  \n",
              "4357      0  \n",
              "4358      2  \n",
              "4359      1  \n",
              "4360      2  \n",
              "\n",
              "[4361 rows x 23 columns]"
            ],
            "text/html": [
              "\n",
              "  <div id=\"df-13c785b2-5e7c-4559-a9ad-9d72eb4e9d0f\">\n",
              "    <div class=\"colab-df-container\">\n",
              "      <div>\n",
              "<style scoped>\n",
              "    .dataframe tbody tr th:only-of-type {\n",
              "        vertical-align: middle;\n",
              "    }\n",
              "\n",
              "    .dataframe tbody tr th {\n",
              "        vertical-align: top;\n",
              "    }\n",
              "\n",
              "    .dataframe thead th {\n",
              "        text-align: right;\n",
              "    }\n",
              "</style>\n",
              "<table border=\"1\" class=\"dataframe\">\n",
              "  <thead>\n",
              "    <tr style=\"text-align: right;\">\n",
              "      <th></th>\n",
              "      <th>Unnamed: 0.1</th>\n",
              "      <th>Unnamed: 0</th>\n",
              "      <th>meanfreq</th>\n",
              "      <th>sd</th>\n",
              "      <th>median</th>\n",
              "      <th>Q25</th>\n",
              "      <th>Q75</th>\n",
              "      <th>IQR</th>\n",
              "      <th>skew</th>\n",
              "      <th>kurt</th>\n",
              "      <th>...</th>\n",
              "      <th>centroid</th>\n",
              "      <th>meanfun</th>\n",
              "      <th>minfun</th>\n",
              "      <th>maxfun</th>\n",
              "      <th>meandom</th>\n",
              "      <th>mindom</th>\n",
              "      <th>maxdom</th>\n",
              "      <th>dfrange</th>\n",
              "      <th>modindx</th>\n",
              "      <th>label</th>\n",
              "    </tr>\n",
              "  </thead>\n",
              "  <tbody>\n",
              "    <tr>\n",
              "      <th>0</th>\n",
              "      <td>66</td>\n",
              "      <td>67</td>\n",
              "      <td>0.133338</td>\n",
              "      <td>0.069304</td>\n",
              "      <td>0.107668</td>\n",
              "      <td>0.089192</td>\n",
              "      <td>0.195267</td>\n",
              "      <td>0.106075</td>\n",
              "      <td>3.043456</td>\n",
              "      <td>13.694173</td>\n",
              "      <td>...</td>\n",
              "      <td>0.133338</td>\n",
              "      <td>0.121968</td>\n",
              "      <td>0.047337</td>\n",
              "      <td>0.277457</td>\n",
              "      <td>0.822656</td>\n",
              "      <td>0.0000</td>\n",
              "      <td>4.687500</td>\n",
              "      <td>4.687500</td>\n",
              "      <td>0.076296</td>\n",
              "      <td>2</td>\n",
              "    </tr>\n",
              "    <tr>\n",
              "      <th>1</th>\n",
              "      <td>84</td>\n",
              "      <td>85</td>\n",
              "      <td>0.137433</td>\n",
              "      <td>0.058518</td>\n",
              "      <td>0.112037</td>\n",
              "      <td>0.092841</td>\n",
              "      <td>0.200079</td>\n",
              "      <td>0.107238</td>\n",
              "      <td>2.807995</td>\n",
              "      <td>12.776650</td>\n",
              "      <td>...</td>\n",
              "      <td>0.137433</td>\n",
              "      <td>0.111204</td>\n",
              "      <td>0.047151</td>\n",
              "      <td>0.277457</td>\n",
              "      <td>1.313384</td>\n",
              "      <td>0.0000</td>\n",
              "      <td>6.046875</td>\n",
              "      <td>6.046875</td>\n",
              "      <td>0.135811</td>\n",
              "      <td>2</td>\n",
              "    </tr>\n",
              "    <tr>\n",
              "      <th>2</th>\n",
              "      <td>85</td>\n",
              "      <td>86</td>\n",
              "      <td>0.142227</td>\n",
              "      <td>0.065447</td>\n",
              "      <td>0.112242</td>\n",
              "      <td>0.093455</td>\n",
              "      <td>0.202909</td>\n",
              "      <td>0.109455</td>\n",
              "      <td>2.380899</td>\n",
              "      <td>9.942833</td>\n",
              "      <td>...</td>\n",
              "      <td>0.142227</td>\n",
              "      <td>0.118711</td>\n",
              "      <td>0.047013</td>\n",
              "      <td>0.275862</td>\n",
              "      <td>0.593750</td>\n",
              "      <td>0.0000</td>\n",
              "      <td>6.539062</td>\n",
              "      <td>6.539062</td>\n",
              "      <td>0.096102</td>\n",
              "      <td>0</td>\n",
              "    </tr>\n",
              "    <tr>\n",
              "      <th>3</th>\n",
              "      <td>87</td>\n",
              "      <td>88</td>\n",
              "      <td>0.133325</td>\n",
              "      <td>0.072849</td>\n",
              "      <td>0.113360</td>\n",
              "      <td>0.082861</td>\n",
              "      <td>0.203753</td>\n",
              "      <td>0.120892</td>\n",
              "      <td>1.904123</td>\n",
              "      <td>7.799218</td>\n",
              "      <td>...</td>\n",
              "      <td>0.133325</td>\n",
              "      <td>0.116200</td>\n",
              "      <td>0.047105</td>\n",
              "      <td>0.279070</td>\n",
              "      <td>0.424922</td>\n",
              "      <td>0.0000</td>\n",
              "      <td>5.812500</td>\n",
              "      <td>5.812500</td>\n",
              "      <td>0.081880</td>\n",
              "      <td>2</td>\n",
              "    </tr>\n",
              "    <tr>\n",
              "      <th>4</th>\n",
              "      <td>88</td>\n",
              "      <td>89</td>\n",
              "      <td>0.130487</td>\n",
              "      <td>0.070407</td>\n",
              "      <td>0.113418</td>\n",
              "      <td>0.076098</td>\n",
              "      <td>0.196188</td>\n",
              "      <td>0.120089</td>\n",
              "      <td>1.820873</td>\n",
              "      <td>8.561101</td>\n",
              "      <td>...</td>\n",
              "      <td>0.130487</td>\n",
              "      <td>0.114802</td>\n",
              "      <td>0.047151</td>\n",
              "      <td>0.279070</td>\n",
              "      <td>0.198070</td>\n",
              "      <td>0.0000</td>\n",
              "      <td>1.078125</td>\n",
              "      <td>1.078125</td>\n",
              "      <td>0.131579</td>\n",
              "      <td>0</td>\n",
              "    </tr>\n",
              "    <tr>\n",
              "      <th>...</th>\n",
              "      <td>...</td>\n",
              "      <td>...</td>\n",
              "      <td>...</td>\n",
              "      <td>...</td>\n",
              "      <td>...</td>\n",
              "      <td>...</td>\n",
              "      <td>...</td>\n",
              "      <td>...</td>\n",
              "      <td>...</td>\n",
              "      <td>...</td>\n",
              "      <td>...</td>\n",
              "      <td>...</td>\n",
              "      <td>...</td>\n",
              "      <td>...</td>\n",
              "      <td>...</td>\n",
              "      <td>...</td>\n",
              "      <td>...</td>\n",
              "      <td>...</td>\n",
              "      <td>...</td>\n",
              "      <td>...</td>\n",
              "      <td>...</td>\n",
              "    </tr>\n",
              "    <tr>\n",
              "      <th>4356</th>\n",
              "      <td>6220</td>\n",
              "      <td>6221</td>\n",
              "      <td>0.241377</td>\n",
              "      <td>0.039956</td>\n",
              "      <td>0.252299</td>\n",
              "      <td>0.225070</td>\n",
              "      <td>0.269297</td>\n",
              "      <td>0.044227</td>\n",
              "      <td>2.730197</td>\n",
              "      <td>11.467950</td>\n",
              "      <td>...</td>\n",
              "      <td>0.241377</td>\n",
              "      <td>0.176361</td>\n",
              "      <td>0.047666</td>\n",
              "      <td>0.279070</td>\n",
              "      <td>1.224946</td>\n",
              "      <td>0.0000</td>\n",
              "      <td>6.140625</td>\n",
              "      <td>6.140625</td>\n",
              "      <td>0.093181</td>\n",
              "      <td>1</td>\n",
              "    </tr>\n",
              "    <tr>\n",
              "      <th>4357</th>\n",
              "      <td>6222</td>\n",
              "      <td>6223</td>\n",
              "      <td>0.235059</td>\n",
              "      <td>0.053056</td>\n",
              "      <td>0.252532</td>\n",
              "      <td>0.231392</td>\n",
              "      <td>0.264468</td>\n",
              "      <td>0.033077</td>\n",
              "      <td>2.869390</td>\n",
              "      <td>12.009156</td>\n",
              "      <td>...</td>\n",
              "      <td>0.235059</td>\n",
              "      <td>0.120552</td>\n",
              "      <td>0.047572</td>\n",
              "      <td>0.274286</td>\n",
              "      <td>1.103427</td>\n",
              "      <td>0.0000</td>\n",
              "      <td>10.382812</td>\n",
              "      <td>10.382812</td>\n",
              "      <td>0.056716</td>\n",
              "      <td>0</td>\n",
              "    </tr>\n",
              "    <tr>\n",
              "      <th>4358</th>\n",
              "      <td>6224</td>\n",
              "      <td>6225</td>\n",
              "      <td>0.230992</td>\n",
              "      <td>0.053711</td>\n",
              "      <td>0.252760</td>\n",
              "      <td>0.223666</td>\n",
              "      <td>0.265731</td>\n",
              "      <td>0.042065</td>\n",
              "      <td>3.277391</td>\n",
              "      <td>15.202833</td>\n",
              "      <td>...</td>\n",
              "      <td>0.230992</td>\n",
              "      <td>0.162745</td>\n",
              "      <td>0.047059</td>\n",
              "      <td>0.277457</td>\n",
              "      <td>1.297944</td>\n",
              "      <td>0.1875</td>\n",
              "      <td>11.812500</td>\n",
              "      <td>11.625000</td>\n",
              "      <td>0.081470</td>\n",
              "      <td>2</td>\n",
              "    </tr>\n",
              "    <tr>\n",
              "      <th>4359</th>\n",
              "      <td>6230</td>\n",
              "      <td>6231</td>\n",
              "      <td>0.240334</td>\n",
              "      <td>0.044747</td>\n",
              "      <td>0.253897</td>\n",
              "      <td>0.233837</td>\n",
              "      <td>0.265619</td>\n",
              "      <td>0.031782</td>\n",
              "      <td>2.826720</td>\n",
              "      <td>11.350446</td>\n",
              "      <td>...</td>\n",
              "      <td>0.240334</td>\n",
              "      <td>0.134127</td>\n",
              "      <td>0.046967</td>\n",
              "      <td>0.271186</td>\n",
              "      <td>0.528390</td>\n",
              "      <td>0.0000</td>\n",
              "      <td>3.187500</td>\n",
              "      <td>3.187500</td>\n",
              "      <td>0.065266</td>\n",
              "      <td>1</td>\n",
              "    </tr>\n",
              "    <tr>\n",
              "      <th>4360</th>\n",
              "      <td>6235</td>\n",
              "      <td>6236</td>\n",
              "      <td>0.227517</td>\n",
              "      <td>0.059336</td>\n",
              "      <td>0.257051</td>\n",
              "      <td>0.198797</td>\n",
              "      <td>0.267371</td>\n",
              "      <td>0.068574</td>\n",
              "      <td>3.287888</td>\n",
              "      <td>14.553146</td>\n",
              "      <td>...</td>\n",
              "      <td>0.227517</td>\n",
              "      <td>0.121157</td>\n",
              "      <td>0.047105</td>\n",
              "      <td>0.279070</td>\n",
              "      <td>0.974657</td>\n",
              "      <td>0.0000</td>\n",
              "      <td>10.078125</td>\n",
              "      <td>10.078125</td>\n",
              "      <td>0.064763</td>\n",
              "      <td>2</td>\n",
              "    </tr>\n",
              "  </tbody>\n",
              "</table>\n",
              "<p>4361 rows × 23 columns</p>\n",
              "</div>\n",
              "      <button class=\"colab-df-convert\" onclick=\"convertToInteractive('df-13c785b2-5e7c-4559-a9ad-9d72eb4e9d0f')\"\n",
              "              title=\"Convert this dataframe to an interactive table.\"\n",
              "              style=\"display:none;\">\n",
              "        \n",
              "  <svg xmlns=\"http://www.w3.org/2000/svg\" height=\"24px\"viewBox=\"0 0 24 24\"\n",
              "       width=\"24px\">\n",
              "    <path d=\"M0 0h24v24H0V0z\" fill=\"none\"/>\n",
              "    <path d=\"M18.56 5.44l.94 2.06.94-2.06 2.06-.94-2.06-.94-.94-2.06-.94 2.06-2.06.94zm-11 1L8.5 8.5l.94-2.06 2.06-.94-2.06-.94L8.5 2.5l-.94 2.06-2.06.94zm10 10l.94 2.06.94-2.06 2.06-.94-2.06-.94-.94-2.06-.94 2.06-2.06.94z\"/><path d=\"M17.41 7.96l-1.37-1.37c-.4-.4-.92-.59-1.43-.59-.52 0-1.04.2-1.43.59L10.3 9.45l-7.72 7.72c-.78.78-.78 2.05 0 2.83L4 21.41c.39.39.9.59 1.41.59.51 0 1.02-.2 1.41-.59l7.78-7.78 2.81-2.81c.8-.78.8-2.07 0-2.86zM5.41 20L4 18.59l7.72-7.72 1.47 1.35L5.41 20z\"/>\n",
              "  </svg>\n",
              "      </button>\n",
              "      \n",
              "  <style>\n",
              "    .colab-df-container {\n",
              "      display:flex;\n",
              "      flex-wrap:wrap;\n",
              "      gap: 12px;\n",
              "    }\n",
              "\n",
              "    .colab-df-convert {\n",
              "      background-color: #E8F0FE;\n",
              "      border: none;\n",
              "      border-radius: 50%;\n",
              "      cursor: pointer;\n",
              "      display: none;\n",
              "      fill: #1967D2;\n",
              "      height: 32px;\n",
              "      padding: 0 0 0 0;\n",
              "      width: 32px;\n",
              "    }\n",
              "\n",
              "    .colab-df-convert:hover {\n",
              "      background-color: #E2EBFA;\n",
              "      box-shadow: 0px 1px 2px rgba(60, 64, 67, 0.3), 0px 1px 3px 1px rgba(60, 64, 67, 0.15);\n",
              "      fill: #174EA6;\n",
              "    }\n",
              "\n",
              "    [theme=dark] .colab-df-convert {\n",
              "      background-color: #3B4455;\n",
              "      fill: #D2E3FC;\n",
              "    }\n",
              "\n",
              "    [theme=dark] .colab-df-convert:hover {\n",
              "      background-color: #434B5C;\n",
              "      box-shadow: 0px 1px 3px 1px rgba(0, 0, 0, 0.15);\n",
              "      filter: drop-shadow(0px 1px 2px rgba(0, 0, 0, 0.3));\n",
              "      fill: #FFFFFF;\n",
              "    }\n",
              "  </style>\n",
              "\n",
              "      <script>\n",
              "        const buttonEl =\n",
              "          document.querySelector('#df-13c785b2-5e7c-4559-a9ad-9d72eb4e9d0f button.colab-df-convert');\n",
              "        buttonEl.style.display =\n",
              "          google.colab.kernel.accessAllowed ? 'block' : 'none';\n",
              "\n",
              "        async function convertToInteractive(key) {\n",
              "          const element = document.querySelector('#df-13c785b2-5e7c-4559-a9ad-9d72eb4e9d0f');\n",
              "          const dataTable =\n",
              "            await google.colab.kernel.invokeFunction('convertToInteractive',\n",
              "                                                     [key], {});\n",
              "          if (!dataTable) return;\n",
              "\n",
              "          const docLinkHtml = 'Like what you see? Visit the ' +\n",
              "            '<a target=\"_blank\" href=https://colab.research.google.com/notebooks/data_table.ipynb>data table notebook</a>'\n",
              "            + ' to learn more about interactive tables.';\n",
              "          element.innerHTML = '';\n",
              "          dataTable['output_type'] = 'display_data';\n",
              "          await google.colab.output.renderOutput(dataTable, element);\n",
              "          const docLink = document.createElement('div');\n",
              "          docLink.innerHTML = docLinkHtml;\n",
              "          element.appendChild(docLink);\n",
              "        }\n",
              "      </script>\n",
              "    </div>\n",
              "  </div>\n",
              "  "
            ]
          },
          "metadata": {},
          "execution_count": 39
        }
      ]
    },
    {
      "cell_type": "code",
      "source": [
        "X = data.drop(\"label\", axis=\"columns\")\n",
        "X"
      ],
      "metadata": {
        "colab": {
          "base_uri": "https://localhost:8080/",
          "height": 424
        },
        "id": "RwX6tRgERyB8",
        "outputId": "9ba6e469-8062-4d4d-bc0b-625e9f3253f3"
      },
      "execution_count": null,
      "outputs": [
        {
          "output_type": "execute_result",
          "data": {
            "text/plain": [
              "      Unnamed: 0.1  Unnamed: 0  meanfreq        sd    median       Q25  \\\n",
              "0               66          67  0.133338  0.069304  0.107668  0.089192   \n",
              "1               84          85  0.137433  0.058518  0.112037  0.092841   \n",
              "2               85          86  0.142227  0.065447  0.112242  0.093455   \n",
              "3               87          88  0.133325  0.072849  0.113360  0.082861   \n",
              "4               88          89  0.130487  0.070407  0.113418  0.076098   \n",
              "...            ...         ...       ...       ...       ...       ...   \n",
              "4356          6220        6221  0.241377  0.039956  0.252299  0.225070   \n",
              "4357          6222        6223  0.235059  0.053056  0.252532  0.231392   \n",
              "4358          6224        6225  0.230992  0.053711  0.252760  0.223666   \n",
              "4359          6230        6231  0.240334  0.044747  0.253897  0.233837   \n",
              "4360          6235        6236  0.227517  0.059336  0.257051  0.198797   \n",
              "\n",
              "           Q75       IQR      skew       kurt  ...      mode  centroid  \\\n",
              "0     0.195267  0.106075  3.043456  13.694173  ...  0.086962  0.133338   \n",
              "1     0.200079  0.107238  2.807995  12.776650  ...  0.101332  0.137433   \n",
              "2     0.202909  0.109455  2.380899   9.942833  ...  0.106545  0.142227   \n",
              "3     0.203753  0.120892  1.904123   7.799218  ...  0.108583  0.133325   \n",
              "4     0.196188  0.120089  1.820873   8.561101  ...  0.101534  0.130487   \n",
              "...        ...       ...       ...        ...  ...       ...       ...   \n",
              "4356  0.269297  0.044227  2.730197  11.467950  ...  0.270242  0.241377   \n",
              "4357  0.264468  0.033077  2.869390  12.009156  ...  0.254402  0.235059   \n",
              "4358  0.265731  0.042065  3.277391  15.202833  ...  0.267214  0.230992   \n",
              "4359  0.265619  0.031782  2.826720  11.350446  ...  0.264169  0.240334   \n",
              "4360  0.267371  0.068574  3.287888  14.553146  ...  0.270495  0.227517   \n",
              "\n",
              "       meanfun    minfun    maxfun   meandom  mindom     maxdom    dfrange  \\\n",
              "0     0.121968  0.047337  0.277457  0.822656  0.0000   4.687500   4.687500   \n",
              "1     0.111204  0.047151  0.277457  1.313384  0.0000   6.046875   6.046875   \n",
              "2     0.118711  0.047013  0.275862  0.593750  0.0000   6.539062   6.539062   \n",
              "3     0.116200  0.047105  0.279070  0.424922  0.0000   5.812500   5.812500   \n",
              "4     0.114802  0.047151  0.279070  0.198070  0.0000   1.078125   1.078125   \n",
              "...        ...       ...       ...       ...     ...        ...        ...   \n",
              "4356  0.176361  0.047666  0.279070  1.224946  0.0000   6.140625   6.140625   \n",
              "4357  0.120552  0.047572  0.274286  1.103427  0.0000  10.382812  10.382812   \n",
              "4358  0.162745  0.047059  0.277457  1.297944  0.1875  11.812500  11.625000   \n",
              "4359  0.134127  0.046967  0.271186  0.528390  0.0000   3.187500   3.187500   \n",
              "4360  0.121157  0.047105  0.279070  0.974657  0.0000  10.078125  10.078125   \n",
              "\n",
              "       modindx  \n",
              "0     0.076296  \n",
              "1     0.135811  \n",
              "2     0.096102  \n",
              "3     0.081880  \n",
              "4     0.131579  \n",
              "...        ...  \n",
              "4356  0.093181  \n",
              "4357  0.056716  \n",
              "4358  0.081470  \n",
              "4359  0.065266  \n",
              "4360  0.064763  \n",
              "\n",
              "[4361 rows x 22 columns]"
            ],
            "text/html": [
              "\n",
              "  <div id=\"df-ef7c7208-d7ec-4b69-8492-f4daa9034686\">\n",
              "    <div class=\"colab-df-container\">\n",
              "      <div>\n",
              "<style scoped>\n",
              "    .dataframe tbody tr th:only-of-type {\n",
              "        vertical-align: middle;\n",
              "    }\n",
              "\n",
              "    .dataframe tbody tr th {\n",
              "        vertical-align: top;\n",
              "    }\n",
              "\n",
              "    .dataframe thead th {\n",
              "        text-align: right;\n",
              "    }\n",
              "</style>\n",
              "<table border=\"1\" class=\"dataframe\">\n",
              "  <thead>\n",
              "    <tr style=\"text-align: right;\">\n",
              "      <th></th>\n",
              "      <th>Unnamed: 0.1</th>\n",
              "      <th>Unnamed: 0</th>\n",
              "      <th>meanfreq</th>\n",
              "      <th>sd</th>\n",
              "      <th>median</th>\n",
              "      <th>Q25</th>\n",
              "      <th>Q75</th>\n",
              "      <th>IQR</th>\n",
              "      <th>skew</th>\n",
              "      <th>kurt</th>\n",
              "      <th>...</th>\n",
              "      <th>mode</th>\n",
              "      <th>centroid</th>\n",
              "      <th>meanfun</th>\n",
              "      <th>minfun</th>\n",
              "      <th>maxfun</th>\n",
              "      <th>meandom</th>\n",
              "      <th>mindom</th>\n",
              "      <th>maxdom</th>\n",
              "      <th>dfrange</th>\n",
              "      <th>modindx</th>\n",
              "    </tr>\n",
              "  </thead>\n",
              "  <tbody>\n",
              "    <tr>\n",
              "      <th>0</th>\n",
              "      <td>66</td>\n",
              "      <td>67</td>\n",
              "      <td>0.133338</td>\n",
              "      <td>0.069304</td>\n",
              "      <td>0.107668</td>\n",
              "      <td>0.089192</td>\n",
              "      <td>0.195267</td>\n",
              "      <td>0.106075</td>\n",
              "      <td>3.043456</td>\n",
              "      <td>13.694173</td>\n",
              "      <td>...</td>\n",
              "      <td>0.086962</td>\n",
              "      <td>0.133338</td>\n",
              "      <td>0.121968</td>\n",
              "      <td>0.047337</td>\n",
              "      <td>0.277457</td>\n",
              "      <td>0.822656</td>\n",
              "      <td>0.0000</td>\n",
              "      <td>4.687500</td>\n",
              "      <td>4.687500</td>\n",
              "      <td>0.076296</td>\n",
              "    </tr>\n",
              "    <tr>\n",
              "      <th>1</th>\n",
              "      <td>84</td>\n",
              "      <td>85</td>\n",
              "      <td>0.137433</td>\n",
              "      <td>0.058518</td>\n",
              "      <td>0.112037</td>\n",
              "      <td>0.092841</td>\n",
              "      <td>0.200079</td>\n",
              "      <td>0.107238</td>\n",
              "      <td>2.807995</td>\n",
              "      <td>12.776650</td>\n",
              "      <td>...</td>\n",
              "      <td>0.101332</td>\n",
              "      <td>0.137433</td>\n",
              "      <td>0.111204</td>\n",
              "      <td>0.047151</td>\n",
              "      <td>0.277457</td>\n",
              "      <td>1.313384</td>\n",
              "      <td>0.0000</td>\n",
              "      <td>6.046875</td>\n",
              "      <td>6.046875</td>\n",
              "      <td>0.135811</td>\n",
              "    </tr>\n",
              "    <tr>\n",
              "      <th>2</th>\n",
              "      <td>85</td>\n",
              "      <td>86</td>\n",
              "      <td>0.142227</td>\n",
              "      <td>0.065447</td>\n",
              "      <td>0.112242</td>\n",
              "      <td>0.093455</td>\n",
              "      <td>0.202909</td>\n",
              "      <td>0.109455</td>\n",
              "      <td>2.380899</td>\n",
              "      <td>9.942833</td>\n",
              "      <td>...</td>\n",
              "      <td>0.106545</td>\n",
              "      <td>0.142227</td>\n",
              "      <td>0.118711</td>\n",
              "      <td>0.047013</td>\n",
              "      <td>0.275862</td>\n",
              "      <td>0.593750</td>\n",
              "      <td>0.0000</td>\n",
              "      <td>6.539062</td>\n",
              "      <td>6.539062</td>\n",
              "      <td>0.096102</td>\n",
              "    </tr>\n",
              "    <tr>\n",
              "      <th>3</th>\n",
              "      <td>87</td>\n",
              "      <td>88</td>\n",
              "      <td>0.133325</td>\n",
              "      <td>0.072849</td>\n",
              "      <td>0.113360</td>\n",
              "      <td>0.082861</td>\n",
              "      <td>0.203753</td>\n",
              "      <td>0.120892</td>\n",
              "      <td>1.904123</td>\n",
              "      <td>7.799218</td>\n",
              "      <td>...</td>\n",
              "      <td>0.108583</td>\n",
              "      <td>0.133325</td>\n",
              "      <td>0.116200</td>\n",
              "      <td>0.047105</td>\n",
              "      <td>0.279070</td>\n",
              "      <td>0.424922</td>\n",
              "      <td>0.0000</td>\n",
              "      <td>5.812500</td>\n",
              "      <td>5.812500</td>\n",
              "      <td>0.081880</td>\n",
              "    </tr>\n",
              "    <tr>\n",
              "      <th>4</th>\n",
              "      <td>88</td>\n",
              "      <td>89</td>\n",
              "      <td>0.130487</td>\n",
              "      <td>0.070407</td>\n",
              "      <td>0.113418</td>\n",
              "      <td>0.076098</td>\n",
              "      <td>0.196188</td>\n",
              "      <td>0.120089</td>\n",
              "      <td>1.820873</td>\n",
              "      <td>8.561101</td>\n",
              "      <td>...</td>\n",
              "      <td>0.101534</td>\n",
              "      <td>0.130487</td>\n",
              "      <td>0.114802</td>\n",
              "      <td>0.047151</td>\n",
              "      <td>0.279070</td>\n",
              "      <td>0.198070</td>\n",
              "      <td>0.0000</td>\n",
              "      <td>1.078125</td>\n",
              "      <td>1.078125</td>\n",
              "      <td>0.131579</td>\n",
              "    </tr>\n",
              "    <tr>\n",
              "      <th>...</th>\n",
              "      <td>...</td>\n",
              "      <td>...</td>\n",
              "      <td>...</td>\n",
              "      <td>...</td>\n",
              "      <td>...</td>\n",
              "      <td>...</td>\n",
              "      <td>...</td>\n",
              "      <td>...</td>\n",
              "      <td>...</td>\n",
              "      <td>...</td>\n",
              "      <td>...</td>\n",
              "      <td>...</td>\n",
              "      <td>...</td>\n",
              "      <td>...</td>\n",
              "      <td>...</td>\n",
              "      <td>...</td>\n",
              "      <td>...</td>\n",
              "      <td>...</td>\n",
              "      <td>...</td>\n",
              "      <td>...</td>\n",
              "      <td>...</td>\n",
              "    </tr>\n",
              "    <tr>\n",
              "      <th>4356</th>\n",
              "      <td>6220</td>\n",
              "      <td>6221</td>\n",
              "      <td>0.241377</td>\n",
              "      <td>0.039956</td>\n",
              "      <td>0.252299</td>\n",
              "      <td>0.225070</td>\n",
              "      <td>0.269297</td>\n",
              "      <td>0.044227</td>\n",
              "      <td>2.730197</td>\n",
              "      <td>11.467950</td>\n",
              "      <td>...</td>\n",
              "      <td>0.270242</td>\n",
              "      <td>0.241377</td>\n",
              "      <td>0.176361</td>\n",
              "      <td>0.047666</td>\n",
              "      <td>0.279070</td>\n",
              "      <td>1.224946</td>\n",
              "      <td>0.0000</td>\n",
              "      <td>6.140625</td>\n",
              "      <td>6.140625</td>\n",
              "      <td>0.093181</td>\n",
              "    </tr>\n",
              "    <tr>\n",
              "      <th>4357</th>\n",
              "      <td>6222</td>\n",
              "      <td>6223</td>\n",
              "      <td>0.235059</td>\n",
              "      <td>0.053056</td>\n",
              "      <td>0.252532</td>\n",
              "      <td>0.231392</td>\n",
              "      <td>0.264468</td>\n",
              "      <td>0.033077</td>\n",
              "      <td>2.869390</td>\n",
              "      <td>12.009156</td>\n",
              "      <td>...</td>\n",
              "      <td>0.254402</td>\n",
              "      <td>0.235059</td>\n",
              "      <td>0.120552</td>\n",
              "      <td>0.047572</td>\n",
              "      <td>0.274286</td>\n",
              "      <td>1.103427</td>\n",
              "      <td>0.0000</td>\n",
              "      <td>10.382812</td>\n",
              "      <td>10.382812</td>\n",
              "      <td>0.056716</td>\n",
              "    </tr>\n",
              "    <tr>\n",
              "      <th>4358</th>\n",
              "      <td>6224</td>\n",
              "      <td>6225</td>\n",
              "      <td>0.230992</td>\n",
              "      <td>0.053711</td>\n",
              "      <td>0.252760</td>\n",
              "      <td>0.223666</td>\n",
              "      <td>0.265731</td>\n",
              "      <td>0.042065</td>\n",
              "      <td>3.277391</td>\n",
              "      <td>15.202833</td>\n",
              "      <td>...</td>\n",
              "      <td>0.267214</td>\n",
              "      <td>0.230992</td>\n",
              "      <td>0.162745</td>\n",
              "      <td>0.047059</td>\n",
              "      <td>0.277457</td>\n",
              "      <td>1.297944</td>\n",
              "      <td>0.1875</td>\n",
              "      <td>11.812500</td>\n",
              "      <td>11.625000</td>\n",
              "      <td>0.081470</td>\n",
              "    </tr>\n",
              "    <tr>\n",
              "      <th>4359</th>\n",
              "      <td>6230</td>\n",
              "      <td>6231</td>\n",
              "      <td>0.240334</td>\n",
              "      <td>0.044747</td>\n",
              "      <td>0.253897</td>\n",
              "      <td>0.233837</td>\n",
              "      <td>0.265619</td>\n",
              "      <td>0.031782</td>\n",
              "      <td>2.826720</td>\n",
              "      <td>11.350446</td>\n",
              "      <td>...</td>\n",
              "      <td>0.264169</td>\n",
              "      <td>0.240334</td>\n",
              "      <td>0.134127</td>\n",
              "      <td>0.046967</td>\n",
              "      <td>0.271186</td>\n",
              "      <td>0.528390</td>\n",
              "      <td>0.0000</td>\n",
              "      <td>3.187500</td>\n",
              "      <td>3.187500</td>\n",
              "      <td>0.065266</td>\n",
              "    </tr>\n",
              "    <tr>\n",
              "      <th>4360</th>\n",
              "      <td>6235</td>\n",
              "      <td>6236</td>\n",
              "      <td>0.227517</td>\n",
              "      <td>0.059336</td>\n",
              "      <td>0.257051</td>\n",
              "      <td>0.198797</td>\n",
              "      <td>0.267371</td>\n",
              "      <td>0.068574</td>\n",
              "      <td>3.287888</td>\n",
              "      <td>14.553146</td>\n",
              "      <td>...</td>\n",
              "      <td>0.270495</td>\n",
              "      <td>0.227517</td>\n",
              "      <td>0.121157</td>\n",
              "      <td>0.047105</td>\n",
              "      <td>0.279070</td>\n",
              "      <td>0.974657</td>\n",
              "      <td>0.0000</td>\n",
              "      <td>10.078125</td>\n",
              "      <td>10.078125</td>\n",
              "      <td>0.064763</td>\n",
              "    </tr>\n",
              "  </tbody>\n",
              "</table>\n",
              "<p>4361 rows × 22 columns</p>\n",
              "</div>\n",
              "      <button class=\"colab-df-convert\" onclick=\"convertToInteractive('df-ef7c7208-d7ec-4b69-8492-f4daa9034686')\"\n",
              "              title=\"Convert this dataframe to an interactive table.\"\n",
              "              style=\"display:none;\">\n",
              "        \n",
              "  <svg xmlns=\"http://www.w3.org/2000/svg\" height=\"24px\"viewBox=\"0 0 24 24\"\n",
              "       width=\"24px\">\n",
              "    <path d=\"M0 0h24v24H0V0z\" fill=\"none\"/>\n",
              "    <path d=\"M18.56 5.44l.94 2.06.94-2.06 2.06-.94-2.06-.94-.94-2.06-.94 2.06-2.06.94zm-11 1L8.5 8.5l.94-2.06 2.06-.94-2.06-.94L8.5 2.5l-.94 2.06-2.06.94zm10 10l.94 2.06.94-2.06 2.06-.94-2.06-.94-.94-2.06-.94 2.06-2.06.94z\"/><path d=\"M17.41 7.96l-1.37-1.37c-.4-.4-.92-.59-1.43-.59-.52 0-1.04.2-1.43.59L10.3 9.45l-7.72 7.72c-.78.78-.78 2.05 0 2.83L4 21.41c.39.39.9.59 1.41.59.51 0 1.02-.2 1.41-.59l7.78-7.78 2.81-2.81c.8-.78.8-2.07 0-2.86zM5.41 20L4 18.59l7.72-7.72 1.47 1.35L5.41 20z\"/>\n",
              "  </svg>\n",
              "      </button>\n",
              "      \n",
              "  <style>\n",
              "    .colab-df-container {\n",
              "      display:flex;\n",
              "      flex-wrap:wrap;\n",
              "      gap: 12px;\n",
              "    }\n",
              "\n",
              "    .colab-df-convert {\n",
              "      background-color: #E8F0FE;\n",
              "      border: none;\n",
              "      border-radius: 50%;\n",
              "      cursor: pointer;\n",
              "      display: none;\n",
              "      fill: #1967D2;\n",
              "      height: 32px;\n",
              "      padding: 0 0 0 0;\n",
              "      width: 32px;\n",
              "    }\n",
              "\n",
              "    .colab-df-convert:hover {\n",
              "      background-color: #E2EBFA;\n",
              "      box-shadow: 0px 1px 2px rgba(60, 64, 67, 0.3), 0px 1px 3px 1px rgba(60, 64, 67, 0.15);\n",
              "      fill: #174EA6;\n",
              "    }\n",
              "\n",
              "    [theme=dark] .colab-df-convert {\n",
              "      background-color: #3B4455;\n",
              "      fill: #D2E3FC;\n",
              "    }\n",
              "\n",
              "    [theme=dark] .colab-df-convert:hover {\n",
              "      background-color: #434B5C;\n",
              "      box-shadow: 0px 1px 3px 1px rgba(0, 0, 0, 0.15);\n",
              "      filter: drop-shadow(0px 1px 2px rgba(0, 0, 0, 0.3));\n",
              "      fill: #FFFFFF;\n",
              "    }\n",
              "  </style>\n",
              "\n",
              "      <script>\n",
              "        const buttonEl =\n",
              "          document.querySelector('#df-ef7c7208-d7ec-4b69-8492-f4daa9034686 button.colab-df-convert');\n",
              "        buttonEl.style.display =\n",
              "          google.colab.kernel.accessAllowed ? 'block' : 'none';\n",
              "\n",
              "        async function convertToInteractive(key) {\n",
              "          const element = document.querySelector('#df-ef7c7208-d7ec-4b69-8492-f4daa9034686');\n",
              "          const dataTable =\n",
              "            await google.colab.kernel.invokeFunction('convertToInteractive',\n",
              "                                                     [key], {});\n",
              "          if (!dataTable) return;\n",
              "\n",
              "          const docLinkHtml = 'Like what you see? Visit the ' +\n",
              "            '<a target=\"_blank\" href=https://colab.research.google.com/notebooks/data_table.ipynb>data table notebook</a>'\n",
              "            + ' to learn more about interactive tables.';\n",
              "          element.innerHTML = '';\n",
              "          dataTable['output_type'] = 'display_data';\n",
              "          await google.colab.output.renderOutput(dataTable, element);\n",
              "          const docLink = document.createElement('div');\n",
              "          docLink.innerHTML = docLinkHtml;\n",
              "          element.appendChild(docLink);\n",
              "        }\n",
              "      </script>\n",
              "    </div>\n",
              "  </div>\n",
              "  "
            ]
          },
          "metadata": {},
          "execution_count": 40
        }
      ]
    },
    {
      "cell_type": "code",
      "source": [
        "y = data.label\n",
        "y"
      ],
      "metadata": {
        "colab": {
          "base_uri": "https://localhost:8080/"
        },
        "id": "ynbk46zbR5Q3",
        "outputId": "aee4ee00-2f05-4f80-86da-ce06f057ad44"
      },
      "execution_count": null,
      "outputs": [
        {
          "output_type": "execute_result",
          "data": {
            "text/plain": [
              "0       2\n",
              "1       2\n",
              "2       0\n",
              "3       2\n",
              "4       0\n",
              "       ..\n",
              "4356    1\n",
              "4357    0\n",
              "4358    2\n",
              "4359    1\n",
              "4360    2\n",
              "Name: label, Length: 4361, dtype: int64"
            ]
          },
          "metadata": {},
          "execution_count": 41
        }
      ]
    },
    {
      "cell_type": "code",
      "source": [
        "import seaborn as sns"
      ],
      "metadata": {
        "id": "NaAdC2e_ce8O"
      },
      "execution_count": null,
      "outputs": []
    },
    {
      "cell_type": "code",
      "source": [
        "#Feature Selection\n",
        "from sklearn.feature_selection import chi2\n",
        "from sklearn.feature_selection import SelectKBest\n",
        "\n",
        "\n",
        "bestfeatures = SelectKBest(score_func=chi2, k=10)\n",
        "fit = bestfeatures.fit(X,y)\n",
        "dfscores = pd.DataFrame(fit.scores_) #ChiSquare value of each feature with respect to y\n",
        "#Higher the chisquare value, more is its contribution/ more valuable is the feature for predicting y\n",
        "dfcolumns = pd.DataFrame(X.columns)\n",
        "featureScores = pd.concat([dfcolumns,dfscores],axis=1)\n",
        "featureScores.columns = ['Specs','Score']\n",
        "print(featureScores.nlargest(15,'Score')) #Choosing the 15 most valuable features"
      ],
      "metadata": {
        "colab": {
          "base_uri": "https://localhost:8080/"
        },
        "id": "czTFEH8ubm1g",
        "outputId": "54f7fa65-cc7a-42ff-d74c-241abb7b0dee"
      },
      "execution_count": null,
      "outputs": [
        {
          "output_type": "stream",
          "name": "stdout",
          "text": [
            "           Specs        Score\n",
            "0   Unnamed: 0.1  5812.729146\n",
            "1     Unnamed: 0  5810.897652\n",
            "9           kurt    19.461315\n",
            "20       dfrange     6.338463\n",
            "19        maxdom     6.185824\n",
            "17       meandom     3.275138\n",
            "8           skew     2.073884\n",
            "18        mindom     0.816030\n",
            "7            IQR     0.446062\n",
            "11           sfm     0.410737\n",
            "12          mode     0.364293\n",
            "5            Q25     0.274910\n",
            "21       modindx     0.125296\n",
            "3             sd     0.081467\n",
            "2       meanfreq     0.039252\n"
          ]
        }
      ]
    },
    {
      "cell_type": "code",
      "source": [
        "l = featureScores.nlargest(15,'Score')['Specs']\n",
        "print(l)\n",
        "x_new = X[l]"
      ],
      "metadata": {
        "colab": {
          "base_uri": "https://localhost:8080/"
        },
        "id": "r_uH9GLTdtxZ",
        "outputId": "665b0223-9535-472d-f08a-de2cfe3ebefa"
      },
      "execution_count": null,
      "outputs": [
        {
          "output_type": "stream",
          "name": "stdout",
          "text": [
            "0     Unnamed: 0.1\n",
            "1       Unnamed: 0\n",
            "9             kurt\n",
            "20         dfrange\n",
            "19          maxdom\n",
            "17         meandom\n",
            "8             skew\n",
            "18          mindom\n",
            "7              IQR\n",
            "11             sfm\n",
            "12            mode\n",
            "5              Q25\n",
            "21         modindx\n",
            "3               sd\n",
            "2         meanfreq\n",
            "Name: Specs, dtype: object\n"
          ]
        }
      ]
    },
    {
      "cell_type": "code",
      "source": [
        "x_new.columns"
      ],
      "metadata": {
        "colab": {
          "base_uri": "https://localhost:8080/"
        },
        "id": "CU74iyvjh73I",
        "outputId": "3bce0679-23f5-4530-eabd-c696b36c6443"
      },
      "execution_count": null,
      "outputs": [
        {
          "output_type": "execute_result",
          "data": {
            "text/plain": [
              "Index(['Unnamed: 0.1', 'Unnamed: 0', 'kurt', 'dfrange', 'maxdom', 'meandom',\n",
              "       'skew', 'mindom', 'IQR', 'sfm', 'mode', 'Q25', 'modindx', 'sd',\n",
              "       'meanfreq'],\n",
              "      dtype='object')"
            ]
          },
          "metadata": {},
          "execution_count": 45
        }
      ]
    },
    {
      "cell_type": "code",
      "source": [
        "corrmat = x_new.corr()\n",
        "top_corr_features = corrmat.index\n",
        "plt.figure(figsize=(20,20))\n",
        "#plot heat map\n",
        "g=sns.heatmap(x_new[top_corr_features].corr(),annot=True,cmap=\"RdYlGn\")"
      ],
      "metadata": {
        "colab": {
          "base_uri": "https://localhost:8080/",
          "height": 1000
        },
        "id": "7FmvPBCIg-XV",
        "outputId": "a73bbcfc-482b-45e0-96fa-47d97e2a9171"
      },
      "execution_count": null,
      "outputs": [
        {
          "output_type": "display_data",
          "data": {
            "text/plain": [
              "<Figure size 2000x2000 with 2 Axes>"
            ],
            "image/png": "[encoded data removed]"
          },
          "metadata": {}
        }
      ]
    },
    {
      "cell_type": "markdown",
      "source": [
        "In above heatmap we can see that 'Unnamed: 0.1' and  'Unnamed: 0' has correlation value of 1 and same for 'dfrange' and 'maxdom'. So we drop columns 'Unnamed:0' and 'maxdom'"
      ],
      "metadata": {
        "id": "4BFeKeHmjGoI"
      }
    },
    {
      "cell_type": "code",
      "source": [
        "x_new = x_new[['Unnamed: 0.1', 'kurt', 'dfrange', 'meandom',\n",
        "       'skew', 'mindom', 'IQR', 'sfm', 'mode', 'Q25', 'modindx', 'sd',\n",
        "       'meanfreq']]"
      ],
      "metadata": {
        "id": "Z4gcCb6UhK7x"
      },
      "execution_count": null,
      "outputs": []
    },
    {
      "cell_type": "code",
      "source": [
        "X_train, X_test, y_train, y_test = train_test_split(x_new, y, test_size=0.2)\n",
        "print(len(X_train), len(X_test))"
      ],
      "metadata": {
        "colab": {
          "base_uri": "https://localhost:8080/"
        },
        "id": "_rvY-1UuSF0E",
        "outputId": "e7ad5e40-36b7-411b-bfd0-a6856930992d"
      },
      "execution_count": null,
      "outputs": [
        {
          "output_type": "stream",
          "name": "stdout",
          "text": [
            "3488 873\n"
          ]
        }
      ]
    },
    {
      "cell_type": "markdown",
      "source": [
        "**Decision Tree:**"
      ],
      "metadata": {
        "id": "0jArubmmR8nx"
      }
    },
    {
      "cell_type": "code",
      "source": [
        "TreeModel = tree.DecisionTreeClassifier()\n",
        "TreeModel.fit(X_train, y_train)"
      ],
      "metadata": {
        "colab": {
          "base_uri": "https://localhost:8080/",
          "height": 75
        },
        "id": "1vswBFYwSBLI",
        "outputId": "1809533f-e8f2-47e3-98c9-9c91c6ea29d9"
      },
      "execution_count": null,
      "outputs": [
        {
          "output_type": "execute_result",
          "data": {
            "text/plain": [
              "DecisionTreeClassifier()"
            ],
            "text/html": [
              "<style>#sk-container-id-1 {color: black;background-color: white;}#sk-container-id-1 pre{padding: 0;}#sk-container-id-1 div.sk-toggleable {background-color: white;}#sk-container-id-1 label.sk-toggleable__label {cursor: pointer;display: block;width: 100%;margin-bottom: 0;padding: 0.3em;box-sizing: border-box;text-align: center;}#sk-container-id-1 label.sk-toggleable__label-arrow:before {content: \"▸\";float: left;margin-right: 0.25em;color: #696969;}#sk-container-id-1 label.sk-toggleable__label-arrow:hover:before {color: black;}#sk-container-id-1 div.sk-estimator:hover label.sk-toggleable__label-arrow:before {color: black;}#sk-container-id-1 div.sk-toggleable__content {max-height: 0;max-width: 0;overflow: hidden;text-align: left;background-color: #f0f8ff;}#sk-container-id-1 div.sk-toggleable__content pre {margin: 0.2em;color: black;border-radius: 0.25em;background-color: #f0f8ff;}#sk-container-id-1 input.sk-toggleable__control:checked~div.sk-toggleable__content {max-height: 200px;max-width: 100%;overflow: auto;}#sk-container-id-1 input.sk-toggleable__control:checked~label.sk-toggleable__label-arrow:before {content: \"▾\";}#sk-container-id-1 div.sk-estimator input.sk-toggleable__control:checked~label.sk-toggleable__label {background-color: #d4ebff;}#sk-container-id-1 div.sk-label input.sk-toggleable__control:checked~label.sk-toggleable__label {background-color: #d4ebff;}#sk-container-id-1 input.sk-hidden--visually {border: 0;clip: rect(1px 1px 1px 1px);clip: rect(1px, 1px, 1px, 1px);height: 1px;margin: -1px;overflow: hidden;padding: 0;position: absolute;width: 1px;}#sk-container-id-1 div.sk-estimator {font-family: monospace;background-color: #f0f8ff;border: 1px dotted black;border-radius: 0.25em;box-sizing: border-box;margin-bottom: 0.5em;}#sk-container-id-1 div.sk-estimator:hover {background-color: #d4ebff;}#sk-container-id-1 div.sk-parallel-item::after {content: \"\";width: 100%;border-bottom: 1px solid gray;flex-grow: 1;}#sk-container-id-1 div.sk-label:hover label.sk-toggleable__label {background-color: #d4ebff;}#sk-container-id-1 div.sk-serial::before {content: \"\";position: absolute;border-left: 1px solid gray;box-sizing: border-box;top: 0;bottom: 0;left: 50%;z-index: 0;}#sk-container-id-1 div.sk-serial {display: flex;flex-direction: column;align-items: center;background-color: white;padding-right: 0.2em;padding-left: 0.2em;position: relative;}#sk-container-id-1 div.sk-item {position: relative;z-index: 1;}#sk-container-id-1 div.sk-parallel {display: flex;align-items: stretch;justify-content: center;background-color: white;position: relative;}#sk-container-id-1 div.sk-item::before, #sk-container-id-1 div.sk-parallel-item::before {content: \"\";position: absolute;border-left: 1px solid gray;box-sizing: border-box;top: 0;bottom: 0;left: 50%;z-index: -1;}#sk-container-id-1 div.sk-parallel-item {display: flex;flex-direction: column;z-index: 1;position: relative;background-color: white;}#sk-container-id-1 div.sk-parallel-item:first-child::after {align-self: flex-end;width: 50%;}#sk-container-id-1 div.sk-parallel-item:last-child::after {align-self: flex-start;width: 50%;}#sk-container-id-1 div.sk-parallel-item:only-child::after {width: 0;}#sk-container-id-1 div.sk-dashed-wrapped {border: 1px dashed gray;margin: 0 0.4em 0.5em 0.4em;box-sizing: border-box;padding-bottom: 0.4em;background-color: white;}#sk-container-id-1 div.sk-label label {font-family: monospace;font-weight: bold;display: inline-block;line-height: 1.2em;}#sk-container-id-1 div.sk-label-container {text-align: center;}#sk-container-id-1 div.sk-container {/* jupyter's `normalize.less` sets `[hidden] { display: none; }` but bootstrap.min.css set `[hidden] { display: none !important; }` so we also need the `!important` here to be able to override the default hidden behavior on the sphinx rendered scikit-learn.org. See: https://github.com/scikit-learn/scikit-learn/issues/21755 */display: inline-block !important;position: relative;}#sk-container-id-1 div.sk-text-repr-fallback {display: none;}</style><div id=\"sk-container-id-1\" class=\"sk-top-container\"><div class=\"sk-text-repr-fallback\"><pre>DecisionTreeClassifier()</pre><b>In a Jupyter environment, please rerun this cell to show the HTML representation or trust the notebook. <br />On GitHub, the HTML representation is unable to render, please try loading this page with nbviewer.org.</b></div><div class=\"sk-container\" hidden><div class=\"sk-item\"><div class=\"sk-estimator sk-toggleable\"><input class=\"sk-toggleable__control sk-hidden--visually\" id=\"sk-estimator-id-1\" type=\"checkbox\" checked><label for=\"sk-estimator-id-1\" class=\"sk-toggleable__label sk-toggleable__label-arrow\">DecisionTreeClassifier</label><div class=\"sk-toggleable__content\"><pre>DecisionTreeClassifier()</pre></div></div></div></div></div>"
            ]
          },
          "metadata": {},
          "execution_count": 49
        }
      ]
    },
    {
      "cell_type": "code",
      "source": [
        "print(TreeModel.score(X_train, y_train))\n",
        "print(TreeModel.score(X_test, y_test))"
      ],
      "metadata": {
        "colab": {
          "base_uri": "https://localhost:8080/"
        },
        "id": "_80pxdp0Sfx9",
        "outputId": "8cb3d125-269a-4136-bd3e-508f4716dabd"
      },
      "execution_count": null,
      "outputs": [
        {
          "output_type": "stream",
          "name": "stdout",
          "text": [
            "1.0\n",
            "0.5028636884306987\n"
          ]
        }
      ]
    },
    {
      "cell_type": "code",
      "source": [
        "y_pred = TreeModel.predict(X_test)\n",
        "import matplotlib.pyplot as plt\n",
        "from sklearn.metrics import confusion_matrix\n",
        "from sklearn.metrics import ConfusionMatrixDisplay\n",
        "\n",
        "cm = confusion_matrix(y_test, y_pred)\n",
        "cm2 = ConfusionMatrixDisplay(confusion_matrix=cm)\n",
        "cm2.plot()\n",
        "plt.show()"
      ],
      "metadata": {
        "id": "5DMiWzXXjsHy",
        "outputId": "99f4a6c1-6ee3-439a-fb1a-006289f5c4a5",
        "colab": {
          "base_uri": "https://localhost:8080/",
          "height": 455
        }
      },
      "execution_count": null,
      "outputs": [
        {
          "output_type": "display_data",
          "data": {
            "text/plain": [
              "<Figure size 640x480 with 2 Axes>"
            ],
            "image/png": "[encoded data removed]"
          },
          "metadata": {}
        }
      ]
    },
    {
      "cell_type": "code",
      "source": [
        "from sklearn.metrics import precision_score, accuracy_score, recall_score, f1_score\n",
        "\n",
        "print(f\"Accuracy: {round(accuracy_score(y_test, y_pred),3)}\")\n",
        "print(f\"precision: {round(precision_score(y_test, y_pred, average='micro'),3)}\")\n",
        "print(f\"recall: {round(recall_score(y_test, y_pred, average='micro'),3)}\")\n",
        "print(f\"f1: {round(accuracy_score(y_test, y_pred), 3)}\")"
      ],
      "metadata": {
        "colab": {
          "base_uri": "https://localhost:8080/"
        },
        "id": "rWcEaPP3FAX1",
        "outputId": "c56bedb0-2f0f-4392-eae6-f8287d772e4d"
      },
      "execution_count": null,
      "outputs": [
        {
          "output_type": "stream",
          "name": "stdout",
          "text": [
            "Accuracy: 0.503\n",
            "precision: 0.503\n",
            "recall: 0.503\n",
            "f1: 0.503\n"
          ]
        }
      ]
    },
    {
      "cell_type": "markdown",
      "source": [
        "**Random Forest Classification:**"
      ],
      "metadata": {
        "id": "OxI1689ES5Cq"
      }
    },
    {
      "cell_type": "code",
      "source": [
        "RFModel = RandomForestClassifier()\n",
        "RFModel.fit(X_train, y_train)"
      ],
      "metadata": {
        "colab": {
          "base_uri": "https://localhost:8080/",
          "height": 75
        },
        "id": "Acro_BpUTEtC",
        "outputId": "faabbced-a5ba-44d3-e4e6-0d09d9cc6daa"
      },
      "execution_count": null,
      "outputs": [
        {
          "output_type": "execute_result",
          "data": {
            "text/plain": [
              "RandomForestClassifier()"
            ],
            "text/html": [
              "<style>#sk-container-id-2 {color: black;background-color: white;}#sk-container-id-2 pre{padding: 0;}#sk-container-id-2 div.sk-toggleable {background-color: white;}#sk-container-id-2 label.sk-toggleable__label {cursor: pointer;display: block;width: 100%;margin-bottom: 0;padding: 0.3em;box-sizing: border-box;text-align: center;}#sk-container-id-2 label.sk-toggleable__label-arrow:before {content: \"▸\";float: left;margin-right: 0.25em;color: #696969;}#sk-container-id-2 label.sk-toggleable__label-arrow:hover:before {color: black;}#sk-container-id-2 div.sk-estimator:hover label.sk-toggleable__label-arrow:before {color: black;}#sk-container-id-2 div.sk-toggleable__content {max-height: 0;max-width: 0;overflow: hidden;text-align: left;background-color: #f0f8ff;}#sk-container-id-2 div.sk-toggleable__content pre {margin: 0.2em;color: black;border-radius: 0.25em;background-color: #f0f8ff;}#sk-container-id-2 input.sk-toggleable__control:checked~div.sk-toggleable__content {max-height: 200px;max-width: 100%;overflow: auto;}#sk-container-id-2 input.sk-toggleable__control:checked~label.sk-toggleable__label-arrow:before {content: \"▾\";}#sk-container-id-2 div.sk-estimator input.sk-toggleable__control:checked~label.sk-toggleable__label {background-color: #d4ebff;}#sk-container-id-2 div.sk-label input.sk-toggleable__control:checked~label.sk-toggleable__label {background-color: #d4ebff;}#sk-container-id-2 input.sk-hidden--visually {border: 0;clip: rect(1px 1px 1px 1px);clip: rect(1px, 1px, 1px, 1px);height: 1px;margin: -1px;overflow: hidden;padding: 0;position: absolute;width: 1px;}#sk-container-id-2 div.sk-estimator {font-family: monospace;background-color: #f0f8ff;border: 1px dotted black;border-radius: 0.25em;box-sizing: border-box;margin-bottom: 0.5em;}#sk-container-id-2 div.sk-estimator:hover {background-color: #d4ebff;}#sk-container-id-2 div.sk-parallel-item::after {content: \"\";width: 100%;border-bottom: 1px solid gray;flex-grow: 1;}#sk-container-id-2 div.sk-label:hover label.sk-toggleable__label {background-color: #d4ebff;}#sk-container-id-2 div.sk-serial::before {content: \"\";position: absolute;border-left: 1px solid gray;box-sizing: border-box;top: 0;bottom: 0;left: 50%;z-index: 0;}#sk-container-id-2 div.sk-serial {display: flex;flex-direction: column;align-items: center;background-color: white;padding-right: 0.2em;padding-left: 0.2em;position: relative;}#sk-container-id-2 div.sk-item {position: relative;z-index: 1;}#sk-container-id-2 div.sk-parallel {display: flex;align-items: stretch;justify-content: center;background-color: white;position: relative;}#sk-container-id-2 div.sk-item::before, #sk-container-id-2 div.sk-parallel-item::before {content: \"\";position: absolute;border-left: 1px solid gray;box-sizing: border-box;top: 0;bottom: 0;left: 50%;z-index: -1;}#sk-container-id-2 div.sk-parallel-item {display: flex;flex-direction: column;z-index: 1;position: relative;background-color: white;}#sk-container-id-2 div.sk-parallel-item:first-child::after {align-self: flex-end;width: 50%;}#sk-container-id-2 div.sk-parallel-item:last-child::after {align-self: flex-start;width: 50%;}#sk-container-id-2 div.sk-parallel-item:only-child::after {width: 0;}#sk-container-id-2 div.sk-dashed-wrapped {border: 1px dashed gray;margin: 0 0.4em 0.5em 0.4em;box-sizing: border-box;padding-bottom: 0.4em;background-color: white;}#sk-container-id-2 div.sk-label label {font-family: monospace;font-weight: bold;display: inline-block;line-height: 1.2em;}#sk-container-id-2 div.sk-label-container {text-align: center;}#sk-container-id-2 div.sk-container {/* jupyter's `normalize.less` sets `[hidden] { display: none; }` but bootstrap.min.css set `[hidden] { display: none !important; }` so we also need the `!important` here to be able to override the default hidden behavior on the sphinx rendered scikit-learn.org. See: https://github.com/scikit-learn/scikit-learn/issues/21755 */display: inline-block !important;position: relative;}#sk-container-id-2 div.sk-text-repr-fallback {display: none;}</style><div id=\"sk-container-id-2\" class=\"sk-top-container\"><div class=\"sk-text-repr-fallback\"><pre>RandomForestClassifier()</pre><b>In a Jupyter environment, please rerun this cell to show the HTML representation or trust the notebook. <br />On GitHub, the HTML representation is unable to render, please try loading this page with nbviewer.org.</b></div><div class=\"sk-container\" hidden><div class=\"sk-item\"><div class=\"sk-estimator sk-toggleable\"><input class=\"sk-toggleable__control sk-hidden--visually\" id=\"sk-estimator-id-2\" type=\"checkbox\" checked><label for=\"sk-estimator-id-2\" class=\"sk-toggleable__label sk-toggleable__label-arrow\">RandomForestClassifier</label><div class=\"sk-toggleable__content\"><pre>RandomForestClassifier()</pre></div></div></div></div></div>"
            ]
          },
          "metadata": {},
          "execution_count": 53
        }
      ]
    },
    {
      "cell_type": "code",
      "source": [
        "y_pred = RFModel.predict(X_test)"
      ],
      "metadata": {
        "id": "g2FLHDO9TRIh"
      },
      "execution_count": null,
      "outputs": []
    },
    {
      "cell_type": "code",
      "source": [
        "print(RFModel.score(X_train, y_train))\n",
        "print(RFModel.score(X_test, y_test))"
      ],
      "metadata": {
        "colab": {
          "base_uri": "https://localhost:8080/"
        },
        "id": "Vpi-NlsQV6_X",
        "outputId": "218e7b48-2e5a-4a81-d9d5-db18db19c852"
      },
      "execution_count": null,
      "outputs": [
        {
          "output_type": "stream",
          "name": "stdout",
          "text": [
            "1.0\n",
            "0.581901489117984\n"
          ]
        }
      ]
    },
    {
      "cell_type": "code",
      "source": [
        "y_pred = RFModel.predict(X_test)\n",
        "import matplotlib.pyplot as plt\n",
        "from sklearn.metrics import confusion_matrix\n",
        "from sklearn.metrics import ConfusionMatrixDisplay\n",
        "\n",
        "cm = confusion_matrix(y_test, y_pred)\n",
        "cm2 = ConfusionMatrixDisplay(confusion_matrix=cm)\n",
        "cm2.plot()\n",
        "plt.show()"
      ],
      "metadata": {
        "id": "4s3a-badjqQ7",
        "outputId": "01c7f301-880f-48b6-a941-c26b4d5c67c1",
        "colab": {
          "base_uri": "https://localhost:8080/",
          "height": 449
        }
      },
      "execution_count": null,
      "outputs": [
        {
          "output_type": "display_data",
          "data": {
            "text/plain": [
              "<Figure size 640x480 with 2 Axes>"
            ],
            "image/png": "[encoded data removed]"
          },
          "metadata": {}
        }
      ]
    },
    {
      "cell_type": "code",
      "source": [
        "from sklearn.metrics import precision_score, accuracy_score, recall_score, f1_score\n",
        "\n",
        "print(f\"Accuracy: {round(accuracy_score(y_test, y_pred),3)}\")\n",
        "print(f\"precision: {round(precision_score(y_test, y_pred, average='micro'),3)}\")\n",
        "print(f\"recall: {round(recall_score(y_test, y_pred, average='micro'),3)}\")\n",
        "print(f\"f1: {round(accuracy_score(y_test, y_pred), 3)}\")"
      ],
      "metadata": {
        "colab": {
          "base_uri": "https://localhost:8080/"
        },
        "outputId": "47e15ae4-8afe-4217-8d6a-0a37773b4813",
        "id": "O9PG9gTjB9jO"
      },
      "execution_count": null,
      "outputs": [
        {
          "output_type": "stream",
          "name": "stdout",
          "text": [
            "Accuracy: 0.582\n",
            "precision: 0.582\n",
            "recall: 0.582\n",
            "f1: 0.582\n"
          ]
        }
      ]
    },
    {
      "cell_type": "markdown",
      "source": [
        "**SVM:**"
      ],
      "metadata": {
        "id": "yYYFeNb2Tqme"
      }
    },
    {
      "cell_type": "code",
      "source": [
        "SVMClassifier = SVC(gamma=0.001, C=0.5)\n",
        "SVMClassifier.fit(X_train, y_train)"
      ],
      "metadata": {
        "colab": {
          "base_uri": "https://localhost:8080/",
          "height": 75
        },
        "id": "1FWqZH1-Ttl8",
        "outputId": "4b078c6e-0ecb-43d4-fc32-6ff0a4acc11a"
      },
      "execution_count": null,
      "outputs": [
        {
          "output_type": "execute_result",
          "data": {
            "text/plain": [
              "SVC(C=0.5, gamma=0.001)"
            ],
            "text/html": [
              "<style>#sk-container-id-3 {color: black;background-color: white;}#sk-container-id-3 pre{padding: 0;}#sk-container-id-3 div.sk-toggleable {background-color: white;}#sk-container-id-3 label.sk-toggleable__label {cursor: pointer;display: block;width: 100%;margin-bottom: 0;padding: 0.3em;box-sizing: border-box;text-align: center;}#sk-container-id-3 label.sk-toggleable__label-arrow:before {content: \"▸\";float: left;margin-right: 0.25em;color: #696969;}#sk-container-id-3 label.sk-toggleable__label-arrow:hover:before {color: black;}#sk-container-id-3 div.sk-estimator:hover label.sk-toggleable__label-arrow:before {color: black;}#sk-container-id-3 div.sk-toggleable__content {max-height: 0;max-width: 0;overflow: hidden;text-align: left;background-color: #f0f8ff;}#sk-container-id-3 div.sk-toggleable__content pre {margin: 0.2em;color: black;border-radius: 0.25em;background-color: #f0f8ff;}#sk-container-id-3 input.sk-toggleable__control:checked~div.sk-toggleable__content {max-height: 200px;max-width: 100%;overflow: auto;}#sk-container-id-3 input.sk-toggleable__control:checked~label.sk-toggleable__label-arrow:before {content: \"▾\";}#sk-container-id-3 div.sk-estimator input.sk-toggleable__control:checked~label.sk-toggleable__label {background-color: #d4ebff;}#sk-container-id-3 div.sk-label input.sk-toggleable__control:checked~label.sk-toggleable__label {background-color: #d4ebff;}#sk-container-id-3 input.sk-hidden--visually {border: 0;clip: rect(1px 1px 1px 1px);clip: rect(1px, 1px, 1px, 1px);height: 1px;margin: -1px;overflow: hidden;padding: 0;position: absolute;width: 1px;}#sk-container-id-3 div.sk-estimator {font-family: monospace;background-color: #f0f8ff;border: 1px dotted black;border-radius: 0.25em;box-sizing: border-box;margin-bottom: 0.5em;}#sk-container-id-3 div.sk-estimator:hover {background-color: #d4ebff;}#sk-container-id-3 div.sk-parallel-item::after {content: \"\";width: 100%;border-bottom: 1px solid gray;flex-grow: 1;}#sk-container-id-3 div.sk-label:hover label.sk-toggleable__label {background-color: #d4ebff;}#sk-container-id-3 div.sk-serial::before {content: \"\";position: absolute;border-left: 1px solid gray;box-sizing: border-box;top: 0;bottom: 0;left: 50%;z-index: 0;}#sk-container-id-3 div.sk-serial {display: flex;flex-direction: column;align-items: center;background-color: white;padding-right: 0.2em;padding-left: 0.2em;position: relative;}#sk-container-id-3 div.sk-item {position: relative;z-index: 1;}#sk-container-id-3 div.sk-parallel {display: flex;align-items: stretch;justify-content: center;background-color: white;position: relative;}#sk-container-id-3 div.sk-item::before, #sk-container-id-3 div.sk-parallel-item::before {content: \"\";position: absolute;border-left: 1px solid gray;box-sizing: border-box;top: 0;bottom: 0;left: 50%;z-index: -1;}#sk-container-id-3 div.sk-parallel-item {display: flex;flex-direction: column;z-index: 1;position: relative;background-color: white;}#sk-container-id-3 div.sk-parallel-item:first-child::after {align-self: flex-end;width: 50%;}#sk-container-id-3 div.sk-parallel-item:last-child::after {align-self: flex-start;width: 50%;}#sk-container-id-3 div.sk-parallel-item:only-child::after {width: 0;}#sk-container-id-3 div.sk-dashed-wrapped {border: 1px dashed gray;margin: 0 0.4em 0.5em 0.4em;box-sizing: border-box;padding-bottom: 0.4em;background-color: white;}#sk-container-id-3 div.sk-label label {font-family: monospace;font-weight: bold;display: inline-block;line-height: 1.2em;}#sk-container-id-3 div.sk-label-container {text-align: center;}#sk-container-id-3 div.sk-container {/* jupyter's `normalize.less` sets `[hidden] { display: none; }` but bootstrap.min.css set `[hidden] { display: none !important; }` so we also need the `!important` here to be able to override the default hidden behavior on the sphinx rendered scikit-learn.org. See: https://github.com/scikit-learn/scikit-learn/issues/21755 */display: inline-block !important;position: relative;}#sk-container-id-3 div.sk-text-repr-fallback {display: none;}</style><div id=\"sk-container-id-3\" class=\"sk-top-container\"><div class=\"sk-text-repr-fallback\"><pre>SVC(C=0.5, gamma=0.001)</pre><b>In a Jupyter environment, please rerun this cell to show the HTML representation or trust the notebook. <br />On GitHub, the HTML representation is unable to render, please try loading this page with nbviewer.org.</b></div><div class=\"sk-container\" hidden><div class=\"sk-item\"><div class=\"sk-estimator sk-toggleable\"><input class=\"sk-toggleable__control sk-hidden--visually\" id=\"sk-estimator-id-3\" type=\"checkbox\" checked><label for=\"sk-estimator-id-3\" class=\"sk-toggleable__label sk-toggleable__label-arrow\">SVC</label><div class=\"sk-toggleable__content\"><pre>SVC(C=0.5, gamma=0.001)</pre></div></div></div></div></div>"
            ]
          },
          "metadata": {},
          "execution_count": 58
        }
      ]
    },
    {
      "cell_type": "code",
      "source": [
        "print(SVMClassifier.score(X_train, y_train))\n",
        "print(SVMClassifier.score(X_test, y_test))"
      ],
      "metadata": {
        "colab": {
          "base_uri": "https://localhost:8080/"
        },
        "id": "B1e3181zU30X",
        "outputId": "50e4cebc-9c81-4fac-fe9f-390bbb1d3f04"
      },
      "execution_count": null,
      "outputs": [
        {
          "output_type": "stream",
          "name": "stdout",
          "text": [
            "0.5298165137614679\n",
            "0.44558991981672397\n"
          ]
        }
      ]
    },
    {
      "cell_type": "code",
      "source": [
        "y_pred = SVMClassifier.predict(X_test)\n",
        "import matplotlib.pyplot as plt\n",
        "from sklearn.metrics import confusion_matrix\n",
        "from sklearn.metrics import ConfusionMatrixDisplay\n",
        "\n",
        "cm = confusion_matrix(y_test, y_pred)\n",
        "cm2 = ConfusionMatrixDisplay(confusion_matrix=cm)\n",
        "cm2.plot()\n",
        "plt.show()"
      ],
      "metadata": {
        "colab": {
          "base_uri": "https://localhost:8080/",
          "height": 449
        },
        "id": "lATuiIn5jl8C",
        "outputId": "f78b0c69-ab2f-4a8f-d257-4b94fd241012"
      },
      "execution_count": null,
      "outputs": [
        {
          "output_type": "display_data",
          "data": {
            "text/plain": [
              "<Figure size 640x480 with 2 Axes>"
            ],
            "image/png": "[encoded data removed]"
          },
          "metadata": {}
        }
      ]
    },
    {
      "cell_type": "code",
      "source": [
        "from sklearn.metrics import precision_score, accuracy_score, recall_score, f1_score\n",
        "\n",
        "print(f\"Accuracy: {round(accuracy_score(y_test, y_pred),3)}\")\n",
        "print(f\"precision: {round(precision_score(y_test, y_pred, average='micro'),3)}\")\n",
        "print(f\"recall: {round(recall_score(y_test, y_pred, average='micro'),3)}\")\n",
        "print(f\"f1: {round(accuracy_score(y_test, y_pred), 3)}\")"
      ],
      "metadata": {
        "colab": {
          "base_uri": "https://localhost:8080/"
        },
        "outputId": "ff10521f-f963-46b0-c647-06e846ba6fe5",
        "id": "ODqvxt7mCFpk"
      },
      "execution_count": null,
      "outputs": [
        {
          "output_type": "stream",
          "name": "stdout",
          "text": [
            "Accuracy: 0.446\n",
            "precision: 0.446\n",
            "recall: 0.446\n",
            "f1: 0.446\n"
          ]
        }
      ]
    },
    {
      "cell_type": "markdown",
      "source": [
        "KNN:"
      ],
      "metadata": {
        "id": "txviDBYIJQQS"
      }
    },
    {
      "cell_type": "code",
      "source": [
        "from sklearn.neighbors import KNeighborsClassifier\n",
        "knn=KNeighborsClassifier(n_neighbors=7)\n",
        "knn.fit(X_train,y_train)"
      ],
      "metadata": {
        "colab": {
          "base_uri": "https://localhost:8080/",
          "height": 75
        },
        "id": "KbYJmHqSJPs7",
        "outputId": "433f9c48-7225-423c-8522-7eb470fa3a9d"
      },
      "execution_count": null,
      "outputs": [
        {
          "output_type": "execute_result",
          "data": {
            "text/plain": [
              "KNeighborsClassifier(n_neighbors=7)"
            ],
            "text/html": [
              "<style>#sk-container-id-4 {color: black;background-color: white;}#sk-container-id-4 pre{padding: 0;}#sk-container-id-4 div.sk-toggleable {background-color: white;}#sk-container-id-4 label.sk-toggleable__label {cursor: pointer;display: block;width: 100%;margin-bottom: 0;padding: 0.3em;box-sizing: border-box;text-align: center;}#sk-container-id-4 label.sk-toggleable__label-arrow:before {content: \"▸\";float: left;margin-right: 0.25em;color: #696969;}#sk-container-id-4 label.sk-toggleable__label-arrow:hover:before {color: black;}#sk-container-id-4 div.sk-estimator:hover label.sk-toggleable__label-arrow:before {color: black;}#sk-container-id-4 div.sk-toggleable__content {max-height: 0;max-width: 0;overflow: hidden;text-align: left;background-color: #f0f8ff;}#sk-container-id-4 div.sk-toggleable__content pre {margin: 0.2em;color: black;border-radius: 0.25em;background-color: #f0f8ff;}#sk-container-id-4 input.sk-toggleable__control:checked~div.sk-toggleable__content {max-height: 200px;max-width: 100%;overflow: auto;}#sk-container-id-4 input.sk-toggleable__control:checked~label.sk-toggleable__label-arrow:before {content: \"▾\";}#sk-container-id-4 div.sk-estimator input.sk-toggleable__control:checked~label.sk-toggleable__label {background-color: #d4ebff;}#sk-container-id-4 div.sk-label input.sk-toggleable__control:checked~label.sk-toggleable__label {background-color: #d4ebff;}#sk-container-id-4 input.sk-hidden--visually {border: 0;clip: rect(1px 1px 1px 1px);clip: rect(1px, 1px, 1px, 1px);height: 1px;margin: -1px;overflow: hidden;padding: 0;position: absolute;width: 1px;}#sk-container-id-4 div.sk-estimator {font-family: monospace;background-color: #f0f8ff;border: 1px dotted black;border-radius: 0.25em;box-sizing: border-box;margin-bottom: 0.5em;}#sk-container-id-4 div.sk-estimator:hover {background-color: #d4ebff;}#sk-container-id-4 div.sk-parallel-item::after {content: \"\";width: 100%;border-bottom: 1px solid gray;flex-grow: 1;}#sk-container-id-4 div.sk-label:hover label.sk-toggleable__label {background-color: #d4ebff;}#sk-container-id-4 div.sk-serial::before {content: \"\";position: absolute;border-left: 1px solid gray;box-sizing: border-box;top: 0;bottom: 0;left: 50%;z-index: 0;}#sk-container-id-4 div.sk-serial {display: flex;flex-direction: column;align-items: center;background-color: white;padding-right: 0.2em;padding-left: 0.2em;position: relative;}#sk-container-id-4 div.sk-item {position: relative;z-index: 1;}#sk-container-id-4 div.sk-parallel {display: flex;align-items: stretch;justify-content: center;background-color: white;position: relative;}#sk-container-id-4 div.sk-item::before, #sk-container-id-4 div.sk-parallel-item::before {content: \"\";position: absolute;border-left: 1px solid gray;box-sizing: border-box;top: 0;bottom: 0;left: 50%;z-index: -1;}#sk-container-id-4 div.sk-parallel-item {display: flex;flex-direction: column;z-index: 1;position: relative;background-color: white;}#sk-container-id-4 div.sk-parallel-item:first-child::after {align-self: flex-end;width: 50%;}#sk-container-id-4 div.sk-parallel-item:last-child::after {align-self: flex-start;width: 50%;}#sk-container-id-4 div.sk-parallel-item:only-child::after {width: 0;}#sk-container-id-4 div.sk-dashed-wrapped {border: 1px dashed gray;margin: 0 0.4em 0.5em 0.4em;box-sizing: border-box;padding-bottom: 0.4em;background-color: white;}#sk-container-id-4 div.sk-label label {font-family: monospace;font-weight: bold;display: inline-block;line-height: 1.2em;}#sk-container-id-4 div.sk-label-container {text-align: center;}#sk-container-id-4 div.sk-container {/* jupyter's `normalize.less` sets `[hidden] { display: none; }` but bootstrap.min.css set `[hidden] { display: none !important; }` so we also need the `!important` here to be able to override the default hidden behavior on the sphinx rendered scikit-learn.org. See: https://github.com/scikit-learn/scikit-learn/issues/21755 */display: inline-block !important;position: relative;}#sk-container-id-4 div.sk-text-repr-fallback {display: none;}</style><div id=\"sk-container-id-4\" class=\"sk-top-container\"><div class=\"sk-text-repr-fallback\"><pre>KNeighborsClassifier(n_neighbors=7)</pre><b>In a Jupyter environment, please rerun this cell to show the HTML representation or trust the notebook. <br />On GitHub, the HTML representation is unable to render, please try loading this page with nbviewer.org.</b></div><div class=\"sk-container\" hidden><div class=\"sk-item\"><div class=\"sk-estimator sk-toggleable\"><input class=\"sk-toggleable__control sk-hidden--visually\" id=\"sk-estimator-id-4\" type=\"checkbox\" checked><label for=\"sk-estimator-id-4\" class=\"sk-toggleable__label sk-toggleable__label-arrow\">KNeighborsClassifier</label><div class=\"sk-toggleable__content\"><pre>KNeighborsClassifier(n_neighbors=7)</pre></div></div></div></div></div>"
            ]
          },
          "metadata": {},
          "execution_count": 62
        }
      ]
    },
    {
      "cell_type": "code",
      "source": [
        "print(knn.score(X_train, y_train))\n",
        "print(knn.score(X_test, y_test))"
      ],
      "metadata": {
        "colab": {
          "base_uri": "https://localhost:8080/"
        },
        "id": "_4UZ5YfEJU3K",
        "outputId": "a05eb94b-a8d1-4c66-cd5b-da259fb26e0d"
      },
      "execution_count": null,
      "outputs": [
        {
          "output_type": "stream",
          "name": "stdout",
          "text": [
            "0.5837155963302753\n",
            "0.44215349369988544\n"
          ]
        }
      ]
    },
    {
      "cell_type": "code",
      "source": [
        "y_pred = knn.predict(X_test)\n",
        "import matplotlib.pyplot as plt\n",
        "from sklearn.metrics import confusion_matrix\n",
        "from sklearn.metrics import ConfusionMatrixDisplay\n",
        "\n",
        "cm = confusion_matrix(y_test, y_pred)\n",
        "cm2 = ConfusionMatrixDisplay(confusion_matrix=cm)\n",
        "cm2.plot()\n",
        "plt.show()"
      ],
      "metadata": {
        "colab": {
          "base_uri": "https://localhost:8080/",
          "height": 449
        },
        "id": "ky0hn4b-JXRU",
        "outputId": "091a5fb9-5cc7-4033-f7cc-4c5d6589fbcc"
      },
      "execution_count": null,
      "outputs": [
        {
          "output_type": "display_data",
          "data": {
            "text/plain": [
              "<Figure size 640x480 with 2 Axes>"
            ],
            "image/png": "[encoded data removed]"
          },
          "metadata": {}
        }
      ]
    },
    {
      "cell_type": "code",
      "source": [
        "from sklearn.metrics import precision_score, accuracy_score, recall_score, f1_score\n",
        "\n",
        "print(f\"Accuracy: {round(accuracy_score(y_test, y_pred),3)}\")\n",
        "print(f\"precision: {round(precision_score(y_test, y_pred, average='weighted'),3)}\")\n",
        "print(f\"recall: {round(recall_score(y_test, y_pred, average='weighted'),3)}\")\n",
        "print(f\"f1: {round(accuracy_score(y_test, y_pred), 3)}\")"
      ],
      "metadata": {
        "colab": {
          "base_uri": "https://localhost:8080/"
        },
        "id": "W4-9PxVpJgMe",
        "outputId": "1180fc01-93f7-41ce-fe84-c0b36839f7ca"
      },
      "execution_count": null,
      "outputs": [
        {
          "output_type": "stream",
          "name": "stdout",
          "text": [
            "Accuracy: 0.442\n",
            "precision: 0.411\n",
            "recall: 0.442\n",
            "f1: 0.442\n"
          ]
        }
      ]
    },
    {
      "cell_type": "markdown",
      "source": [
        "XGB:"
      ],
      "metadata": {
        "id": "A96JlbpMJ69B"
      }
    },
    {
      "cell_type": "code",
      "source": [
        "from xgboost import XGBClassifier\n",
        "xgb=XGBClassifier()\n",
        "xgb.fit(X_train,y_train)"
      ],
      "metadata": {
        "colab": {
          "base_uri": "https://localhost:8080/",
          "height": 248
        },
        "id": "vOlJawRvJ8Q7",
        "outputId": "bc20eff9-9b53-4b42-e1af-c8e35ab64f1e"
      },
      "execution_count": null,
      "outputs": [
        {
          "output_type": "execute_result",
          "data": {
            "text/plain": [
              "XGBClassifier(base_score=None, booster=None, callbacks=None,\n",
              "              colsample_bylevel=None, colsample_bynode=None,\n",
              "              colsample_bytree=None, early_stopping_rounds=None,\n",
              "              enable_categorical=False, eval_metric=None, feature_types=None,\n",
              "              gamma=None, gpu_id=None, grow_policy=None, importance_type=None,\n",
              "              interaction_constraints=None, learning_rate=None, max_bin=None,\n",
              "              max_cat_threshold=None, max_cat_to_onehot=None,\n",
              "              max_delta_step=None, max_depth=None, max_leaves=None,\n",
              "              min_child_weight=None, missing=nan, monotone_constraints=None,\n",
              "              n_estimators=100, n_jobs=None, num_parallel_tree=None,\n",
              "              objective='multi:softprob', predictor=None, ...)"
            ],
            "text/html": [
              "<style>#sk-container-id-5 {color: black;background-color: white;}#sk-container-id-5 pre{padding: 0;}#sk-container-id-5 div.sk-toggleable {background-color: white;}#sk-container-id-5 label.sk-toggleable__label {cursor: pointer;display: block;width: 100%;margin-bottom: 0;padding: 0.3em;box-sizing: border-box;text-align: center;}#sk-container-id-5 label.sk-toggleable__label-arrow:before {content: \"▸\";float: left;margin-right: 0.25em;color: #696969;}#sk-container-id-5 label.sk-toggleable__label-arrow:hover:before {color: black;}#sk-container-id-5 div.sk-estimator:hover label.sk-toggleable__label-arrow:before {color: black;}#sk-container-id-5 div.sk-toggleable__content {max-height: 0;max-width: 0;overflow: hidden;text-align: left;background-color: #f0f8ff;}#sk-container-id-5 div.sk-toggleable__content pre {margin: 0.2em;color: black;border-radius: 0.25em;background-color: #f0f8ff;}#sk-container-id-5 input.sk-toggleable__control:checked~div.sk-toggleable__content {max-height: 200px;max-width: 100%;overflow: auto;}#sk-container-id-5 input.sk-toggleable__control:checked~label.sk-toggleable__label-arrow:before {content: \"▾\";}#sk-container-id-5 div.sk-estimator input.sk-toggleable__control:checked~label.sk-toggleable__label {background-color: #d4ebff;}#sk-container-id-5 div.sk-label input.sk-toggleable__control:checked~label.sk-toggleable__label {background-color: #d4ebff;}#sk-container-id-5 input.sk-hidden--visually {border: 0;clip: rect(1px 1px 1px 1px);clip: rect(1px, 1px, 1px, 1px);height: 1px;margin: -1px;overflow: hidden;padding: 0;position: absolute;width: 1px;}#sk-container-id-5 div.sk-estimator {font-family: monospace;background-color: #f0f8ff;border: 1px dotted black;border-radius: 0.25em;box-sizing: border-box;margin-bottom: 0.5em;}#sk-container-id-5 div.sk-estimator:hover {background-color: #d4ebff;}#sk-container-id-5 div.sk-parallel-item::after {content: \"\";width: 100%;border-bottom: 1px solid gray;flex-grow: 1;}#sk-container-id-5 div.sk-label:hover label.sk-toggleable__label {background-color: #d4ebff;}#sk-container-id-5 div.sk-serial::before {content: \"\";position: absolute;border-left: 1px solid gray;box-sizing: border-box;top: 0;bottom: 0;left: 50%;z-index: 0;}#sk-container-id-5 div.sk-serial {display: flex;flex-direction: column;align-items: center;background-color: white;padding-right: 0.2em;padding-left: 0.2em;position: relative;}#sk-container-id-5 div.sk-item {position: relative;z-index: 1;}#sk-container-id-5 div.sk-parallel {display: flex;align-items: stretch;justify-content: center;background-color: white;position: relative;}#sk-container-id-5 div.sk-item::before, #sk-container-id-5 div.sk-parallel-item::before {content: \"\";position: absolute;border-left: 1px solid gray;box-sizing: border-box;top: 0;bottom: 0;left: 50%;z-index: -1;}#sk-container-id-5 div.sk-parallel-item {display: flex;flex-direction: column;z-index: 1;position: relative;background-color: white;}#sk-container-id-5 div.sk-parallel-item:first-child::after {align-self: flex-end;width: 50%;}#sk-container-id-5 div.sk-parallel-item:last-child::after {align-self: flex-start;width: 50%;}#sk-container-id-5 div.sk-parallel-item:only-child::after {width: 0;}#sk-container-id-5 div.sk-dashed-wrapped {border: 1px dashed gray;margin: 0 0.4em 0.5em 0.4em;box-sizing: border-box;padding-bottom: 0.4em;background-color: white;}#sk-container-id-5 div.sk-label label {font-family: monospace;font-weight: bold;display: inline-block;line-height: 1.2em;}#sk-container-id-5 div.sk-label-container {text-align: center;}#sk-container-id-5 div.sk-container {/* jupyter's `normalize.less` sets `[hidden] { display: none; }` but bootstrap.min.css set `[hidden] { display: none !important; }` so we also need the `!important` here to be able to override the default hidden behavior on the sphinx rendered scikit-learn.org. See: https://github.com/scikit-learn/scikit-learn/issues/21755 */display: inline-block !important;position: relative;}#sk-container-id-5 div.sk-text-repr-fallback {display: none;}</style><div id=\"sk-container-id-5\" class=\"sk-top-container\"><div class=\"sk-text-repr-fallback\"><pre>XGBClassifier(base_score=None, booster=None, callbacks=None,\n",
              "              colsample_bylevel=None, colsample_bynode=None,\n",
              "              colsample_bytree=None, early_stopping_rounds=None,\n",
              "              enable_categorical=False, eval_metric=None, feature_types=None,\n",
              "              gamma=None, gpu_id=None, grow_policy=None, importance_type=None,\n",
              "              interaction_constraints=None, learning_rate=None, max_bin=None,\n",
              "              max_cat_threshold=None, max_cat_to_onehot=None,\n",
              "              max_delta_step=None, max_depth=None, max_leaves=None,\n",
              "              min_child_weight=None, missing=nan, monotone_constraints=None,\n",
              "              n_estimators=100, n_jobs=None, num_parallel_tree=None,\n",
              "              objective=&#x27;multi:softprob&#x27;, predictor=None, ...)</pre><b>In a Jupyter environment, please rerun this cell to show the HTML representation or trust the notebook. <br />On GitHub, the HTML representation is unable to render, please try loading this page with nbviewer.org.</b></div><div class=\"sk-container\" hidden><div class=\"sk-item\"><div class=\"sk-estimator sk-toggleable\"><input class=\"sk-toggleable__control sk-hidden--visually\" id=\"sk-estimator-id-5\" type=\"checkbox\" checked><label for=\"sk-estimator-id-5\" class=\"sk-toggleable__label sk-toggleable__label-arrow\">XGBClassifier</label><div class=\"sk-toggleable__content\"><pre>XGBClassifier(base_score=None, booster=None, callbacks=None,\n",
              "              colsample_bylevel=None, colsample_bynode=None,\n",
              "              colsample_bytree=None, early_stopping_rounds=None,\n",
              "              enable_categorical=False, eval_metric=None, feature_types=None,\n",
              "              gamma=None, gpu_id=None, grow_policy=None, importance_type=None,\n",
              "              interaction_constraints=None, learning_rate=None, max_bin=None,\n",
              "              max_cat_threshold=None, max_cat_to_onehot=None,\n",
              "              max_delta_step=None, max_depth=None, max_leaves=None,\n",
              "              min_child_weight=None, missing=nan, monotone_constraints=None,\n",
              "              n_estimators=100, n_jobs=None, num_parallel_tree=None,\n",
              "              objective=&#x27;multi:softprob&#x27;, predictor=None, ...)</pre></div></div></div></div></div>"
            ]
          },
          "metadata": {},
          "execution_count": 66
        }
      ]
    },
    {
      "cell_type": "code",
      "source": [
        "print(xgb.score(X_train, y_train))\n",
        "print(xgb.score(X_test, y_test))"
      ],
      "metadata": {
        "colab": {
          "base_uri": "https://localhost:8080/"
        },
        "id": "7TKEoXOpJ_bP",
        "outputId": "09228325-1a3a-4737-d531-18de0aa5a431"
      },
      "execution_count": null,
      "outputs": [
        {
          "output_type": "stream",
          "name": "stdout",
          "text": [
            "0.9985665137614679\n",
            "0.5693012600229095\n"
          ]
        }
      ]
    },
    {
      "cell_type": "code",
      "source": [
        "y_pred = xgb.predict(X_test)\n",
        "import matplotlib.pyplot as plt\n",
        "from sklearn.metrics import confusion_matrix\n",
        "from sklearn.metrics import ConfusionMatrixDisplay\n",
        "\n",
        "cm = confusion_matrix(y_test, y_pred)\n",
        "cm2 = ConfusionMatrixDisplay(confusion_matrix=cm)\n",
        "cm2.plot()\n",
        "plt.show()"
      ],
      "metadata": {
        "colab": {
          "base_uri": "https://localhost:8080/",
          "height": 449
        },
        "id": "V_1zL8PVKB1S",
        "outputId": "776ebb79-d05f-4d17-ee17-124ba467374b"
      },
      "execution_count": null,
      "outputs": [
        {
          "output_type": "display_data",
          "data": {
            "text/plain": [
              "<Figure size 640x480 with 2 Axes>"
            ],
            "image/png": "[encoded data removed]"
          },
          "metadata": {}
        }
      ]
    },
    {
      "cell_type": "code",
      "source": [
        "from sklearn.metrics import precision_score, accuracy_score, recall_score, f1_score\n",
        "\n",
        "print(f\"Accuracy: {round(accuracy_score(y_test, y_pred),3)}\")\n",
        "print(f\"precision: {round(precision_score(y_test, y_pred, average='weighted'),3)}\")\n",
        "print(f\"recall: {round(recall_score(y_test, y_pred, average='weighted'),3)}\")\n",
        "print(f\"f1: {round(accuracy_score(y_test, y_pred), 3)}\")"
      ],
      "metadata": {
        "colab": {
          "base_uri": "https://localhost:8080/"
        },
        "id": "6Rx4Lg9FKCll",
        "outputId": "07ee6cd9-08bf-4ecd-cd64-207fb1de6745"
      },
      "execution_count": null,
      "outputs": [
        {
          "output_type": "stream",
          "name": "stdout",
          "text": [
            "Accuracy: 0.569\n",
            "precision: 0.575\n",
            "recall: 0.569\n",
            "f1: 0.569\n"
          ]
        }
      ]
    },
    {
      "cell_type": "markdown",
      "source": [
        "ANN:"
      ],
      "metadata": {
        "id": "y9epVqhjKLKs"
      }
    },
    {
      "cell_type": "code",
      "source": [
        "import tensorflow as tf\n",
        "ann=tf.keras.models.Sequential()\n",
        "ann.add(tf.keras.layers.Dense(units=6,activation=\"relu\"))\n",
        "ann.add(tf.keras.layers.Dense(units=6,activation=\"relu\"))\n",
        "ann.add(tf.keras.layers.Dense(units=1,activation=\"sigmoid\"))\n",
        "ann.compile(optimizer=\"adam\",loss=\"binary_crossentropy\",metrics=['accuracy'])\n",
        "ann.fit(X_train,y_train,batch_size=32,epochs=100)"
      ],
      "metadata": {
        "colab": {
          "base_uri": "https://localhost:8080/"
        },
        "id": "IWgyf978KJ96",
        "outputId": "dd3955c1-82c6-4d26-b907-28cdd089fc4e"
      },
      "execution_count": null,
      "outputs": [
        {
          "output_type": "stream",
          "name": "stdout",
          "text": [
            "Epoch 1/100\n",
            "109/109 [==============================] - 2s 3ms/step - loss: 33.5046 - accuracy: 0.1325\n",
            "Epoch 2/100\n",
            "109/109 [==============================] - 0s 3ms/step - loss: 23.7492 - accuracy: 0.1325\n",
            "Epoch 3/100\n",
            "109/109 [==============================] - 0s 3ms/step - loss: 15.7437 - accuracy: 0.1325\n",
            "Epoch 4/100\n",
            "109/109 [==============================] - 0s 3ms/step - loss: 8.1725 - accuracy: 0.1325\n",
            "Epoch 5/100\n",
            "109/109 [==============================] - 0s 3ms/step - loss: 1.2291 - accuracy: 0.1439\n",
            "Epoch 6/100\n",
            "109/109 [==============================] - 0s 3ms/step - loss: 0.5318 - accuracy: 0.1468\n",
            "Epoch 7/100\n",
            "109/109 [==============================] - 0s 3ms/step - loss: 0.5929 - accuracy: 0.1445\n",
            "Epoch 8/100\n",
            "109/109 [==============================] - 0s 3ms/step - loss: 0.4031 - accuracy: 0.1373\n",
            "Epoch 9/100\n",
            "109/109 [==============================] - 0s 2ms/step - loss: 0.4006 - accuracy: 0.1342\n",
            "Epoch 10/100\n",
            "109/109 [==============================] - 0s 2ms/step - loss: 0.4706 - accuracy: 0.1433\n",
            "Epoch 11/100\n",
            "109/109 [==============================] - 0s 2ms/step - loss: 0.4699 - accuracy: 0.1325\n",
            "Epoch 12/100\n",
            "109/109 [==============================] - 0s 2ms/step - loss: 0.3304 - accuracy: 0.1325\n",
            "Epoch 13/100\n",
            "109/109 [==============================] - 0s 2ms/step - loss: 0.3383 - accuracy: 0.1322\n",
            "Epoch 14/100\n",
            "109/109 [==============================] - 0s 2ms/step - loss: 0.2848 - accuracy: 0.1376\n",
            "Epoch 15/100\n",
            "109/109 [==============================] - 0s 2ms/step - loss: 0.4515 - accuracy: 0.1327\n",
            "Epoch 16/100\n",
            "109/109 [==============================] - 0s 2ms/step - loss: 0.2964 - accuracy: 0.1345\n",
            "Epoch 17/100\n",
            "109/109 [==============================] - 0s 2ms/step - loss: 0.6833 - accuracy: 0.1370\n",
            "Epoch 18/100\n",
            "109/109 [==============================] - 0s 2ms/step - loss: 0.3573 - accuracy: 0.1356\n",
            "Epoch 19/100\n",
            "109/109 [==============================] - 0s 2ms/step - loss: 0.4466 - accuracy: 0.1388\n",
            "Epoch 20/100\n",
            "109/109 [==============================] - 0s 2ms/step - loss: 0.3825 - accuracy: 0.1345\n",
            "Epoch 21/100\n",
            "109/109 [==============================] - 0s 2ms/step - loss: 0.2982 - accuracy: 0.1368\n",
            "Epoch 22/100\n",
            "109/109 [==============================] - 0s 2ms/step - loss: 0.4875 - accuracy: 0.1385\n",
            "Epoch 23/100\n",
            "109/109 [==============================] - 0s 2ms/step - loss: 0.3235 - accuracy: 0.1396\n",
            "Epoch 24/100\n",
            "109/109 [==============================] - 0s 2ms/step - loss: 0.3593 - accuracy: 0.1373\n",
            "Epoch 25/100\n",
            "109/109 [==============================] - 0s 2ms/step - loss: 0.3698 - accuracy: 0.1350\n",
            "Epoch 26/100\n",
            "109/109 [==============================] - 0s 2ms/step - loss: 0.4219 - accuracy: 0.1382\n",
            "Epoch 27/100\n",
            "109/109 [==============================] - 0s 2ms/step - loss: 0.4524 - accuracy: 0.1402\n",
            "Epoch 28/100\n",
            "109/109 [==============================] - 0s 2ms/step - loss: 0.4349 - accuracy: 0.1362\n",
            "Epoch 29/100\n",
            "109/109 [==============================] - 0s 2ms/step - loss: 0.6001 - accuracy: 0.1408\n",
            "Epoch 30/100\n",
            "109/109 [==============================] - 0s 2ms/step - loss: 0.3184 - accuracy: 0.1359\n",
            "Epoch 31/100\n",
            "109/109 [==============================] - 0s 2ms/step - loss: 0.3120 - accuracy: 0.1347\n",
            "Epoch 32/100\n",
            "109/109 [==============================] - 0s 2ms/step - loss: 0.7178 - accuracy: 0.1379\n",
            "Epoch 33/100\n",
            "109/109 [==============================] - 0s 2ms/step - loss: 0.2697 - accuracy: 0.1327\n",
            "Epoch 34/100\n",
            "109/109 [==============================] - 0s 2ms/step - loss: 0.3906 - accuracy: 0.1393\n",
            "Epoch 35/100\n",
            "109/109 [==============================] - 0s 2ms/step - loss: 0.5453 - accuracy: 0.1468\n",
            "Epoch 36/100\n",
            "109/109 [==============================] - 0s 2ms/step - loss: 0.6367 - accuracy: 0.1408\n",
            "Epoch 37/100\n",
            "109/109 [==============================] - 0s 2ms/step - loss: 0.2868 - accuracy: 0.1342\n",
            "Epoch 38/100\n",
            "109/109 [==============================] - 0s 2ms/step - loss: 0.3005 - accuracy: 0.1356\n",
            "Epoch 39/100\n",
            "109/109 [==============================] - 0s 2ms/step - loss: 0.2393 - accuracy: 0.1345\n",
            "Epoch 40/100\n",
            "109/109 [==============================] - 0s 2ms/step - loss: 0.2438 - accuracy: 0.1339\n",
            "Epoch 41/100\n",
            "109/109 [==============================] - 0s 2ms/step - loss: 0.2762 - accuracy: 0.1376\n",
            "Epoch 42/100\n",
            "109/109 [==============================] - 0s 2ms/step - loss: 0.2964 - accuracy: 0.1359\n",
            "Epoch 43/100\n",
            "109/109 [==============================] - 0s 2ms/step - loss: 0.3493 - accuracy: 0.1379\n",
            "Epoch 44/100\n",
            "109/109 [==============================] - 0s 2ms/step - loss: 0.2389 - accuracy: 0.1339\n",
            "Epoch 45/100\n",
            "109/109 [==============================] - 0s 2ms/step - loss: 0.2206 - accuracy: 0.1390\n",
            "Epoch 46/100\n",
            "109/109 [==============================] - 0s 2ms/step - loss: 0.2843 - accuracy: 0.1356\n",
            "Epoch 47/100\n",
            "109/109 [==============================] - 0s 2ms/step - loss: 0.8415 - accuracy: 0.1445\n",
            "Epoch 48/100\n",
            "109/109 [==============================] - 0s 2ms/step - loss: 0.3831 - accuracy: 0.1402\n",
            "Epoch 49/100\n",
            "109/109 [==============================] - 0s 2ms/step - loss: 0.2933 - accuracy: 0.1350\n",
            "Epoch 50/100\n",
            "109/109 [==============================] - 0s 2ms/step - loss: 0.2845 - accuracy: 0.1376\n",
            "Epoch 51/100\n",
            "109/109 [==============================] - 0s 2ms/step - loss: 0.2669 - accuracy: 0.1359\n",
            "Epoch 52/100\n",
            "109/109 [==============================] - 0s 3ms/step - loss: 0.3622 - accuracy: 0.1368\n",
            "Epoch 53/100\n",
            "109/109 [==============================] - 0s 3ms/step - loss: 0.2795 - accuracy: 0.1382\n",
            "Epoch 54/100\n",
            "109/109 [==============================] - 0s 3ms/step - loss: 0.3668 - accuracy: 0.1345\n",
            "Epoch 55/100\n",
            "109/109 [==============================] - 0s 3ms/step - loss: 0.4601 - accuracy: 0.1405\n",
            "Epoch 56/100\n",
            "109/109 [==============================] - 0s 3ms/step - loss: 0.4462 - accuracy: 0.1399\n",
            "Epoch 57/100\n",
            "109/109 [==============================] - 0s 3ms/step - loss: 0.2907 - accuracy: 0.1408\n",
            "Epoch 58/100\n",
            "109/109 [==============================] - 0s 3ms/step - loss: 0.3106 - accuracy: 0.1350\n",
            "Epoch 59/100\n",
            "109/109 [==============================] - 0s 3ms/step - loss: 0.2394 - accuracy: 0.1365\n",
            "Epoch 60/100\n",
            "109/109 [==============================] - 0s 3ms/step - loss: 0.3491 - accuracy: 0.1393\n",
            "Epoch 61/100\n",
            "109/109 [==============================] - 0s 3ms/step - loss: 0.2999 - accuracy: 0.1342\n",
            "Epoch 62/100\n",
            "109/109 [==============================] - 0s 3ms/step - loss: 0.4329 - accuracy: 0.1439\n",
            "Epoch 63/100\n",
            "109/109 [==============================] - 0s 3ms/step - loss: 0.2311 - accuracy: 0.1325\n",
            "Epoch 64/100\n",
            "109/109 [==============================] - 0s 3ms/step - loss: 0.2296 - accuracy: 0.1373\n",
            "Epoch 65/100\n",
            "109/109 [==============================] - 0s 3ms/step - loss: 0.2183 - accuracy: 0.1333\n",
            "Epoch 66/100\n",
            "109/109 [==============================] - 0s 3ms/step - loss: 0.2451 - accuracy: 0.1422\n",
            "Epoch 67/100\n",
            "109/109 [==============================] - 0s 2ms/step - loss: 0.3928 - accuracy: 0.1405\n",
            "Epoch 68/100\n",
            "109/109 [==============================] - 0s 2ms/step - loss: 0.2384 - accuracy: 0.1350\n",
            "Epoch 69/100\n",
            "109/109 [==============================] - 0s 2ms/step - loss: 0.3216 - accuracy: 0.1353\n",
            "Epoch 70/100\n",
            "109/109 [==============================] - 0s 2ms/step - loss: 0.3000 - accuracy: 0.1376\n",
            "Epoch 71/100\n",
            "109/109 [==============================] - 0s 2ms/step - loss: 0.2824 - accuracy: 0.1339\n",
            "Epoch 72/100\n",
            "109/109 [==============================] - 0s 2ms/step - loss: 0.2962 - accuracy: 0.1373\n",
            "Epoch 73/100\n",
            "109/109 [==============================] - 0s 2ms/step - loss: 0.3700 - accuracy: 0.1385\n",
            "Epoch 74/100\n",
            "109/109 [==============================] - 0s 2ms/step - loss: 0.4306 - accuracy: 0.1390\n",
            "Epoch 75/100\n",
            "109/109 [==============================] - 0s 2ms/step - loss: 0.2483 - accuracy: 0.1336\n",
            "Epoch 76/100\n",
            "109/109 [==============================] - 0s 2ms/step - loss: 0.3787 - accuracy: 0.1425\n",
            "Epoch 77/100\n",
            "109/109 [==============================] - 0s 2ms/step - loss: 0.2985 - accuracy: 0.1388\n",
            "Epoch 78/100\n",
            "109/109 [==============================] - 0s 2ms/step - loss: 0.2784 - accuracy: 0.1365\n",
            "Epoch 79/100\n",
            "109/109 [==============================] - 0s 2ms/step - loss: 0.2807 - accuracy: 0.1385\n",
            "Epoch 80/100\n",
            "109/109 [==============================] - 0s 2ms/step - loss: 0.2375 - accuracy: 0.1350\n",
            "Epoch 81/100\n",
            "109/109 [==============================] - 0s 2ms/step - loss: 0.2119 - accuracy: 0.1345\n",
            "Epoch 82/100\n",
            "109/109 [==============================] - 0s 2ms/step - loss: 0.3530 - accuracy: 0.1379\n",
            "Epoch 83/100\n",
            "109/109 [==============================] - 0s 2ms/step - loss: 0.2261 - accuracy: 0.1370\n",
            "Epoch 84/100\n",
            "109/109 [==============================] - 0s 2ms/step - loss: 0.3144 - accuracy: 0.1353\n",
            "Epoch 85/100\n",
            "109/109 [==============================] - 0s 2ms/step - loss: 0.4099 - accuracy: 0.1411\n",
            "Epoch 86/100\n",
            "109/109 [==============================] - 0s 2ms/step - loss: 0.2127 - accuracy: 0.1385\n",
            "Epoch 87/100\n",
            "109/109 [==============================] - 0s 2ms/step - loss: 0.1994 - accuracy: 0.1373\n",
            "Epoch 88/100\n",
            "109/109 [==============================] - 0s 2ms/step - loss: 0.1906 - accuracy: 0.1342\n",
            "Epoch 89/100\n",
            "109/109 [==============================] - 0s 2ms/step - loss: 0.2151 - accuracy: 0.1382\n",
            "Epoch 90/100\n",
            "109/109 [==============================] - 0s 2ms/step - loss: 0.2035 - accuracy: 0.1336\n",
            "Epoch 91/100\n",
            "109/109 [==============================] - 0s 2ms/step - loss: 0.2480 - accuracy: 0.1368\n",
            "Epoch 92/100\n",
            "109/109 [==============================] - 0s 2ms/step - loss: 0.2875 - accuracy: 0.1373\n",
            "Epoch 93/100\n",
            "109/109 [==============================] - 0s 2ms/step - loss: 0.2502 - accuracy: 0.1379\n",
            "Epoch 94/100\n",
            "109/109 [==============================] - 0s 2ms/step - loss: 0.3227 - accuracy: 0.1339\n",
            "Epoch 95/100\n",
            "109/109 [==============================] - 0s 2ms/step - loss: 0.3111 - accuracy: 0.1388\n",
            "Epoch 96/100\n",
            "109/109 [==============================] - 0s 2ms/step - loss: 0.2986 - accuracy: 0.1379\n",
            "Epoch 97/100\n",
            "109/109 [==============================] - 0s 2ms/step - loss: 0.2441 - accuracy: 0.1336\n",
            "Epoch 98/100\n",
            "109/109 [==============================] - 0s 2ms/step - loss: 0.2750 - accuracy: 0.1370\n",
            "Epoch 99/100\n",
            "109/109 [==============================] - 0s 2ms/step - loss: 0.3201 - accuracy: 0.1356\n",
            "Epoch 100/100\n",
            "109/109 [==============================] - 0s 2ms/step - loss: 0.2955 - accuracy: 0.1353\n"
          ]
        },
        {
          "output_type": "execute_result",
          "data": {
            "text/plain": [
              "<keras.callbacks.History at 0x7f2d4d40eeb0>"
            ]
          },
          "metadata": {},
          "execution_count": 70
        }
      ]
    },
    {
      "cell_type": "code",
      "source": [
        "print(ann.evaluate(X_train, y_train))\n",
        "print(ann.evaluate(X_test, y_test))"
      ],
      "metadata": {
        "colab": {
          "base_uri": "https://localhost:8080/"
        },
        "id": "Z2V_RMOrKc8C",
        "outputId": "fe056ebc-9246-4a7c-a45e-469c53d9d300"
      },
      "execution_count": null,
      "outputs": [
        {
          "output_type": "stream",
          "name": "stdout",
          "text": [
            "109/109 [==============================] - 1s 3ms/step - loss: 0.2215 - accuracy: 0.1562\n",
            "[0.22154369950294495, 0.15625]\n",
            "28/28 [==============================] - 0s 3ms/step - loss: 0.2305 - accuracy: 0.1489\n",
            "[0.23051799833774567, 0.14891180396080017]\n"
          ]
        }
      ]
    },
    {
      "cell_type": "code",
      "source": [
        "# validation_generator = test_datagen.flow_from_directory(test_data_path,\n",
        "#                                                         target_size=(img_rows, img_cols),\n",
        "#                                                         batch_size=batch_size,\n",
        "#                                                         class_mode='categorical')\n"
      ],
      "metadata": {
        "id": "0pAHCzyUKdvq"
      },
      "execution_count": null,
      "outputs": []
    },
    {
      "cell_type": "code",
      "source": [
        "y_pred = ann.predict(X_test)\n",
        "y_pred = np.where(y_pred > 0.5, 1, 0)\n",
        "import matplotlib.pyplot as plt\n",
        "from sklearn.metrics import confusion_matrix\n",
        "from sklearn.metrics import ConfusionMatrixDisplay\n",
        "\n",
        "cm = confusion_matrix(y_test, y_pred)\n",
        "cm2 = ConfusionMatrixDisplay(confusion_matrix=cm)\n",
        "cm2.plot()\n",
        "plt.show()"
      ],
      "metadata": {
        "colab": {
          "base_uri": "https://localhost:8080/",
          "height": 466
        },
        "id": "y5o_m0NAKgsI",
        "outputId": "c120f2b0-a607-460d-f903-fba91b20c5dc"
      },
      "execution_count": null,
      "outputs": [
        {
          "output_type": "stream",
          "name": "stdout",
          "text": [
            "28/28 [==============================] - 0s 2ms/step\n"
          ]
        },
        {
          "output_type": "display_data",
          "data": {
            "text/plain": [
              "<Figure size 640x480 with 2 Axes>"
            ],
            "image/png": "[encoded data removed]"
          },
          "metadata": {}
        }
      ]
    },
    {
      "cell_type": "code",
      "source": [
        "from sklearn.metrics import precision_score, accuracy_score, recall_score, f1_score\n",
        "\n",
        "print(f\"Accuracy: {round(accuracy_score(y_test, y_pred),3)}\")\n",
        "print(f\"precision: {round(precision_score(y_test, y_pred, average='weighted'),3)}\")\n",
        "print(f\"recall: {round(recall_score(y_test, y_pred, average='weighted'),3)}\")\n",
        "print(f\"f1: {round(accuracy_score(y_test, y_pred), 3)}\")"
      ],
      "metadata": {
        "colab": {
          "base_uri": "https://localhost:8080/"
        },
        "id": "0giuLIMjMUt3",
        "outputId": "7a1657f1-9d83-49cd-d866-8c29db4606b1"
      },
      "execution_count": null,
      "outputs": [
        {
          "output_type": "stream",
          "name": "stdout",
          "text": [
            "Accuracy: 0.149\n",
            "precision: 0.289\n",
            "recall: 0.149\n",
            "f1: 0.149\n"
          ]
        },
        {
          "output_type": "stream",
          "name": "stderr",
          "text": [
            "/usr/local/lib/python3.9/dist-packages/sklearn/metrics/_classification.py:1344: UndefinedMetricWarning: Precision is ill-defined and being set to 0.0 in labels with no predicted samples. Use `zero_division` parameter to control this behavior.\n",
            "  _warn_prf(average, modifier, msg_start, len(result))\n"
          ]
        }
      ]
    },
    {
      "cell_type": "markdown",
      "source": [
        "Naive Bayes:"
      ],
      "metadata": {
        "id": "6Sent31PTHf4"
      }
    },
    {
      "cell_type": "code",
      "source": [
        "from sklearn.naive_bayes  import GaussianNB\n",
        "nb=GaussianNB()\n",
        "nb.fit(X_train,y_train)"
      ],
      "metadata": {
        "colab": {
          "base_uri": "https://localhost:8080/",
          "height": 75
        },
        "id": "9peUZiJlMVxM",
        "outputId": "cf80da74-dcf6-4420-df51-34cc2dd7badc"
      },
      "execution_count": null,
      "outputs": [
        {
          "output_type": "execute_result",
          "data": {
            "text/plain": [
              "GaussianNB()"
            ],
            "text/html": [
              "<style>#sk-container-id-6 {color: black;background-color: white;}#sk-container-id-6 pre{padding: 0;}#sk-container-id-6 div.sk-toggleable {background-color: white;}#sk-container-id-6 label.sk-toggleable__label {cursor: pointer;display: block;width: 100%;margin-bottom: 0;padding: 0.3em;box-sizing: border-box;text-align: center;}#sk-container-id-6 label.sk-toggleable__label-arrow:before {content: \"▸\";float: left;margin-right: 0.25em;color: #696969;}#sk-container-id-6 label.sk-toggleable__label-arrow:hover:before {color: black;}#sk-container-id-6 div.sk-estimator:hover label.sk-toggleable__label-arrow:before {color: black;}#sk-container-id-6 div.sk-toggleable__content {max-height: 0;max-width: 0;overflow: hidden;text-align: left;background-color: #f0f8ff;}#sk-container-id-6 div.sk-toggleable__content pre {margin: 0.2em;color: black;border-radius: 0.25em;background-color: #f0f8ff;}#sk-container-id-6 input.sk-toggleable__control:checked~div.sk-toggleable__content {max-height: 200px;max-width: 100%;overflow: auto;}#sk-container-id-6 input.sk-toggleable__control:checked~label.sk-toggleable__label-arrow:before {content: \"▾\";}#sk-container-id-6 div.sk-estimator input.sk-toggleable__control:checked~label.sk-toggleable__label {background-color: #d4ebff;}#sk-container-id-6 div.sk-label input.sk-toggleable__control:checked~label.sk-toggleable__label {background-color: #d4ebff;}#sk-container-id-6 input.sk-hidden--visually {border: 0;clip: rect(1px 1px 1px 1px);clip: rect(1px, 1px, 1px, 1px);height: 1px;margin: -1px;overflow: hidden;padding: 0;position: absolute;width: 1px;}#sk-container-id-6 div.sk-estimator {font-family: monospace;background-color: #f0f8ff;border: 1px dotted black;border-radius: 0.25em;box-sizing: border-box;margin-bottom: 0.5em;}#sk-container-id-6 div.sk-estimator:hover {background-color: #d4ebff;}#sk-container-id-6 div.sk-parallel-item::after {content: \"\";width: 100%;border-bottom: 1px solid gray;flex-grow: 1;}#sk-container-id-6 div.sk-label:hover label.sk-toggleable__label {background-color: #d4ebff;}#sk-container-id-6 div.sk-serial::before {content: \"\";position: absolute;border-left: 1px solid gray;box-sizing: border-box;top: 0;bottom: 0;left: 50%;z-index: 0;}#sk-container-id-6 div.sk-serial {display: flex;flex-direction: column;align-items: center;background-color: white;padding-right: 0.2em;padding-left: 0.2em;position: relative;}#sk-container-id-6 div.sk-item {position: relative;z-index: 1;}#sk-container-id-6 div.sk-parallel {display: flex;align-items: stretch;justify-content: center;background-color: white;position: relative;}#sk-container-id-6 div.sk-item::before, #sk-container-id-6 div.sk-parallel-item::before {content: \"\";position: absolute;border-left: 1px solid gray;box-sizing: border-box;top: 0;bottom: 0;left: 50%;z-index: -1;}#sk-container-id-6 div.sk-parallel-item {display: flex;flex-direction: column;z-index: 1;position: relative;background-color: white;}#sk-container-id-6 div.sk-parallel-item:first-child::after {align-self: flex-end;width: 50%;}#sk-container-id-6 div.sk-parallel-item:last-child::after {align-self: flex-start;width: 50%;}#sk-container-id-6 div.sk-parallel-item:only-child::after {width: 0;}#sk-container-id-6 div.sk-dashed-wrapped {border: 1px dashed gray;margin: 0 0.4em 0.5em 0.4em;box-sizing: border-box;padding-bottom: 0.4em;background-color: white;}#sk-container-id-6 div.sk-label label {font-family: monospace;font-weight: bold;display: inline-block;line-height: 1.2em;}#sk-container-id-6 div.sk-label-container {text-align: center;}#sk-container-id-6 div.sk-container {/* jupyter's `normalize.less` sets `[hidden] { display: none; }` but bootstrap.min.css set `[hidden] { display: none !important; }` so we also need the `!important` here to be able to override the default hidden behavior on the sphinx rendered scikit-learn.org. See: https://github.com/scikit-learn/scikit-learn/issues/21755 */display: inline-block !important;position: relative;}#sk-container-id-6 div.sk-text-repr-fallback {display: none;}</style><div id=\"sk-container-id-6\" class=\"sk-top-container\"><div class=\"sk-text-repr-fallback\"><pre>GaussianNB()</pre><b>In a Jupyter environment, please rerun this cell to show the HTML representation or trust the notebook. <br />On GitHub, the HTML representation is unable to render, please try loading this page with nbviewer.org.</b></div><div class=\"sk-container\" hidden><div class=\"sk-item\"><div class=\"sk-estimator sk-toggleable\"><input class=\"sk-toggleable__control sk-hidden--visually\" id=\"sk-estimator-id-6\" type=\"checkbox\" checked><label for=\"sk-estimator-id-6\" class=\"sk-toggleable__label sk-toggleable__label-arrow\">GaussianNB</label><div class=\"sk-toggleable__content\"><pre>GaussianNB()</pre></div></div></div></div></div>"
            ]
          },
          "metadata": {},
          "execution_count": 75
        }
      ]
    },
    {
      "cell_type": "code",
      "source": [
        "print(nb.score(X_train, y_train))\n",
        "print(nb.score(X_test, y_test))"
      ],
      "metadata": {
        "colab": {
          "base_uri": "https://localhost:8080/"
        },
        "id": "Rae7oMIyMe1v",
        "outputId": "6bd99a1f-bdc5-4dc7-df51-3df002a0939f"
      },
      "execution_count": null,
      "outputs": [
        {
          "output_type": "stream",
          "name": "stdout",
          "text": [
            "0.47448394495412843\n",
            "0.47995418098510884\n"
          ]
        }
      ]
    },
    {
      "cell_type": "code",
      "source": [
        "y_pred = nb.predict(X_test)\n",
        "import matplotlib.pyplot as plt\n",
        "from sklearn.metrics import confusion_matrix\n",
        "from sklearn.metrics import ConfusionMatrixDisplay\n",
        "\n",
        "cm = confusion_matrix(y_test, y_pred)\n",
        "cm2 = ConfusionMatrixDisplay(confusion_matrix=cm)\n",
        "cm2.plot()\n",
        "plt.show()"
      ],
      "metadata": {
        "colab": {
          "base_uri": "https://localhost:8080/",
          "height": 449
        },
        "id": "Fx08NZYVMguh",
        "outputId": "2dab4770-13c7-4e06-ebb6-8affa4d9975f"
      },
      "execution_count": null,
      "outputs": [
        {
          "output_type": "display_data",
          "data": {
            "text/plain": [
              "<Figure size 640x480 with 2 Axes>"
            ],
            "image/png": "[encoded data removed]"
          },
          "metadata": {}
        }
      ]
    },
    {
      "cell_type": "code",
      "source": [
        "from sklearn.metrics import precision_score, accuracy_score, recall_score, f1_score\n",
        "\n",
        "print(f\"Accuracy: {round(accuracy_score(y_test, y_pred),3)}\")\n",
        "print(f\"precision: {round(precision_score(y_test, y_pred, average='weighted'),3)}\")\n",
        "print(f\"recall: {round(recall_score(y_test, y_pred, average='weighted'),3)}\")\n",
        "print(f\"f1: {round(accuracy_score(y_test, y_pred), 3)}\")"
      ],
      "metadata": {
        "colab": {
          "base_uri": "https://localhost:8080/"
        },
        "id": "OSq4cxkIMmQ_",
        "outputId": "5e393ceb-1a4e-419e-81e6-97c3e4cfe7ae"
      },
      "execution_count": null,
      "outputs": [
        {
          "output_type": "stream",
          "name": "stdout",
          "text": [
            "Accuracy: 0.48\n",
            "precision: 0.429\n",
            "recall: 0.48\n",
            "f1: 0.48\n"
          ]
        }
      ]
    },
    {
      "cell_type": "markdown",
      "source": [
        "CatBoost:"
      ],
      "metadata": {
        "id": "AHRfAuwRMsk9"
      }
    },
    {
      "cell_type": "code",
      "source": [
        "!pip install catboost\n",
        "from catboost  import CatBoostClassifier"
      ],
      "metadata": {
        "colab": {
          "base_uri": "https://localhost:8080/"
        },
        "id": "8LwR5wTQMqhN",
        "outputId": "a5125874-213f-4503-b9c5-f45cf38e4dcf"
      },
      "execution_count": null,
      "outputs": [
        {
          "output_type": "stream",
          "name": "stdout",
          "text": [
            "Looking in indexes: https://pypi.org/simple, https://us-python.pkg.dev/colab-wheels/public/simple/\n",
            "Collecting catboost\n",
            "  Downloading catboost-1.1.1-cp39-none-manylinux1_x86_64.whl (76.6 MB)\n",
            "\u001b[2K     \u001b[90m━━━━━━━━━━━━━━━━━━━━━━━━━━━━━━━━━━━━━━━━\u001b[0m \u001b[32m76.6/76.6 MB\u001b[0m \u001b[31m9.7 MB/s\u001b[0m eta \u001b[36m0:00:00\u001b[0m\n",
            "\u001b[?25hRequirement already satisfied: numpy>=1.16.0 in /usr/local/lib/python3.9/dist-packages (from catboost) (1.22.4)\n",
            "Requirement already satisfied: matplotlib in /usr/local/lib/python3.9/dist-packages (from catboost) (3.7.1)\n",
            "Requirement already satisfied: pandas>=0.24.0 in /usr/local/lib/python3.9/dist-packages (from catboost) (1.5.3)\n",
            "Requirement already satisfied: graphviz in /usr/local/lib/python3.9/dist-packages (from catboost) (0.20.1)\n",
            "Requirement already satisfied: six in /usr/local/lib/python3.9/dist-packages (from catboost) (1.16.0)\n",
            "Requirement already satisfied: scipy in /usr/local/lib/python3.9/dist-packages (from catboost) (1.10.1)\n",
            "Requirement already satisfied: plotly in /usr/local/lib/python3.9/dist-packages (from catboost) (5.13.1)\n",
            "Requirement already satisfied: pytz>=2020.1 in /usr/local/lib/python3.9/dist-packages (from pandas>=0.24.0->catboost) (2022.7.1)\n",
            "Requirement already satisfied: python-dateutil>=2.8.1 in /usr/local/lib/python3.9/dist-packages (from pandas>=0.24.0->catboost) (2.8.2)\n",
            "Requirement already satisfied: pillow>=6.2.0 in /usr/local/lib/python3.9/dist-packages (from matplotlib->catboost) (8.4.0)\n",
            "Requirement already satisfied: fonttools>=4.22.0 in /usr/local/lib/python3.9/dist-packages (from matplotlib->catboost) (4.39.3)\n",
            "Requirement already satisfied: contourpy>=1.0.1 in /usr/local/lib/python3.9/dist-packages (from matplotlib->catboost) (1.0.7)\n",
            "Requirement already satisfied: importlib-resources>=3.2.0 in /usr/local/lib/python3.9/dist-packages (from matplotlib->catboost) (5.12.0)\n",
            "Requirement already satisfied: kiwisolver>=1.0.1 in /usr/local/lib/python3.9/dist-packages (from matplotlib->catboost) (1.4.4)\n",
            "Requirement already satisfied: pyparsing>=2.3.1 in /usr/local/lib/python3.9/dist-packages (from matplotlib->catboost) (3.0.9)\n",
            "Requirement already satisfied: packaging>=20.0 in /usr/local/lib/python3.9/dist-packages (from matplotlib->catboost) (23.1)\n",
            "Requirement already satisfied: cycler>=0.10 in /usr/local/lib/python3.9/dist-packages (from matplotlib->catboost) (0.11.0)\n",
            "Requirement already satisfied: tenacity>=6.2.0 in /usr/local/lib/python3.9/dist-packages (from plotly->catboost) (8.2.2)\n",
            "Requirement already satisfied: zipp>=3.1.0 in /usr/local/lib/python3.9/dist-packages (from importlib-resources>=3.2.0->matplotlib->catboost) (3.15.0)\n",
            "Installing collected packages: catboost\n",
            "Successfully installed catboost-1.1.1\n"
          ]
        }
      ]
    },
    {
      "cell_type": "code",
      "source": [
        "cb=CatBoostClassifier()\n",
        "cb.fit(X_train,y_train)"
      ],
      "metadata": {
        "colab": {
          "base_uri": "https://localhost:8080/"
        },
        "id": "Yk9Xk9XNMu0H",
        "outputId": "a435c521-c37a-495b-c467-cf34ecb12b4a"
      },
      "execution_count": null,
      "outputs": [
        {
          "output_type": "stream",
          "name": "stdout",
          "text": [
            "Learning rate set to 0.084332\n",
            "0:\tlearn: 1.0783536\ttotal: 58.9ms\tremaining: 58.8s\n",
            "1:\tlearn: 1.0621971\ttotal: 68.5ms\tremaining: 34.2s\n",
            "2:\tlearn: 1.0470588\ttotal: 77.4ms\tremaining: 25.7s\n",
            "3:\tlearn: 1.0339428\ttotal: 86.3ms\tremaining: 21.5s\n",
            "4:\tlearn: 1.0234406\ttotal: 95.6ms\tremaining: 19s\n",
            "5:\tlearn: 1.0130355\ttotal: 104ms\tremaining: 17.3s\n",
            "6:\tlearn: 1.0018963\ttotal: 114ms\tremaining: 16.2s\n",
            "7:\tlearn: 0.9917840\ttotal: 123ms\tremaining: 15.2s\n",
            "8:\tlearn: 0.9830702\ttotal: 132ms\tremaining: 14.5s\n",
            "9:\tlearn: 0.9740847\ttotal: 141ms\tremaining: 13.9s\n",
            "10:\tlearn: 0.9664054\ttotal: 149ms\tremaining: 13.4s\n",
            "11:\tlearn: 0.9613922\ttotal: 158ms\tremaining: 13s\n",
            "12:\tlearn: 0.9558867\ttotal: 182ms\tremaining: 13.8s\n",
            "13:\tlearn: 0.9510422\ttotal: 194ms\tremaining: 13.7s\n",
            "14:\tlearn: 0.9454648\ttotal: 213ms\tremaining: 14s\n",
            "15:\tlearn: 0.9410130\ttotal: 229ms\tremaining: 14.1s\n",
            "16:\tlearn: 0.9363144\ttotal: 248ms\tremaining: 14.3s\n",
            "17:\tlearn: 0.9320017\ttotal: 259ms\tremaining: 14.1s\n",
            "18:\tlearn: 0.9282357\ttotal: 278ms\tremaining: 14.4s\n",
            "19:\tlearn: 0.9252942\ttotal: 294ms\tremaining: 14.4s\n",
            "20:\tlearn: 0.9213965\ttotal: 314ms\tremaining: 14.6s\n",
            "21:\tlearn: 0.9180690\ttotal: 326ms\tremaining: 14.5s\n",
            "22:\tlearn: 0.9154053\ttotal: 345ms\tremaining: 14.6s\n",
            "23:\tlearn: 0.9111046\ttotal: 362ms\tremaining: 14.7s\n",
            "24:\tlearn: 0.9079506\ttotal: 393ms\tremaining: 15.3s\n",
            "25:\tlearn: 0.9062843\ttotal: 409ms\tremaining: 15.3s\n",
            "26:\tlearn: 0.9035646\ttotal: 427ms\tremaining: 15.4s\n",
            "27:\tlearn: 0.9013725\ttotal: 457ms\tremaining: 15.9s\n",
            "28:\tlearn: 0.8987226\ttotal: 479ms\tremaining: 16s\n",
            "29:\tlearn: 0.8963978\ttotal: 503ms\tremaining: 16.3s\n",
            "30:\tlearn: 0.8940693\ttotal: 526ms\tremaining: 16.4s\n",
            "31:\tlearn: 0.8923241\ttotal: 544ms\tremaining: 16.4s\n",
            "32:\tlearn: 0.8890594\ttotal: 570ms\tremaining: 16.7s\n",
            "33:\tlearn: 0.8874577\ttotal: 592ms\tremaining: 16.8s\n",
            "34:\tlearn: 0.8842539\ttotal: 612ms\tremaining: 16.9s\n",
            "35:\tlearn: 0.8822984\ttotal: 641ms\tremaining: 17.2s\n",
            "36:\tlearn: 0.8794380\ttotal: 671ms\tremaining: 17.5s\n",
            "37:\tlearn: 0.8776063\ttotal: 694ms\tremaining: 17.6s\n",
            "38:\tlearn: 0.8755292\ttotal: 723ms\tremaining: 17.8s\n",
            "39:\tlearn: 0.8738771\ttotal: 743ms\tremaining: 17.8s\n",
            "40:\tlearn: 0.8722583\ttotal: 764ms\tremaining: 17.9s\n",
            "41:\tlearn: 0.8699693\ttotal: 791ms\tremaining: 18s\n",
            "42:\tlearn: 0.8671362\ttotal: 812ms\tremaining: 18.1s\n",
            "43:\tlearn: 0.8645308\ttotal: 828ms\tremaining: 18s\n",
            "44:\tlearn: 0.8631861\ttotal: 855ms\tremaining: 18.1s\n",
            "45:\tlearn: 0.8618623\ttotal: 874ms\tremaining: 18.1s\n",
            "46:\tlearn: 0.8607134\ttotal: 895ms\tremaining: 18.2s\n",
            "47:\tlearn: 0.8596333\ttotal: 920ms\tremaining: 18.2s\n",
            "48:\tlearn: 0.8576883\ttotal: 941ms\tremaining: 18.3s\n",
            "49:\tlearn: 0.8564479\ttotal: 966ms\tremaining: 18.3s\n",
            "50:\tlearn: 0.8552256\ttotal: 988ms\tremaining: 18.4s\n",
            "51:\tlearn: 0.8533294\ttotal: 1.01s\tremaining: 18.4s\n",
            "52:\tlearn: 0.8517937\ttotal: 1.03s\tremaining: 18.4s\n",
            "53:\tlearn: 0.8503611\ttotal: 1.06s\tremaining: 18.5s\n",
            "54:\tlearn: 0.8491828\ttotal: 1.08s\tremaining: 18.5s\n",
            "55:\tlearn: 0.8473040\ttotal: 1.1s\tremaining: 18.5s\n",
            "56:\tlearn: 0.8458521\ttotal: 1.12s\tremaining: 18.5s\n",
            "57:\tlearn: 0.8444885\ttotal: 1.14s\tremaining: 18.5s\n",
            "58:\tlearn: 0.8428591\ttotal: 1.16s\tremaining: 18.5s\n",
            "59:\tlearn: 0.8418284\ttotal: 1.19s\tremaining: 18.6s\n",
            "60:\tlearn: 0.8403792\ttotal: 1.21s\tremaining: 18.6s\n",
            "61:\tlearn: 0.8385391\ttotal: 1.23s\tremaining: 18.6s\n",
            "62:\tlearn: 0.8368450\ttotal: 1.26s\tremaining: 18.7s\n",
            "63:\tlearn: 0.8346766\ttotal: 1.27s\tremaining: 18.6s\n",
            "64:\tlearn: 0.8331864\ttotal: 1.29s\tremaining: 18.5s\n",
            "65:\tlearn: 0.8318154\ttotal: 1.3s\tremaining: 18.4s\n",
            "66:\tlearn: 0.8310836\ttotal: 1.32s\tremaining: 18.4s\n",
            "67:\tlearn: 0.8295894\ttotal: 1.34s\tremaining: 18.4s\n",
            "68:\tlearn: 0.8285161\ttotal: 1.36s\tremaining: 18.3s\n",
            "69:\tlearn: 0.8270434\ttotal: 1.38s\tremaining: 18.4s\n",
            "70:\tlearn: 0.8260311\ttotal: 1.4s\tremaining: 18.3s\n",
            "71:\tlearn: 0.8242346\ttotal: 1.41s\tremaining: 18.2s\n",
            "72:\tlearn: 0.8225645\ttotal: 1.43s\tremaining: 18.1s\n",
            "73:\tlearn: 0.8211312\ttotal: 1.45s\tremaining: 18.1s\n",
            "74:\tlearn: 0.8197824\ttotal: 1.48s\tremaining: 18.2s\n",
            "75:\tlearn: 0.8182640\ttotal: 1.5s\tremaining: 18.2s\n",
            "76:\tlearn: 0.8178164\ttotal: 1.52s\tremaining: 18.2s\n",
            "77:\tlearn: 0.8157010\ttotal: 1.55s\tremaining: 18.3s\n",
            "78:\tlearn: 0.8147564\ttotal: 1.57s\tremaining: 18.3s\n",
            "79:\tlearn: 0.8138549\ttotal: 1.59s\tremaining: 18.3s\n",
            "80:\tlearn: 0.8130494\ttotal: 1.61s\tremaining: 18.3s\n",
            "81:\tlearn: 0.8122805\ttotal: 1.63s\tremaining: 18.3s\n",
            "82:\tlearn: 0.8111590\ttotal: 1.66s\tremaining: 18.3s\n",
            "83:\tlearn: 0.8098648\ttotal: 1.69s\tremaining: 18.5s\n",
            "84:\tlearn: 0.8086457\ttotal: 1.72s\tremaining: 18.5s\n",
            "85:\tlearn: 0.8080104\ttotal: 1.74s\tremaining: 18.5s\n",
            "86:\tlearn: 0.8070899\ttotal: 1.76s\tremaining: 18.5s\n",
            "87:\tlearn: 0.8058551\ttotal: 1.78s\tremaining: 18.5s\n",
            "88:\tlearn: 0.8044092\ttotal: 1.81s\tremaining: 18.5s\n",
            "89:\tlearn: 0.8033581\ttotal: 1.83s\tremaining: 18.5s\n",
            "90:\tlearn: 0.8022759\ttotal: 1.85s\tremaining: 18.5s\n",
            "91:\tlearn: 0.8006812\ttotal: 1.88s\tremaining: 18.5s\n",
            "92:\tlearn: 0.7990517\ttotal: 1.91s\tremaining: 18.6s\n",
            "93:\tlearn: 0.7974969\ttotal: 1.93s\tremaining: 18.6s\n",
            "94:\tlearn: 0.7968710\ttotal: 1.95s\tremaining: 18.6s\n",
            "95:\tlearn: 0.7960293\ttotal: 1.98s\tremaining: 18.6s\n",
            "96:\tlearn: 0.7947263\ttotal: 2s\tremaining: 18.6s\n",
            "97:\tlearn: 0.7942324\ttotal: 2.02s\tremaining: 18.6s\n",
            "98:\tlearn: 0.7933773\ttotal: 2.04s\tremaining: 18.6s\n",
            "99:\tlearn: 0.7926614\ttotal: 2.06s\tremaining: 18.5s\n",
            "100:\tlearn: 0.7917772\ttotal: 2.08s\tremaining: 18.5s\n",
            "101:\tlearn: 0.7899861\ttotal: 2.1s\tremaining: 18.5s\n",
            "102:\tlearn: 0.7886830\ttotal: 2.13s\tremaining: 18.5s\n",
            "103:\tlearn: 0.7878819\ttotal: 2.15s\tremaining: 18.5s\n",
            "104:\tlearn: 0.7865674\ttotal: 2.17s\tremaining: 18.5s\n",
            "105:\tlearn: 0.7856571\ttotal: 2.18s\tremaining: 18.4s\n",
            "106:\tlearn: 0.7841991\ttotal: 2.2s\tremaining: 18.4s\n",
            "107:\tlearn: 0.7824879\ttotal: 2.22s\tremaining: 18.4s\n",
            "108:\tlearn: 0.7815095\ttotal: 2.25s\tremaining: 18.4s\n",
            "109:\tlearn: 0.7799343\ttotal: 2.27s\tremaining: 18.4s\n",
            "110:\tlearn: 0.7787899\ttotal: 2.3s\tremaining: 18.4s\n",
            "111:\tlearn: 0.7771919\ttotal: 2.32s\tremaining: 18.4s\n",
            "112:\tlearn: 0.7765245\ttotal: 2.35s\tremaining: 18.5s\n",
            "113:\tlearn: 0.7754228\ttotal: 2.37s\tremaining: 18.4s\n",
            "114:\tlearn: 0.7744339\ttotal: 2.38s\tremaining: 18.3s\n",
            "115:\tlearn: 0.7725456\ttotal: 2.4s\tremaining: 18.3s\n",
            "116:\tlearn: 0.7712282\ttotal: 2.42s\tremaining: 18.3s\n",
            "117:\tlearn: 0.7700641\ttotal: 2.44s\tremaining: 18.3s\n",
            "118:\tlearn: 0.7689395\ttotal: 2.47s\tremaining: 18.3s\n",
            "119:\tlearn: 0.7670391\ttotal: 2.5s\tremaining: 18.3s\n",
            "120:\tlearn: 0.7660132\ttotal: 2.52s\tremaining: 18.3s\n",
            "121:\tlearn: 0.7647761\ttotal: 2.55s\tremaining: 18.3s\n",
            "122:\tlearn: 0.7634543\ttotal: 2.57s\tremaining: 18.3s\n",
            "123:\tlearn: 0.7627781\ttotal: 2.59s\tremaining: 18.3s\n",
            "124:\tlearn: 0.7620098\ttotal: 2.62s\tremaining: 18.3s\n",
            "125:\tlearn: 0.7611489\ttotal: 2.64s\tremaining: 18.3s\n",
            "126:\tlearn: 0.7603470\ttotal: 2.66s\tremaining: 18.3s\n",
            "127:\tlearn: 0.7590562\ttotal: 2.68s\tremaining: 18.3s\n",
            "128:\tlearn: 0.7581480\ttotal: 2.71s\tremaining: 18.3s\n",
            "129:\tlearn: 0.7574002\ttotal: 2.73s\tremaining: 18.3s\n",
            "130:\tlearn: 0.7555691\ttotal: 2.76s\tremaining: 18.3s\n",
            "131:\tlearn: 0.7537858\ttotal: 2.79s\tremaining: 18.4s\n",
            "132:\tlearn: 0.7529198\ttotal: 2.82s\tremaining: 18.4s\n",
            "133:\tlearn: 0.7516372\ttotal: 2.84s\tremaining: 18.4s\n",
            "134:\tlearn: 0.7503379\ttotal: 2.87s\tremaining: 18.4s\n",
            "135:\tlearn: 0.7490900\ttotal: 2.89s\tremaining: 18.4s\n",
            "136:\tlearn: 0.7478060\ttotal: 2.92s\tremaining: 18.4s\n",
            "137:\tlearn: 0.7470218\ttotal: 2.94s\tremaining: 18.3s\n",
            "138:\tlearn: 0.7454382\ttotal: 2.96s\tremaining: 18.3s\n",
            "139:\tlearn: 0.7444266\ttotal: 2.99s\tremaining: 18.4s\n",
            "140:\tlearn: 0.7432552\ttotal: 3.02s\tremaining: 18.4s\n",
            "141:\tlearn: 0.7424174\ttotal: 3.05s\tremaining: 18.4s\n",
            "142:\tlearn: 0.7409494\ttotal: 3.08s\tremaining: 18.5s\n",
            "143:\tlearn: 0.7399625\ttotal: 3.11s\tremaining: 18.5s\n",
            "144:\tlearn: 0.7385276\ttotal: 3.14s\tremaining: 18.5s\n",
            "145:\tlearn: 0.7373760\ttotal: 3.17s\tremaining: 18.6s\n",
            "146:\tlearn: 0.7362940\ttotal: 3.2s\tremaining: 18.6s\n",
            "147:\tlearn: 0.7351768\ttotal: 3.23s\tremaining: 18.6s\n",
            "148:\tlearn: 0.7346785\ttotal: 3.25s\tremaining: 18.6s\n",
            "149:\tlearn: 0.7339902\ttotal: 3.26s\tremaining: 18.5s\n",
            "150:\tlearn: 0.7326764\ttotal: 3.27s\tremaining: 18.4s\n",
            "151:\tlearn: 0.7320548\ttotal: 3.29s\tremaining: 18.4s\n",
            "152:\tlearn: 0.7303516\ttotal: 3.31s\tremaining: 18.3s\n",
            "153:\tlearn: 0.7298947\ttotal: 3.33s\tremaining: 18.3s\n",
            "154:\tlearn: 0.7288409\ttotal: 3.35s\tremaining: 18.3s\n",
            "155:\tlearn: 0.7276656\ttotal: 3.38s\tremaining: 18.3s\n",
            "156:\tlearn: 0.7260909\ttotal: 3.42s\tremaining: 18.4s\n",
            "157:\tlearn: 0.7251070\ttotal: 3.45s\tremaining: 18.4s\n",
            "158:\tlearn: 0.7246383\ttotal: 3.47s\tremaining: 18.3s\n",
            "159:\tlearn: 0.7239669\ttotal: 3.49s\tremaining: 18.3s\n",
            "160:\tlearn: 0.7230970\ttotal: 3.52s\tremaining: 18.3s\n",
            "161:\tlearn: 0.7221110\ttotal: 3.53s\tremaining: 18.3s\n",
            "162:\tlearn: 0.7217281\ttotal: 3.55s\tremaining: 18.2s\n",
            "163:\tlearn: 0.7208578\ttotal: 3.57s\tremaining: 18.2s\n",
            "164:\tlearn: 0.7200792\ttotal: 3.59s\tremaining: 18.2s\n",
            "165:\tlearn: 0.7190207\ttotal: 3.61s\tremaining: 18.1s\n",
            "166:\tlearn: 0.7178256\ttotal: 3.62s\tremaining: 18.1s\n",
            "167:\tlearn: 0.7172312\ttotal: 3.64s\tremaining: 18s\n",
            "168:\tlearn: 0.7166416\ttotal: 3.65s\tremaining: 18s\n",
            "169:\tlearn: 0.7161515\ttotal: 3.67s\tremaining: 17.9s\n",
            "170:\tlearn: 0.7153349\ttotal: 3.68s\tremaining: 17.8s\n",
            "171:\tlearn: 0.7144595\ttotal: 3.7s\tremaining: 17.8s\n",
            "172:\tlearn: 0.7136529\ttotal: 3.71s\tremaining: 17.7s\n",
            "173:\tlearn: 0.7126450\ttotal: 3.73s\tremaining: 17.7s\n",
            "174:\tlearn: 0.7114500\ttotal: 3.76s\tremaining: 17.7s\n",
            "175:\tlearn: 0.7107711\ttotal: 3.77s\tremaining: 17.7s\n",
            "176:\tlearn: 0.7095834\ttotal: 3.8s\tremaining: 17.7s\n",
            "177:\tlearn: 0.7085846\ttotal: 3.82s\tremaining: 17.6s\n",
            "178:\tlearn: 0.7078750\ttotal: 3.84s\tremaining: 17.6s\n",
            "179:\tlearn: 0.7071409\ttotal: 3.87s\tremaining: 17.6s\n",
            "180:\tlearn: 0.7059419\ttotal: 3.91s\tremaining: 17.7s\n",
            "181:\tlearn: 0.7047037\ttotal: 3.97s\tremaining: 17.8s\n",
            "182:\tlearn: 0.7037391\ttotal: 3.99s\tremaining: 17.8s\n",
            "183:\tlearn: 0.7028241\ttotal: 4.02s\tremaining: 17.8s\n",
            "184:\tlearn: 0.7019412\ttotal: 4.05s\tremaining: 17.8s\n",
            "185:\tlearn: 0.7009891\ttotal: 4.07s\tremaining: 17.8s\n",
            "186:\tlearn: 0.6998186\ttotal: 4.08s\tremaining: 17.8s\n",
            "187:\tlearn: 0.6988338\ttotal: 4.1s\tremaining: 17.7s\n",
            "188:\tlearn: 0.6976860\ttotal: 4.12s\tremaining: 17.7s\n",
            "189:\tlearn: 0.6970890\ttotal: 4.14s\tremaining: 17.7s\n",
            "190:\tlearn: 0.6956662\ttotal: 4.17s\tremaining: 17.6s\n",
            "191:\tlearn: 0.6948113\ttotal: 4.19s\tremaining: 17.6s\n",
            "192:\tlearn: 0.6937350\ttotal: 4.2s\tremaining: 17.6s\n",
            "193:\tlearn: 0.6932381\ttotal: 4.21s\tremaining: 17.5s\n",
            "194:\tlearn: 0.6918565\ttotal: 4.23s\tremaining: 17.5s\n",
            "195:\tlearn: 0.6914994\ttotal: 4.24s\tremaining: 17.4s\n",
            "196:\tlearn: 0.6902698\ttotal: 4.26s\tremaining: 17.4s\n",
            "197:\tlearn: 0.6894462\ttotal: 4.28s\tremaining: 17.3s\n",
            "198:\tlearn: 0.6884745\ttotal: 4.29s\tremaining: 17.3s\n",
            "199:\tlearn: 0.6873427\ttotal: 4.3s\tremaining: 17.2s\n",
            "200:\tlearn: 0.6866560\ttotal: 4.31s\tremaining: 17.1s\n",
            "201:\tlearn: 0.6861542\ttotal: 4.32s\tremaining: 17.1s\n",
            "202:\tlearn: 0.6856767\ttotal: 4.32s\tremaining: 17s\n",
            "203:\tlearn: 0.6849697\ttotal: 4.33s\tremaining: 16.9s\n",
            "204:\tlearn: 0.6841743\ttotal: 4.34s\tremaining: 16.8s\n",
            "205:\tlearn: 0.6832872\ttotal: 4.35s\tremaining: 16.8s\n",
            "206:\tlearn: 0.6826718\ttotal: 4.36s\tremaining: 16.7s\n",
            "207:\tlearn: 0.6819174\ttotal: 4.37s\tremaining: 16.6s\n",
            "208:\tlearn: 0.6808646\ttotal: 4.38s\tremaining: 16.6s\n",
            "209:\tlearn: 0.6799802\ttotal: 4.39s\tremaining: 16.5s\n",
            "210:\tlearn: 0.6787809\ttotal: 4.4s\tremaining: 16.4s\n",
            "211:\tlearn: 0.6781287\ttotal: 4.41s\tremaining: 16.4s\n",
            "212:\tlearn: 0.6770215\ttotal: 4.42s\tremaining: 16.3s\n",
            "213:\tlearn: 0.6760982\ttotal: 4.43s\tremaining: 16.3s\n",
            "214:\tlearn: 0.6751544\ttotal: 4.44s\tremaining: 16.2s\n",
            "215:\tlearn: 0.6740804\ttotal: 4.45s\tremaining: 16.1s\n",
            "216:\tlearn: 0.6732416\ttotal: 4.46s\tremaining: 16.1s\n",
            "217:\tlearn: 0.6723206\ttotal: 4.47s\tremaining: 16s\n",
            "218:\tlearn: 0.6716706\ttotal: 4.48s\tremaining: 16s\n",
            "219:\tlearn: 0.6710270\ttotal: 4.49s\tremaining: 15.9s\n",
            "220:\tlearn: 0.6702070\ttotal: 4.5s\tremaining: 15.9s\n",
            "221:\tlearn: 0.6690367\ttotal: 4.51s\tremaining: 15.8s\n",
            "222:\tlearn: 0.6680138\ttotal: 4.52s\tremaining: 15.8s\n",
            "223:\tlearn: 0.6672553\ttotal: 4.53s\tremaining: 15.7s\n",
            "224:\tlearn: 0.6666201\ttotal: 4.54s\tremaining: 15.6s\n",
            "225:\tlearn: 0.6658195\ttotal: 4.55s\tremaining: 15.6s\n",
            "226:\tlearn: 0.6648734\ttotal: 4.56s\tremaining: 15.5s\n",
            "227:\tlearn: 0.6637483\ttotal: 4.57s\tremaining: 15.5s\n",
            "228:\tlearn: 0.6631897\ttotal: 4.58s\tremaining: 15.4s\n",
            "229:\tlearn: 0.6618091\ttotal: 4.59s\tremaining: 15.4s\n",
            "230:\tlearn: 0.6611089\ttotal: 4.59s\tremaining: 15.3s\n",
            "231:\tlearn: 0.6601063\ttotal: 4.6s\tremaining: 15.2s\n",
            "232:\tlearn: 0.6595907\ttotal: 4.61s\tremaining: 15.2s\n",
            "233:\tlearn: 0.6587598\ttotal: 4.62s\tremaining: 15.1s\n",
            "234:\tlearn: 0.6578333\ttotal: 4.63s\tremaining: 15.1s\n",
            "235:\tlearn: 0.6572850\ttotal: 4.65s\tremaining: 15.1s\n",
            "236:\tlearn: 0.6561983\ttotal: 4.66s\tremaining: 15s\n",
            "237:\tlearn: 0.6555281\ttotal: 4.67s\tremaining: 15s\n",
            "238:\tlearn: 0.6545807\ttotal: 4.68s\tremaining: 14.9s\n",
            "239:\tlearn: 0.6533517\ttotal: 4.69s\tremaining: 14.9s\n",
            "240:\tlearn: 0.6522035\ttotal: 4.7s\tremaining: 14.8s\n",
            "241:\tlearn: 0.6514371\ttotal: 4.71s\tremaining: 14.8s\n",
            "242:\tlearn: 0.6507680\ttotal: 4.72s\tremaining: 14.7s\n",
            "243:\tlearn: 0.6502570\ttotal: 4.73s\tremaining: 14.7s\n",
            "244:\tlearn: 0.6491851\ttotal: 4.74s\tremaining: 14.6s\n",
            "245:\tlearn: 0.6482960\ttotal: 4.76s\tremaining: 14.6s\n",
            "246:\tlearn: 0.6476792\ttotal: 4.77s\tremaining: 14.5s\n",
            "247:\tlearn: 0.6470333\ttotal: 4.78s\tremaining: 14.5s\n",
            "248:\tlearn: 0.6460021\ttotal: 4.79s\tremaining: 14.5s\n",
            "249:\tlearn: 0.6452566\ttotal: 4.8s\tremaining: 14.4s\n",
            "250:\tlearn: 0.6442031\ttotal: 4.81s\tremaining: 14.4s\n",
            "251:\tlearn: 0.6432826\ttotal: 4.82s\tremaining: 14.3s\n",
            "252:\tlearn: 0.6421475\ttotal: 4.83s\tremaining: 14.3s\n",
            "253:\tlearn: 0.6414371\ttotal: 4.84s\tremaining: 14.2s\n",
            "254:\tlearn: 0.6408739\ttotal: 4.85s\tremaining: 14.2s\n",
            "255:\tlearn: 0.6396861\ttotal: 4.86s\tremaining: 14.1s\n",
            "256:\tlearn: 0.6390207\ttotal: 4.87s\tremaining: 14.1s\n",
            "257:\tlearn: 0.6386951\ttotal: 4.88s\tremaining: 14s\n",
            "258:\tlearn: 0.6376923\ttotal: 4.89s\tremaining: 14s\n",
            "259:\tlearn: 0.6371810\ttotal: 4.9s\tremaining: 14s\n",
            "260:\tlearn: 0.6361884\ttotal: 4.91s\tremaining: 13.9s\n",
            "261:\tlearn: 0.6351722\ttotal: 4.92s\tremaining: 13.9s\n",
            "262:\tlearn: 0.6345101\ttotal: 4.93s\tremaining: 13.8s\n",
            "263:\tlearn: 0.6335108\ttotal: 4.94s\tremaining: 13.8s\n",
            "264:\tlearn: 0.6327891\ttotal: 4.95s\tremaining: 13.7s\n",
            "265:\tlearn: 0.6325219\ttotal: 4.96s\tremaining: 13.7s\n",
            "266:\tlearn: 0.6317875\ttotal: 4.97s\tremaining: 13.6s\n",
            "267:\tlearn: 0.6314050\ttotal: 4.98s\tremaining: 13.6s\n",
            "268:\tlearn: 0.6307134\ttotal: 4.99s\tremaining: 13.6s\n",
            "269:\tlearn: 0.6303609\ttotal: 5s\tremaining: 13.5s\n",
            "270:\tlearn: 0.6297878\ttotal: 5s\tremaining: 13.5s\n",
            "271:\tlearn: 0.6291481\ttotal: 5.01s\tremaining: 13.4s\n",
            "272:\tlearn: 0.6284056\ttotal: 5.02s\tremaining: 13.4s\n",
            "273:\tlearn: 0.6271643\ttotal: 5.03s\tremaining: 13.3s\n",
            "274:\tlearn: 0.6261566\ttotal: 5.04s\tremaining: 13.3s\n",
            "275:\tlearn: 0.6251500\ttotal: 5.05s\tremaining: 13.2s\n",
            "276:\tlearn: 0.6245952\ttotal: 5.06s\tremaining: 13.2s\n",
            "277:\tlearn: 0.6235836\ttotal: 5.07s\tremaining: 13.2s\n",
            "278:\tlearn: 0.6226821\ttotal: 5.08s\tremaining: 13.1s\n",
            "279:\tlearn: 0.6218321\ttotal: 5.09s\tremaining: 13.1s\n",
            "280:\tlearn: 0.6211946\ttotal: 5.1s\tremaining: 13s\n",
            "281:\tlearn: 0.6203672\ttotal: 5.11s\tremaining: 13s\n",
            "282:\tlearn: 0.6196379\ttotal: 5.12s\tremaining: 13s\n",
            "283:\tlearn: 0.6190793\ttotal: 5.12s\tremaining: 12.9s\n",
            "284:\tlearn: 0.6184460\ttotal: 5.13s\tremaining: 12.9s\n",
            "285:\tlearn: 0.6177509\ttotal: 5.14s\tremaining: 12.8s\n",
            "286:\tlearn: 0.6171724\ttotal: 5.15s\tremaining: 12.8s\n",
            "287:\tlearn: 0.6165733\ttotal: 5.16s\tremaining: 12.8s\n",
            "288:\tlearn: 0.6159812\ttotal: 5.17s\tremaining: 12.7s\n",
            "289:\tlearn: 0.6153275\ttotal: 5.18s\tremaining: 12.7s\n",
            "290:\tlearn: 0.6143852\ttotal: 5.19s\tremaining: 12.7s\n",
            "291:\tlearn: 0.6140400\ttotal: 5.2s\tremaining: 12.6s\n",
            "292:\tlearn: 0.6135752\ttotal: 5.21s\tremaining: 12.6s\n",
            "293:\tlearn: 0.6129319\ttotal: 5.22s\tremaining: 12.5s\n",
            "294:\tlearn: 0.6125394\ttotal: 5.23s\tremaining: 12.5s\n",
            "295:\tlearn: 0.6119901\ttotal: 5.24s\tremaining: 12.5s\n",
            "296:\tlearn: 0.6109916\ttotal: 5.26s\tremaining: 12.4s\n",
            "297:\tlearn: 0.6102690\ttotal: 5.28s\tremaining: 12.4s\n",
            "298:\tlearn: 0.6092557\ttotal: 5.31s\tremaining: 12.4s\n",
            "299:\tlearn: 0.6087434\ttotal: 5.33s\tremaining: 12.4s\n",
            "300:\tlearn: 0.6081471\ttotal: 5.36s\tremaining: 12.4s\n",
            "301:\tlearn: 0.6075833\ttotal: 5.38s\tremaining: 12.4s\n",
            "302:\tlearn: 0.6067907\ttotal: 5.4s\tremaining: 12.4s\n",
            "303:\tlearn: 0.6061373\ttotal: 5.43s\tremaining: 12.4s\n",
            "304:\tlearn: 0.6058820\ttotal: 5.45s\tremaining: 12.4s\n",
            "305:\tlearn: 0.6053094\ttotal: 5.47s\tremaining: 12.4s\n",
            "306:\tlearn: 0.6043242\ttotal: 5.5s\tremaining: 12.4s\n",
            "307:\tlearn: 0.6036686\ttotal: 5.53s\tremaining: 12.4s\n",
            "308:\tlearn: 0.6030757\ttotal: 5.54s\tremaining: 12.4s\n",
            "309:\tlearn: 0.6020816\ttotal: 5.56s\tremaining: 12.4s\n",
            "310:\tlearn: 0.6015676\ttotal: 5.58s\tremaining: 12.4s\n",
            "311:\tlearn: 0.6011363\ttotal: 5.59s\tremaining: 12.3s\n",
            "312:\tlearn: 0.6006337\ttotal: 5.61s\tremaining: 12.3s\n",
            "313:\tlearn: 0.6000627\ttotal: 5.63s\tremaining: 12.3s\n",
            "314:\tlearn: 0.5993495\ttotal: 5.64s\tremaining: 12.3s\n",
            "315:\tlearn: 0.5985502\ttotal: 5.64s\tremaining: 12.2s\n",
            "316:\tlearn: 0.5978767\ttotal: 5.65s\tremaining: 12.2s\n",
            "317:\tlearn: 0.5969437\ttotal: 5.66s\tremaining: 12.1s\n",
            "318:\tlearn: 0.5967861\ttotal: 5.67s\tremaining: 12.1s\n",
            "319:\tlearn: 0.5959711\ttotal: 5.68s\tremaining: 12.1s\n",
            "320:\tlearn: 0.5955065\ttotal: 5.69s\tremaining: 12s\n",
            "321:\tlearn: 0.5950935\ttotal: 5.7s\tremaining: 12s\n",
            "322:\tlearn: 0.5946451\ttotal: 5.71s\tremaining: 12s\n",
            "323:\tlearn: 0.5940747\ttotal: 5.72s\tremaining: 11.9s\n",
            "324:\tlearn: 0.5934495\ttotal: 5.73s\tremaining: 11.9s\n",
            "325:\tlearn: 0.5924156\ttotal: 5.75s\tremaining: 11.9s\n",
            "326:\tlearn: 0.5914460\ttotal: 5.76s\tremaining: 11.9s\n",
            "327:\tlearn: 0.5904621\ttotal: 5.77s\tremaining: 11.8s\n",
            "328:\tlearn: 0.5897138\ttotal: 5.78s\tremaining: 11.8s\n",
            "329:\tlearn: 0.5889064\ttotal: 5.79s\tremaining: 11.8s\n",
            "330:\tlearn: 0.5879681\ttotal: 5.8s\tremaining: 11.7s\n",
            "331:\tlearn: 0.5871903\ttotal: 5.81s\tremaining: 11.7s\n",
            "332:\tlearn: 0.5865847\ttotal: 5.82s\tremaining: 11.7s\n",
            "333:\tlearn: 0.5855567\ttotal: 5.83s\tremaining: 11.6s\n",
            "334:\tlearn: 0.5851764\ttotal: 5.84s\tremaining: 11.6s\n",
            "335:\tlearn: 0.5844540\ttotal: 5.85s\tremaining: 11.6s\n",
            "336:\tlearn: 0.5840344\ttotal: 5.86s\tremaining: 11.5s\n",
            "337:\tlearn: 0.5832863\ttotal: 5.87s\tremaining: 11.5s\n",
            "338:\tlearn: 0.5825798\ttotal: 5.88s\tremaining: 11.5s\n",
            "339:\tlearn: 0.5818773\ttotal: 5.91s\tremaining: 11.5s\n",
            "340:\tlearn: 0.5813400\ttotal: 5.92s\tremaining: 11.4s\n",
            "341:\tlearn: 0.5806096\ttotal: 5.93s\tremaining: 11.4s\n",
            "342:\tlearn: 0.5797763\ttotal: 5.93s\tremaining: 11.4s\n",
            "343:\tlearn: 0.5792775\ttotal: 5.94s\tremaining: 11.3s\n",
            "344:\tlearn: 0.5787781\ttotal: 5.95s\tremaining: 11.3s\n",
            "345:\tlearn: 0.5782251\ttotal: 5.96s\tremaining: 11.3s\n",
            "346:\tlearn: 0.5776516\ttotal: 5.97s\tremaining: 11.2s\n",
            "347:\tlearn: 0.5770235\ttotal: 5.98s\tremaining: 11.2s\n",
            "348:\tlearn: 0.5765418\ttotal: 5.99s\tremaining: 11.2s\n",
            "349:\tlearn: 0.5761840\ttotal: 6s\tremaining: 11.1s\n",
            "350:\tlearn: 0.5755505\ttotal: 6.01s\tremaining: 11.1s\n",
            "351:\tlearn: 0.5745794\ttotal: 6.01s\tremaining: 11.1s\n",
            "352:\tlearn: 0.5736484\ttotal: 6.02s\tremaining: 11s\n",
            "353:\tlearn: 0.5726444\ttotal: 6.04s\tremaining: 11s\n",
            "354:\tlearn: 0.5720855\ttotal: 6.05s\tremaining: 11s\n",
            "355:\tlearn: 0.5715520\ttotal: 6.06s\tremaining: 11s\n",
            "356:\tlearn: 0.5706868\ttotal: 6.07s\tremaining: 10.9s\n",
            "357:\tlearn: 0.5700698\ttotal: 6.08s\tremaining: 10.9s\n",
            "358:\tlearn: 0.5692908\ttotal: 6.09s\tremaining: 10.9s\n",
            "359:\tlearn: 0.5685885\ttotal: 6.1s\tremaining: 10.8s\n",
            "360:\tlearn: 0.5678445\ttotal: 6.11s\tremaining: 10.8s\n",
            "361:\tlearn: 0.5674160\ttotal: 6.12s\tremaining: 10.8s\n",
            "362:\tlearn: 0.5664467\ttotal: 6.13s\tremaining: 10.8s\n",
            "363:\tlearn: 0.5660505\ttotal: 6.14s\tremaining: 10.7s\n",
            "364:\tlearn: 0.5653221\ttotal: 6.15s\tremaining: 10.7s\n",
            "365:\tlearn: 0.5646634\ttotal: 6.16s\tremaining: 10.7s\n",
            "366:\tlearn: 0.5640360\ttotal: 6.17s\tremaining: 10.6s\n",
            "367:\tlearn: 0.5635080\ttotal: 6.17s\tremaining: 10.6s\n",
            "368:\tlearn: 0.5631310\ttotal: 6.18s\tremaining: 10.6s\n",
            "369:\tlearn: 0.5622258\ttotal: 6.19s\tremaining: 10.5s\n",
            "370:\tlearn: 0.5619535\ttotal: 6.2s\tremaining: 10.5s\n",
            "371:\tlearn: 0.5611172\ttotal: 6.21s\tremaining: 10.5s\n",
            "372:\tlearn: 0.5603768\ttotal: 6.22s\tremaining: 10.5s\n",
            "373:\tlearn: 0.5598588\ttotal: 6.23s\tremaining: 10.4s\n",
            "374:\tlearn: 0.5595810\ttotal: 6.24s\tremaining: 10.4s\n",
            "375:\tlearn: 0.5589438\ttotal: 6.25s\tremaining: 10.4s\n",
            "376:\tlearn: 0.5581836\ttotal: 6.26s\tremaining: 10.3s\n",
            "377:\tlearn: 0.5574310\ttotal: 6.27s\tremaining: 10.3s\n",
            "378:\tlearn: 0.5571648\ttotal: 6.28s\tremaining: 10.3s\n",
            "379:\tlearn: 0.5567008\ttotal: 6.28s\tremaining: 10.3s\n",
            "380:\tlearn: 0.5559041\ttotal: 6.29s\tremaining: 10.2s\n",
            "381:\tlearn: 0.5554809\ttotal: 6.3s\tremaining: 10.2s\n",
            "382:\tlearn: 0.5548448\ttotal: 6.32s\tremaining: 10.2s\n",
            "383:\tlearn: 0.5545578\ttotal: 6.33s\tremaining: 10.1s\n",
            "384:\tlearn: 0.5540527\ttotal: 6.33s\tremaining: 10.1s\n",
            "385:\tlearn: 0.5535179\ttotal: 6.34s\tremaining: 10.1s\n",
            "386:\tlearn: 0.5532392\ttotal: 6.35s\tremaining: 10.1s\n",
            "387:\tlearn: 0.5526976\ttotal: 6.36s\tremaining: 10s\n",
            "388:\tlearn: 0.5522263\ttotal: 6.37s\tremaining: 10s\n",
            "389:\tlearn: 0.5519378\ttotal: 6.38s\tremaining: 9.98s\n",
            "390:\tlearn: 0.5514599\ttotal: 6.39s\tremaining: 9.95s\n",
            "391:\tlearn: 0.5510099\ttotal: 6.39s\tremaining: 9.92s\n",
            "392:\tlearn: 0.5505823\ttotal: 6.4s\tremaining: 9.89s\n",
            "393:\tlearn: 0.5498158\ttotal: 6.41s\tremaining: 9.86s\n",
            "394:\tlearn: 0.5492851\ttotal: 6.42s\tremaining: 9.84s\n",
            "395:\tlearn: 0.5488489\ttotal: 6.43s\tremaining: 9.81s\n",
            "396:\tlearn: 0.5482841\ttotal: 6.44s\tremaining: 9.78s\n",
            "397:\tlearn: 0.5477972\ttotal: 6.45s\tremaining: 9.75s\n",
            "398:\tlearn: 0.5470125\ttotal: 6.46s\tremaining: 9.72s\n",
            "399:\tlearn: 0.5465754\ttotal: 6.46s\tremaining: 9.7s\n",
            "400:\tlearn: 0.5458879\ttotal: 6.47s\tremaining: 9.67s\n",
            "401:\tlearn: 0.5454650\ttotal: 6.48s\tremaining: 9.64s\n",
            "402:\tlearn: 0.5446034\ttotal: 6.49s\tremaining: 9.62s\n",
            "403:\tlearn: 0.5438989\ttotal: 6.5s\tremaining: 9.59s\n",
            "404:\tlearn: 0.5433244\ttotal: 6.51s\tremaining: 9.56s\n",
            "405:\tlearn: 0.5426211\ttotal: 6.52s\tremaining: 9.54s\n",
            "406:\tlearn: 0.5422509\ttotal: 6.53s\tremaining: 9.52s\n",
            "407:\tlearn: 0.5418886\ttotal: 6.54s\tremaining: 9.49s\n",
            "408:\tlearn: 0.5415763\ttotal: 6.55s\tremaining: 9.47s\n",
            "409:\tlearn: 0.5411282\ttotal: 6.56s\tremaining: 9.45s\n",
            "410:\tlearn: 0.5407073\ttotal: 6.57s\tremaining: 9.42s\n",
            "411:\tlearn: 0.5402176\ttotal: 6.58s\tremaining: 9.39s\n",
            "412:\tlearn: 0.5397319\ttotal: 6.59s\tremaining: 9.37s\n",
            "413:\tlearn: 0.5391459\ttotal: 6.6s\tremaining: 9.34s\n",
            "414:\tlearn: 0.5385734\ttotal: 6.61s\tremaining: 9.31s\n",
            "415:\tlearn: 0.5382009\ttotal: 6.62s\tremaining: 9.29s\n",
            "416:\tlearn: 0.5377191\ttotal: 6.63s\tremaining: 9.26s\n",
            "417:\tlearn: 0.5371406\ttotal: 6.63s\tremaining: 9.24s\n",
            "418:\tlearn: 0.5364726\ttotal: 6.64s\tremaining: 9.21s\n",
            "419:\tlearn: 0.5359053\ttotal: 6.65s\tremaining: 9.19s\n",
            "420:\tlearn: 0.5355985\ttotal: 6.66s\tremaining: 9.16s\n",
            "421:\tlearn: 0.5346664\ttotal: 6.67s\tremaining: 9.14s\n",
            "422:\tlearn: 0.5339645\ttotal: 6.69s\tremaining: 9.13s\n",
            "423:\tlearn: 0.5337346\ttotal: 6.7s\tremaining: 9.11s\n",
            "424:\tlearn: 0.5328421\ttotal: 6.72s\tremaining: 9.09s\n",
            "425:\tlearn: 0.5321339\ttotal: 6.74s\tremaining: 9.08s\n",
            "426:\tlearn: 0.5314964\ttotal: 6.75s\tremaining: 9.06s\n",
            "427:\tlearn: 0.5309868\ttotal: 6.76s\tremaining: 9.03s\n",
            "428:\tlearn: 0.5305149\ttotal: 6.77s\tremaining: 9.01s\n",
            "429:\tlearn: 0.5301065\ttotal: 6.78s\tremaining: 8.98s\n",
            "430:\tlearn: 0.5296444\ttotal: 6.79s\tremaining: 8.96s\n",
            "431:\tlearn: 0.5291180\ttotal: 6.8s\tremaining: 8.94s\n",
            "432:\tlearn: 0.5289377\ttotal: 6.81s\tremaining: 8.91s\n",
            "433:\tlearn: 0.5280837\ttotal: 6.82s\tremaining: 8.89s\n",
            "434:\tlearn: 0.5275994\ttotal: 6.82s\tremaining: 8.86s\n",
            "435:\tlearn: 0.5271785\ttotal: 6.83s\tremaining: 8.84s\n",
            "436:\tlearn: 0.5265610\ttotal: 6.84s\tremaining: 8.82s\n",
            "437:\tlearn: 0.5260665\ttotal: 6.85s\tremaining: 8.79s\n",
            "438:\tlearn: 0.5253011\ttotal: 6.86s\tremaining: 8.77s\n",
            "439:\tlearn: 0.5248253\ttotal: 6.87s\tremaining: 8.74s\n",
            "440:\tlearn: 0.5246078\ttotal: 6.88s\tremaining: 8.72s\n",
            "441:\tlearn: 0.5238766\ttotal: 6.89s\tremaining: 8.7s\n",
            "442:\tlearn: 0.5232940\ttotal: 6.9s\tremaining: 8.67s\n",
            "443:\tlearn: 0.5229151\ttotal: 6.91s\tremaining: 8.65s\n",
            "444:\tlearn: 0.5224579\ttotal: 6.92s\tremaining: 8.63s\n",
            "445:\tlearn: 0.5219694\ttotal: 6.93s\tremaining: 8.61s\n",
            "446:\tlearn: 0.5212542\ttotal: 6.94s\tremaining: 8.58s\n",
            "447:\tlearn: 0.5208433\ttotal: 6.95s\tremaining: 8.56s\n",
            "448:\tlearn: 0.5203244\ttotal: 6.96s\tremaining: 8.54s\n",
            "449:\tlearn: 0.5195650\ttotal: 6.96s\tremaining: 8.51s\n",
            "450:\tlearn: 0.5189982\ttotal: 6.97s\tremaining: 8.49s\n",
            "451:\tlearn: 0.5182973\ttotal: 6.98s\tremaining: 8.46s\n",
            "452:\tlearn: 0.5177774\ttotal: 6.99s\tremaining: 8.44s\n",
            "453:\tlearn: 0.5171501\ttotal: 7s\tremaining: 8.42s\n",
            "454:\tlearn: 0.5165629\ttotal: 7.01s\tremaining: 8.39s\n",
            "455:\tlearn: 0.5163449\ttotal: 7.02s\tremaining: 8.37s\n",
            "456:\tlearn: 0.5159650\ttotal: 7.03s\tremaining: 8.35s\n",
            "457:\tlearn: 0.5155960\ttotal: 7.04s\tremaining: 8.33s\n",
            "458:\tlearn: 0.5152008\ttotal: 7.04s\tremaining: 8.3s\n",
            "459:\tlearn: 0.5143679\ttotal: 7.05s\tremaining: 8.28s\n",
            "460:\tlearn: 0.5137502\ttotal: 7.07s\tremaining: 8.26s\n",
            "461:\tlearn: 0.5132287\ttotal: 7.07s\tremaining: 8.24s\n",
            "462:\tlearn: 0.5127278\ttotal: 7.08s\tremaining: 8.21s\n",
            "463:\tlearn: 0.5122744\ttotal: 7.09s\tremaining: 8.19s\n",
            "464:\tlearn: 0.5119158\ttotal: 7.1s\tremaining: 8.17s\n",
            "465:\tlearn: 0.5113512\ttotal: 7.11s\tremaining: 8.15s\n",
            "466:\tlearn: 0.5109463\ttotal: 7.12s\tremaining: 8.13s\n",
            "467:\tlearn: 0.5102838\ttotal: 7.13s\tremaining: 8.11s\n",
            "468:\tlearn: 0.5096608\ttotal: 7.14s\tremaining: 8.09s\n",
            "469:\tlearn: 0.5091076\ttotal: 7.15s\tremaining: 8.06s\n",
            "470:\tlearn: 0.5084979\ttotal: 7.16s\tremaining: 8.04s\n",
            "471:\tlearn: 0.5080564\ttotal: 7.17s\tremaining: 8.02s\n",
            "472:\tlearn: 0.5074122\ttotal: 7.18s\tremaining: 8s\n",
            "473:\tlearn: 0.5068458\ttotal: 7.19s\tremaining: 7.98s\n",
            "474:\tlearn: 0.5065571\ttotal: 7.2s\tremaining: 7.96s\n",
            "475:\tlearn: 0.5060541\ttotal: 7.21s\tremaining: 7.93s\n",
            "476:\tlearn: 0.5053337\ttotal: 7.21s\tremaining: 7.91s\n",
            "477:\tlearn: 0.5049439\ttotal: 7.22s\tremaining: 7.89s\n",
            "478:\tlearn: 0.5043544\ttotal: 7.23s\tremaining: 7.87s\n",
            "479:\tlearn: 0.5038384\ttotal: 7.24s\tremaining: 7.84s\n",
            "480:\tlearn: 0.5035511\ttotal: 7.25s\tremaining: 7.82s\n",
            "481:\tlearn: 0.5031042\ttotal: 7.27s\tremaining: 7.81s\n",
            "482:\tlearn: 0.5022888\ttotal: 7.28s\tremaining: 7.79s\n",
            "483:\tlearn: 0.5020211\ttotal: 7.29s\tremaining: 7.77s\n",
            "484:\tlearn: 0.5016338\ttotal: 7.3s\tremaining: 7.75s\n",
            "485:\tlearn: 0.5012684\ttotal: 7.3s\tremaining: 7.72s\n",
            "486:\tlearn: 0.5006886\ttotal: 7.31s\tremaining: 7.7s\n",
            "487:\tlearn: 0.5002112\ttotal: 7.33s\tremaining: 7.69s\n",
            "488:\tlearn: 0.4994355\ttotal: 7.34s\tremaining: 7.67s\n",
            "489:\tlearn: 0.4988211\ttotal: 7.34s\tremaining: 7.64s\n",
            "490:\tlearn: 0.4982680\ttotal: 7.35s\tremaining: 7.62s\n",
            "491:\tlearn: 0.4978992\ttotal: 7.36s\tremaining: 7.6s\n",
            "492:\tlearn: 0.4976441\ttotal: 7.38s\tremaining: 7.59s\n",
            "493:\tlearn: 0.4974838\ttotal: 7.39s\tremaining: 7.57s\n",
            "494:\tlearn: 0.4970517\ttotal: 7.4s\tremaining: 7.55s\n",
            "495:\tlearn: 0.4963189\ttotal: 7.41s\tremaining: 7.53s\n",
            "496:\tlearn: 0.4959289\ttotal: 7.42s\tremaining: 7.51s\n",
            "497:\tlearn: 0.4954360\ttotal: 7.43s\tremaining: 7.49s\n",
            "498:\tlearn: 0.4949682\ttotal: 7.44s\tremaining: 7.46s\n",
            "499:\tlearn: 0.4942874\ttotal: 7.45s\tremaining: 7.45s\n",
            "500:\tlearn: 0.4936155\ttotal: 7.45s\tremaining: 7.42s\n",
            "501:\tlearn: 0.4927361\ttotal: 7.46s\tremaining: 7.4s\n",
            "502:\tlearn: 0.4923051\ttotal: 7.47s\tremaining: 7.38s\n",
            "503:\tlearn: 0.4918978\ttotal: 7.48s\tremaining: 7.36s\n",
            "504:\tlearn: 0.4912612\ttotal: 7.49s\tremaining: 7.34s\n",
            "505:\tlearn: 0.4909994\ttotal: 7.5s\tremaining: 7.32s\n",
            "506:\tlearn: 0.4908066\ttotal: 7.51s\tremaining: 7.31s\n",
            "507:\tlearn: 0.4903713\ttotal: 7.53s\tremaining: 7.29s\n",
            "508:\tlearn: 0.4897382\ttotal: 7.54s\tremaining: 7.27s\n",
            "509:\tlearn: 0.4892287\ttotal: 7.55s\tremaining: 7.25s\n",
            "510:\tlearn: 0.4887673\ttotal: 7.56s\tremaining: 7.23s\n",
            "511:\tlearn: 0.4884352\ttotal: 7.57s\tremaining: 7.21s\n",
            "512:\tlearn: 0.4881675\ttotal: 7.57s\tremaining: 7.19s\n",
            "513:\tlearn: 0.4878057\ttotal: 7.58s\tremaining: 7.17s\n",
            "514:\tlearn: 0.4872691\ttotal: 7.59s\tremaining: 7.15s\n",
            "515:\tlearn: 0.4867025\ttotal: 7.6s\tremaining: 7.13s\n",
            "516:\tlearn: 0.4862336\ttotal: 7.61s\tremaining: 7.11s\n",
            "517:\tlearn: 0.4858721\ttotal: 7.62s\tremaining: 7.09s\n",
            "518:\tlearn: 0.4855164\ttotal: 7.63s\tremaining: 7.07s\n",
            "519:\tlearn: 0.4851521\ttotal: 7.64s\tremaining: 7.05s\n",
            "520:\tlearn: 0.4844728\ttotal: 7.65s\tremaining: 7.03s\n",
            "521:\tlearn: 0.4838267\ttotal: 7.66s\tremaining: 7.01s\n",
            "522:\tlearn: 0.4828737\ttotal: 7.67s\tremaining: 6.99s\n",
            "523:\tlearn: 0.4823133\ttotal: 7.67s\tremaining: 6.97s\n",
            "524:\tlearn: 0.4818609\ttotal: 7.68s\tremaining: 6.95s\n",
            "525:\tlearn: 0.4812995\ttotal: 7.69s\tremaining: 6.93s\n",
            "526:\tlearn: 0.4808382\ttotal: 7.7s\tremaining: 6.91s\n",
            "527:\tlearn: 0.4802450\ttotal: 7.71s\tremaining: 6.89s\n",
            "528:\tlearn: 0.4798638\ttotal: 7.72s\tremaining: 6.88s\n",
            "529:\tlearn: 0.4795130\ttotal: 7.75s\tremaining: 6.87s\n",
            "530:\tlearn: 0.4789368\ttotal: 7.76s\tremaining: 6.85s\n",
            "531:\tlearn: 0.4784945\ttotal: 7.77s\tremaining: 6.83s\n",
            "532:\tlearn: 0.4778361\ttotal: 7.78s\tremaining: 6.81s\n",
            "533:\tlearn: 0.4775176\ttotal: 7.79s\tremaining: 6.79s\n",
            "534:\tlearn: 0.4772154\ttotal: 7.8s\tremaining: 6.78s\n",
            "535:\tlearn: 0.4769400\ttotal: 7.8s\tremaining: 6.76s\n",
            "536:\tlearn: 0.4763706\ttotal: 7.81s\tremaining: 6.74s\n",
            "537:\tlearn: 0.4761207\ttotal: 7.83s\tremaining: 6.72s\n",
            "538:\tlearn: 0.4756500\ttotal: 7.83s\tremaining: 6.7s\n",
            "539:\tlearn: 0.4752375\ttotal: 7.85s\tremaining: 6.68s\n",
            "540:\tlearn: 0.4746923\ttotal: 7.86s\tremaining: 6.67s\n",
            "541:\tlearn: 0.4743500\ttotal: 7.87s\tremaining: 6.65s\n",
            "542:\tlearn: 0.4738882\ttotal: 7.88s\tremaining: 6.63s\n",
            "543:\tlearn: 0.4730468\ttotal: 7.88s\tremaining: 6.61s\n",
            "544:\tlearn: 0.4723862\ttotal: 7.89s\tremaining: 6.59s\n",
            "545:\tlearn: 0.4719564\ttotal: 7.9s\tremaining: 6.57s\n",
            "546:\tlearn: 0.4714017\ttotal: 7.91s\tremaining: 6.55s\n",
            "547:\tlearn: 0.4711095\ttotal: 7.92s\tremaining: 6.53s\n",
            "548:\tlearn: 0.4708694\ttotal: 7.93s\tremaining: 6.51s\n",
            "549:\tlearn: 0.4706113\ttotal: 7.94s\tremaining: 6.5s\n",
            "550:\tlearn: 0.4700386\ttotal: 7.95s\tremaining: 6.48s\n",
            "551:\tlearn: 0.4696642\ttotal: 7.96s\tremaining: 6.46s\n",
            "552:\tlearn: 0.4692607\ttotal: 7.97s\tremaining: 6.44s\n",
            "553:\tlearn: 0.4686412\ttotal: 7.98s\tremaining: 6.42s\n",
            "554:\tlearn: 0.4681771\ttotal: 7.99s\tremaining: 6.41s\n",
            "555:\tlearn: 0.4677660\ttotal: 8s\tremaining: 6.39s\n",
            "556:\tlearn: 0.4671936\ttotal: 8.01s\tremaining: 6.37s\n",
            "557:\tlearn: 0.4668974\ttotal: 8.02s\tremaining: 6.35s\n",
            "558:\tlearn: 0.4666216\ttotal: 8.03s\tremaining: 6.33s\n",
            "559:\tlearn: 0.4662106\ttotal: 8.04s\tremaining: 6.31s\n",
            "560:\tlearn: 0.4656813\ttotal: 8.04s\tremaining: 6.3s\n",
            "561:\tlearn: 0.4650697\ttotal: 8.05s\tremaining: 6.28s\n",
            "562:\tlearn: 0.4644030\ttotal: 8.06s\tremaining: 6.26s\n",
            "563:\tlearn: 0.4640162\ttotal: 8.07s\tremaining: 6.24s\n",
            "564:\tlearn: 0.4635304\ttotal: 8.08s\tremaining: 6.22s\n",
            "565:\tlearn: 0.4631317\ttotal: 8.09s\tremaining: 6.2s\n",
            "566:\tlearn: 0.4626432\ttotal: 8.1s\tremaining: 6.18s\n",
            "567:\tlearn: 0.4621640\ttotal: 8.11s\tremaining: 6.17s\n",
            "568:\tlearn: 0.4619280\ttotal: 8.12s\tremaining: 6.15s\n",
            "569:\tlearn: 0.4613587\ttotal: 8.13s\tremaining: 6.13s\n",
            "570:\tlearn: 0.4607716\ttotal: 8.14s\tremaining: 6.12s\n",
            "571:\tlearn: 0.4605478\ttotal: 8.15s\tremaining: 6.1s\n",
            "572:\tlearn: 0.4601465\ttotal: 8.17s\tremaining: 6.08s\n",
            "573:\tlearn: 0.4598487\ttotal: 8.18s\tremaining: 6.07s\n",
            "574:\tlearn: 0.4593916\ttotal: 8.18s\tremaining: 6.05s\n",
            "575:\tlearn: 0.4591815\ttotal: 8.19s\tremaining: 6.03s\n",
            "576:\tlearn: 0.4588158\ttotal: 8.2s\tremaining: 6.01s\n",
            "577:\tlearn: 0.4584291\ttotal: 8.21s\tremaining: 5.99s\n",
            "578:\tlearn: 0.4578190\ttotal: 8.22s\tremaining: 5.98s\n",
            "579:\tlearn: 0.4575656\ttotal: 8.23s\tremaining: 5.96s\n",
            "580:\tlearn: 0.4570112\ttotal: 8.24s\tremaining: 5.94s\n",
            "581:\tlearn: 0.4564677\ttotal: 8.25s\tremaining: 5.92s\n",
            "582:\tlearn: 0.4559746\ttotal: 8.26s\tremaining: 5.91s\n",
            "583:\tlearn: 0.4552418\ttotal: 8.27s\tremaining: 5.89s\n",
            "584:\tlearn: 0.4549206\ttotal: 8.28s\tremaining: 5.87s\n",
            "585:\tlearn: 0.4545360\ttotal: 8.29s\tremaining: 5.85s\n",
            "586:\tlearn: 0.4541019\ttotal: 8.29s\tremaining: 5.84s\n",
            "587:\tlearn: 0.4537473\ttotal: 8.3s\tremaining: 5.82s\n",
            "588:\tlearn: 0.4533180\ttotal: 8.32s\tremaining: 5.8s\n",
            "589:\tlearn: 0.4527227\ttotal: 8.33s\tremaining: 5.79s\n",
            "590:\tlearn: 0.4522387\ttotal: 8.34s\tremaining: 5.78s\n",
            "591:\tlearn: 0.4518428\ttotal: 8.36s\tremaining: 5.76s\n",
            "592:\tlearn: 0.4513838\ttotal: 8.37s\tremaining: 5.74s\n",
            "593:\tlearn: 0.4511316\ttotal: 8.38s\tremaining: 5.72s\n",
            "594:\tlearn: 0.4508150\ttotal: 8.38s\tremaining: 5.71s\n",
            "595:\tlearn: 0.4503992\ttotal: 8.39s\tremaining: 5.69s\n",
            "596:\tlearn: 0.4499073\ttotal: 8.4s\tremaining: 5.67s\n",
            "597:\tlearn: 0.4494505\ttotal: 8.41s\tremaining: 5.65s\n",
            "598:\tlearn: 0.4489333\ttotal: 8.42s\tremaining: 5.64s\n",
            "599:\tlearn: 0.4484882\ttotal: 8.43s\tremaining: 5.62s\n",
            "600:\tlearn: 0.4477111\ttotal: 8.44s\tremaining: 5.6s\n",
            "601:\tlearn: 0.4471970\ttotal: 8.45s\tremaining: 5.58s\n",
            "602:\tlearn: 0.4465301\ttotal: 8.46s\tremaining: 5.57s\n",
            "603:\tlearn: 0.4462778\ttotal: 8.46s\tremaining: 5.55s\n",
            "604:\tlearn: 0.4457443\ttotal: 8.47s\tremaining: 5.53s\n",
            "605:\tlearn: 0.4453475\ttotal: 8.48s\tremaining: 5.51s\n",
            "606:\tlearn: 0.4449699\ttotal: 8.49s\tremaining: 5.5s\n",
            "607:\tlearn: 0.4445629\ttotal: 8.5s\tremaining: 5.48s\n",
            "608:\tlearn: 0.4439582\ttotal: 8.51s\tremaining: 5.46s\n",
            "609:\tlearn: 0.4435600\ttotal: 8.52s\tremaining: 5.45s\n",
            "610:\tlearn: 0.4432625\ttotal: 8.53s\tremaining: 5.43s\n",
            "611:\tlearn: 0.4426794\ttotal: 8.54s\tremaining: 5.41s\n",
            "612:\tlearn: 0.4422313\ttotal: 8.54s\tremaining: 5.39s\n",
            "613:\tlearn: 0.4418799\ttotal: 8.55s\tremaining: 5.38s\n",
            "614:\tlearn: 0.4414379\ttotal: 8.57s\tremaining: 5.36s\n",
            "615:\tlearn: 0.4410535\ttotal: 8.58s\tremaining: 5.35s\n",
            "616:\tlearn: 0.4407849\ttotal: 8.59s\tremaining: 5.33s\n",
            "617:\tlearn: 0.4402517\ttotal: 8.59s\tremaining: 5.31s\n",
            "618:\tlearn: 0.4400022\ttotal: 8.6s\tremaining: 5.3s\n",
            "619:\tlearn: 0.4396797\ttotal: 8.61s\tremaining: 5.28s\n",
            "620:\tlearn: 0.4393444\ttotal: 8.62s\tremaining: 5.26s\n",
            "621:\tlearn: 0.4388874\ttotal: 8.63s\tremaining: 5.25s\n",
            "622:\tlearn: 0.4385000\ttotal: 8.67s\tremaining: 5.25s\n",
            "623:\tlearn: 0.4381119\ttotal: 8.7s\tremaining: 5.24s\n",
            "624:\tlearn: 0.4378459\ttotal: 8.71s\tremaining: 5.23s\n",
            "625:\tlearn: 0.4374152\ttotal: 8.74s\tremaining: 5.22s\n",
            "626:\tlearn: 0.4369904\ttotal: 8.77s\tremaining: 5.22s\n",
            "627:\tlearn: 0.4365079\ttotal: 8.78s\tremaining: 5.2s\n",
            "628:\tlearn: 0.4358752\ttotal: 8.81s\tremaining: 5.2s\n",
            "629:\tlearn: 0.4352586\ttotal: 8.83s\tremaining: 5.19s\n",
            "630:\tlearn: 0.4349743\ttotal: 8.85s\tremaining: 5.17s\n",
            "631:\tlearn: 0.4346031\ttotal: 8.87s\tremaining: 5.17s\n",
            "632:\tlearn: 0.4339111\ttotal: 8.9s\tremaining: 5.16s\n",
            "633:\tlearn: 0.4332159\ttotal: 8.92s\tremaining: 5.15s\n",
            "634:\tlearn: 0.4330428\ttotal: 8.95s\tremaining: 5.14s\n",
            "635:\tlearn: 0.4325917\ttotal: 8.97s\tremaining: 5.13s\n",
            "636:\tlearn: 0.4321233\ttotal: 8.99s\tremaining: 5.13s\n",
            "637:\tlearn: 0.4318184\ttotal: 9.02s\tremaining: 5.12s\n",
            "638:\tlearn: 0.4314805\ttotal: 9.03s\tremaining: 5.1s\n",
            "639:\tlearn: 0.4310533\ttotal: 9.05s\tremaining: 5.09s\n",
            "640:\tlearn: 0.4307702\ttotal: 9.08s\tremaining: 5.08s\n",
            "641:\tlearn: 0.4304787\ttotal: 9.11s\tremaining: 5.08s\n",
            "642:\tlearn: 0.4300346\ttotal: 9.12s\tremaining: 5.06s\n",
            "643:\tlearn: 0.4297087\ttotal: 9.13s\tremaining: 5.05s\n",
            "644:\tlearn: 0.4294553\ttotal: 9.14s\tremaining: 5.03s\n",
            "645:\tlearn: 0.4291568\ttotal: 9.16s\tremaining: 5.02s\n",
            "646:\tlearn: 0.4289378\ttotal: 9.18s\tremaining: 5.01s\n",
            "647:\tlearn: 0.4283916\ttotal: 9.19s\tremaining: 4.99s\n",
            "648:\tlearn: 0.4279524\ttotal: 9.2s\tremaining: 4.98s\n",
            "649:\tlearn: 0.4275805\ttotal: 9.22s\tremaining: 4.96s\n",
            "650:\tlearn: 0.4270908\ttotal: 9.24s\tremaining: 4.95s\n",
            "651:\tlearn: 0.4266758\ttotal: 9.26s\tremaining: 4.94s\n",
            "652:\tlearn: 0.4262790\ttotal: 9.28s\tremaining: 4.93s\n",
            "653:\tlearn: 0.4259335\ttotal: 9.3s\tremaining: 4.92s\n",
            "654:\tlearn: 0.4253105\ttotal: 9.31s\tremaining: 4.9s\n",
            "655:\tlearn: 0.4251729\ttotal: 9.32s\tremaining: 4.89s\n",
            "656:\tlearn: 0.4248247\ttotal: 9.33s\tremaining: 4.87s\n",
            "657:\tlearn: 0.4245730\ttotal: 9.34s\tremaining: 4.86s\n",
            "658:\tlearn: 0.4241256\ttotal: 9.36s\tremaining: 4.84s\n",
            "659:\tlearn: 0.4235907\ttotal: 9.37s\tremaining: 4.83s\n",
            "660:\tlearn: 0.4230274\ttotal: 9.39s\tremaining: 4.81s\n",
            "661:\tlearn: 0.4228249\ttotal: 9.4s\tremaining: 4.8s\n",
            "662:\tlearn: 0.4225965\ttotal: 9.41s\tremaining: 4.78s\n",
            "663:\tlearn: 0.4224930\ttotal: 9.43s\tremaining: 4.77s\n",
            "664:\tlearn: 0.4221665\ttotal: 9.45s\tremaining: 4.76s\n",
            "665:\tlearn: 0.4219246\ttotal: 9.47s\tremaining: 4.75s\n",
            "666:\tlearn: 0.4215695\ttotal: 9.5s\tremaining: 4.74s\n",
            "667:\tlearn: 0.4211199\ttotal: 9.51s\tremaining: 4.72s\n",
            "668:\tlearn: 0.4208867\ttotal: 9.53s\tremaining: 4.71s\n",
            "669:\tlearn: 0.4205365\ttotal: 9.55s\tremaining: 4.7s\n",
            "670:\tlearn: 0.4203383\ttotal: 9.57s\tremaining: 4.69s\n",
            "671:\tlearn: 0.4199157\ttotal: 9.6s\tremaining: 4.68s\n",
            "672:\tlearn: 0.4193373\ttotal: 9.65s\tremaining: 4.69s\n",
            "673:\tlearn: 0.4187589\ttotal: 9.68s\tremaining: 4.68s\n",
            "674:\tlearn: 0.4185030\ttotal: 9.71s\tremaining: 4.67s\n",
            "675:\tlearn: 0.4182451\ttotal: 9.74s\tremaining: 4.67s\n",
            "676:\tlearn: 0.4178726\ttotal: 9.76s\tremaining: 4.66s\n",
            "677:\tlearn: 0.4175757\ttotal: 9.78s\tremaining: 4.65s\n",
            "678:\tlearn: 0.4174235\ttotal: 9.82s\tremaining: 4.64s\n",
            "679:\tlearn: 0.4168372\ttotal: 9.84s\tremaining: 4.63s\n",
            "680:\tlearn: 0.4163652\ttotal: 9.87s\tremaining: 4.62s\n",
            "681:\tlearn: 0.4157990\ttotal: 9.89s\tremaining: 4.61s\n",
            "682:\tlearn: 0.4153071\ttotal: 9.91s\tremaining: 4.6s\n",
            "683:\tlearn: 0.4148562\ttotal: 9.94s\tremaining: 4.59s\n",
            "684:\tlearn: 0.4145628\ttotal: 9.96s\tremaining: 4.58s\n",
            "685:\tlearn: 0.4143022\ttotal: 9.97s\tremaining: 4.56s\n",
            "686:\tlearn: 0.4139284\ttotal: 9.98s\tremaining: 4.55s\n",
            "687:\tlearn: 0.4135489\ttotal: 10s\tremaining: 4.54s\n",
            "688:\tlearn: 0.4131529\ttotal: 10s\tremaining: 4.52s\n",
            "689:\tlearn: 0.4127464\ttotal: 10s\tremaining: 4.51s\n",
            "690:\tlearn: 0.4124369\ttotal: 10s\tremaining: 4.49s\n",
            "691:\tlearn: 0.4119795\ttotal: 10.1s\tremaining: 4.49s\n",
            "692:\tlearn: 0.4115824\ttotal: 10.1s\tremaining: 4.48s\n",
            "693:\tlearn: 0.4111737\ttotal: 10.1s\tremaining: 4.47s\n",
            "694:\tlearn: 0.4109384\ttotal: 10.2s\tremaining: 4.47s\n",
            "695:\tlearn: 0.4104530\ttotal: 10.2s\tremaining: 4.45s\n",
            "696:\tlearn: 0.4100044\ttotal: 10.2s\tremaining: 4.43s\n",
            "697:\tlearn: 0.4095860\ttotal: 10.2s\tremaining: 4.42s\n",
            "698:\tlearn: 0.4092404\ttotal: 10.2s\tremaining: 4.41s\n",
            "699:\tlearn: 0.4089150\ttotal: 10.3s\tremaining: 4.4s\n",
            "700:\tlearn: 0.4086419\ttotal: 10.3s\tremaining: 4.39s\n",
            "701:\tlearn: 0.4080188\ttotal: 10.3s\tremaining: 4.38s\n",
            "702:\tlearn: 0.4077289\ttotal: 10.3s\tremaining: 4.36s\n",
            "703:\tlearn: 0.4072046\ttotal: 10.3s\tremaining: 4.34s\n",
            "704:\tlearn: 0.4065870\ttotal: 10.4s\tremaining: 4.33s\n",
            "705:\tlearn: 0.4061877\ttotal: 10.4s\tremaining: 4.32s\n",
            "706:\tlearn: 0.4058604\ttotal: 10.4s\tremaining: 4.31s\n",
            "707:\tlearn: 0.4054245\ttotal: 10.4s\tremaining: 4.29s\n",
            "708:\tlearn: 0.4051060\ttotal: 10.4s\tremaining: 4.29s\n",
            "709:\tlearn: 0.4045609\ttotal: 10.5s\tremaining: 4.28s\n",
            "710:\tlearn: 0.4041283\ttotal: 10.5s\tremaining: 4.26s\n",
            "711:\tlearn: 0.4037481\ttotal: 10.5s\tremaining: 4.25s\n",
            "712:\tlearn: 0.4032749\ttotal: 10.5s\tremaining: 4.25s\n",
            "713:\tlearn: 0.4030822\ttotal: 10.6s\tremaining: 4.23s\n",
            "714:\tlearn: 0.4026606\ttotal: 10.6s\tremaining: 4.22s\n",
            "715:\tlearn: 0.4022209\ttotal: 10.6s\tremaining: 4.21s\n",
            "716:\tlearn: 0.4017593\ttotal: 10.6s\tremaining: 4.2s\n",
            "717:\tlearn: 0.4014846\ttotal: 10.7s\tremaining: 4.19s\n",
            "718:\tlearn: 0.4009625\ttotal: 10.7s\tremaining: 4.18s\n",
            "719:\tlearn: 0.4007248\ttotal: 10.7s\tremaining: 4.17s\n",
            "720:\tlearn: 0.4001849\ttotal: 10.7s\tremaining: 4.16s\n",
            "721:\tlearn: 0.3997493\ttotal: 10.8s\tremaining: 4.14s\n",
            "722:\tlearn: 0.3993427\ttotal: 10.8s\tremaining: 4.13s\n",
            "723:\tlearn: 0.3990684\ttotal: 10.8s\tremaining: 4.12s\n",
            "724:\tlearn: 0.3987380\ttotal: 10.8s\tremaining: 4.11s\n",
            "725:\tlearn: 0.3981428\ttotal: 10.9s\tremaining: 4.1s\n",
            "726:\tlearn: 0.3978665\ttotal: 10.9s\tremaining: 4.09s\n",
            "727:\tlearn: 0.3974733\ttotal: 10.9s\tremaining: 4.08s\n",
            "728:\tlearn: 0.3970057\ttotal: 10.9s\tremaining: 4.06s\n",
            "729:\tlearn: 0.3965951\ttotal: 11s\tremaining: 4.05s\n",
            "730:\tlearn: 0.3962740\ttotal: 11s\tremaining: 4.05s\n",
            "731:\tlearn: 0.3959595\ttotal: 11s\tremaining: 4.04s\n",
            "732:\tlearn: 0.3955535\ttotal: 11.1s\tremaining: 4.03s\n",
            "733:\tlearn: 0.3950260\ttotal: 11.1s\tremaining: 4.02s\n",
            "734:\tlearn: 0.3946732\ttotal: 11.1s\tremaining: 4.01s\n",
            "735:\tlearn: 0.3943332\ttotal: 11.1s\tremaining: 4s\n",
            "736:\tlearn: 0.3937800\ttotal: 11.2s\tremaining: 3.98s\n",
            "737:\tlearn: 0.3935531\ttotal: 11.2s\tremaining: 3.97s\n",
            "738:\tlearn: 0.3930484\ttotal: 11.2s\tremaining: 3.96s\n",
            "739:\tlearn: 0.3926688\ttotal: 11.2s\tremaining: 3.95s\n",
            "740:\tlearn: 0.3924168\ttotal: 11.3s\tremaining: 3.94s\n",
            "741:\tlearn: 0.3921609\ttotal: 11.3s\tremaining: 3.92s\n",
            "742:\tlearn: 0.3917901\ttotal: 11.3s\tremaining: 3.91s\n",
            "743:\tlearn: 0.3914638\ttotal: 11.3s\tremaining: 3.9s\n",
            "744:\tlearn: 0.3911644\ttotal: 11.4s\tremaining: 3.89s\n",
            "745:\tlearn: 0.3908373\ttotal: 11.4s\tremaining: 3.88s\n",
            "746:\tlearn: 0.3905319\ttotal: 11.4s\tremaining: 3.87s\n",
            "747:\tlearn: 0.3903193\ttotal: 11.4s\tremaining: 3.85s\n",
            "748:\tlearn: 0.3901622\ttotal: 11.5s\tremaining: 3.84s\n",
            "749:\tlearn: 0.3897774\ttotal: 11.5s\tremaining: 3.83s\n",
            "750:\tlearn: 0.3894688\ttotal: 11.5s\tremaining: 3.82s\n",
            "751:\tlearn: 0.3891596\ttotal: 11.5s\tremaining: 3.8s\n",
            "752:\tlearn: 0.3886127\ttotal: 11.6s\tremaining: 3.79s\n",
            "753:\tlearn: 0.3884395\ttotal: 11.6s\tremaining: 3.78s\n",
            "754:\tlearn: 0.3879191\ttotal: 11.6s\tremaining: 3.76s\n",
            "755:\tlearn: 0.3875334\ttotal: 11.6s\tremaining: 3.75s\n",
            "756:\tlearn: 0.3868597\ttotal: 11.7s\tremaining: 3.75s\n",
            "757:\tlearn: 0.3866024\ttotal: 11.7s\tremaining: 3.75s\n",
            "758:\tlearn: 0.3862724\ttotal: 11.7s\tremaining: 3.73s\n",
            "759:\tlearn: 0.3859633\ttotal: 11.8s\tremaining: 3.72s\n",
            "760:\tlearn: 0.3855035\ttotal: 11.8s\tremaining: 3.7s\n",
            "761:\tlearn: 0.3852658\ttotal: 11.8s\tremaining: 3.69s\n",
            "762:\tlearn: 0.3849022\ttotal: 11.8s\tremaining: 3.67s\n",
            "763:\tlearn: 0.3845368\ttotal: 11.8s\tremaining: 3.65s\n",
            "764:\tlearn: 0.3842181\ttotal: 11.8s\tremaining: 3.64s\n",
            "765:\tlearn: 0.3840124\ttotal: 11.8s\tremaining: 3.62s\n",
            "766:\tlearn: 0.3837582\ttotal: 11.9s\tremaining: 3.6s\n",
            "767:\tlearn: 0.3833585\ttotal: 11.9s\tremaining: 3.59s\n",
            "768:\tlearn: 0.3832276\ttotal: 11.9s\tremaining: 3.58s\n",
            "769:\tlearn: 0.3827368\ttotal: 11.9s\tremaining: 3.56s\n",
            "770:\tlearn: 0.3824494\ttotal: 11.9s\tremaining: 3.54s\n",
            "771:\tlearn: 0.3819969\ttotal: 11.9s\tremaining: 3.53s\n",
            "772:\tlearn: 0.3816304\ttotal: 12s\tremaining: 3.52s\n",
            "773:\tlearn: 0.3812960\ttotal: 12s\tremaining: 3.5s\n",
            "774:\tlearn: 0.3806750\ttotal: 12s\tremaining: 3.48s\n",
            "775:\tlearn: 0.3803140\ttotal: 12s\tremaining: 3.47s\n",
            "776:\tlearn: 0.3799932\ttotal: 12s\tremaining: 3.45s\n",
            "777:\tlearn: 0.3795446\ttotal: 12s\tremaining: 3.43s\n",
            "778:\tlearn: 0.3792029\ttotal: 12s\tremaining: 3.42s\n",
            "779:\tlearn: 0.3788281\ttotal: 12.1s\tremaining: 3.4s\n",
            "780:\tlearn: 0.3784644\ttotal: 12.1s\tremaining: 3.38s\n",
            "781:\tlearn: 0.3779958\ttotal: 12.1s\tremaining: 3.37s\n",
            "782:\tlearn: 0.3776554\ttotal: 12.1s\tremaining: 3.36s\n",
            "783:\tlearn: 0.3773729\ttotal: 12.1s\tremaining: 3.34s\n",
            "784:\tlearn: 0.3770694\ttotal: 12.2s\tremaining: 3.33s\n",
            "785:\tlearn: 0.3765431\ttotal: 12.2s\tremaining: 3.32s\n",
            "786:\tlearn: 0.3762240\ttotal: 12.2s\tremaining: 3.3s\n",
            "787:\tlearn: 0.3759041\ttotal: 12.2s\tremaining: 3.29s\n",
            "788:\tlearn: 0.3755663\ttotal: 12.2s\tremaining: 3.27s\n",
            "789:\tlearn: 0.3751093\ttotal: 12.2s\tremaining: 3.25s\n",
            "790:\tlearn: 0.3747474\ttotal: 12.2s\tremaining: 3.23s\n",
            "791:\tlearn: 0.3745337\ttotal: 12.3s\tremaining: 3.22s\n",
            "792:\tlearn: 0.3741750\ttotal: 12.3s\tremaining: 3.2s\n",
            "793:\tlearn: 0.3739094\ttotal: 12.3s\tremaining: 3.19s\n",
            "794:\tlearn: 0.3736403\ttotal: 12.3s\tremaining: 3.17s\n",
            "795:\tlearn: 0.3731211\ttotal: 12.3s\tremaining: 3.15s\n",
            "796:\tlearn: 0.3728655\ttotal: 12.3s\tremaining: 3.14s\n",
            "797:\tlearn: 0.3724806\ttotal: 12.3s\tremaining: 3.13s\n",
            "798:\tlearn: 0.3721988\ttotal: 12.4s\tremaining: 3.11s\n",
            "799:\tlearn: 0.3719076\ttotal: 12.4s\tremaining: 3.09s\n",
            "800:\tlearn: 0.3715245\ttotal: 12.4s\tremaining: 3.08s\n",
            "801:\tlearn: 0.3712445\ttotal: 12.4s\tremaining: 3.06s\n",
            "802:\tlearn: 0.3708131\ttotal: 12.4s\tremaining: 3.04s\n",
            "803:\tlearn: 0.3706302\ttotal: 12.4s\tremaining: 3.03s\n",
            "804:\tlearn: 0.3702816\ttotal: 12.4s\tremaining: 3.01s\n",
            "805:\tlearn: 0.3698539\ttotal: 12.5s\tremaining: 3s\n",
            "806:\tlearn: 0.3694911\ttotal: 12.5s\tremaining: 2.98s\n",
            "807:\tlearn: 0.3692010\ttotal: 12.5s\tremaining: 2.97s\n",
            "808:\tlearn: 0.3689932\ttotal: 12.5s\tremaining: 2.95s\n",
            "809:\tlearn: 0.3686762\ttotal: 12.6s\tremaining: 2.94s\n",
            "810:\tlearn: 0.3683621\ttotal: 12.6s\tremaining: 2.93s\n",
            "811:\tlearn: 0.3680490\ttotal: 12.6s\tremaining: 2.92s\n",
            "812:\tlearn: 0.3677657\ttotal: 12.6s\tremaining: 2.9s\n",
            "813:\tlearn: 0.3674586\ttotal: 12.6s\tremaining: 2.88s\n",
            "814:\tlearn: 0.3672788\ttotal: 12.7s\tremaining: 2.87s\n",
            "815:\tlearn: 0.3669441\ttotal: 12.7s\tremaining: 2.86s\n",
            "816:\tlearn: 0.3667459\ttotal: 12.7s\tremaining: 2.84s\n",
            "817:\tlearn: 0.3663118\ttotal: 12.7s\tremaining: 2.83s\n",
            "818:\tlearn: 0.3659634\ttotal: 12.7s\tremaining: 2.81s\n",
            "819:\tlearn: 0.3656302\ttotal: 12.8s\tremaining: 2.8s\n",
            "820:\tlearn: 0.3652378\ttotal: 12.8s\tremaining: 2.79s\n",
            "821:\tlearn: 0.3647920\ttotal: 12.8s\tremaining: 2.77s\n",
            "822:\tlearn: 0.3644916\ttotal: 12.9s\tremaining: 2.77s\n",
            "823:\tlearn: 0.3642520\ttotal: 12.9s\tremaining: 2.75s\n",
            "824:\tlearn: 0.3640812\ttotal: 12.9s\tremaining: 2.74s\n",
            "825:\tlearn: 0.3638799\ttotal: 12.9s\tremaining: 2.73s\n",
            "826:\tlearn: 0.3635683\ttotal: 13s\tremaining: 2.71s\n",
            "827:\tlearn: 0.3632173\ttotal: 13s\tremaining: 2.7s\n",
            "828:\tlearn: 0.3629048\ttotal: 13s\tremaining: 2.69s\n",
            "829:\tlearn: 0.3626700\ttotal: 13.1s\tremaining: 2.67s\n",
            "830:\tlearn: 0.3623582\ttotal: 13.1s\tremaining: 2.66s\n",
            "831:\tlearn: 0.3621334\ttotal: 13.1s\tremaining: 2.65s\n",
            "832:\tlearn: 0.3617786\ttotal: 13.2s\tremaining: 2.64s\n",
            "833:\tlearn: 0.3613799\ttotal: 13.2s\tremaining: 2.62s\n",
            "834:\tlearn: 0.3611360\ttotal: 13.2s\tremaining: 2.61s\n",
            "835:\tlearn: 0.3607183\ttotal: 13.2s\tremaining: 2.59s\n",
            "836:\tlearn: 0.3603370\ttotal: 13.2s\tremaining: 2.58s\n",
            "837:\tlearn: 0.3601628\ttotal: 13.2s\tremaining: 2.56s\n",
            "838:\tlearn: 0.3597259\ttotal: 13.2s\tremaining: 2.54s\n",
            "839:\tlearn: 0.3594470\ttotal: 13.3s\tremaining: 2.52s\n",
            "840:\tlearn: 0.3592532\ttotal: 13.3s\tremaining: 2.51s\n",
            "841:\tlearn: 0.3587795\ttotal: 13.3s\tremaining: 2.49s\n",
            "842:\tlearn: 0.3584267\ttotal: 13.3s\tremaining: 2.48s\n",
            "843:\tlearn: 0.3579379\ttotal: 13.3s\tremaining: 2.46s\n",
            "844:\tlearn: 0.3577047\ttotal: 13.3s\tremaining: 2.45s\n",
            "845:\tlearn: 0.3573845\ttotal: 13.4s\tremaining: 2.44s\n",
            "846:\tlearn: 0.3570735\ttotal: 13.4s\tremaining: 2.42s\n",
            "847:\tlearn: 0.3567422\ttotal: 13.4s\tremaining: 2.4s\n",
            "848:\tlearn: 0.3564523\ttotal: 13.4s\tremaining: 2.39s\n",
            "849:\tlearn: 0.3561336\ttotal: 13.5s\tremaining: 2.37s\n",
            "850:\tlearn: 0.3557549\ttotal: 13.5s\tremaining: 2.36s\n",
            "851:\tlearn: 0.3555744\ttotal: 13.5s\tremaining: 2.34s\n",
            "852:\tlearn: 0.3553212\ttotal: 13.5s\tremaining: 2.33s\n",
            "853:\tlearn: 0.3551660\ttotal: 13.5s\tremaining: 2.31s\n",
            "854:\tlearn: 0.3548800\ttotal: 13.5s\tremaining: 2.29s\n",
            "855:\tlearn: 0.3545244\ttotal: 13.5s\tremaining: 2.28s\n",
            "856:\tlearn: 0.3542463\ttotal: 13.5s\tremaining: 2.26s\n",
            "857:\tlearn: 0.3539721\ttotal: 13.6s\tremaining: 2.25s\n",
            "858:\tlearn: 0.3537753\ttotal: 13.6s\tremaining: 2.23s\n",
            "859:\tlearn: 0.3534271\ttotal: 13.6s\tremaining: 2.21s\n",
            "860:\tlearn: 0.3530205\ttotal: 13.6s\tremaining: 2.2s\n",
            "861:\tlearn: 0.3528076\ttotal: 13.6s\tremaining: 2.18s\n",
            "862:\tlearn: 0.3525484\ttotal: 13.7s\tremaining: 2.17s\n",
            "863:\tlearn: 0.3523138\ttotal: 13.7s\tremaining: 2.15s\n",
            "864:\tlearn: 0.3520661\ttotal: 13.7s\tremaining: 2.14s\n",
            "865:\tlearn: 0.3515355\ttotal: 13.7s\tremaining: 2.12s\n",
            "866:\tlearn: 0.3512243\ttotal: 13.7s\tremaining: 2.11s\n",
            "867:\tlearn: 0.3509088\ttotal: 13.8s\tremaining: 2.09s\n",
            "868:\tlearn: 0.3505060\ttotal: 13.8s\tremaining: 2.08s\n",
            "869:\tlearn: 0.3502335\ttotal: 13.8s\tremaining: 2.06s\n",
            "870:\tlearn: 0.3499925\ttotal: 13.8s\tremaining: 2.05s\n",
            "871:\tlearn: 0.3496695\ttotal: 13.8s\tremaining: 2.03s\n",
            "872:\tlearn: 0.3494679\ttotal: 13.9s\tremaining: 2.02s\n",
            "873:\tlearn: 0.3492825\ttotal: 13.9s\tremaining: 2s\n",
            "874:\tlearn: 0.3489916\ttotal: 13.9s\tremaining: 1.99s\n",
            "875:\tlearn: 0.3488183\ttotal: 13.9s\tremaining: 1.97s\n",
            "876:\tlearn: 0.3483754\ttotal: 14s\tremaining: 1.96s\n",
            "877:\tlearn: 0.3479526\ttotal: 14s\tremaining: 1.94s\n",
            "878:\tlearn: 0.3476931\ttotal: 14s\tremaining: 1.93s\n",
            "879:\tlearn: 0.3474476\ttotal: 14.1s\tremaining: 1.92s\n",
            "880:\tlearn: 0.3472246\ttotal: 14.1s\tremaining: 1.9s\n",
            "881:\tlearn: 0.3469225\ttotal: 14.1s\tremaining: 1.89s\n",
            "882:\tlearn: 0.3465582\ttotal: 14.2s\tremaining: 1.88s\n",
            "883:\tlearn: 0.3462170\ttotal: 14.2s\tremaining: 1.86s\n",
            "884:\tlearn: 0.3459095\ttotal: 14.2s\tremaining: 1.85s\n",
            "885:\tlearn: 0.3457157\ttotal: 14.3s\tremaining: 1.83s\n",
            "886:\tlearn: 0.3456038\ttotal: 14.3s\tremaining: 1.82s\n",
            "887:\tlearn: 0.3452714\ttotal: 14.3s\tremaining: 1.81s\n",
            "888:\tlearn: 0.3449642\ttotal: 14.3s\tremaining: 1.79s\n",
            "889:\tlearn: 0.3446681\ttotal: 14.4s\tremaining: 1.78s\n",
            "890:\tlearn: 0.3443365\ttotal: 14.4s\tremaining: 1.76s\n",
            "891:\tlearn: 0.3440612\ttotal: 14.4s\tremaining: 1.75s\n",
            "892:\tlearn: 0.3438639\ttotal: 14.5s\tremaining: 1.73s\n",
            "893:\tlearn: 0.3436029\ttotal: 14.5s\tremaining: 1.72s\n",
            "894:\tlearn: 0.3433141\ttotal: 14.5s\tremaining: 1.7s\n",
            "895:\tlearn: 0.3427857\ttotal: 14.6s\tremaining: 1.69s\n",
            "896:\tlearn: 0.3425447\ttotal: 14.6s\tremaining: 1.67s\n",
            "897:\tlearn: 0.3422606\ttotal: 14.6s\tremaining: 1.66s\n",
            "898:\tlearn: 0.3419130\ttotal: 14.6s\tremaining: 1.65s\n",
            "899:\tlearn: 0.3416205\ttotal: 14.7s\tremaining: 1.63s\n",
            "900:\tlearn: 0.3412531\ttotal: 14.7s\tremaining: 1.61s\n",
            "901:\tlearn: 0.3410063\ttotal: 14.7s\tremaining: 1.6s\n",
            "902:\tlearn: 0.3408316\ttotal: 14.8s\tremaining: 1.58s\n",
            "903:\tlearn: 0.3404246\ttotal: 14.8s\tremaining: 1.57s\n",
            "904:\tlearn: 0.3401382\ttotal: 14.8s\tremaining: 1.56s\n",
            "905:\tlearn: 0.3398211\ttotal: 14.9s\tremaining: 1.54s\n",
            "906:\tlearn: 0.3394984\ttotal: 14.9s\tremaining: 1.53s\n",
            "907:\tlearn: 0.3393019\ttotal: 15s\tremaining: 1.51s\n",
            "908:\tlearn: 0.3390158\ttotal: 15s\tremaining: 1.5s\n",
            "909:\tlearn: 0.3387073\ttotal: 15s\tremaining: 1.49s\n",
            "910:\tlearn: 0.3383633\ttotal: 15s\tremaining: 1.47s\n",
            "911:\tlearn: 0.3380827\ttotal: 15.1s\tremaining: 1.46s\n",
            "912:\tlearn: 0.3379401\ttotal: 15.1s\tremaining: 1.44s\n",
            "913:\tlearn: 0.3374127\ttotal: 15.2s\tremaining: 1.43s\n",
            "914:\tlearn: 0.3371708\ttotal: 15.2s\tremaining: 1.41s\n",
            "915:\tlearn: 0.3366464\ttotal: 15.3s\tremaining: 1.4s\n",
            "916:\tlearn: 0.3363934\ttotal: 15.3s\tremaining: 1.39s\n",
            "917:\tlearn: 0.3362260\ttotal: 15.4s\tremaining: 1.37s\n",
            "918:\tlearn: 0.3360288\ttotal: 15.4s\tremaining: 1.36s\n",
            "919:\tlearn: 0.3355821\ttotal: 15.5s\tremaining: 1.34s\n",
            "920:\tlearn: 0.3352993\ttotal: 15.5s\tremaining: 1.33s\n",
            "921:\tlearn: 0.3348694\ttotal: 15.5s\tremaining: 1.31s\n",
            "922:\tlearn: 0.3345224\ttotal: 15.6s\tremaining: 1.3s\n",
            "923:\tlearn: 0.3343108\ttotal: 15.6s\tremaining: 1.28s\n",
            "924:\tlearn: 0.3339547\ttotal: 15.7s\tremaining: 1.27s\n",
            "925:\tlearn: 0.3338098\ttotal: 15.7s\tremaining: 1.25s\n",
            "926:\tlearn: 0.3333162\ttotal: 15.7s\tremaining: 1.24s\n",
            "927:\tlearn: 0.3329369\ttotal: 15.8s\tremaining: 1.22s\n",
            "928:\tlearn: 0.3324658\ttotal: 15.8s\tremaining: 1.21s\n",
            "929:\tlearn: 0.3322407\ttotal: 15.8s\tremaining: 1.19s\n",
            "930:\tlearn: 0.3320758\ttotal: 15.9s\tremaining: 1.18s\n",
            "931:\tlearn: 0.3319508\ttotal: 15.9s\tremaining: 1.16s\n",
            "932:\tlearn: 0.3315275\ttotal: 15.9s\tremaining: 1.14s\n",
            "933:\tlearn: 0.3313474\ttotal: 15.9s\tremaining: 1.13s\n",
            "934:\tlearn: 0.3310841\ttotal: 16s\tremaining: 1.11s\n",
            "935:\tlearn: 0.3308290\ttotal: 16s\tremaining: 1.09s\n",
            "936:\tlearn: 0.3305017\ttotal: 16s\tremaining: 1.08s\n",
            "937:\tlearn: 0.3302064\ttotal: 16.1s\tremaining: 1.06s\n",
            "938:\tlearn: 0.3299369\ttotal: 16.1s\tremaining: 1.04s\n",
            "939:\tlearn: 0.3298613\ttotal: 16.1s\tremaining: 1.03s\n",
            "940:\tlearn: 0.3295342\ttotal: 16.2s\tremaining: 1.01s\n",
            "941:\tlearn: 0.3292744\ttotal: 16.2s\tremaining: 998ms\n",
            "942:\tlearn: 0.3289377\ttotal: 16.3s\tremaining: 982ms\n",
            "943:\tlearn: 0.3286548\ttotal: 16.3s\tremaining: 966ms\n",
            "944:\tlearn: 0.3283416\ttotal: 16.3s\tremaining: 950ms\n",
            "945:\tlearn: 0.3280032\ttotal: 16.4s\tremaining: 934ms\n",
            "946:\tlearn: 0.3276215\ttotal: 16.4s\tremaining: 918ms\n",
            "947:\tlearn: 0.3274354\ttotal: 16.5s\tremaining: 902ms\n",
            "948:\tlearn: 0.3269875\ttotal: 16.5s\tremaining: 885ms\n",
            "949:\tlearn: 0.3266762\ttotal: 16.5s\tremaining: 869ms\n",
            "950:\tlearn: 0.3263979\ttotal: 16.6s\tremaining: 853ms\n",
            "951:\tlearn: 0.3261092\ttotal: 16.6s\tremaining: 837ms\n",
            "952:\tlearn: 0.3258606\ttotal: 16.7s\tremaining: 821ms\n",
            "953:\tlearn: 0.3256903\ttotal: 16.7s\tremaining: 805ms\n",
            "954:\tlearn: 0.3253112\ttotal: 16.7s\tremaining: 789ms\n",
            "955:\tlearn: 0.3250496\ttotal: 16.8s\tremaining: 772ms\n",
            "956:\tlearn: 0.3245986\ttotal: 16.9s\tremaining: 757ms\n",
            "957:\tlearn: 0.3243925\ttotal: 16.9s\tremaining: 741ms\n",
            "958:\tlearn: 0.3239988\ttotal: 16.9s\tremaining: 724ms\n",
            "959:\tlearn: 0.3236851\ttotal: 17s\tremaining: 707ms\n",
            "960:\tlearn: 0.3231841\ttotal: 17s\tremaining: 690ms\n",
            "961:\tlearn: 0.3228997\ttotal: 17s\tremaining: 673ms\n",
            "962:\tlearn: 0.3225754\ttotal: 17.1s\tremaining: 657ms\n",
            "963:\tlearn: 0.3223803\ttotal: 17.1s\tremaining: 640ms\n",
            "964:\tlearn: 0.3221287\ttotal: 17.2s\tremaining: 623ms\n",
            "965:\tlearn: 0.3217749\ttotal: 17.2s\tremaining: 606ms\n",
            "966:\tlearn: 0.3214355\ttotal: 17.2s\tremaining: 589ms\n",
            "967:\tlearn: 0.3211849\ttotal: 17.3s\tremaining: 572ms\n",
            "968:\tlearn: 0.3208345\ttotal: 17.3s\tremaining: 554ms\n",
            "969:\tlearn: 0.3203586\ttotal: 17.4s\tremaining: 537ms\n",
            "970:\tlearn: 0.3200013\ttotal: 17.4s\tremaining: 520ms\n",
            "971:\tlearn: 0.3197762\ttotal: 17.5s\tremaining: 503ms\n",
            "972:\tlearn: 0.3195741\ttotal: 17.5s\tremaining: 486ms\n",
            "973:\tlearn: 0.3192587\ttotal: 17.5s\tremaining: 468ms\n",
            "974:\tlearn: 0.3189726\ttotal: 17.6s\tremaining: 451ms\n",
            "975:\tlearn: 0.3187832\ttotal: 17.6s\tremaining: 434ms\n",
            "976:\tlearn: 0.3184558\ttotal: 17.7s\tremaining: 416ms\n",
            "977:\tlearn: 0.3180041\ttotal: 17.7s\tremaining: 399ms\n",
            "978:\tlearn: 0.3177669\ttotal: 17.8s\tremaining: 381ms\n",
            "979:\tlearn: 0.3174970\ttotal: 17.8s\tremaining: 363ms\n",
            "980:\tlearn: 0.3172126\ttotal: 17.9s\tremaining: 346ms\n",
            "981:\tlearn: 0.3170308\ttotal: 17.9s\tremaining: 328ms\n",
            "982:\tlearn: 0.3166863\ttotal: 17.9s\tremaining: 310ms\n",
            "983:\tlearn: 0.3164261\ttotal: 18s\tremaining: 292ms\n",
            "984:\tlearn: 0.3162031\ttotal: 18.1s\tremaining: 275ms\n",
            "985:\tlearn: 0.3158629\ttotal: 18.1s\tremaining: 257ms\n",
            "986:\tlearn: 0.3156377\ttotal: 18.1s\tremaining: 239ms\n",
            "987:\tlearn: 0.3153202\ttotal: 18.1s\tremaining: 220ms\n",
            "988:\tlearn: 0.3150587\ttotal: 18.2s\tremaining: 202ms\n",
            "989:\tlearn: 0.3148789\ttotal: 18.2s\tremaining: 184ms\n",
            "990:\tlearn: 0.3145959\ttotal: 18.2s\tremaining: 166ms\n",
            "991:\tlearn: 0.3143484\ttotal: 18.3s\tremaining: 147ms\n",
            "992:\tlearn: 0.3141400\ttotal: 18.3s\tremaining: 129ms\n",
            "993:\tlearn: 0.3139029\ttotal: 18.3s\tremaining: 111ms\n",
            "994:\tlearn: 0.3136285\ttotal: 18.3s\tremaining: 92.2ms\n",
            "995:\tlearn: 0.3132829\ttotal: 18.4s\tremaining: 73.8ms\n",
            "996:\tlearn: 0.3130440\ttotal: 18.4s\tremaining: 55.4ms\n",
            "997:\tlearn: 0.3127791\ttotal: 18.4s\tremaining: 36.9ms\n",
            "998:\tlearn: 0.3125905\ttotal: 18.4s\tremaining: 18.5ms\n",
            "999:\tlearn: 0.3123416\ttotal: 18.5s\tremaining: 0us\n"
          ]
        },
        {
          "output_type": "execute_result",
          "data": {
            "text/plain": [
              "<catboost.core.CatBoostClassifier at 0x7f2d4da25af0>"
            ]
          },
          "metadata": {},
          "execution_count": 80
        }
      ]
    },
    {
      "cell_type": "code",
      "source": [
        "print(cb.score(X_train, y_train))\n",
        "print(cb.score(X_test, y_test))"
      ],
      "metadata": {
        "colab": {
          "base_uri": "https://localhost:8080/"
        },
        "id": "Y5i_kkO2MzIy",
        "outputId": "b06750fb-014e-4f28-aa14-997cd0530ce1"
      },
      "execution_count": null,
      "outputs": [
        {
          "output_type": "stream",
          "name": "stdout",
          "text": [
            "0.9739105504587156\n",
            "0.5830469644902635\n"
          ]
        }
      ]
    },
    {
      "cell_type": "code",
      "source": [
        "y_pred = cb.predict(X_test)\n",
        "import matplotlib.pyplot as plt\n",
        "from sklearn.metrics import confusion_matrix\n",
        "from sklearn.metrics import ConfusionMatrixDisplay\n",
        "\n",
        "cm = confusion_matrix(y_test, y_pred)\n",
        "cm2 = ConfusionMatrixDisplay(confusion_matrix=cm)\n",
        "cm2.plot()\n",
        "plt.show()"
      ],
      "metadata": {
        "colab": {
          "base_uri": "https://localhost:8080/",
          "height": 452
        },
        "id": "uQCalc_5M2X_",
        "outputId": "8bf3608a-95df-4d62-dd0a-41c3cb45647a"
      },
      "execution_count": null,
      "outputs": [
        {
          "output_type": "display_data",
          "data": {
            "text/plain": [
              "<Figure size 640x480 with 2 Axes>"
            ],
            "image/png": "[encoded data removed]"
          },
          "metadata": {}
        }
      ]
    },
    {
      "cell_type": "code",
      "source": [
        "from sklearn.metrics import precision_score, accuracy_score, recall_score, f1_score\n",
        "\n",
        "print(f\"Accuracy: {round(accuracy_score(y_test, y_pred),3)}\")\n",
        "print(f\"precision: {round(precision_score(y_test, y_pred, average='weighted'),3)}\")\n",
        "print(f\"recall: {round(recall_score(y_test, y_pred, average='weighted'),3)}\")\n",
        "print(f\"f1: {round(accuracy_score(y_test, y_pred), 3)}\")"
      ],
      "metadata": {
        "colab": {
          "base_uri": "https://localhost:8080/"
        },
        "id": "LSlIQBuaM38H",
        "outputId": "07d95e28-c3de-4eb3-c816-7ccc6c1d236c"
      },
      "execution_count": null,
      "outputs": [
        {
          "output_type": "stream",
          "name": "stdout",
          "text": [
            "Accuracy: 0.583\n",
            "precision: 0.589\n",
            "recall: 0.583\n",
            "f1: 0.583\n"
          ]
        }
      ]
    },
    {
      "cell_type": "markdown",
      "source": [
        "Gradient Boosting"
      ],
      "metadata": {
        "id": "evsykFbHM7oN"
      }
    },
    {
      "cell_type": "code",
      "source": [
        "from sklearn.ensemble  import GradientBoostingClassifier\n",
        "from sklearn.metrics import classification_report\n",
        "gb=GradientBoostingClassifier(learning_rate=0.1)\n",
        "gb.fit(X_train,y_train)\n",
        "print(classification_report(y_test,gb.predict(X_test)))"
      ],
      "metadata": {
        "colab": {
          "base_uri": "https://localhost:8080/"
        },
        "id": "hwQXrlPhM6I-",
        "outputId": "12a70c20-9bc4-420f-8fcd-8da619aa3e08"
      },
      "execution_count": null,
      "outputs": [
        {
          "output_type": "stream",
          "name": "stdout",
          "text": [
            "              precision    recall  f1-score   support\n",
            "\n",
            "           0       0.55      0.66      0.60       395\n",
            "           1       0.67      0.28      0.39       100\n",
            "           2       0.57      0.55      0.56       378\n",
            "\n",
            "    accuracy                           0.57       873\n",
            "   macro avg       0.60      0.50      0.52       873\n",
            "weighted avg       0.58      0.57      0.56       873\n",
            "\n"
          ]
        }
      ]
    },
    {
      "cell_type": "code",
      "source": [
        "print(nb.score(X_train, y_train))\n",
        "print(nb.score(X_test, y_test))"
      ],
      "metadata": {
        "colab": {
          "base_uri": "https://localhost:8080/"
        },
        "id": "vpZcvYEZNF0U",
        "outputId": "48704957-19a5-4b6f-b43b-b0777a8a5f77"
      },
      "execution_count": null,
      "outputs": [
        {
          "output_type": "stream",
          "name": "stdout",
          "text": [
            "0.47448394495412843\n",
            "0.47995418098510884\n"
          ]
        }
      ]
    },
    {
      "cell_type": "code",
      "source": [
        "y_pred = gb.predict(X_test)\n",
        "import matplotlib.pyplot as plt\n",
        "from sklearn.metrics import confusion_matrix\n",
        "from sklearn.metrics import ConfusionMatrixDisplay\n",
        "\n",
        "cm = confusion_matrix(y_test, y_pred)\n",
        "cm2 = ConfusionMatrixDisplay(confusion_matrix=cm)\n",
        "cm2.plot()\n",
        "plt.show()\n"
      ],
      "metadata": {
        "colab": {
          "base_uri": "https://localhost:8080/",
          "height": 449
        },
        "id": "J6uCH1xPNH1K",
        "outputId": "6cf2b534-a715-4f7d-a721-c4102bdfaaa6"
      },
      "execution_count": null,
      "outputs": [
        {
          "output_type": "display_data",
          "data": {
            "text/plain": [
              "<Figure size 640x480 with 2 Axes>"
            ],
            "image/png": "[encoded data removed]"
          },
          "metadata": {}
        }
      ]
    },
    {
      "cell_type": "code",
      "source": [
        "from sklearn.metrics import precision_score, accuracy_score, recall_score, f1_score\n",
        "\n",
        "print(f\"Accuracy: {round(accuracy_score(y_test, y_pred),3)}\")\n",
        "print(f\"precision: {round(precision_score(y_test, y_pred, average='weighted'),3)}\")\n",
        "print(f\"recall: {round(recall_score(y_test, y_pred, average='weighted'),3)}\")\n",
        "print(f\"f1: {round(accuracy_score(y_test, y_pred), 3)}\")"
      ],
      "metadata": {
        "colab": {
          "base_uri": "https://localhost:8080/"
        },
        "id": "kTEze-3ZNJiO",
        "outputId": "199f7eeb-5f98-491c-89a3-36dee3252837"
      },
      "execution_count": null,
      "outputs": [
        {
          "output_type": "stream",
          "name": "stdout",
          "text": [
            "Accuracy: 0.568\n",
            "precision: 0.576\n",
            "recall: 0.568\n",
            "f1: 0.568\n"
          ]
        }
      ]
    },
    {
      "cell_type": "markdown",
      "source": [
        "ADA Boost:"
      ],
      "metadata": {
        "id": "6grEXLcVNRVK"
      }
    },
    {
      "cell_type": "code",
      "source": [
        "from sklearn.ensemble  import AdaBoostClassifier\n",
        "ab=AdaBoostClassifier()\n",
        "ab.fit(X_train,y_train)"
      ],
      "metadata": {
        "colab": {
          "base_uri": "https://localhost:8080/",
          "height": 75
        },
        "id": "2HNSXUj8NQXG",
        "outputId": "8781b230-f7f5-4bd4-b4d4-ed246bf5176a"
      },
      "execution_count": null,
      "outputs": [
        {
          "output_type": "execute_result",
          "data": {
            "text/plain": [
              "AdaBoostClassifier()"
            ],
            "text/html": [
              "<style>#sk-container-id-7 {color: black;background-color: white;}#sk-container-id-7 pre{padding: 0;}#sk-container-id-7 div.sk-toggleable {background-color: white;}#sk-container-id-7 label.sk-toggleable__label {cursor: pointer;display: block;width: 100%;margin-bottom: 0;padding: 0.3em;box-sizing: border-box;text-align: center;}#sk-container-id-7 label.sk-toggleable__label-arrow:before {content: \"▸\";float: left;margin-right: 0.25em;color: #696969;}#sk-container-id-7 label.sk-toggleable__label-arrow:hover:before {color: black;}#sk-container-id-7 div.sk-estimator:hover label.sk-toggleable__label-arrow:before {color: black;}#sk-container-id-7 div.sk-toggleable__content {max-height: 0;max-width: 0;overflow: hidden;text-align: left;background-color: #f0f8ff;}#sk-container-id-7 div.sk-toggleable__content pre {margin: 0.2em;color: black;border-radius: 0.25em;background-color: #f0f8ff;}#sk-container-id-7 input.sk-toggleable__control:checked~div.sk-toggleable__content {max-height: 200px;max-width: 100%;overflow: auto;}#sk-container-id-7 input.sk-toggleable__control:checked~label.sk-toggleable__label-arrow:before {content: \"▾\";}#sk-container-id-7 div.sk-estimator input.sk-toggleable__control:checked~label.sk-toggleable__label {background-color: #d4ebff;}#sk-container-id-7 div.sk-label input.sk-toggleable__control:checked~label.sk-toggleable__label {background-color: #d4ebff;}#sk-container-id-7 input.sk-hidden--visually {border: 0;clip: rect(1px 1px 1px 1px);clip: rect(1px, 1px, 1px, 1px);height: 1px;margin: -1px;overflow: hidden;padding: 0;position: absolute;width: 1px;}#sk-container-id-7 div.sk-estimator {font-family: monospace;background-color: #f0f8ff;border: 1px dotted black;border-radius: 0.25em;box-sizing: border-box;margin-bottom: 0.5em;}#sk-container-id-7 div.sk-estimator:hover {background-color: #d4ebff;}#sk-container-id-7 div.sk-parallel-item::after {content: \"\";width: 100%;border-bottom: 1px solid gray;flex-grow: 1;}#sk-container-id-7 div.sk-label:hover label.sk-toggleable__label {background-color: #d4ebff;}#sk-container-id-7 div.sk-serial::before {content: \"\";position: absolute;border-left: 1px solid gray;box-sizing: border-box;top: 0;bottom: 0;left: 50%;z-index: 0;}#sk-container-id-7 div.sk-serial {display: flex;flex-direction: column;align-items: center;background-color: white;padding-right: 0.2em;padding-left: 0.2em;position: relative;}#sk-container-id-7 div.sk-item {position: relative;z-index: 1;}#sk-container-id-7 div.sk-parallel {display: flex;align-items: stretch;justify-content: center;background-color: white;position: relative;}#sk-container-id-7 div.sk-item::before, #sk-container-id-7 div.sk-parallel-item::before {content: \"\";position: absolute;border-left: 1px solid gray;box-sizing: border-box;top: 0;bottom: 0;left: 50%;z-index: -1;}#sk-container-id-7 div.sk-parallel-item {display: flex;flex-direction: column;z-index: 1;position: relative;background-color: white;}#sk-container-id-7 div.sk-parallel-item:first-child::after {align-self: flex-end;width: 50%;}#sk-container-id-7 div.sk-parallel-item:last-child::after {align-self: flex-start;width: 50%;}#sk-container-id-7 div.sk-parallel-item:only-child::after {width: 0;}#sk-container-id-7 div.sk-dashed-wrapped {border: 1px dashed gray;margin: 0 0.4em 0.5em 0.4em;box-sizing: border-box;padding-bottom: 0.4em;background-color: white;}#sk-container-id-7 div.sk-label label {font-family: monospace;font-weight: bold;display: inline-block;line-height: 1.2em;}#sk-container-id-7 div.sk-label-container {text-align: center;}#sk-container-id-7 div.sk-container {/* jupyter's `normalize.less` sets `[hidden] { display: none; }` but bootstrap.min.css set `[hidden] { display: none !important; }` so we also need the `!important` here to be able to override the default hidden behavior on the sphinx rendered scikit-learn.org. See: https://github.com/scikit-learn/scikit-learn/issues/21755 */display: inline-block !important;position: relative;}#sk-container-id-7 div.sk-text-repr-fallback {display: none;}</style><div id=\"sk-container-id-7\" class=\"sk-top-container\"><div class=\"sk-text-repr-fallback\"><pre>AdaBoostClassifier()</pre><b>In a Jupyter environment, please rerun this cell to show the HTML representation or trust the notebook. <br />On GitHub, the HTML representation is unable to render, please try loading this page with nbviewer.org.</b></div><div class=\"sk-container\" hidden><div class=\"sk-item\"><div class=\"sk-estimator sk-toggleable\"><input class=\"sk-toggleable__control sk-hidden--visually\" id=\"sk-estimator-id-7\" type=\"checkbox\" checked><label for=\"sk-estimator-id-7\" class=\"sk-toggleable__label sk-toggleable__label-arrow\">AdaBoostClassifier</label><div class=\"sk-toggleable__content\"><pre>AdaBoostClassifier()</pre></div></div></div></div></div>"
            ]
          },
          "metadata": {},
          "execution_count": 88
        }
      ]
    },
    {
      "cell_type": "code",
      "source": [
        "print(ab.score(X_train, y_train))\n",
        "print(ab.score(X_test, y_test))"
      ],
      "metadata": {
        "colab": {
          "base_uri": "https://localhost:8080/"
        },
        "id": "1rD0HrUTNU0e",
        "outputId": "6524bb14-b626-42b7-a104-ad005dba901d"
      },
      "execution_count": null,
      "outputs": [
        {
          "output_type": "stream",
          "name": "stdout",
          "text": [
            "0.5475917431192661\n",
            "0.4936998854524628\n"
          ]
        }
      ]
    },
    {
      "cell_type": "code",
      "source": [
        "y_pred = ab.predict(X_test)\n",
        "import matplotlib.pyplot as plt\n",
        "from sklearn.metrics import confusion_matrix\n",
        "from sklearn.metrics import ConfusionMatrixDisplay\n",
        "\n",
        "cm = confusion_matrix(y_test, y_pred)\n",
        "cm2 = ConfusionMatrixDisplay(confusion_matrix=cm)\n",
        "cm2.plot()\n",
        "plt.show()"
      ],
      "metadata": {
        "colab": {
          "base_uri": "https://localhost:8080/",
          "height": 449
        },
        "id": "TSzybQYJNlBj",
        "outputId": "04ec2c93-c25b-4f7f-d724-ba9ed7652b27"
      },
      "execution_count": null,
      "outputs": [
        {
          "output_type": "display_data",
          "data": {
            "text/plain": [
              "<Figure size 640x480 with 2 Axes>"
            ],
            "image/png": "[encoded data removed]"
          },
          "metadata": {}
        }
      ]
    },
    {
      "cell_type": "code",
      "source": [
        "from sklearn.metrics import precision_score, accuracy_score, recall_score, f1_score\n",
        "\n",
        "print(f\"Accuracy: {round(accuracy_score(y_test, y_pred),3)}\")\n",
        "print(f\"precision: {round(precision_score(y_test, y_pred, average='weighted'),3)}\")\n",
        "print(f\"recall: {round(recall_score(y_test, y_pred, average='weighted'),3)}\")\n",
        "print(f\"f1: {round(accuracy_score(y_test, y_pred), 3)}\")"
      ],
      "metadata": {
        "colab": {
          "base_uri": "https://localhost:8080/"
        },
        "id": "MZunpCXvNmvs",
        "outputId": "c51484f7-a5d3-4b79-9b9c-fa36b148d347"
      },
      "execution_count": null,
      "outputs": [
        {
          "output_type": "stream",
          "name": "stdout",
          "text": [
            "Accuracy: 0.494\n",
            "precision: 0.497\n",
            "recall: 0.494\n",
            "f1: 0.494\n"
          ]
        }
      ]
    },
    {
      "cell_type": "code",
      "source": [],
      "metadata": {
        "id": "rtW1KP32NptX"
      },
      "execution_count": null,
      "outputs": []
    },
    {
      "cell_type": "markdown",
      "metadata": {
        "id": "54f3-advImr2"
      },
      "source": [
        "CNN"
      ]
    },
    {
      "cell_type": "code",
      "execution_count": null,
      "metadata": {
        "id": "9XwC_21EOlS1"
      },
      "outputs": [],
      "source": [
        "import numpy as np # linear algebra\n",
        "import pandas as pd # data processing, CSV file I/O (e.g. pd.read_csv)\n",
        "import tensorflow as tf\n",
        "import matplotlib.pyplot as plt\n",
        "import seaborn as sns\n",
        "from sklearn.manifold import TSNE\n",
        "from sklearn.decomposition import PCA, TruncatedSVD\n",
        "import matplotlib.patches as mpatches\n",
        "import time\n",
        "\n",
        "# Classifier Libraries\n",
        "from sklearn.linear_model import LogisticRegression\n",
        "from sklearn.svm import SVC\n",
        "from sklearn.neighbors import KNeighborsClassifier\n",
        "from sklearn.tree import DecisionTreeClassifier\n",
        "from sklearn.ensemble import RandomForestClassifier\n",
        "import collections\n",
        "\n",
        "\n",
        "# Other Libraries\n",
        "from sklearn.model_selection import train_test_split\n",
        "from sklearn.pipeline import make_pipeline\n",
        "from imblearn.pipeline import make_pipeline as imbalanced_make_pipeline\n",
        "from imblearn.over_sampling import SMOTE\n",
        "from imblearn.under_sampling import NearMiss\n",
        "from imblearn.metrics import classification_report_imbalanced\n",
        "from sklearn.metrics import precision_score, recall_score, f1_score, roc_auc_score, accuracy_score, classification_report\n",
        "from collections import Counter\n",
        "from sklearn.model_selection import KFold, StratifiedKFold\n",
        "import warnings\n",
        "warnings.filterwarnings(\"ignore\")"
      ]
    },
    {
      "cell_type": "code",
      "execution_count": null,
      "metadata": {
        "id": "MD5ZcntSMBxr"
      },
      "outputs": [],
      "source": [
        "from tensorflow.keras.datasets import mnist\n",
        "from tensorflow.keras.models import Sequential\n",
        "from tensorflow.keras.layers import Conv2D\n",
        "from tensorflow.keras.layers import MaxPool2D\n",
        "from tensorflow.keras.layers import Flatten\n",
        "from tensorflow.keras.layers import Dropout\n",
        "from tensorflow.keras.layers import Dense\n",
        "import numpy as np\n",
        "X2=np.array(X_train)\n",
        "X3=np.array(X_test)\n",
        "X_train2=X2.reshape(X_train.shape[0],X_train.shape[1],1)\n",
        "X_test2=X3.reshape(X_test.shape[0],X_test.shape[1],1)\n"
      ]
    },
    {
      "cell_type": "code",
      "source": [
        "from tensorflow.keras.models import Sequential\n",
        "from tensorflow.keras.layers import Input,Embedding,Dense,Flatten,MaxPooling1D,Conv1D,BatchNormalization,Dropout\n",
        "# import model\n",
        "model20=Sequential()\n",
        "# layers\n",
        "model20.add(Conv1D(filters=32, kernel_size=2, activation='relu', input_shape=X_train2[0].shape)) #creates a convolutional layer which extracts features from the input\n",
        "model20.add(BatchNormalization()) #normalizes each feature for better accuracy and faster training\n",
        "model20.add(Dropout(0.2)) # hides 20% neurons to avoid overfitting\n",
        "\n",
        "model20.add(Conv1D(filters=64, kernel_size=2, activation='relu'))\n",
        "model20.add(BatchNormalization())\n",
        "model20.add(Dropout(0.5))\n",
        "\n",
        "model20.add(Conv1D(filters=64, kernel_size=2, activation='relu'))\n",
        "model20.add(BatchNormalization())\n",
        "model20.add(Dropout(0.5))\n",
        "\n",
        "model20.add(Conv1D(filters=64, kernel_size=2, activation='relu'))\n",
        "model20.add(BatchNormalization())\n",
        "model20.add(Dropout(0.25))\n",
        "\n",
        "model20.add(Flatten()) #convert input into 1D\n",
        "model20.add(Dense(64, activation='relu')) #fully connected layer for classification\n",
        "model20.add(Dropout(0.25))\n",
        "\n",
        "model20.add(Dense(100, activation='relu'))\n",
        "model20.add(Dense(50, activation='relu'))\n",
        "model20.add(Dense(25, activation='relu'))\n",
        "model20.add(Dense(1, activation = \"sigmoid\"))"
      ],
      "metadata": {
        "id": "H41BVyOS65Op"
      },
      "execution_count": null,
      "outputs": []
    },
    {
      "cell_type": "code",
      "execution_count": null,
      "metadata": {
        "id": "8VMCJ6DLTMCA"
      },
      "outputs": [],
      "source": [
        "model20.compile(optimizer='adam', loss='binary_crossentropy', metrics=['accuracy'])"
      ]
    },
    {
      "cell_type": "code",
      "execution_count": null,
      "metadata": {
        "id": "5TxXk7orIaPT",
        "colab": {
          "base_uri": "https://localhost:8080/"
        },
        "outputId": "c1d6612c-1a0d-4e7f-b4bc-f303598a3ca5"
      },
      "outputs": [
        {
          "output_type": "stream",
          "name": "stdout",
          "text": [
            "Epoch 1/80\n",
            "109/109 [==============================] - 5s 14ms/step - loss: 0.2531 - accuracy: 0.1482 - val_loss: 0.3131 - val_accuracy: 0.1145\n",
            "Epoch 2/80\n",
            "109/109 [==============================] - 1s 12ms/step - loss: 0.1569 - accuracy: 0.1325 - val_loss: 0.2930 - val_accuracy: 0.1145\n",
            "Epoch 3/80\n",
            "109/109 [==============================] - 1s 12ms/step - loss: 0.1253 - accuracy: 0.1325 - val_loss: 0.3221 - val_accuracy: 0.1145\n",
            "Epoch 4/80\n",
            "109/109 [==============================] - 1s 11ms/step - loss: 0.2525 - accuracy: 0.1325 - val_loss: 0.1150 - val_accuracy: 0.1145\n",
            "Epoch 5/80\n",
            "109/109 [==============================] - 1s 14ms/step - loss: 0.1384 - accuracy: 0.1325 - val_loss: -0.0312 - val_accuracy: 0.1145\n",
            "Epoch 6/80\n",
            "109/109 [==============================] - 2s 19ms/step - loss: -0.3433 - accuracy: 0.1325 - val_loss: -1.5652 - val_accuracy: 0.1145\n",
            "Epoch 7/80\n",
            "109/109 [==============================] - 2s 16ms/step - loss: 36.0497 - accuracy: 0.1325 - val_loss: -1.9336 - val_accuracy: 0.1145\n",
            "Epoch 8/80\n",
            "109/109 [==============================] - 1s 12ms/step - loss: -14.2340 - accuracy: 0.1325 - val_loss: -17.7814 - val_accuracy: 0.1145\n",
            "Epoch 9/80\n",
            "109/109 [==============================] - 1s 11ms/step - loss: -46.2685 - accuracy: 0.1325 - val_loss: -164.7091 - val_accuracy: 0.1145\n",
            "Epoch 10/80\n",
            "109/109 [==============================] - 1s 11ms/step - loss: -114.6766 - accuracy: 0.1325 - val_loss: -436.8812 - val_accuracy: 0.1145\n",
            "Epoch 11/80\n",
            "109/109 [==============================] - 1s 12ms/step - loss: -307.2167 - accuracy: 0.1325 - val_loss: -1502.7931 - val_accuracy: 0.1145\n",
            "Epoch 12/80\n",
            "109/109 [==============================] - 1s 11ms/step - loss: -282.9915 - accuracy: 0.1325 - val_loss: -800.0135 - val_accuracy: 0.1145\n",
            "Epoch 13/80\n",
            "109/109 [==============================] - 1s 11ms/step - loss: -1570.7944 - accuracy: 0.1325 - val_loss: -2198.1213 - val_accuracy: 0.1145\n",
            "Epoch 14/80\n",
            "109/109 [==============================] - 1s 12ms/step - loss: -2430.8359 - accuracy: 0.1325 - val_loss: -7476.4878 - val_accuracy: 0.1145\n",
            "Epoch 15/80\n",
            "109/109 [==============================] - 2s 16ms/step - loss: -16263.1758 - accuracy: 0.1325 - val_loss: -34429.8086 - val_accuracy: 0.1145\n",
            "Epoch 16/80\n",
            "109/109 [==============================] - 2s 20ms/step - loss: -17361.7227 - accuracy: 0.1325 - val_loss: -91206.7188 - val_accuracy: 0.1145\n",
            "Epoch 17/80\n",
            "109/109 [==============================] - 2s 18ms/step - loss: -32384.4395 - accuracy: 0.1325 - val_loss: -63693.3320 - val_accuracy: 0.1145\n",
            "Epoch 18/80\n",
            "109/109 [==============================] - 2s 20ms/step - loss: -42092.6680 - accuracy: 0.1325 - val_loss: -82559.8203 - val_accuracy: 0.1145\n",
            "Epoch 19/80\n",
            "109/109 [==============================] - 2s 14ms/step - loss: -118368.8438 - accuracy: 0.1325 - val_loss: -119337.6953 - val_accuracy: 0.1145\n",
            "Epoch 20/80\n",
            "109/109 [==============================] - 1s 12ms/step - loss: -199463.4688 - accuracy: 0.1325 - val_loss: -78505.3906 - val_accuracy: 0.1145\n",
            "Epoch 21/80\n",
            "109/109 [==============================] - 1s 11ms/step - loss: -318325.2812 - accuracy: 0.1325 - val_loss: -399024.6562 - val_accuracy: 0.1145\n",
            "Epoch 22/80\n",
            "109/109 [==============================] - 1s 11ms/step - loss: -419289.6875 - accuracy: 0.1325 - val_loss: -499616.8438 - val_accuracy: 0.1145\n",
            "Epoch 23/80\n",
            "109/109 [==============================] - 1s 13ms/step - loss: -790752.0000 - accuracy: 0.1325 - val_loss: -1295074.3750 - val_accuracy: 0.1145\n",
            "Epoch 24/80\n",
            "109/109 [==============================] - 2s 19ms/step - loss: -936224.2500 - accuracy: 0.1325 - val_loss: -734745.6875 - val_accuracy: 0.1145\n",
            "Epoch 25/80\n",
            "109/109 [==============================] - 2s 18ms/step - loss: -1648255.5000 - accuracy: 0.1322 - val_loss: -873254.5625 - val_accuracy: 0.1145\n",
            "Epoch 26/80\n",
            "109/109 [==============================] - 1s 12ms/step - loss: -3770760.5000 - accuracy: 0.1362 - val_loss: -4697371.5000 - val_accuracy: 0.1145\n",
            "Epoch 27/80\n",
            "109/109 [==============================] - 1s 12ms/step - loss: -2973697.0000 - accuracy: 0.1482 - val_loss: -3446361.2500 - val_accuracy: 0.1145\n",
            "Epoch 28/80\n",
            "109/109 [==============================] - 1s 12ms/step - loss: -5162174.0000 - accuracy: 0.1350 - val_loss: -6773523.0000 - val_accuracy: 0.1145\n",
            "Epoch 29/80\n",
            "109/109 [==============================] - 1s 12ms/step - loss: -5797833.0000 - accuracy: 0.1379 - val_loss: -6431438.0000 - val_accuracy: 0.1145\n",
            "Epoch 30/80\n",
            "109/109 [==============================] - 1s 12ms/step - loss: -11466090.0000 - accuracy: 0.1454 - val_loss: -2541637.2500 - val_accuracy: 0.1145\n",
            "Epoch 31/80\n",
            "109/109 [==============================] - 1s 12ms/step - loss: -12062215.0000 - accuracy: 0.1333 - val_loss: -4238222.5000 - val_accuracy: 0.1145\n",
            "Epoch 32/80\n",
            "109/109 [==============================] - 1s 11ms/step - loss: -16781414.0000 - accuracy: 0.1336 - val_loss: -20697270.0000 - val_accuracy: 0.1145\n",
            "Epoch 33/80\n",
            "109/109 [==============================] - 2s 17ms/step - loss: -8425510.0000 - accuracy: 0.1327 - val_loss: -14829099.0000 - val_accuracy: 0.1145\n",
            "Epoch 34/80\n",
            "109/109 [==============================] - 2s 20ms/step - loss: -20453904.0000 - accuracy: 0.1325 - val_loss: -19903822.0000 - val_accuracy: 0.1145\n",
            "Epoch 35/80\n",
            "109/109 [==============================] - 1s 13ms/step - loss: -17555712.0000 - accuracy: 0.1336 - val_loss: -22938628.0000 - val_accuracy: 0.1145\n",
            "Epoch 36/80\n",
            "109/109 [==============================] - 1s 12ms/step - loss: -16552156.0000 - accuracy: 0.1325 - val_loss: -26071844.0000 - val_accuracy: 0.1145\n",
            "Epoch 37/80\n",
            "109/109 [==============================] - 1s 12ms/step - loss: -26622298.0000 - accuracy: 0.1327 - val_loss: -18897504.0000 - val_accuracy: 0.1145\n",
            "Epoch 38/80\n",
            "109/109 [==============================] - 1s 12ms/step - loss: -21262852.0000 - accuracy: 0.1327 - val_loss: -14197582.0000 - val_accuracy: 0.1145\n",
            "Epoch 39/80\n",
            "109/109 [==============================] - 1s 12ms/step - loss: -42290140.0000 - accuracy: 0.1376 - val_loss: -11069385.0000 - val_accuracy: 0.1145\n",
            "Epoch 40/80\n",
            "109/109 [==============================] - 1s 12ms/step - loss: -54159552.0000 - accuracy: 0.1333 - val_loss: -18528224.0000 - val_accuracy: 0.1145\n",
            "Epoch 41/80\n",
            "109/109 [==============================] - 1s 12ms/step - loss: -43629428.0000 - accuracy: 0.1442 - val_loss: -15416354.0000 - val_accuracy: 0.1145\n",
            "Epoch 42/80\n",
            "109/109 [==============================] - 1s 13ms/step - loss: -57827516.0000 - accuracy: 0.1390 - val_loss: -30626904.0000 - val_accuracy: 0.4181\n",
            "Epoch 43/80\n",
            "109/109 [==============================] - 2s 20ms/step - loss: -77757048.0000 - accuracy: 0.1459 - val_loss: -15734603.0000 - val_accuracy: 0.1145\n",
            "Epoch 44/80\n",
            "109/109 [==============================] - 2s 17ms/step - loss: -38353604.0000 - accuracy: 0.1345 - val_loss: -56883700.0000 - val_accuracy: 0.1145\n",
            "Epoch 45/80\n",
            "109/109 [==============================] - 1s 12ms/step - loss: -82213200.0000 - accuracy: 0.1356 - val_loss: -57287560.0000 - val_accuracy: 0.1145\n",
            "Epoch 46/80\n",
            "109/109 [==============================] - 1s 12ms/step - loss: -83013200.0000 - accuracy: 0.1345 - val_loss: -81687360.0000 - val_accuracy: 0.1145\n",
            "Epoch 47/80\n",
            "109/109 [==============================] - 1s 12ms/step - loss: -129536880.0000 - accuracy: 0.1373 - val_loss: -117043392.0000 - val_accuracy: 0.1145\n",
            "Epoch 48/80\n",
            "109/109 [==============================] - 1s 12ms/step - loss: -180613120.0000 - accuracy: 0.1336 - val_loss: -105515448.0000 - val_accuracy: 0.1145\n",
            "Epoch 49/80\n",
            "109/109 [==============================] - 1s 12ms/step - loss: -131320280.0000 - accuracy: 0.1362 - val_loss: -110518872.0000 - val_accuracy: 0.1145\n",
            "Epoch 50/80\n",
            "109/109 [==============================] - 1s 11ms/step - loss: -152255088.0000 - accuracy: 0.1494 - val_loss: -113753248.0000 - val_accuracy: 0.1145\n",
            "Epoch 51/80\n",
            "109/109 [==============================] - 1s 12ms/step - loss: -184272272.0000 - accuracy: 0.1408 - val_loss: -204657984.0000 - val_accuracy: 0.4204\n",
            "Epoch 52/80\n",
            "109/109 [==============================] - 2s 16ms/step - loss: -344386144.0000 - accuracy: 0.1433 - val_loss: -287245024.0000 - val_accuracy: 0.1145\n",
            "Epoch 53/80\n",
            "109/109 [==============================] - 2s 21ms/step - loss: -303729568.0000 - accuracy: 0.1365 - val_loss: -82796920.0000 - val_accuracy: 0.1145\n",
            "Epoch 54/80\n",
            "109/109 [==============================] - 1s 12ms/step - loss: -305490208.0000 - accuracy: 0.1393 - val_loss: -309135808.0000 - val_accuracy: 0.1134\n",
            "Epoch 55/80\n",
            "109/109 [==============================] - 1s 12ms/step - loss: -449669472.0000 - accuracy: 0.1402 - val_loss: -124023712.0000 - val_accuracy: 0.4422\n",
            "Epoch 56/80\n",
            "109/109 [==============================] - 1s 12ms/step - loss: -437947520.0000 - accuracy: 0.1485 - val_loss: -392567104.0000 - val_accuracy: 0.1145\n",
            "Epoch 57/80\n",
            "109/109 [==============================] - 1s 12ms/step - loss: -579100160.0000 - accuracy: 0.1474 - val_loss: -235328400.0000 - val_accuracy: 0.1145\n",
            "Epoch 58/80\n",
            "109/109 [==============================] - 1s 12ms/step - loss: -602471296.0000 - accuracy: 0.1456 - val_loss: -248914256.0000 - val_accuracy: 0.1145\n",
            "Epoch 59/80\n",
            "109/109 [==============================] - 1s 12ms/step - loss: -793406272.0000 - accuracy: 0.1399 - val_loss: -305758080.0000 - val_accuracy: 0.1145\n",
            "Epoch 60/80\n",
            "109/109 [==============================] - 1s 12ms/step - loss: -722759552.0000 - accuracy: 0.1422 - val_loss: -478552128.0000 - val_accuracy: 0.1145\n",
            "Epoch 61/80\n",
            "109/109 [==============================] - 2s 20ms/step - loss: -761052672.0000 - accuracy: 0.1442 - val_loss: -607652032.0000 - val_accuracy: 0.1145\n",
            "Epoch 62/80\n",
            "109/109 [==============================] - 3s 24ms/step - loss: -1181411328.0000 - accuracy: 0.1379 - val_loss: -281468288.0000 - val_accuracy: 0.1145\n",
            "Epoch 63/80\n",
            "109/109 [==============================] - 2s 21ms/step - loss: -1023397696.0000 - accuracy: 0.1408 - val_loss: -109020512.0000 - val_accuracy: 0.4467\n",
            "Epoch 64/80\n",
            "109/109 [==============================] - 1s 12ms/step - loss: -641561984.0000 - accuracy: 0.1494 - val_loss: -369213952.0000 - val_accuracy: 0.1145\n",
            "Epoch 65/80\n",
            "109/109 [==============================] - 1s 12ms/step - loss: -981102784.0000 - accuracy: 0.1459 - val_loss: -809010368.0000 - val_accuracy: 0.1145\n",
            "Epoch 66/80\n",
            "109/109 [==============================] - 1s 11ms/step - loss: -1676429696.0000 - accuracy: 0.1482 - val_loss: -937696576.0000 - val_accuracy: 0.1145\n",
            "Epoch 67/80\n",
            "109/109 [==============================] - 1s 11ms/step - loss: -1057798976.0000 - accuracy: 0.1528 - val_loss: -885245504.0000 - val_accuracy: 0.1145\n",
            "Epoch 68/80\n",
            "109/109 [==============================] - 1s 11ms/step - loss: -1203212544.0000 - accuracy: 0.1474 - val_loss: -1308027648.0000 - val_accuracy: 0.1145\n",
            "Epoch 69/80\n",
            "109/109 [==============================] - 1s 12ms/step - loss: -1208432256.0000 - accuracy: 0.1416 - val_loss: -1509708288.0000 - val_accuracy: 0.1145\n",
            "Epoch 70/80\n",
            "109/109 [==============================] - 1s 12ms/step - loss: -1579175808.0000 - accuracy: 0.1474 - val_loss: -1004534144.0000 - val_accuracy: 0.1145\n",
            "Epoch 71/80\n",
            "109/109 [==============================] - 1s 12ms/step - loss: -1641493248.0000 - accuracy: 0.1408 - val_loss: -1139229312.0000 - val_accuracy: 0.1145\n",
            "Epoch 72/80\n",
            "109/109 [==============================] - 2s 20ms/step - loss: -2207874048.0000 - accuracy: 0.1499 - val_loss: -1060813312.0000 - val_accuracy: 0.1145\n",
            "Epoch 73/80\n",
            "109/109 [==============================] - 2s 18ms/step - loss: -2578911232.0000 - accuracy: 0.1393 - val_loss: -1278447360.0000 - val_accuracy: 0.1145\n",
            "Epoch 74/80\n",
            "109/109 [==============================] - 1s 12ms/step - loss: -1863972864.0000 - accuracy: 0.1476 - val_loss: -1644772864.0000 - val_accuracy: 0.1145\n",
            "Epoch 75/80\n",
            "109/109 [==============================] - 1s 12ms/step - loss: -4008515072.0000 - accuracy: 0.1462 - val_loss: -1559919104.0000 - val_accuracy: 0.1145\n",
            "Epoch 76/80\n",
            "109/109 [==============================] - 1s 11ms/step - loss: -3002141440.0000 - accuracy: 0.1471 - val_loss: -1109742080.0000 - val_accuracy: 0.1145\n",
            "Epoch 77/80\n",
            "109/109 [==============================] - 1s 12ms/step - loss: -3712048640.0000 - accuracy: 0.1408 - val_loss: -2356266752.0000 - val_accuracy: 0.1145\n",
            "Epoch 78/80\n",
            "109/109 [==============================] - 1s 12ms/step - loss: -5727445504.0000 - accuracy: 0.1637 - val_loss: -3685363968.0000 - val_accuracy: 0.1145\n",
            "Epoch 79/80\n",
            "109/109 [==============================] - 1s 11ms/step - loss: -4939153408.0000 - accuracy: 0.1454 - val_loss: -3255272704.0000 - val_accuracy: 0.1145\n",
            "Epoch 80/80\n",
            "109/109 [==============================] - 1s 12ms/step - loss: -5837740032.0000 - accuracy: 0.1499 - val_loss: -3824658176.0000 - val_accuracy: 0.1145\n"
          ]
        }
      ],
      "source": [
        "history=model20.fit(X_train2,y_train,epochs=80,validation_data=(X_test2,y_test))"
      ]
    },
    {
      "cell_type": "code",
      "execution_count": null,
      "metadata": {
        "id": "cQKHzGQsR2HB"
      },
      "outputs": [],
      "source": [
        "def plot_learningcurve(history,epochs):\n",
        "  epoch=range(1,epochs+1)\n",
        "  # accuracy\n",
        "  plt.plot(epoch, history.history['accuracy'])\n",
        "  plt.plot(epoch, history.history['val_accuracy'])\n",
        "  plt.title('Model accuracy')\n",
        "  plt.xlabel('epoch')\n",
        "  plt.ylabel('accuracy')\n",
        "  plt.legend(['train','val'], loc='upper left')\n",
        "  plt.show()\n",
        "\n",
        "  # loss\n",
        "  plt.plot(epoch, history.history['loss'])\n",
        "  plt.plot(epoch, history.history['val_loss'])\n",
        "  plt.title('Model loss')\n",
        "  plt.xlabel('epoch')\n",
        "  plt.ylabel('loss')\n",
        "  plt.legend(['train','val'], loc='upper left')\n",
        "  plt.show()"
      ]
    },
    {
      "cell_type": "code",
      "execution_count": null,
      "metadata": {
        "colab": {
          "base_uri": "https://localhost:8080/",
          "height": 927
        },
        "id": "1kyqeUL6R2HC",
        "outputId": "329c2924-c621-49f2-de3f-2e505734af0c"
      },
      "outputs": [
        {
          "output_type": "display_data",
          "data": {
            "text/plain": [
              "<Figure size 640x480 with 1 Axes>"
            ],
            "image/png": "[encoded data removed]"
          },
          "metadata": {}
        },
        {
          "output_type": "display_data",
          "data": {
            "text/plain": [
              "<Figure size 640x480 with 1 Axes>"
            ],
            "image/png": "[encoded data removed]"
          },
          "metadata": {}
        }
      ],
      "source": [
        "plot_learningcurve(history,80)"
      ]
    },
    {
      "cell_type": "code",
      "source": [
        "\n",
        "c=model20.evaluate(X_test2,y_test)"
      ],
      "metadata": {
        "colab": {
          "base_uri": "https://localhost:8080/"
        },
        "id": "trF5dDU8UGOh",
        "outputId": "26132916-3f70-4b19-973e-f054c4ec5575"
      },
      "execution_count": null,
      "outputs": [
        {
          "output_type": "stream",
          "name": "stdout",
          "text": [
            "28/28 [==============================] - 0s 7ms/step - loss: -3824658176.0000 - accuracy: 0.1145\n"
          ]
        }
      ]
    },
    {
      "cell_type": "code",
      "source": [
        "pred = (model20.predict(X_test2))\n",
        "res = []\n",
        "for ele in pred:\n",
        "  if(ele < 0.5):\n",
        "    res.append(0)\n",
        "  else:\n",
        "    res.append(1)\n",
        "print(classification_report(y_test, res))"
      ],
      "metadata": {
        "id": "k_LmS-wmVToS",
        "colab": {
          "base_uri": "https://localhost:8080/"
        },
        "outputId": "7b1ac1d8-1c65-40ec-f7c9-ff66173f7dfc"
      },
      "execution_count": null,
      "outputs": [
        {
          "output_type": "stream",
          "name": "stdout",
          "text": [
            "28/28 [==============================] - 1s 5ms/step\n",
            "              precision    recall  f1-score   support\n",
            "\n",
            "           0       0.00      0.00      0.00       395\n",
            "           1       0.11      1.00      0.21       100\n",
            "           2       0.00      0.00      0.00       378\n",
            "\n",
            "    accuracy                           0.11       873\n",
            "   macro avg       0.04      0.33      0.07       873\n",
            "weighted avg       0.01      0.11      0.02       873\n",
            "\n"
          ]
        }
      ]
    }
  ]
}