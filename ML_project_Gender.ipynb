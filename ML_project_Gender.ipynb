{
  "cells": [
    {
      "cell_type": "markdown",
      "metadata": {
        "id": "view-in-github",
        "colab_type": "text"
      },
      "source": [
        "<a href=\"https://colab.research.google.com/github/praveen-221/Age-Gender-Emotion-prediction-using-Audio/blob/main/ML_project_Gender.ipynb\" target=\"_parent\"><img src=\"https://colab.research.google.com/assets/colab-badge.svg\" alt=\"Open In Colab\"/></a>"
      ]
    },
    {
      "cell_type": "markdown",
      "metadata": {
        "id": "EzZ3BroMAOQn"
      },
      "source": [
        "### Gender Classification"
      ]
    },
    {
      "cell_type": "code",
      "source": [
        "from google.colab import drive\n",
        "drive.mount('/content/drive')"
      ],
      "metadata": {
        "colab": {
          "base_uri": "https://localhost:8080/"
        },
        "id": "SPnnui8tbBFJ",
        "outputId": "66f11005-6b2a-4624-f8e8-08dd9015d032"
      },
      "execution_count": null,
      "outputs": [
        {
          "output_type": "stream",
          "name": "stdout",
          "text": [
            "Drive already mounted at /content/drive; to attempt to forcibly remount, call drive.mount(\"/content/drive\", force_remount=True).\n"
          ]
        }
      ]
    },
    {
      "cell_type": "code",
      "execution_count": null,
      "metadata": {
        "id": "Vus0wvX2_q3I"
      },
      "outputs": [],
      "source": [
        "import pandas as pd\n",
        "import numpy as np\n",
        "from sklearn.model_selection import train_test_split\n",
        "from sklearn.metrics import precision_score, recall_score, f1_score, accuracy_score\n",
        "from sklearn import tree\n",
        "from sklearn.ensemble import RandomForestClassifier\n",
        "from sklearn.svm import SVC"
      ]
    },
    {
      "cell_type": "code",
      "execution_count": null,
      "metadata": {
        "colab": {
          "base_uri": "https://localhost:8080/",
          "height": 505
        },
        "id": "sWN1fGO5Rnzp",
        "outputId": "2a4bb9d3-b232-4186-d96b-b28ea3a77122"
      },
      "outputs": [
        {
          "output_type": "execute_result",
          "data": {
            "text/plain": [
              "      Unnamed: 0  meanfreq        sd    median       Q25       Q75       IQR  \\\n",
              "0             66  0.133338  0.069304  0.107668  0.089192  0.195267  0.106075   \n",
              "1             84  0.137433  0.058518  0.112037  0.092841  0.200079  0.107238   \n",
              "2             85  0.142227  0.065447  0.112242  0.093455  0.202909  0.109455   \n",
              "3             87  0.133325  0.072849  0.113360  0.082861  0.203753  0.120892   \n",
              "4             88  0.130487  0.070407  0.113418  0.076098  0.196188  0.120089   \n",
              "...          ...       ...       ...       ...       ...       ...       ...   \n",
              "4356        6220  0.241377  0.039956  0.252299  0.225070  0.269297  0.044227   \n",
              "4357        6222  0.235059  0.053056  0.252532  0.231392  0.264468  0.033077   \n",
              "4358        6224  0.230992  0.053711  0.252760  0.223666  0.265731  0.042065   \n",
              "4359        6230  0.240334  0.044747  0.253897  0.233837  0.265619  0.031782   \n",
              "4360        6235  0.227517  0.059336  0.257051  0.198797  0.267371  0.068574   \n",
              "\n",
              "          skew       kurt    sp.ent  ...  centroid   meanfun    minfun  \\\n",
              "0     3.043456  13.694173  0.929512  ...  0.133338  0.121968  0.047337   \n",
              "1     2.807995  12.776650  0.911080  ...  0.137433  0.111204  0.047151   \n",
              "2     2.380899   9.942833  0.936040  ...  0.142227  0.118711  0.047013   \n",
              "3     1.904123   7.799218  0.958362  ...  0.133325  0.116200  0.047105   \n",
              "4     1.820873   8.561101  0.969568  ...  0.130487  0.114802  0.047151   \n",
              "...        ...        ...       ...  ...       ...       ...       ...   \n",
              "4356  2.730197  11.467950  0.847220  ...  0.241377  0.176361  0.047666   \n",
              "4357  2.869390  12.009156  0.859784  ...  0.235059  0.120552  0.047572   \n",
              "4358  3.277391  15.202833  0.861995  ...  0.230992  0.162745  0.047059   \n",
              "4359  2.826720  11.350446  0.850527  ...  0.240334  0.134127  0.046967   \n",
              "4360  3.287888  14.553146  0.858797  ...  0.227517  0.121157  0.047105   \n",
              "\n",
              "        maxfun   meandom  mindom     maxdom    dfrange   modindx   label  \n",
              "0     0.277457  0.822656  0.0000   4.687500   4.687500  0.076296    male  \n",
              "1     0.277457  1.313384  0.0000   6.046875   6.046875  0.135811    male  \n",
              "2     0.275862  0.593750  0.0000   6.539062   6.539062  0.096102    male  \n",
              "3     0.279070  0.424922  0.0000   5.812500   5.812500  0.081880    male  \n",
              "4     0.279070  0.198070  0.0000   1.078125   1.078125  0.131579    male  \n",
              "...        ...       ...     ...        ...        ...       ...     ...  \n",
              "4356  0.279070  1.224946  0.0000   6.140625   6.140625  0.093181  female  \n",
              "4357  0.274286  1.103427  0.0000  10.382812  10.382812  0.056716    male  \n",
              "4358  0.277457  1.297944  0.1875  11.812500  11.625000  0.081470  female  \n",
              "4359  0.271186  0.528390  0.0000   3.187500   3.187500  0.065266    male  \n",
              "4360  0.279070  0.974657  0.0000  10.078125  10.078125  0.064763    male  \n",
              "\n",
              "[4361 rows x 22 columns]"
            ],
            "text/html": [
              "\n",
              "  <div id=\"df-7f86be20-654c-4cad-bd1e-76996c654ef4\">\n",
              "    <div class=\"colab-df-container\">\n",
              "      <div>\n",
              "<style scoped>\n",
              "    .dataframe tbody tr th:only-of-type {\n",
              "        vertical-align: middle;\n",
              "    }\n",
              "\n",
              "    .dataframe tbody tr th {\n",
              "        vertical-align: top;\n",
              "    }\n",
              "\n",
              "    .dataframe thead th {\n",
              "        text-align: right;\n",
              "    }\n",
              "</style>\n",
              "<table border=\"1\" class=\"dataframe\">\n",
              "  <thead>\n",
              "    <tr style=\"text-align: right;\">\n",
              "      <th></th>\n",
              "      <th>Unnamed: 0</th>\n",
              "      <th>meanfreq</th>\n",
              "      <th>sd</th>\n",
              "      <th>median</th>\n",
              "      <th>Q25</th>\n",
              "      <th>Q75</th>\n",
              "      <th>IQR</th>\n",
              "      <th>skew</th>\n",
              "      <th>kurt</th>\n",
              "      <th>sp.ent</th>\n",
              "      <th>...</th>\n",
              "      <th>centroid</th>\n",
              "      <th>meanfun</th>\n",
              "      <th>minfun</th>\n",
              "      <th>maxfun</th>\n",
              "      <th>meandom</th>\n",
              "      <th>mindom</th>\n",
              "      <th>maxdom</th>\n",
              "      <th>dfrange</th>\n",
              "      <th>modindx</th>\n",
              "      <th>label</th>\n",
              "    </tr>\n",
              "  </thead>\n",
              "  <tbody>\n",
              "    <tr>\n",
              "      <th>0</th>\n",
              "      <td>66</td>\n",
              "      <td>0.133338</td>\n",
              "      <td>0.069304</td>\n",
              "      <td>0.107668</td>\n",
              "      <td>0.089192</td>\n",
              "      <td>0.195267</td>\n",
              "      <td>0.106075</td>\n",
              "      <td>3.043456</td>\n",
              "      <td>13.694173</td>\n",
              "      <td>0.929512</td>\n",
              "      <td>...</td>\n",
              "      <td>0.133338</td>\n",
              "      <td>0.121968</td>\n",
              "      <td>0.047337</td>\n",
              "      <td>0.277457</td>\n",
              "      <td>0.822656</td>\n",
              "      <td>0.0000</td>\n",
              "      <td>4.687500</td>\n",
              "      <td>4.687500</td>\n",
              "      <td>0.076296</td>\n",
              "      <td>male</td>\n",
              "    </tr>\n",
              "    <tr>\n",
              "      <th>1</th>\n",
              "      <td>84</td>\n",
              "      <td>0.137433</td>\n",
              "      <td>0.058518</td>\n",
              "      <td>0.112037</td>\n",
              "      <td>0.092841</td>\n",
              "      <td>0.200079</td>\n",
              "      <td>0.107238</td>\n",
              "      <td>2.807995</td>\n",
              "      <td>12.776650</td>\n",
              "      <td>0.911080</td>\n",
              "      <td>...</td>\n",
              "      <td>0.137433</td>\n",
              "      <td>0.111204</td>\n",
              "      <td>0.047151</td>\n",
              "      <td>0.277457</td>\n",
              "      <td>1.313384</td>\n",
              "      <td>0.0000</td>\n",
              "      <td>6.046875</td>\n",
              "      <td>6.046875</td>\n",
              "      <td>0.135811</td>\n",
              "      <td>male</td>\n",
              "    </tr>\n",
              "    <tr>\n",
              "      <th>2</th>\n",
              "      <td>85</td>\n",
              "      <td>0.142227</td>\n",
              "      <td>0.065447</td>\n",
              "      <td>0.112242</td>\n",
              "      <td>0.093455</td>\n",
              "      <td>0.202909</td>\n",
              "      <td>0.109455</td>\n",
              "      <td>2.380899</td>\n",
              "      <td>9.942833</td>\n",
              "      <td>0.936040</td>\n",
              "      <td>...</td>\n",
              "      <td>0.142227</td>\n",
              "      <td>0.118711</td>\n",
              "      <td>0.047013</td>\n",
              "      <td>0.275862</td>\n",
              "      <td>0.593750</td>\n",
              "      <td>0.0000</td>\n",
              "      <td>6.539062</td>\n",
              "      <td>6.539062</td>\n",
              "      <td>0.096102</td>\n",
              "      <td>male</td>\n",
              "    </tr>\n",
              "    <tr>\n",
              "      <th>3</th>\n",
              "      <td>87</td>\n",
              "      <td>0.133325</td>\n",
              "      <td>0.072849</td>\n",
              "      <td>0.113360</td>\n",
              "      <td>0.082861</td>\n",
              "      <td>0.203753</td>\n",
              "      <td>0.120892</td>\n",
              "      <td>1.904123</td>\n",
              "      <td>7.799218</td>\n",
              "      <td>0.958362</td>\n",
              "      <td>...</td>\n",
              "      <td>0.133325</td>\n",
              "      <td>0.116200</td>\n",
              "      <td>0.047105</td>\n",
              "      <td>0.279070</td>\n",
              "      <td>0.424922</td>\n",
              "      <td>0.0000</td>\n",
              "      <td>5.812500</td>\n",
              "      <td>5.812500</td>\n",
              "      <td>0.081880</td>\n",
              "      <td>male</td>\n",
              "    </tr>\n",
              "    <tr>\n",
              "      <th>4</th>\n",
              "      <td>88</td>\n",
              "      <td>0.130487</td>\n",
              "      <td>0.070407</td>\n",
              "      <td>0.113418</td>\n",
              "      <td>0.076098</td>\n",
              "      <td>0.196188</td>\n",
              "      <td>0.120089</td>\n",
              "      <td>1.820873</td>\n",
              "      <td>8.561101</td>\n",
              "      <td>0.969568</td>\n",
              "      <td>...</td>\n",
              "      <td>0.130487</td>\n",
              "      <td>0.114802</td>\n",
              "      <td>0.047151</td>\n",
              "      <td>0.279070</td>\n",
              "      <td>0.198070</td>\n",
              "      <td>0.0000</td>\n",
              "      <td>1.078125</td>\n",
              "      <td>1.078125</td>\n",
              "      <td>0.131579</td>\n",
              "      <td>male</td>\n",
              "    </tr>\n",
              "    <tr>\n",
              "      <th>...</th>\n",
              "      <td>...</td>\n",
              "      <td>...</td>\n",
              "      <td>...</td>\n",
              "      <td>...</td>\n",
              "      <td>...</td>\n",
              "      <td>...</td>\n",
              "      <td>...</td>\n",
              "      <td>...</td>\n",
              "      <td>...</td>\n",
              "      <td>...</td>\n",
              "      <td>...</td>\n",
              "      <td>...</td>\n",
              "      <td>...</td>\n",
              "      <td>...</td>\n",
              "      <td>...</td>\n",
              "      <td>...</td>\n",
              "      <td>...</td>\n",
              "      <td>...</td>\n",
              "      <td>...</td>\n",
              "      <td>...</td>\n",
              "      <td>...</td>\n",
              "    </tr>\n",
              "    <tr>\n",
              "      <th>4356</th>\n",
              "      <td>6220</td>\n",
              "      <td>0.241377</td>\n",
              "      <td>0.039956</td>\n",
              "      <td>0.252299</td>\n",
              "      <td>0.225070</td>\n",
              "      <td>0.269297</td>\n",
              "      <td>0.044227</td>\n",
              "      <td>2.730197</td>\n",
              "      <td>11.467950</td>\n",
              "      <td>0.847220</td>\n",
              "      <td>...</td>\n",
              "      <td>0.241377</td>\n",
              "      <td>0.176361</td>\n",
              "      <td>0.047666</td>\n",
              "      <td>0.279070</td>\n",
              "      <td>1.224946</td>\n",
              "      <td>0.0000</td>\n",
              "      <td>6.140625</td>\n",
              "      <td>6.140625</td>\n",
              "      <td>0.093181</td>\n",
              "      <td>female</td>\n",
              "    </tr>\n",
              "    <tr>\n",
              "      <th>4357</th>\n",
              "      <td>6222</td>\n",
              "      <td>0.235059</td>\n",
              "      <td>0.053056</td>\n",
              "      <td>0.252532</td>\n",
              "      <td>0.231392</td>\n",
              "      <td>0.264468</td>\n",
              "      <td>0.033077</td>\n",
              "      <td>2.869390</td>\n",
              "      <td>12.009156</td>\n",
              "      <td>0.859784</td>\n",
              "      <td>...</td>\n",
              "      <td>0.235059</td>\n",
              "      <td>0.120552</td>\n",
              "      <td>0.047572</td>\n",
              "      <td>0.274286</td>\n",
              "      <td>1.103427</td>\n",
              "      <td>0.0000</td>\n",
              "      <td>10.382812</td>\n",
              "      <td>10.382812</td>\n",
              "      <td>0.056716</td>\n",
              "      <td>male</td>\n",
              "    </tr>\n",
              "    <tr>\n",
              "      <th>4358</th>\n",
              "      <td>6224</td>\n",
              "      <td>0.230992</td>\n",
              "      <td>0.053711</td>\n",
              "      <td>0.252760</td>\n",
              "      <td>0.223666</td>\n",
              "      <td>0.265731</td>\n",
              "      <td>0.042065</td>\n",
              "      <td>3.277391</td>\n",
              "      <td>15.202833</td>\n",
              "      <td>0.861995</td>\n",
              "      <td>...</td>\n",
              "      <td>0.230992</td>\n",
              "      <td>0.162745</td>\n",
              "      <td>0.047059</td>\n",
              "      <td>0.277457</td>\n",
              "      <td>1.297944</td>\n",
              "      <td>0.1875</td>\n",
              "      <td>11.812500</td>\n",
              "      <td>11.625000</td>\n",
              "      <td>0.081470</td>\n",
              "      <td>female</td>\n",
              "    </tr>\n",
              "    <tr>\n",
              "      <th>4359</th>\n",
              "      <td>6230</td>\n",
              "      <td>0.240334</td>\n",
              "      <td>0.044747</td>\n",
              "      <td>0.253897</td>\n",
              "      <td>0.233837</td>\n",
              "      <td>0.265619</td>\n",
              "      <td>0.031782</td>\n",
              "      <td>2.826720</td>\n",
              "      <td>11.350446</td>\n",
              "      <td>0.850527</td>\n",
              "      <td>...</td>\n",
              "      <td>0.240334</td>\n",
              "      <td>0.134127</td>\n",
              "      <td>0.046967</td>\n",
              "      <td>0.271186</td>\n",
              "      <td>0.528390</td>\n",
              "      <td>0.0000</td>\n",
              "      <td>3.187500</td>\n",
              "      <td>3.187500</td>\n",
              "      <td>0.065266</td>\n",
              "      <td>male</td>\n",
              "    </tr>\n",
              "    <tr>\n",
              "      <th>4360</th>\n",
              "      <td>6235</td>\n",
              "      <td>0.227517</td>\n",
              "      <td>0.059336</td>\n",
              "      <td>0.257051</td>\n",
              "      <td>0.198797</td>\n",
              "      <td>0.267371</td>\n",
              "      <td>0.068574</td>\n",
              "      <td>3.287888</td>\n",
              "      <td>14.553146</td>\n",
              "      <td>0.858797</td>\n",
              "      <td>...</td>\n",
              "      <td>0.227517</td>\n",
              "      <td>0.121157</td>\n",
              "      <td>0.047105</td>\n",
              "      <td>0.279070</td>\n",
              "      <td>0.974657</td>\n",
              "      <td>0.0000</td>\n",
              "      <td>10.078125</td>\n",
              "      <td>10.078125</td>\n",
              "      <td>0.064763</td>\n",
              "      <td>male</td>\n",
              "    </tr>\n",
              "  </tbody>\n",
              "</table>\n",
              "<p>4361 rows × 22 columns</p>\n",
              "</div>\n",
              "      <button class=\"colab-df-convert\" onclick=\"convertToInteractive('df-7f86be20-654c-4cad-bd1e-76996c654ef4')\"\n",
              "              title=\"Convert this dataframe to an interactive table.\"\n",
              "              style=\"display:none;\">\n",
              "        \n",
              "  <svg xmlns=\"http://www.w3.org/2000/svg\" height=\"24px\"viewBox=\"0 0 24 24\"\n",
              "       width=\"24px\">\n",
              "    <path d=\"M0 0h24v24H0V0z\" fill=\"none\"/>\n",
              "    <path d=\"M18.56 5.44l.94 2.06.94-2.06 2.06-.94-2.06-.94-.94-2.06-.94 2.06-2.06.94zm-11 1L8.5 8.5l.94-2.06 2.06-.94-2.06-.94L8.5 2.5l-.94 2.06-2.06.94zm10 10l.94 2.06.94-2.06 2.06-.94-2.06-.94-.94-2.06-.94 2.06-2.06.94z\"/><path d=\"M17.41 7.96l-1.37-1.37c-.4-.4-.92-.59-1.43-.59-.52 0-1.04.2-1.43.59L10.3 9.45l-7.72 7.72c-.78.78-.78 2.05 0 2.83L4 21.41c.39.39.9.59 1.41.59.51 0 1.02-.2 1.41-.59l7.78-7.78 2.81-2.81c.8-.78.8-2.07 0-2.86zM5.41 20L4 18.59l7.72-7.72 1.47 1.35L5.41 20z\"/>\n",
              "  </svg>\n",
              "      </button>\n",
              "      \n",
              "  <style>\n",
              "    .colab-df-container {\n",
              "      display:flex;\n",
              "      flex-wrap:wrap;\n",
              "      gap: 12px;\n",
              "    }\n",
              "\n",
              "    .colab-df-convert {\n",
              "      background-color: #E8F0FE;\n",
              "      border: none;\n",
              "      border-radius: 50%;\n",
              "      cursor: pointer;\n",
              "      display: none;\n",
              "      fill: #1967D2;\n",
              "      height: 32px;\n",
              "      padding: 0 0 0 0;\n",
              "      width: 32px;\n",
              "    }\n",
              "\n",
              "    .colab-df-convert:hover {\n",
              "      background-color: #E2EBFA;\n",
              "      box-shadow: 0px 1px 2px rgba(60, 64, 67, 0.3), 0px 1px 3px 1px rgba(60, 64, 67, 0.15);\n",
              "      fill: #174EA6;\n",
              "    }\n",
              "\n",
              "    [theme=dark] .colab-df-convert {\n",
              "      background-color: #3B4455;\n",
              "      fill: #D2E3FC;\n",
              "    }\n",
              "\n",
              "    [theme=dark] .colab-df-convert:hover {\n",
              "      background-color: #434B5C;\n",
              "      box-shadow: 0px 1px 3px 1px rgba(0, 0, 0, 0.15);\n",
              "      filter: drop-shadow(0px 1px 2px rgba(0, 0, 0, 0.3));\n",
              "      fill: #FFFFFF;\n",
              "    }\n",
              "  </style>\n",
              "\n",
              "      <script>\n",
              "        const buttonEl =\n",
              "          document.querySelector('#df-7f86be20-654c-4cad-bd1e-76996c654ef4 button.colab-df-convert');\n",
              "        buttonEl.style.display =\n",
              "          google.colab.kernel.accessAllowed ? 'block' : 'none';\n",
              "\n",
              "        async function convertToInteractive(key) {\n",
              "          const element = document.querySelector('#df-7f86be20-654c-4cad-bd1e-76996c654ef4');\n",
              "          const dataTable =\n",
              "            await google.colab.kernel.invokeFunction('convertToInteractive',\n",
              "                                                     [key], {});\n",
              "          if (!dataTable) return;\n",
              "\n",
              "          const docLinkHtml = 'Like what you see? Visit the ' +\n",
              "            '<a target=\"_blank\" href=https://colab.research.google.com/notebooks/data_table.ipynb>data table notebook</a>'\n",
              "            + ' to learn more about interactive tables.';\n",
              "          element.innerHTML = '';\n",
              "          dataTable['output_type'] = 'display_data';\n",
              "          await google.colab.output.renderOutput(dataTable, element);\n",
              "          const docLink = document.createElement('div');\n",
              "          docLink.innerHTML = docLinkHtml;\n",
              "          element.appendChild(docLink);\n",
              "        }\n",
              "      </script>\n",
              "    </div>\n",
              "  </div>\n",
              "  "
            ]
          },
          "metadata": {},
          "execution_count": 9
        }
      ],
      "source": [
        "#data = pd.read_csv(\"/content/drive/MyDrive/cleaned-dataset/cleaned_gender.csv\")\n",
        "data = pd.read_csv(\"/content/drive/MyDrive/cleaned_gender.csv\")\n",
        "#data = pd.read_csv(\"/content/cleaned_gender.csv\")\n",
        "# data = pd.read_csv(\"cleaned_gender.csv\")\n",
        "data"
      ]
    },
    {
      "cell_type": "code",
      "execution_count": null,
      "metadata": {
        "id": "MQ5vrAy5CCbx"
      },
      "outputs": [],
      "source": [
        "from sklearn.preprocessing import LabelEncoder\n",
        "le = LabelEncoder()"
      ]
    },
    {
      "cell_type": "code",
      "execution_count": null,
      "metadata": {
        "colab": {
          "base_uri": "https://localhost:8080/",
          "height": 505
        },
        "id": "xGehCk7KCn9Q",
        "outputId": "0c1a9342-4aaf-4f0a-f041-643a8471ceb4"
      },
      "outputs": [
        {
          "output_type": "execute_result",
          "data": {
            "text/plain": [
              "      Unnamed: 0  meanfreq        sd    median       Q25       Q75       IQR  \\\n",
              "0             66  0.133338  0.069304  0.107668  0.089192  0.195267  0.106075   \n",
              "1             84  0.137433  0.058518  0.112037  0.092841  0.200079  0.107238   \n",
              "2             85  0.142227  0.065447  0.112242  0.093455  0.202909  0.109455   \n",
              "3             87  0.133325  0.072849  0.113360  0.082861  0.203753  0.120892   \n",
              "4             88  0.130487  0.070407  0.113418  0.076098  0.196188  0.120089   \n",
              "...          ...       ...       ...       ...       ...       ...       ...   \n",
              "4356        6220  0.241377  0.039956  0.252299  0.225070  0.269297  0.044227   \n",
              "4357        6222  0.235059  0.053056  0.252532  0.231392  0.264468  0.033077   \n",
              "4358        6224  0.230992  0.053711  0.252760  0.223666  0.265731  0.042065   \n",
              "4359        6230  0.240334  0.044747  0.253897  0.233837  0.265619  0.031782   \n",
              "4360        6235  0.227517  0.059336  0.257051  0.198797  0.267371  0.068574   \n",
              "\n",
              "          skew       kurt    sp.ent  ...  centroid   meanfun    minfun  \\\n",
              "0     3.043456  13.694173  0.929512  ...  0.133338  0.121968  0.047337   \n",
              "1     2.807995  12.776650  0.911080  ...  0.137433  0.111204  0.047151   \n",
              "2     2.380899   9.942833  0.936040  ...  0.142227  0.118711  0.047013   \n",
              "3     1.904123   7.799218  0.958362  ...  0.133325  0.116200  0.047105   \n",
              "4     1.820873   8.561101  0.969568  ...  0.130487  0.114802  0.047151   \n",
              "...        ...        ...       ...  ...       ...       ...       ...   \n",
              "4356  2.730197  11.467950  0.847220  ...  0.241377  0.176361  0.047666   \n",
              "4357  2.869390  12.009156  0.859784  ...  0.235059  0.120552  0.047572   \n",
              "4358  3.277391  15.202833  0.861995  ...  0.230992  0.162745  0.047059   \n",
              "4359  2.826720  11.350446  0.850527  ...  0.240334  0.134127  0.046967   \n",
              "4360  3.287888  14.553146  0.858797  ...  0.227517  0.121157  0.047105   \n",
              "\n",
              "        maxfun   meandom  mindom     maxdom    dfrange   modindx  label  \n",
              "0     0.277457  0.822656  0.0000   4.687500   4.687500  0.076296      1  \n",
              "1     0.277457  1.313384  0.0000   6.046875   6.046875  0.135811      1  \n",
              "2     0.275862  0.593750  0.0000   6.539062   6.539062  0.096102      1  \n",
              "3     0.279070  0.424922  0.0000   5.812500   5.812500  0.081880      1  \n",
              "4     0.279070  0.198070  0.0000   1.078125   1.078125  0.131579      1  \n",
              "...        ...       ...     ...        ...        ...       ...    ...  \n",
              "4356  0.279070  1.224946  0.0000   6.140625   6.140625  0.093181      0  \n",
              "4357  0.274286  1.103427  0.0000  10.382812  10.382812  0.056716      1  \n",
              "4358  0.277457  1.297944  0.1875  11.812500  11.625000  0.081470      0  \n",
              "4359  0.271186  0.528390  0.0000   3.187500   3.187500  0.065266      1  \n",
              "4360  0.279070  0.974657  0.0000  10.078125  10.078125  0.064763      1  \n",
              "\n",
              "[4361 rows x 22 columns]"
            ],
            "text/html": [
              "\n",
              "  <div id=\"df-bb82fc78-f4ec-4b6f-ae95-8c56c15bd171\">\n",
              "    <div class=\"colab-df-container\">\n",
              "      <div>\n",
              "<style scoped>\n",
              "    .dataframe tbody tr th:only-of-type {\n",
              "        vertical-align: middle;\n",
              "    }\n",
              "\n",
              "    .dataframe tbody tr th {\n",
              "        vertical-align: top;\n",
              "    }\n",
              "\n",
              "    .dataframe thead th {\n",
              "        text-align: right;\n",
              "    }\n",
              "</style>\n",
              "<table border=\"1\" class=\"dataframe\">\n",
              "  <thead>\n",
              "    <tr style=\"text-align: right;\">\n",
              "      <th></th>\n",
              "      <th>Unnamed: 0</th>\n",
              "      <th>meanfreq</th>\n",
              "      <th>sd</th>\n",
              "      <th>median</th>\n",
              "      <th>Q25</th>\n",
              "      <th>Q75</th>\n",
              "      <th>IQR</th>\n",
              "      <th>skew</th>\n",
              "      <th>kurt</th>\n",
              "      <th>sp.ent</th>\n",
              "      <th>...</th>\n",
              "      <th>centroid</th>\n",
              "      <th>meanfun</th>\n",
              "      <th>minfun</th>\n",
              "      <th>maxfun</th>\n",
              "      <th>meandom</th>\n",
              "      <th>mindom</th>\n",
              "      <th>maxdom</th>\n",
              "      <th>dfrange</th>\n",
              "      <th>modindx</th>\n",
              "      <th>label</th>\n",
              "    </tr>\n",
              "  </thead>\n",
              "  <tbody>\n",
              "    <tr>\n",
              "      <th>0</th>\n",
              "      <td>66</td>\n",
              "      <td>0.133338</td>\n",
              "      <td>0.069304</td>\n",
              "      <td>0.107668</td>\n",
              "      <td>0.089192</td>\n",
              "      <td>0.195267</td>\n",
              "      <td>0.106075</td>\n",
              "      <td>3.043456</td>\n",
              "      <td>13.694173</td>\n",
              "      <td>0.929512</td>\n",
              "      <td>...</td>\n",
              "      <td>0.133338</td>\n",
              "      <td>0.121968</td>\n",
              "      <td>0.047337</td>\n",
              "      <td>0.277457</td>\n",
              "      <td>0.822656</td>\n",
              "      <td>0.0000</td>\n",
              "      <td>4.687500</td>\n",
              "      <td>4.687500</td>\n",
              "      <td>0.076296</td>\n",
              "      <td>1</td>\n",
              "    </tr>\n",
              "    <tr>\n",
              "      <th>1</th>\n",
              "      <td>84</td>\n",
              "      <td>0.137433</td>\n",
              "      <td>0.058518</td>\n",
              "      <td>0.112037</td>\n",
              "      <td>0.092841</td>\n",
              "      <td>0.200079</td>\n",
              "      <td>0.107238</td>\n",
              "      <td>2.807995</td>\n",
              "      <td>12.776650</td>\n",
              "      <td>0.911080</td>\n",
              "      <td>...</td>\n",
              "      <td>0.137433</td>\n",
              "      <td>0.111204</td>\n",
              "      <td>0.047151</td>\n",
              "      <td>0.277457</td>\n",
              "      <td>1.313384</td>\n",
              "      <td>0.0000</td>\n",
              "      <td>6.046875</td>\n",
              "      <td>6.046875</td>\n",
              "      <td>0.135811</td>\n",
              "      <td>1</td>\n",
              "    </tr>\n",
              "    <tr>\n",
              "      <th>2</th>\n",
              "      <td>85</td>\n",
              "      <td>0.142227</td>\n",
              "      <td>0.065447</td>\n",
              "      <td>0.112242</td>\n",
              "      <td>0.093455</td>\n",
              "      <td>0.202909</td>\n",
              "      <td>0.109455</td>\n",
              "      <td>2.380899</td>\n",
              "      <td>9.942833</td>\n",
              "      <td>0.936040</td>\n",
              "      <td>...</td>\n",
              "      <td>0.142227</td>\n",
              "      <td>0.118711</td>\n",
              "      <td>0.047013</td>\n",
              "      <td>0.275862</td>\n",
              "      <td>0.593750</td>\n",
              "      <td>0.0000</td>\n",
              "      <td>6.539062</td>\n",
              "      <td>6.539062</td>\n",
              "      <td>0.096102</td>\n",
              "      <td>1</td>\n",
              "    </tr>\n",
              "    <tr>\n",
              "      <th>3</th>\n",
              "      <td>87</td>\n",
              "      <td>0.133325</td>\n",
              "      <td>0.072849</td>\n",
              "      <td>0.113360</td>\n",
              "      <td>0.082861</td>\n",
              "      <td>0.203753</td>\n",
              "      <td>0.120892</td>\n",
              "      <td>1.904123</td>\n",
              "      <td>7.799218</td>\n",
              "      <td>0.958362</td>\n",
              "      <td>...</td>\n",
              "      <td>0.133325</td>\n",
              "      <td>0.116200</td>\n",
              "      <td>0.047105</td>\n",
              "      <td>0.279070</td>\n",
              "      <td>0.424922</td>\n",
              "      <td>0.0000</td>\n",
              "      <td>5.812500</td>\n",
              "      <td>5.812500</td>\n",
              "      <td>0.081880</td>\n",
              "      <td>1</td>\n",
              "    </tr>\n",
              "    <tr>\n",
              "      <th>4</th>\n",
              "      <td>88</td>\n",
              "      <td>0.130487</td>\n",
              "      <td>0.070407</td>\n",
              "      <td>0.113418</td>\n",
              "      <td>0.076098</td>\n",
              "      <td>0.196188</td>\n",
              "      <td>0.120089</td>\n",
              "      <td>1.820873</td>\n",
              "      <td>8.561101</td>\n",
              "      <td>0.969568</td>\n",
              "      <td>...</td>\n",
              "      <td>0.130487</td>\n",
              "      <td>0.114802</td>\n",
              "      <td>0.047151</td>\n",
              "      <td>0.279070</td>\n",
              "      <td>0.198070</td>\n",
              "      <td>0.0000</td>\n",
              "      <td>1.078125</td>\n",
              "      <td>1.078125</td>\n",
              "      <td>0.131579</td>\n",
              "      <td>1</td>\n",
              "    </tr>\n",
              "    <tr>\n",
              "      <th>...</th>\n",
              "      <td>...</td>\n",
              "      <td>...</td>\n",
              "      <td>...</td>\n",
              "      <td>...</td>\n",
              "      <td>...</td>\n",
              "      <td>...</td>\n",
              "      <td>...</td>\n",
              "      <td>...</td>\n",
              "      <td>...</td>\n",
              "      <td>...</td>\n",
              "      <td>...</td>\n",
              "      <td>...</td>\n",
              "      <td>...</td>\n",
              "      <td>...</td>\n",
              "      <td>...</td>\n",
              "      <td>...</td>\n",
              "      <td>...</td>\n",
              "      <td>...</td>\n",
              "      <td>...</td>\n",
              "      <td>...</td>\n",
              "      <td>...</td>\n",
              "    </tr>\n",
              "    <tr>\n",
              "      <th>4356</th>\n",
              "      <td>6220</td>\n",
              "      <td>0.241377</td>\n",
              "      <td>0.039956</td>\n",
              "      <td>0.252299</td>\n",
              "      <td>0.225070</td>\n",
              "      <td>0.269297</td>\n",
              "      <td>0.044227</td>\n",
              "      <td>2.730197</td>\n",
              "      <td>11.467950</td>\n",
              "      <td>0.847220</td>\n",
              "      <td>...</td>\n",
              "      <td>0.241377</td>\n",
              "      <td>0.176361</td>\n",
              "      <td>0.047666</td>\n",
              "      <td>0.279070</td>\n",
              "      <td>1.224946</td>\n",
              "      <td>0.0000</td>\n",
              "      <td>6.140625</td>\n",
              "      <td>6.140625</td>\n",
              "      <td>0.093181</td>\n",
              "      <td>0</td>\n",
              "    </tr>\n",
              "    <tr>\n",
              "      <th>4357</th>\n",
              "      <td>6222</td>\n",
              "      <td>0.235059</td>\n",
              "      <td>0.053056</td>\n",
              "      <td>0.252532</td>\n",
              "      <td>0.231392</td>\n",
              "      <td>0.264468</td>\n",
              "      <td>0.033077</td>\n",
              "      <td>2.869390</td>\n",
              "      <td>12.009156</td>\n",
              "      <td>0.859784</td>\n",
              "      <td>...</td>\n",
              "      <td>0.235059</td>\n",
              "      <td>0.120552</td>\n",
              "      <td>0.047572</td>\n",
              "      <td>0.274286</td>\n",
              "      <td>1.103427</td>\n",
              "      <td>0.0000</td>\n",
              "      <td>10.382812</td>\n",
              "      <td>10.382812</td>\n",
              "      <td>0.056716</td>\n",
              "      <td>1</td>\n",
              "    </tr>\n",
              "    <tr>\n",
              "      <th>4358</th>\n",
              "      <td>6224</td>\n",
              "      <td>0.230992</td>\n",
              "      <td>0.053711</td>\n",
              "      <td>0.252760</td>\n",
              "      <td>0.223666</td>\n",
              "      <td>0.265731</td>\n",
              "      <td>0.042065</td>\n",
              "      <td>3.277391</td>\n",
              "      <td>15.202833</td>\n",
              "      <td>0.861995</td>\n",
              "      <td>...</td>\n",
              "      <td>0.230992</td>\n",
              "      <td>0.162745</td>\n",
              "      <td>0.047059</td>\n",
              "      <td>0.277457</td>\n",
              "      <td>1.297944</td>\n",
              "      <td>0.1875</td>\n",
              "      <td>11.812500</td>\n",
              "      <td>11.625000</td>\n",
              "      <td>0.081470</td>\n",
              "      <td>0</td>\n",
              "    </tr>\n",
              "    <tr>\n",
              "      <th>4359</th>\n",
              "      <td>6230</td>\n",
              "      <td>0.240334</td>\n",
              "      <td>0.044747</td>\n",
              "      <td>0.253897</td>\n",
              "      <td>0.233837</td>\n",
              "      <td>0.265619</td>\n",
              "      <td>0.031782</td>\n",
              "      <td>2.826720</td>\n",
              "      <td>11.350446</td>\n",
              "      <td>0.850527</td>\n",
              "      <td>...</td>\n",
              "      <td>0.240334</td>\n",
              "      <td>0.134127</td>\n",
              "      <td>0.046967</td>\n",
              "      <td>0.271186</td>\n",
              "      <td>0.528390</td>\n",
              "      <td>0.0000</td>\n",
              "      <td>3.187500</td>\n",
              "      <td>3.187500</td>\n",
              "      <td>0.065266</td>\n",
              "      <td>1</td>\n",
              "    </tr>\n",
              "    <tr>\n",
              "      <th>4360</th>\n",
              "      <td>6235</td>\n",
              "      <td>0.227517</td>\n",
              "      <td>0.059336</td>\n",
              "      <td>0.257051</td>\n",
              "      <td>0.198797</td>\n",
              "      <td>0.267371</td>\n",
              "      <td>0.068574</td>\n",
              "      <td>3.287888</td>\n",
              "      <td>14.553146</td>\n",
              "      <td>0.858797</td>\n",
              "      <td>...</td>\n",
              "      <td>0.227517</td>\n",
              "      <td>0.121157</td>\n",
              "      <td>0.047105</td>\n",
              "      <td>0.279070</td>\n",
              "      <td>0.974657</td>\n",
              "      <td>0.0000</td>\n",
              "      <td>10.078125</td>\n",
              "      <td>10.078125</td>\n",
              "      <td>0.064763</td>\n",
              "      <td>1</td>\n",
              "    </tr>\n",
              "  </tbody>\n",
              "</table>\n",
              "<p>4361 rows × 22 columns</p>\n",
              "</div>\n",
              "      <button class=\"colab-df-convert\" onclick=\"convertToInteractive('df-bb82fc78-f4ec-4b6f-ae95-8c56c15bd171')\"\n",
              "              title=\"Convert this dataframe to an interactive table.\"\n",
              "              style=\"display:none;\">\n",
              "        \n",
              "  <svg xmlns=\"http://www.w3.org/2000/svg\" height=\"24px\"viewBox=\"0 0 24 24\"\n",
              "       width=\"24px\">\n",
              "    <path d=\"M0 0h24v24H0V0z\" fill=\"none\"/>\n",
              "    <path d=\"M18.56 5.44l.94 2.06.94-2.06 2.06-.94-2.06-.94-.94-2.06-.94 2.06-2.06.94zm-11 1L8.5 8.5l.94-2.06 2.06-.94-2.06-.94L8.5 2.5l-.94 2.06-2.06.94zm10 10l.94 2.06.94-2.06 2.06-.94-2.06-.94-.94-2.06-.94 2.06-2.06.94z\"/><path d=\"M17.41 7.96l-1.37-1.37c-.4-.4-.92-.59-1.43-.59-.52 0-1.04.2-1.43.59L10.3 9.45l-7.72 7.72c-.78.78-.78 2.05 0 2.83L4 21.41c.39.39.9.59 1.41.59.51 0 1.02-.2 1.41-.59l7.78-7.78 2.81-2.81c.8-.78.8-2.07 0-2.86zM5.41 20L4 18.59l7.72-7.72 1.47 1.35L5.41 20z\"/>\n",
              "  </svg>\n",
              "      </button>\n",
              "      \n",
              "  <style>\n",
              "    .colab-df-container {\n",
              "      display:flex;\n",
              "      flex-wrap:wrap;\n",
              "      gap: 12px;\n",
              "    }\n",
              "\n",
              "    .colab-df-convert {\n",
              "      background-color: #E8F0FE;\n",
              "      border: none;\n",
              "      border-radius: 50%;\n",
              "      cursor: pointer;\n",
              "      display: none;\n",
              "      fill: #1967D2;\n",
              "      height: 32px;\n",
              "      padding: 0 0 0 0;\n",
              "      width: 32px;\n",
              "    }\n",
              "\n",
              "    .colab-df-convert:hover {\n",
              "      background-color: #E2EBFA;\n",
              "      box-shadow: 0px 1px 2px rgba(60, 64, 67, 0.3), 0px 1px 3px 1px rgba(60, 64, 67, 0.15);\n",
              "      fill: #174EA6;\n",
              "    }\n",
              "\n",
              "    [theme=dark] .colab-df-convert {\n",
              "      background-color: #3B4455;\n",
              "      fill: #D2E3FC;\n",
              "    }\n",
              "\n",
              "    [theme=dark] .colab-df-convert:hover {\n",
              "      background-color: #434B5C;\n",
              "      box-shadow: 0px 1px 3px 1px rgba(0, 0, 0, 0.15);\n",
              "      filter: drop-shadow(0px 1px 2px rgba(0, 0, 0, 0.3));\n",
              "      fill: #FFFFFF;\n",
              "    }\n",
              "  </style>\n",
              "\n",
              "      <script>\n",
              "        const buttonEl =\n",
              "          document.querySelector('#df-bb82fc78-f4ec-4b6f-ae95-8c56c15bd171 button.colab-df-convert');\n",
              "        buttonEl.style.display =\n",
              "          google.colab.kernel.accessAllowed ? 'block' : 'none';\n",
              "\n",
              "        async function convertToInteractive(key) {\n",
              "          const element = document.querySelector('#df-bb82fc78-f4ec-4b6f-ae95-8c56c15bd171');\n",
              "          const dataTable =\n",
              "            await google.colab.kernel.invokeFunction('convertToInteractive',\n",
              "                                                     [key], {});\n",
              "          if (!dataTable) return;\n",
              "\n",
              "          const docLinkHtml = 'Like what you see? Visit the ' +\n",
              "            '<a target=\"_blank\" href=https://colab.research.google.com/notebooks/data_table.ipynb>data table notebook</a>'\n",
              "            + ' to learn more about interactive tables.';\n",
              "          element.innerHTML = '';\n",
              "          dataTable['output_type'] = 'display_data';\n",
              "          await google.colab.output.renderOutput(dataTable, element);\n",
              "          const docLink = document.createElement('div');\n",
              "          docLink.innerHTML = docLinkHtml;\n",
              "          element.appendChild(docLink);\n",
              "        }\n",
              "      </script>\n",
              "    </div>\n",
              "  </div>\n",
              "  "
            ]
          },
          "metadata": {},
          "execution_count": 11
        }
      ],
      "source": [
        "data.label = le.fit_transform(data.label)\n",
        "data"
      ]
    },
    {
      "cell_type": "code",
      "execution_count": null,
      "metadata": {
        "colab": {
          "base_uri": "https://localhost:8080/",
          "height": 505
        },
        "id": "RwX6tRgERyB8",
        "outputId": "2c53b28e-f722-4954-fdd6-edb55bdc12c6"
      },
      "outputs": [
        {
          "output_type": "execute_result",
          "data": {
            "text/plain": [
              "      Unnamed: 0  meanfreq        sd    median       Q25       Q75       IQR  \\\n",
              "0             66  0.133338  0.069304  0.107668  0.089192  0.195267  0.106075   \n",
              "1             84  0.137433  0.058518  0.112037  0.092841  0.200079  0.107238   \n",
              "2             85  0.142227  0.065447  0.112242  0.093455  0.202909  0.109455   \n",
              "3             87  0.133325  0.072849  0.113360  0.082861  0.203753  0.120892   \n",
              "4             88  0.130487  0.070407  0.113418  0.076098  0.196188  0.120089   \n",
              "...          ...       ...       ...       ...       ...       ...       ...   \n",
              "4356        6220  0.241377  0.039956  0.252299  0.225070  0.269297  0.044227   \n",
              "4357        6222  0.235059  0.053056  0.252532  0.231392  0.264468  0.033077   \n",
              "4358        6224  0.230992  0.053711  0.252760  0.223666  0.265731  0.042065   \n",
              "4359        6230  0.240334  0.044747  0.253897  0.233837  0.265619  0.031782   \n",
              "4360        6235  0.227517  0.059336  0.257051  0.198797  0.267371  0.068574   \n",
              "\n",
              "          skew       kurt    sp.ent  ...      mode  centroid   meanfun  \\\n",
              "0     3.043456  13.694173  0.929512  ...  0.086962  0.133338  0.121968   \n",
              "1     2.807995  12.776650  0.911080  ...  0.101332  0.137433  0.111204   \n",
              "2     2.380899   9.942833  0.936040  ...  0.106545  0.142227  0.118711   \n",
              "3     1.904123   7.799218  0.958362  ...  0.108583  0.133325  0.116200   \n",
              "4     1.820873   8.561101  0.969568  ...  0.101534  0.130487  0.114802   \n",
              "...        ...        ...       ...  ...       ...       ...       ...   \n",
              "4356  2.730197  11.467950  0.847220  ...  0.270242  0.241377  0.176361   \n",
              "4357  2.869390  12.009156  0.859784  ...  0.254402  0.235059  0.120552   \n",
              "4358  3.277391  15.202833  0.861995  ...  0.267214  0.230992  0.162745   \n",
              "4359  2.826720  11.350446  0.850527  ...  0.264169  0.240334  0.134127   \n",
              "4360  3.287888  14.553146  0.858797  ...  0.270495  0.227517  0.121157   \n",
              "\n",
              "        minfun    maxfun   meandom  mindom     maxdom    dfrange   modindx  \n",
              "0     0.047337  0.277457  0.822656  0.0000   4.687500   4.687500  0.076296  \n",
              "1     0.047151  0.277457  1.313384  0.0000   6.046875   6.046875  0.135811  \n",
              "2     0.047013  0.275862  0.593750  0.0000   6.539062   6.539062  0.096102  \n",
              "3     0.047105  0.279070  0.424922  0.0000   5.812500   5.812500  0.081880  \n",
              "4     0.047151  0.279070  0.198070  0.0000   1.078125   1.078125  0.131579  \n",
              "...        ...       ...       ...     ...        ...        ...       ...  \n",
              "4356  0.047666  0.279070  1.224946  0.0000   6.140625   6.140625  0.093181  \n",
              "4357  0.047572  0.274286  1.103427  0.0000  10.382812  10.382812  0.056716  \n",
              "4358  0.047059  0.277457  1.297944  0.1875  11.812500  11.625000  0.081470  \n",
              "4359  0.046967  0.271186  0.528390  0.0000   3.187500   3.187500  0.065266  \n",
              "4360  0.047105  0.279070  0.974657  0.0000  10.078125  10.078125  0.064763  \n",
              "\n",
              "[4361 rows x 21 columns]"
            ],
            "text/html": [
              "\n",
              "  <div id=\"df-8fb8fc9b-a33d-4bde-9528-13e3df52d651\">\n",
              "    <div class=\"colab-df-container\">\n",
              "      <div>\n",
              "<style scoped>\n",
              "    .dataframe tbody tr th:only-of-type {\n",
              "        vertical-align: middle;\n",
              "    }\n",
              "\n",
              "    .dataframe tbody tr th {\n",
              "        vertical-align: top;\n",
              "    }\n",
              "\n",
              "    .dataframe thead th {\n",
              "        text-align: right;\n",
              "    }\n",
              "</style>\n",
              "<table border=\"1\" class=\"dataframe\">\n",
              "  <thead>\n",
              "    <tr style=\"text-align: right;\">\n",
              "      <th></th>\n",
              "      <th>Unnamed: 0</th>\n",
              "      <th>meanfreq</th>\n",
              "      <th>sd</th>\n",
              "      <th>median</th>\n",
              "      <th>Q25</th>\n",
              "      <th>Q75</th>\n",
              "      <th>IQR</th>\n",
              "      <th>skew</th>\n",
              "      <th>kurt</th>\n",
              "      <th>sp.ent</th>\n",
              "      <th>...</th>\n",
              "      <th>mode</th>\n",
              "      <th>centroid</th>\n",
              "      <th>meanfun</th>\n",
              "      <th>minfun</th>\n",
              "      <th>maxfun</th>\n",
              "      <th>meandom</th>\n",
              "      <th>mindom</th>\n",
              "      <th>maxdom</th>\n",
              "      <th>dfrange</th>\n",
              "      <th>modindx</th>\n",
              "    </tr>\n",
              "  </thead>\n",
              "  <tbody>\n",
              "    <tr>\n",
              "      <th>0</th>\n",
              "      <td>66</td>\n",
              "      <td>0.133338</td>\n",
              "      <td>0.069304</td>\n",
              "      <td>0.107668</td>\n",
              "      <td>0.089192</td>\n",
              "      <td>0.195267</td>\n",
              "      <td>0.106075</td>\n",
              "      <td>3.043456</td>\n",
              "      <td>13.694173</td>\n",
              "      <td>0.929512</td>\n",
              "      <td>...</td>\n",
              "      <td>0.086962</td>\n",
              "      <td>0.133338</td>\n",
              "      <td>0.121968</td>\n",
              "      <td>0.047337</td>\n",
              "      <td>0.277457</td>\n",
              "      <td>0.822656</td>\n",
              "      <td>0.0000</td>\n",
              "      <td>4.687500</td>\n",
              "      <td>4.687500</td>\n",
              "      <td>0.076296</td>\n",
              "    </tr>\n",
              "    <tr>\n",
              "      <th>1</th>\n",
              "      <td>84</td>\n",
              "      <td>0.137433</td>\n",
              "      <td>0.058518</td>\n",
              "      <td>0.112037</td>\n",
              "      <td>0.092841</td>\n",
              "      <td>0.200079</td>\n",
              "      <td>0.107238</td>\n",
              "      <td>2.807995</td>\n",
              "      <td>12.776650</td>\n",
              "      <td>0.911080</td>\n",
              "      <td>...</td>\n",
              "      <td>0.101332</td>\n",
              "      <td>0.137433</td>\n",
              "      <td>0.111204</td>\n",
              "      <td>0.047151</td>\n",
              "      <td>0.277457</td>\n",
              "      <td>1.313384</td>\n",
              "      <td>0.0000</td>\n",
              "      <td>6.046875</td>\n",
              "      <td>6.046875</td>\n",
              "      <td>0.135811</td>\n",
              "    </tr>\n",
              "    <tr>\n",
              "      <th>2</th>\n",
              "      <td>85</td>\n",
              "      <td>0.142227</td>\n",
              "      <td>0.065447</td>\n",
              "      <td>0.112242</td>\n",
              "      <td>0.093455</td>\n",
              "      <td>0.202909</td>\n",
              "      <td>0.109455</td>\n",
              "      <td>2.380899</td>\n",
              "      <td>9.942833</td>\n",
              "      <td>0.936040</td>\n",
              "      <td>...</td>\n",
              "      <td>0.106545</td>\n",
              "      <td>0.142227</td>\n",
              "      <td>0.118711</td>\n",
              "      <td>0.047013</td>\n",
              "      <td>0.275862</td>\n",
              "      <td>0.593750</td>\n",
              "      <td>0.0000</td>\n",
              "      <td>6.539062</td>\n",
              "      <td>6.539062</td>\n",
              "      <td>0.096102</td>\n",
              "    </tr>\n",
              "    <tr>\n",
              "      <th>3</th>\n",
              "      <td>87</td>\n",
              "      <td>0.133325</td>\n",
              "      <td>0.072849</td>\n",
              "      <td>0.113360</td>\n",
              "      <td>0.082861</td>\n",
              "      <td>0.203753</td>\n",
              "      <td>0.120892</td>\n",
              "      <td>1.904123</td>\n",
              "      <td>7.799218</td>\n",
              "      <td>0.958362</td>\n",
              "      <td>...</td>\n",
              "      <td>0.108583</td>\n",
              "      <td>0.133325</td>\n",
              "      <td>0.116200</td>\n",
              "      <td>0.047105</td>\n",
              "      <td>0.279070</td>\n",
              "      <td>0.424922</td>\n",
              "      <td>0.0000</td>\n",
              "      <td>5.812500</td>\n",
              "      <td>5.812500</td>\n",
              "      <td>0.081880</td>\n",
              "    </tr>\n",
              "    <tr>\n",
              "      <th>4</th>\n",
              "      <td>88</td>\n",
              "      <td>0.130487</td>\n",
              "      <td>0.070407</td>\n",
              "      <td>0.113418</td>\n",
              "      <td>0.076098</td>\n",
              "      <td>0.196188</td>\n",
              "      <td>0.120089</td>\n",
              "      <td>1.820873</td>\n",
              "      <td>8.561101</td>\n",
              "      <td>0.969568</td>\n",
              "      <td>...</td>\n",
              "      <td>0.101534</td>\n",
              "      <td>0.130487</td>\n",
              "      <td>0.114802</td>\n",
              "      <td>0.047151</td>\n",
              "      <td>0.279070</td>\n",
              "      <td>0.198070</td>\n",
              "      <td>0.0000</td>\n",
              "      <td>1.078125</td>\n",
              "      <td>1.078125</td>\n",
              "      <td>0.131579</td>\n",
              "    </tr>\n",
              "    <tr>\n",
              "      <th>...</th>\n",
              "      <td>...</td>\n",
              "      <td>...</td>\n",
              "      <td>...</td>\n",
              "      <td>...</td>\n",
              "      <td>...</td>\n",
              "      <td>...</td>\n",
              "      <td>...</td>\n",
              "      <td>...</td>\n",
              "      <td>...</td>\n",
              "      <td>...</td>\n",
              "      <td>...</td>\n",
              "      <td>...</td>\n",
              "      <td>...</td>\n",
              "      <td>...</td>\n",
              "      <td>...</td>\n",
              "      <td>...</td>\n",
              "      <td>...</td>\n",
              "      <td>...</td>\n",
              "      <td>...</td>\n",
              "      <td>...</td>\n",
              "      <td>...</td>\n",
              "    </tr>\n",
              "    <tr>\n",
              "      <th>4356</th>\n",
              "      <td>6220</td>\n",
              "      <td>0.241377</td>\n",
              "      <td>0.039956</td>\n",
              "      <td>0.252299</td>\n",
              "      <td>0.225070</td>\n",
              "      <td>0.269297</td>\n",
              "      <td>0.044227</td>\n",
              "      <td>2.730197</td>\n",
              "      <td>11.467950</td>\n",
              "      <td>0.847220</td>\n",
              "      <td>...</td>\n",
              "      <td>0.270242</td>\n",
              "      <td>0.241377</td>\n",
              "      <td>0.176361</td>\n",
              "      <td>0.047666</td>\n",
              "      <td>0.279070</td>\n",
              "      <td>1.224946</td>\n",
              "      <td>0.0000</td>\n",
              "      <td>6.140625</td>\n",
              "      <td>6.140625</td>\n",
              "      <td>0.093181</td>\n",
              "    </tr>\n",
              "    <tr>\n",
              "      <th>4357</th>\n",
              "      <td>6222</td>\n",
              "      <td>0.235059</td>\n",
              "      <td>0.053056</td>\n",
              "      <td>0.252532</td>\n",
              "      <td>0.231392</td>\n",
              "      <td>0.264468</td>\n",
              "      <td>0.033077</td>\n",
              "      <td>2.869390</td>\n",
              "      <td>12.009156</td>\n",
              "      <td>0.859784</td>\n",
              "      <td>...</td>\n",
              "      <td>0.254402</td>\n",
              "      <td>0.235059</td>\n",
              "      <td>0.120552</td>\n",
              "      <td>0.047572</td>\n",
              "      <td>0.274286</td>\n",
              "      <td>1.103427</td>\n",
              "      <td>0.0000</td>\n",
              "      <td>10.382812</td>\n",
              "      <td>10.382812</td>\n",
              "      <td>0.056716</td>\n",
              "    </tr>\n",
              "    <tr>\n",
              "      <th>4358</th>\n",
              "      <td>6224</td>\n",
              "      <td>0.230992</td>\n",
              "      <td>0.053711</td>\n",
              "      <td>0.252760</td>\n",
              "      <td>0.223666</td>\n",
              "      <td>0.265731</td>\n",
              "      <td>0.042065</td>\n",
              "      <td>3.277391</td>\n",
              "      <td>15.202833</td>\n",
              "      <td>0.861995</td>\n",
              "      <td>...</td>\n",
              "      <td>0.267214</td>\n",
              "      <td>0.230992</td>\n",
              "      <td>0.162745</td>\n",
              "      <td>0.047059</td>\n",
              "      <td>0.277457</td>\n",
              "      <td>1.297944</td>\n",
              "      <td>0.1875</td>\n",
              "      <td>11.812500</td>\n",
              "      <td>11.625000</td>\n",
              "      <td>0.081470</td>\n",
              "    </tr>\n",
              "    <tr>\n",
              "      <th>4359</th>\n",
              "      <td>6230</td>\n",
              "      <td>0.240334</td>\n",
              "      <td>0.044747</td>\n",
              "      <td>0.253897</td>\n",
              "      <td>0.233837</td>\n",
              "      <td>0.265619</td>\n",
              "      <td>0.031782</td>\n",
              "      <td>2.826720</td>\n",
              "      <td>11.350446</td>\n",
              "      <td>0.850527</td>\n",
              "      <td>...</td>\n",
              "      <td>0.264169</td>\n",
              "      <td>0.240334</td>\n",
              "      <td>0.134127</td>\n",
              "      <td>0.046967</td>\n",
              "      <td>0.271186</td>\n",
              "      <td>0.528390</td>\n",
              "      <td>0.0000</td>\n",
              "      <td>3.187500</td>\n",
              "      <td>3.187500</td>\n",
              "      <td>0.065266</td>\n",
              "    </tr>\n",
              "    <tr>\n",
              "      <th>4360</th>\n",
              "      <td>6235</td>\n",
              "      <td>0.227517</td>\n",
              "      <td>0.059336</td>\n",
              "      <td>0.257051</td>\n",
              "      <td>0.198797</td>\n",
              "      <td>0.267371</td>\n",
              "      <td>0.068574</td>\n",
              "      <td>3.287888</td>\n",
              "      <td>14.553146</td>\n",
              "      <td>0.858797</td>\n",
              "      <td>...</td>\n",
              "      <td>0.270495</td>\n",
              "      <td>0.227517</td>\n",
              "      <td>0.121157</td>\n",
              "      <td>0.047105</td>\n",
              "      <td>0.279070</td>\n",
              "      <td>0.974657</td>\n",
              "      <td>0.0000</td>\n",
              "      <td>10.078125</td>\n",
              "      <td>10.078125</td>\n",
              "      <td>0.064763</td>\n",
              "    </tr>\n",
              "  </tbody>\n",
              "</table>\n",
              "<p>4361 rows × 21 columns</p>\n",
              "</div>\n",
              "      <button class=\"colab-df-convert\" onclick=\"convertToInteractive('df-8fb8fc9b-a33d-4bde-9528-13e3df52d651')\"\n",
              "              title=\"Convert this dataframe to an interactive table.\"\n",
              "              style=\"display:none;\">\n",
              "        \n",
              "  <svg xmlns=\"http://www.w3.org/2000/svg\" height=\"24px\"viewBox=\"0 0 24 24\"\n",
              "       width=\"24px\">\n",
              "    <path d=\"M0 0h24v24H0V0z\" fill=\"none\"/>\n",
              "    <path d=\"M18.56 5.44l.94 2.06.94-2.06 2.06-.94-2.06-.94-.94-2.06-.94 2.06-2.06.94zm-11 1L8.5 8.5l.94-2.06 2.06-.94-2.06-.94L8.5 2.5l-.94 2.06-2.06.94zm10 10l.94 2.06.94-2.06 2.06-.94-2.06-.94-.94-2.06-.94 2.06-2.06.94z\"/><path d=\"M17.41 7.96l-1.37-1.37c-.4-.4-.92-.59-1.43-.59-.52 0-1.04.2-1.43.59L10.3 9.45l-7.72 7.72c-.78.78-.78 2.05 0 2.83L4 21.41c.39.39.9.59 1.41.59.51 0 1.02-.2 1.41-.59l7.78-7.78 2.81-2.81c.8-.78.8-2.07 0-2.86zM5.41 20L4 18.59l7.72-7.72 1.47 1.35L5.41 20z\"/>\n",
              "  </svg>\n",
              "      </button>\n",
              "      \n",
              "  <style>\n",
              "    .colab-df-container {\n",
              "      display:flex;\n",
              "      flex-wrap:wrap;\n",
              "      gap: 12px;\n",
              "    }\n",
              "\n",
              "    .colab-df-convert {\n",
              "      background-color: #E8F0FE;\n",
              "      border: none;\n",
              "      border-radius: 50%;\n",
              "      cursor: pointer;\n",
              "      display: none;\n",
              "      fill: #1967D2;\n",
              "      height: 32px;\n",
              "      padding: 0 0 0 0;\n",
              "      width: 32px;\n",
              "    }\n",
              "\n",
              "    .colab-df-convert:hover {\n",
              "      background-color: #E2EBFA;\n",
              "      box-shadow: 0px 1px 2px rgba(60, 64, 67, 0.3), 0px 1px 3px 1px rgba(60, 64, 67, 0.15);\n",
              "      fill: #174EA6;\n",
              "    }\n",
              "\n",
              "    [theme=dark] .colab-df-convert {\n",
              "      background-color: #3B4455;\n",
              "      fill: #D2E3FC;\n",
              "    }\n",
              "\n",
              "    [theme=dark] .colab-df-convert:hover {\n",
              "      background-color: #434B5C;\n",
              "      box-shadow: 0px 1px 3px 1px rgba(0, 0, 0, 0.15);\n",
              "      filter: drop-shadow(0px 1px 2px rgba(0, 0, 0, 0.3));\n",
              "      fill: #FFFFFF;\n",
              "    }\n",
              "  </style>\n",
              "\n",
              "      <script>\n",
              "        const buttonEl =\n",
              "          document.querySelector('#df-8fb8fc9b-a33d-4bde-9528-13e3df52d651 button.colab-df-convert');\n",
              "        buttonEl.style.display =\n",
              "          google.colab.kernel.accessAllowed ? 'block' : 'none';\n",
              "\n",
              "        async function convertToInteractive(key) {\n",
              "          const element = document.querySelector('#df-8fb8fc9b-a33d-4bde-9528-13e3df52d651');\n",
              "          const dataTable =\n",
              "            await google.colab.kernel.invokeFunction('convertToInteractive',\n",
              "                                                     [key], {});\n",
              "          if (!dataTable) return;\n",
              "\n",
              "          const docLinkHtml = 'Like what you see? Visit the ' +\n",
              "            '<a target=\"_blank\" href=https://colab.research.google.com/notebooks/data_table.ipynb>data table notebook</a>'\n",
              "            + ' to learn more about interactive tables.';\n",
              "          element.innerHTML = '';\n",
              "          dataTable['output_type'] = 'display_data';\n",
              "          await google.colab.output.renderOutput(dataTable, element);\n",
              "          const docLink = document.createElement('div');\n",
              "          docLink.innerHTML = docLinkHtml;\n",
              "          element.appendChild(docLink);\n",
              "        }\n",
              "      </script>\n",
              "    </div>\n",
              "  </div>\n",
              "  "
            ]
          },
          "metadata": {},
          "execution_count": 12
        }
      ],
      "source": [
        "X = data.drop(\"label\", axis=\"columns\")\n",
        "X"
      ]
    },
    {
      "cell_type": "code",
      "execution_count": null,
      "metadata": {
        "colab": {
          "base_uri": "https://localhost:8080/"
        },
        "id": "ynbk46zbR5Q3",
        "outputId": "02feaf46-a628-4175-aadd-f2b7be5b84e5"
      },
      "outputs": [
        {
          "output_type": "execute_result",
          "data": {
            "text/plain": [
              "0       1\n",
              "1       1\n",
              "2       1\n",
              "3       1\n",
              "4       1\n",
              "       ..\n",
              "4356    0\n",
              "4357    1\n",
              "4358    0\n",
              "4359    1\n",
              "4360    1\n",
              "Name: label, Length: 4361, dtype: int64"
            ]
          },
          "metadata": {},
          "execution_count": 13
        }
      ],
      "source": [
        "y = data.label\n",
        "y"
      ]
    },
    {
      "cell_type": "code",
      "execution_count": null,
      "metadata": {
        "colab": {
          "base_uri": "https://localhost:8080/"
        },
        "id": "StJ-bxUGlL0t",
        "outputId": "a09ee87c-ff6d-4fdb-967a-f3b342c5128a"
      },
      "outputs": [
        {
          "output_type": "stream",
          "name": "stdout",
          "text": [
            "         Specs          Score\n",
            "0   Unnamed: 0  431599.880071\n",
            "8         kurt      76.700562\n",
            "18      maxdom      54.211319\n",
            "19     dfrange      53.456084\n",
            "7         skew      29.335474\n",
            "10         sfm      27.687687\n",
            "6          IQR      16.084452\n",
            "16     meandom      11.978770\n",
            "4          Q25      10.822255\n",
            "13     meanfun       5.585488\n",
            "11        mode       2.652701\n",
            "2           sd       2.165869\n",
            "3       median       1.771413\n",
            "1     meanfreq       1.767607\n",
            "12    centroid       1.767607\n",
            "17      mindom       1.565235\n"
          ]
        }
      ],
      "source": [
        "#Feature Selection\n",
        "from sklearn.feature_selection import chi2\n",
        "from sklearn.feature_selection import SelectKBest\n",
        "\n",
        "\n",
        "bestfeatures = SelectKBest(score_func=chi2, k=10)\n",
        "fit = bestfeatures.fit(X,y)\n",
        "dfscores = pd.DataFrame(fit.scores_) #ChiSquare value of each feature with respect to y\n",
        "#Higher the chisquare value, more is its contribution/ more valuable is the feature for predicting y\n",
        "dfcolumns = pd.DataFrame(X.columns)\n",
        "featureScores = pd.concat([dfcolumns,dfscores],axis=1)\n",
        "featureScores.columns = ['Specs','Score']\n",
        "print(featureScores.nlargest(16,'Score')) #Choosing the 16 most valuable features"
      ]
    },
    {
      "cell_type": "code",
      "execution_count": null,
      "metadata": {
        "colab": {
          "base_uri": "https://localhost:8080/"
        },
        "id": "xFYpfWH0lNtH",
        "outputId": "6f86a7d7-fee9-45f0-c0d8-97b7c8176253"
      },
      "outputs": [
        {
          "output_type": "stream",
          "name": "stdout",
          "text": [
            "0     Unnamed: 0\n",
            "8           kurt\n",
            "18        maxdom\n",
            "19       dfrange\n",
            "7           skew\n",
            "10           sfm\n",
            "6            IQR\n",
            "16       meandom\n",
            "4            Q25\n",
            "13       meanfun\n",
            "11          mode\n",
            "2             sd\n",
            "3         median\n",
            "1       meanfreq\n",
            "12      centroid\n",
            "17        mindom\n",
            "Name: Specs, dtype: object\n"
          ]
        }
      ],
      "source": [
        "l = featureScores.nlargest(16,'Score')['Specs']\n",
        "print(l)\n",
        "x_new = X[l]"
      ]
    },
    {
      "cell_type": "code",
      "execution_count": null,
      "metadata": {
        "colab": {
          "base_uri": "https://localhost:8080/"
        },
        "id": "FEeNeScilQcz",
        "outputId": "2143fccd-b3cb-463f-ee7a-42151830dfe9"
      },
      "outputs": [
        {
          "output_type": "execute_result",
          "data": {
            "text/plain": [
              "Index(['Unnamed: 0', 'kurt', 'maxdom', 'dfrange', 'skew', 'sfm', 'IQR',\n",
              "       'meandom', 'Q25', 'meanfun', 'mode', 'sd', 'median', 'meanfreq',\n",
              "       'centroid', 'mindom'],\n",
              "      dtype='object')"
            ]
          },
          "metadata": {},
          "execution_count": 16
        }
      ],
      "source": [
        "x_new.columns"
      ]
    },
    {
      "cell_type": "code",
      "execution_count": null,
      "metadata": {
        "id": "397P4_FLloeQ"
      },
      "outputs": [],
      "source": [
        "import seaborn as sns\n",
        "import matplotlib.pyplot as plt"
      ]
    },
    {
      "cell_type": "code",
      "execution_count": null,
      "metadata": {
        "colab": {
          "base_uri": "https://localhost:8080/",
          "height": 687
        },
        "id": "vPPaVI0_lQ5R",
        "outputId": "2f587e2d-5c36-4e16-e70d-d7fcd795c227"
      },
      "outputs": [
        {
          "output_type": "display_data",
          "data": {
            "text/plain": [
              "<Figure size 2000x2000 with 2 Axes>"
            ],
            "image/png": "[encoded data removed]"
          },
          "metadata": {}
        }
      ],
      "source": [
        "corrmat = x_new.corr()\n",
        "top_corr_features = corrmat.index\n",
        "plt.figure(figsize=(20,20))\n",
        "#plot heat map\n",
        "g=sns.heatmap(x_new[top_corr_features].corr(),annot=True,cmap=\"RdYlGn\")"
      ]
    },
    {
      "cell_type": "markdown",
      "metadata": {
        "id": "rOWSuqFZl1aD"
      },
      "source": [
        "In above heatmap we can see that 'Unnamed: 0' and  'median' has correlation value of nearly 1 and same for 'dfrange' and 'maxdom' and 'meanfreq' and 'centroid'. So we drop columns 'median' and 'dfrange' and 'meanfreq'"
      ]
    },
    {
      "cell_type": "code",
      "execution_count": null,
      "metadata": {
        "id": "D9ZfTJj0mDSk"
      },
      "outputs": [],
      "source": [
        "x_new = x_new[['Unnamed: 0', 'kurt', 'maxdom', 'skew', 'sfm', 'IQR',\n",
        "       'meandom', 'Q25', 'meanfun', 'mode', 'sd', 'meanfreq', 'mindom']]"
      ]
    },
    {
      "cell_type": "code",
      "execution_count": null,
      "metadata": {
        "colab": {
          "base_uri": "https://localhost:8080/"
        },
        "id": "_rvY-1UuSF0E",
        "outputId": "5da6af4f-4b14-4e93-9b2c-8cf85fe9f11b"
      },
      "outputs": [
        {
          "output_type": "stream",
          "name": "stdout",
          "text": [
            "3052 1309\n"
          ]
        }
      ],
      "source": [
        "X_train, X_test, y_train, y_test = train_test_split(x_new, y, test_size=0.3, random_state=1)\n",
        "print(len(X_train), len(X_test))"
      ]
    },
    {
      "cell_type": "markdown",
      "metadata": {
        "id": "0jArubmmR8nx"
      },
      "source": [
        "**Decision Tree:**"
      ]
    },
    {
      "cell_type": "code",
      "execution_count": null,
      "metadata": {
        "colab": {
          "base_uri": "https://localhost:8080/",
          "height": 75
        },
        "id": "1vswBFYwSBLI",
        "outputId": "59d7e7ae-504d-4c8c-e493-b548b8427b3a"
      },
      "outputs": [
        {
          "output_type": "execute_result",
          "data": {
            "text/plain": [
              "DecisionTreeClassifier()"
            ],
            "text/html": [
              "<style>#sk-container-id-1 {color: black;background-color: white;}#sk-container-id-1 pre{padding: 0;}#sk-container-id-1 div.sk-toggleable {background-color: white;}#sk-container-id-1 label.sk-toggleable__label {cursor: pointer;display: block;width: 100%;margin-bottom: 0;padding: 0.3em;box-sizing: border-box;text-align: center;}#sk-container-id-1 label.sk-toggleable__label-arrow:before {content: \"▸\";float: left;margin-right: 0.25em;color: #696969;}#sk-container-id-1 label.sk-toggleable__label-arrow:hover:before {color: black;}#sk-container-id-1 div.sk-estimator:hover label.sk-toggleable__label-arrow:before {color: black;}#sk-container-id-1 div.sk-toggleable__content {max-height: 0;max-width: 0;overflow: hidden;text-align: left;background-color: #f0f8ff;}#sk-container-id-1 div.sk-toggleable__content pre {margin: 0.2em;color: black;border-radius: 0.25em;background-color: #f0f8ff;}#sk-container-id-1 input.sk-toggleable__control:checked~div.sk-toggleable__content {max-height: 200px;max-width: 100%;overflow: auto;}#sk-container-id-1 input.sk-toggleable__control:checked~label.sk-toggleable__label-arrow:before {content: \"▾\";}#sk-container-id-1 div.sk-estimator input.sk-toggleable__control:checked~label.sk-toggleable__label {background-color: #d4ebff;}#sk-container-id-1 div.sk-label input.sk-toggleable__control:checked~label.sk-toggleable__label {background-color: #d4ebff;}#sk-container-id-1 input.sk-hidden--visually {border: 0;clip: rect(1px 1px 1px 1px);clip: rect(1px, 1px, 1px, 1px);height: 1px;margin: -1px;overflow: hidden;padding: 0;position: absolute;width: 1px;}#sk-container-id-1 div.sk-estimator {font-family: monospace;background-color: #f0f8ff;border: 1px dotted black;border-radius: 0.25em;box-sizing: border-box;margin-bottom: 0.5em;}#sk-container-id-1 div.sk-estimator:hover {background-color: #d4ebff;}#sk-container-id-1 div.sk-parallel-item::after {content: \"\";width: 100%;border-bottom: 1px solid gray;flex-grow: 1;}#sk-container-id-1 div.sk-label:hover label.sk-toggleable__label {background-color: #d4ebff;}#sk-container-id-1 div.sk-serial::before {content: \"\";position: absolute;border-left: 1px solid gray;box-sizing: border-box;top: 0;bottom: 0;left: 50%;z-index: 0;}#sk-container-id-1 div.sk-serial {display: flex;flex-direction: column;align-items: center;background-color: white;padding-right: 0.2em;padding-left: 0.2em;position: relative;}#sk-container-id-1 div.sk-item {position: relative;z-index: 1;}#sk-container-id-1 div.sk-parallel {display: flex;align-items: stretch;justify-content: center;background-color: white;position: relative;}#sk-container-id-1 div.sk-item::before, #sk-container-id-1 div.sk-parallel-item::before {content: \"\";position: absolute;border-left: 1px solid gray;box-sizing: border-box;top: 0;bottom: 0;left: 50%;z-index: -1;}#sk-container-id-1 div.sk-parallel-item {display: flex;flex-direction: column;z-index: 1;position: relative;background-color: white;}#sk-container-id-1 div.sk-parallel-item:first-child::after {align-self: flex-end;width: 50%;}#sk-container-id-1 div.sk-parallel-item:last-child::after {align-self: flex-start;width: 50%;}#sk-container-id-1 div.sk-parallel-item:only-child::after {width: 0;}#sk-container-id-1 div.sk-dashed-wrapped {border: 1px dashed gray;margin: 0 0.4em 0.5em 0.4em;box-sizing: border-box;padding-bottom: 0.4em;background-color: white;}#sk-container-id-1 div.sk-label label {font-family: monospace;font-weight: bold;display: inline-block;line-height: 1.2em;}#sk-container-id-1 div.sk-label-container {text-align: center;}#sk-container-id-1 div.sk-container {/* jupyter's `normalize.less` sets `[hidden] { display: none; }` but bootstrap.min.css set `[hidden] { display: none !important; }` so we also need the `!important` here to be able to override the default hidden behavior on the sphinx rendered scikit-learn.org. See: https://github.com/scikit-learn/scikit-learn/issues/21755 */display: inline-block !important;position: relative;}#sk-container-id-1 div.sk-text-repr-fallback {display: none;}</style><div id=\"sk-container-id-1\" class=\"sk-top-container\"><div class=\"sk-text-repr-fallback\"><pre>DecisionTreeClassifier()</pre><b>In a Jupyter environment, please rerun this cell to show the HTML representation or trust the notebook. <br />On GitHub, the HTML representation is unable to render, please try loading this page with nbviewer.org.</b></div><div class=\"sk-container\" hidden><div class=\"sk-item\"><div class=\"sk-estimator sk-toggleable\"><input class=\"sk-toggleable__control sk-hidden--visually\" id=\"sk-estimator-id-1\" type=\"checkbox\" checked><label for=\"sk-estimator-id-1\" class=\"sk-toggleable__label sk-toggleable__label-arrow\">DecisionTreeClassifier</label><div class=\"sk-toggleable__content\"><pre>DecisionTreeClassifier()</pre></div></div></div></div></div>"
            ]
          },
          "metadata": {},
          "execution_count": 21
        }
      ],
      "source": [
        "TreeModel = tree.DecisionTreeClassifier()\n",
        "TreeModel.fit(X_train, y_train)"
      ]
    },
    {
      "cell_type": "code",
      "execution_count": null,
      "metadata": {
        "colab": {
          "base_uri": "https://localhost:8080/"
        },
        "id": "_80pxdp0Sfx9",
        "outputId": "9ef88bd9-7c4b-4e1d-c1a9-1a56be643fa5"
      },
      "outputs": [
        {
          "output_type": "stream",
          "name": "stdout",
          "text": [
            "1.0\n",
            "0.904507257448434\n"
          ]
        }
      ],
      "source": [
        "print(TreeModel.score(X_train, y_train))\n",
        "print(TreeModel.score(X_test, y_test))"
      ]
    },
    {
      "cell_type": "code",
      "execution_count": null,
      "metadata": {
        "colab": {
          "base_uri": "https://localhost:8080/",
          "height": 449
        },
        "id": "uea9_47_iWhY",
        "outputId": "357aabb1-87cd-418e-ebbd-f8f90a4e9238"
      },
      "outputs": [
        {
          "output_type": "display_data",
          "data": {
            "text/plain": [
              "<Figure size 640x480 with 2 Axes>"
            ],
            "image/png": "[encoded data removed]"
          },
          "metadata": {}
        }
      ],
      "source": [
        "y_pred = TreeModel.predict(X_test)\n",
        "import matplotlib.pyplot as plt\n",
        "from sklearn.metrics import confusion_matrix\n",
        "from sklearn.metrics import ConfusionMatrixDisplay\n",
        "\n",
        "cm = confusion_matrix(y_test, y_pred)\n",
        "cm2 = ConfusionMatrixDisplay(confusion_matrix=cm)\n",
        "cm2.plot()\n",
        "plt.show()"
      ]
    },
    {
      "cell_type": "code",
      "execution_count": null,
      "metadata": {
        "colab": {
          "base_uri": "https://localhost:8080/"
        },
        "id": "gb-Ta5mVD0yZ",
        "outputId": "a2497a38-2007-4225-caeb-c89dc047a71a"
      },
      "outputs": [
        {
          "output_type": "stream",
          "name": "stdout",
          "text": [
            "Accuracy: 0.905\n",
            "precision: 0.932\n",
            "recall: 0.942\n",
            "f1: 0.905\n"
          ]
        }
      ],
      "source": [
        "from sklearn.metrics import precision_score, accuracy_score, recall_score, f1_score\n",
        "\n",
        "print(f\"Accuracy: {round(accuracy_score(y_test, y_pred),3)}\")\n",
        "print(f\"precision: {round(precision_score(y_test, y_pred),3)}\")\n",
        "print(f\"recall: {round(recall_score(y_test, y_pred),3)}\")\n",
        "print(f\"f1: {round(accuracy_score(y_test, y_pred), 3)}\")"
      ]
    },
    {
      "cell_type": "markdown",
      "metadata": {
        "id": "OxI1689ES5Cq"
      },
      "source": [
        "**Random Forest Classification:**"
      ]
    },
    {
      "cell_type": "code",
      "execution_count": null,
      "metadata": {
        "colab": {
          "base_uri": "https://localhost:8080/",
          "height": 75
        },
        "id": "Acro_BpUTEtC",
        "outputId": "ed8761d0-1f1f-4344-cf8c-11cfb018564b"
      },
      "outputs": [
        {
          "output_type": "execute_result",
          "data": {
            "text/plain": [
              "RandomForestClassifier()"
            ],
            "text/html": [
              "<style>#sk-container-id-2 {color: black;background-color: white;}#sk-container-id-2 pre{padding: 0;}#sk-container-id-2 div.sk-toggleable {background-color: white;}#sk-container-id-2 label.sk-toggleable__label {cursor: pointer;display: block;width: 100%;margin-bottom: 0;padding: 0.3em;box-sizing: border-box;text-align: center;}#sk-container-id-2 label.sk-toggleable__label-arrow:before {content: \"▸\";float: left;margin-right: 0.25em;color: #696969;}#sk-container-id-2 label.sk-toggleable__label-arrow:hover:before {color: black;}#sk-container-id-2 div.sk-estimator:hover label.sk-toggleable__label-arrow:before {color: black;}#sk-container-id-2 div.sk-toggleable__content {max-height: 0;max-width: 0;overflow: hidden;text-align: left;background-color: #f0f8ff;}#sk-container-id-2 div.sk-toggleable__content pre {margin: 0.2em;color: black;border-radius: 0.25em;background-color: #f0f8ff;}#sk-container-id-2 input.sk-toggleable__control:checked~div.sk-toggleable__content {max-height: 200px;max-width: 100%;overflow: auto;}#sk-container-id-2 input.sk-toggleable__control:checked~label.sk-toggleable__label-arrow:before {content: \"▾\";}#sk-container-id-2 div.sk-estimator input.sk-toggleable__control:checked~label.sk-toggleable__label {background-color: #d4ebff;}#sk-container-id-2 div.sk-label input.sk-toggleable__control:checked~label.sk-toggleable__label {background-color: #d4ebff;}#sk-container-id-2 input.sk-hidden--visually {border: 0;clip: rect(1px 1px 1px 1px);clip: rect(1px, 1px, 1px, 1px);height: 1px;margin: -1px;overflow: hidden;padding: 0;position: absolute;width: 1px;}#sk-container-id-2 div.sk-estimator {font-family: monospace;background-color: #f0f8ff;border: 1px dotted black;border-radius: 0.25em;box-sizing: border-box;margin-bottom: 0.5em;}#sk-container-id-2 div.sk-estimator:hover {background-color: #d4ebff;}#sk-container-id-2 div.sk-parallel-item::after {content: \"\";width: 100%;border-bottom: 1px solid gray;flex-grow: 1;}#sk-container-id-2 div.sk-label:hover label.sk-toggleable__label {background-color: #d4ebff;}#sk-container-id-2 div.sk-serial::before {content: \"\";position: absolute;border-left: 1px solid gray;box-sizing: border-box;top: 0;bottom: 0;left: 50%;z-index: 0;}#sk-container-id-2 div.sk-serial {display: flex;flex-direction: column;align-items: center;background-color: white;padding-right: 0.2em;padding-left: 0.2em;position: relative;}#sk-container-id-2 div.sk-item {position: relative;z-index: 1;}#sk-container-id-2 div.sk-parallel {display: flex;align-items: stretch;justify-content: center;background-color: white;position: relative;}#sk-container-id-2 div.sk-item::before, #sk-container-id-2 div.sk-parallel-item::before {content: \"\";position: absolute;border-left: 1px solid gray;box-sizing: border-box;top: 0;bottom: 0;left: 50%;z-index: -1;}#sk-container-id-2 div.sk-parallel-item {display: flex;flex-direction: column;z-index: 1;position: relative;background-color: white;}#sk-container-id-2 div.sk-parallel-item:first-child::after {align-self: flex-end;width: 50%;}#sk-container-id-2 div.sk-parallel-item:last-child::after {align-self: flex-start;width: 50%;}#sk-container-id-2 div.sk-parallel-item:only-child::after {width: 0;}#sk-container-id-2 div.sk-dashed-wrapped {border: 1px dashed gray;margin: 0 0.4em 0.5em 0.4em;box-sizing: border-box;padding-bottom: 0.4em;background-color: white;}#sk-container-id-2 div.sk-label label {font-family: monospace;font-weight: bold;display: inline-block;line-height: 1.2em;}#sk-container-id-2 div.sk-label-container {text-align: center;}#sk-container-id-2 div.sk-container {/* jupyter's `normalize.less` sets `[hidden] { display: none; }` but bootstrap.min.css set `[hidden] { display: none !important; }` so we also need the `!important` here to be able to override the default hidden behavior on the sphinx rendered scikit-learn.org. See: https://github.com/scikit-learn/scikit-learn/issues/21755 */display: inline-block !important;position: relative;}#sk-container-id-2 div.sk-text-repr-fallback {display: none;}</style><div id=\"sk-container-id-2\" class=\"sk-top-container\"><div class=\"sk-text-repr-fallback\"><pre>RandomForestClassifier()</pre><b>In a Jupyter environment, please rerun this cell to show the HTML representation or trust the notebook. <br />On GitHub, the HTML representation is unable to render, please try loading this page with nbviewer.org.</b></div><div class=\"sk-container\" hidden><div class=\"sk-item\"><div class=\"sk-estimator sk-toggleable\"><input class=\"sk-toggleable__control sk-hidden--visually\" id=\"sk-estimator-id-2\" type=\"checkbox\" checked><label for=\"sk-estimator-id-2\" class=\"sk-toggleable__label sk-toggleable__label-arrow\">RandomForestClassifier</label><div class=\"sk-toggleable__content\"><pre>RandomForestClassifier()</pre></div></div></div></div></div>"
            ]
          },
          "metadata": {},
          "execution_count": 25
        }
      ],
      "source": [
        "RFModel = RandomForestClassifier()\n",
        "RFModel.fit(X_train, y_train)"
      ]
    },
    {
      "cell_type": "code",
      "execution_count": null,
      "metadata": {
        "id": "g2FLHDO9TRIh"
      },
      "outputs": [],
      "source": [
        "y_pred = RFModel.predict(X_test)"
      ]
    },
    {
      "cell_type": "code",
      "execution_count": null,
      "metadata": {
        "colab": {
          "base_uri": "https://localhost:8080/"
        },
        "id": "Vpi-NlsQV6_X",
        "outputId": "a119911d-1344-44c0-89d3-d0fc232e050f"
      },
      "outputs": [
        {
          "output_type": "stream",
          "name": "stdout",
          "text": [
            "1.0\n",
            "0.9419404125286478\n"
          ]
        }
      ],
      "source": [
        "print(RFModel.score(X_train, y_train))\n",
        "print(RFModel.score(X_test, y_test))"
      ]
    },
    {
      "cell_type": "code",
      "execution_count": null,
      "metadata": {
        "colab": {
          "base_uri": "https://localhost:8080/",
          "height": 449
        },
        "id": "57hUjbZWi5lU",
        "outputId": "e95a3b8a-3f75-4f8f-83d2-2ca7ed6e04d0"
      },
      "outputs": [
        {
          "output_type": "display_data",
          "data": {
            "text/plain": [
              "<Figure size 640x480 with 2 Axes>"
            ],
            "image/png": "[encoded data removed]"
          },
          "metadata": {}
        }
      ],
      "source": [
        "y_pred = RFModel.predict(X_test)\n",
        "import matplotlib.pyplot as plt\n",
        "from sklearn.metrics import confusion_matrix\n",
        "from sklearn.metrics import ConfusionMatrixDisplay\n",
        "\n",
        "cm = confusion_matrix(y_test, y_pred)\n",
        "cm2 = ConfusionMatrixDisplay(confusion_matrix=cm)\n",
        "cm2.plot()\n",
        "plt.show()"
      ]
    },
    {
      "cell_type": "code",
      "execution_count": null,
      "metadata": {
        "colab": {
          "base_uri": "https://localhost:8080/"
        },
        "id": "YlIZq1zHfn1Z",
        "outputId": "5b5e7f49-10bb-4e4d-99fc-0f9812d2a561"
      },
      "outputs": [
        {
          "output_type": "stream",
          "name": "stdout",
          "text": [
            "Accuracy: 0.942\n",
            "precision: 0.956\n",
            "recall: 0.967\n",
            "f1: 0.942\n"
          ]
        }
      ],
      "source": [
        "from sklearn.metrics import precision_score, accuracy_score, recall_score, f1_score\n",
        "\n",
        "print(f\"Accuracy: {round(accuracy_score(y_test, y_pred),3)}\")\n",
        "print(f\"precision: {round(precision_score(y_test, y_pred),3)}\")\n",
        "print(f\"recall: {round(recall_score(y_test, y_pred),3)}\")\n",
        "print(f\"f1: {round(accuracy_score(y_test, y_pred), 3)}\")"
      ]
    },
    {
      "cell_type": "markdown",
      "metadata": {
        "id": "yYYFeNb2Tqme"
      },
      "source": [
        "**SVM:**"
      ]
    },
    {
      "cell_type": "code",
      "execution_count": null,
      "metadata": {
        "colab": {
          "base_uri": "https://localhost:8080/",
          "height": 75
        },
        "id": "1FWqZH1-Ttl8",
        "outputId": "d611a02d-549d-42a6-9d54-5cd7b53db1a6"
      },
      "outputs": [
        {
          "output_type": "execute_result",
          "data": {
            "text/plain": [
              "SVC(C=0.5, gamma=0.001, kernel='linear')"
            ],
            "text/html": [
              "<style>#sk-container-id-3 {color: black;background-color: white;}#sk-container-id-3 pre{padding: 0;}#sk-container-id-3 div.sk-toggleable {background-color: white;}#sk-container-id-3 label.sk-toggleable__label {cursor: pointer;display: block;width: 100%;margin-bottom: 0;padding: 0.3em;box-sizing: border-box;text-align: center;}#sk-container-id-3 label.sk-toggleable__label-arrow:before {content: \"▸\";float: left;margin-right: 0.25em;color: #696969;}#sk-container-id-3 label.sk-toggleable__label-arrow:hover:before {color: black;}#sk-container-id-3 div.sk-estimator:hover label.sk-toggleable__label-arrow:before {color: black;}#sk-container-id-3 div.sk-toggleable__content {max-height: 0;max-width: 0;overflow: hidden;text-align: left;background-color: #f0f8ff;}#sk-container-id-3 div.sk-toggleable__content pre {margin: 0.2em;color: black;border-radius: 0.25em;background-color: #f0f8ff;}#sk-container-id-3 input.sk-toggleable__control:checked~div.sk-toggleable__content {max-height: 200px;max-width: 100%;overflow: auto;}#sk-container-id-3 input.sk-toggleable__control:checked~label.sk-toggleable__label-arrow:before {content: \"▾\";}#sk-container-id-3 div.sk-estimator input.sk-toggleable__control:checked~label.sk-toggleable__label {background-color: #d4ebff;}#sk-container-id-3 div.sk-label input.sk-toggleable__control:checked~label.sk-toggleable__label {background-color: #d4ebff;}#sk-container-id-3 input.sk-hidden--visually {border: 0;clip: rect(1px 1px 1px 1px);clip: rect(1px, 1px, 1px, 1px);height: 1px;margin: -1px;overflow: hidden;padding: 0;position: absolute;width: 1px;}#sk-container-id-3 div.sk-estimator {font-family: monospace;background-color: #f0f8ff;border: 1px dotted black;border-radius: 0.25em;box-sizing: border-box;margin-bottom: 0.5em;}#sk-container-id-3 div.sk-estimator:hover {background-color: #d4ebff;}#sk-container-id-3 div.sk-parallel-item::after {content: \"\";width: 100%;border-bottom: 1px solid gray;flex-grow: 1;}#sk-container-id-3 div.sk-label:hover label.sk-toggleable__label {background-color: #d4ebff;}#sk-container-id-3 div.sk-serial::before {content: \"\";position: absolute;border-left: 1px solid gray;box-sizing: border-box;top: 0;bottom: 0;left: 50%;z-index: 0;}#sk-container-id-3 div.sk-serial {display: flex;flex-direction: column;align-items: center;background-color: white;padding-right: 0.2em;padding-left: 0.2em;position: relative;}#sk-container-id-3 div.sk-item {position: relative;z-index: 1;}#sk-container-id-3 div.sk-parallel {display: flex;align-items: stretch;justify-content: center;background-color: white;position: relative;}#sk-container-id-3 div.sk-item::before, #sk-container-id-3 div.sk-parallel-item::before {content: \"\";position: absolute;border-left: 1px solid gray;box-sizing: border-box;top: 0;bottom: 0;left: 50%;z-index: -1;}#sk-container-id-3 div.sk-parallel-item {display: flex;flex-direction: column;z-index: 1;position: relative;background-color: white;}#sk-container-id-3 div.sk-parallel-item:first-child::after {align-self: flex-end;width: 50%;}#sk-container-id-3 div.sk-parallel-item:last-child::after {align-self: flex-start;width: 50%;}#sk-container-id-3 div.sk-parallel-item:only-child::after {width: 0;}#sk-container-id-3 div.sk-dashed-wrapped {border: 1px dashed gray;margin: 0 0.4em 0.5em 0.4em;box-sizing: border-box;padding-bottom: 0.4em;background-color: white;}#sk-container-id-3 div.sk-label label {font-family: monospace;font-weight: bold;display: inline-block;line-height: 1.2em;}#sk-container-id-3 div.sk-label-container {text-align: center;}#sk-container-id-3 div.sk-container {/* jupyter's `normalize.less` sets `[hidden] { display: none; }` but bootstrap.min.css set `[hidden] { display: none !important; }` so we also need the `!important` here to be able to override the default hidden behavior on the sphinx rendered scikit-learn.org. See: https://github.com/scikit-learn/scikit-learn/issues/21755 */display: inline-block !important;position: relative;}#sk-container-id-3 div.sk-text-repr-fallback {display: none;}</style><div id=\"sk-container-id-3\" class=\"sk-top-container\"><div class=\"sk-text-repr-fallback\"><pre>SVC(C=0.5, gamma=0.001, kernel=&#x27;linear&#x27;)</pre><b>In a Jupyter environment, please rerun this cell to show the HTML representation or trust the notebook. <br />On GitHub, the HTML representation is unable to render, please try loading this page with nbviewer.org.</b></div><div class=\"sk-container\" hidden><div class=\"sk-item\"><div class=\"sk-estimator sk-toggleable\"><input class=\"sk-toggleable__control sk-hidden--visually\" id=\"sk-estimator-id-3\" type=\"checkbox\" checked><label for=\"sk-estimator-id-3\" class=\"sk-toggleable__label sk-toggleable__label-arrow\">SVC</label><div class=\"sk-toggleable__content\"><pre>SVC(C=0.5, gamma=0.001, kernel=&#x27;linear&#x27;)</pre></div></div></div></div></div>"
            ]
          },
          "metadata": {},
          "execution_count": 30
        }
      ],
      "source": [
        "SVMClassifier = SVC(gamma=0.001, C=0.5, kernel='linear')\n",
        "SVMClassifier.fit(X_train, y_train)"
      ]
    },
    {
      "cell_type": "code",
      "execution_count": null,
      "metadata": {
        "colab": {
          "base_uri": "https://localhost:8080/"
        },
        "id": "B1e3181zU30X",
        "outputId": "fbe7fe83-9730-4ec1-9d5f-91d265bb1909"
      },
      "outputs": [
        {
          "output_type": "stream",
          "name": "stdout",
          "text": [
            "0.8070117955439057\n",
            "0.7776928953399541\n"
          ]
        }
      ],
      "source": [
        "print(SVMClassifier.score(X_train, y_train))\n",
        "print(SVMClassifier.score(X_test, y_test))"
      ]
    },
    {
      "cell_type": "code",
      "execution_count": null,
      "metadata": {
        "colab": {
          "base_uri": "https://localhost:8080/",
          "height": 449
        },
        "id": "1OnazeNLi-1D",
        "outputId": "14319467-8f70-4cd0-aa45-4839d5da9035"
      },
      "outputs": [
        {
          "output_type": "display_data",
          "data": {
            "text/plain": [
              "<Figure size 640x480 with 2 Axes>"
            ],
            "image/png": "[encoded data removed]"
          },
          "metadata": {}
        }
      ],
      "source": [
        "y_pred = SVMClassifier.predict(X_test)\n",
        "import matplotlib.pyplot as plt\n",
        "from sklearn.metrics import confusion_matrix\n",
        "from sklearn.metrics import ConfusionMatrixDisplay\n",
        "\n",
        "cm = confusion_matrix(y_test, y_pred)\n",
        "cm2 = ConfusionMatrixDisplay(confusion_matrix=cm)\n",
        "cm2.plot()\n",
        "plt.show()"
      ]
    },
    {
      "cell_type": "code",
      "execution_count": null,
      "metadata": {
        "colab": {
          "base_uri": "https://localhost:8080/"
        },
        "id": "De4uaPGJfzgL",
        "outputId": "08d7acd9-2997-4102-928e-bf3269273086"
      },
      "outputs": [
        {
          "output_type": "stream",
          "name": "stdout",
          "text": [
            "Accuracy: 0.778\n",
            "precision: 0.781\n",
            "recall: 0.979\n",
            "f1: 0.778\n"
          ]
        }
      ],
      "source": [
        "from sklearn.metrics import precision_score, accuracy_score, recall_score, f1_score\n",
        "\n",
        "print(f\"Accuracy: {round(accuracy_score(y_test, y_pred),3)}\")\n",
        "print(f\"precision: {round(precision_score(y_test, y_pred),3)}\")\n",
        "print(f\"recall: {round(recall_score(y_test, y_pred),3)}\")\n",
        "print(f\"f1: {round(accuracy_score(y_test, y_pred), 3)}\")"
      ]
    },
    {
      "cell_type": "markdown",
      "metadata": {
        "id": "Qy0li14Mba4B"
      },
      "source": [
        "KNN"
      ]
    },
    {
      "cell_type": "code",
      "execution_count": null,
      "metadata": {
        "colab": {
          "base_uri": "https://localhost:8080/",
          "height": 75
        },
        "id": "oVX_tJBscCKB",
        "outputId": "a197212e-9edc-426e-88c4-f9608955c36f"
      },
      "outputs": [
        {
          "output_type": "execute_result",
          "data": {
            "text/plain": [
              "KNeighborsClassifier(n_neighbors=7)"
            ],
            "text/html": [
              "<style>#sk-container-id-4 {color: black;background-color: white;}#sk-container-id-4 pre{padding: 0;}#sk-container-id-4 div.sk-toggleable {background-color: white;}#sk-container-id-4 label.sk-toggleable__label {cursor: pointer;display: block;width: 100%;margin-bottom: 0;padding: 0.3em;box-sizing: border-box;text-align: center;}#sk-container-id-4 label.sk-toggleable__label-arrow:before {content: \"▸\";float: left;margin-right: 0.25em;color: #696969;}#sk-container-id-4 label.sk-toggleable__label-arrow:hover:before {color: black;}#sk-container-id-4 div.sk-estimator:hover label.sk-toggleable__label-arrow:before {color: black;}#sk-container-id-4 div.sk-toggleable__content {max-height: 0;max-width: 0;overflow: hidden;text-align: left;background-color: #f0f8ff;}#sk-container-id-4 div.sk-toggleable__content pre {margin: 0.2em;color: black;border-radius: 0.25em;background-color: #f0f8ff;}#sk-container-id-4 input.sk-toggleable__control:checked~div.sk-toggleable__content {max-height: 200px;max-width: 100%;overflow: auto;}#sk-container-id-4 input.sk-toggleable__control:checked~label.sk-toggleable__label-arrow:before {content: \"▾\";}#sk-container-id-4 div.sk-estimator input.sk-toggleable__control:checked~label.sk-toggleable__label {background-color: #d4ebff;}#sk-container-id-4 div.sk-label input.sk-toggleable__control:checked~label.sk-toggleable__label {background-color: #d4ebff;}#sk-container-id-4 input.sk-hidden--visually {border: 0;clip: rect(1px 1px 1px 1px);clip: rect(1px, 1px, 1px, 1px);height: 1px;margin: -1px;overflow: hidden;padding: 0;position: absolute;width: 1px;}#sk-container-id-4 div.sk-estimator {font-family: monospace;background-color: #f0f8ff;border: 1px dotted black;border-radius: 0.25em;box-sizing: border-box;margin-bottom: 0.5em;}#sk-container-id-4 div.sk-estimator:hover {background-color: #d4ebff;}#sk-container-id-4 div.sk-parallel-item::after {content: \"\";width: 100%;border-bottom: 1px solid gray;flex-grow: 1;}#sk-container-id-4 div.sk-label:hover label.sk-toggleable__label {background-color: #d4ebff;}#sk-container-id-4 div.sk-serial::before {content: \"\";position: absolute;border-left: 1px solid gray;box-sizing: border-box;top: 0;bottom: 0;left: 50%;z-index: 0;}#sk-container-id-4 div.sk-serial {display: flex;flex-direction: column;align-items: center;background-color: white;padding-right: 0.2em;padding-left: 0.2em;position: relative;}#sk-container-id-4 div.sk-item {position: relative;z-index: 1;}#sk-container-id-4 div.sk-parallel {display: flex;align-items: stretch;justify-content: center;background-color: white;position: relative;}#sk-container-id-4 div.sk-item::before, #sk-container-id-4 div.sk-parallel-item::before {content: \"\";position: absolute;border-left: 1px solid gray;box-sizing: border-box;top: 0;bottom: 0;left: 50%;z-index: -1;}#sk-container-id-4 div.sk-parallel-item {display: flex;flex-direction: column;z-index: 1;position: relative;background-color: white;}#sk-container-id-4 div.sk-parallel-item:first-child::after {align-self: flex-end;width: 50%;}#sk-container-id-4 div.sk-parallel-item:last-child::after {align-self: flex-start;width: 50%;}#sk-container-id-4 div.sk-parallel-item:only-child::after {width: 0;}#sk-container-id-4 div.sk-dashed-wrapped {border: 1px dashed gray;margin: 0 0.4em 0.5em 0.4em;box-sizing: border-box;padding-bottom: 0.4em;background-color: white;}#sk-container-id-4 div.sk-label label {font-family: monospace;font-weight: bold;display: inline-block;line-height: 1.2em;}#sk-container-id-4 div.sk-label-container {text-align: center;}#sk-container-id-4 div.sk-container {/* jupyter's `normalize.less` sets `[hidden] { display: none; }` but bootstrap.min.css set `[hidden] { display: none !important; }` so we also need the `!important` here to be able to override the default hidden behavior on the sphinx rendered scikit-learn.org. See: https://github.com/scikit-learn/scikit-learn/issues/21755 */display: inline-block !important;position: relative;}#sk-container-id-4 div.sk-text-repr-fallback {display: none;}</style><div id=\"sk-container-id-4\" class=\"sk-top-container\"><div class=\"sk-text-repr-fallback\"><pre>KNeighborsClassifier(n_neighbors=7)</pre><b>In a Jupyter environment, please rerun this cell to show the HTML representation or trust the notebook. <br />On GitHub, the HTML representation is unable to render, please try loading this page with nbviewer.org.</b></div><div class=\"sk-container\" hidden><div class=\"sk-item\"><div class=\"sk-estimator sk-toggleable\"><input class=\"sk-toggleable__control sk-hidden--visually\" id=\"sk-estimator-id-4\" type=\"checkbox\" checked><label for=\"sk-estimator-id-4\" class=\"sk-toggleable__label sk-toggleable__label-arrow\">KNeighborsClassifier</label><div class=\"sk-toggleable__content\"><pre>KNeighborsClassifier(n_neighbors=7)</pre></div></div></div></div></div>"
            ]
          },
          "metadata": {},
          "execution_count": 34
        }
      ],
      "source": [
        "from sklearn.neighbors import KNeighborsClassifier\n",
        "knn=KNeighborsClassifier(n_neighbors=7)\n",
        "knn.fit(X_train,y_train)"
      ]
    },
    {
      "cell_type": "code",
      "execution_count": null,
      "metadata": {
        "colab": {
          "base_uri": "https://localhost:8080/"
        },
        "id": "7SjwcaOGcCdA",
        "outputId": "19a32ae3-f42e-41c1-b432-c16176fe79f0"
      },
      "outputs": [
        {
          "output_type": "stream",
          "name": "stdout",
          "text": [
            "0.8119266055045872\n",
            "0.7272727272727273\n"
          ]
        }
      ],
      "source": [
        "print(knn.score(X_train, y_train))\n",
        "print(knn.score(X_test, y_test))"
      ]
    },
    {
      "cell_type": "code",
      "execution_count": null,
      "metadata": {
        "colab": {
          "base_uri": "https://localhost:8080/",
          "height": 449
        },
        "id": "QY_9es1LcCxk",
        "outputId": "ee71f086-db9c-41b9-b404-272b92e33d45"
      },
      "outputs": [
        {
          "output_type": "display_data",
          "data": {
            "text/plain": [
              "<Figure size 640x480 with 2 Axes>"
            ],
            "image/png": "[encoded data removed]"
          },
          "metadata": {}
        }
      ],
      "source": [
        "y_pred = knn.predict(X_test)\n",
        "import matplotlib.pyplot as plt\n",
        "from sklearn.metrics import confusion_matrix\n",
        "from sklearn.metrics import ConfusionMatrixDisplay\n",
        "\n",
        "cm = confusion_matrix(y_test, y_pred)\n",
        "cm2 = ConfusionMatrixDisplay(confusion_matrix=cm)\n",
        "cm2.plot()\n",
        "plt.show()"
      ]
    },
    {
      "cell_type": "code",
      "execution_count": null,
      "metadata": {
        "colab": {
          "base_uri": "https://localhost:8080/"
        },
        "id": "-lufZI9xfJfP",
        "outputId": "9125c3d0-9269-4438-e174-f27cf9709714"
      },
      "outputs": [
        {
          "output_type": "stream",
          "name": "stdout",
          "text": [
            "Accuracy: 0.727\n",
            "precision: 0.768\n",
            "recall: 0.913\n",
            "f1: 0.727\n"
          ]
        }
      ],
      "source": [
        "from sklearn.metrics import precision_score, accuracy_score, recall_score, f1_score\n",
        "\n",
        "print(f\"Accuracy: {round(accuracy_score(y_test, y_pred),3)}\")\n",
        "print(f\"precision: {round(precision_score(y_test, y_pred),3)}\")\n",
        "print(f\"recall: {round(recall_score(y_test, y_pred),3)}\")\n",
        "print(f\"f1: {round(accuracy_score(y_test, y_pred), 3)}\")"
      ]
    },
    {
      "cell_type": "markdown",
      "metadata": {
        "id": "pO2TJV_VgSTQ"
      },
      "source": [
        "XGB"
      ]
    },
    {
      "cell_type": "code",
      "execution_count": null,
      "metadata": {
        "colab": {
          "base_uri": "https://localhost:8080/",
          "height": 248
        },
        "id": "-IMHz_P1gd47",
        "outputId": "60fc9c6a-cda1-428d-f5b0-b08bddbcc524"
      },
      "outputs": [
        {
          "output_type": "execute_result",
          "data": {
            "text/plain": [
              "XGBClassifier(base_score=None, booster=None, callbacks=None,\n",
              "              colsample_bylevel=None, colsample_bynode=None,\n",
              "              colsample_bytree=None, early_stopping_rounds=None,\n",
              "              enable_categorical=False, eval_metric=None, feature_types=None,\n",
              "              gamma=None, gpu_id=None, grow_policy=None, importance_type=None,\n",
              "              interaction_constraints=None, learning_rate=None, max_bin=None,\n",
              "              max_cat_threshold=None, max_cat_to_onehot=None,\n",
              "              max_delta_step=None, max_depth=None, max_leaves=None,\n",
              "              min_child_weight=None, missing=nan, monotone_constraints=None,\n",
              "              n_estimators=100, n_jobs=None, num_parallel_tree=None,\n",
              "              predictor=None, random_state=None, ...)"
            ],
            "text/html": [
              "<style>#sk-container-id-5 {color: black;background-color: white;}#sk-container-id-5 pre{padding: 0;}#sk-container-id-5 div.sk-toggleable {background-color: white;}#sk-container-id-5 label.sk-toggleable__label {cursor: pointer;display: block;width: 100%;margin-bottom: 0;padding: 0.3em;box-sizing: border-box;text-align: center;}#sk-container-id-5 label.sk-toggleable__label-arrow:before {content: \"▸\";float: left;margin-right: 0.25em;color: #696969;}#sk-container-id-5 label.sk-toggleable__label-arrow:hover:before {color: black;}#sk-container-id-5 div.sk-estimator:hover label.sk-toggleable__label-arrow:before {color: black;}#sk-container-id-5 div.sk-toggleable__content {max-height: 0;max-width: 0;overflow: hidden;text-align: left;background-color: #f0f8ff;}#sk-container-id-5 div.sk-toggleable__content pre {margin: 0.2em;color: black;border-radius: 0.25em;background-color: #f0f8ff;}#sk-container-id-5 input.sk-toggleable__control:checked~div.sk-toggleable__content {max-height: 200px;max-width: 100%;overflow: auto;}#sk-container-id-5 input.sk-toggleable__control:checked~label.sk-toggleable__label-arrow:before {content: \"▾\";}#sk-container-id-5 div.sk-estimator input.sk-toggleable__control:checked~label.sk-toggleable__label {background-color: #d4ebff;}#sk-container-id-5 div.sk-label input.sk-toggleable__control:checked~label.sk-toggleable__label {background-color: #d4ebff;}#sk-container-id-5 input.sk-hidden--visually {border: 0;clip: rect(1px 1px 1px 1px);clip: rect(1px, 1px, 1px, 1px);height: 1px;margin: -1px;overflow: hidden;padding: 0;position: absolute;width: 1px;}#sk-container-id-5 div.sk-estimator {font-family: monospace;background-color: #f0f8ff;border: 1px dotted black;border-radius: 0.25em;box-sizing: border-box;margin-bottom: 0.5em;}#sk-container-id-5 div.sk-estimator:hover {background-color: #d4ebff;}#sk-container-id-5 div.sk-parallel-item::after {content: \"\";width: 100%;border-bottom: 1px solid gray;flex-grow: 1;}#sk-container-id-5 div.sk-label:hover label.sk-toggleable__label {background-color: #d4ebff;}#sk-container-id-5 div.sk-serial::before {content: \"\";position: absolute;border-left: 1px solid gray;box-sizing: border-box;top: 0;bottom: 0;left: 50%;z-index: 0;}#sk-container-id-5 div.sk-serial {display: flex;flex-direction: column;align-items: center;background-color: white;padding-right: 0.2em;padding-left: 0.2em;position: relative;}#sk-container-id-5 div.sk-item {position: relative;z-index: 1;}#sk-container-id-5 div.sk-parallel {display: flex;align-items: stretch;justify-content: center;background-color: white;position: relative;}#sk-container-id-5 div.sk-item::before, #sk-container-id-5 div.sk-parallel-item::before {content: \"\";position: absolute;border-left: 1px solid gray;box-sizing: border-box;top: 0;bottom: 0;left: 50%;z-index: -1;}#sk-container-id-5 div.sk-parallel-item {display: flex;flex-direction: column;z-index: 1;position: relative;background-color: white;}#sk-container-id-5 div.sk-parallel-item:first-child::after {align-self: flex-end;width: 50%;}#sk-container-id-5 div.sk-parallel-item:last-child::after {align-self: flex-start;width: 50%;}#sk-container-id-5 div.sk-parallel-item:only-child::after {width: 0;}#sk-container-id-5 div.sk-dashed-wrapped {border: 1px dashed gray;margin: 0 0.4em 0.5em 0.4em;box-sizing: border-box;padding-bottom: 0.4em;background-color: white;}#sk-container-id-5 div.sk-label label {font-family: monospace;font-weight: bold;display: inline-block;line-height: 1.2em;}#sk-container-id-5 div.sk-label-container {text-align: center;}#sk-container-id-5 div.sk-container {/* jupyter's `normalize.less` sets `[hidden] { display: none; }` but bootstrap.min.css set `[hidden] { display: none !important; }` so we also need the `!important` here to be able to override the default hidden behavior on the sphinx rendered scikit-learn.org. See: https://github.com/scikit-learn/scikit-learn/issues/21755 */display: inline-block !important;position: relative;}#sk-container-id-5 div.sk-text-repr-fallback {display: none;}</style><div id=\"sk-container-id-5\" class=\"sk-top-container\"><div class=\"sk-text-repr-fallback\"><pre>XGBClassifier(base_score=None, booster=None, callbacks=None,\n",
              "              colsample_bylevel=None, colsample_bynode=None,\n",
              "              colsample_bytree=None, early_stopping_rounds=None,\n",
              "              enable_categorical=False, eval_metric=None, feature_types=None,\n",
              "              gamma=None, gpu_id=None, grow_policy=None, importance_type=None,\n",
              "              interaction_constraints=None, learning_rate=None, max_bin=None,\n",
              "              max_cat_threshold=None, max_cat_to_onehot=None,\n",
              "              max_delta_step=None, max_depth=None, max_leaves=None,\n",
              "              min_child_weight=None, missing=nan, monotone_constraints=None,\n",
              "              n_estimators=100, n_jobs=None, num_parallel_tree=None,\n",
              "              predictor=None, random_state=None, ...)</pre><b>In a Jupyter environment, please rerun this cell to show the HTML representation or trust the notebook. <br />On GitHub, the HTML representation is unable to render, please try loading this page with nbviewer.org.</b></div><div class=\"sk-container\" hidden><div class=\"sk-item\"><div class=\"sk-estimator sk-toggleable\"><input class=\"sk-toggleable__control sk-hidden--visually\" id=\"sk-estimator-id-5\" type=\"checkbox\" checked><label for=\"sk-estimator-id-5\" class=\"sk-toggleable__label sk-toggleable__label-arrow\">XGBClassifier</label><div class=\"sk-toggleable__content\"><pre>XGBClassifier(base_score=None, booster=None, callbacks=None,\n",
              "              colsample_bylevel=None, colsample_bynode=None,\n",
              "              colsample_bytree=None, early_stopping_rounds=None,\n",
              "              enable_categorical=False, eval_metric=None, feature_types=None,\n",
              "              gamma=None, gpu_id=None, grow_policy=None, importance_type=None,\n",
              "              interaction_constraints=None, learning_rate=None, max_bin=None,\n",
              "              max_cat_threshold=None, max_cat_to_onehot=None,\n",
              "              max_delta_step=None, max_depth=None, max_leaves=None,\n",
              "              min_child_weight=None, missing=nan, monotone_constraints=None,\n",
              "              n_estimators=100, n_jobs=None, num_parallel_tree=None,\n",
              "              predictor=None, random_state=None, ...)</pre></div></div></div></div></div>"
            ]
          },
          "metadata": {},
          "execution_count": 38
        }
      ],
      "source": [
        "from xgboost import XGBClassifier\n",
        "xgb=XGBClassifier()\n",
        "xgb.fit(X_train,y_train)"
      ]
    },
    {
      "cell_type": "code",
      "execution_count": null,
      "metadata": {
        "colab": {
          "base_uri": "https://localhost:8080/"
        },
        "id": "xGg1PCuegd5B",
        "outputId": "771b5388-ff43-4d79-c88d-5e40ac0d1f5c"
      },
      "outputs": [
        {
          "output_type": "stream",
          "name": "stdout",
          "text": [
            "1.0\n",
            "0.9472880061115355\n"
          ]
        }
      ],
      "source": [
        "print(xgb.score(X_train, y_train))\n",
        "print(xgb.score(X_test, y_test))"
      ]
    },
    {
      "cell_type": "code",
      "execution_count": null,
      "metadata": {
        "colab": {
          "base_uri": "https://localhost:8080/",
          "height": 449
        },
        "id": "gKfQBSLTgd5B",
        "outputId": "26e7d165-1908-4b2c-e4ba-03f74c9ae4b8"
      },
      "outputs": [
        {
          "output_type": "display_data",
          "data": {
            "text/plain": [
              "<Figure size 640x480 with 2 Axes>"
            ],
            "image/png": "[encoded data removed]"
          },
          "metadata": {}
        }
      ],
      "source": [
        "y_pred = xgb.predict(X_test)\n",
        "import matplotlib.pyplot as plt\n",
        "from sklearn.metrics import confusion_matrix\n",
        "from sklearn.metrics import ConfusionMatrixDisplay\n",
        "\n",
        "cm = confusion_matrix(y_test, y_pred)\n",
        "cm2 = ConfusionMatrixDisplay(confusion_matrix=cm)\n",
        "cm2.plot()\n",
        "plt.show()"
      ]
    },
    {
      "cell_type": "code",
      "execution_count": null,
      "metadata": {
        "colab": {
          "base_uri": "https://localhost:8080/"
        },
        "id": "6qI-rF4Agd5B",
        "outputId": "4768069a-c098-4a03-f454-b6d5c0db0c95"
      },
      "outputs": [
        {
          "output_type": "stream",
          "name": "stdout",
          "text": [
            "Accuracy: 0.947\n",
            "precision: 0.96\n",
            "recall: 0.97\n",
            "f1: 0.947\n"
          ]
        }
      ],
      "source": [
        "from sklearn.metrics import precision_score, accuracy_score, recall_score, f1_score\n",
        "\n",
        "print(f\"Accuracy: {round(accuracy_score(y_test, y_pred),3)}\")\n",
        "print(f\"precision: {round(precision_score(y_test, y_pred),3)}\")\n",
        "print(f\"recall: {round(recall_score(y_test, y_pred),3)}\")\n",
        "print(f\"f1: {round(accuracy_score(y_test, y_pred), 3)}\")"
      ]
    },
    {
      "cell_type": "markdown",
      "metadata": {
        "id": "GHAfwXllhn9p"
      },
      "source": [
        "ANN\n"
      ]
    },
    {
      "cell_type": "code",
      "execution_count": null,
      "metadata": {
        "colab": {
          "base_uri": "https://localhost:8080/"
        },
        "id": "v0JX3fVVhn-H",
        "outputId": "e2130602-ebbc-4a4c-c43e-f74e1f9dde80"
      },
      "outputs": [
        {
          "output_type": "stream",
          "name": "stdout",
          "text": [
            "Epoch 1/100\n",
            "96/96 [==============================] - 6s 3ms/step - loss: 305.5488 - accuracy: 0.2667\n",
            "Epoch 2/100\n",
            "96/96 [==============================] - 0s 3ms/step - loss: 3.8564 - accuracy: 0.6835\n",
            "Epoch 3/100\n",
            "96/96 [==============================] - 0s 3ms/step - loss: 0.6608 - accuracy: 0.7179\n",
            "Epoch 4/100\n",
            "96/96 [==============================] - 0s 3ms/step - loss: 0.6432 - accuracy: 0.7146\n",
            "Epoch 5/100\n",
            "96/96 [==============================] - 0s 3ms/step - loss: 0.6195 - accuracy: 0.7294\n",
            "Epoch 6/100\n",
            "96/96 [==============================] - 0s 3ms/step - loss: 0.6520 - accuracy: 0.7123\n",
            "Epoch 7/100\n",
            "96/96 [==============================] - 0s 3ms/step - loss: 0.7535 - accuracy: 0.7077\n",
            "Epoch 8/100\n",
            "96/96 [==============================] - 0s 3ms/step - loss: 0.6036 - accuracy: 0.7261\n",
            "Epoch 9/100\n",
            "96/96 [==============================] - 0s 3ms/step - loss: 0.5638 - accuracy: 0.7454\n",
            "Epoch 10/100\n",
            "96/96 [==============================] - 0s 3ms/step - loss: 0.6113 - accuracy: 0.7362\n",
            "Epoch 11/100\n",
            "96/96 [==============================] - 0s 3ms/step - loss: 0.5920 - accuracy: 0.7339\n",
            "Epoch 12/100\n",
            "96/96 [==============================] - 0s 3ms/step - loss: 0.6675 - accuracy: 0.7166\n",
            "Epoch 13/100\n",
            "96/96 [==============================] - 0s 3ms/step - loss: 0.6925 - accuracy: 0.7244\n",
            "Epoch 14/100\n",
            "96/96 [==============================] - 0s 3ms/step - loss: 0.6301 - accuracy: 0.7172\n",
            "Epoch 15/100\n",
            "96/96 [==============================] - 0s 3ms/step - loss: 0.7810 - accuracy: 0.6904\n",
            "Epoch 16/100\n",
            "96/96 [==============================] - 0s 3ms/step - loss: 0.6938 - accuracy: 0.7123\n",
            "Epoch 17/100\n",
            "96/96 [==============================] - 0s 3ms/step - loss: 0.6042 - accuracy: 0.7303\n",
            "Epoch 18/100\n",
            "96/96 [==============================] - 0s 3ms/step - loss: 0.6535 - accuracy: 0.7231\n",
            "Epoch 19/100\n",
            "96/96 [==============================] - 0s 3ms/step - loss: 0.6914 - accuracy: 0.7163\n",
            "Epoch 20/100\n",
            "96/96 [==============================] - 0s 3ms/step - loss: 0.5908 - accuracy: 0.7284\n",
            "Epoch 21/100\n",
            "96/96 [==============================] - 0s 3ms/step - loss: 0.6864 - accuracy: 0.7248\n",
            "Epoch 22/100\n",
            "96/96 [==============================] - 0s 3ms/step - loss: 0.6976 - accuracy: 0.7185\n",
            "Epoch 23/100\n",
            "96/96 [==============================] - 0s 3ms/step - loss: 0.6418 - accuracy: 0.7176\n",
            "Epoch 24/100\n",
            "96/96 [==============================] - 0s 3ms/step - loss: 0.6843 - accuracy: 0.7208\n",
            "Epoch 25/100\n",
            "96/96 [==============================] - 0s 3ms/step - loss: 0.6007 - accuracy: 0.7366\n",
            "Epoch 26/100\n",
            "96/96 [==============================] - 0s 3ms/step - loss: 0.5699 - accuracy: 0.7408\n",
            "Epoch 27/100\n",
            "96/96 [==============================] - 0s 3ms/step - loss: 0.6570 - accuracy: 0.7172\n",
            "Epoch 28/100\n",
            "96/96 [==============================] - 0s 3ms/step - loss: 0.5741 - accuracy: 0.7451\n",
            "Epoch 29/100\n",
            "96/96 [==============================] - 0s 3ms/step - loss: 0.7056 - accuracy: 0.7274\n",
            "Epoch 30/100\n",
            "96/96 [==============================] - 0s 5ms/step - loss: 0.6113 - accuracy: 0.7323\n",
            "Epoch 31/100\n",
            "96/96 [==============================] - 0s 4ms/step - loss: 0.5890 - accuracy: 0.7421\n",
            "Epoch 32/100\n",
            "96/96 [==============================] - 0s 4ms/step - loss: 0.6197 - accuracy: 0.7366\n",
            "Epoch 33/100\n",
            "96/96 [==============================] - 0s 5ms/step - loss: 0.6127 - accuracy: 0.7385\n",
            "Epoch 34/100\n",
            "96/96 [==============================] - 0s 4ms/step - loss: 0.6002 - accuracy: 0.7353\n",
            "Epoch 35/100\n",
            "96/96 [==============================] - 0s 5ms/step - loss: 0.7759 - accuracy: 0.7035\n",
            "Epoch 36/100\n",
            "96/96 [==============================] - 0s 5ms/step - loss: 0.6332 - accuracy: 0.7307\n",
            "Epoch 37/100\n",
            "96/96 [==============================] - 0s 4ms/step - loss: 0.5962 - accuracy: 0.7434\n",
            "Epoch 38/100\n",
            "96/96 [==============================] - 0s 3ms/step - loss: 0.6107 - accuracy: 0.7261\n",
            "Epoch 39/100\n",
            "96/96 [==============================] - 0s 3ms/step - loss: 0.7228 - accuracy: 0.7185\n",
            "Epoch 40/100\n",
            "96/96 [==============================] - 0s 3ms/step - loss: 0.5623 - accuracy: 0.7490\n",
            "Epoch 41/100\n",
            "96/96 [==============================] - 0s 3ms/step - loss: 0.5734 - accuracy: 0.7484\n",
            "Epoch 42/100\n",
            "96/96 [==============================] - 0s 3ms/step - loss: 0.9271 - accuracy: 0.7100\n",
            "Epoch 43/100\n",
            "96/96 [==============================] - 0s 3ms/step - loss: 0.6313 - accuracy: 0.7294\n",
            "Epoch 44/100\n",
            "96/96 [==============================] - 0s 3ms/step - loss: 0.5384 - accuracy: 0.7546\n",
            "Epoch 45/100\n",
            "96/96 [==============================] - 0s 3ms/step - loss: 0.6685 - accuracy: 0.7395\n",
            "Epoch 46/100\n",
            "96/96 [==============================] - 0s 3ms/step - loss: 0.6262 - accuracy: 0.7362\n",
            "Epoch 47/100\n",
            "96/96 [==============================] - 0s 3ms/step - loss: 0.6796 - accuracy: 0.7267\n",
            "Epoch 48/100\n",
            "96/96 [==============================] - 0s 3ms/step - loss: 0.7279 - accuracy: 0.7248\n",
            "Epoch 49/100\n",
            "96/96 [==============================] - 0s 3ms/step - loss: 0.6443 - accuracy: 0.7320\n",
            "Epoch 50/100\n",
            "96/96 [==============================] - 0s 3ms/step - loss: 0.6095 - accuracy: 0.7375\n",
            "Epoch 51/100\n",
            "96/96 [==============================] - 0s 3ms/step - loss: 0.7875 - accuracy: 0.7067\n",
            "Epoch 52/100\n",
            "96/96 [==============================] - 0s 3ms/step - loss: 0.7242 - accuracy: 0.7274\n",
            "Epoch 53/100\n",
            "96/96 [==============================] - 0s 3ms/step - loss: 0.5290 - accuracy: 0.7628\n",
            "Epoch 54/100\n",
            "96/96 [==============================] - 0s 3ms/step - loss: 0.5594 - accuracy: 0.7487\n",
            "Epoch 55/100\n",
            "96/96 [==============================] - 0s 3ms/step - loss: 0.6679 - accuracy: 0.7349\n",
            "Epoch 56/100\n",
            "96/96 [==============================] - 0s 3ms/step - loss: 0.6343 - accuracy: 0.7244\n",
            "Epoch 57/100\n",
            "96/96 [==============================] - 0s 3ms/step - loss: 0.5619 - accuracy: 0.7526\n",
            "Epoch 58/100\n",
            "96/96 [==============================] - 0s 3ms/step - loss: 0.6376 - accuracy: 0.7303\n",
            "Epoch 59/100\n",
            "96/96 [==============================] - 0s 3ms/step - loss: 0.6050 - accuracy: 0.7330\n",
            "Epoch 60/100\n",
            "96/96 [==============================] - 0s 3ms/step - loss: 0.6164 - accuracy: 0.7359\n",
            "Epoch 61/100\n",
            "96/96 [==============================] - 0s 3ms/step - loss: 0.5858 - accuracy: 0.7408\n",
            "Epoch 62/100\n",
            "96/96 [==============================] - 0s 3ms/step - loss: 0.7085 - accuracy: 0.7303\n",
            "Epoch 63/100\n",
            "96/96 [==============================] - 0s 3ms/step - loss: 0.6375 - accuracy: 0.7375\n",
            "Epoch 64/100\n",
            "96/96 [==============================] - 0s 3ms/step - loss: 0.5639 - accuracy: 0.7487\n",
            "Epoch 65/100\n",
            "96/96 [==============================] - 0s 3ms/step - loss: 0.6482 - accuracy: 0.7290\n",
            "Epoch 66/100\n",
            "96/96 [==============================] - 0s 3ms/step - loss: 0.7371 - accuracy: 0.7280\n",
            "Epoch 67/100\n",
            "96/96 [==============================] - 0s 3ms/step - loss: 0.5803 - accuracy: 0.7474\n",
            "Epoch 68/100\n",
            "96/96 [==============================] - 0s 3ms/step - loss: 0.6554 - accuracy: 0.7320\n",
            "Epoch 69/100\n",
            "96/96 [==============================] - 0s 3ms/step - loss: 0.6580 - accuracy: 0.7421\n",
            "Epoch 70/100\n",
            "96/96 [==============================] - 0s 5ms/step - loss: 0.5390 - accuracy: 0.7529\n",
            "Epoch 71/100\n",
            "96/96 [==============================] - 0s 5ms/step - loss: 0.5711 - accuracy: 0.7448\n",
            "Epoch 72/100\n",
            "96/96 [==============================] - 0s 5ms/step - loss: 0.6082 - accuracy: 0.7369\n",
            "Epoch 73/100\n",
            "96/96 [==============================] - 1s 11ms/step - loss: 0.5152 - accuracy: 0.7566\n",
            "Epoch 74/100\n",
            "96/96 [==============================] - 1s 10ms/step - loss: 0.6012 - accuracy: 0.7398\n",
            "Epoch 75/100\n",
            "96/96 [==============================] - 1s 5ms/step - loss: 0.6045 - accuracy: 0.7333\n",
            "Epoch 76/100\n",
            "96/96 [==============================] - 1s 6ms/step - loss: 0.6341 - accuracy: 0.7402\n",
            "Epoch 77/100\n",
            "96/96 [==============================] - 0s 5ms/step - loss: 0.6155 - accuracy: 0.7392\n",
            "Epoch 78/100\n",
            "96/96 [==============================] - 0s 3ms/step - loss: 0.5591 - accuracy: 0.7454\n",
            "Epoch 79/100\n",
            "96/96 [==============================] - 1s 6ms/step - loss: 0.5333 - accuracy: 0.7533\n",
            "Epoch 80/100\n",
            "96/96 [==============================] - 1s 6ms/step - loss: 0.6061 - accuracy: 0.7457\n",
            "Epoch 81/100\n",
            "96/96 [==============================] - 0s 3ms/step - loss: 0.5828 - accuracy: 0.7415\n",
            "Epoch 82/100\n",
            "96/96 [==============================] - 0s 3ms/step - loss: 0.5050 - accuracy: 0.7621\n",
            "Epoch 83/100\n",
            "96/96 [==============================] - 0s 3ms/step - loss: 0.5733 - accuracy: 0.7454\n",
            "Epoch 84/100\n",
            "96/96 [==============================] - 0s 3ms/step - loss: 0.5328 - accuracy: 0.7523\n",
            "Epoch 85/100\n",
            "96/96 [==============================] - 0s 3ms/step - loss: 0.5541 - accuracy: 0.7559\n",
            "Epoch 86/100\n",
            "96/96 [==============================] - 0s 3ms/step - loss: 0.5581 - accuracy: 0.7474\n",
            "Epoch 87/100\n",
            "96/96 [==============================] - 0s 3ms/step - loss: 0.6300 - accuracy: 0.7418\n",
            "Epoch 88/100\n",
            "96/96 [==============================] - 0s 3ms/step - loss: 0.6088 - accuracy: 0.7372\n",
            "Epoch 89/100\n",
            "96/96 [==============================] - 0s 3ms/step - loss: 0.5096 - accuracy: 0.7615\n",
            "Epoch 90/100\n",
            "96/96 [==============================] - 0s 3ms/step - loss: 0.5555 - accuracy: 0.7405\n",
            "Epoch 91/100\n",
            "96/96 [==============================] - 0s 3ms/step - loss: 0.5142 - accuracy: 0.7598\n",
            "Epoch 92/100\n",
            "96/96 [==============================] - 0s 3ms/step - loss: 0.5481 - accuracy: 0.7566\n",
            "Epoch 93/100\n",
            "96/96 [==============================] - 0s 3ms/step - loss: 0.5613 - accuracy: 0.7464\n",
            "Epoch 94/100\n",
            "96/96 [==============================] - 0s 3ms/step - loss: 0.5343 - accuracy: 0.7539\n",
            "Epoch 95/100\n",
            "96/96 [==============================] - 0s 3ms/step - loss: 0.5721 - accuracy: 0.7418\n",
            "Epoch 96/100\n",
            "96/96 [==============================] - 0s 3ms/step - loss: 0.5167 - accuracy: 0.7536\n",
            "Epoch 97/100\n",
            "96/96 [==============================] - 0s 3ms/step - loss: 0.8287 - accuracy: 0.7081\n",
            "Epoch 98/100\n",
            "96/96 [==============================] - 0s 3ms/step - loss: 0.5977 - accuracy: 0.7556\n",
            "Epoch 99/100\n",
            "96/96 [==============================] - 0s 3ms/step - loss: 0.6227 - accuracy: 0.7415\n",
            "Epoch 100/100\n",
            "96/96 [==============================] - 0s 3ms/step - loss: 0.6526 - accuracy: 0.7389\n"
          ]
        },
        {
          "output_type": "execute_result",
          "data": {
            "text/plain": [
              "<keras.callbacks.History at 0x7ff9ca783f40>"
            ]
          },
          "metadata": {},
          "execution_count": 42
        }
      ],
      "source": [
        "#from xgboost import XGBClassifier\n",
        "import tensorflow as tf\n",
        "ann=tf.keras.models.Sequential()\n",
        "ann.add(tf.keras.layers.Dense(units=6,activation=\"relu\"))\n",
        "ann.add(tf.keras.layers.Dense(units=6,activation=\"relu\"))\n",
        "ann.add(tf.keras.layers.Dense(units=1,activation=\"sigmoid\"))\n",
        "ann.compile(optimizer=\"adam\",loss=\"binary_crossentropy\",metrics=['accuracy'])\n",
        "ann.fit(X_train,y_train,batch_size=32,epochs=100)"
      ]
    },
    {
      "cell_type": "code",
      "execution_count": null,
      "metadata": {
        "id": "_GAcoQdchn-I",
        "colab": {
          "base_uri": "https://localhost:8080/"
        },
        "outputId": "6c592526-56c6-47ce-cf96-8e1852dbe20b"
      },
      "outputs": [
        {
          "output_type": "stream",
          "name": "stdout",
          "text": [
            "96/96 [==============================] - 0s 2ms/step - loss: 0.7551 - accuracy: 0.6140\n",
            "[0.7551214098930359, 0.6140235662460327]\n",
            "41/41 [==============================] - 0s 4ms/step - loss: 0.7511 - accuracy: 0.6310\n",
            "[0.7510619163513184, 0.6310160160064697]\n"
          ]
        }
      ],
      "source": [
        "print(ann.evaluate(X_train, y_train))\n",
        "print(ann.evaluate(X_test, y_test))"
      ]
    },
    {
      "cell_type": "code",
      "execution_count": null,
      "metadata": {
        "id": "8xetUBv2lzCc"
      },
      "outputs": [],
      "source": [
        "# validation_generator = test_datagen.flow_from_directory(test_data_path,target_size=(img_rows, img_cols),\n",
        "#                                                         batch_size=batch_size,\n",
        "#                                                         class_mode='categorical')\n"
      ]
    },
    {
      "cell_type": "code",
      "execution_count": null,
      "metadata": {
        "id": "1JH_pYZlhn-J",
        "colab": {
          "base_uri": "https://localhost:8080/",
          "height": 466
        },
        "outputId": "5e4fcc06-9c03-4a6d-bc4b-7c738028c98d"
      },
      "outputs": [
        {
          "output_type": "stream",
          "name": "stdout",
          "text": [
            "41/41 [==============================] - 0s 2ms/step\n"
          ]
        },
        {
          "output_type": "display_data",
          "data": {
            "text/plain": [
              "<Figure size 640x480 with 2 Axes>"
            ],
            "image/png": "[encoded data removed]"
          },
          "metadata": {}
        }
      ],
      "source": [
        "y_pred = ann.predict(X_test)\n",
        "y_pred = np.where(y_pred > 0.5, 1, 0)\n",
        "import matplotlib.pyplot as plt\n",
        "from sklearn.metrics import confusion_matrix\n",
        "from sklearn.metrics import ConfusionMatrixDisplay\n",
        "\n",
        "cm = confusion_matrix(y_test, y_pred)\n",
        "cm2 = ConfusionMatrixDisplay(confusion_matrix=cm)\n",
        "cm2.plot()\n",
        "plt.show()"
      ]
    },
    {
      "cell_type": "code",
      "execution_count": null,
      "metadata": {
        "id": "1hESZ5skhn-J",
        "colab": {
          "base_uri": "https://localhost:8080/"
        },
        "outputId": "22b3f767-f57a-4533-afe3-48a761d00cbc"
      },
      "outputs": [
        {
          "output_type": "stream",
          "name": "stdout",
          "text": [
            "Accuracy: 0.631\n",
            "precision: 0.906\n",
            "recall: 0.568\n",
            "f1: 0.631\n"
          ]
        }
      ],
      "source": [
        "from sklearn.metrics import precision_score, accuracy_score, recall_score, f1_score\n",
        "\n",
        "print(f\"Accuracy: {round(accuracy_score(y_test, y_pred),3)}\")\n",
        "print(f\"precision: {round(precision_score(y_test, y_pred),3)}\")\n",
        "print(f\"recall: {round(recall_score(y_test, y_pred),3)}\")\n",
        "print(f\"f1: {round(accuracy_score(y_test, y_pred), 3)}\")"
      ]
    },
    {
      "cell_type": "markdown",
      "metadata": {
        "id": "YMc0zF99hpum"
      },
      "source": [
        "Naive Byes"
      ]
    },
    {
      "cell_type": "code",
      "execution_count": null,
      "metadata": {
        "id": "EbY_wGjBhpun",
        "colab": {
          "base_uri": "https://localhost:8080/",
          "height": 75
        },
        "outputId": "1b671741-965d-48bd-88d3-7424d8885a7f"
      },
      "outputs": [
        {
          "output_type": "execute_result",
          "data": {
            "text/plain": [
              "GaussianNB()"
            ],
            "text/html": [
              "<style>#sk-container-id-6 {color: black;background-color: white;}#sk-container-id-6 pre{padding: 0;}#sk-container-id-6 div.sk-toggleable {background-color: white;}#sk-container-id-6 label.sk-toggleable__label {cursor: pointer;display: block;width: 100%;margin-bottom: 0;padding: 0.3em;box-sizing: border-box;text-align: center;}#sk-container-id-6 label.sk-toggleable__label-arrow:before {content: \"▸\";float: left;margin-right: 0.25em;color: #696969;}#sk-container-id-6 label.sk-toggleable__label-arrow:hover:before {color: black;}#sk-container-id-6 div.sk-estimator:hover label.sk-toggleable__label-arrow:before {color: black;}#sk-container-id-6 div.sk-toggleable__content {max-height: 0;max-width: 0;overflow: hidden;text-align: left;background-color: #f0f8ff;}#sk-container-id-6 div.sk-toggleable__content pre {margin: 0.2em;color: black;border-radius: 0.25em;background-color: #f0f8ff;}#sk-container-id-6 input.sk-toggleable__control:checked~div.sk-toggleable__content {max-height: 200px;max-width: 100%;overflow: auto;}#sk-container-id-6 input.sk-toggleable__control:checked~label.sk-toggleable__label-arrow:before {content: \"▾\";}#sk-container-id-6 div.sk-estimator input.sk-toggleable__control:checked~label.sk-toggleable__label {background-color: #d4ebff;}#sk-container-id-6 div.sk-label input.sk-toggleable__control:checked~label.sk-toggleable__label {background-color: #d4ebff;}#sk-container-id-6 input.sk-hidden--visually {border: 0;clip: rect(1px 1px 1px 1px);clip: rect(1px, 1px, 1px, 1px);height: 1px;margin: -1px;overflow: hidden;padding: 0;position: absolute;width: 1px;}#sk-container-id-6 div.sk-estimator {font-family: monospace;background-color: #f0f8ff;border: 1px dotted black;border-radius: 0.25em;box-sizing: border-box;margin-bottom: 0.5em;}#sk-container-id-6 div.sk-estimator:hover {background-color: #d4ebff;}#sk-container-id-6 div.sk-parallel-item::after {content: \"\";width: 100%;border-bottom: 1px solid gray;flex-grow: 1;}#sk-container-id-6 div.sk-label:hover label.sk-toggleable__label {background-color: #d4ebff;}#sk-container-id-6 div.sk-serial::before {content: \"\";position: absolute;border-left: 1px solid gray;box-sizing: border-box;top: 0;bottom: 0;left: 50%;z-index: 0;}#sk-container-id-6 div.sk-serial {display: flex;flex-direction: column;align-items: center;background-color: white;padding-right: 0.2em;padding-left: 0.2em;position: relative;}#sk-container-id-6 div.sk-item {position: relative;z-index: 1;}#sk-container-id-6 div.sk-parallel {display: flex;align-items: stretch;justify-content: center;background-color: white;position: relative;}#sk-container-id-6 div.sk-item::before, #sk-container-id-6 div.sk-parallel-item::before {content: \"\";position: absolute;border-left: 1px solid gray;box-sizing: border-box;top: 0;bottom: 0;left: 50%;z-index: -1;}#sk-container-id-6 div.sk-parallel-item {display: flex;flex-direction: column;z-index: 1;position: relative;background-color: white;}#sk-container-id-6 div.sk-parallel-item:first-child::after {align-self: flex-end;width: 50%;}#sk-container-id-6 div.sk-parallel-item:last-child::after {align-self: flex-start;width: 50%;}#sk-container-id-6 div.sk-parallel-item:only-child::after {width: 0;}#sk-container-id-6 div.sk-dashed-wrapped {border: 1px dashed gray;margin: 0 0.4em 0.5em 0.4em;box-sizing: border-box;padding-bottom: 0.4em;background-color: white;}#sk-container-id-6 div.sk-label label {font-family: monospace;font-weight: bold;display: inline-block;line-height: 1.2em;}#sk-container-id-6 div.sk-label-container {text-align: center;}#sk-container-id-6 div.sk-container {/* jupyter's `normalize.less` sets `[hidden] { display: none; }` but bootstrap.min.css set `[hidden] { display: none !important; }` so we also need the `!important` here to be able to override the default hidden behavior on the sphinx rendered scikit-learn.org. See: https://github.com/scikit-learn/scikit-learn/issues/21755 */display: inline-block !important;position: relative;}#sk-container-id-6 div.sk-text-repr-fallback {display: none;}</style><div id=\"sk-container-id-6\" class=\"sk-top-container\"><div class=\"sk-text-repr-fallback\"><pre>GaussianNB()</pre><b>In a Jupyter environment, please rerun this cell to show the HTML representation or trust the notebook. <br />On GitHub, the HTML representation is unable to render, please try loading this page with nbviewer.org.</b></div><div class=\"sk-container\" hidden><div class=\"sk-item\"><div class=\"sk-estimator sk-toggleable\"><input class=\"sk-toggleable__control sk-hidden--visually\" id=\"sk-estimator-id-6\" type=\"checkbox\" checked><label for=\"sk-estimator-id-6\" class=\"sk-toggleable__label sk-toggleable__label-arrow\">GaussianNB</label><div class=\"sk-toggleable__content\"><pre>GaussianNB()</pre></div></div></div></div></div>"
            ]
          },
          "metadata": {},
          "execution_count": 47
        }
      ],
      "source": [
        "from sklearn.naive_bayes  import GaussianNB\n",
        "nb=GaussianNB()\n",
        "nb.fit(X_train,y_train)"
      ]
    },
    {
      "cell_type": "code",
      "execution_count": null,
      "metadata": {
        "id": "n98t9wfAhpuo",
        "colab": {
          "base_uri": "https://localhost:8080/"
        },
        "outputId": "10134c46-2d8e-4d4a-d255-a40bc2b9bc59"
      },
      "outputs": [
        {
          "output_type": "stream",
          "name": "stdout",
          "text": [
            "0.8312581913499345\n",
            "0.8212375859434683\n"
          ]
        }
      ],
      "source": [
        "print(nb.score(X_train, y_train))\n",
        "print(nb.score(X_test, y_test))"
      ]
    },
    {
      "cell_type": "code",
      "execution_count": null,
      "metadata": {
        "id": "pYDAfdKAhpuo",
        "colab": {
          "base_uri": "https://localhost:8080/",
          "height": 449
        },
        "outputId": "9ab5bc0b-5127-4060-f773-709b89d99f8a"
      },
      "outputs": [
        {
          "output_type": "display_data",
          "data": {
            "text/plain": [
              "<Figure size 640x480 with 2 Axes>"
            ],
            "image/png": "[encoded data removed]"
          },
          "metadata": {}
        }
      ],
      "source": [
        "y_pred = nb.predict(X_test)\n",
        "import matplotlib.pyplot as plt\n",
        "from sklearn.metrics import confusion_matrix\n",
        "from sklearn.metrics import ConfusionMatrixDisplay\n",
        "\n",
        "cm = confusion_matrix(y_test, y_pred)\n",
        "cm2 = ConfusionMatrixDisplay(confusion_matrix=cm)\n",
        "cm2.plot()\n",
        "plt.show()"
      ]
    },
    {
      "cell_type": "code",
      "execution_count": null,
      "metadata": {
        "id": "S0_tk3Lnhpup",
        "colab": {
          "base_uri": "https://localhost:8080/"
        },
        "outputId": "efcb467b-6ea8-4c4b-9d79-5b2c22052e20"
      },
      "outputs": [
        {
          "output_type": "stream",
          "name": "stdout",
          "text": [
            "Accuracy: 0.821\n",
            "precision: 0.898\n",
            "recall: 0.86\n",
            "f1: 0.821\n"
          ]
        }
      ],
      "source": [
        "from sklearn.metrics import precision_score, accuracy_score, recall_score, f1_score\n",
        "\n",
        "print(f\"Accuracy: {round(accuracy_score(y_test, y_pred),3)}\")\n",
        "print(f\"precision: {round(precision_score(y_test, y_pred),3)}\")\n",
        "print(f\"recall: {round(recall_score(y_test, y_pred),3)}\")\n",
        "print(f\"f1: {round(accuracy_score(y_test, y_pred), 3)}\")"
      ]
    },
    {
      "cell_type": "markdown",
      "metadata": {
        "id": "LJeT8FsjnQGY"
      },
      "source": [
        "CATBOOST"
      ]
    },
    {
      "cell_type": "code",
      "execution_count": null,
      "metadata": {
        "colab": {
          "base_uri": "https://localhost:8080/"
        },
        "id": "CatrqHF1nQGd",
        "outputId": "5f033152-9c46-4269-fb1b-f12c80716157"
      },
      "outputs": [
        {
          "output_type": "stream",
          "name": "stdout",
          "text": [
            "Looking in indexes: https://pypi.org/simple, https://us-python.pkg.dev/colab-wheels/public/simple/\n",
            "Collecting catboost\n",
            "  Downloading catboost-1.1.1-cp39-none-manylinux1_x86_64.whl (76.6 MB)\n",
            "\u001b[2K     \u001b[90m━━━━━━━━━━━━━━━━━━━━━━━━━━━━━━━━━━━━━━━━\u001b[0m \u001b[32m76.6/76.6 MB\u001b[0m \u001b[31m13.3 MB/s\u001b[0m eta \u001b[36m0:00:00\u001b[0m\n",
            "\u001b[?25hRequirement already satisfied: scipy in /usr/local/lib/python3.9/dist-packages (from catboost) (1.10.1)\n",
            "Requirement already satisfied: matplotlib in /usr/local/lib/python3.9/dist-packages (from catboost) (3.7.1)\n",
            "Requirement already satisfied: numpy>=1.16.0 in /usr/local/lib/python3.9/dist-packages (from catboost) (1.22.4)\n",
            "Requirement already satisfied: six in /usr/local/lib/python3.9/dist-packages (from catboost) (1.16.0)\n",
            "Requirement already satisfied: plotly in /usr/local/lib/python3.9/dist-packages (from catboost) (5.13.1)\n",
            "Requirement already satisfied: graphviz in /usr/local/lib/python3.9/dist-packages (from catboost) (0.20.1)\n",
            "Requirement already satisfied: pandas>=0.24.0 in /usr/local/lib/python3.9/dist-packages (from catboost) (1.5.3)\n",
            "Requirement already satisfied: pytz>=2020.1 in /usr/local/lib/python3.9/dist-packages (from pandas>=0.24.0->catboost) (2022.7.1)\n",
            "Requirement already satisfied: python-dateutil>=2.8.1 in /usr/local/lib/python3.9/dist-packages (from pandas>=0.24.0->catboost) (2.8.2)\n",
            "Requirement already satisfied: fonttools>=4.22.0 in /usr/local/lib/python3.9/dist-packages (from matplotlib->catboost) (4.39.3)\n",
            "Requirement already satisfied: contourpy>=1.0.1 in /usr/local/lib/python3.9/dist-packages (from matplotlib->catboost) (1.0.7)\n",
            "Requirement already satisfied: pyparsing>=2.3.1 in /usr/local/lib/python3.9/dist-packages (from matplotlib->catboost) (3.0.9)\n",
            "Requirement already satisfied: kiwisolver>=1.0.1 in /usr/local/lib/python3.9/dist-packages (from matplotlib->catboost) (1.4.4)\n",
            "Requirement already satisfied: packaging>=20.0 in /usr/local/lib/python3.9/dist-packages (from matplotlib->catboost) (23.1)\n",
            "Requirement already satisfied: importlib-resources>=3.2.0 in /usr/local/lib/python3.9/dist-packages (from matplotlib->catboost) (5.12.0)\n",
            "Requirement already satisfied: cycler>=0.10 in /usr/local/lib/python3.9/dist-packages (from matplotlib->catboost) (0.11.0)\n",
            "Requirement already satisfied: pillow>=6.2.0 in /usr/local/lib/python3.9/dist-packages (from matplotlib->catboost) (8.4.0)\n",
            "Requirement already satisfied: tenacity>=6.2.0 in /usr/local/lib/python3.9/dist-packages (from plotly->catboost) (8.2.2)\n",
            "Requirement already satisfied: zipp>=3.1.0 in /usr/local/lib/python3.9/dist-packages (from importlib-resources>=3.2.0->matplotlib->catboost) (3.15.0)\n",
            "Installing collected packages: catboost\n",
            "Successfully installed catboost-1.1.1\n"
          ]
        }
      ],
      "source": [
        "# !pip install\n",
        "!pip install catboost\n",
        "from catboost  import CatBoostClassifier"
      ]
    },
    {
      "cell_type": "code",
      "execution_count": null,
      "metadata": {
        "colab": {
          "base_uri": "https://localhost:8080/"
        },
        "id": "HixOh8mGtf-6",
        "outputId": "801f1e09-630b-44d7-a749-e5de84d0c063"
      },
      "outputs": [
        {
          "output_type": "stream",
          "name": "stdout",
          "text": [
            "Learning rate set to 0.01659\n",
            "0:\tlearn: 0.6650060\ttotal: 50.6ms\tremaining: 50.5s\n",
            "1:\tlearn: 0.6406797\ttotal: 54ms\tremaining: 26.9s\n",
            "2:\tlearn: 0.6209904\ttotal: 57.2ms\tremaining: 19s\n",
            "3:\tlearn: 0.5974459\ttotal: 60.5ms\tremaining: 15.1s\n",
            "4:\tlearn: 0.5815895\ttotal: 63.7ms\tremaining: 12.7s\n",
            "5:\tlearn: 0.5623203\ttotal: 67.1ms\tremaining: 11.1s\n",
            "6:\tlearn: 0.5438014\ttotal: 70.4ms\tremaining: 9.98s\n",
            "7:\tlearn: 0.5255376\ttotal: 74ms\tremaining: 9.18s\n",
            "8:\tlearn: 0.5087245\ttotal: 77.4ms\tremaining: 8.52s\n",
            "9:\tlearn: 0.4943908\ttotal: 84.4ms\tremaining: 8.36s\n",
            "10:\tlearn: 0.4811911\ttotal: 94.3ms\tremaining: 8.48s\n",
            "11:\tlearn: 0.4648820\ttotal: 97.3ms\tremaining: 8.02s\n",
            "12:\tlearn: 0.4500509\ttotal: 100ms\tremaining: 7.63s\n",
            "13:\tlearn: 0.4353624\ttotal: 103ms\tremaining: 7.29s\n",
            "14:\tlearn: 0.4237210\ttotal: 107ms\tremaining: 7s\n",
            "15:\tlearn: 0.4113268\ttotal: 110ms\tremaining: 6.75s\n",
            "16:\tlearn: 0.4001057\ttotal: 113ms\tremaining: 6.53s\n",
            "17:\tlearn: 0.3900242\ttotal: 116ms\tremaining: 6.34s\n",
            "18:\tlearn: 0.3801420\ttotal: 119ms\tremaining: 6.17s\n",
            "19:\tlearn: 0.3695905\ttotal: 123ms\tremaining: 6.02s\n",
            "20:\tlearn: 0.3601194\ttotal: 126ms\tremaining: 5.88s\n",
            "21:\tlearn: 0.3530091\ttotal: 129ms\tremaining: 5.75s\n",
            "22:\tlearn: 0.3435447\ttotal: 133ms\tremaining: 5.65s\n",
            "23:\tlearn: 0.3352441\ttotal: 138ms\tremaining: 5.61s\n",
            "24:\tlearn: 0.3272164\ttotal: 144ms\tremaining: 5.6s\n",
            "25:\tlearn: 0.3191388\ttotal: 147ms\tremaining: 5.5s\n",
            "26:\tlearn: 0.3131950\ttotal: 150ms\tremaining: 5.41s\n",
            "27:\tlearn: 0.3056524\ttotal: 154ms\tremaining: 5.33s\n",
            "28:\tlearn: 0.2988435\ttotal: 157ms\tremaining: 5.25s\n",
            "29:\tlearn: 0.2933738\ttotal: 160ms\tremaining: 5.18s\n",
            "30:\tlearn: 0.2878038\ttotal: 164ms\tremaining: 5.12s\n",
            "31:\tlearn: 0.2824092\ttotal: 167ms\tremaining: 5.06s\n",
            "32:\tlearn: 0.2767933\ttotal: 170ms\tremaining: 4.99s\n",
            "33:\tlearn: 0.2717707\ttotal: 174ms\tremaining: 4.93s\n",
            "34:\tlearn: 0.2664541\ttotal: 177ms\tremaining: 4.88s\n",
            "35:\tlearn: 0.2622252\ttotal: 180ms\tremaining: 4.83s\n",
            "36:\tlearn: 0.2578362\ttotal: 184ms\tremaining: 4.78s\n",
            "37:\tlearn: 0.2533207\ttotal: 187ms\tremaining: 4.74s\n",
            "38:\tlearn: 0.2500553\ttotal: 190ms\tremaining: 4.69s\n",
            "39:\tlearn: 0.2461858\ttotal: 194ms\tremaining: 4.64s\n",
            "40:\tlearn: 0.2427285\ttotal: 200ms\tremaining: 4.67s\n",
            "41:\tlearn: 0.2388556\ttotal: 203ms\tremaining: 4.63s\n",
            "42:\tlearn: 0.2353542\ttotal: 206ms\tremaining: 4.59s\n",
            "43:\tlearn: 0.2321603\ttotal: 210ms\tremaining: 4.56s\n",
            "44:\tlearn: 0.2288713\ttotal: 213ms\tremaining: 4.53s\n",
            "45:\tlearn: 0.2260305\ttotal: 217ms\tremaining: 4.5s\n",
            "46:\tlearn: 0.2231365\ttotal: 220ms\tremaining: 4.46s\n",
            "47:\tlearn: 0.2207547\ttotal: 224ms\tremaining: 4.44s\n",
            "48:\tlearn: 0.2183324\ttotal: 227ms\tremaining: 4.41s\n",
            "49:\tlearn: 0.2158653\ttotal: 230ms\tremaining: 4.38s\n",
            "50:\tlearn: 0.2129527\ttotal: 234ms\tremaining: 4.35s\n",
            "51:\tlearn: 0.2109491\ttotal: 237ms\tremaining: 4.32s\n",
            "52:\tlearn: 0.2084912\ttotal: 240ms\tremaining: 4.3s\n",
            "53:\tlearn: 0.2061580\ttotal: 244ms\tremaining: 4.27s\n",
            "54:\tlearn: 0.2036001\ttotal: 249ms\tremaining: 4.28s\n",
            "55:\tlearn: 0.2021018\ttotal: 253ms\tremaining: 4.26s\n",
            "56:\tlearn: 0.2003441\ttotal: 256ms\tremaining: 4.24s\n",
            "57:\tlearn: 0.1985311\ttotal: 259ms\tremaining: 4.21s\n",
            "58:\tlearn: 0.1972285\ttotal: 263ms\tremaining: 4.19s\n",
            "59:\tlearn: 0.1955250\ttotal: 266ms\tremaining: 4.16s\n",
            "60:\tlearn: 0.1937283\ttotal: 269ms\tremaining: 4.15s\n",
            "61:\tlearn: 0.1916250\ttotal: 273ms\tremaining: 4.13s\n",
            "62:\tlearn: 0.1899365\ttotal: 276ms\tremaining: 4.11s\n",
            "63:\tlearn: 0.1882203\ttotal: 279ms\tremaining: 4.08s\n",
            "64:\tlearn: 0.1864995\ttotal: 283ms\tremaining: 4.06s\n",
            "65:\tlearn: 0.1849680\ttotal: 286ms\tremaining: 4.05s\n",
            "66:\tlearn: 0.1832806\ttotal: 289ms\tremaining: 4.03s\n",
            "67:\tlearn: 0.1820014\ttotal: 293ms\tremaining: 4.01s\n",
            "68:\tlearn: 0.1806331\ttotal: 296ms\tremaining: 3.99s\n",
            "69:\tlearn: 0.1791640\ttotal: 299ms\tremaining: 3.98s\n",
            "70:\tlearn: 0.1782845\ttotal: 303ms\tremaining: 3.96s\n",
            "71:\tlearn: 0.1772847\ttotal: 306ms\tremaining: 3.94s\n",
            "72:\tlearn: 0.1760300\ttotal: 309ms\tremaining: 3.93s\n",
            "73:\tlearn: 0.1752460\ttotal: 312ms\tremaining: 3.91s\n",
            "74:\tlearn: 0.1740892\ttotal: 316ms\tremaining: 3.89s\n",
            "75:\tlearn: 0.1728478\ttotal: 319ms\tremaining: 3.88s\n",
            "76:\tlearn: 0.1718486\ttotal: 322ms\tremaining: 3.86s\n",
            "77:\tlearn: 0.1709272\ttotal: 326ms\tremaining: 3.85s\n",
            "78:\tlearn: 0.1699660\ttotal: 329ms\tremaining: 3.84s\n",
            "79:\tlearn: 0.1690817\ttotal: 332ms\tremaining: 3.82s\n",
            "80:\tlearn: 0.1681257\ttotal: 336ms\tremaining: 3.81s\n",
            "81:\tlearn: 0.1673450\ttotal: 339ms\tremaining: 3.79s\n",
            "82:\tlearn: 0.1666192\ttotal: 342ms\tremaining: 3.78s\n",
            "83:\tlearn: 0.1657759\ttotal: 346ms\tremaining: 3.77s\n",
            "84:\tlearn: 0.1648487\ttotal: 349ms\tremaining: 3.76s\n",
            "85:\tlearn: 0.1640375\ttotal: 352ms\tremaining: 3.74s\n",
            "86:\tlearn: 0.1633111\ttotal: 357ms\tremaining: 3.74s\n",
            "87:\tlearn: 0.1626595\ttotal: 360ms\tremaining: 3.73s\n",
            "88:\tlearn: 0.1618359\ttotal: 363ms\tremaining: 3.72s\n",
            "89:\tlearn: 0.1611843\ttotal: 368ms\tremaining: 3.72s\n",
            "90:\tlearn: 0.1606693\ttotal: 374ms\tremaining: 3.74s\n",
            "91:\tlearn: 0.1601430\ttotal: 378ms\tremaining: 3.73s\n",
            "92:\tlearn: 0.1595127\ttotal: 382ms\tremaining: 3.72s\n",
            "93:\tlearn: 0.1589011\ttotal: 385ms\tremaining: 3.71s\n",
            "94:\tlearn: 0.1583917\ttotal: 388ms\tremaining: 3.7s\n",
            "95:\tlearn: 0.1577356\ttotal: 392ms\tremaining: 3.69s\n",
            "96:\tlearn: 0.1572478\ttotal: 396ms\tremaining: 3.69s\n",
            "97:\tlearn: 0.1566693\ttotal: 400ms\tremaining: 3.68s\n",
            "98:\tlearn: 0.1559249\ttotal: 403ms\tremaining: 3.67s\n",
            "99:\tlearn: 0.1553417\ttotal: 407ms\tremaining: 3.66s\n",
            "100:\tlearn: 0.1547335\ttotal: 410ms\tremaining: 3.65s\n",
            "101:\tlearn: 0.1541261\ttotal: 413ms\tremaining: 3.64s\n",
            "102:\tlearn: 0.1534230\ttotal: 417ms\tremaining: 3.63s\n",
            "103:\tlearn: 0.1528461\ttotal: 420ms\tremaining: 3.62s\n",
            "104:\tlearn: 0.1523713\ttotal: 423ms\tremaining: 3.61s\n",
            "105:\tlearn: 0.1519634\ttotal: 427ms\tremaining: 3.6s\n",
            "106:\tlearn: 0.1514687\ttotal: 430ms\tremaining: 3.59s\n",
            "107:\tlearn: 0.1509327\ttotal: 433ms\tremaining: 3.58s\n",
            "108:\tlearn: 0.1505721\ttotal: 439ms\tremaining: 3.59s\n",
            "109:\tlearn: 0.1501458\ttotal: 443ms\tremaining: 3.58s\n",
            "110:\tlearn: 0.1495883\ttotal: 446ms\tremaining: 3.57s\n",
            "111:\tlearn: 0.1489557\ttotal: 450ms\tremaining: 3.56s\n",
            "112:\tlearn: 0.1483841\ttotal: 453ms\tremaining: 3.56s\n",
            "113:\tlearn: 0.1480201\ttotal: 456ms\tremaining: 3.54s\n",
            "114:\tlearn: 0.1477093\ttotal: 459ms\tremaining: 3.54s\n",
            "115:\tlearn: 0.1472855\ttotal: 463ms\tremaining: 3.52s\n",
            "116:\tlearn: 0.1468518\ttotal: 466ms\tremaining: 3.52s\n",
            "117:\tlearn: 0.1463963\ttotal: 469ms\tremaining: 3.51s\n",
            "118:\tlearn: 0.1459548\ttotal: 473ms\tremaining: 3.5s\n",
            "119:\tlearn: 0.1455254\ttotal: 476ms\tremaining: 3.49s\n",
            "120:\tlearn: 0.1451286\ttotal: 480ms\tremaining: 3.48s\n",
            "121:\tlearn: 0.1448151\ttotal: 483ms\tremaining: 3.48s\n",
            "122:\tlearn: 0.1443109\ttotal: 487ms\tremaining: 3.47s\n",
            "123:\tlearn: 0.1439583\ttotal: 490ms\tremaining: 3.46s\n",
            "124:\tlearn: 0.1434589\ttotal: 493ms\tremaining: 3.45s\n",
            "125:\tlearn: 0.1430854\ttotal: 497ms\tremaining: 3.44s\n",
            "126:\tlearn: 0.1427534\ttotal: 500ms\tremaining: 3.44s\n",
            "127:\tlearn: 0.1424040\ttotal: 503ms\tremaining: 3.43s\n",
            "128:\tlearn: 0.1419332\ttotal: 507ms\tremaining: 3.42s\n",
            "129:\tlearn: 0.1416521\ttotal: 510ms\tremaining: 3.41s\n",
            "130:\tlearn: 0.1412955\ttotal: 513ms\tremaining: 3.41s\n",
            "131:\tlearn: 0.1407935\ttotal: 517ms\tremaining: 3.4s\n",
            "132:\tlearn: 0.1403912\ttotal: 520ms\tremaining: 3.39s\n",
            "133:\tlearn: 0.1401113\ttotal: 523ms\tremaining: 3.38s\n",
            "134:\tlearn: 0.1397772\ttotal: 527ms\tremaining: 3.37s\n",
            "135:\tlearn: 0.1393479\ttotal: 530ms\tremaining: 3.37s\n",
            "136:\tlearn: 0.1389453\ttotal: 533ms\tremaining: 3.36s\n",
            "137:\tlearn: 0.1386202\ttotal: 536ms\tremaining: 3.35s\n",
            "138:\tlearn: 0.1383434\ttotal: 540ms\tremaining: 3.34s\n",
            "139:\tlearn: 0.1381029\ttotal: 543ms\tremaining: 3.33s\n",
            "140:\tlearn: 0.1377313\ttotal: 546ms\tremaining: 3.33s\n",
            "141:\tlearn: 0.1374890\ttotal: 549ms\tremaining: 3.32s\n",
            "142:\tlearn: 0.1371413\ttotal: 552ms\tremaining: 3.31s\n",
            "143:\tlearn: 0.1367935\ttotal: 555ms\tremaining: 3.3s\n",
            "144:\tlearn: 0.1365743\ttotal: 559ms\tremaining: 3.29s\n",
            "145:\tlearn: 0.1362884\ttotal: 562ms\tremaining: 3.29s\n",
            "146:\tlearn: 0.1360049\ttotal: 567ms\tremaining: 3.29s\n",
            "147:\tlearn: 0.1357156\ttotal: 574ms\tremaining: 3.3s\n",
            "148:\tlearn: 0.1354339\ttotal: 582ms\tremaining: 3.32s\n",
            "149:\tlearn: 0.1351108\ttotal: 588ms\tremaining: 3.33s\n",
            "150:\tlearn: 0.1349200\ttotal: 592ms\tremaining: 3.33s\n",
            "151:\tlearn: 0.1345203\ttotal: 596ms\tremaining: 3.33s\n",
            "152:\tlearn: 0.1343069\ttotal: 599ms\tremaining: 3.32s\n",
            "153:\tlearn: 0.1339641\ttotal: 602ms\tremaining: 3.31s\n",
            "154:\tlearn: 0.1336980\ttotal: 605ms\tremaining: 3.3s\n",
            "155:\tlearn: 0.1335019\ttotal: 608ms\tremaining: 3.29s\n",
            "156:\tlearn: 0.1332452\ttotal: 612ms\tremaining: 3.28s\n",
            "157:\tlearn: 0.1329450\ttotal: 615ms\tremaining: 3.28s\n",
            "158:\tlearn: 0.1327278\ttotal: 619ms\tremaining: 3.27s\n",
            "159:\tlearn: 0.1324512\ttotal: 622ms\tremaining: 3.26s\n",
            "160:\tlearn: 0.1321588\ttotal: 625ms\tremaining: 3.26s\n",
            "161:\tlearn: 0.1317867\ttotal: 629ms\tremaining: 3.25s\n",
            "162:\tlearn: 0.1314811\ttotal: 635ms\tremaining: 3.26s\n",
            "163:\tlearn: 0.1312878\ttotal: 638ms\tremaining: 3.25s\n",
            "164:\tlearn: 0.1310641\ttotal: 642ms\tremaining: 3.25s\n",
            "165:\tlearn: 0.1308529\ttotal: 645ms\tremaining: 3.24s\n",
            "166:\tlearn: 0.1306712\ttotal: 648ms\tremaining: 3.23s\n",
            "167:\tlearn: 0.1304555\ttotal: 652ms\tremaining: 3.23s\n",
            "168:\tlearn: 0.1301156\ttotal: 655ms\tremaining: 3.22s\n",
            "169:\tlearn: 0.1298300\ttotal: 658ms\tremaining: 3.21s\n",
            "170:\tlearn: 0.1295000\ttotal: 662ms\tremaining: 3.21s\n",
            "171:\tlearn: 0.1291918\ttotal: 665ms\tremaining: 3.2s\n",
            "172:\tlearn: 0.1290545\ttotal: 668ms\tremaining: 3.19s\n",
            "173:\tlearn: 0.1288136\ttotal: 672ms\tremaining: 3.19s\n",
            "174:\tlearn: 0.1286410\ttotal: 675ms\tremaining: 3.18s\n",
            "175:\tlearn: 0.1284205\ttotal: 678ms\tremaining: 3.17s\n",
            "176:\tlearn: 0.1281102\ttotal: 681ms\tremaining: 3.17s\n",
            "177:\tlearn: 0.1278330\ttotal: 685ms\tremaining: 3.16s\n",
            "178:\tlearn: 0.1276037\ttotal: 688ms\tremaining: 3.15s\n",
            "179:\tlearn: 0.1273672\ttotal: 691ms\tremaining: 3.15s\n",
            "180:\tlearn: 0.1271412\ttotal: 695ms\tremaining: 3.14s\n",
            "181:\tlearn: 0.1268970\ttotal: 698ms\tremaining: 3.14s\n",
            "182:\tlearn: 0.1266707\ttotal: 701ms\tremaining: 3.13s\n",
            "183:\tlearn: 0.1265178\ttotal: 705ms\tremaining: 3.12s\n",
            "184:\tlearn: 0.1262711\ttotal: 708ms\tremaining: 3.12s\n",
            "185:\tlearn: 0.1260520\ttotal: 711ms\tremaining: 3.11s\n",
            "186:\tlearn: 0.1259257\ttotal: 715ms\tremaining: 3.11s\n",
            "187:\tlearn: 0.1256257\ttotal: 718ms\tremaining: 3.1s\n",
            "188:\tlearn: 0.1254492\ttotal: 721ms\tremaining: 3.09s\n",
            "189:\tlearn: 0.1251949\ttotal: 725ms\tremaining: 3.09s\n",
            "190:\tlearn: 0.1250278\ttotal: 729ms\tremaining: 3.09s\n",
            "191:\tlearn: 0.1248482\ttotal: 732ms\tremaining: 3.08s\n",
            "192:\tlearn: 0.1246521\ttotal: 735ms\tremaining: 3.07s\n",
            "193:\tlearn: 0.1245110\ttotal: 738ms\tremaining: 3.07s\n",
            "194:\tlearn: 0.1242818\ttotal: 742ms\tremaining: 3.06s\n",
            "195:\tlearn: 0.1241065\ttotal: 746ms\tremaining: 3.06s\n",
            "196:\tlearn: 0.1239982\ttotal: 750ms\tremaining: 3.06s\n",
            "197:\tlearn: 0.1237685\ttotal: 753ms\tremaining: 3.05s\n",
            "198:\tlearn: 0.1235471\ttotal: 756ms\tremaining: 3.04s\n",
            "199:\tlearn: 0.1232378\ttotal: 760ms\tremaining: 3.04s\n",
            "200:\tlearn: 0.1230604\ttotal: 763ms\tremaining: 3.03s\n",
            "201:\tlearn: 0.1229265\ttotal: 766ms\tremaining: 3.03s\n",
            "202:\tlearn: 0.1227619\ttotal: 770ms\tremaining: 3.02s\n",
            "203:\tlearn: 0.1225725\ttotal: 773ms\tremaining: 3.02s\n",
            "204:\tlearn: 0.1224092\ttotal: 776ms\tremaining: 3.01s\n",
            "205:\tlearn: 0.1222209\ttotal: 780ms\tremaining: 3s\n",
            "206:\tlearn: 0.1220851\ttotal: 783ms\tremaining: 3s\n",
            "207:\tlearn: 0.1218674\ttotal: 789ms\tremaining: 3s\n",
            "208:\tlearn: 0.1216560\ttotal: 792ms\tremaining: 3s\n",
            "209:\tlearn: 0.1214561\ttotal: 796ms\tremaining: 2.99s\n",
            "210:\tlearn: 0.1212698\ttotal: 799ms\tremaining: 2.99s\n",
            "211:\tlearn: 0.1210634\ttotal: 802ms\tremaining: 2.98s\n",
            "212:\tlearn: 0.1209446\ttotal: 806ms\tremaining: 2.98s\n",
            "213:\tlearn: 0.1208091\ttotal: 809ms\tremaining: 2.97s\n",
            "214:\tlearn: 0.1204915\ttotal: 812ms\tremaining: 2.96s\n",
            "215:\tlearn: 0.1203276\ttotal: 815ms\tremaining: 2.96s\n",
            "216:\tlearn: 0.1201861\ttotal: 819ms\tremaining: 2.95s\n",
            "217:\tlearn: 0.1200850\ttotal: 822ms\tremaining: 2.95s\n",
            "218:\tlearn: 0.1199583\ttotal: 825ms\tremaining: 2.94s\n",
            "219:\tlearn: 0.1198555\ttotal: 831ms\tremaining: 2.94s\n",
            "220:\tlearn: 0.1197897\ttotal: 835ms\tremaining: 2.94s\n",
            "221:\tlearn: 0.1196707\ttotal: 838ms\tremaining: 2.94s\n",
            "222:\tlearn: 0.1194221\ttotal: 841ms\tremaining: 2.93s\n",
            "223:\tlearn: 0.1191761\ttotal: 845ms\tremaining: 2.92s\n",
            "224:\tlearn: 0.1190152\ttotal: 848ms\tremaining: 2.92s\n",
            "225:\tlearn: 0.1188510\ttotal: 851ms\tremaining: 2.91s\n",
            "226:\tlearn: 0.1187444\ttotal: 854ms\tremaining: 2.91s\n",
            "227:\tlearn: 0.1185240\ttotal: 857ms\tremaining: 2.9s\n",
            "228:\tlearn: 0.1183505\ttotal: 861ms\tremaining: 2.9s\n",
            "229:\tlearn: 0.1182035\ttotal: 864ms\tremaining: 2.89s\n",
            "230:\tlearn: 0.1180507\ttotal: 867ms\tremaining: 2.89s\n",
            "231:\tlearn: 0.1178947\ttotal: 870ms\tremaining: 2.88s\n",
            "232:\tlearn: 0.1177835\ttotal: 873ms\tremaining: 2.88s\n",
            "233:\tlearn: 0.1176157\ttotal: 877ms\tremaining: 2.87s\n",
            "234:\tlearn: 0.1173977\ttotal: 880ms\tremaining: 2.86s\n",
            "235:\tlearn: 0.1172106\ttotal: 883ms\tremaining: 2.86s\n",
            "236:\tlearn: 0.1171101\ttotal: 888ms\tremaining: 2.86s\n",
            "237:\tlearn: 0.1169746\ttotal: 892ms\tremaining: 2.85s\n",
            "238:\tlearn: 0.1168509\ttotal: 895ms\tremaining: 2.85s\n",
            "239:\tlearn: 0.1166569\ttotal: 898ms\tremaining: 2.84s\n",
            "240:\tlearn: 0.1164607\ttotal: 902ms\tremaining: 2.84s\n",
            "241:\tlearn: 0.1163738\ttotal: 905ms\tremaining: 2.83s\n",
            "242:\tlearn: 0.1161714\ttotal: 908ms\tremaining: 2.83s\n",
            "243:\tlearn: 0.1161040\ttotal: 911ms\tremaining: 2.82s\n",
            "244:\tlearn: 0.1158835\ttotal: 915ms\tremaining: 2.82s\n",
            "245:\tlearn: 0.1156787\ttotal: 918ms\tremaining: 2.81s\n",
            "246:\tlearn: 0.1155639\ttotal: 921ms\tremaining: 2.81s\n",
            "247:\tlearn: 0.1154347\ttotal: 924ms\tremaining: 2.8s\n",
            "248:\tlearn: 0.1152794\ttotal: 928ms\tremaining: 2.8s\n",
            "249:\tlearn: 0.1150692\ttotal: 931ms\tremaining: 2.79s\n",
            "250:\tlearn: 0.1149068\ttotal: 936ms\tremaining: 2.79s\n",
            "251:\tlearn: 0.1147532\ttotal: 939ms\tremaining: 2.79s\n",
            "252:\tlearn: 0.1145870\ttotal: 942ms\tremaining: 2.78s\n",
            "253:\tlearn: 0.1144670\ttotal: 945ms\tremaining: 2.78s\n",
            "254:\tlearn: 0.1143131\ttotal: 949ms\tremaining: 2.77s\n",
            "255:\tlearn: 0.1140986\ttotal: 952ms\tremaining: 2.77s\n",
            "256:\tlearn: 0.1140169\ttotal: 955ms\tremaining: 2.76s\n",
            "257:\tlearn: 0.1139685\ttotal: 958ms\tremaining: 2.76s\n",
            "258:\tlearn: 0.1138294\ttotal: 962ms\tremaining: 2.75s\n",
            "259:\tlearn: 0.1137210\ttotal: 965ms\tremaining: 2.75s\n",
            "260:\tlearn: 0.1135546\ttotal: 968ms\tremaining: 2.74s\n",
            "261:\tlearn: 0.1133927\ttotal: 971ms\tremaining: 2.73s\n",
            "262:\tlearn: 0.1132723\ttotal: 976ms\tremaining: 2.73s\n",
            "263:\tlearn: 0.1130825\ttotal: 979ms\tremaining: 2.73s\n",
            "264:\tlearn: 0.1129488\ttotal: 982ms\tremaining: 2.72s\n",
            "265:\tlearn: 0.1127958\ttotal: 989ms\tremaining: 2.73s\n",
            "266:\tlearn: 0.1126581\ttotal: 992ms\tremaining: 2.72s\n",
            "267:\tlearn: 0.1125180\ttotal: 995ms\tremaining: 2.72s\n",
            "268:\tlearn: 0.1123560\ttotal: 998ms\tremaining: 2.71s\n",
            "269:\tlearn: 0.1122594\ttotal: 1s\tremaining: 2.71s\n",
            "270:\tlearn: 0.1121584\ttotal: 1s\tremaining: 2.7s\n",
            "271:\tlearn: 0.1119407\ttotal: 1.01s\tremaining: 2.7s\n",
            "272:\tlearn: 0.1118695\ttotal: 1.01s\tremaining: 2.69s\n",
            "273:\tlearn: 0.1116392\ttotal: 1.01s\tremaining: 2.69s\n",
            "274:\tlearn: 0.1114087\ttotal: 1.02s\tremaining: 2.68s\n",
            "275:\tlearn: 0.1112516\ttotal: 1.02s\tremaining: 2.68s\n",
            "276:\tlearn: 0.1111028\ttotal: 1.04s\tremaining: 2.72s\n",
            "277:\tlearn: 0.1109873\ttotal: 1.05s\tremaining: 2.74s\n",
            "278:\tlearn: 0.1107599\ttotal: 1.07s\tremaining: 2.75s\n",
            "279:\tlearn: 0.1106348\ttotal: 1.08s\tremaining: 2.77s\n",
            "280:\tlearn: 0.1104048\ttotal: 1.08s\tremaining: 2.77s\n",
            "281:\tlearn: 0.1102533\ttotal: 1.09s\tremaining: 2.78s\n",
            "282:\tlearn: 0.1100715\ttotal: 1.11s\tremaining: 2.81s\n",
            "283:\tlearn: 0.1099514\ttotal: 1.12s\tremaining: 2.82s\n",
            "284:\tlearn: 0.1098510\ttotal: 1.12s\tremaining: 2.82s\n",
            "285:\tlearn: 0.1096911\ttotal: 1.13s\tremaining: 2.83s\n",
            "286:\tlearn: 0.1094793\ttotal: 1.15s\tremaining: 2.85s\n",
            "287:\tlearn: 0.1093364\ttotal: 1.16s\tremaining: 2.86s\n",
            "288:\tlearn: 0.1092493\ttotal: 1.17s\tremaining: 2.87s\n",
            "289:\tlearn: 0.1091521\ttotal: 1.18s\tremaining: 2.88s\n",
            "290:\tlearn: 0.1090647\ttotal: 1.19s\tremaining: 2.91s\n",
            "291:\tlearn: 0.1089387\ttotal: 1.2s\tremaining: 2.92s\n",
            "292:\tlearn: 0.1086848\ttotal: 1.21s\tremaining: 2.92s\n",
            "293:\tlearn: 0.1085928\ttotal: 1.22s\tremaining: 2.94s\n",
            "294:\tlearn: 0.1084546\ttotal: 1.23s\tremaining: 2.94s\n",
            "295:\tlearn: 0.1083464\ttotal: 1.25s\tremaining: 2.99s\n",
            "296:\tlearn: 0.1082033\ttotal: 1.26s\tremaining: 2.98s\n",
            "297:\tlearn: 0.1080562\ttotal: 1.26s\tremaining: 2.98s\n",
            "298:\tlearn: 0.1079584\ttotal: 1.27s\tremaining: 2.97s\n",
            "299:\tlearn: 0.1078129\ttotal: 1.27s\tremaining: 2.97s\n",
            "300:\tlearn: 0.1076262\ttotal: 1.28s\tremaining: 2.96s\n",
            "301:\tlearn: 0.1075724\ttotal: 1.28s\tremaining: 2.96s\n",
            "302:\tlearn: 0.1075138\ttotal: 1.28s\tremaining: 2.95s\n",
            "303:\tlearn: 0.1074170\ttotal: 1.29s\tremaining: 2.95s\n",
            "304:\tlearn: 0.1073176\ttotal: 1.29s\tremaining: 2.94s\n",
            "305:\tlearn: 0.1072023\ttotal: 1.29s\tremaining: 2.94s\n",
            "306:\tlearn: 0.1070481\ttotal: 1.3s\tremaining: 2.93s\n",
            "307:\tlearn: 0.1069736\ttotal: 1.3s\tremaining: 2.93s\n",
            "308:\tlearn: 0.1068442\ttotal: 1.31s\tremaining: 2.92s\n",
            "309:\tlearn: 0.1066241\ttotal: 1.31s\tremaining: 2.92s\n",
            "310:\tlearn: 0.1064575\ttotal: 1.31s\tremaining: 2.91s\n",
            "311:\tlearn: 0.1063276\ttotal: 1.32s\tremaining: 2.91s\n",
            "312:\tlearn: 0.1061655\ttotal: 1.32s\tremaining: 2.9s\n",
            "313:\tlearn: 0.1061319\ttotal: 1.33s\tremaining: 2.9s\n",
            "314:\tlearn: 0.1060080\ttotal: 1.33s\tremaining: 2.89s\n",
            "315:\tlearn: 0.1058732\ttotal: 1.33s\tremaining: 2.89s\n",
            "316:\tlearn: 0.1057123\ttotal: 1.34s\tremaining: 2.88s\n",
            "317:\tlearn: 0.1055762\ttotal: 1.34s\tremaining: 2.88s\n",
            "318:\tlearn: 0.1054549\ttotal: 1.34s\tremaining: 2.87s\n",
            "319:\tlearn: 0.1053640\ttotal: 1.35s\tremaining: 2.88s\n",
            "320:\tlearn: 0.1051507\ttotal: 1.36s\tremaining: 2.89s\n",
            "321:\tlearn: 0.1050341\ttotal: 1.37s\tremaining: 2.88s\n",
            "322:\tlearn: 0.1048716\ttotal: 1.37s\tremaining: 2.87s\n",
            "323:\tlearn: 0.1047958\ttotal: 1.37s\tremaining: 2.87s\n",
            "324:\tlearn: 0.1046754\ttotal: 1.38s\tremaining: 2.86s\n",
            "325:\tlearn: 0.1046175\ttotal: 1.38s\tremaining: 2.85s\n",
            "326:\tlearn: 0.1045606\ttotal: 1.39s\tremaining: 2.85s\n",
            "327:\tlearn: 0.1043624\ttotal: 1.39s\tremaining: 2.85s\n",
            "328:\tlearn: 0.1042425\ttotal: 1.39s\tremaining: 2.84s\n",
            "329:\tlearn: 0.1041326\ttotal: 1.4s\tremaining: 2.83s\n",
            "330:\tlearn: 0.1040031\ttotal: 1.4s\tremaining: 2.83s\n",
            "331:\tlearn: 0.1038152\ttotal: 1.4s\tremaining: 2.82s\n",
            "332:\tlearn: 0.1036947\ttotal: 1.41s\tremaining: 2.82s\n",
            "333:\tlearn: 0.1035823\ttotal: 1.41s\tremaining: 2.81s\n",
            "334:\tlearn: 0.1035169\ttotal: 1.41s\tremaining: 2.8s\n",
            "335:\tlearn: 0.1034155\ttotal: 1.42s\tremaining: 2.8s\n",
            "336:\tlearn: 0.1032185\ttotal: 1.42s\tremaining: 2.79s\n",
            "337:\tlearn: 0.1030000\ttotal: 1.42s\tremaining: 2.79s\n",
            "338:\tlearn: 0.1028449\ttotal: 1.43s\tremaining: 2.78s\n",
            "339:\tlearn: 0.1027037\ttotal: 1.43s\tremaining: 2.77s\n",
            "340:\tlearn: 0.1025919\ttotal: 1.43s\tremaining: 2.77s\n",
            "341:\tlearn: 0.1024519\ttotal: 1.44s\tremaining: 2.76s\n",
            "342:\tlearn: 0.1022848\ttotal: 1.44s\tremaining: 2.76s\n",
            "343:\tlearn: 0.1021333\ttotal: 1.44s\tremaining: 2.75s\n",
            "344:\tlearn: 0.1020269\ttotal: 1.45s\tremaining: 2.75s\n",
            "345:\tlearn: 0.1019026\ttotal: 1.45s\tremaining: 2.75s\n",
            "346:\tlearn: 0.1017885\ttotal: 1.46s\tremaining: 2.74s\n",
            "347:\tlearn: 0.1015924\ttotal: 1.46s\tremaining: 2.74s\n",
            "348:\tlearn: 0.1014228\ttotal: 1.46s\tremaining: 2.73s\n",
            "349:\tlearn: 0.1013182\ttotal: 1.47s\tremaining: 2.73s\n",
            "350:\tlearn: 0.1012354\ttotal: 1.47s\tremaining: 2.72s\n",
            "351:\tlearn: 0.1011675\ttotal: 1.48s\tremaining: 2.72s\n",
            "352:\tlearn: 0.1009977\ttotal: 1.48s\tremaining: 2.71s\n",
            "353:\tlearn: 0.1008517\ttotal: 1.48s\tremaining: 2.71s\n",
            "354:\tlearn: 0.1007536\ttotal: 1.49s\tremaining: 2.7s\n",
            "355:\tlearn: 0.1006005\ttotal: 1.49s\tremaining: 2.69s\n",
            "356:\tlearn: 0.1004722\ttotal: 1.49s\tremaining: 2.69s\n",
            "357:\tlearn: 0.1002851\ttotal: 1.5s\tremaining: 2.68s\n",
            "358:\tlearn: 0.1000945\ttotal: 1.5s\tremaining: 2.68s\n",
            "359:\tlearn: 0.0999352\ttotal: 1.5s\tremaining: 2.67s\n",
            "360:\tlearn: 0.0998199\ttotal: 1.5s\tremaining: 2.66s\n",
            "361:\tlearn: 0.0997027\ttotal: 1.51s\tremaining: 2.66s\n",
            "362:\tlearn: 0.0996066\ttotal: 1.51s\tremaining: 2.65s\n",
            "363:\tlearn: 0.0995146\ttotal: 1.51s\tremaining: 2.65s\n",
            "364:\tlearn: 0.0993634\ttotal: 1.52s\tremaining: 2.64s\n",
            "365:\tlearn: 0.0992843\ttotal: 1.52s\tremaining: 2.64s\n",
            "366:\tlearn: 0.0992238\ttotal: 1.52s\tremaining: 2.63s\n",
            "367:\tlearn: 0.0991763\ttotal: 1.53s\tremaining: 2.63s\n",
            "368:\tlearn: 0.0990379\ttotal: 1.53s\tremaining: 2.62s\n",
            "369:\tlearn: 0.0989265\ttotal: 1.53s\tremaining: 2.61s\n",
            "370:\tlearn: 0.0988187\ttotal: 1.54s\tremaining: 2.61s\n",
            "371:\tlearn: 0.0987016\ttotal: 1.54s\tremaining: 2.6s\n",
            "372:\tlearn: 0.0985872\ttotal: 1.54s\tremaining: 2.6s\n",
            "373:\tlearn: 0.0984676\ttotal: 1.55s\tremaining: 2.59s\n",
            "374:\tlearn: 0.0983745\ttotal: 1.55s\tremaining: 2.58s\n",
            "375:\tlearn: 0.0982291\ttotal: 1.56s\tremaining: 2.58s\n",
            "376:\tlearn: 0.0981172\ttotal: 1.56s\tremaining: 2.58s\n",
            "377:\tlearn: 0.0980900\ttotal: 1.56s\tremaining: 2.57s\n",
            "378:\tlearn: 0.0979799\ttotal: 1.56s\tremaining: 2.56s\n",
            "379:\tlearn: 0.0978734\ttotal: 1.57s\tremaining: 2.56s\n",
            "380:\tlearn: 0.0978022\ttotal: 1.57s\tremaining: 2.55s\n",
            "381:\tlearn: 0.0976844\ttotal: 1.57s\tremaining: 2.55s\n",
            "382:\tlearn: 0.0975989\ttotal: 1.58s\tremaining: 2.54s\n",
            "383:\tlearn: 0.0975173\ttotal: 1.58s\tremaining: 2.54s\n",
            "384:\tlearn: 0.0974297\ttotal: 1.59s\tremaining: 2.54s\n",
            "385:\tlearn: 0.0973427\ttotal: 1.59s\tremaining: 2.53s\n",
            "386:\tlearn: 0.0972234\ttotal: 1.6s\tremaining: 2.53s\n",
            "387:\tlearn: 0.0970856\ttotal: 1.6s\tremaining: 2.52s\n",
            "388:\tlearn: 0.0969029\ttotal: 1.6s\tremaining: 2.52s\n",
            "389:\tlearn: 0.0967665\ttotal: 1.61s\tremaining: 2.51s\n",
            "390:\tlearn: 0.0967427\ttotal: 1.61s\tremaining: 2.51s\n",
            "391:\tlearn: 0.0965382\ttotal: 1.61s\tremaining: 2.5s\n",
            "392:\tlearn: 0.0964020\ttotal: 1.62s\tremaining: 2.5s\n",
            "393:\tlearn: 0.0963206\ttotal: 1.62s\tremaining: 2.49s\n",
            "394:\tlearn: 0.0962169\ttotal: 1.62s\tremaining: 2.49s\n",
            "395:\tlearn: 0.0960760\ttotal: 1.63s\tremaining: 2.48s\n",
            "396:\tlearn: 0.0959536\ttotal: 1.63s\tremaining: 2.48s\n",
            "397:\tlearn: 0.0958480\ttotal: 1.63s\tremaining: 2.47s\n",
            "398:\tlearn: 0.0957435\ttotal: 1.64s\tremaining: 2.47s\n",
            "399:\tlearn: 0.0957036\ttotal: 1.64s\tremaining: 2.46s\n",
            "400:\tlearn: 0.0955812\ttotal: 1.65s\tremaining: 2.46s\n",
            "401:\tlearn: 0.0955097\ttotal: 1.65s\tremaining: 2.46s\n",
            "402:\tlearn: 0.0953865\ttotal: 1.65s\tremaining: 2.45s\n",
            "403:\tlearn: 0.0953409\ttotal: 1.66s\tremaining: 2.44s\n",
            "404:\tlearn: 0.0952408\ttotal: 1.66s\tremaining: 2.44s\n",
            "405:\tlearn: 0.0950987\ttotal: 1.66s\tremaining: 2.43s\n",
            "406:\tlearn: 0.0949919\ttotal: 1.67s\tremaining: 2.43s\n",
            "407:\tlearn: 0.0948905\ttotal: 1.67s\tremaining: 2.42s\n",
            "408:\tlearn: 0.0948331\ttotal: 1.67s\tremaining: 2.42s\n",
            "409:\tlearn: 0.0947390\ttotal: 1.68s\tremaining: 2.41s\n",
            "410:\tlearn: 0.0946872\ttotal: 1.68s\tremaining: 2.41s\n",
            "411:\tlearn: 0.0945536\ttotal: 1.68s\tremaining: 2.4s\n",
            "412:\tlearn: 0.0944804\ttotal: 1.69s\tremaining: 2.4s\n",
            "413:\tlearn: 0.0943796\ttotal: 1.69s\tremaining: 2.39s\n",
            "414:\tlearn: 0.0943645\ttotal: 1.69s\tremaining: 2.39s\n",
            "415:\tlearn: 0.0942850\ttotal: 1.7s\tremaining: 2.38s\n",
            "416:\tlearn: 0.0941817\ttotal: 1.7s\tremaining: 2.38s\n",
            "417:\tlearn: 0.0940956\ttotal: 1.7s\tremaining: 2.37s\n",
            "418:\tlearn: 0.0939847\ttotal: 1.71s\tremaining: 2.37s\n",
            "419:\tlearn: 0.0938781\ttotal: 1.71s\tremaining: 2.36s\n",
            "420:\tlearn: 0.0937768\ttotal: 1.72s\tremaining: 2.36s\n",
            "421:\tlearn: 0.0936475\ttotal: 1.72s\tremaining: 2.35s\n",
            "422:\tlearn: 0.0935115\ttotal: 1.72s\tremaining: 2.35s\n",
            "423:\tlearn: 0.0934214\ttotal: 1.73s\tremaining: 2.34s\n",
            "424:\tlearn: 0.0932878\ttotal: 1.73s\tremaining: 2.34s\n",
            "425:\tlearn: 0.0931617\ttotal: 1.73s\tremaining: 2.33s\n",
            "426:\tlearn: 0.0930156\ttotal: 1.74s\tremaining: 2.33s\n",
            "427:\tlearn: 0.0928919\ttotal: 1.74s\tremaining: 2.32s\n",
            "428:\tlearn: 0.0927207\ttotal: 1.74s\tremaining: 2.32s\n",
            "429:\tlearn: 0.0926673\ttotal: 1.75s\tremaining: 2.31s\n",
            "430:\tlearn: 0.0925765\ttotal: 1.75s\tremaining: 2.31s\n",
            "431:\tlearn: 0.0925119\ttotal: 1.75s\tremaining: 2.3s\n",
            "432:\tlearn: 0.0923770\ttotal: 1.75s\tremaining: 2.3s\n",
            "433:\tlearn: 0.0922765\ttotal: 1.76s\tremaining: 2.29s\n",
            "434:\tlearn: 0.0921691\ttotal: 1.76s\tremaining: 2.29s\n",
            "435:\tlearn: 0.0920815\ttotal: 1.76s\tremaining: 2.28s\n",
            "436:\tlearn: 0.0919186\ttotal: 1.77s\tremaining: 2.28s\n",
            "437:\tlearn: 0.0918452\ttotal: 1.77s\tremaining: 2.27s\n",
            "438:\tlearn: 0.0917865\ttotal: 1.77s\tremaining: 2.27s\n",
            "439:\tlearn: 0.0916250\ttotal: 1.78s\tremaining: 2.27s\n",
            "440:\tlearn: 0.0915023\ttotal: 1.78s\tremaining: 2.26s\n",
            "441:\tlearn: 0.0913291\ttotal: 1.79s\tremaining: 2.26s\n",
            "442:\tlearn: 0.0912372\ttotal: 1.79s\tremaining: 2.25s\n",
            "443:\tlearn: 0.0911313\ttotal: 1.79s\tremaining: 2.25s\n",
            "444:\tlearn: 0.0910390\ttotal: 1.8s\tremaining: 2.24s\n",
            "445:\tlearn: 0.0909403\ttotal: 1.8s\tremaining: 2.24s\n",
            "446:\tlearn: 0.0908020\ttotal: 1.8s\tremaining: 2.23s\n",
            "447:\tlearn: 0.0907465\ttotal: 1.81s\tremaining: 2.23s\n",
            "448:\tlearn: 0.0906238\ttotal: 1.81s\tremaining: 2.22s\n",
            "449:\tlearn: 0.0905285\ttotal: 1.81s\tremaining: 2.22s\n",
            "450:\tlearn: 0.0904400\ttotal: 1.82s\tremaining: 2.21s\n",
            "451:\tlearn: 0.0903474\ttotal: 1.82s\tremaining: 2.21s\n",
            "452:\tlearn: 0.0902207\ttotal: 1.82s\tremaining: 2.2s\n",
            "453:\tlearn: 0.0900595\ttotal: 1.83s\tremaining: 2.2s\n",
            "454:\tlearn: 0.0899037\ttotal: 1.83s\tremaining: 2.19s\n",
            "455:\tlearn: 0.0898033\ttotal: 1.83s\tremaining: 2.19s\n",
            "456:\tlearn: 0.0897395\ttotal: 1.84s\tremaining: 2.18s\n",
            "457:\tlearn: 0.0896602\ttotal: 1.84s\tremaining: 2.18s\n",
            "458:\tlearn: 0.0896372\ttotal: 1.85s\tremaining: 2.18s\n",
            "459:\tlearn: 0.0895631\ttotal: 1.85s\tremaining: 2.17s\n",
            "460:\tlearn: 0.0894364\ttotal: 1.85s\tremaining: 2.17s\n",
            "461:\tlearn: 0.0892867\ttotal: 1.86s\tremaining: 2.16s\n",
            "462:\tlearn: 0.0891393\ttotal: 1.86s\tremaining: 2.16s\n",
            "463:\tlearn: 0.0890481\ttotal: 1.86s\tremaining: 2.15s\n",
            "464:\tlearn: 0.0889296\ttotal: 1.87s\tremaining: 2.15s\n",
            "465:\tlearn: 0.0888082\ttotal: 1.87s\tremaining: 2.14s\n",
            "466:\tlearn: 0.0887729\ttotal: 1.87s\tremaining: 2.14s\n",
            "467:\tlearn: 0.0887271\ttotal: 1.88s\tremaining: 2.13s\n",
            "468:\tlearn: 0.0886722\ttotal: 1.88s\tremaining: 2.13s\n",
            "469:\tlearn: 0.0886333\ttotal: 1.88s\tremaining: 2.12s\n",
            "470:\tlearn: 0.0884877\ttotal: 1.89s\tremaining: 2.12s\n",
            "471:\tlearn: 0.0883482\ttotal: 1.89s\tremaining: 2.11s\n",
            "472:\tlearn: 0.0883177\ttotal: 1.9s\tremaining: 2.12s\n",
            "473:\tlearn: 0.0882257\ttotal: 1.91s\tremaining: 2.12s\n",
            "474:\tlearn: 0.0881014\ttotal: 1.92s\tremaining: 2.12s\n",
            "475:\tlearn: 0.0879991\ttotal: 1.93s\tremaining: 2.12s\n",
            "476:\tlearn: 0.0879567\ttotal: 1.93s\tremaining: 2.12s\n",
            "477:\tlearn: 0.0878921\ttotal: 1.94s\tremaining: 2.12s\n",
            "478:\tlearn: 0.0877684\ttotal: 1.95s\tremaining: 2.12s\n",
            "479:\tlearn: 0.0876665\ttotal: 1.95s\tremaining: 2.11s\n",
            "480:\tlearn: 0.0875857\ttotal: 1.95s\tremaining: 2.11s\n",
            "481:\tlearn: 0.0874854\ttotal: 1.96s\tremaining: 2.1s\n",
            "482:\tlearn: 0.0874672\ttotal: 1.96s\tremaining: 2.1s\n",
            "483:\tlearn: 0.0873857\ttotal: 1.96s\tremaining: 2.09s\n",
            "484:\tlearn: 0.0872941\ttotal: 1.97s\tremaining: 2.09s\n",
            "485:\tlearn: 0.0871810\ttotal: 1.97s\tremaining: 2.08s\n",
            "486:\tlearn: 0.0870243\ttotal: 1.98s\tremaining: 2.08s\n",
            "487:\tlearn: 0.0869457\ttotal: 1.98s\tremaining: 2.08s\n",
            "488:\tlearn: 0.0868511\ttotal: 1.98s\tremaining: 2.07s\n",
            "489:\tlearn: 0.0867892\ttotal: 1.99s\tremaining: 2.07s\n",
            "490:\tlearn: 0.0867073\ttotal: 1.99s\tremaining: 2.06s\n",
            "491:\tlearn: 0.0865783\ttotal: 1.99s\tremaining: 2.06s\n",
            "492:\tlearn: 0.0864808\ttotal: 2s\tremaining: 2.05s\n",
            "493:\tlearn: 0.0863437\ttotal: 2s\tremaining: 2.05s\n",
            "494:\tlearn: 0.0863231\ttotal: 2s\tremaining: 2.04s\n",
            "495:\tlearn: 0.0861978\ttotal: 2.01s\tremaining: 2.04s\n",
            "496:\tlearn: 0.0860630\ttotal: 2.01s\tremaining: 2.04s\n",
            "497:\tlearn: 0.0860115\ttotal: 2.01s\tremaining: 2.03s\n",
            "498:\tlearn: 0.0859542\ttotal: 2.02s\tremaining: 2.02s\n",
            "499:\tlearn: 0.0858086\ttotal: 2.02s\tremaining: 2.02s\n",
            "500:\tlearn: 0.0857193\ttotal: 2.02s\tremaining: 2.02s\n",
            "501:\tlearn: 0.0855961\ttotal: 2.03s\tremaining: 2.01s\n",
            "502:\tlearn: 0.0855357\ttotal: 2.03s\tremaining: 2.01s\n",
            "503:\tlearn: 0.0854353\ttotal: 2.03s\tremaining: 2s\n",
            "504:\tlearn: 0.0853712\ttotal: 2.04s\tremaining: 2s\n",
            "505:\tlearn: 0.0852950\ttotal: 2.04s\tremaining: 1.99s\n",
            "506:\tlearn: 0.0851500\ttotal: 2.05s\tremaining: 1.99s\n",
            "507:\tlearn: 0.0850247\ttotal: 2.05s\tremaining: 1.98s\n",
            "508:\tlearn: 0.0849210\ttotal: 2.05s\tremaining: 1.98s\n",
            "509:\tlearn: 0.0848491\ttotal: 2.06s\tremaining: 1.98s\n",
            "510:\tlearn: 0.0847307\ttotal: 2.06s\tremaining: 1.97s\n",
            "511:\tlearn: 0.0846425\ttotal: 2.06s\tremaining: 1.97s\n",
            "512:\tlearn: 0.0845355\ttotal: 2.07s\tremaining: 1.96s\n",
            "513:\tlearn: 0.0843888\ttotal: 2.07s\tremaining: 1.96s\n",
            "514:\tlearn: 0.0843714\ttotal: 2.08s\tremaining: 1.96s\n",
            "515:\tlearn: 0.0843164\ttotal: 2.09s\tremaining: 1.96s\n",
            "516:\tlearn: 0.0842155\ttotal: 2.09s\tremaining: 1.95s\n",
            "517:\tlearn: 0.0841173\ttotal: 2.09s\tremaining: 1.95s\n",
            "518:\tlearn: 0.0840713\ttotal: 2.1s\tremaining: 1.94s\n",
            "519:\tlearn: 0.0839655\ttotal: 2.1s\tremaining: 1.94s\n",
            "520:\tlearn: 0.0838450\ttotal: 2.1s\tremaining: 1.93s\n",
            "521:\tlearn: 0.0837892\ttotal: 2.11s\tremaining: 1.93s\n",
            "522:\tlearn: 0.0837132\ttotal: 2.11s\tremaining: 1.93s\n",
            "523:\tlearn: 0.0836507\ttotal: 2.11s\tremaining: 1.92s\n",
            "524:\tlearn: 0.0836129\ttotal: 2.12s\tremaining: 1.92s\n",
            "525:\tlearn: 0.0835906\ttotal: 2.12s\tremaining: 1.91s\n",
            "526:\tlearn: 0.0835565\ttotal: 2.12s\tremaining: 1.91s\n",
            "527:\tlearn: 0.0834720\ttotal: 2.13s\tremaining: 1.9s\n",
            "528:\tlearn: 0.0833930\ttotal: 2.13s\tremaining: 1.9s\n",
            "529:\tlearn: 0.0832496\ttotal: 2.13s\tremaining: 1.89s\n",
            "530:\tlearn: 0.0832028\ttotal: 2.14s\tremaining: 1.89s\n",
            "531:\tlearn: 0.0831649\ttotal: 2.14s\tremaining: 1.88s\n",
            "532:\tlearn: 0.0830979\ttotal: 2.14s\tremaining: 1.88s\n",
            "533:\tlearn: 0.0830006\ttotal: 2.15s\tremaining: 1.87s\n",
            "534:\tlearn: 0.0829277\ttotal: 2.15s\tremaining: 1.87s\n",
            "535:\tlearn: 0.0828083\ttotal: 2.15s\tremaining: 1.86s\n",
            "536:\tlearn: 0.0827184\ttotal: 2.16s\tremaining: 1.86s\n",
            "537:\tlearn: 0.0826157\ttotal: 2.16s\tremaining: 1.85s\n",
            "538:\tlearn: 0.0825613\ttotal: 2.16s\tremaining: 1.85s\n",
            "539:\tlearn: 0.0824566\ttotal: 2.17s\tremaining: 1.84s\n",
            "540:\tlearn: 0.0823486\ttotal: 2.17s\tremaining: 1.84s\n",
            "541:\tlearn: 0.0822586\ttotal: 2.18s\tremaining: 1.84s\n",
            "542:\tlearn: 0.0821614\ttotal: 2.18s\tremaining: 1.83s\n",
            "543:\tlearn: 0.0820787\ttotal: 2.18s\tremaining: 1.83s\n",
            "544:\tlearn: 0.0820494\ttotal: 2.19s\tremaining: 1.82s\n",
            "545:\tlearn: 0.0819254\ttotal: 2.19s\tremaining: 1.82s\n",
            "546:\tlearn: 0.0818367\ttotal: 2.19s\tremaining: 1.82s\n",
            "547:\tlearn: 0.0817738\ttotal: 2.2s\tremaining: 1.81s\n",
            "548:\tlearn: 0.0816627\ttotal: 2.2s\tremaining: 1.81s\n",
            "549:\tlearn: 0.0816006\ttotal: 2.2s\tremaining: 1.8s\n",
            "550:\tlearn: 0.0815450\ttotal: 2.21s\tremaining: 1.8s\n",
            "551:\tlearn: 0.0814838\ttotal: 2.21s\tremaining: 1.79s\n",
            "552:\tlearn: 0.0814458\ttotal: 2.21s\tremaining: 1.79s\n",
            "553:\tlearn: 0.0813658\ttotal: 2.22s\tremaining: 1.78s\n",
            "554:\tlearn: 0.0813108\ttotal: 2.22s\tremaining: 1.78s\n",
            "555:\tlearn: 0.0812414\ttotal: 2.22s\tremaining: 1.77s\n",
            "556:\tlearn: 0.0812000\ttotal: 2.23s\tremaining: 1.77s\n",
            "557:\tlearn: 0.0811462\ttotal: 2.23s\tremaining: 1.77s\n",
            "558:\tlearn: 0.0810499\ttotal: 2.23s\tremaining: 1.76s\n",
            "559:\tlearn: 0.0809277\ttotal: 2.24s\tremaining: 1.76s\n",
            "560:\tlearn: 0.0808581\ttotal: 2.24s\tremaining: 1.75s\n",
            "561:\tlearn: 0.0808337\ttotal: 2.25s\tremaining: 1.75s\n",
            "562:\tlearn: 0.0807368\ttotal: 2.25s\tremaining: 1.75s\n",
            "563:\tlearn: 0.0806235\ttotal: 2.25s\tremaining: 1.74s\n",
            "564:\tlearn: 0.0805100\ttotal: 2.25s\tremaining: 1.74s\n",
            "565:\tlearn: 0.0804164\ttotal: 2.26s\tremaining: 1.73s\n",
            "566:\tlearn: 0.0803601\ttotal: 2.26s\tremaining: 1.73s\n",
            "567:\tlearn: 0.0803106\ttotal: 2.26s\tremaining: 1.72s\n",
            "568:\tlearn: 0.0802464\ttotal: 2.27s\tremaining: 1.72s\n",
            "569:\tlearn: 0.0801947\ttotal: 2.27s\tremaining: 1.71s\n",
            "570:\tlearn: 0.0801781\ttotal: 2.27s\tremaining: 1.71s\n",
            "571:\tlearn: 0.0800377\ttotal: 2.28s\tremaining: 1.7s\n",
            "572:\tlearn: 0.0799635\ttotal: 2.28s\tremaining: 1.7s\n",
            "573:\tlearn: 0.0798605\ttotal: 2.28s\tremaining: 1.7s\n",
            "574:\tlearn: 0.0797564\ttotal: 2.29s\tremaining: 1.69s\n",
            "575:\tlearn: 0.0796645\ttotal: 2.29s\tremaining: 1.69s\n",
            "576:\tlearn: 0.0795868\ttotal: 2.29s\tremaining: 1.68s\n",
            "577:\tlearn: 0.0795262\ttotal: 2.3s\tremaining: 1.68s\n",
            "578:\tlearn: 0.0794266\ttotal: 2.3s\tremaining: 1.68s\n",
            "579:\tlearn: 0.0793242\ttotal: 2.31s\tremaining: 1.67s\n",
            "580:\tlearn: 0.0792440\ttotal: 2.31s\tremaining: 1.67s\n",
            "581:\tlearn: 0.0791594\ttotal: 2.32s\tremaining: 1.67s\n",
            "582:\tlearn: 0.0790798\ttotal: 2.32s\tremaining: 1.66s\n",
            "583:\tlearn: 0.0789736\ttotal: 2.33s\tremaining: 1.66s\n",
            "584:\tlearn: 0.0789222\ttotal: 2.33s\tremaining: 1.65s\n",
            "585:\tlearn: 0.0788981\ttotal: 2.33s\tremaining: 1.65s\n",
            "586:\tlearn: 0.0787907\ttotal: 2.33s\tremaining: 1.64s\n",
            "587:\tlearn: 0.0787209\ttotal: 2.34s\tremaining: 1.64s\n",
            "588:\tlearn: 0.0785687\ttotal: 2.34s\tremaining: 1.63s\n",
            "589:\tlearn: 0.0785014\ttotal: 2.34s\tremaining: 1.63s\n",
            "590:\tlearn: 0.0784633\ttotal: 2.35s\tremaining: 1.62s\n",
            "591:\tlearn: 0.0783659\ttotal: 2.35s\tremaining: 1.62s\n",
            "592:\tlearn: 0.0782688\ttotal: 2.35s\tremaining: 1.61s\n",
            "593:\tlearn: 0.0782079\ttotal: 2.36s\tremaining: 1.61s\n",
            "594:\tlearn: 0.0781615\ttotal: 2.36s\tremaining: 1.61s\n",
            "595:\tlearn: 0.0780696\ttotal: 2.36s\tremaining: 1.6s\n",
            "596:\tlearn: 0.0779815\ttotal: 2.37s\tremaining: 1.6s\n",
            "597:\tlearn: 0.0778940\ttotal: 2.37s\tremaining: 1.59s\n",
            "598:\tlearn: 0.0778498\ttotal: 2.38s\tremaining: 1.59s\n",
            "599:\tlearn: 0.0778225\ttotal: 2.38s\tremaining: 1.59s\n",
            "600:\tlearn: 0.0777505\ttotal: 2.38s\tremaining: 1.58s\n",
            "601:\tlearn: 0.0776995\ttotal: 2.39s\tremaining: 1.58s\n",
            "602:\tlearn: 0.0776223\ttotal: 2.39s\tremaining: 1.57s\n",
            "603:\tlearn: 0.0775825\ttotal: 2.39s\tremaining: 1.57s\n",
            "604:\tlearn: 0.0774743\ttotal: 2.4s\tremaining: 1.56s\n",
            "605:\tlearn: 0.0773653\ttotal: 2.4s\tremaining: 1.56s\n",
            "606:\tlearn: 0.0771961\ttotal: 2.4s\tremaining: 1.55s\n",
            "607:\tlearn: 0.0771279\ttotal: 2.41s\tremaining: 1.55s\n",
            "608:\tlearn: 0.0770650\ttotal: 2.41s\tremaining: 1.55s\n",
            "609:\tlearn: 0.0770143\ttotal: 2.41s\tremaining: 1.54s\n",
            "610:\tlearn: 0.0768234\ttotal: 2.42s\tremaining: 1.54s\n",
            "611:\tlearn: 0.0767592\ttotal: 2.42s\tremaining: 1.53s\n",
            "612:\tlearn: 0.0766750\ttotal: 2.42s\tremaining: 1.53s\n",
            "613:\tlearn: 0.0766014\ttotal: 2.43s\tremaining: 1.53s\n",
            "614:\tlearn: 0.0765566\ttotal: 2.43s\tremaining: 1.52s\n",
            "615:\tlearn: 0.0764266\ttotal: 2.44s\tremaining: 1.52s\n",
            "616:\tlearn: 0.0763696\ttotal: 2.44s\tremaining: 1.51s\n",
            "617:\tlearn: 0.0761649\ttotal: 2.44s\tremaining: 1.51s\n",
            "618:\tlearn: 0.0761141\ttotal: 2.45s\tremaining: 1.51s\n",
            "619:\tlearn: 0.0760930\ttotal: 2.45s\tremaining: 1.5s\n",
            "620:\tlearn: 0.0760127\ttotal: 2.45s\tremaining: 1.5s\n",
            "621:\tlearn: 0.0759388\ttotal: 2.46s\tremaining: 1.49s\n",
            "622:\tlearn: 0.0758434\ttotal: 2.46s\tremaining: 1.49s\n",
            "623:\tlearn: 0.0758060\ttotal: 2.46s\tremaining: 1.49s\n",
            "624:\tlearn: 0.0757469\ttotal: 2.47s\tremaining: 1.48s\n",
            "625:\tlearn: 0.0756371\ttotal: 2.47s\tremaining: 1.48s\n",
            "626:\tlearn: 0.0755578\ttotal: 2.47s\tremaining: 1.47s\n",
            "627:\tlearn: 0.0754959\ttotal: 2.48s\tremaining: 1.47s\n",
            "628:\tlearn: 0.0753598\ttotal: 2.48s\tremaining: 1.46s\n",
            "629:\tlearn: 0.0753327\ttotal: 2.48s\tremaining: 1.46s\n",
            "630:\tlearn: 0.0752682\ttotal: 2.49s\tremaining: 1.45s\n",
            "631:\tlearn: 0.0751783\ttotal: 2.49s\tremaining: 1.45s\n",
            "632:\tlearn: 0.0750870\ttotal: 2.49s\tremaining: 1.45s\n",
            "633:\tlearn: 0.0750592\ttotal: 2.5s\tremaining: 1.44s\n",
            "634:\tlearn: 0.0750112\ttotal: 2.5s\tremaining: 1.44s\n",
            "635:\tlearn: 0.0749015\ttotal: 2.5s\tremaining: 1.43s\n",
            "636:\tlearn: 0.0748607\ttotal: 2.51s\tremaining: 1.43s\n",
            "637:\tlearn: 0.0747741\ttotal: 2.51s\tremaining: 1.42s\n",
            "638:\tlearn: 0.0747210\ttotal: 2.51s\tremaining: 1.42s\n",
            "639:\tlearn: 0.0746725\ttotal: 2.52s\tremaining: 1.42s\n",
            "640:\tlearn: 0.0745253\ttotal: 2.52s\tremaining: 1.41s\n",
            "641:\tlearn: 0.0744220\ttotal: 2.52s\tremaining: 1.41s\n",
            "642:\tlearn: 0.0743387\ttotal: 2.53s\tremaining: 1.4s\n",
            "643:\tlearn: 0.0742654\ttotal: 2.53s\tremaining: 1.4s\n",
            "644:\tlearn: 0.0741715\ttotal: 2.53s\tremaining: 1.39s\n",
            "645:\tlearn: 0.0741013\ttotal: 2.54s\tremaining: 1.39s\n",
            "646:\tlearn: 0.0740033\ttotal: 2.54s\tremaining: 1.39s\n",
            "647:\tlearn: 0.0739187\ttotal: 2.54s\tremaining: 1.38s\n",
            "648:\tlearn: 0.0737509\ttotal: 2.54s\tremaining: 1.38s\n",
            "649:\tlearn: 0.0736724\ttotal: 2.55s\tremaining: 1.37s\n",
            "650:\tlearn: 0.0735617\ttotal: 2.55s\tremaining: 1.37s\n",
            "651:\tlearn: 0.0734527\ttotal: 2.56s\tremaining: 1.36s\n",
            "652:\tlearn: 0.0733914\ttotal: 2.56s\tremaining: 1.36s\n",
            "653:\tlearn: 0.0733430\ttotal: 2.57s\tremaining: 1.36s\n",
            "654:\tlearn: 0.0733089\ttotal: 2.58s\tremaining: 1.36s\n",
            "655:\tlearn: 0.0732384\ttotal: 2.58s\tremaining: 1.35s\n",
            "656:\tlearn: 0.0731984\ttotal: 2.58s\tremaining: 1.35s\n",
            "657:\tlearn: 0.0731554\ttotal: 2.58s\tremaining: 1.34s\n",
            "658:\tlearn: 0.0730876\ttotal: 2.59s\tremaining: 1.34s\n",
            "659:\tlearn: 0.0730401\ttotal: 2.59s\tremaining: 1.33s\n",
            "660:\tlearn: 0.0729694\ttotal: 2.6s\tremaining: 1.33s\n",
            "661:\tlearn: 0.0729288\ttotal: 2.6s\tremaining: 1.33s\n",
            "662:\tlearn: 0.0729194\ttotal: 2.6s\tremaining: 1.32s\n",
            "663:\tlearn: 0.0728294\ttotal: 2.6s\tremaining: 1.32s\n",
            "664:\tlearn: 0.0727703\ttotal: 2.61s\tremaining: 1.31s\n",
            "665:\tlearn: 0.0727253\ttotal: 2.61s\tremaining: 1.31s\n",
            "666:\tlearn: 0.0726094\ttotal: 2.61s\tremaining: 1.3s\n",
            "667:\tlearn: 0.0725535\ttotal: 2.62s\tremaining: 1.3s\n",
            "668:\tlearn: 0.0724654\ttotal: 2.62s\tremaining: 1.3s\n",
            "669:\tlearn: 0.0723683\ttotal: 2.62s\tremaining: 1.29s\n",
            "670:\tlearn: 0.0722734\ttotal: 2.63s\tremaining: 1.29s\n",
            "671:\tlearn: 0.0721621\ttotal: 2.63s\tremaining: 1.28s\n",
            "672:\tlearn: 0.0720867\ttotal: 2.64s\tremaining: 1.28s\n",
            "673:\tlearn: 0.0720266\ttotal: 2.64s\tremaining: 1.28s\n",
            "674:\tlearn: 0.0719498\ttotal: 2.64s\tremaining: 1.27s\n",
            "675:\tlearn: 0.0719001\ttotal: 2.65s\tremaining: 1.27s\n",
            "676:\tlearn: 0.0718227\ttotal: 2.65s\tremaining: 1.26s\n",
            "677:\tlearn: 0.0717786\ttotal: 2.65s\tremaining: 1.26s\n",
            "678:\tlearn: 0.0716629\ttotal: 2.66s\tremaining: 1.26s\n",
            "679:\tlearn: 0.0715538\ttotal: 2.66s\tremaining: 1.25s\n",
            "680:\tlearn: 0.0714957\ttotal: 2.66s\tremaining: 1.25s\n",
            "681:\tlearn: 0.0712936\ttotal: 2.67s\tremaining: 1.24s\n",
            "682:\tlearn: 0.0712208\ttotal: 2.67s\tremaining: 1.24s\n",
            "683:\tlearn: 0.0711784\ttotal: 2.67s\tremaining: 1.24s\n",
            "684:\tlearn: 0.0711109\ttotal: 2.68s\tremaining: 1.23s\n",
            "685:\tlearn: 0.0710616\ttotal: 2.68s\tremaining: 1.23s\n",
            "686:\tlearn: 0.0709606\ttotal: 2.68s\tremaining: 1.22s\n",
            "687:\tlearn: 0.0709205\ttotal: 2.69s\tremaining: 1.22s\n",
            "688:\tlearn: 0.0709063\ttotal: 2.69s\tremaining: 1.21s\n",
            "689:\tlearn: 0.0708100\ttotal: 2.69s\tremaining: 1.21s\n",
            "690:\tlearn: 0.0707598\ttotal: 2.7s\tremaining: 1.21s\n",
            "691:\tlearn: 0.0706506\ttotal: 2.7s\tremaining: 1.2s\n",
            "692:\tlearn: 0.0705281\ttotal: 2.7s\tremaining: 1.2s\n",
            "693:\tlearn: 0.0703363\ttotal: 2.71s\tremaining: 1.19s\n",
            "694:\tlearn: 0.0702986\ttotal: 2.71s\tremaining: 1.19s\n",
            "695:\tlearn: 0.0702491\ttotal: 2.71s\tremaining: 1.19s\n",
            "696:\tlearn: 0.0701545\ttotal: 2.72s\tremaining: 1.18s\n",
            "697:\tlearn: 0.0700546\ttotal: 2.72s\tremaining: 1.18s\n",
            "698:\tlearn: 0.0700064\ttotal: 2.73s\tremaining: 1.17s\n",
            "699:\tlearn: 0.0699698\ttotal: 2.73s\tremaining: 1.17s\n",
            "700:\tlearn: 0.0698822\ttotal: 2.73s\tremaining: 1.17s\n",
            "701:\tlearn: 0.0697858\ttotal: 2.73s\tremaining: 1.16s\n",
            "702:\tlearn: 0.0697142\ttotal: 2.74s\tremaining: 1.16s\n",
            "703:\tlearn: 0.0696781\ttotal: 2.74s\tremaining: 1.15s\n",
            "704:\tlearn: 0.0696607\ttotal: 2.75s\tremaining: 1.15s\n",
            "705:\tlearn: 0.0695857\ttotal: 2.75s\tremaining: 1.15s\n",
            "706:\tlearn: 0.0695644\ttotal: 2.75s\tremaining: 1.14s\n",
            "707:\tlearn: 0.0695108\ttotal: 2.76s\tremaining: 1.14s\n",
            "708:\tlearn: 0.0694059\ttotal: 2.76s\tremaining: 1.13s\n",
            "709:\tlearn: 0.0693532\ttotal: 2.76s\tremaining: 1.13s\n",
            "710:\tlearn: 0.0692379\ttotal: 2.77s\tremaining: 1.13s\n",
            "711:\tlearn: 0.0691799\ttotal: 2.77s\tremaining: 1.12s\n",
            "712:\tlearn: 0.0691140\ttotal: 2.78s\tremaining: 1.12s\n",
            "713:\tlearn: 0.0690627\ttotal: 2.78s\tremaining: 1.11s\n",
            "714:\tlearn: 0.0689814\ttotal: 2.78s\tremaining: 1.11s\n",
            "715:\tlearn: 0.0689072\ttotal: 2.79s\tremaining: 1.1s\n",
            "716:\tlearn: 0.0688425\ttotal: 2.79s\tremaining: 1.1s\n",
            "717:\tlearn: 0.0687270\ttotal: 2.79s\tremaining: 1.1s\n",
            "718:\tlearn: 0.0686676\ttotal: 2.8s\tremaining: 1.09s\n",
            "719:\tlearn: 0.0686626\ttotal: 2.8s\tremaining: 1.09s\n",
            "720:\tlearn: 0.0686014\ttotal: 2.81s\tremaining: 1.09s\n",
            "721:\tlearn: 0.0684683\ttotal: 2.81s\tremaining: 1.08s\n",
            "722:\tlearn: 0.0684585\ttotal: 2.81s\tremaining: 1.08s\n",
            "723:\tlearn: 0.0682877\ttotal: 2.82s\tremaining: 1.07s\n",
            "724:\tlearn: 0.0681814\ttotal: 2.82s\tremaining: 1.07s\n",
            "725:\tlearn: 0.0681691\ttotal: 2.84s\tremaining: 1.07s\n",
            "726:\tlearn: 0.0680874\ttotal: 2.85s\tremaining: 1.07s\n",
            "727:\tlearn: 0.0680090\ttotal: 2.86s\tremaining: 1.07s\n",
            "728:\tlearn: 0.0679013\ttotal: 2.87s\tremaining: 1.07s\n",
            "729:\tlearn: 0.0678461\ttotal: 2.88s\tremaining: 1.06s\n",
            "730:\tlearn: 0.0677720\ttotal: 2.89s\tremaining: 1.06s\n",
            "731:\tlearn: 0.0676917\ttotal: 2.91s\tremaining: 1.07s\n",
            "732:\tlearn: 0.0676144\ttotal: 2.92s\tremaining: 1.06s\n",
            "733:\tlearn: 0.0676006\ttotal: 2.93s\tremaining: 1.06s\n",
            "734:\tlearn: 0.0675575\ttotal: 2.94s\tremaining: 1.06s\n",
            "735:\tlearn: 0.0674409\ttotal: 2.95s\tremaining: 1.06s\n",
            "736:\tlearn: 0.0673434\ttotal: 2.97s\tremaining: 1.06s\n",
            "737:\tlearn: 0.0671813\ttotal: 2.98s\tremaining: 1.06s\n",
            "738:\tlearn: 0.0671036\ttotal: 2.99s\tremaining: 1.05s\n",
            "739:\tlearn: 0.0670351\ttotal: 3s\tremaining: 1.05s\n",
            "740:\tlearn: 0.0670111\ttotal: 3s\tremaining: 1.05s\n",
            "741:\tlearn: 0.0669579\ttotal: 3s\tremaining: 1.04s\n",
            "742:\tlearn: 0.0668655\ttotal: 3.01s\tremaining: 1.04s\n",
            "743:\tlearn: 0.0668091\ttotal: 3.01s\tremaining: 1.04s\n",
            "744:\tlearn: 0.0667220\ttotal: 3.02s\tremaining: 1.03s\n",
            "745:\tlearn: 0.0666973\ttotal: 3.02s\tremaining: 1.03s\n",
            "746:\tlearn: 0.0666079\ttotal: 3.02s\tremaining: 1.02s\n",
            "747:\tlearn: 0.0665140\ttotal: 3.03s\tremaining: 1.02s\n",
            "748:\tlearn: 0.0664702\ttotal: 3.04s\tremaining: 1.02s\n",
            "749:\tlearn: 0.0663978\ttotal: 3.04s\tremaining: 1.01s\n",
            "750:\tlearn: 0.0663553\ttotal: 3.05s\tremaining: 1.01s\n",
            "751:\tlearn: 0.0663342\ttotal: 3.05s\tremaining: 1.01s\n",
            "752:\tlearn: 0.0663159\ttotal: 3.06s\tremaining: 1s\n",
            "753:\tlearn: 0.0662356\ttotal: 3.07s\tremaining: 1s\n",
            "754:\tlearn: 0.0661713\ttotal: 3.07s\tremaining: 997ms\n",
            "755:\tlearn: 0.0661316\ttotal: 3.08s\tremaining: 993ms\n",
            "756:\tlearn: 0.0660537\ttotal: 3.08s\tremaining: 989ms\n",
            "757:\tlearn: 0.0659655\ttotal: 3.09s\tremaining: 985ms\n",
            "758:\tlearn: 0.0659508\ttotal: 3.09s\tremaining: 981ms\n",
            "759:\tlearn: 0.0659179\ttotal: 3.09s\tremaining: 977ms\n",
            "760:\tlearn: 0.0658482\ttotal: 3.1s\tremaining: 973ms\n",
            "761:\tlearn: 0.0658192\ttotal: 3.1s\tremaining: 969ms\n",
            "762:\tlearn: 0.0657456\ttotal: 3.1s\tremaining: 965ms\n",
            "763:\tlearn: 0.0656953\ttotal: 3.11s\tremaining: 961ms\n",
            "764:\tlearn: 0.0656640\ttotal: 3.11s\tremaining: 956ms\n",
            "765:\tlearn: 0.0656470\ttotal: 3.12s\tremaining: 952ms\n",
            "766:\tlearn: 0.0656288\ttotal: 3.12s\tremaining: 948ms\n",
            "767:\tlearn: 0.0655214\ttotal: 3.13s\tremaining: 944ms\n",
            "768:\tlearn: 0.0654608\ttotal: 3.13s\tremaining: 940ms\n",
            "769:\tlearn: 0.0653690\ttotal: 3.13s\tremaining: 936ms\n",
            "770:\tlearn: 0.0652663\ttotal: 3.14s\tremaining: 932ms\n",
            "771:\tlearn: 0.0652127\ttotal: 3.14s\tremaining: 927ms\n",
            "772:\tlearn: 0.0651479\ttotal: 3.14s\tremaining: 923ms\n",
            "773:\tlearn: 0.0650983\ttotal: 3.15s\tremaining: 919ms\n",
            "774:\tlearn: 0.0650754\ttotal: 3.15s\tremaining: 915ms\n",
            "775:\tlearn: 0.0649922\ttotal: 3.16s\tremaining: 912ms\n",
            "776:\tlearn: 0.0649171\ttotal: 3.16s\tremaining: 908ms\n",
            "777:\tlearn: 0.0648872\ttotal: 3.17s\tremaining: 904ms\n",
            "778:\tlearn: 0.0647792\ttotal: 3.17s\tremaining: 900ms\n",
            "779:\tlearn: 0.0647200\ttotal: 3.17s\tremaining: 896ms\n",
            "780:\tlearn: 0.0646388\ttotal: 3.18s\tremaining: 891ms\n",
            "781:\tlearn: 0.0645839\ttotal: 3.18s\tremaining: 887ms\n",
            "782:\tlearn: 0.0645235\ttotal: 3.19s\tremaining: 883ms\n",
            "783:\tlearn: 0.0645072\ttotal: 3.19s\tremaining: 879ms\n",
            "784:\tlearn: 0.0644767\ttotal: 3.19s\tremaining: 875ms\n",
            "785:\tlearn: 0.0644588\ttotal: 3.2s\tremaining: 871ms\n",
            "786:\tlearn: 0.0644122\ttotal: 3.2s\tremaining: 867ms\n",
            "787:\tlearn: 0.0643292\ttotal: 3.21s\tremaining: 863ms\n",
            "788:\tlearn: 0.0642752\ttotal: 3.21s\tremaining: 858ms\n",
            "789:\tlearn: 0.0641797\ttotal: 3.21s\tremaining: 854ms\n",
            "790:\tlearn: 0.0641489\ttotal: 3.22s\tremaining: 851ms\n",
            "791:\tlearn: 0.0641204\ttotal: 3.23s\tremaining: 849ms\n",
            "792:\tlearn: 0.0640471\ttotal: 3.24s\tremaining: 846ms\n",
            "793:\tlearn: 0.0639572\ttotal: 3.25s\tremaining: 842ms\n",
            "794:\tlearn: 0.0639305\ttotal: 3.25s\tremaining: 838ms\n",
            "795:\tlearn: 0.0638712\ttotal: 3.25s\tremaining: 834ms\n",
            "796:\tlearn: 0.0637444\ttotal: 3.26s\tremaining: 829ms\n",
            "797:\tlearn: 0.0637038\ttotal: 3.26s\tremaining: 825ms\n",
            "798:\tlearn: 0.0636460\ttotal: 3.26s\tremaining: 821ms\n",
            "799:\tlearn: 0.0636300\ttotal: 3.27s\tremaining: 816ms\n",
            "800:\tlearn: 0.0636013\ttotal: 3.27s\tremaining: 812ms\n",
            "801:\tlearn: 0.0635680\ttotal: 3.27s\tremaining: 808ms\n",
            "802:\tlearn: 0.0635633\ttotal: 3.28s\tremaining: 804ms\n",
            "803:\tlearn: 0.0635579\ttotal: 3.28s\tremaining: 799ms\n",
            "804:\tlearn: 0.0635315\ttotal: 3.28s\tremaining: 795ms\n",
            "805:\tlearn: 0.0634732\ttotal: 3.29s\tremaining: 791ms\n",
            "806:\tlearn: 0.0633743\ttotal: 3.29s\tremaining: 787ms\n",
            "807:\tlearn: 0.0633476\ttotal: 3.29s\tremaining: 782ms\n",
            "808:\tlearn: 0.0632815\ttotal: 3.29s\tremaining: 778ms\n",
            "809:\tlearn: 0.0632478\ttotal: 3.3s\tremaining: 774ms\n",
            "810:\tlearn: 0.0632217\ttotal: 3.3s\tremaining: 770ms\n",
            "811:\tlearn: 0.0630875\ttotal: 3.31s\tremaining: 765ms\n",
            "812:\tlearn: 0.0630426\ttotal: 3.31s\tremaining: 761ms\n",
            "813:\tlearn: 0.0629669\ttotal: 3.31s\tremaining: 757ms\n",
            "814:\tlearn: 0.0629145\ttotal: 3.31s\tremaining: 753ms\n",
            "815:\tlearn: 0.0628991\ttotal: 3.32s\tremaining: 748ms\n",
            "816:\tlearn: 0.0628854\ttotal: 3.32s\tremaining: 744ms\n",
            "817:\tlearn: 0.0627753\ttotal: 3.33s\tremaining: 740ms\n",
            "818:\tlearn: 0.0627443\ttotal: 3.33s\tremaining: 736ms\n",
            "819:\tlearn: 0.0626982\ttotal: 3.33s\tremaining: 732ms\n",
            "820:\tlearn: 0.0625721\ttotal: 3.34s\tremaining: 727ms\n",
            "821:\tlearn: 0.0624589\ttotal: 3.34s\tremaining: 723ms\n",
            "822:\tlearn: 0.0623492\ttotal: 3.34s\tremaining: 719ms\n",
            "823:\tlearn: 0.0623190\ttotal: 3.35s\tremaining: 715ms\n",
            "824:\tlearn: 0.0622529\ttotal: 3.35s\tremaining: 712ms\n",
            "825:\tlearn: 0.0622276\ttotal: 3.36s\tremaining: 708ms\n",
            "826:\tlearn: 0.0621840\ttotal: 3.36s\tremaining: 703ms\n",
            "827:\tlearn: 0.0621468\ttotal: 3.37s\tremaining: 699ms\n",
            "828:\tlearn: 0.0621338\ttotal: 3.37s\tremaining: 695ms\n",
            "829:\tlearn: 0.0619714\ttotal: 3.37s\tremaining: 691ms\n",
            "830:\tlearn: 0.0619321\ttotal: 3.38s\tremaining: 687ms\n",
            "831:\tlearn: 0.0618682\ttotal: 3.38s\tremaining: 682ms\n",
            "832:\tlearn: 0.0618062\ttotal: 3.38s\tremaining: 678ms\n",
            "833:\tlearn: 0.0616918\ttotal: 3.39s\tremaining: 674ms\n",
            "834:\tlearn: 0.0616504\ttotal: 3.39s\tremaining: 670ms\n",
            "835:\tlearn: 0.0615779\ttotal: 3.39s\tremaining: 666ms\n",
            "836:\tlearn: 0.0615182\ttotal: 3.4s\tremaining: 661ms\n",
            "837:\tlearn: 0.0614667\ttotal: 3.4s\tremaining: 657ms\n",
            "838:\tlearn: 0.0614075\ttotal: 3.4s\tremaining: 653ms\n",
            "839:\tlearn: 0.0613653\ttotal: 3.41s\tremaining: 649ms\n",
            "840:\tlearn: 0.0613403\ttotal: 3.41s\tremaining: 645ms\n",
            "841:\tlearn: 0.0612911\ttotal: 3.41s\tremaining: 641ms\n",
            "842:\tlearn: 0.0611865\ttotal: 3.42s\tremaining: 637ms\n",
            "843:\tlearn: 0.0611095\ttotal: 3.43s\tremaining: 633ms\n",
            "844:\tlearn: 0.0610659\ttotal: 3.43s\tremaining: 629ms\n",
            "845:\tlearn: 0.0610046\ttotal: 3.43s\tremaining: 625ms\n",
            "846:\tlearn: 0.0609799\ttotal: 3.44s\tremaining: 621ms\n",
            "847:\tlearn: 0.0609222\ttotal: 3.44s\tremaining: 617ms\n",
            "848:\tlearn: 0.0608224\ttotal: 3.44s\tremaining: 612ms\n",
            "849:\tlearn: 0.0607851\ttotal: 3.45s\tremaining: 608ms\n",
            "850:\tlearn: 0.0607606\ttotal: 3.45s\tremaining: 604ms\n",
            "851:\tlearn: 0.0607310\ttotal: 3.45s\tremaining: 600ms\n",
            "852:\tlearn: 0.0606783\ttotal: 3.46s\tremaining: 596ms\n",
            "853:\tlearn: 0.0605940\ttotal: 3.46s\tremaining: 592ms\n",
            "854:\tlearn: 0.0605288\ttotal: 3.46s\tremaining: 587ms\n",
            "855:\tlearn: 0.0604894\ttotal: 3.47s\tremaining: 583ms\n",
            "856:\tlearn: 0.0604082\ttotal: 3.47s\tremaining: 579ms\n",
            "857:\tlearn: 0.0603651\ttotal: 3.47s\tremaining: 575ms\n",
            "858:\tlearn: 0.0602705\ttotal: 3.48s\tremaining: 571ms\n",
            "859:\tlearn: 0.0602609\ttotal: 3.48s\tremaining: 567ms\n",
            "860:\tlearn: 0.0601701\ttotal: 3.48s\tremaining: 562ms\n",
            "861:\tlearn: 0.0601653\ttotal: 3.49s\tremaining: 558ms\n",
            "862:\tlearn: 0.0601143\ttotal: 3.49s\tremaining: 554ms\n",
            "863:\tlearn: 0.0600243\ttotal: 3.49s\tremaining: 550ms\n",
            "864:\tlearn: 0.0599687\ttotal: 3.5s\tremaining: 546ms\n",
            "865:\tlearn: 0.0599457\ttotal: 3.51s\tremaining: 543ms\n",
            "866:\tlearn: 0.0599251\ttotal: 3.51s\tremaining: 539ms\n",
            "867:\tlearn: 0.0598711\ttotal: 3.51s\tremaining: 535ms\n",
            "868:\tlearn: 0.0597898\ttotal: 3.52s\tremaining: 530ms\n",
            "869:\tlearn: 0.0597565\ttotal: 3.52s\tremaining: 526ms\n",
            "870:\tlearn: 0.0597074\ttotal: 3.52s\tremaining: 522ms\n",
            "871:\tlearn: 0.0596539\ttotal: 3.53s\tremaining: 518ms\n",
            "872:\tlearn: 0.0595759\ttotal: 3.53s\tremaining: 514ms\n",
            "873:\tlearn: 0.0595698\ttotal: 3.54s\tremaining: 510ms\n",
            "874:\tlearn: 0.0594772\ttotal: 3.54s\tremaining: 506ms\n",
            "875:\tlearn: 0.0594314\ttotal: 3.54s\tremaining: 502ms\n",
            "876:\tlearn: 0.0593947\ttotal: 3.55s\tremaining: 498ms\n",
            "877:\tlearn: 0.0592613\ttotal: 3.56s\tremaining: 494ms\n",
            "878:\tlearn: 0.0592294\ttotal: 3.56s\tremaining: 490ms\n",
            "879:\tlearn: 0.0591297\ttotal: 3.56s\tremaining: 486ms\n",
            "880:\tlearn: 0.0590858\ttotal: 3.57s\tremaining: 482ms\n",
            "881:\tlearn: 0.0590547\ttotal: 3.57s\tremaining: 478ms\n",
            "882:\tlearn: 0.0590483\ttotal: 3.57s\tremaining: 473ms\n",
            "883:\tlearn: 0.0589201\ttotal: 3.58s\tremaining: 469ms\n",
            "884:\tlearn: 0.0588976\ttotal: 3.58s\tremaining: 465ms\n",
            "885:\tlearn: 0.0588754\ttotal: 3.58s\tremaining: 461ms\n",
            "886:\tlearn: 0.0588609\ttotal: 3.58s\tremaining: 457ms\n",
            "887:\tlearn: 0.0587443\ttotal: 3.59s\tremaining: 453ms\n",
            "888:\tlearn: 0.0585918\ttotal: 3.59s\tremaining: 449ms\n",
            "889:\tlearn: 0.0585261\ttotal: 3.6s\tremaining: 444ms\n",
            "890:\tlearn: 0.0584806\ttotal: 3.6s\tremaining: 440ms\n",
            "891:\tlearn: 0.0583906\ttotal: 3.6s\tremaining: 436ms\n",
            "892:\tlearn: 0.0583573\ttotal: 3.61s\tremaining: 432ms\n",
            "893:\tlearn: 0.0582743\ttotal: 3.61s\tremaining: 428ms\n",
            "894:\tlearn: 0.0581789\ttotal: 3.62s\tremaining: 424ms\n",
            "895:\tlearn: 0.0581028\ttotal: 3.62s\tremaining: 420ms\n",
            "896:\tlearn: 0.0580123\ttotal: 3.62s\tremaining: 416ms\n",
            "897:\tlearn: 0.0578919\ttotal: 3.63s\tremaining: 412ms\n",
            "898:\tlearn: 0.0578061\ttotal: 3.63s\tremaining: 408ms\n",
            "899:\tlearn: 0.0577627\ttotal: 3.63s\tremaining: 404ms\n",
            "900:\tlearn: 0.0576986\ttotal: 3.64s\tremaining: 400ms\n",
            "901:\tlearn: 0.0576266\ttotal: 3.64s\tremaining: 395ms\n",
            "902:\tlearn: 0.0575671\ttotal: 3.64s\tremaining: 391ms\n",
            "903:\tlearn: 0.0574759\ttotal: 3.65s\tremaining: 387ms\n",
            "904:\tlearn: 0.0574282\ttotal: 3.65s\tremaining: 383ms\n",
            "905:\tlearn: 0.0574101\ttotal: 3.65s\tremaining: 379ms\n",
            "906:\tlearn: 0.0573716\ttotal: 3.66s\tremaining: 375ms\n",
            "907:\tlearn: 0.0573276\ttotal: 3.66s\tremaining: 371ms\n",
            "908:\tlearn: 0.0572937\ttotal: 3.66s\tremaining: 367ms\n",
            "909:\tlearn: 0.0572587\ttotal: 3.67s\tremaining: 363ms\n",
            "910:\tlearn: 0.0572206\ttotal: 3.67s\tremaining: 359ms\n",
            "911:\tlearn: 0.0571283\ttotal: 3.67s\tremaining: 354ms\n",
            "912:\tlearn: 0.0570845\ttotal: 3.68s\tremaining: 350ms\n",
            "913:\tlearn: 0.0570657\ttotal: 3.68s\tremaining: 346ms\n",
            "914:\tlearn: 0.0570597\ttotal: 3.68s\tremaining: 342ms\n",
            "915:\tlearn: 0.0569734\ttotal: 3.69s\tremaining: 338ms\n",
            "916:\tlearn: 0.0569258\ttotal: 3.69s\tremaining: 334ms\n",
            "917:\tlearn: 0.0568348\ttotal: 3.69s\tremaining: 330ms\n",
            "918:\tlearn: 0.0567479\ttotal: 3.69s\tremaining: 326ms\n",
            "919:\tlearn: 0.0566687\ttotal: 3.7s\tremaining: 322ms\n",
            "920:\tlearn: 0.0566522\ttotal: 3.7s\tremaining: 318ms\n",
            "921:\tlearn: 0.0565667\ttotal: 3.71s\tremaining: 314ms\n",
            "922:\tlearn: 0.0564835\ttotal: 3.71s\tremaining: 310ms\n",
            "923:\tlearn: 0.0563966\ttotal: 3.71s\tremaining: 305ms\n",
            "924:\tlearn: 0.0563004\ttotal: 3.72s\tremaining: 301ms\n",
            "925:\tlearn: 0.0561852\ttotal: 3.72s\tremaining: 297ms\n",
            "926:\tlearn: 0.0560921\ttotal: 3.73s\tremaining: 293ms\n",
            "927:\tlearn: 0.0560633\ttotal: 3.73s\tremaining: 290ms\n",
            "928:\tlearn: 0.0560349\ttotal: 3.73s\tremaining: 285ms\n",
            "929:\tlearn: 0.0559535\ttotal: 3.74s\tremaining: 281ms\n",
            "930:\tlearn: 0.0559080\ttotal: 3.75s\tremaining: 278ms\n",
            "931:\tlearn: 0.0558836\ttotal: 3.75s\tremaining: 274ms\n",
            "932:\tlearn: 0.0558478\ttotal: 3.75s\tremaining: 269ms\n",
            "933:\tlearn: 0.0558054\ttotal: 3.75s\tremaining: 265ms\n",
            "934:\tlearn: 0.0557403\ttotal: 3.76s\tremaining: 261ms\n",
            "935:\tlearn: 0.0556875\ttotal: 3.76s\tremaining: 257ms\n",
            "936:\tlearn: 0.0556606\ttotal: 3.77s\tremaining: 253ms\n",
            "937:\tlearn: 0.0556388\ttotal: 3.77s\tremaining: 249ms\n",
            "938:\tlearn: 0.0555935\ttotal: 3.77s\tremaining: 245ms\n",
            "939:\tlearn: 0.0555709\ttotal: 3.78s\tremaining: 241ms\n",
            "940:\tlearn: 0.0555353\ttotal: 3.78s\tremaining: 237ms\n",
            "941:\tlearn: 0.0554552\ttotal: 3.79s\tremaining: 233ms\n",
            "942:\tlearn: 0.0553715\ttotal: 3.79s\tremaining: 229ms\n",
            "943:\tlearn: 0.0552972\ttotal: 3.79s\tremaining: 225ms\n",
            "944:\tlearn: 0.0552158\ttotal: 3.8s\tremaining: 221ms\n",
            "945:\tlearn: 0.0551261\ttotal: 3.8s\tremaining: 217ms\n",
            "946:\tlearn: 0.0550356\ttotal: 3.81s\tremaining: 213ms\n",
            "947:\tlearn: 0.0549979\ttotal: 3.81s\tremaining: 209ms\n",
            "948:\tlearn: 0.0549771\ttotal: 3.82s\tremaining: 205ms\n",
            "949:\tlearn: 0.0549372\ttotal: 3.82s\tremaining: 201ms\n",
            "950:\tlearn: 0.0548985\ttotal: 3.82s\tremaining: 197ms\n",
            "951:\tlearn: 0.0548844\ttotal: 3.83s\tremaining: 193ms\n",
            "952:\tlearn: 0.0547976\ttotal: 3.83s\tremaining: 189ms\n",
            "953:\tlearn: 0.0547181\ttotal: 3.83s\tremaining: 185ms\n",
            "954:\tlearn: 0.0546545\ttotal: 3.84s\tremaining: 181ms\n",
            "955:\tlearn: 0.0545913\ttotal: 3.84s\tremaining: 177ms\n",
            "956:\tlearn: 0.0545550\ttotal: 3.84s\tremaining: 173ms\n",
            "957:\tlearn: 0.0544902\ttotal: 3.85s\tremaining: 169ms\n",
            "958:\tlearn: 0.0544404\ttotal: 3.85s\tremaining: 165ms\n",
            "959:\tlearn: 0.0543772\ttotal: 3.85s\tremaining: 161ms\n",
            "960:\tlearn: 0.0542916\ttotal: 3.86s\tremaining: 157ms\n",
            "961:\tlearn: 0.0541885\ttotal: 3.86s\tremaining: 153ms\n",
            "962:\tlearn: 0.0541013\ttotal: 3.87s\tremaining: 149ms\n",
            "963:\tlearn: 0.0540228\ttotal: 3.87s\tremaining: 144ms\n",
            "964:\tlearn: 0.0539412\ttotal: 3.87s\tremaining: 140ms\n",
            "965:\tlearn: 0.0539149\ttotal: 3.88s\tremaining: 136ms\n",
            "966:\tlearn: 0.0538889\ttotal: 3.88s\tremaining: 132ms\n",
            "967:\tlearn: 0.0538127\ttotal: 3.88s\tremaining: 128ms\n",
            "968:\tlearn: 0.0537320\ttotal: 3.89s\tremaining: 124ms\n",
            "969:\tlearn: 0.0536296\ttotal: 3.89s\tremaining: 120ms\n",
            "970:\tlearn: 0.0535897\ttotal: 3.89s\tremaining: 116ms\n",
            "971:\tlearn: 0.0535606\ttotal: 3.9s\tremaining: 112ms\n",
            "972:\tlearn: 0.0535054\ttotal: 3.9s\tremaining: 108ms\n",
            "973:\tlearn: 0.0534533\ttotal: 3.91s\tremaining: 104ms\n",
            "974:\tlearn: 0.0533994\ttotal: 3.91s\tremaining: 100ms\n",
            "975:\tlearn: 0.0533563\ttotal: 3.92s\tremaining: 96.3ms\n",
            "976:\tlearn: 0.0533352\ttotal: 3.92s\tremaining: 92.3ms\n",
            "977:\tlearn: 0.0532709\ttotal: 3.92s\tremaining: 88.3ms\n",
            "978:\tlearn: 0.0532321\ttotal: 3.93s\tremaining: 84.3ms\n",
            "979:\tlearn: 0.0532057\ttotal: 3.93s\tremaining: 80.2ms\n",
            "980:\tlearn: 0.0531615\ttotal: 3.93s\tremaining: 76.2ms\n",
            "981:\tlearn: 0.0531186\ttotal: 3.94s\tremaining: 72.2ms\n",
            "982:\tlearn: 0.0530761\ttotal: 3.94s\tremaining: 68.2ms\n",
            "983:\tlearn: 0.0530022\ttotal: 3.95s\tremaining: 64.2ms\n",
            "984:\tlearn: 0.0529354\ttotal: 3.95s\tremaining: 60.2ms\n",
            "985:\tlearn: 0.0528799\ttotal: 3.95s\tremaining: 56.2ms\n",
            "986:\tlearn: 0.0528538\ttotal: 3.96s\tremaining: 52.1ms\n",
            "987:\tlearn: 0.0528239\ttotal: 3.96s\tremaining: 48.1ms\n",
            "988:\tlearn: 0.0527987\ttotal: 3.96s\tremaining: 44.1ms\n",
            "989:\tlearn: 0.0527939\ttotal: 3.97s\tremaining: 40.1ms\n",
            "990:\tlearn: 0.0527197\ttotal: 3.97s\tremaining: 36.1ms\n",
            "991:\tlearn: 0.0526921\ttotal: 3.97s\tremaining: 32.1ms\n",
            "992:\tlearn: 0.0526618\ttotal: 3.98s\tremaining: 28ms\n",
            "993:\tlearn: 0.0526239\ttotal: 3.98s\tremaining: 24ms\n",
            "994:\tlearn: 0.0525181\ttotal: 3.98s\tremaining: 20ms\n",
            "995:\tlearn: 0.0524551\ttotal: 3.99s\tremaining: 16ms\n",
            "996:\tlearn: 0.0523578\ttotal: 3.99s\tremaining: 12ms\n",
            "997:\tlearn: 0.0523144\ttotal: 4s\tremaining: 8.01ms\n",
            "998:\tlearn: 0.0522438\ttotal: 4s\tremaining: 4.01ms\n",
            "999:\tlearn: 0.0522030\ttotal: 4.01s\tremaining: 0us\n"
          ]
        },
        {
          "output_type": "execute_result",
          "data": {
            "text/plain": [
              "<catboost.core.CatBoostClassifier at 0x7ff9ca03e640>"
            ]
          },
          "metadata": {},
          "execution_count": 52
        }
      ],
      "source": [
        "\n",
        "cb=CatBoostClassifier()\n",
        "cb.fit(X_train,y_train)"
      ]
    },
    {
      "cell_type": "code",
      "execution_count": null,
      "metadata": {
        "id": "I88NMChEnQGf",
        "colab": {
          "base_uri": "https://localhost:8080/"
        },
        "outputId": "1a22f199-68c5-48c4-d012-ab09782a82aa"
      },
      "outputs": [
        {
          "output_type": "stream",
          "name": "stdout",
          "text": [
            "0.9888597640891219\n",
            "0.9457601222307105\n"
          ]
        }
      ],
      "source": [
        "print(cb.score(X_train, y_train))\n",
        "print(cb.score(X_test, y_test))"
      ]
    },
    {
      "cell_type": "code",
      "execution_count": null,
      "metadata": {
        "id": "KeoyJ0VFnQGf",
        "colab": {
          "base_uri": "https://localhost:8080/",
          "height": 449
        },
        "outputId": "9dd26c23-d3ee-465e-b290-3e12158d4ebb"
      },
      "outputs": [
        {
          "output_type": "display_data",
          "data": {
            "text/plain": [
              "<Figure size 640x480 with 2 Axes>"
            ],
            "image/png": "[encoded data removed]"
          },
          "metadata": {}
        }
      ],
      "source": [
        "y_pred = cb.predict(X_test)\n",
        "import matplotlib.pyplot as plt\n",
        "from sklearn.metrics import confusion_matrix\n",
        "from sklearn.metrics import ConfusionMatrixDisplay\n",
        "\n",
        "cm = confusion_matrix(y_test, y_pred)\n",
        "cm2 = ConfusionMatrixDisplay(confusion_matrix=cm)\n",
        "cm2.plot()\n",
        "plt.show()"
      ]
    },
    {
      "cell_type": "code",
      "execution_count": null,
      "metadata": {
        "id": "LJj_4Gk-nQGg",
        "colab": {
          "base_uri": "https://localhost:8080/"
        },
        "outputId": "5095f3cc-b634-446f-dc5d-a17bfdbaf6de"
      },
      "outputs": [
        {
          "output_type": "stream",
          "name": "stdout",
          "text": [
            "Accuracy: 0.946\n",
            "precision: 0.957\n",
            "recall: 0.972\n",
            "f1: 0.946\n"
          ]
        }
      ],
      "source": [
        "from sklearn.metrics import precision_score, accuracy_score, recall_score, f1_score\n",
        "\n",
        "print(f\"Accuracy: {round(accuracy_score(y_test, y_pred),3)}\")\n",
        "print(f\"precision: {round(precision_score(y_test, y_pred),3)}\")\n",
        "print(f\"recall: {round(recall_score(y_test, y_pred),3)}\")\n",
        "print(f\"f1: {round(accuracy_score(y_test, y_pred), 3)}\")"
      ]
    },
    {
      "cell_type": "markdown",
      "metadata": {
        "id": "NgNAM5scnKZX"
      },
      "source": [
        "GRADIENT BOOSTING"
      ]
    },
    {
      "cell_type": "code",
      "execution_count": null,
      "metadata": {
        "colab": {
          "base_uri": "https://localhost:8080/",
          "height": 75
        },
        "id": "O7NKoFaQnXMk",
        "outputId": "097c8002-b1cb-4921-c5d3-81f4b8668a0c"
      },
      "outputs": [
        {
          "output_type": "execute_result",
          "data": {
            "text/plain": [
              "GradientBoostingClassifier()"
            ],
            "text/html": [
              "<style>#sk-container-id-7 {color: black;background-color: white;}#sk-container-id-7 pre{padding: 0;}#sk-container-id-7 div.sk-toggleable {background-color: white;}#sk-container-id-7 label.sk-toggleable__label {cursor: pointer;display: block;width: 100%;margin-bottom: 0;padding: 0.3em;box-sizing: border-box;text-align: center;}#sk-container-id-7 label.sk-toggleable__label-arrow:before {content: \"▸\";float: left;margin-right: 0.25em;color: #696969;}#sk-container-id-7 label.sk-toggleable__label-arrow:hover:before {color: black;}#sk-container-id-7 div.sk-estimator:hover label.sk-toggleable__label-arrow:before {color: black;}#sk-container-id-7 div.sk-toggleable__content {max-height: 0;max-width: 0;overflow: hidden;text-align: left;background-color: #f0f8ff;}#sk-container-id-7 div.sk-toggleable__content pre {margin: 0.2em;color: black;border-radius: 0.25em;background-color: #f0f8ff;}#sk-container-id-7 input.sk-toggleable__control:checked~div.sk-toggleable__content {max-height: 200px;max-width: 100%;overflow: auto;}#sk-container-id-7 input.sk-toggleable__control:checked~label.sk-toggleable__label-arrow:before {content: \"▾\";}#sk-container-id-7 div.sk-estimator input.sk-toggleable__control:checked~label.sk-toggleable__label {background-color: #d4ebff;}#sk-container-id-7 div.sk-label input.sk-toggleable__control:checked~label.sk-toggleable__label {background-color: #d4ebff;}#sk-container-id-7 input.sk-hidden--visually {border: 0;clip: rect(1px 1px 1px 1px);clip: rect(1px, 1px, 1px, 1px);height: 1px;margin: -1px;overflow: hidden;padding: 0;position: absolute;width: 1px;}#sk-container-id-7 div.sk-estimator {font-family: monospace;background-color: #f0f8ff;border: 1px dotted black;border-radius: 0.25em;box-sizing: border-box;margin-bottom: 0.5em;}#sk-container-id-7 div.sk-estimator:hover {background-color: #d4ebff;}#sk-container-id-7 div.sk-parallel-item::after {content: \"\";width: 100%;border-bottom: 1px solid gray;flex-grow: 1;}#sk-container-id-7 div.sk-label:hover label.sk-toggleable__label {background-color: #d4ebff;}#sk-container-id-7 div.sk-serial::before {content: \"\";position: absolute;border-left: 1px solid gray;box-sizing: border-box;top: 0;bottom: 0;left: 50%;z-index: 0;}#sk-container-id-7 div.sk-serial {display: flex;flex-direction: column;align-items: center;background-color: white;padding-right: 0.2em;padding-left: 0.2em;position: relative;}#sk-container-id-7 div.sk-item {position: relative;z-index: 1;}#sk-container-id-7 div.sk-parallel {display: flex;align-items: stretch;justify-content: center;background-color: white;position: relative;}#sk-container-id-7 div.sk-item::before, #sk-container-id-7 div.sk-parallel-item::before {content: \"\";position: absolute;border-left: 1px solid gray;box-sizing: border-box;top: 0;bottom: 0;left: 50%;z-index: -1;}#sk-container-id-7 div.sk-parallel-item {display: flex;flex-direction: column;z-index: 1;position: relative;background-color: white;}#sk-container-id-7 div.sk-parallel-item:first-child::after {align-self: flex-end;width: 50%;}#sk-container-id-7 div.sk-parallel-item:last-child::after {align-self: flex-start;width: 50%;}#sk-container-id-7 div.sk-parallel-item:only-child::after {width: 0;}#sk-container-id-7 div.sk-dashed-wrapped {border: 1px dashed gray;margin: 0 0.4em 0.5em 0.4em;box-sizing: border-box;padding-bottom: 0.4em;background-color: white;}#sk-container-id-7 div.sk-label label {font-family: monospace;font-weight: bold;display: inline-block;line-height: 1.2em;}#sk-container-id-7 div.sk-label-container {text-align: center;}#sk-container-id-7 div.sk-container {/* jupyter's `normalize.less` sets `[hidden] { display: none; }` but bootstrap.min.css set `[hidden] { display: none !important; }` so we also need the `!important` here to be able to override the default hidden behavior on the sphinx rendered scikit-learn.org. See: https://github.com/scikit-learn/scikit-learn/issues/21755 */display: inline-block !important;position: relative;}#sk-container-id-7 div.sk-text-repr-fallback {display: none;}</style><div id=\"sk-container-id-7\" class=\"sk-top-container\"><div class=\"sk-text-repr-fallback\"><pre>GradientBoostingClassifier()</pre><b>In a Jupyter environment, please rerun this cell to show the HTML representation or trust the notebook. <br />On GitHub, the HTML representation is unable to render, please try loading this page with nbviewer.org.</b></div><div class=\"sk-container\" hidden><div class=\"sk-item\"><div class=\"sk-estimator sk-toggleable\"><input class=\"sk-toggleable__control sk-hidden--visually\" id=\"sk-estimator-id-7\" type=\"checkbox\" checked><label for=\"sk-estimator-id-7\" class=\"sk-toggleable__label sk-toggleable__label-arrow\">GradientBoostingClassifier</label><div class=\"sk-toggleable__content\"><pre>GradientBoostingClassifier()</pre></div></div></div></div></div>"
            ]
          },
          "metadata": {},
          "execution_count": 56
        }
      ],
      "source": [
        "from sklearn.ensemble  import GradientBoostingClassifier\n",
        "#from sklearn.metrics import classification_report\n",
        "gb=GradientBoostingClassifier(learning_rate=0.1)\n",
        "gb.fit(X_train,y_train)\n",
        "#print(classification_report(y_test,gb.predict(X_test)))"
      ]
    },
    {
      "cell_type": "code",
      "execution_count": null,
      "metadata": {
        "colab": {
          "base_uri": "https://localhost:8080/"
        },
        "id": "Id8gQoJunXMk",
        "outputId": "7eb86208-08d8-4926-9141-dc9755169372"
      },
      "outputs": [
        {
          "output_type": "stream",
          "name": "stdout",
          "text": [
            "0.8312581913499345\n",
            "0.8212375859434683\n"
          ]
        }
      ],
      "source": [
        "print(nb.score(X_train, y_train))\n",
        "print(nb.score(X_test, y_test))"
      ]
    },
    {
      "cell_type": "code",
      "execution_count": null,
      "metadata": {
        "colab": {
          "base_uri": "https://localhost:8080/",
          "height": 449
        },
        "id": "aIxSj5H-nXMl",
        "outputId": "944d9c2f-720f-4fae-c0c5-299ea308de21"
      },
      "outputs": [
        {
          "output_type": "display_data",
          "data": {
            "text/plain": [
              "<Figure size 640x480 with 2 Axes>"
            ],
            "image/png": "[encoded data removed]"
          },
          "metadata": {}
        }
      ],
      "source": [
        "y_pred = gb.predict(X_test)\n",
        "import matplotlib.pyplot as plt\n",
        "from sklearn.metrics import confusion_matrix\n",
        "from sklearn.metrics import ConfusionMatrixDisplay\n",
        "\n",
        "cm = confusion_matrix(y_test, y_pred)\n",
        "cm2 = ConfusionMatrixDisplay(confusion_matrix=cm)\n",
        "cm2.plot()\n",
        "plt.show()"
      ]
    },
    {
      "cell_type": "code",
      "execution_count": null,
      "metadata": {
        "id": "R6W2jgHwnXMl",
        "colab": {
          "base_uri": "https://localhost:8080/"
        },
        "outputId": "ef2178a1-b200-44f4-ab43-ce844c539759"
      },
      "outputs": [
        {
          "output_type": "stream",
          "name": "stdout",
          "text": [
            "Accuracy: 0.937\n",
            "precision: 0.955\n",
            "recall: 0.961\n",
            "f1: 0.937\n"
          ]
        }
      ],
      "source": [
        "from sklearn.metrics import precision_score, accuracy_score, recall_score, f1_score\n",
        "\n",
        "print(f\"Accuracy: {round(accuracy_score(y_test, y_pred),3)}\")\n",
        "print(f\"precision: {round(precision_score(y_test, y_pred),3)}\")\n",
        "print(f\"recall: {round(recall_score(y_test, y_pred),3)}\")\n",
        "print(f\"f1: {round(accuracy_score(y_test, y_pred), 3)}\")"
      ]
    },
    {
      "cell_type": "markdown",
      "metadata": {
        "id": "rnNAuYlJneN3"
      },
      "source": [
        "ADA BOOST"
      ]
    },
    {
      "cell_type": "code",
      "execution_count": null,
      "metadata": {
        "colab": {
          "base_uri": "https://localhost:8080/",
          "height": 75
        },
        "id": "lqlo8qqtnKZv",
        "outputId": "205d1f61-655c-46bf-d052-a5d5d46a8edd"
      },
      "outputs": [
        {
          "output_type": "execute_result",
          "data": {
            "text/plain": [
              "AdaBoostClassifier()"
            ],
            "text/html": [
              "<style>#sk-container-id-8 {color: black;background-color: white;}#sk-container-id-8 pre{padding: 0;}#sk-container-id-8 div.sk-toggleable {background-color: white;}#sk-container-id-8 label.sk-toggleable__label {cursor: pointer;display: block;width: 100%;margin-bottom: 0;padding: 0.3em;box-sizing: border-box;text-align: center;}#sk-container-id-8 label.sk-toggleable__label-arrow:before {content: \"▸\";float: left;margin-right: 0.25em;color: #696969;}#sk-container-id-8 label.sk-toggleable__label-arrow:hover:before {color: black;}#sk-container-id-8 div.sk-estimator:hover label.sk-toggleable__label-arrow:before {color: black;}#sk-container-id-8 div.sk-toggleable__content {max-height: 0;max-width: 0;overflow: hidden;text-align: left;background-color: #f0f8ff;}#sk-container-id-8 div.sk-toggleable__content pre {margin: 0.2em;color: black;border-radius: 0.25em;background-color: #f0f8ff;}#sk-container-id-8 input.sk-toggleable__control:checked~div.sk-toggleable__content {max-height: 200px;max-width: 100%;overflow: auto;}#sk-container-id-8 input.sk-toggleable__control:checked~label.sk-toggleable__label-arrow:before {content: \"▾\";}#sk-container-id-8 div.sk-estimator input.sk-toggleable__control:checked~label.sk-toggleable__label {background-color: #d4ebff;}#sk-container-id-8 div.sk-label input.sk-toggleable__control:checked~label.sk-toggleable__label {background-color: #d4ebff;}#sk-container-id-8 input.sk-hidden--visually {border: 0;clip: rect(1px 1px 1px 1px);clip: rect(1px, 1px, 1px, 1px);height: 1px;margin: -1px;overflow: hidden;padding: 0;position: absolute;width: 1px;}#sk-container-id-8 div.sk-estimator {font-family: monospace;background-color: #f0f8ff;border: 1px dotted black;border-radius: 0.25em;box-sizing: border-box;margin-bottom: 0.5em;}#sk-container-id-8 div.sk-estimator:hover {background-color: #d4ebff;}#sk-container-id-8 div.sk-parallel-item::after {content: \"\";width: 100%;border-bottom: 1px solid gray;flex-grow: 1;}#sk-container-id-8 div.sk-label:hover label.sk-toggleable__label {background-color: #d4ebff;}#sk-container-id-8 div.sk-serial::before {content: \"\";position: absolute;border-left: 1px solid gray;box-sizing: border-box;top: 0;bottom: 0;left: 50%;z-index: 0;}#sk-container-id-8 div.sk-serial {display: flex;flex-direction: column;align-items: center;background-color: white;padding-right: 0.2em;padding-left: 0.2em;position: relative;}#sk-container-id-8 div.sk-item {position: relative;z-index: 1;}#sk-container-id-8 div.sk-parallel {display: flex;align-items: stretch;justify-content: center;background-color: white;position: relative;}#sk-container-id-8 div.sk-item::before, #sk-container-id-8 div.sk-parallel-item::before {content: \"\";position: absolute;border-left: 1px solid gray;box-sizing: border-box;top: 0;bottom: 0;left: 50%;z-index: -1;}#sk-container-id-8 div.sk-parallel-item {display: flex;flex-direction: column;z-index: 1;position: relative;background-color: white;}#sk-container-id-8 div.sk-parallel-item:first-child::after {align-self: flex-end;width: 50%;}#sk-container-id-8 div.sk-parallel-item:last-child::after {align-self: flex-start;width: 50%;}#sk-container-id-8 div.sk-parallel-item:only-child::after {width: 0;}#sk-container-id-8 div.sk-dashed-wrapped {border: 1px dashed gray;margin: 0 0.4em 0.5em 0.4em;box-sizing: border-box;padding-bottom: 0.4em;background-color: white;}#sk-container-id-8 div.sk-label label {font-family: monospace;font-weight: bold;display: inline-block;line-height: 1.2em;}#sk-container-id-8 div.sk-label-container {text-align: center;}#sk-container-id-8 div.sk-container {/* jupyter's `normalize.less` sets `[hidden] { display: none; }` but bootstrap.min.css set `[hidden] { display: none !important; }` so we also need the `!important` here to be able to override the default hidden behavior on the sphinx rendered scikit-learn.org. See: https://github.com/scikit-learn/scikit-learn/issues/21755 */display: inline-block !important;position: relative;}#sk-container-id-8 div.sk-text-repr-fallback {display: none;}</style><div id=\"sk-container-id-8\" class=\"sk-top-container\"><div class=\"sk-text-repr-fallback\"><pre>AdaBoostClassifier()</pre><b>In a Jupyter environment, please rerun this cell to show the HTML representation or trust the notebook. <br />On GitHub, the HTML representation is unable to render, please try loading this page with nbviewer.org.</b></div><div class=\"sk-container\" hidden><div class=\"sk-item\"><div class=\"sk-estimator sk-toggleable\"><input class=\"sk-toggleable__control sk-hidden--visually\" id=\"sk-estimator-id-8\" type=\"checkbox\" checked><label for=\"sk-estimator-id-8\" class=\"sk-toggleable__label sk-toggleable__label-arrow\">AdaBoostClassifier</label><div class=\"sk-toggleable__content\"><pre>AdaBoostClassifier()</pre></div></div></div></div></div>"
            ]
          },
          "metadata": {},
          "execution_count": 60
        }
      ],
      "source": [
        "from sklearn.ensemble  import AdaBoostClassifier\n",
        "ab=AdaBoostClassifier()\n",
        "ab.fit(X_train,y_train)"
      ]
    },
    {
      "cell_type": "code",
      "execution_count": null,
      "metadata": {
        "colab": {
          "base_uri": "https://localhost:8080/"
        },
        "id": "wqbN032XnKZw",
        "outputId": "1d412338-7a77-4327-858e-ec1b78fe08c7"
      },
      "outputs": [
        {
          "output_type": "stream",
          "name": "stdout",
          "text": [
            "0.9501965923984272\n",
            "0.9358288770053476\n"
          ]
        }
      ],
      "source": [
        "print(ab.score(X_train, y_train))\n",
        "print(ab.score(X_test, y_test))"
      ]
    },
    {
      "cell_type": "code",
      "execution_count": null,
      "metadata": {
        "colab": {
          "base_uri": "https://localhost:8080/",
          "height": 449
        },
        "id": "LLn8fSxrnKZx",
        "outputId": "8fd0cd0a-b53e-423a-e240-472222b5c1d7"
      },
      "outputs": [
        {
          "output_type": "display_data",
          "data": {
            "text/plain": [
              "<Figure size 640x480 with 2 Axes>"
            ],
            "image/png": "[encoded data removed]"
          },
          "metadata": {}
        }
      ],
      "source": [
        "y_pred = ab.predict(X_test)\n",
        "import matplotlib.pyplot as plt\n",
        "from sklearn.metrics import confusion_matrix\n",
        "from sklearn.metrics import ConfusionMatrixDisplay\n",
        "\n",
        "cm = confusion_matrix(y_test, y_pred)\n",
        "cm2 = ConfusionMatrixDisplay(confusion_matrix=cm)\n",
        "cm2.plot()\n",
        "plt.show()"
      ]
    },
    {
      "cell_type": "code",
      "execution_count": null,
      "metadata": {
        "colab": {
          "base_uri": "https://localhost:8080/"
        },
        "id": "BZkBFQqsnKZx",
        "outputId": "4277da98-2af6-4945-f66b-6e290aa61c96"
      },
      "outputs": [
        {
          "output_type": "stream",
          "name": "stdout",
          "text": [
            "Accuracy: 0.936\n",
            "precision: 0.949\n",
            "recall: 0.966\n",
            "f1: 0.936\n"
          ]
        }
      ],
      "source": [
        "from sklearn.metrics import precision_score, accuracy_score, recall_score, f1_score\n",
        "\n",
        "print(f\"Accuracy: {round(accuracy_score(y_test, y_pred),3)}\")\n",
        "print(f\"precision: {round(precision_score(y_test, y_pred),3)}\")\n",
        "print(f\"recall: {round(recall_score(y_test, y_pred),3)}\")\n",
        "print(f\"f1: {round(accuracy_score(y_test, y_pred), 3)}\")"
      ]
    },
    {
      "cell_type": "markdown",
      "metadata": {
        "id": "54f3-advImr2"
      },
      "source": [
        "CNN"
      ]
    },
    {
      "cell_type": "code",
      "execution_count": null,
      "metadata": {
        "id": "9XwC_21EOlS1"
      },
      "outputs": [],
      "source": [
        "import numpy as np # linear algebra\n",
        "import pandas as pd # data processing, CSV file I/O (e.g. pd.read_csv)\n",
        "import tensorflow as tf\n",
        "import matplotlib.pyplot as plt\n",
        "import seaborn as sns\n",
        "from sklearn.manifold import TSNE\n",
        "from sklearn.decomposition import PCA, TruncatedSVD\n",
        "import matplotlib.patches as mpatches\n",
        "import time\n",
        "\n",
        "# Classifier Libraries\n",
        "from sklearn.linear_model import LogisticRegression\n",
        "from sklearn.svm import SVC\n",
        "from sklearn.neighbors import KNeighborsClassifier\n",
        "from sklearn.tree import DecisionTreeClassifier\n",
        "from sklearn.ensemble import RandomForestClassifier\n",
        "import collections\n",
        "\n",
        "\n",
        "# Other Libraries\n",
        "from sklearn.model_selection import train_test_split\n",
        "from sklearn.pipeline import make_pipeline\n",
        "from imblearn.pipeline import make_pipeline as imbalanced_make_pipeline\n",
        "from imblearn.over_sampling import SMOTE\n",
        "from imblearn.under_sampling import NearMiss\n",
        "from imblearn.metrics import classification_report_imbalanced\n",
        "from sklearn.metrics import precision_score, recall_score, f1_score, roc_auc_score, accuracy_score, classification_report\n",
        "from collections import Counter\n",
        "from sklearn.model_selection import KFold, StratifiedKFold\n",
        "import warnings\n",
        "warnings.filterwarnings(\"ignore\")"
      ]
    },
    {
      "cell_type": "code",
      "execution_count": null,
      "metadata": {
        "id": "MD5ZcntSMBxr"
      },
      "outputs": [],
      "source": [
        "from tensorflow.keras.datasets import mnist\n",
        "from tensorflow.keras.models import Sequential\n",
        "from tensorflow.keras.layers import Conv2D\n",
        "from tensorflow.keras.layers import MaxPool2D\n",
        "from tensorflow.keras.layers import Flatten\n",
        "from tensorflow.keras.layers import Dropout\n",
        "from tensorflow.keras.layers import Dense\n",
        "import numpy as np\n",
        "X2=np.array(X_train)\n",
        "X3=np.array(X_test)\n",
        "X_train2=X2.reshape(X_train.shape[0],X_train.shape[1],1)\n",
        "X_test2=X3.reshape(X_test.shape[0],X_test.shape[1],1)\n"
      ]
    },
    {
      "cell_type": "code",
      "source": [
        "from tensorflow.keras.models import Sequential\n",
        "from tensorflow.keras.layers import Input,Embedding,Dense,Flatten,MaxPooling1D,Conv1D,BatchNormalization,Dropout\n",
        "# import model\n",
        "model20=Sequential()\n",
        "# layers\n",
        "model20.add(Conv1D(filters=32, kernel_size=2, activation='relu', input_shape=X_train2[0].shape)) #creates a convolutional layer which extracts features from the input\n",
        "model20.add(BatchNormalization()) #normalizes each feature for better accuracy and faster training\n",
        "model20.add(Dropout(0.2)) # hides 20% neurons to avoid overfitting\n",
        "\n",
        "model20.add(Conv1D(filters=64, kernel_size=2, activation='relu'))\n",
        "model20.add(BatchNormalization())\n",
        "model20.add(Dropout(0.5))\n",
        "\n",
        "model20.add(Conv1D(filters=64, kernel_size=2, activation='relu'))\n",
        "model20.add(BatchNormalization())\n",
        "model20.add(Dropout(0.5))\n",
        "\n",
        "model20.add(Conv1D(filters=64, kernel_size=2, activation='relu'))\n",
        "model20.add(BatchNormalization())\n",
        "model20.add(Dropout(0.25))\n",
        "\n",
        "model20.add(Flatten()) #convert input into 1D\n",
        "model20.add(Dense(64, activation='relu')) #fully connected layer for classification\n",
        "model20.add(Dropout(0.25))\n",
        "\n",
        "model20.add(Dense(100, activation='relu'))\n",
        "model20.add(Dense(50, activation='relu'))\n",
        "model20.add(Dense(25, activation='relu'))\n",
        "model20.add(Dense(1, activation = \"sigmoid\"))"
      ],
      "metadata": {
        "id": "H41BVyOS65Op"
      },
      "execution_count": null,
      "outputs": []
    },
    {
      "cell_type": "code",
      "execution_count": null,
      "metadata": {
        "id": "8VMCJ6DLTMCA"
      },
      "outputs": [],
      "source": [
        "model20.compile(optimizer='adam', loss='binary_crossentropy', metrics=['accuracy'])"
      ]
    },
    {
      "cell_type": "code",
      "execution_count": null,
      "metadata": {
        "id": "5TxXk7orIaPT",
        "colab": {
          "base_uri": "https://localhost:8080/"
        },
        "outputId": "d56074e0-7a9f-4af2-e858-4dde9c6252af"
      },
      "outputs": [
        {
          "output_type": "stream",
          "name": "stdout",
          "text": [
            "Epoch 1/80\n",
            "96/96 [==============================] - 20s 28ms/step - loss: 0.5721 - accuracy: 0.7471 - val_loss: 0.5376 - val_accuracy: 0.7510\n",
            "Epoch 2/80\n",
            "96/96 [==============================] - 2s 18ms/step - loss: 0.5039 - accuracy: 0.7703 - val_loss: 0.7250 - val_accuracy: 0.7510\n",
            "Epoch 3/80\n",
            "96/96 [==============================] - 2s 21ms/step - loss: 0.4553 - accuracy: 0.7824 - val_loss: 0.9944 - val_accuracy: 0.7510\n",
            "Epoch 4/80\n",
            "96/96 [==============================] - 2s 18ms/step - loss: 0.3777 - accuracy: 0.8306 - val_loss: 0.5336 - val_accuracy: 0.7510\n",
            "Epoch 5/80\n",
            "96/96 [==============================] - 3s 33ms/step - loss: 0.3052 - accuracy: 0.8699 - val_loss: 0.8314 - val_accuracy: 0.7510\n",
            "Epoch 6/80\n",
            "96/96 [==============================] - 2s 23ms/step - loss: 0.2827 - accuracy: 0.8830 - val_loss: 0.4324 - val_accuracy: 0.7510\n",
            "Epoch 7/80\n",
            "96/96 [==============================] - 2s 17ms/step - loss: 0.2764 - accuracy: 0.8834 - val_loss: 0.2571 - val_accuracy: 0.8984\n",
            "Epoch 8/80\n",
            "96/96 [==============================] - 1s 11ms/step - loss: 0.2656 - accuracy: 0.8984 - val_loss: 0.2155 - val_accuracy: 0.9343\n",
            "Epoch 9/80\n",
            "96/96 [==============================] - 1s 9ms/step - loss: 0.2687 - accuracy: 0.8870 - val_loss: 0.2484 - val_accuracy: 0.9045\n",
            "Epoch 10/80\n",
            "96/96 [==============================] - 1s 9ms/step - loss: 0.2499 - accuracy: 0.8978 - val_loss: 0.2534 - val_accuracy: 0.9015\n",
            "Epoch 11/80\n",
            "96/96 [==============================] - 1s 9ms/step - loss: 0.2368 - accuracy: 0.9112 - val_loss: 0.2089 - val_accuracy: 0.9282\n",
            "Epoch 12/80\n",
            "96/96 [==============================] - 1s 9ms/step - loss: 0.2433 - accuracy: 0.9063 - val_loss: 0.2167 - val_accuracy: 0.9274\n",
            "Epoch 13/80\n",
            "96/96 [==============================] - 1s 9ms/step - loss: 0.2403 - accuracy: 0.9073 - val_loss: 0.2349 - val_accuracy: 0.9259\n",
            "Epoch 14/80\n",
            "96/96 [==============================] - 1s 12ms/step - loss: 0.2430 - accuracy: 0.9050 - val_loss: 0.2174 - val_accuracy: 0.9366\n",
            "Epoch 15/80\n",
            "96/96 [==============================] - 1s 14ms/step - loss: 0.2471 - accuracy: 0.8968 - val_loss: 0.2338 - val_accuracy: 0.9167\n",
            "Epoch 16/80\n",
            "96/96 [==============================] - 1s 14ms/step - loss: 0.2338 - accuracy: 0.9040 - val_loss: 0.1969 - val_accuracy: 0.9351\n",
            "Epoch 17/80\n",
            "96/96 [==============================] - 1s 11ms/step - loss: 0.2508 - accuracy: 0.8955 - val_loss: 0.2158 - val_accuracy: 0.9206\n",
            "Epoch 18/80\n",
            "96/96 [==============================] - 1s 9ms/step - loss: 0.2335 - accuracy: 0.9086 - val_loss: 0.1950 - val_accuracy: 0.9335\n",
            "Epoch 19/80\n",
            "96/96 [==============================] - 1s 10ms/step - loss: 0.2287 - accuracy: 0.9109 - val_loss: 0.1970 - val_accuracy: 0.9328\n",
            "Epoch 20/80\n",
            "96/96 [==============================] - 1s 10ms/step - loss: 0.2246 - accuracy: 0.9119 - val_loss: 0.2153 - val_accuracy: 0.9297\n",
            "Epoch 21/80\n",
            "96/96 [==============================] - 1s 10ms/step - loss: 0.2190 - accuracy: 0.9158 - val_loss: 0.2615 - val_accuracy: 0.9060\n",
            "Epoch 22/80\n",
            "96/96 [==============================] - 1s 10ms/step - loss: 0.2295 - accuracy: 0.9096 - val_loss: 0.2373 - val_accuracy: 0.9015\n",
            "Epoch 23/80\n",
            "96/96 [==============================] - 2s 18ms/step - loss: 0.2261 - accuracy: 0.9181 - val_loss: 0.2322 - val_accuracy: 0.9106\n",
            "Epoch 24/80\n",
            "96/96 [==============================] - 2s 17ms/step - loss: 0.2211 - accuracy: 0.9161 - val_loss: 0.1899 - val_accuracy: 0.9374\n",
            "Epoch 25/80\n",
            "96/96 [==============================] - 2s 26ms/step - loss: 0.2186 - accuracy: 0.9201 - val_loss: 0.1947 - val_accuracy: 0.9351\n",
            "Epoch 26/80\n",
            "96/96 [==============================] - 2s 22ms/step - loss: 0.2135 - accuracy: 0.9184 - val_loss: 0.1939 - val_accuracy: 0.9312\n",
            "Epoch 27/80\n",
            "96/96 [==============================] - 2s 23ms/step - loss: 0.2214 - accuracy: 0.9174 - val_loss: 0.2218 - val_accuracy: 0.9160\n",
            "Epoch 28/80\n",
            "96/96 [==============================] - 2s 17ms/step - loss: 0.2145 - accuracy: 0.9197 - val_loss: 0.1912 - val_accuracy: 0.9328\n",
            "Epoch 29/80\n",
            "96/96 [==============================] - 2s 19ms/step - loss: 0.2025 - accuracy: 0.9227 - val_loss: 0.1944 - val_accuracy: 0.9305\n",
            "Epoch 30/80\n",
            "96/96 [==============================] - 2s 21ms/step - loss: 0.2029 - accuracy: 0.9250 - val_loss: 0.2000 - val_accuracy: 0.9305\n",
            "Epoch 31/80\n",
            "96/96 [==============================] - 2s 20ms/step - loss: 0.1983 - accuracy: 0.9233 - val_loss: 0.2031 - val_accuracy: 0.9274\n",
            "Epoch 32/80\n",
            "96/96 [==============================] - 2s 24ms/step - loss: 0.1893 - accuracy: 0.9240 - val_loss: 0.1791 - val_accuracy: 0.9366\n",
            "Epoch 33/80\n",
            "96/96 [==============================] - 2s 23ms/step - loss: 0.2056 - accuracy: 0.9253 - val_loss: 0.1871 - val_accuracy: 0.9358\n",
            "Epoch 34/80\n",
            "96/96 [==============================] - 2s 16ms/step - loss: 0.2043 - accuracy: 0.9260 - val_loss: 0.1956 - val_accuracy: 0.9335\n",
            "Epoch 35/80\n",
            "96/96 [==============================] - 1s 15ms/step - loss: 0.1979 - accuracy: 0.9286 - val_loss: 0.1915 - val_accuracy: 0.9351\n",
            "Epoch 36/80\n",
            "96/96 [==============================] - 2s 17ms/step - loss: 0.1971 - accuracy: 0.9256 - val_loss: 0.2190 - val_accuracy: 0.9160\n",
            "Epoch 37/80\n",
            "96/96 [==============================] - 1s 15ms/step - loss: 0.2102 - accuracy: 0.9220 - val_loss: 0.2034 - val_accuracy: 0.9228\n",
            "Epoch 38/80\n",
            "96/96 [==============================] - 1s 9ms/step - loss: 0.2044 - accuracy: 0.9260 - val_loss: 0.2223 - val_accuracy: 0.9144\n",
            "Epoch 39/80\n",
            "96/96 [==============================] - 1s 9ms/step - loss: 0.1954 - accuracy: 0.9263 - val_loss: 0.1997 - val_accuracy: 0.9282\n",
            "Epoch 40/80\n",
            "96/96 [==============================] - 1s 9ms/step - loss: 0.1970 - accuracy: 0.9322 - val_loss: 0.1816 - val_accuracy: 0.9343\n",
            "Epoch 41/80\n",
            "96/96 [==============================] - 1s 10ms/step - loss: 0.1974 - accuracy: 0.9237 - val_loss: 0.1770 - val_accuracy: 0.9389\n",
            "Epoch 42/80\n",
            "96/96 [==============================] - 1s 9ms/step - loss: 0.1961 - accuracy: 0.9246 - val_loss: 0.2189 - val_accuracy: 0.9221\n",
            "Epoch 43/80\n",
            "96/96 [==============================] - 1s 15ms/step - loss: 0.1991 - accuracy: 0.9243 - val_loss: 0.1982 - val_accuracy: 0.9267\n",
            "Epoch 44/80\n",
            "96/96 [==============================] - 1s 14ms/step - loss: 0.2040 - accuracy: 0.9246 - val_loss: 0.1849 - val_accuracy: 0.9343\n",
            "Epoch 45/80\n",
            "96/96 [==============================] - 1s 12ms/step - loss: 0.1944 - accuracy: 0.9299 - val_loss: 0.2281 - val_accuracy: 0.9106\n",
            "Epoch 46/80\n",
            "96/96 [==============================] - 1s 10ms/step - loss: 0.1971 - accuracy: 0.9223 - val_loss: 0.1845 - val_accuracy: 0.9358\n",
            "Epoch 47/80\n",
            "96/96 [==============================] - 1s 9ms/step - loss: 0.1968 - accuracy: 0.9302 - val_loss: 0.2096 - val_accuracy: 0.9274\n",
            "Epoch 48/80\n",
            "96/96 [==============================] - 1s 10ms/step - loss: 0.1912 - accuracy: 0.9292 - val_loss: 0.1780 - val_accuracy: 0.9389\n",
            "Epoch 49/80\n",
            "96/96 [==============================] - 1s 10ms/step - loss: 0.1888 - accuracy: 0.9309 - val_loss: 0.2172 - val_accuracy: 0.9144\n",
            "Epoch 50/80\n",
            "96/96 [==============================] - 1s 9ms/step - loss: 0.2008 - accuracy: 0.9233 - val_loss: 0.2011 - val_accuracy: 0.9259\n",
            "Epoch 51/80\n",
            "96/96 [==============================] - 1s 10ms/step - loss: 0.1932 - accuracy: 0.9318 - val_loss: 0.1803 - val_accuracy: 0.9358\n",
            "Epoch 52/80\n",
            "96/96 [==============================] - 2s 16ms/step - loss: 0.1961 - accuracy: 0.9276 - val_loss: 0.1938 - val_accuracy: 0.9305\n",
            "Epoch 53/80\n",
            "96/96 [==============================] - 1s 15ms/step - loss: 0.1985 - accuracy: 0.9279 - val_loss: 0.1823 - val_accuracy: 0.9320\n",
            "Epoch 54/80\n",
            "96/96 [==============================] - 2s 17ms/step - loss: 0.1923 - accuracy: 0.9309 - val_loss: 0.1856 - val_accuracy: 0.9404\n",
            "Epoch 55/80\n",
            "96/96 [==============================] - 1s 13ms/step - loss: 0.1971 - accuracy: 0.9256 - val_loss: 0.1926 - val_accuracy: 0.9328\n",
            "Epoch 56/80\n",
            "96/96 [==============================] - 1s 13ms/step - loss: 0.1985 - accuracy: 0.9279 - val_loss: 0.1986 - val_accuracy: 0.9259\n",
            "Epoch 57/80\n",
            "96/96 [==============================] - 1s 11ms/step - loss: 0.1915 - accuracy: 0.9279 - val_loss: 0.1811 - val_accuracy: 0.9374\n",
            "Epoch 58/80\n",
            "96/96 [==============================] - 1s 10ms/step - loss: 0.1915 - accuracy: 0.9237 - val_loss: 0.1826 - val_accuracy: 0.9404\n",
            "Epoch 59/80\n",
            "96/96 [==============================] - 1s 9ms/step - loss: 0.1839 - accuracy: 0.9318 - val_loss: 0.1809 - val_accuracy: 0.9358\n",
            "Epoch 60/80\n",
            "96/96 [==============================] - 1s 10ms/step - loss: 0.1866 - accuracy: 0.9292 - val_loss: 0.1912 - val_accuracy: 0.9328\n",
            "Epoch 61/80\n",
            "96/96 [==============================] - 1s 10ms/step - loss: 0.1957 - accuracy: 0.9256 - val_loss: 0.1844 - val_accuracy: 0.9358\n",
            "Epoch 62/80\n",
            "96/96 [==============================] - 1s 10ms/step - loss: 0.1889 - accuracy: 0.9325 - val_loss: 0.1939 - val_accuracy: 0.9251\n",
            "Epoch 63/80\n",
            "96/96 [==============================] - 1s 9ms/step - loss: 0.1849 - accuracy: 0.9302 - val_loss: 0.2232 - val_accuracy: 0.9091\n",
            "Epoch 64/80\n",
            "96/96 [==============================] - 1s 9ms/step - loss: 0.1952 - accuracy: 0.9253 - val_loss: 0.1919 - val_accuracy: 0.9381\n",
            "Epoch 65/80\n",
            "96/96 [==============================] - 1s 9ms/step - loss: 0.1880 - accuracy: 0.9286 - val_loss: 0.1857 - val_accuracy: 0.9389\n",
            "Epoch 66/80\n",
            "96/96 [==============================] - 1s 9ms/step - loss: 0.1929 - accuracy: 0.9250 - val_loss: 0.1894 - val_accuracy: 0.9290\n",
            "Epoch 67/80\n",
            "96/96 [==============================] - 1s 10ms/step - loss: 0.1881 - accuracy: 0.9282 - val_loss: 0.1763 - val_accuracy: 0.9381\n",
            "Epoch 68/80\n",
            "96/96 [==============================] - 1s 12ms/step - loss: 0.1898 - accuracy: 0.9302 - val_loss: 0.2162 - val_accuracy: 0.9175\n",
            "Epoch 69/80\n",
            "96/96 [==============================] - 1s 13ms/step - loss: 0.1878 - accuracy: 0.9315 - val_loss: 0.1951 - val_accuracy: 0.9282\n",
            "Epoch 70/80\n",
            "96/96 [==============================] - 1s 13ms/step - loss: 0.1850 - accuracy: 0.9309 - val_loss: 0.1807 - val_accuracy: 0.9320\n",
            "Epoch 71/80\n",
            "96/96 [==============================] - 1s 9ms/step - loss: 0.1857 - accuracy: 0.9318 - val_loss: 0.1805 - val_accuracy: 0.9343\n",
            "Epoch 72/80\n",
            "96/96 [==============================] - 1s 9ms/step - loss: 0.1972 - accuracy: 0.9250 - val_loss: 0.1844 - val_accuracy: 0.9358\n",
            "Epoch 73/80\n",
            "96/96 [==============================] - 1s 9ms/step - loss: 0.1851 - accuracy: 0.9322 - val_loss: 0.2106 - val_accuracy: 0.9198\n",
            "Epoch 74/80\n",
            "96/96 [==============================] - 1s 9ms/step - loss: 0.1865 - accuracy: 0.9253 - val_loss: 0.2043 - val_accuracy: 0.9267\n",
            "Epoch 75/80\n",
            "96/96 [==============================] - 1s 9ms/step - loss: 0.1884 - accuracy: 0.9302 - val_loss: 0.1820 - val_accuracy: 0.9381\n",
            "Epoch 76/80\n",
            "96/96 [==============================] - 1s 9ms/step - loss: 0.1841 - accuracy: 0.9322 - val_loss: 0.2099 - val_accuracy: 0.9305\n",
            "Epoch 77/80\n",
            "96/96 [==============================] - 1s 10ms/step - loss: 0.1894 - accuracy: 0.9296 - val_loss: 0.2095 - val_accuracy: 0.9213\n",
            "Epoch 78/80\n",
            "96/96 [==============================] - 1s 9ms/step - loss: 0.1826 - accuracy: 0.9318 - val_loss: 0.1787 - val_accuracy: 0.9381\n",
            "Epoch 79/80\n",
            "96/96 [==============================] - 1s 9ms/step - loss: 0.1818 - accuracy: 0.9302 - val_loss: 0.1884 - val_accuracy: 0.9343\n",
            "Epoch 80/80\n",
            "96/96 [==============================] - 1s 10ms/step - loss: 0.1932 - accuracy: 0.9318 - val_loss: 0.1908 - val_accuracy: 0.9312\n"
          ]
        }
      ],
      "source": [
        "history=model20.fit(X_train2,y_train,epochs=80,validation_data=(X_test2,y_test))"
      ]
    },
    {
      "cell_type": "code",
      "source": [],
      "metadata": {
        "id": "agkWJ58858kV"
      },
      "execution_count": null,
      "outputs": []
    },
    {
      "cell_type": "code",
      "execution_count": null,
      "metadata": {
        "id": "cQKHzGQsR2HB"
      },
      "outputs": [],
      "source": [
        "def plot_learningcurve(history,epochs):\n",
        "  epoch=range(1,epochs+1)\n",
        "  # accuracy\n",
        "  plt.plot(epoch, history.history['accuracy'])\n",
        "  plt.plot(epoch, history.history['val_accuracy'])\n",
        "  plt.title('Model accuracy')\n",
        "  plt.xlabel('epoch')\n",
        "  plt.ylabel('accuracy')\n",
        "  plt.legend(['train','val'], loc='upper left')\n",
        "  plt.show()\n",
        "\n",
        "  # loss\n",
        "  plt.plot(epoch, history.history['loss'])\n",
        "  plt.plot(epoch, history.history['val_loss'])\n",
        "  plt.title('Model loss')\n",
        "  plt.xlabel('epoch')\n",
        "  plt.ylabel('loss')\n",
        "  plt.legend(['train','val'], loc='upper left')\n",
        "  plt.show()"
      ]
    },
    {
      "cell_type": "code",
      "execution_count": null,
      "metadata": {
        "colab": {
          "base_uri": "https://localhost:8080/",
          "height": 927
        },
        "id": "1kyqeUL6R2HC",
        "outputId": "22ff92ea-774a-4265-c8fd-9263aa8de8ed"
      },
      "outputs": [
        {
          "output_type": "display_data",
          "data": {
            "text/plain": [
              "<Figure size 640x480 with 1 Axes>"
            ],
            "image/png": "[encoded data removed]"
          },
          "metadata": {}
        },
        {
          "output_type": "display_data",
          "data": {
            "text/plain": [
              "<Figure size 640x480 with 1 Axes>"
            ],
            "image/png": "[encoded data removed]"
          },
          "metadata": {}
        }
      ],
      "source": [
        "plot_learningcurve(history,80)"
      ]
    },
    {
      "cell_type": "code",
      "source": [
        "\n",
        "c=model20.evaluate(X_test2,y_test)"
      ],
      "metadata": {
        "colab": {
          "base_uri": "https://localhost:8080/"
        },
        "id": "trF5dDU8UGOh",
        "outputId": "bcf2d379-0a64-457b-ad18-b0bc139331a8"
      },
      "execution_count": null,
      "outputs": [
        {
          "output_type": "stream",
          "name": "stdout",
          "text": [
            "41/41 [==============================] - 0s 4ms/step - loss: 0.1908 - accuracy: 0.9312\n"
          ]
        }
      ]
    },
    {
      "cell_type": "code",
      "source": [
        "pred = (model20.predict(X_test2))\n",
        "res = []\n",
        "for ele in pred:\n",
        "  if(ele < 0.5):\n",
        "    res.append(0)\n",
        "  else:\n",
        "    res.append(1)\n",
        "print(classification_report(y_test, res))"
      ],
      "metadata": {
        "id": "k_LmS-wmVToS",
        "colab": {
          "base_uri": "https://localhost:8080/"
        },
        "outputId": "b38523c7-7baa-41c9-a5f1-51eeb00a9e5e"
      },
      "execution_count": null,
      "outputs": [
        {
          "output_type": "stream",
          "name": "stdout",
          "text": [
            "41/41 [==============================] - 0s 3ms/step\n",
            "              precision    recall  f1-score   support\n",
            "\n",
            "           0       0.90      0.81      0.85       326\n",
            "           1       0.94      0.97      0.96       983\n",
            "\n",
            "    accuracy                           0.93      1309\n",
            "   macro avg       0.92      0.89      0.90      1309\n",
            "weighted avg       0.93      0.93      0.93      1309\n",
            "\n"
          ]
        }
      ]
    }
  ],
  "metadata": {
    "accelerator": "GPU",
    "colab": {
      "provenance": [],
      "include_colab_link": true
    },
    "gpuClass": "standard",
    "kernelspec": {
      "display_name": "Python 3",
      "name": "python3"
    },
    "language_info": {
      "name": "python"
    }
  },
  "nbformat": 4,
  "nbformat_minor": 0
}