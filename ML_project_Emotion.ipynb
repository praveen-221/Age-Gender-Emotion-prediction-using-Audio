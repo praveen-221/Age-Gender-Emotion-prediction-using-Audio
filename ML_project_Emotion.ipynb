{
  "cells": [
    {
      "cell_type": "markdown",
      "metadata": {
        "id": "view-in-github",
        "colab_type": "text"
      },
      "source": [
        "<a href=\"https://colab.research.google.com/github/praveen-221/Age-Gender-Emotion-prediction-using-Audio/blob/main/ML_project_Emotion.ipynb\" target=\"_parent\"><img src=\"https://colab.research.google.com/assets/colab-badge.svg\" alt=\"Open In Colab\"/></a>"
      ]
    },
    {
      "cell_type": "markdown",
      "metadata": {
        "id": "EzZ3BroMAOQn"
      },
      "source": [
        "### Emotion Classification"
      ]
    },
    {
      "cell_type": "code",
      "execution_count": null,
      "metadata": {
        "id": "Vus0wvX2_q3I"
      },
      "outputs": [],
      "source": [
        "import pandas as pd\n",
        "import numpy as np\n",
        "from sklearn.model_selection import train_test_split\n",
        "from sklearn.metrics import precision_score, recall_score, f1_score, accuracy_score\n",
        "from sklearn import tree\n",
        "from sklearn.ensemble import RandomForestClassifier\n",
        "from sklearn.svm import SVC"
      ]
    },
    {
      "cell_type": "code",
      "execution_count": null,
      "metadata": {
        "colab": {
          "base_uri": "https://localhost:8080/",
          "height": 505
        },
        "id": "sWN1fGO5Rnzp",
        "outputId": "c9b73f67-2bc8-46b2-9d74-f6fd0fbc5aaf"
      },
      "outputs": [
        {
          "output_type": "execute_result",
          "data": {
            "text/plain": [
              "     Unnamed: 0.1  Unnamed: 0     X  meanfreq        sd    median       Q25  \\\n",
              "0               0           1     1  0.181338  0.060495  0.187476  0.126197   \n",
              "1               1           2     2  0.186897  0.062260  0.195070  0.130847   \n",
              "2               2           3     3  0.189102  0.062901  0.204945  0.131422   \n",
              "3               4           5     5  0.183036  0.060051  0.174115  0.129949   \n",
              "4               5           6     6  0.168793  0.057910  0.156266  0.116783   \n",
              "..            ...         ...   ...       ...       ...       ...       ...   \n",
              "904          1243        1244  1436  0.244013  0.035477  0.254385  0.229653   \n",
              "905          1244        1245  1437  0.235383  0.045303  0.248974  0.220745   \n",
              "906          1245        1246  1438  0.231211  0.044793  0.234847  0.221477   \n",
              "907          1246        1247  1439  0.213587  0.082267  0.249435  0.207680   \n",
              "908          1247        1248  1440  0.212537  0.078746  0.245034  0.209794   \n",
              "\n",
              "          Q75       IQR      skew  ...  centroid   meanfun    minfun  \\\n",
              "0    0.233586  0.107389  0.869088  ...  0.181338  0.137742  0.023022   \n",
              "1    0.243987  0.113140  1.191767  ...  0.186897  0.121811  0.018412   \n",
              "2    0.249978  0.118556  1.312690  ...  0.189102  0.123758  0.083333   \n",
              "3    0.236967  0.107017  1.096409  ...  0.183036  0.128469  0.044693   \n",
              "4    0.216326  0.099543  1.386837  ...  0.168793  0.109720  0.022472   \n",
              "..        ...       ...       ...  ...       ...       ...       ...   \n",
              "904  0.265573  0.035920  2.214752  ...  0.244013  0.202433  0.028829   \n",
              "905  0.264233  0.043488  2.474743  ...  0.235383  0.189293  0.031250   \n",
              "906  0.262090  0.040613  2.607668  ...  0.231211  0.171805  0.022346   \n",
              "907  0.268538  0.060858  3.460579  ...  0.213587  0.155277  0.020592   \n",
              "908  0.264031  0.054238  2.563983  ...  0.212537  0.162938  0.024845   \n",
              "\n",
              "       maxfun   meandom    mindom    maxdom   dfrange   modindx  label  \n",
              "0    0.271186  0.777344  0.085938  6.226562  6.140625  0.116586    sad  \n",
              "1    0.271186  0.930339  0.085938  4.000000  3.914062  0.144983    sad  \n",
              "2    0.262295  0.332386  0.085938  0.625000  0.539062  0.334783    sad  \n",
              "3    0.258065  1.012019  0.085938  5.468750  5.382812  0.304910    sad  \n",
              "4    0.235294  0.228795  0.093750  0.750000  0.656250  0.306777    sad  \n",
              "..        ...       ...       ...       ...       ...       ...    ...  \n",
              "904  0.271186  0.616536  0.210938  1.609375  1.398438  0.281869  happy  \n",
              "905  0.275862  1.115723  0.265625  5.500000  5.234375  0.167861  happy  \n",
              "906  0.275862  1.070801  0.265625  4.554688  4.289062  0.214936  happy  \n",
              "907  0.275862  1.724888  0.273438  6.812500  6.539062  0.238857  happy  \n",
              "908  0.258065  0.915625  0.000000  6.281250  6.281250  0.193141  happy  \n",
              "\n",
              "[909 rows x 24 columns]"
            ],
            "text/html": [
              "\n",
              "  <div id=\"df-9d6d34bf-46a4-413e-b3b5-47a5ecf01b39\">\n",
              "    <div class=\"colab-df-container\">\n",
              "      <div>\n",
              "<style scoped>\n",
              "    .dataframe tbody tr th:only-of-type {\n",
              "        vertical-align: middle;\n",
              "    }\n",
              "\n",
              "    .dataframe tbody tr th {\n",
              "        vertical-align: top;\n",
              "    }\n",
              "\n",
              "    .dataframe thead th {\n",
              "        text-align: right;\n",
              "    }\n",
              "</style>\n",
              "<table border=\"1\" class=\"dataframe\">\n",
              "  <thead>\n",
              "    <tr style=\"text-align: right;\">\n",
              "      <th></th>\n",
              "      <th>Unnamed: 0.1</th>\n",
              "      <th>Unnamed: 0</th>\n",
              "      <th>X</th>\n",
              "      <th>meanfreq</th>\n",
              "      <th>sd</th>\n",
              "      <th>median</th>\n",
              "      <th>Q25</th>\n",
              "      <th>Q75</th>\n",
              "      <th>IQR</th>\n",
              "      <th>skew</th>\n",
              "      <th>...</th>\n",
              "      <th>centroid</th>\n",
              "      <th>meanfun</th>\n",
              "      <th>minfun</th>\n",
              "      <th>maxfun</th>\n",
              "      <th>meandom</th>\n",
              "      <th>mindom</th>\n",
              "      <th>maxdom</th>\n",
              "      <th>dfrange</th>\n",
              "      <th>modindx</th>\n",
              "      <th>label</th>\n",
              "    </tr>\n",
              "  </thead>\n",
              "  <tbody>\n",
              "    <tr>\n",
              "      <th>0</th>\n",
              "      <td>0</td>\n",
              "      <td>1</td>\n",
              "      <td>1</td>\n",
              "      <td>0.181338</td>\n",
              "      <td>0.060495</td>\n",
              "      <td>0.187476</td>\n",
              "      <td>0.126197</td>\n",
              "      <td>0.233586</td>\n",
              "      <td>0.107389</td>\n",
              "      <td>0.869088</td>\n",
              "      <td>...</td>\n",
              "      <td>0.181338</td>\n",
              "      <td>0.137742</td>\n",
              "      <td>0.023022</td>\n",
              "      <td>0.271186</td>\n",
              "      <td>0.777344</td>\n",
              "      <td>0.085938</td>\n",
              "      <td>6.226562</td>\n",
              "      <td>6.140625</td>\n",
              "      <td>0.116586</td>\n",
              "      <td>sad</td>\n",
              "    </tr>\n",
              "    <tr>\n",
              "      <th>1</th>\n",
              "      <td>1</td>\n",
              "      <td>2</td>\n",
              "      <td>2</td>\n",
              "      <td>0.186897</td>\n",
              "      <td>0.062260</td>\n",
              "      <td>0.195070</td>\n",
              "      <td>0.130847</td>\n",
              "      <td>0.243987</td>\n",
              "      <td>0.113140</td>\n",
              "      <td>1.191767</td>\n",
              "      <td>...</td>\n",
              "      <td>0.186897</td>\n",
              "      <td>0.121811</td>\n",
              "      <td>0.018412</td>\n",
              "      <td>0.271186</td>\n",
              "      <td>0.930339</td>\n",
              "      <td>0.085938</td>\n",
              "      <td>4.000000</td>\n",
              "      <td>3.914062</td>\n",
              "      <td>0.144983</td>\n",
              "      <td>sad</td>\n",
              "    </tr>\n",
              "    <tr>\n",
              "      <th>2</th>\n",
              "      <td>2</td>\n",
              "      <td>3</td>\n",
              "      <td>3</td>\n",
              "      <td>0.189102</td>\n",
              "      <td>0.062901</td>\n",
              "      <td>0.204945</td>\n",
              "      <td>0.131422</td>\n",
              "      <td>0.249978</td>\n",
              "      <td>0.118556</td>\n",
              "      <td>1.312690</td>\n",
              "      <td>...</td>\n",
              "      <td>0.189102</td>\n",
              "      <td>0.123758</td>\n",
              "      <td>0.083333</td>\n",
              "      <td>0.262295</td>\n",
              "      <td>0.332386</td>\n",
              "      <td>0.085938</td>\n",
              "      <td>0.625000</td>\n",
              "      <td>0.539062</td>\n",
              "      <td>0.334783</td>\n",
              "      <td>sad</td>\n",
              "    </tr>\n",
              "    <tr>\n",
              "      <th>3</th>\n",
              "      <td>4</td>\n",
              "      <td>5</td>\n",
              "      <td>5</td>\n",
              "      <td>0.183036</td>\n",
              "      <td>0.060051</td>\n",
              "      <td>0.174115</td>\n",
              "      <td>0.129949</td>\n",
              "      <td>0.236967</td>\n",
              "      <td>0.107017</td>\n",
              "      <td>1.096409</td>\n",
              "      <td>...</td>\n",
              "      <td>0.183036</td>\n",
              "      <td>0.128469</td>\n",
              "      <td>0.044693</td>\n",
              "      <td>0.258065</td>\n",
              "      <td>1.012019</td>\n",
              "      <td>0.085938</td>\n",
              "      <td>5.468750</td>\n",
              "      <td>5.382812</td>\n",
              "      <td>0.304910</td>\n",
              "      <td>sad</td>\n",
              "    </tr>\n",
              "    <tr>\n",
              "      <th>4</th>\n",
              "      <td>5</td>\n",
              "      <td>6</td>\n",
              "      <td>6</td>\n",
              "      <td>0.168793</td>\n",
              "      <td>0.057910</td>\n",
              "      <td>0.156266</td>\n",
              "      <td>0.116783</td>\n",
              "      <td>0.216326</td>\n",
              "      <td>0.099543</td>\n",
              "      <td>1.386837</td>\n",
              "      <td>...</td>\n",
              "      <td>0.168793</td>\n",
              "      <td>0.109720</td>\n",
              "      <td>0.022472</td>\n",
              "      <td>0.235294</td>\n",
              "      <td>0.228795</td>\n",
              "      <td>0.093750</td>\n",
              "      <td>0.750000</td>\n",
              "      <td>0.656250</td>\n",
              "      <td>0.306777</td>\n",
              "      <td>sad</td>\n",
              "    </tr>\n",
              "    <tr>\n",
              "      <th>...</th>\n",
              "      <td>...</td>\n",
              "      <td>...</td>\n",
              "      <td>...</td>\n",
              "      <td>...</td>\n",
              "      <td>...</td>\n",
              "      <td>...</td>\n",
              "      <td>...</td>\n",
              "      <td>...</td>\n",
              "      <td>...</td>\n",
              "      <td>...</td>\n",
              "      <td>...</td>\n",
              "      <td>...</td>\n",
              "      <td>...</td>\n",
              "      <td>...</td>\n",
              "      <td>...</td>\n",
              "      <td>...</td>\n",
              "      <td>...</td>\n",
              "      <td>...</td>\n",
              "      <td>...</td>\n",
              "      <td>...</td>\n",
              "      <td>...</td>\n",
              "    </tr>\n",
              "    <tr>\n",
              "      <th>904</th>\n",
              "      <td>1243</td>\n",
              "      <td>1244</td>\n",
              "      <td>1436</td>\n",
              "      <td>0.244013</td>\n",
              "      <td>0.035477</td>\n",
              "      <td>0.254385</td>\n",
              "      <td>0.229653</td>\n",
              "      <td>0.265573</td>\n",
              "      <td>0.035920</td>\n",
              "      <td>2.214752</td>\n",
              "      <td>...</td>\n",
              "      <td>0.244013</td>\n",
              "      <td>0.202433</td>\n",
              "      <td>0.028829</td>\n",
              "      <td>0.271186</td>\n",
              "      <td>0.616536</td>\n",
              "      <td>0.210938</td>\n",
              "      <td>1.609375</td>\n",
              "      <td>1.398438</td>\n",
              "      <td>0.281869</td>\n",
              "      <td>happy</td>\n",
              "    </tr>\n",
              "    <tr>\n",
              "      <th>905</th>\n",
              "      <td>1244</td>\n",
              "      <td>1245</td>\n",
              "      <td>1437</td>\n",
              "      <td>0.235383</td>\n",
              "      <td>0.045303</td>\n",
              "      <td>0.248974</td>\n",
              "      <td>0.220745</td>\n",
              "      <td>0.264233</td>\n",
              "      <td>0.043488</td>\n",
              "      <td>2.474743</td>\n",
              "      <td>...</td>\n",
              "      <td>0.235383</td>\n",
              "      <td>0.189293</td>\n",
              "      <td>0.031250</td>\n",
              "      <td>0.275862</td>\n",
              "      <td>1.115723</td>\n",
              "      <td>0.265625</td>\n",
              "      <td>5.500000</td>\n",
              "      <td>5.234375</td>\n",
              "      <td>0.167861</td>\n",
              "      <td>happy</td>\n",
              "    </tr>\n",
              "    <tr>\n",
              "      <th>906</th>\n",
              "      <td>1245</td>\n",
              "      <td>1246</td>\n",
              "      <td>1438</td>\n",
              "      <td>0.231211</td>\n",
              "      <td>0.044793</td>\n",
              "      <td>0.234847</td>\n",
              "      <td>0.221477</td>\n",
              "      <td>0.262090</td>\n",
              "      <td>0.040613</td>\n",
              "      <td>2.607668</td>\n",
              "      <td>...</td>\n",
              "      <td>0.231211</td>\n",
              "      <td>0.171805</td>\n",
              "      <td>0.022346</td>\n",
              "      <td>0.275862</td>\n",
              "      <td>1.070801</td>\n",
              "      <td>0.265625</td>\n",
              "      <td>4.554688</td>\n",
              "      <td>4.289062</td>\n",
              "      <td>0.214936</td>\n",
              "      <td>happy</td>\n",
              "    </tr>\n",
              "    <tr>\n",
              "      <th>907</th>\n",
              "      <td>1246</td>\n",
              "      <td>1247</td>\n",
              "      <td>1439</td>\n",
              "      <td>0.213587</td>\n",
              "      <td>0.082267</td>\n",
              "      <td>0.249435</td>\n",
              "      <td>0.207680</td>\n",
              "      <td>0.268538</td>\n",
              "      <td>0.060858</td>\n",
              "      <td>3.460579</td>\n",
              "      <td>...</td>\n",
              "      <td>0.213587</td>\n",
              "      <td>0.155277</td>\n",
              "      <td>0.020592</td>\n",
              "      <td>0.275862</td>\n",
              "      <td>1.724888</td>\n",
              "      <td>0.273438</td>\n",
              "      <td>6.812500</td>\n",
              "      <td>6.539062</td>\n",
              "      <td>0.238857</td>\n",
              "      <td>happy</td>\n",
              "    </tr>\n",
              "    <tr>\n",
              "      <th>908</th>\n",
              "      <td>1247</td>\n",
              "      <td>1248</td>\n",
              "      <td>1440</td>\n",
              "      <td>0.212537</td>\n",
              "      <td>0.078746</td>\n",
              "      <td>0.245034</td>\n",
              "      <td>0.209794</td>\n",
              "      <td>0.264031</td>\n",
              "      <td>0.054238</td>\n",
              "      <td>2.563983</td>\n",
              "      <td>...</td>\n",
              "      <td>0.212537</td>\n",
              "      <td>0.162938</td>\n",
              "      <td>0.024845</td>\n",
              "      <td>0.258065</td>\n",
              "      <td>0.915625</td>\n",
              "      <td>0.000000</td>\n",
              "      <td>6.281250</td>\n",
              "      <td>6.281250</td>\n",
              "      <td>0.193141</td>\n",
              "      <td>happy</td>\n",
              "    </tr>\n",
              "  </tbody>\n",
              "</table>\n",
              "<p>909 rows × 24 columns</p>\n",
              "</div>\n",
              "      <button class=\"colab-df-convert\" onclick=\"convertToInteractive('df-9d6d34bf-46a4-413e-b3b5-47a5ecf01b39')\"\n",
              "              title=\"Convert this dataframe to an interactive table.\"\n",
              "              style=\"display:none;\">\n",
              "        \n",
              "  <svg xmlns=\"http://www.w3.org/2000/svg\" height=\"24px\"viewBox=\"0 0 24 24\"\n",
              "       width=\"24px\">\n",
              "    <path d=\"M0 0h24v24H0V0z\" fill=\"none\"/>\n",
              "    <path d=\"M18.56 5.44l.94 2.06.94-2.06 2.06-.94-2.06-.94-.94-2.06-.94 2.06-2.06.94zm-11 1L8.5 8.5l.94-2.06 2.06-.94-2.06-.94L8.5 2.5l-.94 2.06-2.06.94zm10 10l.94 2.06.94-2.06 2.06-.94-2.06-.94-.94-2.06-.94 2.06-2.06.94z\"/><path d=\"M17.41 7.96l-1.37-1.37c-.4-.4-.92-.59-1.43-.59-.52 0-1.04.2-1.43.59L10.3 9.45l-7.72 7.72c-.78.78-.78 2.05 0 2.83L4 21.41c.39.39.9.59 1.41.59.51 0 1.02-.2 1.41-.59l7.78-7.78 2.81-2.81c.8-.78.8-2.07 0-2.86zM5.41 20L4 18.59l7.72-7.72 1.47 1.35L5.41 20z\"/>\n",
              "  </svg>\n",
              "      </button>\n",
              "      \n",
              "  <style>\n",
              "    .colab-df-container {\n",
              "      display:flex;\n",
              "      flex-wrap:wrap;\n",
              "      gap: 12px;\n",
              "    }\n",
              "\n",
              "    .colab-df-convert {\n",
              "      background-color: #E8F0FE;\n",
              "      border: none;\n",
              "      border-radius: 50%;\n",
              "      cursor: pointer;\n",
              "      display: none;\n",
              "      fill: #1967D2;\n",
              "      height: 32px;\n",
              "      padding: 0 0 0 0;\n",
              "      width: 32px;\n",
              "    }\n",
              "\n",
              "    .colab-df-convert:hover {\n",
              "      background-color: #E2EBFA;\n",
              "      box-shadow: 0px 1px 2px rgba(60, 64, 67, 0.3), 0px 1px 3px 1px rgba(60, 64, 67, 0.15);\n",
              "      fill: #174EA6;\n",
              "    }\n",
              "\n",
              "    [theme=dark] .colab-df-convert {\n",
              "      background-color: #3B4455;\n",
              "      fill: #D2E3FC;\n",
              "    }\n",
              "\n",
              "    [theme=dark] .colab-df-convert:hover {\n",
              "      background-color: #434B5C;\n",
              "      box-shadow: 0px 1px 3px 1px rgba(0, 0, 0, 0.15);\n",
              "      filter: drop-shadow(0px 1px 2px rgba(0, 0, 0, 0.3));\n",
              "      fill: #FFFFFF;\n",
              "    }\n",
              "  </style>\n",
              "\n",
              "      <script>\n",
              "        const buttonEl =\n",
              "          document.querySelector('#df-9d6d34bf-46a4-413e-b3b5-47a5ecf01b39 button.colab-df-convert');\n",
              "        buttonEl.style.display =\n",
              "          google.colab.kernel.accessAllowed ? 'block' : 'none';\n",
              "\n",
              "        async function convertToInteractive(key) {\n",
              "          const element = document.querySelector('#df-9d6d34bf-46a4-413e-b3b5-47a5ecf01b39');\n",
              "          const dataTable =\n",
              "            await google.colab.kernel.invokeFunction('convertToInteractive',\n",
              "                                                     [key], {});\n",
              "          if (!dataTable) return;\n",
              "\n",
              "          const docLinkHtml = 'Like what you see? Visit the ' +\n",
              "            '<a target=\"_blank\" href=https://colab.research.google.com/notebooks/data_table.ipynb>data table notebook</a>'\n",
              "            + ' to learn more about interactive tables.';\n",
              "          element.innerHTML = '';\n",
              "          dataTable['output_type'] = 'display_data';\n",
              "          await google.colab.output.renderOutput(dataTable, element);\n",
              "          const docLink = document.createElement('div');\n",
              "          docLink.innerHTML = docLinkHtml;\n",
              "          element.appendChild(docLink);\n",
              "        }\n",
              "      </script>\n",
              "    </div>\n",
              "  </div>\n",
              "  "
            ]
          },
          "metadata": {},
          "execution_count": 5
        }
      ],
      "source": [
        "data = pd.read_csv(\"/content/drive/MyDrive/cleaned-dataset/cleaned_emotion.csv\")\n",
        "# data = pd.read_csv(\"/content/drive/MyDrive/cleaned_emotion.csv\")\n",
        "# data = pd.read_csv(\"cleaned_emotion.csv\")\n",
        "data"
      ]
    },
    {
      "cell_type": "code",
      "execution_count": null,
      "metadata": {
        "id": "bfYEjvH_F7yV"
      },
      "outputs": [],
      "source": [
        "from sklearn.preprocessing import LabelEncoder\n",
        "le = LabelEncoder()"
      ]
    },
    {
      "cell_type": "code",
      "execution_count": null,
      "metadata": {
        "colab": {
          "base_uri": "https://localhost:8080/",
          "height": 505
        },
        "id": "DgkLUBv9F_C9",
        "outputId": "140c9d1c-ba88-486e-f0bf-d3638cc93912"
      },
      "outputs": [
        {
          "output_type": "execute_result",
          "data": {
            "text/plain": [
              "     Unnamed: 0.1  Unnamed: 0     X  meanfreq        sd    median       Q25  \\\n",
              "0               0           1     1  0.181338  0.060495  0.187476  0.126197   \n",
              "1               1           2     2  0.186897  0.062260  0.195070  0.130847   \n",
              "2               2           3     3  0.189102  0.062901  0.204945  0.131422   \n",
              "3               4           5     5  0.183036  0.060051  0.174115  0.129949   \n",
              "4               5           6     6  0.168793  0.057910  0.156266  0.116783   \n",
              "..            ...         ...   ...       ...       ...       ...       ...   \n",
              "904          1243        1244  1436  0.244013  0.035477  0.254385  0.229653   \n",
              "905          1244        1245  1437  0.235383  0.045303  0.248974  0.220745   \n",
              "906          1245        1246  1438  0.231211  0.044793  0.234847  0.221477   \n",
              "907          1246        1247  1439  0.213587  0.082267  0.249435  0.207680   \n",
              "908          1247        1248  1440  0.212537  0.078746  0.245034  0.209794   \n",
              "\n",
              "          Q75       IQR      skew  ...  centroid   meanfun    minfun  \\\n",
              "0    0.233586  0.107389  0.869088  ...  0.181338  0.137742  0.023022   \n",
              "1    0.243987  0.113140  1.191767  ...  0.186897  0.121811  0.018412   \n",
              "2    0.249978  0.118556  1.312690  ...  0.189102  0.123758  0.083333   \n",
              "3    0.236967  0.107017  1.096409  ...  0.183036  0.128469  0.044693   \n",
              "4    0.216326  0.099543  1.386837  ...  0.168793  0.109720  0.022472   \n",
              "..        ...       ...       ...  ...       ...       ...       ...   \n",
              "904  0.265573  0.035920  2.214752  ...  0.244013  0.202433  0.028829   \n",
              "905  0.264233  0.043488  2.474743  ...  0.235383  0.189293  0.031250   \n",
              "906  0.262090  0.040613  2.607668  ...  0.231211  0.171805  0.022346   \n",
              "907  0.268538  0.060858  3.460579  ...  0.213587  0.155277  0.020592   \n",
              "908  0.264031  0.054238  2.563983  ...  0.212537  0.162938  0.024845   \n",
              "\n",
              "       maxfun   meandom    mindom    maxdom   dfrange   modindx  label  \n",
              "0    0.271186  0.777344  0.085938  6.226562  6.140625  0.116586      2  \n",
              "1    0.271186  0.930339  0.085938  4.000000  3.914062  0.144983      2  \n",
              "2    0.262295  0.332386  0.085938  0.625000  0.539062  0.334783      2  \n",
              "3    0.258065  1.012019  0.085938  5.468750  5.382812  0.304910      2  \n",
              "4    0.235294  0.228795  0.093750  0.750000  0.656250  0.306777      2  \n",
              "..        ...       ...       ...       ...       ...       ...    ...  \n",
              "904  0.271186  0.616536  0.210938  1.609375  1.398438  0.281869      1  \n",
              "905  0.275862  1.115723  0.265625  5.500000  5.234375  0.167861      1  \n",
              "906  0.275862  1.070801  0.265625  4.554688  4.289062  0.214936      1  \n",
              "907  0.275862  1.724888  0.273438  6.812500  6.539062  0.238857      1  \n",
              "908  0.258065  0.915625  0.000000  6.281250  6.281250  0.193141      1  \n",
              "\n",
              "[909 rows x 24 columns]"
            ],
            "text/html": [
              "\n",
              "  <div id=\"df-af9a56c7-2b8f-43e1-abd8-77637e5113e0\">\n",
              "    <div class=\"colab-df-container\">\n",
              "      <div>\n",
              "<style scoped>\n",
              "    .dataframe tbody tr th:only-of-type {\n",
              "        vertical-align: middle;\n",
              "    }\n",
              "\n",
              "    .dataframe tbody tr th {\n",
              "        vertical-align: top;\n",
              "    }\n",
              "\n",
              "    .dataframe thead th {\n",
              "        text-align: right;\n",
              "    }\n",
              "</style>\n",
              "<table border=\"1\" class=\"dataframe\">\n",
              "  <thead>\n",
              "    <tr style=\"text-align: right;\">\n",
              "      <th></th>\n",
              "      <th>Unnamed: 0.1</th>\n",
              "      <th>Unnamed: 0</th>\n",
              "      <th>X</th>\n",
              "      <th>meanfreq</th>\n",
              "      <th>sd</th>\n",
              "      <th>median</th>\n",
              "      <th>Q25</th>\n",
              "      <th>Q75</th>\n",
              "      <th>IQR</th>\n",
              "      <th>skew</th>\n",
              "      <th>...</th>\n",
              "      <th>centroid</th>\n",
              "      <th>meanfun</th>\n",
              "      <th>minfun</th>\n",
              "      <th>maxfun</th>\n",
              "      <th>meandom</th>\n",
              "      <th>mindom</th>\n",
              "      <th>maxdom</th>\n",
              "      <th>dfrange</th>\n",
              "      <th>modindx</th>\n",
              "      <th>label</th>\n",
              "    </tr>\n",
              "  </thead>\n",
              "  <tbody>\n",
              "    <tr>\n",
              "      <th>0</th>\n",
              "      <td>0</td>\n",
              "      <td>1</td>\n",
              "      <td>1</td>\n",
              "      <td>0.181338</td>\n",
              "      <td>0.060495</td>\n",
              "      <td>0.187476</td>\n",
              "      <td>0.126197</td>\n",
              "      <td>0.233586</td>\n",
              "      <td>0.107389</td>\n",
              "      <td>0.869088</td>\n",
              "      <td>...</td>\n",
              "      <td>0.181338</td>\n",
              "      <td>0.137742</td>\n",
              "      <td>0.023022</td>\n",
              "      <td>0.271186</td>\n",
              "      <td>0.777344</td>\n",
              "      <td>0.085938</td>\n",
              "      <td>6.226562</td>\n",
              "      <td>6.140625</td>\n",
              "      <td>0.116586</td>\n",
              "      <td>2</td>\n",
              "    </tr>\n",
              "    <tr>\n",
              "      <th>1</th>\n",
              "      <td>1</td>\n",
              "      <td>2</td>\n",
              "      <td>2</td>\n",
              "      <td>0.186897</td>\n",
              "      <td>0.062260</td>\n",
              "      <td>0.195070</td>\n",
              "      <td>0.130847</td>\n",
              "      <td>0.243987</td>\n",
              "      <td>0.113140</td>\n",
              "      <td>1.191767</td>\n",
              "      <td>...</td>\n",
              "      <td>0.186897</td>\n",
              "      <td>0.121811</td>\n",
              "      <td>0.018412</td>\n",
              "      <td>0.271186</td>\n",
              "      <td>0.930339</td>\n",
              "      <td>0.085938</td>\n",
              "      <td>4.000000</td>\n",
              "      <td>3.914062</td>\n",
              "      <td>0.144983</td>\n",
              "      <td>2</td>\n",
              "    </tr>\n",
              "    <tr>\n",
              "      <th>2</th>\n",
              "      <td>2</td>\n",
              "      <td>3</td>\n",
              "      <td>3</td>\n",
              "      <td>0.189102</td>\n",
              "      <td>0.062901</td>\n",
              "      <td>0.204945</td>\n",
              "      <td>0.131422</td>\n",
              "      <td>0.249978</td>\n",
              "      <td>0.118556</td>\n",
              "      <td>1.312690</td>\n",
              "      <td>...</td>\n",
              "      <td>0.189102</td>\n",
              "      <td>0.123758</td>\n",
              "      <td>0.083333</td>\n",
              "      <td>0.262295</td>\n",
              "      <td>0.332386</td>\n",
              "      <td>0.085938</td>\n",
              "      <td>0.625000</td>\n",
              "      <td>0.539062</td>\n",
              "      <td>0.334783</td>\n",
              "      <td>2</td>\n",
              "    </tr>\n",
              "    <tr>\n",
              "      <th>3</th>\n",
              "      <td>4</td>\n",
              "      <td>5</td>\n",
              "      <td>5</td>\n",
              "      <td>0.183036</td>\n",
              "      <td>0.060051</td>\n",
              "      <td>0.174115</td>\n",
              "      <td>0.129949</td>\n",
              "      <td>0.236967</td>\n",
              "      <td>0.107017</td>\n",
              "      <td>1.096409</td>\n",
              "      <td>...</td>\n",
              "      <td>0.183036</td>\n",
              "      <td>0.128469</td>\n",
              "      <td>0.044693</td>\n",
              "      <td>0.258065</td>\n",
              "      <td>1.012019</td>\n",
              "      <td>0.085938</td>\n",
              "      <td>5.468750</td>\n",
              "      <td>5.382812</td>\n",
              "      <td>0.304910</td>\n",
              "      <td>2</td>\n",
              "    </tr>\n",
              "    <tr>\n",
              "      <th>4</th>\n",
              "      <td>5</td>\n",
              "      <td>6</td>\n",
              "      <td>6</td>\n",
              "      <td>0.168793</td>\n",
              "      <td>0.057910</td>\n",
              "      <td>0.156266</td>\n",
              "      <td>0.116783</td>\n",
              "      <td>0.216326</td>\n",
              "      <td>0.099543</td>\n",
              "      <td>1.386837</td>\n",
              "      <td>...</td>\n",
              "      <td>0.168793</td>\n",
              "      <td>0.109720</td>\n",
              "      <td>0.022472</td>\n",
              "      <td>0.235294</td>\n",
              "      <td>0.228795</td>\n",
              "      <td>0.093750</td>\n",
              "      <td>0.750000</td>\n",
              "      <td>0.656250</td>\n",
              "      <td>0.306777</td>\n",
              "      <td>2</td>\n",
              "    </tr>\n",
              "    <tr>\n",
              "      <th>...</th>\n",
              "      <td>...</td>\n",
              "      <td>...</td>\n",
              "      <td>...</td>\n",
              "      <td>...</td>\n",
              "      <td>...</td>\n",
              "      <td>...</td>\n",
              "      <td>...</td>\n",
              "      <td>...</td>\n",
              "      <td>...</td>\n",
              "      <td>...</td>\n",
              "      <td>...</td>\n",
              "      <td>...</td>\n",
              "      <td>...</td>\n",
              "      <td>...</td>\n",
              "      <td>...</td>\n",
              "      <td>...</td>\n",
              "      <td>...</td>\n",
              "      <td>...</td>\n",
              "      <td>...</td>\n",
              "      <td>...</td>\n",
              "      <td>...</td>\n",
              "    </tr>\n",
              "    <tr>\n",
              "      <th>904</th>\n",
              "      <td>1243</td>\n",
              "      <td>1244</td>\n",
              "      <td>1436</td>\n",
              "      <td>0.244013</td>\n",
              "      <td>0.035477</td>\n",
              "      <td>0.254385</td>\n",
              "      <td>0.229653</td>\n",
              "      <td>0.265573</td>\n",
              "      <td>0.035920</td>\n",
              "      <td>2.214752</td>\n",
              "      <td>...</td>\n",
              "      <td>0.244013</td>\n",
              "      <td>0.202433</td>\n",
              "      <td>0.028829</td>\n",
              "      <td>0.271186</td>\n",
              "      <td>0.616536</td>\n",
              "      <td>0.210938</td>\n",
              "      <td>1.609375</td>\n",
              "      <td>1.398438</td>\n",
              "      <td>0.281869</td>\n",
              "      <td>1</td>\n",
              "    </tr>\n",
              "    <tr>\n",
              "      <th>905</th>\n",
              "      <td>1244</td>\n",
              "      <td>1245</td>\n",
              "      <td>1437</td>\n",
              "      <td>0.235383</td>\n",
              "      <td>0.045303</td>\n",
              "      <td>0.248974</td>\n",
              "      <td>0.220745</td>\n",
              "      <td>0.264233</td>\n",
              "      <td>0.043488</td>\n",
              "      <td>2.474743</td>\n",
              "      <td>...</td>\n",
              "      <td>0.235383</td>\n",
              "      <td>0.189293</td>\n",
              "      <td>0.031250</td>\n",
              "      <td>0.275862</td>\n",
              "      <td>1.115723</td>\n",
              "      <td>0.265625</td>\n",
              "      <td>5.500000</td>\n",
              "      <td>5.234375</td>\n",
              "      <td>0.167861</td>\n",
              "      <td>1</td>\n",
              "    </tr>\n",
              "    <tr>\n",
              "      <th>906</th>\n",
              "      <td>1245</td>\n",
              "      <td>1246</td>\n",
              "      <td>1438</td>\n",
              "      <td>0.231211</td>\n",
              "      <td>0.044793</td>\n",
              "      <td>0.234847</td>\n",
              "      <td>0.221477</td>\n",
              "      <td>0.262090</td>\n",
              "      <td>0.040613</td>\n",
              "      <td>2.607668</td>\n",
              "      <td>...</td>\n",
              "      <td>0.231211</td>\n",
              "      <td>0.171805</td>\n",
              "      <td>0.022346</td>\n",
              "      <td>0.275862</td>\n",
              "      <td>1.070801</td>\n",
              "      <td>0.265625</td>\n",
              "      <td>4.554688</td>\n",
              "      <td>4.289062</td>\n",
              "      <td>0.214936</td>\n",
              "      <td>1</td>\n",
              "    </tr>\n",
              "    <tr>\n",
              "      <th>907</th>\n",
              "      <td>1246</td>\n",
              "      <td>1247</td>\n",
              "      <td>1439</td>\n",
              "      <td>0.213587</td>\n",
              "      <td>0.082267</td>\n",
              "      <td>0.249435</td>\n",
              "      <td>0.207680</td>\n",
              "      <td>0.268538</td>\n",
              "      <td>0.060858</td>\n",
              "      <td>3.460579</td>\n",
              "      <td>...</td>\n",
              "      <td>0.213587</td>\n",
              "      <td>0.155277</td>\n",
              "      <td>0.020592</td>\n",
              "      <td>0.275862</td>\n",
              "      <td>1.724888</td>\n",
              "      <td>0.273438</td>\n",
              "      <td>6.812500</td>\n",
              "      <td>6.539062</td>\n",
              "      <td>0.238857</td>\n",
              "      <td>1</td>\n",
              "    </tr>\n",
              "    <tr>\n",
              "      <th>908</th>\n",
              "      <td>1247</td>\n",
              "      <td>1248</td>\n",
              "      <td>1440</td>\n",
              "      <td>0.212537</td>\n",
              "      <td>0.078746</td>\n",
              "      <td>0.245034</td>\n",
              "      <td>0.209794</td>\n",
              "      <td>0.264031</td>\n",
              "      <td>0.054238</td>\n",
              "      <td>2.563983</td>\n",
              "      <td>...</td>\n",
              "      <td>0.212537</td>\n",
              "      <td>0.162938</td>\n",
              "      <td>0.024845</td>\n",
              "      <td>0.258065</td>\n",
              "      <td>0.915625</td>\n",
              "      <td>0.000000</td>\n",
              "      <td>6.281250</td>\n",
              "      <td>6.281250</td>\n",
              "      <td>0.193141</td>\n",
              "      <td>1</td>\n",
              "    </tr>\n",
              "  </tbody>\n",
              "</table>\n",
              "<p>909 rows × 24 columns</p>\n",
              "</div>\n",
              "      <button class=\"colab-df-convert\" onclick=\"convertToInteractive('df-af9a56c7-2b8f-43e1-abd8-77637e5113e0')\"\n",
              "              title=\"Convert this dataframe to an interactive table.\"\n",
              "              style=\"display:none;\">\n",
              "        \n",
              "  <svg xmlns=\"http://www.w3.org/2000/svg\" height=\"24px\"viewBox=\"0 0 24 24\"\n",
              "       width=\"24px\">\n",
              "    <path d=\"M0 0h24v24H0V0z\" fill=\"none\"/>\n",
              "    <path d=\"M18.56 5.44l.94 2.06.94-2.06 2.06-.94-2.06-.94-.94-2.06-.94 2.06-2.06.94zm-11 1L8.5 8.5l.94-2.06 2.06-.94-2.06-.94L8.5 2.5l-.94 2.06-2.06.94zm10 10l.94 2.06.94-2.06 2.06-.94-2.06-.94-.94-2.06-.94 2.06-2.06.94z\"/><path d=\"M17.41 7.96l-1.37-1.37c-.4-.4-.92-.59-1.43-.59-.52 0-1.04.2-1.43.59L10.3 9.45l-7.72 7.72c-.78.78-.78 2.05 0 2.83L4 21.41c.39.39.9.59 1.41.59.51 0 1.02-.2 1.41-.59l7.78-7.78 2.81-2.81c.8-.78.8-2.07 0-2.86zM5.41 20L4 18.59l7.72-7.72 1.47 1.35L5.41 20z\"/>\n",
              "  </svg>\n",
              "      </button>\n",
              "      \n",
              "  <style>\n",
              "    .colab-df-container {\n",
              "      display:flex;\n",
              "      flex-wrap:wrap;\n",
              "      gap: 12px;\n",
              "    }\n",
              "\n",
              "    .colab-df-convert {\n",
              "      background-color: #E8F0FE;\n",
              "      border: none;\n",
              "      border-radius: 50%;\n",
              "      cursor: pointer;\n",
              "      display: none;\n",
              "      fill: #1967D2;\n",
              "      height: 32px;\n",
              "      padding: 0 0 0 0;\n",
              "      width: 32px;\n",
              "    }\n",
              "\n",
              "    .colab-df-convert:hover {\n",
              "      background-color: #E2EBFA;\n",
              "      box-shadow: 0px 1px 2px rgba(60, 64, 67, 0.3), 0px 1px 3px 1px rgba(60, 64, 67, 0.15);\n",
              "      fill: #174EA6;\n",
              "    }\n",
              "\n",
              "    [theme=dark] .colab-df-convert {\n",
              "      background-color: #3B4455;\n",
              "      fill: #D2E3FC;\n",
              "    }\n",
              "\n",
              "    [theme=dark] .colab-df-convert:hover {\n",
              "      background-color: #434B5C;\n",
              "      box-shadow: 0px 1px 3px 1px rgba(0, 0, 0, 0.15);\n",
              "      filter: drop-shadow(0px 1px 2px rgba(0, 0, 0, 0.3));\n",
              "      fill: #FFFFFF;\n",
              "    }\n",
              "  </style>\n",
              "\n",
              "      <script>\n",
              "        const buttonEl =\n",
              "          document.querySelector('#df-af9a56c7-2b8f-43e1-abd8-77637e5113e0 button.colab-df-convert');\n",
              "        buttonEl.style.display =\n",
              "          google.colab.kernel.accessAllowed ? 'block' : 'none';\n",
              "\n",
              "        async function convertToInteractive(key) {\n",
              "          const element = document.querySelector('#df-af9a56c7-2b8f-43e1-abd8-77637e5113e0');\n",
              "          const dataTable =\n",
              "            await google.colab.kernel.invokeFunction('convertToInteractive',\n",
              "                                                     [key], {});\n",
              "          if (!dataTable) return;\n",
              "\n",
              "          const docLinkHtml = 'Like what you see? Visit the ' +\n",
              "            '<a target=\"_blank\" href=https://colab.research.google.com/notebooks/data_table.ipynb>data table notebook</a>'\n",
              "            + ' to learn more about interactive tables.';\n",
              "          element.innerHTML = '';\n",
              "          dataTable['output_type'] = 'display_data';\n",
              "          await google.colab.output.renderOutput(dataTable, element);\n",
              "          const docLink = document.createElement('div');\n",
              "          docLink.innerHTML = docLinkHtml;\n",
              "          element.appendChild(docLink);\n",
              "        }\n",
              "      </script>\n",
              "    </div>\n",
              "  </div>\n",
              "  "
            ]
          },
          "metadata": {},
          "execution_count": 7
        }
      ],
      "source": [
        "data.label = le.fit_transform(data.label)\n",
        "data"
      ]
    },
    {
      "cell_type": "code",
      "execution_count": null,
      "metadata": {
        "colab": {
          "base_uri": "https://localhost:8080/",
          "height": 285
        },
        "id": "S0J4MH5tGTON",
        "outputId": "aba72e27-6dc5-4fd8-8320-7495168c3dbe"
      },
      "outputs": [
        {
          "output_type": "execute_result",
          "data": {
            "text/plain": [
              "       Unnamed: 0.1  Unnamed: 0           X  meanfreq        sd    median  \\\n",
              "label                                                                       \n",
              "0        630.807947  631.807947  727.569536  0.205438  0.053801  0.213600   \n",
              "1        630.232082  631.232082  727.559727  0.213543  0.050871  0.221871   \n",
              "2        586.525478  587.525478  675.703822  0.199993  0.049222  0.202768   \n",
              "\n",
              "            Q25       Q75       IQR      skew  ...      mode  centroid  \\\n",
              "label                                          ...                       \n",
              "0      0.177098  0.245521  0.068423  2.069180  ...  0.229475  0.205438   \n",
              "1      0.189249  0.250664  0.061415  2.108632  ...  0.234947  0.213543   \n",
              "2      0.166948  0.237979  0.071031  2.108291  ...  0.199341  0.199993   \n",
              "\n",
              "        meanfun    minfun    maxfun   meandom    mindom    maxdom   dfrange  \\\n",
              "label                                                                         \n",
              "0      0.168414  0.032070  0.261265  0.953169  0.138504  4.831540  4.693036   \n",
              "1      0.173733  0.030681  0.262906  0.731017  0.143345  3.702565  3.559220   \n",
              "2      0.157575  0.033649  0.253872  0.692811  0.108753  4.127787  4.019034   \n",
              "\n",
              "        modindx  \n",
              "label            \n",
              "0      0.209339  \n",
              "1      0.214665  \n",
              "2      0.189594  \n",
              "\n",
              "[3 rows x 23 columns]"
            ],
            "text/html": [
              "\n",
              "  <div id=\"df-d829650e-5cea-473f-a740-c1bb4280de71\">\n",
              "    <div class=\"colab-df-container\">\n",
              "      <div>\n",
              "<style scoped>\n",
              "    .dataframe tbody tr th:only-of-type {\n",
              "        vertical-align: middle;\n",
              "    }\n",
              "\n",
              "    .dataframe tbody tr th {\n",
              "        vertical-align: top;\n",
              "    }\n",
              "\n",
              "    .dataframe thead th {\n",
              "        text-align: right;\n",
              "    }\n",
              "</style>\n",
              "<table border=\"1\" class=\"dataframe\">\n",
              "  <thead>\n",
              "    <tr style=\"text-align: right;\">\n",
              "      <th></th>\n",
              "      <th>Unnamed: 0.1</th>\n",
              "      <th>Unnamed: 0</th>\n",
              "      <th>X</th>\n",
              "      <th>meanfreq</th>\n",
              "      <th>sd</th>\n",
              "      <th>median</th>\n",
              "      <th>Q25</th>\n",
              "      <th>Q75</th>\n",
              "      <th>IQR</th>\n",
              "      <th>skew</th>\n",
              "      <th>...</th>\n",
              "      <th>mode</th>\n",
              "      <th>centroid</th>\n",
              "      <th>meanfun</th>\n",
              "      <th>minfun</th>\n",
              "      <th>maxfun</th>\n",
              "      <th>meandom</th>\n",
              "      <th>mindom</th>\n",
              "      <th>maxdom</th>\n",
              "      <th>dfrange</th>\n",
              "      <th>modindx</th>\n",
              "    </tr>\n",
              "    <tr>\n",
              "      <th>label</th>\n",
              "      <th></th>\n",
              "      <th></th>\n",
              "      <th></th>\n",
              "      <th></th>\n",
              "      <th></th>\n",
              "      <th></th>\n",
              "      <th></th>\n",
              "      <th></th>\n",
              "      <th></th>\n",
              "      <th></th>\n",
              "      <th></th>\n",
              "      <th></th>\n",
              "      <th></th>\n",
              "      <th></th>\n",
              "      <th></th>\n",
              "      <th></th>\n",
              "      <th></th>\n",
              "      <th></th>\n",
              "      <th></th>\n",
              "      <th></th>\n",
              "      <th></th>\n",
              "    </tr>\n",
              "  </thead>\n",
              "  <tbody>\n",
              "    <tr>\n",
              "      <th>0</th>\n",
              "      <td>630.807947</td>\n",
              "      <td>631.807947</td>\n",
              "      <td>727.569536</td>\n",
              "      <td>0.205438</td>\n",
              "      <td>0.053801</td>\n",
              "      <td>0.213600</td>\n",
              "      <td>0.177098</td>\n",
              "      <td>0.245521</td>\n",
              "      <td>0.068423</td>\n",
              "      <td>2.069180</td>\n",
              "      <td>...</td>\n",
              "      <td>0.229475</td>\n",
              "      <td>0.205438</td>\n",
              "      <td>0.168414</td>\n",
              "      <td>0.032070</td>\n",
              "      <td>0.261265</td>\n",
              "      <td>0.953169</td>\n",
              "      <td>0.138504</td>\n",
              "      <td>4.831540</td>\n",
              "      <td>4.693036</td>\n",
              "      <td>0.209339</td>\n",
              "    </tr>\n",
              "    <tr>\n",
              "      <th>1</th>\n",
              "      <td>630.232082</td>\n",
              "      <td>631.232082</td>\n",
              "      <td>727.559727</td>\n",
              "      <td>0.213543</td>\n",
              "      <td>0.050871</td>\n",
              "      <td>0.221871</td>\n",
              "      <td>0.189249</td>\n",
              "      <td>0.250664</td>\n",
              "      <td>0.061415</td>\n",
              "      <td>2.108632</td>\n",
              "      <td>...</td>\n",
              "      <td>0.234947</td>\n",
              "      <td>0.213543</td>\n",
              "      <td>0.173733</td>\n",
              "      <td>0.030681</td>\n",
              "      <td>0.262906</td>\n",
              "      <td>0.731017</td>\n",
              "      <td>0.143345</td>\n",
              "      <td>3.702565</td>\n",
              "      <td>3.559220</td>\n",
              "      <td>0.214665</td>\n",
              "    </tr>\n",
              "    <tr>\n",
              "      <th>2</th>\n",
              "      <td>586.525478</td>\n",
              "      <td>587.525478</td>\n",
              "      <td>675.703822</td>\n",
              "      <td>0.199993</td>\n",
              "      <td>0.049222</td>\n",
              "      <td>0.202768</td>\n",
              "      <td>0.166948</td>\n",
              "      <td>0.237979</td>\n",
              "      <td>0.071031</td>\n",
              "      <td>2.108291</td>\n",
              "      <td>...</td>\n",
              "      <td>0.199341</td>\n",
              "      <td>0.199993</td>\n",
              "      <td>0.157575</td>\n",
              "      <td>0.033649</td>\n",
              "      <td>0.253872</td>\n",
              "      <td>0.692811</td>\n",
              "      <td>0.108753</td>\n",
              "      <td>4.127787</td>\n",
              "      <td>4.019034</td>\n",
              "      <td>0.189594</td>\n",
              "    </tr>\n",
              "  </tbody>\n",
              "</table>\n",
              "<p>3 rows × 23 columns</p>\n",
              "</div>\n",
              "      <button class=\"colab-df-convert\" onclick=\"convertToInteractive('df-d829650e-5cea-473f-a740-c1bb4280de71')\"\n",
              "              title=\"Convert this dataframe to an interactive table.\"\n",
              "              style=\"display:none;\">\n",
              "        \n",
              "  <svg xmlns=\"http://www.w3.org/2000/svg\" height=\"24px\"viewBox=\"0 0 24 24\"\n",
              "       width=\"24px\">\n",
              "    <path d=\"M0 0h24v24H0V0z\" fill=\"none\"/>\n",
              "    <path d=\"M18.56 5.44l.94 2.06.94-2.06 2.06-.94-2.06-.94-.94-2.06-.94 2.06-2.06.94zm-11 1L8.5 8.5l.94-2.06 2.06-.94-2.06-.94L8.5 2.5l-.94 2.06-2.06.94zm10 10l.94 2.06.94-2.06 2.06-.94-2.06-.94-.94-2.06-.94 2.06-2.06.94z\"/><path d=\"M17.41 7.96l-1.37-1.37c-.4-.4-.92-.59-1.43-.59-.52 0-1.04.2-1.43.59L10.3 9.45l-7.72 7.72c-.78.78-.78 2.05 0 2.83L4 21.41c.39.39.9.59 1.41.59.51 0 1.02-.2 1.41-.59l7.78-7.78 2.81-2.81c.8-.78.8-2.07 0-2.86zM5.41 20L4 18.59l7.72-7.72 1.47 1.35L5.41 20z\"/>\n",
              "  </svg>\n",
              "      </button>\n",
              "      \n",
              "  <style>\n",
              "    .colab-df-container {\n",
              "      display:flex;\n",
              "      flex-wrap:wrap;\n",
              "      gap: 12px;\n",
              "    }\n",
              "\n",
              "    .colab-df-convert {\n",
              "      background-color: #E8F0FE;\n",
              "      border: none;\n",
              "      border-radius: 50%;\n",
              "      cursor: pointer;\n",
              "      display: none;\n",
              "      fill: #1967D2;\n",
              "      height: 32px;\n",
              "      padding: 0 0 0 0;\n",
              "      width: 32px;\n",
              "    }\n",
              "\n",
              "    .colab-df-convert:hover {\n",
              "      background-color: #E2EBFA;\n",
              "      box-shadow: 0px 1px 2px rgba(60, 64, 67, 0.3), 0px 1px 3px 1px rgba(60, 64, 67, 0.15);\n",
              "      fill: #174EA6;\n",
              "    }\n",
              "\n",
              "    [theme=dark] .colab-df-convert {\n",
              "      background-color: #3B4455;\n",
              "      fill: #D2E3FC;\n",
              "    }\n",
              "\n",
              "    [theme=dark] .colab-df-convert:hover {\n",
              "      background-color: #434B5C;\n",
              "      box-shadow: 0px 1px 3px 1px rgba(0, 0, 0, 0.15);\n",
              "      filter: drop-shadow(0px 1px 2px rgba(0, 0, 0, 0.3));\n",
              "      fill: #FFFFFF;\n",
              "    }\n",
              "  </style>\n",
              "\n",
              "      <script>\n",
              "        const buttonEl =\n",
              "          document.querySelector('#df-d829650e-5cea-473f-a740-c1bb4280de71 button.colab-df-convert');\n",
              "        buttonEl.style.display =\n",
              "          google.colab.kernel.accessAllowed ? 'block' : 'none';\n",
              "\n",
              "        async function convertToInteractive(key) {\n",
              "          const element = document.querySelector('#df-d829650e-5cea-473f-a740-c1bb4280de71');\n",
              "          const dataTable =\n",
              "            await google.colab.kernel.invokeFunction('convertToInteractive',\n",
              "                                                     [key], {});\n",
              "          if (!dataTable) return;\n",
              "\n",
              "          const docLinkHtml = 'Like what you see? Visit the ' +\n",
              "            '<a target=\"_blank\" href=https://colab.research.google.com/notebooks/data_table.ipynb>data table notebook</a>'\n",
              "            + ' to learn more about interactive tables.';\n",
              "          element.innerHTML = '';\n",
              "          dataTable['output_type'] = 'display_data';\n",
              "          await google.colab.output.renderOutput(dataTable, element);\n",
              "          const docLink = document.createElement('div');\n",
              "          docLink.innerHTML = docLinkHtml;\n",
              "          element.appendChild(docLink);\n",
              "        }\n",
              "      </script>\n",
              "    </div>\n",
              "  </div>\n",
              "  "
            ]
          },
          "metadata": {},
          "execution_count": 8
        }
      ],
      "source": [
        "data.groupby(\"label\").mean()"
      ]
    },
    {
      "cell_type": "code",
      "execution_count": null,
      "metadata": {
        "colab": {
          "base_uri": "https://localhost:8080/",
          "height": 505
        },
        "id": "RwX6tRgERyB8",
        "outputId": "fe982b5c-33eb-4b2b-9f69-81e010a2aa93"
      },
      "outputs": [
        {
          "output_type": "execute_result",
          "data": {
            "text/plain": [
              "     Unnamed: 0.1  Unnamed: 0     X  meanfreq        sd    median       Q25  \\\n",
              "0               0           1     1  0.181338  0.060495  0.187476  0.126197   \n",
              "1               1           2     2  0.186897  0.062260  0.195070  0.130847   \n",
              "2               2           3     3  0.189102  0.062901  0.204945  0.131422   \n",
              "3               4           5     5  0.183036  0.060051  0.174115  0.129949   \n",
              "4               5           6     6  0.168793  0.057910  0.156266  0.116783   \n",
              "..            ...         ...   ...       ...       ...       ...       ...   \n",
              "904          1243        1244  1436  0.244013  0.035477  0.254385  0.229653   \n",
              "905          1244        1245  1437  0.235383  0.045303  0.248974  0.220745   \n",
              "906          1245        1246  1438  0.231211  0.044793  0.234847  0.221477   \n",
              "907          1246        1247  1439  0.213587  0.082267  0.249435  0.207680   \n",
              "908          1247        1248  1440  0.212537  0.078746  0.245034  0.209794   \n",
              "\n",
              "          Q75       IQR      skew  ...      mode  centroid   meanfun  \\\n",
              "0    0.233586  0.107389  0.869088  ...  0.216901  0.181338  0.137742   \n",
              "1    0.243987  0.113140  1.191767  ...  0.135648  0.186897  0.121811   \n",
              "2    0.249978  0.118556  1.312690  ...  0.264070  0.189102  0.123758   \n",
              "3    0.236967  0.107017  1.096409  ...  0.152032  0.183036  0.128469   \n",
              "4    0.216326  0.099543  1.386837  ...  0.153764  0.168793  0.109720   \n",
              "..        ...       ...       ...  ...       ...       ...       ...   \n",
              "904  0.265573  0.035920  2.214752  ...  0.263807  0.244013  0.202433   \n",
              "905  0.264233  0.043488  2.474743  ...  0.262961  0.235383  0.189293   \n",
              "906  0.262090  0.040613  2.607668  ...  0.233333  0.231211  0.171805   \n",
              "907  0.268538  0.060858  3.460579  ...  0.275088  0.213587  0.155277   \n",
              "908  0.264031  0.054238  2.563983  ...  0.265408  0.212537  0.162938   \n",
              "\n",
              "       minfun    maxfun   meandom    mindom    maxdom   dfrange   modindx  \n",
              "0    0.023022  0.271186  0.777344  0.085938  6.226562  6.140625  0.116586  \n",
              "1    0.018412  0.271186  0.930339  0.085938  4.000000  3.914062  0.144983  \n",
              "2    0.083333  0.262295  0.332386  0.085938  0.625000  0.539062  0.334783  \n",
              "3    0.044693  0.258065  1.012019  0.085938  5.468750  5.382812  0.304910  \n",
              "4    0.022472  0.235294  0.228795  0.093750  0.750000  0.656250  0.306777  \n",
              "..        ...       ...       ...       ...       ...       ...       ...  \n",
              "904  0.028829  0.271186  0.616536  0.210938  1.609375  1.398438  0.281869  \n",
              "905  0.031250  0.275862  1.115723  0.265625  5.500000  5.234375  0.167861  \n",
              "906  0.022346  0.275862  1.070801  0.265625  4.554688  4.289062  0.214936  \n",
              "907  0.020592  0.275862  1.724888  0.273438  6.812500  6.539062  0.238857  \n",
              "908  0.024845  0.258065  0.915625  0.000000  6.281250  6.281250  0.193141  \n",
              "\n",
              "[909 rows x 23 columns]"
            ],
            "text/html": [
              "\n",
              "  <div id=\"df-593b5867-8e1f-40af-b3a2-a79914f49671\">\n",
              "    <div class=\"colab-df-container\">\n",
              "      <div>\n",
              "<style scoped>\n",
              "    .dataframe tbody tr th:only-of-type {\n",
              "        vertical-align: middle;\n",
              "    }\n",
              "\n",
              "    .dataframe tbody tr th {\n",
              "        vertical-align: top;\n",
              "    }\n",
              "\n",
              "    .dataframe thead th {\n",
              "        text-align: right;\n",
              "    }\n",
              "</style>\n",
              "<table border=\"1\" class=\"dataframe\">\n",
              "  <thead>\n",
              "    <tr style=\"text-align: right;\">\n",
              "      <th></th>\n",
              "      <th>Unnamed: 0.1</th>\n",
              "      <th>Unnamed: 0</th>\n",
              "      <th>X</th>\n",
              "      <th>meanfreq</th>\n",
              "      <th>sd</th>\n",
              "      <th>median</th>\n",
              "      <th>Q25</th>\n",
              "      <th>Q75</th>\n",
              "      <th>IQR</th>\n",
              "      <th>skew</th>\n",
              "      <th>...</th>\n",
              "      <th>mode</th>\n",
              "      <th>centroid</th>\n",
              "      <th>meanfun</th>\n",
              "      <th>minfun</th>\n",
              "      <th>maxfun</th>\n",
              "      <th>meandom</th>\n",
              "      <th>mindom</th>\n",
              "      <th>maxdom</th>\n",
              "      <th>dfrange</th>\n",
              "      <th>modindx</th>\n",
              "    </tr>\n",
              "  </thead>\n",
              "  <tbody>\n",
              "    <tr>\n",
              "      <th>0</th>\n",
              "      <td>0</td>\n",
              "      <td>1</td>\n",
              "      <td>1</td>\n",
              "      <td>0.181338</td>\n",
              "      <td>0.060495</td>\n",
              "      <td>0.187476</td>\n",
              "      <td>0.126197</td>\n",
              "      <td>0.233586</td>\n",
              "      <td>0.107389</td>\n",
              "      <td>0.869088</td>\n",
              "      <td>...</td>\n",
              "      <td>0.216901</td>\n",
              "      <td>0.181338</td>\n",
              "      <td>0.137742</td>\n",
              "      <td>0.023022</td>\n",
              "      <td>0.271186</td>\n",
              "      <td>0.777344</td>\n",
              "      <td>0.085938</td>\n",
              "      <td>6.226562</td>\n",
              "      <td>6.140625</td>\n",
              "      <td>0.116586</td>\n",
              "    </tr>\n",
              "    <tr>\n",
              "      <th>1</th>\n",
              "      <td>1</td>\n",
              "      <td>2</td>\n",
              "      <td>2</td>\n",
              "      <td>0.186897</td>\n",
              "      <td>0.062260</td>\n",
              "      <td>0.195070</td>\n",
              "      <td>0.130847</td>\n",
              "      <td>0.243987</td>\n",
              "      <td>0.113140</td>\n",
              "      <td>1.191767</td>\n",
              "      <td>...</td>\n",
              "      <td>0.135648</td>\n",
              "      <td>0.186897</td>\n",
              "      <td>0.121811</td>\n",
              "      <td>0.018412</td>\n",
              "      <td>0.271186</td>\n",
              "      <td>0.930339</td>\n",
              "      <td>0.085938</td>\n",
              "      <td>4.000000</td>\n",
              "      <td>3.914062</td>\n",
              "      <td>0.144983</td>\n",
              "    </tr>\n",
              "    <tr>\n",
              "      <th>2</th>\n",
              "      <td>2</td>\n",
              "      <td>3</td>\n",
              "      <td>3</td>\n",
              "      <td>0.189102</td>\n",
              "      <td>0.062901</td>\n",
              "      <td>0.204945</td>\n",
              "      <td>0.131422</td>\n",
              "      <td>0.249978</td>\n",
              "      <td>0.118556</td>\n",
              "      <td>1.312690</td>\n",
              "      <td>...</td>\n",
              "      <td>0.264070</td>\n",
              "      <td>0.189102</td>\n",
              "      <td>0.123758</td>\n",
              "      <td>0.083333</td>\n",
              "      <td>0.262295</td>\n",
              "      <td>0.332386</td>\n",
              "      <td>0.085938</td>\n",
              "      <td>0.625000</td>\n",
              "      <td>0.539062</td>\n",
              "      <td>0.334783</td>\n",
              "    </tr>\n",
              "    <tr>\n",
              "      <th>3</th>\n",
              "      <td>4</td>\n",
              "      <td>5</td>\n",
              "      <td>5</td>\n",
              "      <td>0.183036</td>\n",
              "      <td>0.060051</td>\n",
              "      <td>0.174115</td>\n",
              "      <td>0.129949</td>\n",
              "      <td>0.236967</td>\n",
              "      <td>0.107017</td>\n",
              "      <td>1.096409</td>\n",
              "      <td>...</td>\n",
              "      <td>0.152032</td>\n",
              "      <td>0.183036</td>\n",
              "      <td>0.128469</td>\n",
              "      <td>0.044693</td>\n",
              "      <td>0.258065</td>\n",
              "      <td>1.012019</td>\n",
              "      <td>0.085938</td>\n",
              "      <td>5.468750</td>\n",
              "      <td>5.382812</td>\n",
              "      <td>0.304910</td>\n",
              "    </tr>\n",
              "    <tr>\n",
              "      <th>4</th>\n",
              "      <td>5</td>\n",
              "      <td>6</td>\n",
              "      <td>6</td>\n",
              "      <td>0.168793</td>\n",
              "      <td>0.057910</td>\n",
              "      <td>0.156266</td>\n",
              "      <td>0.116783</td>\n",
              "      <td>0.216326</td>\n",
              "      <td>0.099543</td>\n",
              "      <td>1.386837</td>\n",
              "      <td>...</td>\n",
              "      <td>0.153764</td>\n",
              "      <td>0.168793</td>\n",
              "      <td>0.109720</td>\n",
              "      <td>0.022472</td>\n",
              "      <td>0.235294</td>\n",
              "      <td>0.228795</td>\n",
              "      <td>0.093750</td>\n",
              "      <td>0.750000</td>\n",
              "      <td>0.656250</td>\n",
              "      <td>0.306777</td>\n",
              "    </tr>\n",
              "    <tr>\n",
              "      <th>...</th>\n",
              "      <td>...</td>\n",
              "      <td>...</td>\n",
              "      <td>...</td>\n",
              "      <td>...</td>\n",
              "      <td>...</td>\n",
              "      <td>...</td>\n",
              "      <td>...</td>\n",
              "      <td>...</td>\n",
              "      <td>...</td>\n",
              "      <td>...</td>\n",
              "      <td>...</td>\n",
              "      <td>...</td>\n",
              "      <td>...</td>\n",
              "      <td>...</td>\n",
              "      <td>...</td>\n",
              "      <td>...</td>\n",
              "      <td>...</td>\n",
              "      <td>...</td>\n",
              "      <td>...</td>\n",
              "      <td>...</td>\n",
              "      <td>...</td>\n",
              "    </tr>\n",
              "    <tr>\n",
              "      <th>904</th>\n",
              "      <td>1243</td>\n",
              "      <td>1244</td>\n",
              "      <td>1436</td>\n",
              "      <td>0.244013</td>\n",
              "      <td>0.035477</td>\n",
              "      <td>0.254385</td>\n",
              "      <td>0.229653</td>\n",
              "      <td>0.265573</td>\n",
              "      <td>0.035920</td>\n",
              "      <td>2.214752</td>\n",
              "      <td>...</td>\n",
              "      <td>0.263807</td>\n",
              "      <td>0.244013</td>\n",
              "      <td>0.202433</td>\n",
              "      <td>0.028829</td>\n",
              "      <td>0.271186</td>\n",
              "      <td>0.616536</td>\n",
              "      <td>0.210938</td>\n",
              "      <td>1.609375</td>\n",
              "      <td>1.398438</td>\n",
              "      <td>0.281869</td>\n",
              "    </tr>\n",
              "    <tr>\n",
              "      <th>905</th>\n",
              "      <td>1244</td>\n",
              "      <td>1245</td>\n",
              "      <td>1437</td>\n",
              "      <td>0.235383</td>\n",
              "      <td>0.045303</td>\n",
              "      <td>0.248974</td>\n",
              "      <td>0.220745</td>\n",
              "      <td>0.264233</td>\n",
              "      <td>0.043488</td>\n",
              "      <td>2.474743</td>\n",
              "      <td>...</td>\n",
              "      <td>0.262961</td>\n",
              "      <td>0.235383</td>\n",
              "      <td>0.189293</td>\n",
              "      <td>0.031250</td>\n",
              "      <td>0.275862</td>\n",
              "      <td>1.115723</td>\n",
              "      <td>0.265625</td>\n",
              "      <td>5.500000</td>\n",
              "      <td>5.234375</td>\n",
              "      <td>0.167861</td>\n",
              "    </tr>\n",
              "    <tr>\n",
              "      <th>906</th>\n",
              "      <td>1245</td>\n",
              "      <td>1246</td>\n",
              "      <td>1438</td>\n",
              "      <td>0.231211</td>\n",
              "      <td>0.044793</td>\n",
              "      <td>0.234847</td>\n",
              "      <td>0.221477</td>\n",
              "      <td>0.262090</td>\n",
              "      <td>0.040613</td>\n",
              "      <td>2.607668</td>\n",
              "      <td>...</td>\n",
              "      <td>0.233333</td>\n",
              "      <td>0.231211</td>\n",
              "      <td>0.171805</td>\n",
              "      <td>0.022346</td>\n",
              "      <td>0.275862</td>\n",
              "      <td>1.070801</td>\n",
              "      <td>0.265625</td>\n",
              "      <td>4.554688</td>\n",
              "      <td>4.289062</td>\n",
              "      <td>0.214936</td>\n",
              "    </tr>\n",
              "    <tr>\n",
              "      <th>907</th>\n",
              "      <td>1246</td>\n",
              "      <td>1247</td>\n",
              "      <td>1439</td>\n",
              "      <td>0.213587</td>\n",
              "      <td>0.082267</td>\n",
              "      <td>0.249435</td>\n",
              "      <td>0.207680</td>\n",
              "      <td>0.268538</td>\n",
              "      <td>0.060858</td>\n",
              "      <td>3.460579</td>\n",
              "      <td>...</td>\n",
              "      <td>0.275088</td>\n",
              "      <td>0.213587</td>\n",
              "      <td>0.155277</td>\n",
              "      <td>0.020592</td>\n",
              "      <td>0.275862</td>\n",
              "      <td>1.724888</td>\n",
              "      <td>0.273438</td>\n",
              "      <td>6.812500</td>\n",
              "      <td>6.539062</td>\n",
              "      <td>0.238857</td>\n",
              "    </tr>\n",
              "    <tr>\n",
              "      <th>908</th>\n",
              "      <td>1247</td>\n",
              "      <td>1248</td>\n",
              "      <td>1440</td>\n",
              "      <td>0.212537</td>\n",
              "      <td>0.078746</td>\n",
              "      <td>0.245034</td>\n",
              "      <td>0.209794</td>\n",
              "      <td>0.264031</td>\n",
              "      <td>0.054238</td>\n",
              "      <td>2.563983</td>\n",
              "      <td>...</td>\n",
              "      <td>0.265408</td>\n",
              "      <td>0.212537</td>\n",
              "      <td>0.162938</td>\n",
              "      <td>0.024845</td>\n",
              "      <td>0.258065</td>\n",
              "      <td>0.915625</td>\n",
              "      <td>0.000000</td>\n",
              "      <td>6.281250</td>\n",
              "      <td>6.281250</td>\n",
              "      <td>0.193141</td>\n",
              "    </tr>\n",
              "  </tbody>\n",
              "</table>\n",
              "<p>909 rows × 23 columns</p>\n",
              "</div>\n",
              "      <button class=\"colab-df-convert\" onclick=\"convertToInteractive('df-593b5867-8e1f-40af-b3a2-a79914f49671')\"\n",
              "              title=\"Convert this dataframe to an interactive table.\"\n",
              "              style=\"display:none;\">\n",
              "        \n",
              "  <svg xmlns=\"http://www.w3.org/2000/svg\" height=\"24px\"viewBox=\"0 0 24 24\"\n",
              "       width=\"24px\">\n",
              "    <path d=\"M0 0h24v24H0V0z\" fill=\"none\"/>\n",
              "    <path d=\"M18.56 5.44l.94 2.06.94-2.06 2.06-.94-2.06-.94-.94-2.06-.94 2.06-2.06.94zm-11 1L8.5 8.5l.94-2.06 2.06-.94-2.06-.94L8.5 2.5l-.94 2.06-2.06.94zm10 10l.94 2.06.94-2.06 2.06-.94-2.06-.94-.94-2.06-.94 2.06-2.06.94z\"/><path d=\"M17.41 7.96l-1.37-1.37c-.4-.4-.92-.59-1.43-.59-.52 0-1.04.2-1.43.59L10.3 9.45l-7.72 7.72c-.78.78-.78 2.05 0 2.83L4 21.41c.39.39.9.59 1.41.59.51 0 1.02-.2 1.41-.59l7.78-7.78 2.81-2.81c.8-.78.8-2.07 0-2.86zM5.41 20L4 18.59l7.72-7.72 1.47 1.35L5.41 20z\"/>\n",
              "  </svg>\n",
              "      </button>\n",
              "      \n",
              "  <style>\n",
              "    .colab-df-container {\n",
              "      display:flex;\n",
              "      flex-wrap:wrap;\n",
              "      gap: 12px;\n",
              "    }\n",
              "\n",
              "    .colab-df-convert {\n",
              "      background-color: #E8F0FE;\n",
              "      border: none;\n",
              "      border-radius: 50%;\n",
              "      cursor: pointer;\n",
              "      display: none;\n",
              "      fill: #1967D2;\n",
              "      height: 32px;\n",
              "      padding: 0 0 0 0;\n",
              "      width: 32px;\n",
              "    }\n",
              "\n",
              "    .colab-df-convert:hover {\n",
              "      background-color: #E2EBFA;\n",
              "      box-shadow: 0px 1px 2px rgba(60, 64, 67, 0.3), 0px 1px 3px 1px rgba(60, 64, 67, 0.15);\n",
              "      fill: #174EA6;\n",
              "    }\n",
              "\n",
              "    [theme=dark] .colab-df-convert {\n",
              "      background-color: #3B4455;\n",
              "      fill: #D2E3FC;\n",
              "    }\n",
              "\n",
              "    [theme=dark] .colab-df-convert:hover {\n",
              "      background-color: #434B5C;\n",
              "      box-shadow: 0px 1px 3px 1px rgba(0, 0, 0, 0.15);\n",
              "      filter: drop-shadow(0px 1px 2px rgba(0, 0, 0, 0.3));\n",
              "      fill: #FFFFFF;\n",
              "    }\n",
              "  </style>\n",
              "\n",
              "      <script>\n",
              "        const buttonEl =\n",
              "          document.querySelector('#df-593b5867-8e1f-40af-b3a2-a79914f49671 button.colab-df-convert');\n",
              "        buttonEl.style.display =\n",
              "          google.colab.kernel.accessAllowed ? 'block' : 'none';\n",
              "\n",
              "        async function convertToInteractive(key) {\n",
              "          const element = document.querySelector('#df-593b5867-8e1f-40af-b3a2-a79914f49671');\n",
              "          const dataTable =\n",
              "            await google.colab.kernel.invokeFunction('convertToInteractive',\n",
              "                                                     [key], {});\n",
              "          if (!dataTable) return;\n",
              "\n",
              "          const docLinkHtml = 'Like what you see? Visit the ' +\n",
              "            '<a target=\"_blank\" href=https://colab.research.google.com/notebooks/data_table.ipynb>data table notebook</a>'\n",
              "            + ' to learn more about interactive tables.';\n",
              "          element.innerHTML = '';\n",
              "          dataTable['output_type'] = 'display_data';\n",
              "          await google.colab.output.renderOutput(dataTable, element);\n",
              "          const docLink = document.createElement('div');\n",
              "          docLink.innerHTML = docLinkHtml;\n",
              "          element.appendChild(docLink);\n",
              "        }\n",
              "      </script>\n",
              "    </div>\n",
              "  </div>\n",
              "  "
            ]
          },
          "metadata": {},
          "execution_count": 9
        }
      ],
      "source": [
        "X = data.drop(\"label\", axis=\"columns\")\n",
        "X"
      ]
    },
    {
      "cell_type": "code",
      "execution_count": null,
      "metadata": {
        "colab": {
          "base_uri": "https://localhost:8080/"
        },
        "id": "ynbk46zbR5Q3",
        "outputId": "537461c0-7c3e-4afc-ea1a-01ba5dec99ec"
      },
      "outputs": [
        {
          "output_type": "execute_result",
          "data": {
            "text/plain": [
              "0      2\n",
              "1      2\n",
              "2      2\n",
              "3      2\n",
              "4      2\n",
              "      ..\n",
              "904    1\n",
              "905    1\n",
              "906    1\n",
              "907    1\n",
              "908    1\n",
              "Name: label, Length: 909, dtype: int64"
            ]
          },
          "metadata": {},
          "execution_count": 10
        }
      ],
      "source": [
        "y = data.label\n",
        "y"
      ]
    },
    {
      "cell_type": "code",
      "execution_count": null,
      "metadata": {
        "id": "X95L2FJBvcOy"
      },
      "outputs": [],
      "source": [
        "import seaborn as sns\n",
        "import matplotlib.pyplot as plt"
      ]
    },
    {
      "cell_type": "code",
      "execution_count": null,
      "metadata": {
        "colab": {
          "base_uri": "https://localhost:8080/"
        },
        "id": "TJeGJS1TvhJ3",
        "outputId": "66d81138-5f75-43bd-87f1-8374c4be1386"
      },
      "outputs": [
        {
          "output_type": "stream",
          "name": "stdout",
          "text": [
            "           Specs       Score\n",
            "2              X  778.965580\n",
            "0   Unnamed: 0.1  646.718122\n",
            "1     Unnamed: 0  645.668809\n",
            "21       dfrange   47.360667\n",
            "20        maxdom   45.931945\n",
            "18       meandom   15.188191\n",
            "19        mindom    1.662152\n",
            "12           sfm    1.108978\n",
            "13          mode    1.023218\n",
            "22       modindx    0.524163\n",
            "6            Q25    0.425080\n",
            "5         median    0.262721\n",
            "15       meanfun    0.249059\n",
            "8            IQR    0.221394\n",
            "9           skew    0.148467\n",
            "3       meanfreq    0.136156\n",
            "14      centroid    0.136156\n",
            "7            Q75    0.101386\n",
            "10          kurt    0.092138\n",
            "4             sd    0.064347\n"
          ]
        }
      ],
      "source": [
        "#Feature Selection\n",
        "from sklearn.feature_selection import chi2\n",
        "from sklearn.feature_selection import SelectKBest\n",
        "\n",
        "\n",
        "bestfeatures = SelectKBest(score_func=chi2, k=10)\n",
        "fit = bestfeatures.fit(X,y)\n",
        "dfscores = pd.DataFrame(fit.scores_) #ChiSquare value of each feature with respect to y\n",
        "#Higher the chisquare value, more is its contribution/ more valuable is the feature for predicting y\n",
        "dfcolumns = pd.DataFrame(X.columns)\n",
        "featureScores = pd.concat([dfcolumns,dfscores],axis=1)\n",
        "featureScores.columns = ['Specs','Score']\n",
        "print(featureScores.nlargest(20,'Score')) #Choosing the 20 most valuable features"
      ]
    },
    {
      "cell_type": "code",
      "execution_count": null,
      "metadata": {
        "colab": {
          "base_uri": "https://localhost:8080/"
        },
        "id": "yKNTMY9Xvr1u",
        "outputId": "d11610a2-b2f9-45b4-8689-0e5ba06c717c"
      },
      "outputs": [
        {
          "output_type": "stream",
          "name": "stdout",
          "text": [
            "2                X\n",
            "0     Unnamed: 0.1\n",
            "1       Unnamed: 0\n",
            "21         dfrange\n",
            "20          maxdom\n",
            "18         meandom\n",
            "19          mindom\n",
            "12             sfm\n",
            "13            mode\n",
            "22         modindx\n",
            "6              Q25\n",
            "5           median\n",
            "15         meanfun\n",
            "8              IQR\n",
            "9             skew\n",
            "3         meanfreq\n",
            "Name: Specs, dtype: object\n"
          ]
        }
      ],
      "source": [
        "l = featureScores.nlargest(16,'Score')['Specs']\n",
        "print(l)\n",
        "x_new = X[l]"
      ]
    },
    {
      "cell_type": "code",
      "execution_count": null,
      "metadata": {
        "colab": {
          "base_uri": "https://localhost:8080/"
        },
        "id": "35TbX1PuvvPg",
        "outputId": "a3c0a9c4-63bf-4b16-e9a4-dd158b5fa6f0"
      },
      "outputs": [
        {
          "output_type": "execute_result",
          "data": {
            "text/plain": [
              "Index(['X', 'Unnamed: 0.1', 'Unnamed: 0', 'dfrange', 'maxdom', 'meandom',\n",
              "       'mindom', 'sfm', 'mode', 'modindx', 'Q25', 'median', 'meanfun', 'IQR',\n",
              "       'skew', 'meanfreq'],\n",
              "      dtype='object')"
            ]
          },
          "metadata": {},
          "execution_count": 14
        }
      ],
      "source": [
        "x_new.columns"
      ]
    },
    {
      "cell_type": "code",
      "execution_count": null,
      "metadata": {
        "colab": {
          "base_uri": "https://localhost:8080/",
          "height": 735
        },
        "id": "NFitoZDBv0A8",
        "outputId": "447c325b-8872-4570-d691-c06e34452742"
      },
      "outputs": [
        {
          "output_type": "display_data",
          "data": {
            "text/plain": [
              "<Figure size 2000x2000 with 2 Axes>"
            ],
            "image/png": "[encoded data removed]"
          },
          "metadata": {}
        }
      ],
      "source": [
        "corrmat = x_new.corr()\n",
        "top_corr_features = corrmat.index\n",
        "plt.figure(figsize=(20,20))\n",
        "#plot heat map\n",
        "g=sns.heatmap(x_new[top_corr_features].corr(),annot=True,cmap=\"RdYlGn\")"
      ]
    },
    {
      "cell_type": "markdown",
      "metadata": {
        "id": "7r3i0UEYw5KP"
      },
      "source": [
        "In above heatmap we can see that 'X', 'Unnamed 0.1',  and 'Unnamed: 0' has correlation value of 1 and same for 'dfrange' and 'maxdom'. So we drop columns 'Unnamed 0.1', 'Unnamed: 0' and 'maxdom'"
      ]
    },
    {
      "cell_type": "code",
      "execution_count": null,
      "metadata": {
        "id": "ChkiWj3RxW4T"
      },
      "outputs": [],
      "source": [
        "x_new = x_new[['X', 'dfrange', 'meandom',\n",
        "       'mindom', 'sfm', 'mode', 'modindx', 'Q25', 'median', 'meanfun', 'IQR',\n",
        "       'skew', 'meanfreq']]"
      ]
    },
    {
      "cell_type": "code",
      "execution_count": null,
      "metadata": {
        "colab": {
          "base_uri": "https://localhost:8080/"
        },
        "id": "_rvY-1UuSF0E",
        "outputId": "4220039c-a1d8-4ff3-9a3a-829dd61931bf"
      },
      "outputs": [
        {
          "output_type": "stream",
          "name": "stdout",
          "text": [
            "636 273\n"
          ]
        }
      ],
      "source": [
        "X_train, X_test, y_train, y_test = train_test_split(x_new, y, test_size=0.3, random_state=1)\n",
        "print(len(X_train), len(X_test))"
      ]
    },
    {
      "cell_type": "markdown",
      "metadata": {
        "id": "0jArubmmR8nx"
      },
      "source": [
        "**Decision Tree:**"
      ]
    },
    {
      "cell_type": "code",
      "execution_count": null,
      "metadata": {
        "colab": {
          "base_uri": "https://localhost:8080/",
          "height": 74
        },
        "id": "1vswBFYwSBLI",
        "outputId": "893b5725-a42e-4525-a81e-44aa1120de06"
      },
      "outputs": [
        {
          "output_type": "execute_result",
          "data": {
            "text/plain": [
              "DecisionTreeClassifier()"
            ],
            "text/html": [
              "<style>#sk-container-id-1 {color: black;background-color: white;}#sk-container-id-1 pre{padding: 0;}#sk-container-id-1 div.sk-toggleable {background-color: white;}#sk-container-id-1 label.sk-toggleable__label {cursor: pointer;display: block;width: 100%;margin-bottom: 0;padding: 0.3em;box-sizing: border-box;text-align: center;}#sk-container-id-1 label.sk-toggleable__label-arrow:before {content: \"▸\";float: left;margin-right: 0.25em;color: #696969;}#sk-container-id-1 label.sk-toggleable__label-arrow:hover:before {color: black;}#sk-container-id-1 div.sk-estimator:hover label.sk-toggleable__label-arrow:before {color: black;}#sk-container-id-1 div.sk-toggleable__content {max-height: 0;max-width: 0;overflow: hidden;text-align: left;background-color: #f0f8ff;}#sk-container-id-1 div.sk-toggleable__content pre {margin: 0.2em;color: black;border-radius: 0.25em;background-color: #f0f8ff;}#sk-container-id-1 input.sk-toggleable__control:checked~div.sk-toggleable__content {max-height: 200px;max-width: 100%;overflow: auto;}#sk-container-id-1 input.sk-toggleable__control:checked~label.sk-toggleable__label-arrow:before {content: \"▾\";}#sk-container-id-1 div.sk-estimator input.sk-toggleable__control:checked~label.sk-toggleable__label {background-color: #d4ebff;}#sk-container-id-1 div.sk-label input.sk-toggleable__control:checked~label.sk-toggleable__label {background-color: #d4ebff;}#sk-container-id-1 input.sk-hidden--visually {border: 0;clip: rect(1px 1px 1px 1px);clip: rect(1px, 1px, 1px, 1px);height: 1px;margin: -1px;overflow: hidden;padding: 0;position: absolute;width: 1px;}#sk-container-id-1 div.sk-estimator {font-family: monospace;background-color: #f0f8ff;border: 1px dotted black;border-radius: 0.25em;box-sizing: border-box;margin-bottom: 0.5em;}#sk-container-id-1 div.sk-estimator:hover {background-color: #d4ebff;}#sk-container-id-1 div.sk-parallel-item::after {content: \"\";width: 100%;border-bottom: 1px solid gray;flex-grow: 1;}#sk-container-id-1 div.sk-label:hover label.sk-toggleable__label {background-color: #d4ebff;}#sk-container-id-1 div.sk-serial::before {content: \"\";position: absolute;border-left: 1px solid gray;box-sizing: border-box;top: 0;bottom: 0;left: 50%;z-index: 0;}#sk-container-id-1 div.sk-serial {display: flex;flex-direction: column;align-items: center;background-color: white;padding-right: 0.2em;padding-left: 0.2em;position: relative;}#sk-container-id-1 div.sk-item {position: relative;z-index: 1;}#sk-container-id-1 div.sk-parallel {display: flex;align-items: stretch;justify-content: center;background-color: white;position: relative;}#sk-container-id-1 div.sk-item::before, #sk-container-id-1 div.sk-parallel-item::before {content: \"\";position: absolute;border-left: 1px solid gray;box-sizing: border-box;top: 0;bottom: 0;left: 50%;z-index: -1;}#sk-container-id-1 div.sk-parallel-item {display: flex;flex-direction: column;z-index: 1;position: relative;background-color: white;}#sk-container-id-1 div.sk-parallel-item:first-child::after {align-self: flex-end;width: 50%;}#sk-container-id-1 div.sk-parallel-item:last-child::after {align-self: flex-start;width: 50%;}#sk-container-id-1 div.sk-parallel-item:only-child::after {width: 0;}#sk-container-id-1 div.sk-dashed-wrapped {border: 1px dashed gray;margin: 0 0.4em 0.5em 0.4em;box-sizing: border-box;padding-bottom: 0.4em;background-color: white;}#sk-container-id-1 div.sk-label label {font-family: monospace;font-weight: bold;display: inline-block;line-height: 1.2em;}#sk-container-id-1 div.sk-label-container {text-align: center;}#sk-container-id-1 div.sk-container {/* jupyter's `normalize.less` sets `[hidden] { display: none; }` but bootstrap.min.css set `[hidden] { display: none !important; }` so we also need the `!important` here to be able to override the default hidden behavior on the sphinx rendered scikit-learn.org. See: https://github.com/scikit-learn/scikit-learn/issues/21755 */display: inline-block !important;position: relative;}#sk-container-id-1 div.sk-text-repr-fallback {display: none;}</style><div id=\"sk-container-id-1\" class=\"sk-top-container\"><div class=\"sk-text-repr-fallback\"><pre>DecisionTreeClassifier()</pre><b>In a Jupyter environment, please rerun this cell to show the HTML representation or trust the notebook. <br />On GitHub, the HTML representation is unable to render, please try loading this page with nbviewer.org.</b></div><div class=\"sk-container\" hidden><div class=\"sk-item\"><div class=\"sk-estimator sk-toggleable\"><input class=\"sk-toggleable__control sk-hidden--visually\" id=\"sk-estimator-id-1\" type=\"checkbox\" checked><label for=\"sk-estimator-id-1\" class=\"sk-toggleable__label sk-toggleable__label-arrow\">DecisionTreeClassifier</label><div class=\"sk-toggleable__content\"><pre>DecisionTreeClassifier()</pre></div></div></div></div></div>"
            ]
          },
          "metadata": {},
          "execution_count": 18
        }
      ],
      "source": [
        "TreeModel = tree.DecisionTreeClassifier()\n",
        "TreeModel.fit(X_train, y_train)"
      ]
    },
    {
      "cell_type": "code",
      "execution_count": null,
      "metadata": {
        "colab": {
          "base_uri": "https://localhost:8080/"
        },
        "id": "_80pxdp0Sfx9",
        "outputId": "60d6e2a2-0fde-426d-d300-d6373b13007b"
      },
      "outputs": [
        {
          "output_type": "stream",
          "name": "stdout",
          "text": [
            "1.0\n",
            "0.4981684981684982\n"
          ]
        }
      ],
      "source": [
        "print(TreeModel.score(X_train, y_train))\n",
        "print(TreeModel.score(X_test, y_test))"
      ]
    },
    {
      "cell_type": "code",
      "execution_count": null,
      "metadata": {
        "colab": {
          "base_uri": "https://localhost:8080/",
          "height": 455
        },
        "id": "lWoWR6v8jG-X",
        "outputId": "a350be2c-b916-4535-9d53-9b3a58abcdd3"
      },
      "outputs": [
        {
          "output_type": "display_data",
          "data": {
            "text/plain": [
              "<Figure size 640x480 with 2 Axes>"
            ],
            "image/png": "[encoded data removed]"
          },
          "metadata": {}
        }
      ],
      "source": [
        "y_pred = TreeModel.predict(X_test)\n",
        "# y_temp = TreeModel.predict(X_train)\n",
        "import matplotlib.pyplot as plt\n",
        "from sklearn.metrics import confusion_matrix\n",
        "from sklearn.metrics import ConfusionMatrixDisplay\n",
        "\n",
        "cm = confusion_matrix(y_test, y_pred)\n",
        "# cm = confusion_matrix(y_train, y_temp)\n",
        "cm2 = ConfusionMatrixDisplay(confusion_matrix=cm)\n",
        "cm2.plot()\n",
        "plt.show()"
      ]
    },
    {
      "cell_type": "code",
      "execution_count": null,
      "metadata": {
        "colab": {
          "base_uri": "https://localhost:8080/"
        },
        "id": "495IemN3GClk",
        "outputId": "f2fb2abf-7e9f-4b62-b45a-9ea8a1b3f117"
      },
      "outputs": [
        {
          "output_type": "stream",
          "name": "stdout",
          "text": [
            "Accuracy: 0.498\n",
            "precision: 0.498\n",
            "recall: 0.498\n",
            "f1: 0.498\n"
          ]
        }
      ],
      "source": [
        "from sklearn.metrics import precision_score, accuracy_score, recall_score, f1_score\n",
        "\n",
        "print(f\"Accuracy: {round(accuracy_score(y_test, y_pred),3)}\")\n",
        "print(f\"precision: {round(precision_score(y_test, y_pred, average='micro'),3)}\")\n",
        "print(f\"recall: {round(recall_score(y_test, y_pred, average='micro'),3)}\")\n",
        "print(f\"f1: {round(accuracy_score(y_test, y_pred), 3)}\")"
      ]
    },
    {
      "cell_type": "markdown",
      "metadata": {
        "id": "OxI1689ES5Cq"
      },
      "source": [
        "**Random Forest Classification:**"
      ]
    },
    {
      "cell_type": "code",
      "execution_count": null,
      "metadata": {
        "colab": {
          "base_uri": "https://localhost:8080/",
          "height": 74
        },
        "id": "Acro_BpUTEtC",
        "outputId": "b9f69ff1-9f46-4eb0-92c5-27f657df782d"
      },
      "outputs": [
        {
          "output_type": "execute_result",
          "data": {
            "text/plain": [
              "RandomForestClassifier()"
            ],
            "text/html": [
              "<style>#sk-container-id-2 {color: black;background-color: white;}#sk-container-id-2 pre{padding: 0;}#sk-container-id-2 div.sk-toggleable {background-color: white;}#sk-container-id-2 label.sk-toggleable__label {cursor: pointer;display: block;width: 100%;margin-bottom: 0;padding: 0.3em;box-sizing: border-box;text-align: center;}#sk-container-id-2 label.sk-toggleable__label-arrow:before {content: \"▸\";float: left;margin-right: 0.25em;color: #696969;}#sk-container-id-2 label.sk-toggleable__label-arrow:hover:before {color: black;}#sk-container-id-2 div.sk-estimator:hover label.sk-toggleable__label-arrow:before {color: black;}#sk-container-id-2 div.sk-toggleable__content {max-height: 0;max-width: 0;overflow: hidden;text-align: left;background-color: #f0f8ff;}#sk-container-id-2 div.sk-toggleable__content pre {margin: 0.2em;color: black;border-radius: 0.25em;background-color: #f0f8ff;}#sk-container-id-2 input.sk-toggleable__control:checked~div.sk-toggleable__content {max-height: 200px;max-width: 100%;overflow: auto;}#sk-container-id-2 input.sk-toggleable__control:checked~label.sk-toggleable__label-arrow:before {content: \"▾\";}#sk-container-id-2 div.sk-estimator input.sk-toggleable__control:checked~label.sk-toggleable__label {background-color: #d4ebff;}#sk-container-id-2 div.sk-label input.sk-toggleable__control:checked~label.sk-toggleable__label {background-color: #d4ebff;}#sk-container-id-2 input.sk-hidden--visually {border: 0;clip: rect(1px 1px 1px 1px);clip: rect(1px, 1px, 1px, 1px);height: 1px;margin: -1px;overflow: hidden;padding: 0;position: absolute;width: 1px;}#sk-container-id-2 div.sk-estimator {font-family: monospace;background-color: #f0f8ff;border: 1px dotted black;border-radius: 0.25em;box-sizing: border-box;margin-bottom: 0.5em;}#sk-container-id-2 div.sk-estimator:hover {background-color: #d4ebff;}#sk-container-id-2 div.sk-parallel-item::after {content: \"\";width: 100%;border-bottom: 1px solid gray;flex-grow: 1;}#sk-container-id-2 div.sk-label:hover label.sk-toggleable__label {background-color: #d4ebff;}#sk-container-id-2 div.sk-serial::before {content: \"\";position: absolute;border-left: 1px solid gray;box-sizing: border-box;top: 0;bottom: 0;left: 50%;z-index: 0;}#sk-container-id-2 div.sk-serial {display: flex;flex-direction: column;align-items: center;background-color: white;padding-right: 0.2em;padding-left: 0.2em;position: relative;}#sk-container-id-2 div.sk-item {position: relative;z-index: 1;}#sk-container-id-2 div.sk-parallel {display: flex;align-items: stretch;justify-content: center;background-color: white;position: relative;}#sk-container-id-2 div.sk-item::before, #sk-container-id-2 div.sk-parallel-item::before {content: \"\";position: absolute;border-left: 1px solid gray;box-sizing: border-box;top: 0;bottom: 0;left: 50%;z-index: -1;}#sk-container-id-2 div.sk-parallel-item {display: flex;flex-direction: column;z-index: 1;position: relative;background-color: white;}#sk-container-id-2 div.sk-parallel-item:first-child::after {align-self: flex-end;width: 50%;}#sk-container-id-2 div.sk-parallel-item:last-child::after {align-self: flex-start;width: 50%;}#sk-container-id-2 div.sk-parallel-item:only-child::after {width: 0;}#sk-container-id-2 div.sk-dashed-wrapped {border: 1px dashed gray;margin: 0 0.4em 0.5em 0.4em;box-sizing: border-box;padding-bottom: 0.4em;background-color: white;}#sk-container-id-2 div.sk-label label {font-family: monospace;font-weight: bold;display: inline-block;line-height: 1.2em;}#sk-container-id-2 div.sk-label-container {text-align: center;}#sk-container-id-2 div.sk-container {/* jupyter's `normalize.less` sets `[hidden] { display: none; }` but bootstrap.min.css set `[hidden] { display: none !important; }` so we also need the `!important` here to be able to override the default hidden behavior on the sphinx rendered scikit-learn.org. See: https://github.com/scikit-learn/scikit-learn/issues/21755 */display: inline-block !important;position: relative;}#sk-container-id-2 div.sk-text-repr-fallback {display: none;}</style><div id=\"sk-container-id-2\" class=\"sk-top-container\"><div class=\"sk-text-repr-fallback\"><pre>RandomForestClassifier()</pre><b>In a Jupyter environment, please rerun this cell to show the HTML representation or trust the notebook. <br />On GitHub, the HTML representation is unable to render, please try loading this page with nbviewer.org.</b></div><div class=\"sk-container\" hidden><div class=\"sk-item\"><div class=\"sk-estimator sk-toggleable\"><input class=\"sk-toggleable__control sk-hidden--visually\" id=\"sk-estimator-id-2\" type=\"checkbox\" checked><label for=\"sk-estimator-id-2\" class=\"sk-toggleable__label sk-toggleable__label-arrow\">RandomForestClassifier</label><div class=\"sk-toggleable__content\"><pre>RandomForestClassifier()</pre></div></div></div></div></div>"
            ]
          },
          "metadata": {},
          "execution_count": 22
        }
      ],
      "source": [
        "RFModel = RandomForestClassifier()\n",
        "RFModel.fit(X_train, y_train)"
      ]
    },
    {
      "cell_type": "code",
      "execution_count": null,
      "metadata": {
        "id": "g2FLHDO9TRIh"
      },
      "outputs": [],
      "source": [
        "y_pred = RFModel.predict(X_test)"
      ]
    },
    {
      "cell_type": "code",
      "execution_count": null,
      "metadata": {
        "colab": {
          "base_uri": "https://localhost:8080/"
        },
        "id": "Vpi-NlsQV6_X",
        "outputId": "3b726683-9653-4e9c-93ca-b6c07895c05d"
      },
      "outputs": [
        {
          "output_type": "stream",
          "name": "stdout",
          "text": [
            "1.0\n",
            "0.5824175824175825\n"
          ]
        }
      ],
      "source": [
        "print(RFModel.score(X_train, y_train))\n",
        "print(RFModel.score(X_test, y_test))"
      ]
    },
    {
      "cell_type": "code",
      "execution_count": null,
      "metadata": {
        "colab": {
          "base_uri": "https://localhost:8080/",
          "height": 455
        },
        "id": "ke0lbTb7jS1K",
        "outputId": "37632e1b-0c2b-4edb-9d65-56b3917676d0"
      },
      "outputs": [
        {
          "output_type": "display_data",
          "data": {
            "text/plain": [
              "<Figure size 640x480 with 2 Axes>"
            ],
            "image/png": "[encoded data removed]"
          },
          "metadata": {}
        }
      ],
      "source": [
        "y_pred = RFModel.predict(X_test)\n",
        "import matplotlib.pyplot as plt\n",
        "from sklearn.metrics import confusion_matrix\n",
        "from sklearn.metrics import ConfusionMatrixDisplay\n",
        "\n",
        "cm = confusion_matrix(y_test, y_pred)\n",
        "cm2 = ConfusionMatrixDisplay(confusion_matrix=cm)\n",
        "cm2.plot()\n",
        "plt.show()"
      ]
    },
    {
      "cell_type": "code",
      "execution_count": null,
      "metadata": {
        "colab": {
          "base_uri": "https://localhost:8080/"
        },
        "id": "c1WeTRbMvIlh",
        "outputId": "547e2a0c-bf4a-4916-e609-ab03b10c945a"
      },
      "outputs": [
        {
          "output_type": "stream",
          "name": "stdout",
          "text": [
            "Accuracy: 0.582\n",
            "precision: 0.586\n",
            "recall: 0.582\n",
            "f1: 0.582\n"
          ]
        }
      ],
      "source": [
        "from sklearn.metrics import precision_score, accuracy_score, recall_score, f1_score\n",
        "\n",
        "print(f\"Accuracy: {round(accuracy_score(y_test, y_pred),3)}\")\n",
        "print(f\"precision: {round(precision_score(y_test, y_pred, average='weighted'),3)}\")\n",
        "print(f\"recall: {round(recall_score(y_test, y_pred, average='weighted'),3)}\")\n",
        "print(f\"f1: {round(accuracy_score(y_test, y_pred), 3)}\")"
      ]
    },
    {
      "cell_type": "markdown",
      "metadata": {
        "id": "yYYFeNb2Tqme"
      },
      "source": [
        "**SVM:**"
      ]
    },
    {
      "cell_type": "code",
      "execution_count": null,
      "metadata": {
        "colab": {
          "base_uri": "https://localhost:8080/",
          "height": 74
        },
        "id": "1FWqZH1-Ttl8",
        "outputId": "405949b5-2c43-4ef1-8dc7-650d81804fae"
      },
      "outputs": [
        {
          "output_type": "execute_result",
          "data": {
            "text/plain": [
              "SVC(C=0.5, gamma=0.001)"
            ],
            "text/html": [
              "<style>#sk-container-id-3 {color: black;background-color: white;}#sk-container-id-3 pre{padding: 0;}#sk-container-id-3 div.sk-toggleable {background-color: white;}#sk-container-id-3 label.sk-toggleable__label {cursor: pointer;display: block;width: 100%;margin-bottom: 0;padding: 0.3em;box-sizing: border-box;text-align: center;}#sk-container-id-3 label.sk-toggleable__label-arrow:before {content: \"▸\";float: left;margin-right: 0.25em;color: #696969;}#sk-container-id-3 label.sk-toggleable__label-arrow:hover:before {color: black;}#sk-container-id-3 div.sk-estimator:hover label.sk-toggleable__label-arrow:before {color: black;}#sk-container-id-3 div.sk-toggleable__content {max-height: 0;max-width: 0;overflow: hidden;text-align: left;background-color: #f0f8ff;}#sk-container-id-3 div.sk-toggleable__content pre {margin: 0.2em;color: black;border-radius: 0.25em;background-color: #f0f8ff;}#sk-container-id-3 input.sk-toggleable__control:checked~div.sk-toggleable__content {max-height: 200px;max-width: 100%;overflow: auto;}#sk-container-id-3 input.sk-toggleable__control:checked~label.sk-toggleable__label-arrow:before {content: \"▾\";}#sk-container-id-3 div.sk-estimator input.sk-toggleable__control:checked~label.sk-toggleable__label {background-color: #d4ebff;}#sk-container-id-3 div.sk-label input.sk-toggleable__control:checked~label.sk-toggleable__label {background-color: #d4ebff;}#sk-container-id-3 input.sk-hidden--visually {border: 0;clip: rect(1px 1px 1px 1px);clip: rect(1px, 1px, 1px, 1px);height: 1px;margin: -1px;overflow: hidden;padding: 0;position: absolute;width: 1px;}#sk-container-id-3 div.sk-estimator {font-family: monospace;background-color: #f0f8ff;border: 1px dotted black;border-radius: 0.25em;box-sizing: border-box;margin-bottom: 0.5em;}#sk-container-id-3 div.sk-estimator:hover {background-color: #d4ebff;}#sk-container-id-3 div.sk-parallel-item::after {content: \"\";width: 100%;border-bottom: 1px solid gray;flex-grow: 1;}#sk-container-id-3 div.sk-label:hover label.sk-toggleable__label {background-color: #d4ebff;}#sk-container-id-3 div.sk-serial::before {content: \"\";position: absolute;border-left: 1px solid gray;box-sizing: border-box;top: 0;bottom: 0;left: 50%;z-index: 0;}#sk-container-id-3 div.sk-serial {display: flex;flex-direction: column;align-items: center;background-color: white;padding-right: 0.2em;padding-left: 0.2em;position: relative;}#sk-container-id-3 div.sk-item {position: relative;z-index: 1;}#sk-container-id-3 div.sk-parallel {display: flex;align-items: stretch;justify-content: center;background-color: white;position: relative;}#sk-container-id-3 div.sk-item::before, #sk-container-id-3 div.sk-parallel-item::before {content: \"\";position: absolute;border-left: 1px solid gray;box-sizing: border-box;top: 0;bottom: 0;left: 50%;z-index: -1;}#sk-container-id-3 div.sk-parallel-item {display: flex;flex-direction: column;z-index: 1;position: relative;background-color: white;}#sk-container-id-3 div.sk-parallel-item:first-child::after {align-self: flex-end;width: 50%;}#sk-container-id-3 div.sk-parallel-item:last-child::after {align-self: flex-start;width: 50%;}#sk-container-id-3 div.sk-parallel-item:only-child::after {width: 0;}#sk-container-id-3 div.sk-dashed-wrapped {border: 1px dashed gray;margin: 0 0.4em 0.5em 0.4em;box-sizing: border-box;padding-bottom: 0.4em;background-color: white;}#sk-container-id-3 div.sk-label label {font-family: monospace;font-weight: bold;display: inline-block;line-height: 1.2em;}#sk-container-id-3 div.sk-label-container {text-align: center;}#sk-container-id-3 div.sk-container {/* jupyter's `normalize.less` sets `[hidden] { display: none; }` but bootstrap.min.css set `[hidden] { display: none !important; }` so we also need the `!important` here to be able to override the default hidden behavior on the sphinx rendered scikit-learn.org. See: https://github.com/scikit-learn/scikit-learn/issues/21755 */display: inline-block !important;position: relative;}#sk-container-id-3 div.sk-text-repr-fallback {display: none;}</style><div id=\"sk-container-id-3\" class=\"sk-top-container\"><div class=\"sk-text-repr-fallback\"><pre>SVC(C=0.5, gamma=0.001)</pre><b>In a Jupyter environment, please rerun this cell to show the HTML representation or trust the notebook. <br />On GitHub, the HTML representation is unable to render, please try loading this page with nbviewer.org.</b></div><div class=\"sk-container\" hidden><div class=\"sk-item\"><div class=\"sk-estimator sk-toggleable\"><input class=\"sk-toggleable__control sk-hidden--visually\" id=\"sk-estimator-id-3\" type=\"checkbox\" checked><label for=\"sk-estimator-id-3\" class=\"sk-toggleable__label sk-toggleable__label-arrow\">SVC</label><div class=\"sk-toggleable__content\"><pre>SVC(C=0.5, gamma=0.001)</pre></div></div></div></div></div>"
            ]
          },
          "metadata": {},
          "execution_count": 27
        }
      ],
      "source": [
        "SVMClassifier = SVC(gamma=0.001, C=0.5)\n",
        "SVMClassifier.fit(X_train, y_train)"
      ]
    },
    {
      "cell_type": "code",
      "execution_count": null,
      "metadata": {
        "colab": {
          "base_uri": "https://localhost:8080/"
        },
        "id": "B1e3181zU30X",
        "outputId": "86f4fe30-4854-4cd2-f766-f404d31b8a04"
      },
      "outputs": [
        {
          "output_type": "stream",
          "name": "stdout",
          "text": [
            "0.6053459119496856\n",
            "0.4175824175824176\n"
          ]
        }
      ],
      "source": [
        "print(SVMClassifier.score(X_train, y_train))\n",
        "print(SVMClassifier.score(X_test, y_test))"
      ]
    },
    {
      "cell_type": "code",
      "execution_count": null,
      "metadata": {
        "colab": {
          "base_uri": "https://localhost:8080/",
          "height": 449
        },
        "id": "chz7QCY3jXpy",
        "outputId": "61e6dd83-21a9-4116-89a7-2bb1df88b955"
      },
      "outputs": [
        {
          "output_type": "display_data",
          "data": {
            "text/plain": [
              "<Figure size 640x480 with 2 Axes>"
            ],
            "image/png": "[encoded data removed]"
          },
          "metadata": {}
        }
      ],
      "source": [
        "y_pred = SVMClassifier.predict(X_test)\n",
        "import matplotlib.pyplot as plt\n",
        "from sklearn.metrics import confusion_matrix\n",
        "from sklearn.metrics import ConfusionMatrixDisplay\n",
        "\n",
        "cm = confusion_matrix(y_test, y_pred)\n",
        "cm2 = ConfusionMatrixDisplay(confusion_matrix=cm)\n",
        "cm2.plot()\n",
        "plt.show()"
      ]
    },
    {
      "cell_type": "code",
      "execution_count": null,
      "metadata": {
        "colab": {
          "base_uri": "https://localhost:8080/"
        },
        "id": "1Ejid7utw_6L",
        "outputId": "0500dc1b-c3e7-49e5-d224-e231aec6db2e"
      },
      "outputs": [
        {
          "output_type": "stream",
          "name": "stdout",
          "text": [
            "Accuracy: 0.418\n",
            "precision: 0.403\n",
            "recall: 0.418\n",
            "f1: 0.418\n"
          ]
        }
      ],
      "source": [
        "from sklearn.metrics import precision_score, accuracy_score, recall_score, f1_score\n",
        "\n",
        "print(f\"Accuracy: {round(accuracy_score(y_test, y_pred),3)}\")\n",
        "print(f\"precision: {round(precision_score(y_test, y_pred, average='weighted'),3)}\")\n",
        "print(f\"recall: {round(recall_score(y_test, y_pred, average='weighted'),3)}\")\n",
        "print(f\"f1: {round(accuracy_score(y_test, y_pred), 3)}\")"
      ]
    },
    {
      "cell_type": "markdown",
      "metadata": {
        "id": "cG0fJlB8SZ2s"
      },
      "source": [
        "KNN"
      ]
    },
    {
      "cell_type": "code",
      "execution_count": null,
      "metadata": {
        "colab": {
          "base_uri": "https://localhost:8080/",
          "height": 74
        },
        "id": "7lH-UaEGScFP",
        "outputId": "ce98a11d-d541-413d-8201-1cb7f32915b2"
      },
      "outputs": [
        {
          "output_type": "execute_result",
          "data": {
            "text/plain": [
              "KNeighborsClassifier(n_neighbors=7)"
            ],
            "text/html": [
              "<style>#sk-container-id-4 {color: black;background-color: white;}#sk-container-id-4 pre{padding: 0;}#sk-container-id-4 div.sk-toggleable {background-color: white;}#sk-container-id-4 label.sk-toggleable__label {cursor: pointer;display: block;width: 100%;margin-bottom: 0;padding: 0.3em;box-sizing: border-box;text-align: center;}#sk-container-id-4 label.sk-toggleable__label-arrow:before {content: \"▸\";float: left;margin-right: 0.25em;color: #696969;}#sk-container-id-4 label.sk-toggleable__label-arrow:hover:before {color: black;}#sk-container-id-4 div.sk-estimator:hover label.sk-toggleable__label-arrow:before {color: black;}#sk-container-id-4 div.sk-toggleable__content {max-height: 0;max-width: 0;overflow: hidden;text-align: left;background-color: #f0f8ff;}#sk-container-id-4 div.sk-toggleable__content pre {margin: 0.2em;color: black;border-radius: 0.25em;background-color: #f0f8ff;}#sk-container-id-4 input.sk-toggleable__control:checked~div.sk-toggleable__content {max-height: 200px;max-width: 100%;overflow: auto;}#sk-container-id-4 input.sk-toggleable__control:checked~label.sk-toggleable__label-arrow:before {content: \"▾\";}#sk-container-id-4 div.sk-estimator input.sk-toggleable__control:checked~label.sk-toggleable__label {background-color: #d4ebff;}#sk-container-id-4 div.sk-label input.sk-toggleable__control:checked~label.sk-toggleable__label {background-color: #d4ebff;}#sk-container-id-4 input.sk-hidden--visually {border: 0;clip: rect(1px 1px 1px 1px);clip: rect(1px, 1px, 1px, 1px);height: 1px;margin: -1px;overflow: hidden;padding: 0;position: absolute;width: 1px;}#sk-container-id-4 div.sk-estimator {font-family: monospace;background-color: #f0f8ff;border: 1px dotted black;border-radius: 0.25em;box-sizing: border-box;margin-bottom: 0.5em;}#sk-container-id-4 div.sk-estimator:hover {background-color: #d4ebff;}#sk-container-id-4 div.sk-parallel-item::after {content: \"\";width: 100%;border-bottom: 1px solid gray;flex-grow: 1;}#sk-container-id-4 div.sk-label:hover label.sk-toggleable__label {background-color: #d4ebff;}#sk-container-id-4 div.sk-serial::before {content: \"\";position: absolute;border-left: 1px solid gray;box-sizing: border-box;top: 0;bottom: 0;left: 50%;z-index: 0;}#sk-container-id-4 div.sk-serial {display: flex;flex-direction: column;align-items: center;background-color: white;padding-right: 0.2em;padding-left: 0.2em;position: relative;}#sk-container-id-4 div.sk-item {position: relative;z-index: 1;}#sk-container-id-4 div.sk-parallel {display: flex;align-items: stretch;justify-content: center;background-color: white;position: relative;}#sk-container-id-4 div.sk-item::before, #sk-container-id-4 div.sk-parallel-item::before {content: \"\";position: absolute;border-left: 1px solid gray;box-sizing: border-box;top: 0;bottom: 0;left: 50%;z-index: -1;}#sk-container-id-4 div.sk-parallel-item {display: flex;flex-direction: column;z-index: 1;position: relative;background-color: white;}#sk-container-id-4 div.sk-parallel-item:first-child::after {align-self: flex-end;width: 50%;}#sk-container-id-4 div.sk-parallel-item:last-child::after {align-self: flex-start;width: 50%;}#sk-container-id-4 div.sk-parallel-item:only-child::after {width: 0;}#sk-container-id-4 div.sk-dashed-wrapped {border: 1px dashed gray;margin: 0 0.4em 0.5em 0.4em;box-sizing: border-box;padding-bottom: 0.4em;background-color: white;}#sk-container-id-4 div.sk-label label {font-family: monospace;font-weight: bold;display: inline-block;line-height: 1.2em;}#sk-container-id-4 div.sk-label-container {text-align: center;}#sk-container-id-4 div.sk-container {/* jupyter's `normalize.less` sets `[hidden] { display: none; }` but bootstrap.min.css set `[hidden] { display: none !important; }` so we also need the `!important` here to be able to override the default hidden behavior on the sphinx rendered scikit-learn.org. See: https://github.com/scikit-learn/scikit-learn/issues/21755 */display: inline-block !important;position: relative;}#sk-container-id-4 div.sk-text-repr-fallback {display: none;}</style><div id=\"sk-container-id-4\" class=\"sk-top-container\"><div class=\"sk-text-repr-fallback\"><pre>KNeighborsClassifier(n_neighbors=7)</pre><b>In a Jupyter environment, please rerun this cell to show the HTML representation or trust the notebook. <br />On GitHub, the HTML representation is unable to render, please try loading this page with nbviewer.org.</b></div><div class=\"sk-container\" hidden><div class=\"sk-item\"><div class=\"sk-estimator sk-toggleable\"><input class=\"sk-toggleable__control sk-hidden--visually\" id=\"sk-estimator-id-4\" type=\"checkbox\" checked><label for=\"sk-estimator-id-4\" class=\"sk-toggleable__label sk-toggleable__label-arrow\">KNeighborsClassifier</label><div class=\"sk-toggleable__content\"><pre>KNeighborsClassifier(n_neighbors=7)</pre></div></div></div></div></div>"
            ]
          },
          "metadata": {},
          "execution_count": 31
        }
      ],
      "source": [
        "from sklearn.neighbors import KNeighborsClassifier\n",
        "knn=KNeighborsClassifier(n_neighbors=7)\n",
        "knn.fit(X_train,y_train)"
      ]
    },
    {
      "cell_type": "code",
      "execution_count": null,
      "metadata": {
        "colab": {
          "base_uri": "https://localhost:8080/"
        },
        "id": "irDgS20MSrvc",
        "outputId": "e58fed1a-aa17-44d3-b908-2ccf314de4cd"
      },
      "outputs": [
        {
          "output_type": "stream",
          "name": "stdout",
          "text": [
            "0.8522012578616353\n",
            "0.663003663003663\n"
          ]
        }
      ],
      "source": [
        "print(knn.score(X_train, y_train))\n",
        "print(knn.score(X_test, y_test))"
      ]
    },
    {
      "cell_type": "code",
      "execution_count": null,
      "metadata": {
        "colab": {
          "base_uri": "https://localhost:8080/",
          "height": 449
        },
        "id": "_IUSK_cHStJK",
        "outputId": "6f102ecc-f1d8-49cf-e6b3-0ab1faf21b81"
      },
      "outputs": [
        {
          "output_type": "display_data",
          "data": {
            "text/plain": [
              "<Figure size 640x480 with 2 Axes>"
            ],
            "image/png": "[encoded data removed]"
          },
          "metadata": {}
        }
      ],
      "source": [
        "y_pred = knn.predict(X_test)\n",
        "import matplotlib.pyplot as plt\n",
        "from sklearn.metrics import confusion_matrix\n",
        "from sklearn.metrics import ConfusionMatrixDisplay\n",
        "\n",
        "cm = confusion_matrix(y_test, y_pred)\n",
        "cm2 = ConfusionMatrixDisplay(confusion_matrix=cm)\n",
        "cm2.plot()\n",
        "plt.show()"
      ]
    },
    {
      "cell_type": "code",
      "execution_count": null,
      "metadata": {
        "colab": {
          "base_uri": "https://localhost:8080/"
        },
        "id": "5xEdTXtaSux7",
        "outputId": "422c3999-f3bc-47fb-a6a7-1fe9596de65e"
      },
      "outputs": [
        {
          "output_type": "stream",
          "name": "stdout",
          "text": [
            "Accuracy: 0.663\n",
            "precision: 0.661\n",
            "recall: 0.663\n",
            "f1: 0.663\n"
          ]
        }
      ],
      "source": [
        "from sklearn.metrics import precision_score, accuracy_score, recall_score, f1_score\n",
        "\n",
        "print(f\"Accuracy: {round(accuracy_score(y_test, y_pred),3)}\")\n",
        "print(f\"precision: {round(precision_score(y_test, y_pred, average='weighted'),3)}\")\n",
        "print(f\"recall: {round(recall_score(y_test, y_pred, average='weighted'),3)}\")\n",
        "print(f\"f1: {round(accuracy_score(y_test, y_pred), 3)}\")"
      ]
    },
    {
      "cell_type": "markdown",
      "metadata": {
        "id": "0jPuGO5rSw82"
      },
      "source": [
        "XGB:"
      ]
    },
    {
      "cell_type": "code",
      "execution_count": null,
      "metadata": {
        "colab": {
          "base_uri": "https://localhost:8080/",
          "height": 248
        },
        "id": "CgYLsQB9SwU9",
        "outputId": "9581f070-2869-49c1-d653-3233f1a7375f"
      },
      "outputs": [
        {
          "output_type": "execute_result",
          "data": {
            "text/plain": [
              "XGBClassifier(base_score=None, booster=None, callbacks=None,\n",
              "              colsample_bylevel=None, colsample_bynode=None,\n",
              "              colsample_bytree=None, early_stopping_rounds=None,\n",
              "              enable_categorical=False, eval_metric=None, feature_types=None,\n",
              "              gamma=None, gpu_id=None, grow_policy=None, importance_type=None,\n",
              "              interaction_constraints=None, learning_rate=None, max_bin=None,\n",
              "              max_cat_threshold=None, max_cat_to_onehot=None,\n",
              "              max_delta_step=None, max_depth=None, max_leaves=None,\n",
              "              min_child_weight=None, missing=nan, monotone_constraints=None,\n",
              "              n_estimators=100, n_jobs=None, num_parallel_tree=None,\n",
              "              objective='multi:softprob', predictor=None, ...)"
            ],
            "text/html": [
              "<style>#sk-container-id-5 {color: black;background-color: white;}#sk-container-id-5 pre{padding: 0;}#sk-container-id-5 div.sk-toggleable {background-color: white;}#sk-container-id-5 label.sk-toggleable__label {cursor: pointer;display: block;width: 100%;margin-bottom: 0;padding: 0.3em;box-sizing: border-box;text-align: center;}#sk-container-id-5 label.sk-toggleable__label-arrow:before {content: \"▸\";float: left;margin-right: 0.25em;color: #696969;}#sk-container-id-5 label.sk-toggleable__label-arrow:hover:before {color: black;}#sk-container-id-5 div.sk-estimator:hover label.sk-toggleable__label-arrow:before {color: black;}#sk-container-id-5 div.sk-toggleable__content {max-height: 0;max-width: 0;overflow: hidden;text-align: left;background-color: #f0f8ff;}#sk-container-id-5 div.sk-toggleable__content pre {margin: 0.2em;color: black;border-radius: 0.25em;background-color: #f0f8ff;}#sk-container-id-5 input.sk-toggleable__control:checked~div.sk-toggleable__content {max-height: 200px;max-width: 100%;overflow: auto;}#sk-container-id-5 input.sk-toggleable__control:checked~label.sk-toggleable__label-arrow:before {content: \"▾\";}#sk-container-id-5 div.sk-estimator input.sk-toggleable__control:checked~label.sk-toggleable__label {background-color: #d4ebff;}#sk-container-id-5 div.sk-label input.sk-toggleable__control:checked~label.sk-toggleable__label {background-color: #d4ebff;}#sk-container-id-5 input.sk-hidden--visually {border: 0;clip: rect(1px 1px 1px 1px);clip: rect(1px, 1px, 1px, 1px);height: 1px;margin: -1px;overflow: hidden;padding: 0;position: absolute;width: 1px;}#sk-container-id-5 div.sk-estimator {font-family: monospace;background-color: #f0f8ff;border: 1px dotted black;border-radius: 0.25em;box-sizing: border-box;margin-bottom: 0.5em;}#sk-container-id-5 div.sk-estimator:hover {background-color: #d4ebff;}#sk-container-id-5 div.sk-parallel-item::after {content: \"\";width: 100%;border-bottom: 1px solid gray;flex-grow: 1;}#sk-container-id-5 div.sk-label:hover label.sk-toggleable__label {background-color: #d4ebff;}#sk-container-id-5 div.sk-serial::before {content: \"\";position: absolute;border-left: 1px solid gray;box-sizing: border-box;top: 0;bottom: 0;left: 50%;z-index: 0;}#sk-container-id-5 div.sk-serial {display: flex;flex-direction: column;align-items: center;background-color: white;padding-right: 0.2em;padding-left: 0.2em;position: relative;}#sk-container-id-5 div.sk-item {position: relative;z-index: 1;}#sk-container-id-5 div.sk-parallel {display: flex;align-items: stretch;justify-content: center;background-color: white;position: relative;}#sk-container-id-5 div.sk-item::before, #sk-container-id-5 div.sk-parallel-item::before {content: \"\";position: absolute;border-left: 1px solid gray;box-sizing: border-box;top: 0;bottom: 0;left: 50%;z-index: -1;}#sk-container-id-5 div.sk-parallel-item {display: flex;flex-direction: column;z-index: 1;position: relative;background-color: white;}#sk-container-id-5 div.sk-parallel-item:first-child::after {align-self: flex-end;width: 50%;}#sk-container-id-5 div.sk-parallel-item:last-child::after {align-self: flex-start;width: 50%;}#sk-container-id-5 div.sk-parallel-item:only-child::after {width: 0;}#sk-container-id-5 div.sk-dashed-wrapped {border: 1px dashed gray;margin: 0 0.4em 0.5em 0.4em;box-sizing: border-box;padding-bottom: 0.4em;background-color: white;}#sk-container-id-5 div.sk-label label {font-family: monospace;font-weight: bold;display: inline-block;line-height: 1.2em;}#sk-container-id-5 div.sk-label-container {text-align: center;}#sk-container-id-5 div.sk-container {/* jupyter's `normalize.less` sets `[hidden] { display: none; }` but bootstrap.min.css set `[hidden] { display: none !important; }` so we also need the `!important` here to be able to override the default hidden behavior on the sphinx rendered scikit-learn.org. See: https://github.com/scikit-learn/scikit-learn/issues/21755 */display: inline-block !important;position: relative;}#sk-container-id-5 div.sk-text-repr-fallback {display: none;}</style><div id=\"sk-container-id-5\" class=\"sk-top-container\"><div class=\"sk-text-repr-fallback\"><pre>XGBClassifier(base_score=None, booster=None, callbacks=None,\n",
              "              colsample_bylevel=None, colsample_bynode=None,\n",
              "              colsample_bytree=None, early_stopping_rounds=None,\n",
              "              enable_categorical=False, eval_metric=None, feature_types=None,\n",
              "              gamma=None, gpu_id=None, grow_policy=None, importance_type=None,\n",
              "              interaction_constraints=None, learning_rate=None, max_bin=None,\n",
              "              max_cat_threshold=None, max_cat_to_onehot=None,\n",
              "              max_delta_step=None, max_depth=None, max_leaves=None,\n",
              "              min_child_weight=None, missing=nan, monotone_constraints=None,\n",
              "              n_estimators=100, n_jobs=None, num_parallel_tree=None,\n",
              "              objective=&#x27;multi:softprob&#x27;, predictor=None, ...)</pre><b>In a Jupyter environment, please rerun this cell to show the HTML representation or trust the notebook. <br />On GitHub, the HTML representation is unable to render, please try loading this page with nbviewer.org.</b></div><div class=\"sk-container\" hidden><div class=\"sk-item\"><div class=\"sk-estimator sk-toggleable\"><input class=\"sk-toggleable__control sk-hidden--visually\" id=\"sk-estimator-id-5\" type=\"checkbox\" checked><label for=\"sk-estimator-id-5\" class=\"sk-toggleable__label sk-toggleable__label-arrow\">XGBClassifier</label><div class=\"sk-toggleable__content\"><pre>XGBClassifier(base_score=None, booster=None, callbacks=None,\n",
              "              colsample_bylevel=None, colsample_bynode=None,\n",
              "              colsample_bytree=None, early_stopping_rounds=None,\n",
              "              enable_categorical=False, eval_metric=None, feature_types=None,\n",
              "              gamma=None, gpu_id=None, grow_policy=None, importance_type=None,\n",
              "              interaction_constraints=None, learning_rate=None, max_bin=None,\n",
              "              max_cat_threshold=None, max_cat_to_onehot=None,\n",
              "              max_delta_step=None, max_depth=None, max_leaves=None,\n",
              "              min_child_weight=None, missing=nan, monotone_constraints=None,\n",
              "              n_estimators=100, n_jobs=None, num_parallel_tree=None,\n",
              "              objective=&#x27;multi:softprob&#x27;, predictor=None, ...)</pre></div></div></div></div></div>"
            ]
          },
          "metadata": {},
          "execution_count": 35
        }
      ],
      "source": [
        "from xgboost import XGBClassifier\n",
        "xgb=XGBClassifier()\n",
        "xgb.fit(X_train,y_train)"
      ]
    },
    {
      "cell_type": "code",
      "execution_count": null,
      "metadata": {
        "colab": {
          "base_uri": "https://localhost:8080/"
        },
        "id": "d1u87cb0Sz36",
        "outputId": "94808868-c8b1-4aad-80fe-03de69850b35"
      },
      "outputs": [
        {
          "output_type": "stream",
          "name": "stdout",
          "text": [
            "1.0\n",
            "0.6446886446886447\n"
          ]
        }
      ],
      "source": [
        "print(xgb.score(X_train, y_train))\n",
        "print(xgb.score(X_test, y_test))"
      ]
    },
    {
      "cell_type": "code",
      "execution_count": null,
      "metadata": {
        "colab": {
          "base_uri": "https://localhost:8080/",
          "height": 449
        },
        "id": "3Ad6rEsdS1eF",
        "outputId": "eaf4be3d-9412-45b9-c6f6-3c780bea5ef9"
      },
      "outputs": [
        {
          "output_type": "display_data",
          "data": {
            "text/plain": [
              "<Figure size 640x480 with 2 Axes>"
            ],
            "image/png": "[encoded data removed]"
          },
          "metadata": {}
        }
      ],
      "source": [
        "y_pred = xgb.predict(X_test)\n",
        "import matplotlib.pyplot as plt\n",
        "from sklearn.metrics import confusion_matrix\n",
        "from sklearn.metrics import ConfusionMatrixDisplay\n",
        "\n",
        "cm = confusion_matrix(y_test, y_pred)\n",
        "cm2 = ConfusionMatrixDisplay(confusion_matrix=cm)\n",
        "cm2.plot()\n",
        "plt.show()"
      ]
    },
    {
      "cell_type": "code",
      "execution_count": null,
      "metadata": {
        "colab": {
          "base_uri": "https://localhost:8080/"
        },
        "id": "GiinifE6S2-0",
        "outputId": "32ff048e-402a-44ed-fddd-cf2314891e97"
      },
      "outputs": [
        {
          "output_type": "stream",
          "name": "stdout",
          "text": [
            "Accuracy: 0.645\n",
            "precision: 0.648\n",
            "recall: 0.645\n",
            "f1: 0.645\n"
          ]
        }
      ],
      "source": [
        "from sklearn.metrics import precision_score, accuracy_score, recall_score, f1_score\n",
        "\n",
        "print(f\"Accuracy: {round(accuracy_score(y_test, y_pred),3)}\")\n",
        "print(f\"precision: {round(precision_score(y_test, y_pred, average='weighted'),3)}\")\n",
        "print(f\"recall: {round(recall_score(y_test, y_pred, average='weighted'),3)}\")\n",
        "print(f\"f1: {round(accuracy_score(y_test, y_pred), 3)}\")"
      ]
    },
    {
      "cell_type": "markdown",
      "metadata": {
        "id": "iKGH6by6S6Md"
      },
      "source": [
        "ANN:"
      ]
    },
    {
      "cell_type": "code",
      "execution_count": null,
      "metadata": {
        "colab": {
          "base_uri": "https://localhost:8080/"
        },
        "id": "mQ2zYCYrS5Ry",
        "outputId": "47133ace-2cd0-4934-e04e-0c1db5e07a91"
      },
      "outputs": [
        {
          "output_type": "stream",
          "name": "stdout",
          "text": [
            "Epoch 1/100\n",
            "20/20 [==============================] - 1s 2ms/step - loss: 291.4480 - accuracy: 0.3365\n",
            "Epoch 2/100\n",
            "20/20 [==============================] - 0s 2ms/step - loss: 230.6390 - accuracy: 0.3365\n",
            "Epoch 3/100\n",
            "20/20 [==============================] - 0s 2ms/step - loss: 173.7476 - accuracy: 0.3365\n",
            "Epoch 4/100\n",
            "20/20 [==============================] - 0s 2ms/step - loss: 118.7833 - accuracy: 0.3365\n",
            "Epoch 5/100\n",
            "20/20 [==============================] - 0s 2ms/step - loss: 66.0581 - accuracy: 0.3365\n",
            "Epoch 6/100\n",
            "20/20 [==============================] - 0s 2ms/step - loss: 14.3206 - accuracy: 0.3459\n",
            "Epoch 7/100\n",
            "20/20 [==============================] - 0s 2ms/step - loss: 1.0316 - accuracy: 0.3270\n",
            "Epoch 8/100\n",
            "20/20 [==============================] - 0s 2ms/step - loss: 1.1000 - accuracy: 0.3270\n",
            "Epoch 9/100\n",
            "20/20 [==============================] - 0s 2ms/step - loss: 1.0030 - accuracy: 0.3270\n",
            "Epoch 10/100\n",
            "20/20 [==============================] - 0s 2ms/step - loss: 0.7995 - accuracy: 0.3270\n",
            "Epoch 11/100\n",
            "20/20 [==============================] - 0s 2ms/step - loss: 0.6617 - accuracy: 0.3270\n",
            "Epoch 12/100\n",
            "20/20 [==============================] - 0s 2ms/step - loss: 0.4966 - accuracy: 0.3270\n",
            "Epoch 13/100\n",
            "20/20 [==============================] - 0s 2ms/step - loss: 0.2617 - accuracy: 0.3270\n",
            "Epoch 14/100\n",
            "20/20 [==============================] - 0s 2ms/step - loss: 0.2186 - accuracy: 0.3270\n",
            "Epoch 15/100\n",
            "20/20 [==============================] - 0s 2ms/step - loss: 0.1852 - accuracy: 0.3270\n",
            "Epoch 16/100\n",
            "20/20 [==============================] - 0s 2ms/step - loss: 0.2123 - accuracy: 0.3270\n",
            "Epoch 17/100\n",
            "20/20 [==============================] - 0s 2ms/step - loss: 0.1929 - accuracy: 0.3270\n",
            "Epoch 18/100\n",
            "20/20 [==============================] - 0s 2ms/step - loss: 0.1665 - accuracy: 0.3270\n",
            "Epoch 19/100\n",
            "20/20 [==============================] - 0s 3ms/step - loss: 0.1699 - accuracy: 0.3270\n",
            "Epoch 20/100\n",
            "20/20 [==============================] - 0s 2ms/step - loss: 0.1773 - accuracy: 0.3270\n",
            "Epoch 21/100\n",
            "20/20 [==============================] - 0s 2ms/step - loss: 0.1811 - accuracy: 0.3270\n",
            "Epoch 22/100\n",
            "20/20 [==============================] - 0s 2ms/step - loss: 0.1777 - accuracy: 0.3270\n",
            "Epoch 23/100\n",
            "20/20 [==============================] - 0s 2ms/step - loss: 0.2565 - accuracy: 0.3270\n",
            "Epoch 24/100\n",
            "20/20 [==============================] - 0s 2ms/step - loss: 0.1805 - accuracy: 0.3270\n",
            "Epoch 25/100\n",
            "20/20 [==============================] - 0s 2ms/step - loss: 0.1495 - accuracy: 0.3270\n",
            "Epoch 26/100\n",
            "20/20 [==============================] - 0s 3ms/step - loss: 0.1655 - accuracy: 0.3270\n",
            "Epoch 27/100\n",
            "20/20 [==============================] - 0s 2ms/step - loss: 0.1490 - accuracy: 0.3270\n",
            "Epoch 28/100\n",
            "20/20 [==============================] - 0s 2ms/step - loss: 0.1518 - accuracy: 0.3270\n",
            "Epoch 29/100\n",
            "20/20 [==============================] - 0s 2ms/step - loss: 0.1467 - accuracy: 0.3270\n",
            "Epoch 30/100\n",
            "20/20 [==============================] - 0s 2ms/step - loss: 0.1574 - accuracy: 0.3270\n",
            "Epoch 31/100\n",
            "20/20 [==============================] - 0s 2ms/step - loss: 0.1782 - accuracy: 0.3270\n",
            "Epoch 32/100\n",
            "20/20 [==============================] - 0s 2ms/step - loss: 0.1737 - accuracy: 0.3270\n",
            "Epoch 33/100\n",
            "20/20 [==============================] - 0s 2ms/step - loss: 0.1382 - accuracy: 0.3270\n",
            "Epoch 34/100\n",
            "20/20 [==============================] - 0s 2ms/step - loss: 0.1379 - accuracy: 0.3270\n",
            "Epoch 35/100\n",
            "20/20 [==============================] - 0s 2ms/step - loss: 0.1341 - accuracy: 0.3270\n",
            "Epoch 36/100\n",
            "20/20 [==============================] - 0s 2ms/step - loss: 0.2593 - accuracy: 0.3270\n",
            "Epoch 37/100\n",
            "20/20 [==============================] - 0s 2ms/step - loss: 0.2770 - accuracy: 0.3255\n",
            "Epoch 38/100\n",
            "20/20 [==============================] - 0s 2ms/step - loss: 0.2658 - accuracy: 0.3270\n",
            "Epoch 39/100\n",
            "20/20 [==============================] - 0s 3ms/step - loss: 0.1335 - accuracy: 0.3270\n",
            "Epoch 40/100\n",
            "20/20 [==============================] - 0s 2ms/step - loss: 0.1545 - accuracy: 0.3270\n",
            "Epoch 41/100\n",
            "20/20 [==============================] - 0s 2ms/step - loss: 0.1833 - accuracy: 0.3270\n",
            "Epoch 42/100\n",
            "20/20 [==============================] - 0s 2ms/step - loss: 0.1013 - accuracy: 0.3270\n",
            "Epoch 43/100\n",
            "20/20 [==============================] - 0s 2ms/step - loss: 0.1083 - accuracy: 0.3270\n",
            "Epoch 44/100\n",
            "20/20 [==============================] - 0s 2ms/step - loss: 0.1035 - accuracy: 0.3270\n",
            "Epoch 45/100\n",
            "20/20 [==============================] - 0s 2ms/step - loss: 0.0834 - accuracy: 0.3270\n",
            "Epoch 46/100\n",
            "20/20 [==============================] - 0s 2ms/step - loss: 0.2647 - accuracy: 0.3270\n",
            "Epoch 47/100\n",
            "20/20 [==============================] - 0s 2ms/step - loss: 0.1033 - accuracy: 0.3270\n",
            "Epoch 48/100\n",
            "20/20 [==============================] - 0s 2ms/step - loss: 0.2003 - accuracy: 0.3270\n",
            "Epoch 49/100\n",
            "20/20 [==============================] - 0s 2ms/step - loss: 0.1129 - accuracy: 0.3270\n",
            "Epoch 50/100\n",
            "20/20 [==============================] - 0s 2ms/step - loss: 0.1180 - accuracy: 0.3270\n",
            "Epoch 51/100\n",
            "20/20 [==============================] - 0s 2ms/step - loss: 0.1542 - accuracy: 0.3286\n",
            "Epoch 52/100\n",
            "20/20 [==============================] - 0s 2ms/step - loss: 0.5723 - accuracy: 0.3270\n",
            "Epoch 53/100\n",
            "20/20 [==============================] - 0s 2ms/step - loss: 0.3418 - accuracy: 0.3270\n",
            "Epoch 54/100\n",
            "20/20 [==============================] - 0s 2ms/step - loss: 0.1550 - accuracy: 0.3208\n",
            "Epoch 55/100\n",
            "20/20 [==============================] - 0s 2ms/step - loss: 0.3092 - accuracy: 0.3270\n",
            "Epoch 56/100\n",
            "20/20 [==============================] - 0s 2ms/step - loss: 0.1721 - accuracy: 0.3302\n",
            "Epoch 57/100\n",
            "20/20 [==============================] - 0s 2ms/step - loss: 0.1779 - accuracy: 0.3270\n",
            "Epoch 58/100\n",
            "20/20 [==============================] - 0s 2ms/step - loss: 0.1289 - accuracy: 0.3270\n",
            "Epoch 59/100\n",
            "20/20 [==============================] - 0s 2ms/step - loss: 0.1746 - accuracy: 0.3270\n",
            "Epoch 60/100\n",
            "20/20 [==============================] - 0s 2ms/step - loss: 0.0894 - accuracy: 0.3270\n",
            "Epoch 61/100\n",
            "20/20 [==============================] - 0s 2ms/step - loss: 0.1104 - accuracy: 0.3270\n",
            "Epoch 62/100\n",
            "20/20 [==============================] - 0s 2ms/step - loss: 0.1492 - accuracy: 0.3270\n",
            "Epoch 63/100\n",
            "20/20 [==============================] - 0s 2ms/step - loss: 0.1334 - accuracy: 0.3270\n",
            "Epoch 64/100\n",
            "20/20 [==============================] - 0s 2ms/step - loss: 0.0912 - accuracy: 0.3270\n",
            "Epoch 65/100\n",
            "20/20 [==============================] - 0s 2ms/step - loss: 0.2091 - accuracy: 0.3270\n",
            "Epoch 66/100\n",
            "20/20 [==============================] - 0s 2ms/step - loss: 0.1070 - accuracy: 0.3381\n",
            "Epoch 67/100\n",
            "20/20 [==============================] - 0s 2ms/step - loss: 0.3962 - accuracy: 0.3270\n",
            "Epoch 68/100\n",
            "20/20 [==============================] - 0s 2ms/step - loss: 0.0173 - accuracy: 0.3270\n",
            "Epoch 69/100\n",
            "20/20 [==============================] - 0s 2ms/step - loss: 0.0669 - accuracy: 0.3302\n",
            "Epoch 70/100\n",
            "20/20 [==============================] - 0s 2ms/step - loss: 0.0605 - accuracy: 0.3270\n",
            "Epoch 71/100\n",
            "20/20 [==============================] - 0s 2ms/step - loss: 0.0815 - accuracy: 0.3270\n",
            "Epoch 72/100\n",
            "20/20 [==============================] - 0s 2ms/step - loss: 0.0758 - accuracy: 0.3270\n",
            "Epoch 73/100\n",
            "20/20 [==============================] - 0s 2ms/step - loss: 0.0572 - accuracy: 0.3270\n",
            "Epoch 74/100\n",
            "20/20 [==============================] - 0s 2ms/step - loss: 0.1306 - accuracy: 0.3270\n",
            "Epoch 75/100\n",
            "20/20 [==============================] - 0s 2ms/step - loss: 0.1677 - accuracy: 0.3349\n",
            "Epoch 76/100\n",
            "20/20 [==============================] - 0s 2ms/step - loss: 0.0528 - accuracy: 0.3270\n",
            "Epoch 77/100\n",
            "20/20 [==============================] - 0s 2ms/step - loss: 0.1249 - accuracy: 0.3270\n",
            "Epoch 78/100\n",
            "20/20 [==============================] - 0s 2ms/step - loss: 0.0524 - accuracy: 0.3270\n",
            "Epoch 79/100\n",
            "20/20 [==============================] - 0s 3ms/step - loss: 0.0661 - accuracy: 0.3270\n",
            "Epoch 80/100\n",
            "20/20 [==============================] - 0s 2ms/step - loss: 0.0532 - accuracy: 0.3270\n",
            "Epoch 81/100\n",
            "20/20 [==============================] - 0s 2ms/step - loss: 0.0533 - accuracy: 0.3270\n",
            "Epoch 82/100\n",
            "20/20 [==============================] - 0s 4ms/step - loss: 0.1822 - accuracy: 0.3270\n",
            "Epoch 83/100\n",
            "20/20 [==============================] - 0s 4ms/step - loss: 0.0380 - accuracy: 0.3333\n",
            "Epoch 84/100\n",
            "20/20 [==============================] - 0s 4ms/step - loss: 0.1536 - accuracy: 0.3270\n",
            "Epoch 85/100\n",
            "20/20 [==============================] - 0s 3ms/step - loss: 0.0408 - accuracy: 0.3270\n",
            "Epoch 86/100\n",
            "20/20 [==============================] - 0s 3ms/step - loss: 0.0274 - accuracy: 0.3270\n",
            "Epoch 87/100\n",
            "20/20 [==============================] - 0s 3ms/step - loss: 0.0406 - accuracy: 0.3270\n",
            "Epoch 88/100\n",
            "20/20 [==============================] - 0s 3ms/step - loss: 0.0871 - accuracy: 0.3270\n",
            "Epoch 89/100\n",
            "20/20 [==============================] - 0s 3ms/step - loss: 0.0716 - accuracy: 0.3270\n",
            "Epoch 90/100\n",
            "20/20 [==============================] - 0s 3ms/step - loss: 0.0242 - accuracy: 0.3270\n",
            "Epoch 91/100\n",
            "20/20 [==============================] - 0s 3ms/step - loss: 0.0696 - accuracy: 0.3270\n",
            "Epoch 92/100\n",
            "20/20 [==============================] - 0s 3ms/step - loss: 0.0195 - accuracy: 0.3270\n",
            "Epoch 93/100\n",
            "20/20 [==============================] - 0s 4ms/step - loss: 0.0566 - accuracy: 0.3270\n",
            "Epoch 94/100\n",
            "20/20 [==============================] - 0s 3ms/step - loss: 0.2065 - accuracy: 0.3286\n",
            "Epoch 95/100\n",
            "20/20 [==============================] - 0s 3ms/step - loss: 0.2630 - accuracy: 0.3270\n",
            "Epoch 96/100\n",
            "20/20 [==============================] - 0s 3ms/step - loss: -0.0242 - accuracy: 0.3270\n",
            "Epoch 97/100\n",
            "20/20 [==============================] - 0s 3ms/step - loss: 0.0819 - accuracy: 0.3270\n",
            "Epoch 98/100\n",
            "20/20 [==============================] - 0s 3ms/step - loss: -0.0047 - accuracy: 0.3270\n",
            "Epoch 99/100\n",
            "20/20 [==============================] - 0s 4ms/step - loss: -0.0142 - accuracy: 0.3270\n",
            "Epoch 100/100\n",
            "20/20 [==============================] - 0s 2ms/step - loss: 0.3161 - accuracy: 0.3270\n"
          ]
        },
        {
          "output_type": "execute_result",
          "data": {
            "text/plain": [
              "<keras.callbacks.History at 0x7fc20c79d820>"
            ]
          },
          "metadata": {},
          "execution_count": 39
        }
      ],
      "source": [
        "import tensorflow as tf\n",
        "ann=tf.keras.models.Sequential()\n",
        "ann.add(tf.keras.layers.Dense(units=6,activation=\"relu\"))\n",
        "ann.add(tf.keras.layers.Dense(units=6,activation=\"relu\"))\n",
        "ann.add(tf.keras.layers.Dense(units=1,activation=\"sigmoid\"))\n",
        "ann.compile(optimizer=\"adam\",loss=\"binary_crossentropy\",metrics=['accuracy'])\n",
        "ann.fit(X_train,y_train,batch_size=32,epochs=100)"
      ]
    },
    {
      "cell_type": "code",
      "execution_count": null,
      "metadata": {
        "colab": {
          "base_uri": "https://localhost:8080/"
        },
        "id": "ev-lZm37S8Ut",
        "outputId": "c187adec-d755-4ae0-88e4-894fc514f280"
      },
      "outputs": [
        {
          "output_type": "stream",
          "name": "stdout",
          "text": [
            "20/20 [==============================] - 0s 2ms/step - loss: -0.0904 - accuracy: 0.3270\n",
            "[-0.09036672115325928, 0.3270440399646759]\n",
            "9/9 [==============================] - 0s 3ms/step - loss: -0.2640 - accuracy: 0.3114\n",
            "[-0.2639559805393219, 0.311355322599411]\n"
          ]
        }
      ],
      "source": [
        "print(ann.evaluate(X_train, y_train))\n",
        "print(ann.evaluate(X_test, y_test))"
      ]
    },
    {
      "cell_type": "code",
      "execution_count": null,
      "metadata": {
        "colab": {
          "base_uri": "https://localhost:8080/",
          "height": 472
        },
        "id": "BkgSYwpVS-NR",
        "outputId": "3ada60ab-a107-4718-8f60-3442b7b52e03"
      },
      "outputs": [
        {
          "output_type": "stream",
          "name": "stdout",
          "text": [
            "9/9 [==============================] - 0s 2ms/step\n"
          ]
        },
        {
          "output_type": "display_data",
          "data": {
            "text/plain": [
              "<Figure size 640x480 with 2 Axes>"
            ],
            "image/png": "[encoded data removed]"
          },
          "metadata": {}
        }
      ],
      "source": [
        "y_pred = ann.predict(X_test)\n",
        "y_pred = np.where(y_pred > 0.5, 1, 0)\n",
        "import matplotlib.pyplot as plt\n",
        "from sklearn.metrics import confusion_matrix\n",
        "from sklearn.metrics import ConfusionMatrixDisplay\n",
        "\n",
        "cm = confusion_matrix(y_test, y_pred)\n",
        "cm2 = ConfusionMatrixDisplay(confusion_matrix=cm)\n",
        "cm2.plot()\n",
        "plt.show()"
      ]
    },
    {
      "cell_type": "code",
      "execution_count": null,
      "metadata": {
        "colab": {
          "base_uri": "https://localhost:8080/"
        },
        "id": "REyiCWfbTBOl",
        "outputId": "29b4463e-e704-4a8b-be3f-0995b21c6273"
      },
      "outputs": [
        {
          "output_type": "stream",
          "name": "stdout",
          "text": [
            "Accuracy: 0.311\n",
            "precision: 0.097\n",
            "recall: 0.311\n",
            "f1: 0.311\n"
          ]
        },
        {
          "output_type": "stream",
          "name": "stderr",
          "text": [
            "/usr/local/lib/python3.9/dist-packages/sklearn/metrics/_classification.py:1344: UndefinedMetricWarning: Precision is ill-defined and being set to 0.0 in labels with no predicted samples. Use `zero_division` parameter to control this behavior.\n",
            "  _warn_prf(average, modifier, msg_start, len(result))\n"
          ]
        }
      ],
      "source": [
        "from sklearn.metrics import precision_score, accuracy_score, recall_score, f1_score\n",
        "\n",
        "print(f\"Accuracy: {round(accuracy_score(y_test, y_pred),3)}\")\n",
        "print(f\"precision: {round(precision_score(y_test, y_pred, average='weighted'),3)}\")\n",
        "print(f\"recall: {round(recall_score(y_test, y_pred, average='weighted'),3)}\")\n",
        "print(f\"f1: {round(accuracy_score(y_test, y_pred), 3)}\")"
      ]
    },
    {
      "cell_type": "markdown",
      "metadata": {
        "id": "nh_vcjBWTF6U"
      },
      "source": [
        "Naive Bayes:"
      ]
    },
    {
      "cell_type": "code",
      "execution_count": null,
      "metadata": {
        "colab": {
          "base_uri": "https://localhost:8080/",
          "height": 74
        },
        "id": "OR3om_lcTFAI",
        "outputId": "6487776e-5f79-443a-ae13-bd1c8e1bd006"
      },
      "outputs": [
        {
          "output_type": "execute_result",
          "data": {
            "text/plain": [
              "GaussianNB()"
            ],
            "text/html": [
              "<style>#sk-container-id-6 {color: black;background-color: white;}#sk-container-id-6 pre{padding: 0;}#sk-container-id-6 div.sk-toggleable {background-color: white;}#sk-container-id-6 label.sk-toggleable__label {cursor: pointer;display: block;width: 100%;margin-bottom: 0;padding: 0.3em;box-sizing: border-box;text-align: center;}#sk-container-id-6 label.sk-toggleable__label-arrow:before {content: \"▸\";float: left;margin-right: 0.25em;color: #696969;}#sk-container-id-6 label.sk-toggleable__label-arrow:hover:before {color: black;}#sk-container-id-6 div.sk-estimator:hover label.sk-toggleable__label-arrow:before {color: black;}#sk-container-id-6 div.sk-toggleable__content {max-height: 0;max-width: 0;overflow: hidden;text-align: left;background-color: #f0f8ff;}#sk-container-id-6 div.sk-toggleable__content pre {margin: 0.2em;color: black;border-radius: 0.25em;background-color: #f0f8ff;}#sk-container-id-6 input.sk-toggleable__control:checked~div.sk-toggleable__content {max-height: 200px;max-width: 100%;overflow: auto;}#sk-container-id-6 input.sk-toggleable__control:checked~label.sk-toggleable__label-arrow:before {content: \"▾\";}#sk-container-id-6 div.sk-estimator input.sk-toggleable__control:checked~label.sk-toggleable__label {background-color: #d4ebff;}#sk-container-id-6 div.sk-label input.sk-toggleable__control:checked~label.sk-toggleable__label {background-color: #d4ebff;}#sk-container-id-6 input.sk-hidden--visually {border: 0;clip: rect(1px 1px 1px 1px);clip: rect(1px, 1px, 1px, 1px);height: 1px;margin: -1px;overflow: hidden;padding: 0;position: absolute;width: 1px;}#sk-container-id-6 div.sk-estimator {font-family: monospace;background-color: #f0f8ff;border: 1px dotted black;border-radius: 0.25em;box-sizing: border-box;margin-bottom: 0.5em;}#sk-container-id-6 div.sk-estimator:hover {background-color: #d4ebff;}#sk-container-id-6 div.sk-parallel-item::after {content: \"\";width: 100%;border-bottom: 1px solid gray;flex-grow: 1;}#sk-container-id-6 div.sk-label:hover label.sk-toggleable__label {background-color: #d4ebff;}#sk-container-id-6 div.sk-serial::before {content: \"\";position: absolute;border-left: 1px solid gray;box-sizing: border-box;top: 0;bottom: 0;left: 50%;z-index: 0;}#sk-container-id-6 div.sk-serial {display: flex;flex-direction: column;align-items: center;background-color: white;padding-right: 0.2em;padding-left: 0.2em;position: relative;}#sk-container-id-6 div.sk-item {position: relative;z-index: 1;}#sk-container-id-6 div.sk-parallel {display: flex;align-items: stretch;justify-content: center;background-color: white;position: relative;}#sk-container-id-6 div.sk-item::before, #sk-container-id-6 div.sk-parallel-item::before {content: \"\";position: absolute;border-left: 1px solid gray;box-sizing: border-box;top: 0;bottom: 0;left: 50%;z-index: -1;}#sk-container-id-6 div.sk-parallel-item {display: flex;flex-direction: column;z-index: 1;position: relative;background-color: white;}#sk-container-id-6 div.sk-parallel-item:first-child::after {align-self: flex-end;width: 50%;}#sk-container-id-6 div.sk-parallel-item:last-child::after {align-self: flex-start;width: 50%;}#sk-container-id-6 div.sk-parallel-item:only-child::after {width: 0;}#sk-container-id-6 div.sk-dashed-wrapped {border: 1px dashed gray;margin: 0 0.4em 0.5em 0.4em;box-sizing: border-box;padding-bottom: 0.4em;background-color: white;}#sk-container-id-6 div.sk-label label {font-family: monospace;font-weight: bold;display: inline-block;line-height: 1.2em;}#sk-container-id-6 div.sk-label-container {text-align: center;}#sk-container-id-6 div.sk-container {/* jupyter's `normalize.less` sets `[hidden] { display: none; }` but bootstrap.min.css set `[hidden] { display: none !important; }` so we also need the `!important` here to be able to override the default hidden behavior on the sphinx rendered scikit-learn.org. See: https://github.com/scikit-learn/scikit-learn/issues/21755 */display: inline-block !important;position: relative;}#sk-container-id-6 div.sk-text-repr-fallback {display: none;}</style><div id=\"sk-container-id-6\" class=\"sk-top-container\"><div class=\"sk-text-repr-fallback\"><pre>GaussianNB()</pre><b>In a Jupyter environment, please rerun this cell to show the HTML representation or trust the notebook. <br />On GitHub, the HTML representation is unable to render, please try loading this page with nbviewer.org.</b></div><div class=\"sk-container\" hidden><div class=\"sk-item\"><div class=\"sk-estimator sk-toggleable\"><input class=\"sk-toggleable__control sk-hidden--visually\" id=\"sk-estimator-id-6\" type=\"checkbox\" checked><label for=\"sk-estimator-id-6\" class=\"sk-toggleable__label sk-toggleable__label-arrow\">GaussianNB</label><div class=\"sk-toggleable__content\"><pre>GaussianNB()</pre></div></div></div></div></div>"
            ]
          },
          "metadata": {},
          "execution_count": 43
        }
      ],
      "source": [
        "from sklearn.naive_bayes  import GaussianNB\n",
        "nb=GaussianNB()\n",
        "nb.fit(X_train,y_train)"
      ]
    },
    {
      "cell_type": "code",
      "execution_count": null,
      "metadata": {
        "colab": {
          "base_uri": "https://localhost:8080/"
        },
        "id": "w0mdcIvyTMob",
        "outputId": "71422812-5716-4886-d422-43ff38e7ee53"
      },
      "outputs": [
        {
          "output_type": "stream",
          "name": "stdout",
          "text": [
            "0.5\n",
            "0.5494505494505495\n"
          ]
        }
      ],
      "source": [
        "print(nb.score(X_train, y_train))\n",
        "print(nb.score(X_test, y_test))"
      ]
    },
    {
      "cell_type": "code",
      "execution_count": null,
      "metadata": {
        "colab": {
          "base_uri": "https://localhost:8080/",
          "height": 449
        },
        "id": "9ClvI1qpTOqH",
        "outputId": "736f9f9d-4a11-45fc-e2bc-d4201d9575d5"
      },
      "outputs": [
        {
          "output_type": "display_data",
          "data": {
            "text/plain": [
              "<Figure size 640x480 with 2 Axes>"
            ],
            "image/png": "[encoded data removed]"
          },
          "metadata": {}
        }
      ],
      "source": [
        "y_pred = nb.predict(X_test)\n",
        "import matplotlib.pyplot as plt\n",
        "from sklearn.metrics import confusion_matrix\n",
        "from sklearn.metrics import ConfusionMatrixDisplay\n",
        "\n",
        "cm = confusion_matrix(y_test, y_pred)\n",
        "cm2 = ConfusionMatrixDisplay(confusion_matrix=cm)\n",
        "cm2.plot()\n",
        "plt.show()\n"
      ]
    },
    {
      "cell_type": "code",
      "execution_count": null,
      "metadata": {
        "colab": {
          "base_uri": "https://localhost:8080/"
        },
        "id": "mPySIALrTQeE",
        "outputId": "cc768ed0-1ae2-4c14-f0b2-486af3e19551"
      },
      "outputs": [
        {
          "output_type": "stream",
          "name": "stdout",
          "text": [
            "Accuracy: 0.549\n",
            "precision: 0.564\n",
            "recall: 0.549\n",
            "f1: 0.549\n"
          ]
        }
      ],
      "source": [
        "from sklearn.metrics import precision_score, accuracy_score, recall_score, f1_score\n",
        "\n",
        "print(f\"Accuracy: {round(accuracy_score(y_test, y_pred),3)}\")\n",
        "print(f\"precision: {round(precision_score(y_test, y_pred, average='weighted'),3)}\")\n",
        "print(f\"recall: {round(recall_score(y_test, y_pred, average='weighted'),3)}\")\n",
        "print(f\"f1: {round(accuracy_score(y_test, y_pred), 3)}\")"
      ]
    },
    {
      "cell_type": "markdown",
      "metadata": {
        "id": "4tC3pLjKTS4V"
      },
      "source": [
        "catBoost"
      ]
    },
    {
      "cell_type": "code",
      "execution_count": null,
      "metadata": {
        "colab": {
          "base_uri": "https://localhost:8080/"
        },
        "id": "VrRug76ITR29",
        "outputId": "e8644cfa-c231-4fbe-80ee-e34c4b2a3c52"
      },
      "outputs": [
        {
          "output_type": "stream",
          "name": "stdout",
          "text": [
            "Looking in indexes: https://pypi.org/simple, https://us-python.pkg.dev/colab-wheels/public/simple/\n",
            "Collecting catboost\n",
            "  Downloading catboost-1.1.1-cp39-none-manylinux1_x86_64.whl (76.6 MB)\n",
            "\u001b[2K     \u001b[90m━━━━━━━━━━━━━━━━━━━━━━━━━━━━━━━━━━━━━━━━\u001b[0m \u001b[32m76.6/76.6 MB\u001b[0m \u001b[31m11.5 MB/s\u001b[0m eta \u001b[36m0:00:00\u001b[0m\n",
            "\u001b[?25hRequirement already satisfied: pandas>=0.24.0 in /usr/local/lib/python3.9/dist-packages (from catboost) (1.5.3)\n",
            "Requirement already satisfied: plotly in /usr/local/lib/python3.9/dist-packages (from catboost) (5.13.1)\n",
            "Requirement already satisfied: graphviz in /usr/local/lib/python3.9/dist-packages (from catboost) (0.20.1)\n",
            "Requirement already satisfied: numpy>=1.16.0 in /usr/local/lib/python3.9/dist-packages (from catboost) (1.22.4)\n",
            "Requirement already satisfied: scipy in /usr/local/lib/python3.9/dist-packages (from catboost) (1.10.1)\n",
            "Requirement already satisfied: six in /usr/local/lib/python3.9/dist-packages (from catboost) (1.16.0)\n",
            "Requirement already satisfied: matplotlib in /usr/local/lib/python3.9/dist-packages (from catboost) (3.7.1)\n",
            "Requirement already satisfied: pytz>=2020.1 in /usr/local/lib/python3.9/dist-packages (from pandas>=0.24.0->catboost) (2022.7.1)\n",
            "Requirement already satisfied: python-dateutil>=2.8.1 in /usr/local/lib/python3.9/dist-packages (from pandas>=0.24.0->catboost) (2.8.2)\n",
            "Requirement already satisfied: pillow>=6.2.0 in /usr/local/lib/python3.9/dist-packages (from matplotlib->catboost) (8.4.0)\n",
            "Requirement already satisfied: contourpy>=1.0.1 in /usr/local/lib/python3.9/dist-packages (from matplotlib->catboost) (1.0.7)\n",
            "Requirement already satisfied: fonttools>=4.22.0 in /usr/local/lib/python3.9/dist-packages (from matplotlib->catboost) (4.39.3)\n",
            "Requirement already satisfied: cycler>=0.10 in /usr/local/lib/python3.9/dist-packages (from matplotlib->catboost) (0.11.0)\n",
            "Requirement already satisfied: pyparsing>=2.3.1 in /usr/local/lib/python3.9/dist-packages (from matplotlib->catboost) (3.0.9)\n",
            "Requirement already satisfied: packaging>=20.0 in /usr/local/lib/python3.9/dist-packages (from matplotlib->catboost) (23.1)\n",
            "Requirement already satisfied: kiwisolver>=1.0.1 in /usr/local/lib/python3.9/dist-packages (from matplotlib->catboost) (1.4.4)\n",
            "Requirement already satisfied: importlib-resources>=3.2.0 in /usr/local/lib/python3.9/dist-packages (from matplotlib->catboost) (5.12.0)\n",
            "Requirement already satisfied: tenacity>=6.2.0 in /usr/local/lib/python3.9/dist-packages (from plotly->catboost) (8.2.2)\n",
            "Requirement already satisfied: zipp>=3.1.0 in /usr/local/lib/python3.9/dist-packages (from importlib-resources>=3.2.0->matplotlib->catboost) (3.15.0)\n",
            "Installing collected packages: catboost\n",
            "Successfully installed catboost-1.1.1\n"
          ]
        }
      ],
      "source": [
        "!pip install catboost\n",
        "from catboost  import CatBoostClassifier"
      ]
    },
    {
      "cell_type": "code",
      "execution_count": null,
      "metadata": {
        "colab": {
          "base_uri": "https://localhost:8080/"
        },
        "id": "K_nkU6-vTVp9",
        "outputId": "f9949149-468c-4248-a23d-a4dd5c0a1228"
      },
      "outputs": [
        {
          "output_type": "stream",
          "name": "stdout",
          "text": [
            "Learning rate set to 0.077321\n",
            "0:\tlearn: 1.0786934\ttotal: 57ms\tremaining: 56.9s\n",
            "1:\tlearn: 1.0639643\ttotal: 64.8ms\tremaining: 32.3s\n",
            "2:\tlearn: 1.0488592\ttotal: 79.1ms\tremaining: 26.3s\n",
            "3:\tlearn: 1.0346341\ttotal: 94.4ms\tremaining: 23.5s\n",
            "4:\tlearn: 1.0203396\ttotal: 102ms\tremaining: 20.4s\n",
            "5:\tlearn: 1.0033652\ttotal: 110ms\tremaining: 18.2s\n",
            "6:\tlearn: 0.9907383\ttotal: 118ms\tremaining: 16.7s\n",
            "7:\tlearn: 0.9799473\ttotal: 125ms\tremaining: 15.5s\n",
            "8:\tlearn: 0.9708431\ttotal: 137ms\tremaining: 15.1s\n",
            "9:\tlearn: 0.9588271\ttotal: 144ms\tremaining: 14.3s\n",
            "10:\tlearn: 0.9483516\ttotal: 152ms\tremaining: 13.7s\n",
            "11:\tlearn: 0.9414113\ttotal: 160ms\tremaining: 13.2s\n",
            "12:\tlearn: 0.9306582\ttotal: 168ms\tremaining: 12.7s\n",
            "13:\tlearn: 0.9231503\ttotal: 176ms\tremaining: 12.4s\n",
            "14:\tlearn: 0.9156958\ttotal: 184ms\tremaining: 12.1s\n",
            "15:\tlearn: 0.9067134\ttotal: 192ms\tremaining: 11.8s\n",
            "16:\tlearn: 0.8986771\ttotal: 203ms\tremaining: 11.7s\n",
            "17:\tlearn: 0.8895258\ttotal: 211ms\tremaining: 11.5s\n",
            "18:\tlearn: 0.8826693\ttotal: 219ms\tremaining: 11.3s\n",
            "19:\tlearn: 0.8770376\ttotal: 228ms\tremaining: 11.2s\n",
            "20:\tlearn: 0.8703881\ttotal: 236ms\tremaining: 11s\n",
            "21:\tlearn: 0.8635866\ttotal: 244ms\tremaining: 10.8s\n",
            "22:\tlearn: 0.8577249\ttotal: 251ms\tremaining: 10.7s\n",
            "23:\tlearn: 0.8510254\ttotal: 259ms\tremaining: 10.5s\n",
            "24:\tlearn: 0.8455493\ttotal: 267ms\tremaining: 10.4s\n",
            "25:\tlearn: 0.8405216\ttotal: 275ms\tremaining: 10.3s\n",
            "26:\tlearn: 0.8327850\ttotal: 284ms\tremaining: 10.2s\n",
            "27:\tlearn: 0.8263433\ttotal: 291ms\tremaining: 10.1s\n",
            "28:\tlearn: 0.8218804\ttotal: 299ms\tremaining: 10s\n",
            "29:\tlearn: 0.8159013\ttotal: 307ms\tremaining: 9.92s\n",
            "30:\tlearn: 0.8108591\ttotal: 315ms\tremaining: 9.84s\n",
            "31:\tlearn: 0.8045886\ttotal: 323ms\tremaining: 9.76s\n",
            "32:\tlearn: 0.7992184\ttotal: 330ms\tremaining: 9.68s\n",
            "33:\tlearn: 0.7944552\ttotal: 338ms\tremaining: 9.61s\n",
            "34:\tlearn: 0.7899098\ttotal: 346ms\tremaining: 9.53s\n",
            "35:\tlearn: 0.7858524\ttotal: 353ms\tremaining: 9.46s\n",
            "36:\tlearn: 0.7807478\ttotal: 361ms\tremaining: 9.4s\n",
            "37:\tlearn: 0.7775954\ttotal: 369ms\tremaining: 9.34s\n",
            "38:\tlearn: 0.7736614\ttotal: 377ms\tremaining: 9.28s\n",
            "39:\tlearn: 0.7702203\ttotal: 385ms\tremaining: 9.23s\n",
            "40:\tlearn: 0.7666092\ttotal: 392ms\tremaining: 9.17s\n",
            "41:\tlearn: 0.7626463\ttotal: 404ms\tremaining: 9.21s\n",
            "42:\tlearn: 0.7585706\ttotal: 412ms\tremaining: 9.17s\n",
            "43:\tlearn: 0.7546840\ttotal: 419ms\tremaining: 9.11s\n",
            "44:\tlearn: 0.7503457\ttotal: 427ms\tremaining: 9.07s\n",
            "45:\tlearn: 0.7464582\ttotal: 435ms\tremaining: 9.02s\n",
            "46:\tlearn: 0.7429363\ttotal: 443ms\tremaining: 8.97s\n",
            "47:\tlearn: 0.7389862\ttotal: 450ms\tremaining: 8.93s\n",
            "48:\tlearn: 0.7363726\ttotal: 458ms\tremaining: 8.89s\n",
            "49:\tlearn: 0.7328892\ttotal: 466ms\tremaining: 8.85s\n",
            "50:\tlearn: 0.7297754\ttotal: 473ms\tremaining: 8.8s\n",
            "51:\tlearn: 0.7268650\ttotal: 481ms\tremaining: 8.76s\n",
            "52:\tlearn: 0.7244036\ttotal: 488ms\tremaining: 8.72s\n",
            "53:\tlearn: 0.7215167\ttotal: 496ms\tremaining: 8.69s\n",
            "54:\tlearn: 0.7182620\ttotal: 504ms\tremaining: 8.65s\n",
            "55:\tlearn: 0.7141945\ttotal: 512ms\tremaining: 8.63s\n",
            "56:\tlearn: 0.7097629\ttotal: 519ms\tremaining: 8.59s\n",
            "57:\tlearn: 0.7064333\ttotal: 527ms\tremaining: 8.56s\n",
            "58:\tlearn: 0.7037078\ttotal: 535ms\tremaining: 8.53s\n",
            "59:\tlearn: 0.6995926\ttotal: 542ms\tremaining: 8.49s\n",
            "60:\tlearn: 0.6955475\ttotal: 550ms\tremaining: 8.47s\n",
            "61:\tlearn: 0.6932877\ttotal: 558ms\tremaining: 8.44s\n",
            "62:\tlearn: 0.6903103\ttotal: 565ms\tremaining: 8.41s\n",
            "63:\tlearn: 0.6876770\ttotal: 577ms\tremaining: 8.44s\n",
            "64:\tlearn: 0.6854206\ttotal: 593ms\tremaining: 8.53s\n",
            "65:\tlearn: 0.6824706\ttotal: 603ms\tremaining: 8.53s\n",
            "66:\tlearn: 0.6790091\ttotal: 612ms\tremaining: 8.52s\n",
            "67:\tlearn: 0.6764580\ttotal: 620ms\tremaining: 8.49s\n",
            "68:\tlearn: 0.6733581\ttotal: 627ms\tremaining: 8.46s\n",
            "69:\tlearn: 0.6708184\ttotal: 636ms\tremaining: 8.45s\n",
            "70:\tlearn: 0.6683848\ttotal: 644ms\tremaining: 8.42s\n",
            "71:\tlearn: 0.6651263\ttotal: 651ms\tremaining: 8.39s\n",
            "72:\tlearn: 0.6609670\ttotal: 659ms\tremaining: 8.37s\n",
            "73:\tlearn: 0.6582961\ttotal: 667ms\tremaining: 8.34s\n",
            "74:\tlearn: 0.6563052\ttotal: 676ms\tremaining: 8.34s\n",
            "75:\tlearn: 0.6519417\ttotal: 684ms\tremaining: 8.31s\n",
            "76:\tlearn: 0.6494107\ttotal: 692ms\tremaining: 8.29s\n",
            "77:\tlearn: 0.6476756\ttotal: 699ms\tremaining: 8.26s\n",
            "78:\tlearn: 0.6458370\ttotal: 707ms\tremaining: 8.24s\n",
            "79:\tlearn: 0.6442015\ttotal: 716ms\tremaining: 8.24s\n",
            "80:\tlearn: 0.6415214\ttotal: 724ms\tremaining: 8.22s\n",
            "81:\tlearn: 0.6385439\ttotal: 731ms\tremaining: 8.19s\n",
            "82:\tlearn: 0.6345321\ttotal: 739ms\tremaining: 8.16s\n",
            "83:\tlearn: 0.6300012\ttotal: 747ms\tremaining: 8.14s\n",
            "84:\tlearn: 0.6261550\ttotal: 754ms\tremaining: 8.12s\n",
            "85:\tlearn: 0.6239852\ttotal: 762ms\tremaining: 8.1s\n",
            "86:\tlearn: 0.6209831\ttotal: 770ms\tremaining: 8.08s\n",
            "87:\tlearn: 0.6188906\ttotal: 778ms\tremaining: 8.06s\n",
            "88:\tlearn: 0.6164301\ttotal: 785ms\tremaining: 8.04s\n",
            "89:\tlearn: 0.6143025\ttotal: 793ms\tremaining: 8.02s\n",
            "90:\tlearn: 0.6114069\ttotal: 802ms\tremaining: 8.01s\n",
            "91:\tlearn: 0.6092724\ttotal: 812ms\tremaining: 8.01s\n",
            "92:\tlearn: 0.6058444\ttotal: 819ms\tremaining: 7.99s\n",
            "93:\tlearn: 0.6032440\ttotal: 828ms\tremaining: 7.98s\n",
            "94:\tlearn: 0.6005279\ttotal: 836ms\tremaining: 7.96s\n",
            "95:\tlearn: 0.5988648\ttotal: 852ms\tremaining: 8.02s\n",
            "96:\tlearn: 0.5968152\ttotal: 863ms\tremaining: 8.03s\n",
            "97:\tlearn: 0.5950242\ttotal: 870ms\tremaining: 8.01s\n",
            "98:\tlearn: 0.5927787\ttotal: 878ms\tremaining: 7.99s\n",
            "99:\tlearn: 0.5894362\ttotal: 886ms\tremaining: 7.97s\n",
            "100:\tlearn: 0.5862390\ttotal: 893ms\tremaining: 7.95s\n",
            "101:\tlearn: 0.5828138\ttotal: 901ms\tremaining: 7.93s\n",
            "102:\tlearn: 0.5804577\ttotal: 909ms\tremaining: 7.91s\n",
            "103:\tlearn: 0.5785469\ttotal: 916ms\tremaining: 7.89s\n",
            "104:\tlearn: 0.5752551\ttotal: 924ms\tremaining: 7.88s\n",
            "105:\tlearn: 0.5725593\ttotal: 932ms\tremaining: 7.86s\n",
            "106:\tlearn: 0.5708224\ttotal: 939ms\tremaining: 7.84s\n",
            "107:\tlearn: 0.5683312\ttotal: 947ms\tremaining: 7.82s\n",
            "108:\tlearn: 0.5656090\ttotal: 955ms\tremaining: 7.8s\n",
            "109:\tlearn: 0.5639448\ttotal: 962ms\tremaining: 7.78s\n",
            "110:\tlearn: 0.5615153\ttotal: 971ms\tremaining: 7.78s\n",
            "111:\tlearn: 0.5603916\ttotal: 989ms\tremaining: 7.84s\n",
            "112:\tlearn: 0.5577038\ttotal: 1.01s\tremaining: 7.9s\n",
            "113:\tlearn: 0.5556393\ttotal: 1.02s\tremaining: 7.94s\n",
            "114:\tlearn: 0.5533830\ttotal: 1.04s\tremaining: 7.99s\n",
            "115:\tlearn: 0.5511915\ttotal: 1.06s\tremaining: 8.05s\n",
            "116:\tlearn: 0.5475176\ttotal: 1.07s\tremaining: 8.1s\n",
            "117:\tlearn: 0.5450005\ttotal: 1.09s\tremaining: 8.16s\n",
            "118:\tlearn: 0.5439313\ttotal: 1.11s\tremaining: 8.22s\n",
            "119:\tlearn: 0.5421162\ttotal: 1.13s\tremaining: 8.28s\n",
            "120:\tlearn: 0.5398843\ttotal: 1.14s\tremaining: 8.31s\n",
            "121:\tlearn: 0.5367937\ttotal: 1.16s\tremaining: 8.36s\n",
            "122:\tlearn: 0.5339510\ttotal: 1.17s\tremaining: 8.37s\n",
            "123:\tlearn: 0.5322143\ttotal: 1.18s\tremaining: 8.36s\n",
            "124:\tlearn: 0.5310491\ttotal: 1.2s\tremaining: 8.37s\n",
            "125:\tlearn: 0.5291318\ttotal: 1.22s\tremaining: 8.46s\n",
            "126:\tlearn: 0.5263893\ttotal: 1.23s\tremaining: 8.46s\n",
            "127:\tlearn: 0.5242667\ttotal: 1.24s\tremaining: 8.45s\n",
            "128:\tlearn: 0.5213820\ttotal: 1.26s\tremaining: 8.49s\n",
            "129:\tlearn: 0.5191223\ttotal: 1.27s\tremaining: 8.53s\n",
            "130:\tlearn: 0.5169778\ttotal: 1.29s\tremaining: 8.57s\n",
            "131:\tlearn: 0.5150222\ttotal: 1.31s\tremaining: 8.61s\n",
            "132:\tlearn: 0.5128053\ttotal: 1.33s\tremaining: 8.65s\n",
            "133:\tlearn: 0.5105361\ttotal: 1.34s\tremaining: 8.68s\n",
            "134:\tlearn: 0.5088314\ttotal: 1.36s\tremaining: 8.71s\n",
            "135:\tlearn: 0.5056430\ttotal: 1.37s\tremaining: 8.73s\n",
            "136:\tlearn: 0.5043504\ttotal: 1.39s\tremaining: 8.77s\n",
            "137:\tlearn: 0.5029165\ttotal: 1.42s\tremaining: 8.85s\n",
            "138:\tlearn: 0.5005424\ttotal: 1.43s\tremaining: 8.88s\n",
            "139:\tlearn: 0.4990886\ttotal: 1.47s\tremaining: 9.02s\n",
            "140:\tlearn: 0.4977941\ttotal: 1.5s\tremaining: 9.12s\n",
            "141:\tlearn: 0.4969635\ttotal: 1.52s\tremaining: 9.21s\n",
            "142:\tlearn: 0.4944960\ttotal: 1.55s\tremaining: 9.29s\n",
            "143:\tlearn: 0.4928265\ttotal: 1.57s\tremaining: 9.32s\n",
            "144:\tlearn: 0.4912588\ttotal: 1.59s\tremaining: 9.38s\n",
            "145:\tlearn: 0.4894535\ttotal: 1.61s\tremaining: 9.43s\n",
            "146:\tlearn: 0.4874067\ttotal: 1.63s\tremaining: 9.45s\n",
            "147:\tlearn: 0.4856500\ttotal: 1.65s\tremaining: 9.47s\n",
            "148:\tlearn: 0.4837564\ttotal: 1.67s\tremaining: 9.54s\n",
            "149:\tlearn: 0.4816295\ttotal: 1.69s\tremaining: 9.56s\n",
            "150:\tlearn: 0.4801896\ttotal: 1.71s\tremaining: 9.64s\n",
            "151:\tlearn: 0.4777941\ttotal: 1.74s\tremaining: 9.68s\n",
            "152:\tlearn: 0.4759977\ttotal: 1.75s\tremaining: 9.69s\n",
            "153:\tlearn: 0.4737177\ttotal: 1.77s\tremaining: 9.7s\n",
            "154:\tlearn: 0.4714579\ttotal: 1.78s\tremaining: 9.72s\n",
            "155:\tlearn: 0.4692871\ttotal: 1.81s\tremaining: 9.81s\n",
            "156:\tlearn: 0.4677750\ttotal: 1.83s\tremaining: 9.84s\n",
            "157:\tlearn: 0.4658338\ttotal: 1.85s\tremaining: 9.85s\n",
            "158:\tlearn: 0.4632669\ttotal: 1.86s\tremaining: 9.86s\n",
            "159:\tlearn: 0.4607318\ttotal: 1.88s\tremaining: 9.88s\n",
            "160:\tlearn: 0.4591517\ttotal: 1.9s\tremaining: 9.92s\n",
            "161:\tlearn: 0.4576661\ttotal: 1.93s\tremaining: 10s\n",
            "162:\tlearn: 0.4557387\ttotal: 1.95s\tremaining: 10s\n",
            "163:\tlearn: 0.4534191\ttotal: 1.98s\tremaining: 10.1s\n",
            "164:\tlearn: 0.4521464\ttotal: 2s\tremaining: 10.1s\n",
            "165:\tlearn: 0.4498310\ttotal: 2.02s\tremaining: 10.1s\n",
            "166:\tlearn: 0.4485522\ttotal: 2.03s\tremaining: 10.1s\n",
            "167:\tlearn: 0.4468905\ttotal: 2.05s\tremaining: 10.2s\n",
            "168:\tlearn: 0.4447076\ttotal: 2.07s\tremaining: 10.2s\n",
            "169:\tlearn: 0.4422279\ttotal: 2.09s\tremaining: 10.2s\n",
            "170:\tlearn: 0.4410303\ttotal: 2.1s\tremaining: 10.2s\n",
            "171:\tlearn: 0.4386155\ttotal: 2.12s\tremaining: 10.2s\n",
            "172:\tlearn: 0.4374158\ttotal: 2.13s\tremaining: 10.2s\n",
            "173:\tlearn: 0.4355126\ttotal: 2.15s\tremaining: 10.2s\n",
            "174:\tlearn: 0.4346136\ttotal: 2.17s\tremaining: 10.2s\n",
            "175:\tlearn: 0.4328505\ttotal: 2.19s\tremaining: 10.2s\n",
            "176:\tlearn: 0.4315928\ttotal: 2.21s\tremaining: 10.3s\n",
            "177:\tlearn: 0.4303111\ttotal: 2.23s\tremaining: 10.3s\n",
            "178:\tlearn: 0.4289245\ttotal: 2.24s\tremaining: 10.3s\n",
            "179:\tlearn: 0.4275474\ttotal: 2.26s\tremaining: 10.3s\n",
            "180:\tlearn: 0.4255952\ttotal: 2.28s\tremaining: 10.3s\n",
            "181:\tlearn: 0.4243079\ttotal: 2.29s\tremaining: 10.3s\n",
            "182:\tlearn: 0.4229283\ttotal: 2.31s\tremaining: 10.3s\n",
            "183:\tlearn: 0.4212212\ttotal: 2.33s\tremaining: 10.3s\n",
            "184:\tlearn: 0.4196850\ttotal: 2.35s\tremaining: 10.3s\n",
            "185:\tlearn: 0.4185529\ttotal: 2.37s\tremaining: 10.4s\n",
            "186:\tlearn: 0.4173824\ttotal: 2.38s\tremaining: 10.4s\n",
            "187:\tlearn: 0.4154478\ttotal: 2.4s\tremaining: 10.4s\n",
            "188:\tlearn: 0.4139218\ttotal: 2.42s\tremaining: 10.4s\n",
            "189:\tlearn: 0.4128533\ttotal: 2.44s\tremaining: 10.4s\n",
            "190:\tlearn: 0.4117161\ttotal: 2.46s\tremaining: 10.4s\n",
            "191:\tlearn: 0.4098038\ttotal: 2.47s\tremaining: 10.4s\n",
            "192:\tlearn: 0.4080461\ttotal: 2.49s\tremaining: 10.4s\n",
            "193:\tlearn: 0.4069144\ttotal: 2.51s\tremaining: 10.4s\n",
            "194:\tlearn: 0.4050592\ttotal: 2.53s\tremaining: 10.4s\n",
            "195:\tlearn: 0.4035646\ttotal: 2.54s\tremaining: 10.4s\n",
            "196:\tlearn: 0.4019621\ttotal: 2.56s\tremaining: 10.4s\n",
            "197:\tlearn: 0.4001777\ttotal: 2.58s\tremaining: 10.5s\n",
            "198:\tlearn: 0.3991258\ttotal: 2.6s\tremaining: 10.5s\n",
            "199:\tlearn: 0.3985537\ttotal: 2.62s\tremaining: 10.5s\n",
            "200:\tlearn: 0.3971521\ttotal: 2.64s\tremaining: 10.5s\n",
            "201:\tlearn: 0.3956356\ttotal: 2.66s\tremaining: 10.5s\n",
            "202:\tlearn: 0.3939700\ttotal: 2.68s\tremaining: 10.5s\n",
            "203:\tlearn: 0.3932776\ttotal: 2.69s\tremaining: 10.5s\n",
            "204:\tlearn: 0.3919400\ttotal: 2.71s\tremaining: 10.5s\n",
            "205:\tlearn: 0.3912647\ttotal: 2.73s\tremaining: 10.5s\n",
            "206:\tlearn: 0.3902476\ttotal: 2.76s\tremaining: 10.6s\n",
            "207:\tlearn: 0.3886660\ttotal: 2.79s\tremaining: 10.6s\n",
            "208:\tlearn: 0.3870211\ttotal: 2.81s\tremaining: 10.7s\n",
            "209:\tlearn: 0.3860046\ttotal: 2.85s\tremaining: 10.7s\n",
            "210:\tlearn: 0.3843119\ttotal: 2.88s\tremaining: 10.8s\n",
            "211:\tlearn: 0.3827344\ttotal: 2.9s\tremaining: 10.8s\n",
            "212:\tlearn: 0.3809457\ttotal: 2.92s\tremaining: 10.8s\n",
            "213:\tlearn: 0.3796138\ttotal: 2.94s\tremaining: 10.8s\n",
            "214:\tlearn: 0.3782029\ttotal: 2.96s\tremaining: 10.8s\n",
            "215:\tlearn: 0.3767684\ttotal: 2.99s\tremaining: 10.9s\n",
            "216:\tlearn: 0.3754553\ttotal: 3.02s\tremaining: 10.9s\n",
            "217:\tlearn: 0.3738198\ttotal: 3.04s\tremaining: 10.9s\n",
            "218:\tlearn: 0.3721604\ttotal: 3.07s\tremaining: 10.9s\n",
            "219:\tlearn: 0.3710277\ttotal: 3.09s\tremaining: 10.9s\n",
            "220:\tlearn: 0.3698793\ttotal: 3.1s\tremaining: 10.9s\n",
            "221:\tlearn: 0.3683376\ttotal: 3.12s\tremaining: 10.9s\n",
            "222:\tlearn: 0.3675237\ttotal: 3.14s\tremaining: 10.9s\n",
            "223:\tlearn: 0.3659076\ttotal: 3.15s\tremaining: 10.9s\n",
            "224:\tlearn: 0.3652504\ttotal: 3.17s\tremaining: 10.9s\n",
            "225:\tlearn: 0.3642600\ttotal: 3.19s\tremaining: 10.9s\n",
            "226:\tlearn: 0.3632665\ttotal: 3.21s\tremaining: 10.9s\n",
            "227:\tlearn: 0.3621562\ttotal: 3.23s\tremaining: 10.9s\n",
            "228:\tlearn: 0.3608123\ttotal: 3.24s\tremaining: 10.9s\n",
            "229:\tlearn: 0.3598628\ttotal: 3.27s\tremaining: 10.9s\n",
            "230:\tlearn: 0.3587742\ttotal: 3.29s\tremaining: 10.9s\n",
            "231:\tlearn: 0.3576709\ttotal: 3.3s\tremaining: 10.9s\n",
            "232:\tlearn: 0.3564163\ttotal: 3.31s\tremaining: 10.9s\n",
            "233:\tlearn: 0.3549636\ttotal: 3.32s\tremaining: 10.9s\n",
            "234:\tlearn: 0.3542035\ttotal: 3.34s\tremaining: 10.9s\n",
            "235:\tlearn: 0.3531521\ttotal: 3.35s\tremaining: 10.9s\n",
            "236:\tlearn: 0.3518801\ttotal: 3.37s\tremaining: 10.9s\n",
            "237:\tlearn: 0.3508192\ttotal: 3.38s\tremaining: 10.8s\n",
            "238:\tlearn: 0.3493519\ttotal: 3.4s\tremaining: 10.8s\n",
            "239:\tlearn: 0.3479786\ttotal: 3.42s\tremaining: 10.8s\n",
            "240:\tlearn: 0.3468872\ttotal: 3.44s\tremaining: 10.8s\n",
            "241:\tlearn: 0.3459361\ttotal: 3.45s\tremaining: 10.8s\n",
            "242:\tlearn: 0.3444477\ttotal: 3.47s\tremaining: 10.8s\n",
            "243:\tlearn: 0.3430938\ttotal: 3.49s\tremaining: 10.8s\n",
            "244:\tlearn: 0.3425491\ttotal: 3.51s\tremaining: 10.8s\n",
            "245:\tlearn: 0.3415538\ttotal: 3.52s\tremaining: 10.8s\n",
            "246:\tlearn: 0.3409298\ttotal: 3.54s\tremaining: 10.8s\n",
            "247:\tlearn: 0.3397389\ttotal: 3.56s\tremaining: 10.8s\n",
            "248:\tlearn: 0.3385638\ttotal: 3.57s\tremaining: 10.8s\n",
            "249:\tlearn: 0.3377237\ttotal: 3.59s\tremaining: 10.8s\n",
            "250:\tlearn: 0.3369903\ttotal: 3.61s\tremaining: 10.8s\n",
            "251:\tlearn: 0.3362367\ttotal: 3.63s\tremaining: 10.8s\n",
            "252:\tlearn: 0.3354471\ttotal: 3.65s\tremaining: 10.8s\n",
            "253:\tlearn: 0.3339824\ttotal: 3.67s\tremaining: 10.8s\n",
            "254:\tlearn: 0.3332721\ttotal: 3.68s\tremaining: 10.8s\n",
            "255:\tlearn: 0.3320195\ttotal: 3.7s\tremaining: 10.8s\n",
            "256:\tlearn: 0.3309968\ttotal: 3.71s\tremaining: 10.7s\n",
            "257:\tlearn: 0.3292570\ttotal: 3.73s\tremaining: 10.7s\n",
            "258:\tlearn: 0.3276585\ttotal: 3.75s\tremaining: 10.7s\n",
            "259:\tlearn: 0.3267225\ttotal: 3.77s\tremaining: 10.7s\n",
            "260:\tlearn: 0.3257596\ttotal: 3.79s\tremaining: 10.7s\n",
            "261:\tlearn: 0.3251322\ttotal: 3.8s\tremaining: 10.7s\n",
            "262:\tlearn: 0.3244083\ttotal: 3.82s\tremaining: 10.7s\n",
            "263:\tlearn: 0.3227796\ttotal: 3.84s\tremaining: 10.7s\n",
            "264:\tlearn: 0.3222087\ttotal: 3.85s\tremaining: 10.7s\n",
            "265:\tlearn: 0.3203850\ttotal: 3.87s\tremaining: 10.7s\n",
            "266:\tlearn: 0.3191066\ttotal: 3.9s\tremaining: 10.7s\n",
            "267:\tlearn: 0.3177633\ttotal: 3.91s\tremaining: 10.7s\n",
            "268:\tlearn: 0.3168252\ttotal: 3.94s\tremaining: 10.7s\n",
            "269:\tlearn: 0.3157109\ttotal: 3.95s\tremaining: 10.7s\n",
            "270:\tlearn: 0.3147651\ttotal: 3.98s\tremaining: 10.7s\n",
            "271:\tlearn: 0.3132776\ttotal: 3.99s\tremaining: 10.7s\n",
            "272:\tlearn: 0.3129415\ttotal: 4.01s\tremaining: 10.7s\n",
            "273:\tlearn: 0.3116389\ttotal: 4.03s\tremaining: 10.7s\n",
            "274:\tlearn: 0.3102497\ttotal: 4.05s\tremaining: 10.7s\n",
            "275:\tlearn: 0.3092188\ttotal: 4.06s\tremaining: 10.7s\n",
            "276:\tlearn: 0.3085564\ttotal: 4.08s\tremaining: 10.7s\n",
            "277:\tlearn: 0.3073704\ttotal: 4.1s\tremaining: 10.7s\n",
            "278:\tlearn: 0.3063426\ttotal: 4.12s\tremaining: 10.6s\n",
            "279:\tlearn: 0.3054775\ttotal: 4.13s\tremaining: 10.6s\n",
            "280:\tlearn: 0.3048152\ttotal: 4.15s\tremaining: 10.6s\n",
            "281:\tlearn: 0.3041336\ttotal: 4.17s\tremaining: 10.6s\n",
            "282:\tlearn: 0.3029050\ttotal: 4.19s\tremaining: 10.6s\n",
            "283:\tlearn: 0.3022398\ttotal: 4.21s\tremaining: 10.6s\n",
            "284:\tlearn: 0.3012396\ttotal: 4.22s\tremaining: 10.6s\n",
            "285:\tlearn: 0.3005905\ttotal: 4.24s\tremaining: 10.6s\n",
            "286:\tlearn: 0.2998541\ttotal: 4.25s\tremaining: 10.6s\n",
            "287:\tlearn: 0.2987097\ttotal: 4.27s\tremaining: 10.6s\n",
            "288:\tlearn: 0.2980233\ttotal: 4.29s\tremaining: 10.6s\n",
            "289:\tlearn: 0.2969250\ttotal: 4.31s\tremaining: 10.6s\n",
            "290:\tlearn: 0.2960978\ttotal: 4.33s\tremaining: 10.6s\n",
            "291:\tlearn: 0.2951508\ttotal: 4.37s\tremaining: 10.6s\n",
            "292:\tlearn: 0.2940254\ttotal: 4.4s\tremaining: 10.6s\n",
            "293:\tlearn: 0.2928956\ttotal: 4.42s\tremaining: 10.6s\n",
            "294:\tlearn: 0.2918180\ttotal: 4.44s\tremaining: 10.6s\n",
            "295:\tlearn: 0.2904856\ttotal: 4.45s\tremaining: 10.6s\n",
            "296:\tlearn: 0.2896335\ttotal: 4.47s\tremaining: 10.6s\n",
            "297:\tlearn: 0.2891048\ttotal: 4.48s\tremaining: 10.6s\n",
            "298:\tlearn: 0.2885562\ttotal: 4.5s\tremaining: 10.6s\n",
            "299:\tlearn: 0.2871705\ttotal: 4.52s\tremaining: 10.6s\n",
            "300:\tlearn: 0.2859953\ttotal: 4.54s\tremaining: 10.5s\n",
            "301:\tlearn: 0.2852061\ttotal: 4.55s\tremaining: 10.5s\n",
            "302:\tlearn: 0.2847773\ttotal: 4.57s\tremaining: 10.5s\n",
            "303:\tlearn: 0.2837677\ttotal: 4.58s\tremaining: 10.5s\n",
            "304:\tlearn: 0.2827710\ttotal: 4.6s\tremaining: 10.5s\n",
            "305:\tlearn: 0.2816280\ttotal: 4.62s\tremaining: 10.5s\n",
            "306:\tlearn: 0.2805416\ttotal: 4.64s\tremaining: 10.5s\n",
            "307:\tlearn: 0.2798364\ttotal: 4.66s\tremaining: 10.5s\n",
            "308:\tlearn: 0.2791101\ttotal: 4.67s\tremaining: 10.5s\n",
            "309:\tlearn: 0.2778857\ttotal: 4.69s\tremaining: 10.4s\n",
            "310:\tlearn: 0.2767728\ttotal: 4.71s\tremaining: 10.4s\n",
            "311:\tlearn: 0.2757565\ttotal: 4.74s\tremaining: 10.4s\n",
            "312:\tlearn: 0.2753182\ttotal: 4.76s\tremaining: 10.4s\n",
            "313:\tlearn: 0.2743732\ttotal: 4.78s\tremaining: 10.4s\n",
            "314:\tlearn: 0.2734070\ttotal: 4.8s\tremaining: 10.4s\n",
            "315:\tlearn: 0.2725198\ttotal: 4.81s\tremaining: 10.4s\n",
            "316:\tlearn: 0.2719778\ttotal: 4.83s\tremaining: 10.4s\n",
            "317:\tlearn: 0.2709660\ttotal: 4.84s\tremaining: 10.4s\n",
            "318:\tlearn: 0.2696481\ttotal: 4.86s\tremaining: 10.4s\n",
            "319:\tlearn: 0.2688616\ttotal: 4.88s\tremaining: 10.4s\n",
            "320:\tlearn: 0.2679479\ttotal: 4.89s\tremaining: 10.3s\n",
            "321:\tlearn: 0.2669353\ttotal: 4.91s\tremaining: 10.3s\n",
            "322:\tlearn: 0.2665549\ttotal: 4.93s\tremaining: 10.3s\n",
            "323:\tlearn: 0.2654678\ttotal: 4.95s\tremaining: 10.3s\n",
            "324:\tlearn: 0.2646815\ttotal: 4.97s\tremaining: 10.3s\n",
            "325:\tlearn: 0.2637169\ttotal: 4.99s\tremaining: 10.3s\n",
            "326:\tlearn: 0.2630245\ttotal: 5s\tremaining: 10.3s\n",
            "327:\tlearn: 0.2619583\ttotal: 5.02s\tremaining: 10.3s\n",
            "328:\tlearn: 0.2613351\ttotal: 5.04s\tremaining: 10.3s\n",
            "329:\tlearn: 0.2602265\ttotal: 5.05s\tremaining: 10.3s\n",
            "330:\tlearn: 0.2594751\ttotal: 5.07s\tremaining: 10.2s\n",
            "331:\tlearn: 0.2583679\ttotal: 5.09s\tremaining: 10.2s\n",
            "332:\tlearn: 0.2574267\ttotal: 5.1s\tremaining: 10.2s\n",
            "333:\tlearn: 0.2564170\ttotal: 5.12s\tremaining: 10.2s\n",
            "334:\tlearn: 0.2558421\ttotal: 5.13s\tremaining: 10.2s\n",
            "335:\tlearn: 0.2550734\ttotal: 5.16s\tremaining: 10.2s\n",
            "336:\tlearn: 0.2542661\ttotal: 5.17s\tremaining: 10.2s\n",
            "337:\tlearn: 0.2537024\ttotal: 5.19s\tremaining: 10.2s\n",
            "338:\tlearn: 0.2531403\ttotal: 5.2s\tremaining: 10.1s\n",
            "339:\tlearn: 0.2522422\ttotal: 5.22s\tremaining: 10.1s\n",
            "340:\tlearn: 0.2514572\ttotal: 5.23s\tremaining: 10.1s\n",
            "341:\tlearn: 0.2508489\ttotal: 5.24s\tremaining: 10.1s\n",
            "342:\tlearn: 0.2498386\ttotal: 5.25s\tremaining: 10.1s\n",
            "343:\tlearn: 0.2490085\ttotal: 5.26s\tremaining: 10s\n",
            "344:\tlearn: 0.2482465\ttotal: 5.27s\tremaining: 10s\n",
            "345:\tlearn: 0.2478306\ttotal: 5.29s\tremaining: 9.99s\n",
            "346:\tlearn: 0.2472804\ttotal: 5.3s\tremaining: 9.98s\n",
            "347:\tlearn: 0.2467302\ttotal: 5.32s\tremaining: 9.97s\n",
            "348:\tlearn: 0.2460055\ttotal: 5.33s\tremaining: 9.95s\n",
            "349:\tlearn: 0.2454375\ttotal: 5.36s\tremaining: 9.95s\n",
            "350:\tlearn: 0.2447579\ttotal: 5.38s\tremaining: 9.95s\n",
            "351:\tlearn: 0.2443701\ttotal: 5.41s\tremaining: 9.95s\n",
            "352:\tlearn: 0.2436708\ttotal: 5.43s\tremaining: 9.95s\n",
            "353:\tlearn: 0.2433677\ttotal: 5.45s\tremaining: 9.94s\n",
            "354:\tlearn: 0.2425626\ttotal: 5.46s\tremaining: 9.92s\n",
            "355:\tlearn: 0.2421072\ttotal: 5.48s\tremaining: 9.91s\n",
            "356:\tlearn: 0.2410577\ttotal: 5.5s\tremaining: 9.9s\n",
            "357:\tlearn: 0.2401740\ttotal: 5.51s\tremaining: 9.88s\n",
            "358:\tlearn: 0.2397648\ttotal: 5.53s\tremaining: 9.87s\n",
            "359:\tlearn: 0.2393019\ttotal: 5.55s\tremaining: 9.86s\n",
            "360:\tlearn: 0.2388414\ttotal: 5.57s\tremaining: 9.85s\n",
            "361:\tlearn: 0.2380131\ttotal: 5.58s\tremaining: 9.84s\n",
            "362:\tlearn: 0.2371414\ttotal: 5.6s\tremaining: 9.83s\n",
            "363:\tlearn: 0.2365701\ttotal: 5.62s\tremaining: 9.81s\n",
            "364:\tlearn: 0.2359365\ttotal: 5.63s\tremaining: 9.8s\n",
            "365:\tlearn: 0.2350890\ttotal: 5.65s\tremaining: 9.79s\n",
            "366:\tlearn: 0.2338798\ttotal: 5.67s\tremaining: 9.78s\n",
            "367:\tlearn: 0.2334746\ttotal: 5.69s\tremaining: 9.77s\n",
            "368:\tlearn: 0.2328288\ttotal: 5.7s\tremaining: 9.75s\n",
            "369:\tlearn: 0.2323704\ttotal: 5.71s\tremaining: 9.73s\n",
            "370:\tlearn: 0.2318869\ttotal: 5.73s\tremaining: 9.72s\n",
            "371:\tlearn: 0.2315222\ttotal: 5.74s\tremaining: 9.69s\n",
            "372:\tlearn: 0.2308566\ttotal: 5.75s\tremaining: 9.67s\n",
            "373:\tlearn: 0.2301988\ttotal: 5.77s\tremaining: 9.66s\n",
            "374:\tlearn: 0.2293078\ttotal: 5.78s\tremaining: 9.63s\n",
            "375:\tlearn: 0.2286769\ttotal: 5.79s\tremaining: 9.61s\n",
            "376:\tlearn: 0.2279600\ttotal: 5.8s\tremaining: 9.58s\n",
            "377:\tlearn: 0.2276098\ttotal: 5.81s\tremaining: 9.56s\n",
            "378:\tlearn: 0.2268870\ttotal: 5.83s\tremaining: 9.55s\n",
            "379:\tlearn: 0.2258611\ttotal: 5.83s\tremaining: 9.52s\n",
            "380:\tlearn: 0.2250381\ttotal: 5.85s\tremaining: 9.51s\n",
            "381:\tlearn: 0.2244266\ttotal: 5.87s\tremaining: 9.49s\n",
            "382:\tlearn: 0.2237510\ttotal: 5.88s\tremaining: 9.48s\n",
            "383:\tlearn: 0.2230882\ttotal: 5.9s\tremaining: 9.47s\n",
            "384:\tlearn: 0.2225849\ttotal: 5.92s\tremaining: 9.46s\n",
            "385:\tlearn: 0.2219225\ttotal: 5.94s\tremaining: 9.45s\n",
            "386:\tlearn: 0.2213437\ttotal: 5.96s\tremaining: 9.43s\n",
            "387:\tlearn: 0.2206170\ttotal: 5.98s\tremaining: 9.43s\n",
            "388:\tlearn: 0.2199696\ttotal: 6s\tremaining: 9.42s\n",
            "389:\tlearn: 0.2194344\ttotal: 6.01s\tremaining: 9.4s\n",
            "390:\tlearn: 0.2185796\ttotal: 6.02s\tremaining: 9.38s\n",
            "391:\tlearn: 0.2176159\ttotal: 6.03s\tremaining: 9.36s\n",
            "392:\tlearn: 0.2169501\ttotal: 6.05s\tremaining: 9.34s\n",
            "393:\tlearn: 0.2162619\ttotal: 6.06s\tremaining: 9.32s\n",
            "394:\tlearn: 0.2157416\ttotal: 6.07s\tremaining: 9.29s\n",
            "395:\tlearn: 0.2152502\ttotal: 6.08s\tremaining: 9.27s\n",
            "396:\tlearn: 0.2146696\ttotal: 6.08s\tremaining: 9.24s\n",
            "397:\tlearn: 0.2143381\ttotal: 6.09s\tremaining: 9.21s\n",
            "398:\tlearn: 0.2137224\ttotal: 6.1s\tremaining: 9.19s\n",
            "399:\tlearn: 0.2131771\ttotal: 6.11s\tremaining: 9.16s\n",
            "400:\tlearn: 0.2127146\ttotal: 6.11s\tremaining: 9.13s\n",
            "401:\tlearn: 0.2121564\ttotal: 6.12s\tremaining: 9.11s\n",
            "402:\tlearn: 0.2112236\ttotal: 6.13s\tremaining: 9.08s\n",
            "403:\tlearn: 0.2107821\ttotal: 6.14s\tremaining: 9.06s\n",
            "404:\tlearn: 0.2098890\ttotal: 6.15s\tremaining: 9.03s\n",
            "405:\tlearn: 0.2090864\ttotal: 6.15s\tremaining: 9s\n",
            "406:\tlearn: 0.2084604\ttotal: 6.16s\tremaining: 8.98s\n",
            "407:\tlearn: 0.2079148\ttotal: 6.17s\tremaining: 8.95s\n",
            "408:\tlearn: 0.2072190\ttotal: 6.18s\tremaining: 8.93s\n",
            "409:\tlearn: 0.2063898\ttotal: 6.19s\tremaining: 8.91s\n",
            "410:\tlearn: 0.2055231\ttotal: 6.2s\tremaining: 8.88s\n",
            "411:\tlearn: 0.2050764\ttotal: 6.21s\tremaining: 8.86s\n",
            "412:\tlearn: 0.2046438\ttotal: 6.21s\tremaining: 8.83s\n",
            "413:\tlearn: 0.2042065\ttotal: 6.22s\tremaining: 8.8s\n",
            "414:\tlearn: 0.2038339\ttotal: 6.23s\tremaining: 8.78s\n",
            "415:\tlearn: 0.2029668\ttotal: 6.24s\tremaining: 8.75s\n",
            "416:\tlearn: 0.2023278\ttotal: 6.24s\tremaining: 8.73s\n",
            "417:\tlearn: 0.2016857\ttotal: 6.25s\tremaining: 8.71s\n",
            "418:\tlearn: 0.2009212\ttotal: 6.26s\tremaining: 8.68s\n",
            "419:\tlearn: 0.2005032\ttotal: 6.27s\tremaining: 8.66s\n",
            "420:\tlearn: 0.2001126\ttotal: 6.29s\tremaining: 8.65s\n",
            "421:\tlearn: 0.1995591\ttotal: 6.29s\tremaining: 8.62s\n",
            "422:\tlearn: 0.1988539\ttotal: 6.3s\tremaining: 8.6s\n",
            "423:\tlearn: 0.1983221\ttotal: 6.32s\tremaining: 8.59s\n",
            "424:\tlearn: 0.1980670\ttotal: 6.34s\tremaining: 8.57s\n",
            "425:\tlearn: 0.1975826\ttotal: 6.35s\tremaining: 8.56s\n",
            "426:\tlearn: 0.1972131\ttotal: 6.37s\tremaining: 8.54s\n",
            "427:\tlearn: 0.1968597\ttotal: 6.38s\tremaining: 8.53s\n",
            "428:\tlearn: 0.1964197\ttotal: 6.39s\tremaining: 8.51s\n",
            "429:\tlearn: 0.1959778\ttotal: 6.4s\tremaining: 8.49s\n",
            "430:\tlearn: 0.1954174\ttotal: 6.42s\tremaining: 8.47s\n",
            "431:\tlearn: 0.1949534\ttotal: 6.42s\tremaining: 8.45s\n",
            "432:\tlearn: 0.1947216\ttotal: 6.43s\tremaining: 8.43s\n",
            "433:\tlearn: 0.1945034\ttotal: 6.44s\tremaining: 8.4s\n",
            "434:\tlearn: 0.1937660\ttotal: 6.45s\tremaining: 8.38s\n",
            "435:\tlearn: 0.1933901\ttotal: 6.46s\tremaining: 8.36s\n",
            "436:\tlearn: 0.1930253\ttotal: 6.48s\tremaining: 8.35s\n",
            "437:\tlearn: 0.1926668\ttotal: 6.49s\tremaining: 8.33s\n",
            "438:\tlearn: 0.1919428\ttotal: 6.51s\tremaining: 8.32s\n",
            "439:\tlearn: 0.1913538\ttotal: 6.53s\tremaining: 8.3s\n",
            "440:\tlearn: 0.1909135\ttotal: 6.54s\tremaining: 8.29s\n",
            "441:\tlearn: 0.1903539\ttotal: 6.56s\tremaining: 8.28s\n",
            "442:\tlearn: 0.1896937\ttotal: 6.58s\tremaining: 8.27s\n",
            "443:\tlearn: 0.1894169\ttotal: 6.59s\tremaining: 8.26s\n",
            "444:\tlearn: 0.1889518\ttotal: 6.61s\tremaining: 8.24s\n",
            "445:\tlearn: 0.1887392\ttotal: 6.63s\tremaining: 8.23s\n",
            "446:\tlearn: 0.1880648\ttotal: 6.65s\tremaining: 8.22s\n",
            "447:\tlearn: 0.1875511\ttotal: 6.67s\tremaining: 8.21s\n",
            "448:\tlearn: 0.1870548\ttotal: 6.68s\tremaining: 8.2s\n",
            "449:\tlearn: 0.1864428\ttotal: 6.7s\tremaining: 8.19s\n",
            "450:\tlearn: 0.1859304\ttotal: 6.72s\tremaining: 8.18s\n",
            "451:\tlearn: 0.1855655\ttotal: 6.72s\tremaining: 8.15s\n",
            "452:\tlearn: 0.1851432\ttotal: 6.73s\tremaining: 8.13s\n",
            "453:\tlearn: 0.1846596\ttotal: 6.74s\tremaining: 8.11s\n",
            "454:\tlearn: 0.1840134\ttotal: 6.75s\tremaining: 8.08s\n",
            "455:\tlearn: 0.1833669\ttotal: 6.75s\tremaining: 8.06s\n",
            "456:\tlearn: 0.1830028\ttotal: 6.76s\tremaining: 8.04s\n",
            "457:\tlearn: 0.1823147\ttotal: 6.77s\tremaining: 8.01s\n",
            "458:\tlearn: 0.1817841\ttotal: 6.78s\tremaining: 7.99s\n",
            "459:\tlearn: 0.1815275\ttotal: 6.79s\tremaining: 7.97s\n",
            "460:\tlearn: 0.1809341\ttotal: 6.8s\tremaining: 7.95s\n",
            "461:\tlearn: 0.1805124\ttotal: 6.81s\tremaining: 7.92s\n",
            "462:\tlearn: 0.1800101\ttotal: 6.81s\tremaining: 7.9s\n",
            "463:\tlearn: 0.1796511\ttotal: 6.82s\tremaining: 7.88s\n",
            "464:\tlearn: 0.1792760\ttotal: 6.83s\tremaining: 7.86s\n",
            "465:\tlearn: 0.1789643\ttotal: 6.84s\tremaining: 7.83s\n",
            "466:\tlearn: 0.1787665\ttotal: 6.84s\tremaining: 7.81s\n",
            "467:\tlearn: 0.1783137\ttotal: 6.85s\tremaining: 7.79s\n",
            "468:\tlearn: 0.1778215\ttotal: 6.86s\tremaining: 7.77s\n",
            "469:\tlearn: 0.1774082\ttotal: 6.87s\tremaining: 7.75s\n",
            "470:\tlearn: 0.1770801\ttotal: 6.88s\tremaining: 7.72s\n",
            "471:\tlearn: 0.1767518\ttotal: 6.88s\tremaining: 7.7s\n",
            "472:\tlearn: 0.1765025\ttotal: 6.89s\tremaining: 7.68s\n",
            "473:\tlearn: 0.1763599\ttotal: 6.9s\tremaining: 7.66s\n",
            "474:\tlearn: 0.1760942\ttotal: 6.91s\tremaining: 7.64s\n",
            "475:\tlearn: 0.1757533\ttotal: 6.92s\tremaining: 7.61s\n",
            "476:\tlearn: 0.1752370\ttotal: 6.92s\tremaining: 7.59s\n",
            "477:\tlearn: 0.1748159\ttotal: 6.93s\tremaining: 7.57s\n",
            "478:\tlearn: 0.1744550\ttotal: 6.94s\tremaining: 7.55s\n",
            "479:\tlearn: 0.1739727\ttotal: 6.95s\tremaining: 7.53s\n",
            "480:\tlearn: 0.1735309\ttotal: 6.95s\tremaining: 7.5s\n",
            "481:\tlearn: 0.1732766\ttotal: 6.96s\tremaining: 7.48s\n",
            "482:\tlearn: 0.1729894\ttotal: 6.97s\tremaining: 7.46s\n",
            "483:\tlearn: 0.1726179\ttotal: 6.98s\tremaining: 7.44s\n",
            "484:\tlearn: 0.1722168\ttotal: 6.99s\tremaining: 7.42s\n",
            "485:\tlearn: 0.1718331\ttotal: 7s\tremaining: 7.4s\n",
            "486:\tlearn: 0.1715840\ttotal: 7s\tremaining: 7.38s\n",
            "487:\tlearn: 0.1713223\ttotal: 7.01s\tremaining: 7.36s\n",
            "488:\tlearn: 0.1710179\ttotal: 7.02s\tremaining: 7.33s\n",
            "489:\tlearn: 0.1705565\ttotal: 7.03s\tremaining: 7.31s\n",
            "490:\tlearn: 0.1703959\ttotal: 7.04s\tremaining: 7.29s\n",
            "491:\tlearn: 0.1700327\ttotal: 7.04s\tremaining: 7.27s\n",
            "492:\tlearn: 0.1695467\ttotal: 7.05s\tremaining: 7.25s\n",
            "493:\tlearn: 0.1689417\ttotal: 7.06s\tremaining: 7.23s\n",
            "494:\tlearn: 0.1684890\ttotal: 7.07s\tremaining: 7.21s\n",
            "495:\tlearn: 0.1681313\ttotal: 7.08s\tremaining: 7.19s\n",
            "496:\tlearn: 0.1677959\ttotal: 7.08s\tremaining: 7.17s\n",
            "497:\tlearn: 0.1674692\ttotal: 7.09s\tremaining: 7.15s\n",
            "498:\tlearn: 0.1669467\ttotal: 7.1s\tremaining: 7.13s\n",
            "499:\tlearn: 0.1667553\ttotal: 7.11s\tremaining: 7.11s\n",
            "500:\tlearn: 0.1664986\ttotal: 7.12s\tremaining: 7.09s\n",
            "501:\tlearn: 0.1660094\ttotal: 7.12s\tremaining: 7.07s\n",
            "502:\tlearn: 0.1657458\ttotal: 7.13s\tremaining: 7.04s\n",
            "503:\tlearn: 0.1652702\ttotal: 7.14s\tremaining: 7.03s\n",
            "504:\tlearn: 0.1648163\ttotal: 7.15s\tremaining: 7.01s\n",
            "505:\tlearn: 0.1645614\ttotal: 7.16s\tremaining: 6.99s\n",
            "506:\tlearn: 0.1642342\ttotal: 7.16s\tremaining: 6.96s\n",
            "507:\tlearn: 0.1638951\ttotal: 7.17s\tremaining: 6.94s\n",
            "508:\tlearn: 0.1634926\ttotal: 7.18s\tremaining: 6.92s\n",
            "509:\tlearn: 0.1632102\ttotal: 7.19s\tremaining: 6.91s\n",
            "510:\tlearn: 0.1627977\ttotal: 7.2s\tremaining: 6.89s\n",
            "511:\tlearn: 0.1622423\ttotal: 7.21s\tremaining: 6.87s\n",
            "512:\tlearn: 0.1620485\ttotal: 7.21s\tremaining: 6.85s\n",
            "513:\tlearn: 0.1616371\ttotal: 7.22s\tremaining: 6.83s\n",
            "514:\tlearn: 0.1614967\ttotal: 7.23s\tremaining: 6.81s\n",
            "515:\tlearn: 0.1612403\ttotal: 7.24s\tremaining: 6.79s\n",
            "516:\tlearn: 0.1607655\ttotal: 7.24s\tremaining: 6.77s\n",
            "517:\tlearn: 0.1605136\ttotal: 7.25s\tremaining: 6.75s\n",
            "518:\tlearn: 0.1601552\ttotal: 7.26s\tremaining: 6.73s\n",
            "519:\tlearn: 0.1597941\ttotal: 7.27s\tremaining: 6.71s\n",
            "520:\tlearn: 0.1593916\ttotal: 7.28s\tremaining: 6.69s\n",
            "521:\tlearn: 0.1590395\ttotal: 7.28s\tremaining: 6.67s\n",
            "522:\tlearn: 0.1584118\ttotal: 7.29s\tremaining: 6.65s\n",
            "523:\tlearn: 0.1579042\ttotal: 7.3s\tremaining: 6.63s\n",
            "524:\tlearn: 0.1577137\ttotal: 7.31s\tremaining: 6.61s\n",
            "525:\tlearn: 0.1576031\ttotal: 7.32s\tremaining: 6.6s\n",
            "526:\tlearn: 0.1572291\ttotal: 7.33s\tremaining: 6.58s\n",
            "527:\tlearn: 0.1569185\ttotal: 7.34s\tremaining: 6.56s\n",
            "528:\tlearn: 0.1566106\ttotal: 7.35s\tremaining: 6.54s\n",
            "529:\tlearn: 0.1561742\ttotal: 7.36s\tremaining: 6.53s\n",
            "530:\tlearn: 0.1558403\ttotal: 7.37s\tremaining: 6.51s\n",
            "531:\tlearn: 0.1555197\ttotal: 7.37s\tremaining: 6.49s\n",
            "532:\tlearn: 0.1551983\ttotal: 7.38s\tremaining: 6.47s\n",
            "533:\tlearn: 0.1547785\ttotal: 7.39s\tremaining: 6.45s\n",
            "534:\tlearn: 0.1545904\ttotal: 7.4s\tremaining: 6.43s\n",
            "535:\tlearn: 0.1541854\ttotal: 7.41s\tremaining: 6.41s\n",
            "536:\tlearn: 0.1538472\ttotal: 7.42s\tremaining: 6.39s\n",
            "537:\tlearn: 0.1535684\ttotal: 7.42s\tremaining: 6.38s\n",
            "538:\tlearn: 0.1531016\ttotal: 7.43s\tremaining: 6.36s\n",
            "539:\tlearn: 0.1527460\ttotal: 7.44s\tremaining: 6.34s\n",
            "540:\tlearn: 0.1523233\ttotal: 7.45s\tremaining: 6.32s\n",
            "541:\tlearn: 0.1522262\ttotal: 7.46s\tremaining: 6.31s\n",
            "542:\tlearn: 0.1519414\ttotal: 7.47s\tremaining: 6.29s\n",
            "543:\tlearn: 0.1517008\ttotal: 7.48s\tremaining: 6.27s\n",
            "544:\tlearn: 0.1513710\ttotal: 7.49s\tremaining: 6.25s\n",
            "545:\tlearn: 0.1511568\ttotal: 7.5s\tremaining: 6.23s\n",
            "546:\tlearn: 0.1509622\ttotal: 7.5s\tremaining: 6.21s\n",
            "547:\tlearn: 0.1506084\ttotal: 7.51s\tremaining: 6.2s\n",
            "548:\tlearn: 0.1502630\ttotal: 7.52s\tremaining: 6.18s\n",
            "549:\tlearn: 0.1499701\ttotal: 7.53s\tremaining: 6.16s\n",
            "550:\tlearn: 0.1494744\ttotal: 7.53s\tremaining: 6.14s\n",
            "551:\tlearn: 0.1492261\ttotal: 7.54s\tremaining: 6.12s\n",
            "552:\tlearn: 0.1487909\ttotal: 7.55s\tremaining: 6.1s\n",
            "553:\tlearn: 0.1483047\ttotal: 7.56s\tremaining: 6.08s\n",
            "554:\tlearn: 0.1482021\ttotal: 7.57s\tremaining: 6.07s\n",
            "555:\tlearn: 0.1479735\ttotal: 7.57s\tremaining: 6.05s\n",
            "556:\tlearn: 0.1476438\ttotal: 7.58s\tremaining: 6.03s\n",
            "557:\tlearn: 0.1473996\ttotal: 7.59s\tremaining: 6.01s\n",
            "558:\tlearn: 0.1472549\ttotal: 7.6s\tremaining: 6s\n",
            "559:\tlearn: 0.1468682\ttotal: 7.61s\tremaining: 5.98s\n",
            "560:\tlearn: 0.1467051\ttotal: 7.63s\tremaining: 5.97s\n",
            "561:\tlearn: 0.1465380\ttotal: 7.63s\tremaining: 5.95s\n",
            "562:\tlearn: 0.1463159\ttotal: 7.64s\tremaining: 5.93s\n",
            "563:\tlearn: 0.1461081\ttotal: 7.66s\tremaining: 5.92s\n",
            "564:\tlearn: 0.1459000\ttotal: 7.67s\tremaining: 5.91s\n",
            "565:\tlearn: 0.1454515\ttotal: 7.68s\tremaining: 5.89s\n",
            "566:\tlearn: 0.1451120\ttotal: 7.68s\tremaining: 5.87s\n",
            "567:\tlearn: 0.1447963\ttotal: 7.69s\tremaining: 5.85s\n",
            "568:\tlearn: 0.1444872\ttotal: 7.7s\tremaining: 5.83s\n",
            "569:\tlearn: 0.1443144\ttotal: 7.71s\tremaining: 5.81s\n",
            "570:\tlearn: 0.1441613\ttotal: 7.71s\tremaining: 5.8s\n",
            "571:\tlearn: 0.1439259\ttotal: 7.72s\tremaining: 5.78s\n",
            "572:\tlearn: 0.1435158\ttotal: 7.73s\tremaining: 5.76s\n",
            "573:\tlearn: 0.1432763\ttotal: 7.74s\tremaining: 5.74s\n",
            "574:\tlearn: 0.1430747\ttotal: 7.75s\tremaining: 5.72s\n",
            "575:\tlearn: 0.1426999\ttotal: 7.75s\tremaining: 5.71s\n",
            "576:\tlearn: 0.1424196\ttotal: 7.76s\tremaining: 5.69s\n",
            "577:\tlearn: 0.1420507\ttotal: 7.77s\tremaining: 5.67s\n",
            "578:\tlearn: 0.1416729\ttotal: 7.78s\tremaining: 5.66s\n",
            "579:\tlearn: 0.1413058\ttotal: 7.79s\tremaining: 5.64s\n",
            "580:\tlearn: 0.1411289\ttotal: 7.8s\tremaining: 5.62s\n",
            "581:\tlearn: 0.1409287\ttotal: 7.81s\tremaining: 5.61s\n",
            "582:\tlearn: 0.1406932\ttotal: 7.81s\tremaining: 5.59s\n",
            "583:\tlearn: 0.1403619\ttotal: 7.82s\tremaining: 5.57s\n",
            "584:\tlearn: 0.1400122\ttotal: 7.83s\tremaining: 5.55s\n",
            "585:\tlearn: 0.1397067\ttotal: 7.84s\tremaining: 5.54s\n",
            "586:\tlearn: 0.1393370\ttotal: 7.85s\tremaining: 5.52s\n",
            "587:\tlearn: 0.1392227\ttotal: 7.86s\tremaining: 5.5s\n",
            "588:\tlearn: 0.1387919\ttotal: 7.87s\tremaining: 5.49s\n",
            "589:\tlearn: 0.1383600\ttotal: 7.87s\tremaining: 5.47s\n",
            "590:\tlearn: 0.1381969\ttotal: 7.88s\tremaining: 5.45s\n",
            "591:\tlearn: 0.1378917\ttotal: 7.89s\tremaining: 5.44s\n",
            "592:\tlearn: 0.1375340\ttotal: 7.89s\tremaining: 5.42s\n",
            "593:\tlearn: 0.1373203\ttotal: 7.9s\tremaining: 5.4s\n",
            "594:\tlearn: 0.1370431\ttotal: 7.91s\tremaining: 5.38s\n",
            "595:\tlearn: 0.1367093\ttotal: 7.92s\tremaining: 5.37s\n",
            "596:\tlearn: 0.1365201\ttotal: 7.93s\tremaining: 5.35s\n",
            "597:\tlearn: 0.1362284\ttotal: 7.93s\tremaining: 5.33s\n",
            "598:\tlearn: 0.1359860\ttotal: 7.94s\tremaining: 5.32s\n",
            "599:\tlearn: 0.1357066\ttotal: 7.95s\tremaining: 5.3s\n",
            "600:\tlearn: 0.1353699\ttotal: 7.96s\tremaining: 5.28s\n",
            "601:\tlearn: 0.1350750\ttotal: 7.97s\tremaining: 5.27s\n",
            "602:\tlearn: 0.1348756\ttotal: 7.97s\tremaining: 5.25s\n",
            "603:\tlearn: 0.1345313\ttotal: 7.98s\tremaining: 5.23s\n",
            "604:\tlearn: 0.1343362\ttotal: 8s\tremaining: 5.22s\n",
            "605:\tlearn: 0.1341014\ttotal: 8.01s\tremaining: 5.21s\n",
            "606:\tlearn: 0.1338504\ttotal: 8.02s\tremaining: 5.19s\n",
            "607:\tlearn: 0.1335918\ttotal: 8.03s\tremaining: 5.18s\n",
            "608:\tlearn: 0.1332323\ttotal: 8.04s\tremaining: 5.16s\n",
            "609:\tlearn: 0.1330855\ttotal: 8.04s\tremaining: 5.14s\n",
            "610:\tlearn: 0.1328849\ttotal: 8.05s\tremaining: 5.13s\n",
            "611:\tlearn: 0.1327680\ttotal: 8.06s\tremaining: 5.11s\n",
            "612:\tlearn: 0.1325397\ttotal: 8.07s\tremaining: 5.09s\n",
            "613:\tlearn: 0.1322087\ttotal: 8.08s\tremaining: 5.08s\n",
            "614:\tlearn: 0.1320451\ttotal: 8.08s\tremaining: 5.06s\n",
            "615:\tlearn: 0.1316026\ttotal: 8.09s\tremaining: 5.04s\n",
            "616:\tlearn: 0.1312408\ttotal: 8.1s\tremaining: 5.03s\n",
            "617:\tlearn: 0.1309337\ttotal: 8.11s\tremaining: 5.01s\n",
            "618:\tlearn: 0.1307519\ttotal: 8.12s\tremaining: 5s\n",
            "619:\tlearn: 0.1306111\ttotal: 8.12s\tremaining: 4.98s\n",
            "620:\tlearn: 0.1304138\ttotal: 8.13s\tremaining: 4.96s\n",
            "621:\tlearn: 0.1302546\ttotal: 8.14s\tremaining: 4.95s\n",
            "622:\tlearn: 0.1300313\ttotal: 8.15s\tremaining: 4.93s\n",
            "623:\tlearn: 0.1298312\ttotal: 8.16s\tremaining: 4.92s\n",
            "624:\tlearn: 0.1295912\ttotal: 8.17s\tremaining: 4.9s\n",
            "625:\tlearn: 0.1294906\ttotal: 8.18s\tremaining: 4.88s\n",
            "626:\tlearn: 0.1292705\ttotal: 8.19s\tremaining: 4.87s\n",
            "627:\tlearn: 0.1291252\ttotal: 8.19s\tremaining: 4.85s\n",
            "628:\tlearn: 0.1289452\ttotal: 8.21s\tremaining: 4.84s\n",
            "629:\tlearn: 0.1287930\ttotal: 8.21s\tremaining: 4.82s\n",
            "630:\tlearn: 0.1285630\ttotal: 8.22s\tremaining: 4.81s\n",
            "631:\tlearn: 0.1284562\ttotal: 8.23s\tremaining: 4.79s\n",
            "632:\tlearn: 0.1282802\ttotal: 8.24s\tremaining: 4.78s\n",
            "633:\tlearn: 0.1278786\ttotal: 8.24s\tremaining: 4.76s\n",
            "634:\tlearn: 0.1276493\ttotal: 8.25s\tremaining: 4.74s\n",
            "635:\tlearn: 0.1274266\ttotal: 8.26s\tremaining: 4.73s\n",
            "636:\tlearn: 0.1271045\ttotal: 8.27s\tremaining: 4.71s\n",
            "637:\tlearn: 0.1268187\ttotal: 8.27s\tremaining: 4.69s\n",
            "638:\tlearn: 0.1265687\ttotal: 8.28s\tremaining: 4.68s\n",
            "639:\tlearn: 0.1264008\ttotal: 8.29s\tremaining: 4.66s\n",
            "640:\tlearn: 0.1261668\ttotal: 8.3s\tremaining: 4.65s\n",
            "641:\tlearn: 0.1259193\ttotal: 8.3s\tremaining: 4.63s\n",
            "642:\tlearn: 0.1256429\ttotal: 8.31s\tremaining: 4.62s\n",
            "643:\tlearn: 0.1253440\ttotal: 8.32s\tremaining: 4.6s\n",
            "644:\tlearn: 0.1250985\ttotal: 8.33s\tremaining: 4.58s\n",
            "645:\tlearn: 0.1249241\ttotal: 8.34s\tremaining: 4.57s\n",
            "646:\tlearn: 0.1247748\ttotal: 8.34s\tremaining: 4.55s\n",
            "647:\tlearn: 0.1245871\ttotal: 8.35s\tremaining: 4.54s\n",
            "648:\tlearn: 0.1244495\ttotal: 8.36s\tremaining: 4.52s\n",
            "649:\tlearn: 0.1242634\ttotal: 8.37s\tremaining: 4.5s\n",
            "650:\tlearn: 0.1241083\ttotal: 8.37s\tremaining: 4.49s\n",
            "651:\tlearn: 0.1239244\ttotal: 8.38s\tremaining: 4.47s\n",
            "652:\tlearn: 0.1237763\ttotal: 8.39s\tremaining: 4.46s\n",
            "653:\tlearn: 0.1235442\ttotal: 8.4s\tremaining: 4.44s\n",
            "654:\tlearn: 0.1234081\ttotal: 8.41s\tremaining: 4.43s\n",
            "655:\tlearn: 0.1232073\ttotal: 8.42s\tremaining: 4.41s\n",
            "656:\tlearn: 0.1228943\ttotal: 8.43s\tremaining: 4.4s\n",
            "657:\tlearn: 0.1226641\ttotal: 8.43s\tremaining: 4.38s\n",
            "658:\tlearn: 0.1224433\ttotal: 8.44s\tremaining: 4.37s\n",
            "659:\tlearn: 0.1221440\ttotal: 8.45s\tremaining: 4.35s\n",
            "660:\tlearn: 0.1217822\ttotal: 8.46s\tremaining: 4.34s\n",
            "661:\tlearn: 0.1215388\ttotal: 8.46s\tremaining: 4.32s\n",
            "662:\tlearn: 0.1212458\ttotal: 8.47s\tremaining: 4.31s\n",
            "663:\tlearn: 0.1209781\ttotal: 8.48s\tremaining: 4.29s\n",
            "664:\tlearn: 0.1207864\ttotal: 8.49s\tremaining: 4.28s\n",
            "665:\tlearn: 0.1204876\ttotal: 8.49s\tremaining: 4.26s\n",
            "666:\tlearn: 0.1201810\ttotal: 8.5s\tremaining: 4.25s\n",
            "667:\tlearn: 0.1200062\ttotal: 8.51s\tremaining: 4.23s\n",
            "668:\tlearn: 0.1197641\ttotal: 8.52s\tremaining: 4.21s\n",
            "669:\tlearn: 0.1195104\ttotal: 8.53s\tremaining: 4.2s\n",
            "670:\tlearn: 0.1191736\ttotal: 8.54s\tremaining: 4.18s\n",
            "671:\tlearn: 0.1189883\ttotal: 8.54s\tremaining: 4.17s\n",
            "672:\tlearn: 0.1187224\ttotal: 8.55s\tremaining: 4.15s\n",
            "673:\tlearn: 0.1185218\ttotal: 8.56s\tremaining: 4.14s\n",
            "674:\tlearn: 0.1182105\ttotal: 8.57s\tremaining: 4.13s\n",
            "675:\tlearn: 0.1179917\ttotal: 8.57s\tremaining: 4.11s\n",
            "676:\tlearn: 0.1177986\ttotal: 8.58s\tremaining: 4.09s\n",
            "677:\tlearn: 0.1175112\ttotal: 8.59s\tremaining: 4.08s\n",
            "678:\tlearn: 0.1173432\ttotal: 8.6s\tremaining: 4.07s\n",
            "679:\tlearn: 0.1171233\ttotal: 8.61s\tremaining: 4.05s\n",
            "680:\tlearn: 0.1167548\ttotal: 8.62s\tremaining: 4.04s\n",
            "681:\tlearn: 0.1164140\ttotal: 8.63s\tremaining: 4.02s\n",
            "682:\tlearn: 0.1161162\ttotal: 8.64s\tremaining: 4.01s\n",
            "683:\tlearn: 0.1158677\ttotal: 8.65s\tremaining: 4s\n",
            "684:\tlearn: 0.1156656\ttotal: 8.66s\tremaining: 3.98s\n",
            "685:\tlearn: 0.1154856\ttotal: 8.67s\tremaining: 3.97s\n",
            "686:\tlearn: 0.1153389\ttotal: 8.68s\tremaining: 3.95s\n",
            "687:\tlearn: 0.1151323\ttotal: 8.68s\tremaining: 3.94s\n",
            "688:\tlearn: 0.1147629\ttotal: 8.69s\tremaining: 3.92s\n",
            "689:\tlearn: 0.1145431\ttotal: 8.7s\tremaining: 3.91s\n",
            "690:\tlearn: 0.1143787\ttotal: 8.71s\tremaining: 3.89s\n",
            "691:\tlearn: 0.1140785\ttotal: 8.71s\tremaining: 3.88s\n",
            "692:\tlearn: 0.1138309\ttotal: 8.72s\tremaining: 3.86s\n",
            "693:\tlearn: 0.1136570\ttotal: 8.73s\tremaining: 3.85s\n",
            "694:\tlearn: 0.1134284\ttotal: 8.74s\tremaining: 3.83s\n",
            "695:\tlearn: 0.1132507\ttotal: 8.75s\tremaining: 3.82s\n",
            "696:\tlearn: 0.1129634\ttotal: 8.76s\tremaining: 3.81s\n",
            "697:\tlearn: 0.1127446\ttotal: 8.76s\tremaining: 3.79s\n",
            "698:\tlearn: 0.1124509\ttotal: 8.77s\tremaining: 3.78s\n",
            "699:\tlearn: 0.1121351\ttotal: 8.78s\tremaining: 3.76s\n",
            "700:\tlearn: 0.1119244\ttotal: 8.79s\tremaining: 3.75s\n",
            "701:\tlearn: 0.1116395\ttotal: 8.79s\tremaining: 3.73s\n",
            "702:\tlearn: 0.1114754\ttotal: 8.8s\tremaining: 3.72s\n",
            "703:\tlearn: 0.1112969\ttotal: 8.81s\tremaining: 3.71s\n",
            "704:\tlearn: 0.1111853\ttotal: 8.82s\tremaining: 3.69s\n",
            "705:\tlearn: 0.1110471\ttotal: 8.83s\tremaining: 3.68s\n",
            "706:\tlearn: 0.1108625\ttotal: 8.84s\tremaining: 3.66s\n",
            "707:\tlearn: 0.1106962\ttotal: 8.85s\tremaining: 3.65s\n",
            "708:\tlearn: 0.1105771\ttotal: 8.86s\tremaining: 3.63s\n",
            "709:\tlearn: 0.1103156\ttotal: 8.86s\tremaining: 3.62s\n",
            "710:\tlearn: 0.1101602\ttotal: 8.87s\tremaining: 3.6s\n",
            "711:\tlearn: 0.1097910\ttotal: 8.88s\tremaining: 3.59s\n",
            "712:\tlearn: 0.1094708\ttotal: 8.89s\tremaining: 3.58s\n",
            "713:\tlearn: 0.1093963\ttotal: 8.89s\tremaining: 3.56s\n",
            "714:\tlearn: 0.1092438\ttotal: 8.9s\tremaining: 3.55s\n",
            "715:\tlearn: 0.1090591\ttotal: 8.91s\tremaining: 3.53s\n",
            "716:\tlearn: 0.1087851\ttotal: 8.92s\tremaining: 3.52s\n",
            "717:\tlearn: 0.1085990\ttotal: 8.93s\tremaining: 3.5s\n",
            "718:\tlearn: 0.1084127\ttotal: 8.93s\tremaining: 3.49s\n",
            "719:\tlearn: 0.1081513\ttotal: 8.94s\tremaining: 3.48s\n",
            "720:\tlearn: 0.1078324\ttotal: 8.95s\tremaining: 3.46s\n",
            "721:\tlearn: 0.1076842\ttotal: 8.96s\tremaining: 3.45s\n",
            "722:\tlearn: 0.1073660\ttotal: 8.96s\tremaining: 3.43s\n",
            "723:\tlearn: 0.1070828\ttotal: 8.97s\tremaining: 3.42s\n",
            "724:\tlearn: 0.1069187\ttotal: 8.98s\tremaining: 3.41s\n",
            "725:\tlearn: 0.1067383\ttotal: 8.99s\tremaining: 3.39s\n",
            "726:\tlearn: 0.1065163\ttotal: 8.99s\tremaining: 3.38s\n",
            "727:\tlearn: 0.1062814\ttotal: 9.01s\tremaining: 3.36s\n",
            "728:\tlearn: 0.1060658\ttotal: 9.01s\tremaining: 3.35s\n",
            "729:\tlearn: 0.1058581\ttotal: 9.02s\tremaining: 3.34s\n",
            "730:\tlearn: 0.1056749\ttotal: 9.03s\tremaining: 3.32s\n",
            "731:\tlearn: 0.1054566\ttotal: 9.04s\tremaining: 3.31s\n",
            "732:\tlearn: 0.1053663\ttotal: 9.04s\tremaining: 3.29s\n",
            "733:\tlearn: 0.1051716\ttotal: 9.05s\tremaining: 3.28s\n",
            "734:\tlearn: 0.1050641\ttotal: 9.06s\tremaining: 3.27s\n",
            "735:\tlearn: 0.1048130\ttotal: 9.07s\tremaining: 3.25s\n",
            "736:\tlearn: 0.1045541\ttotal: 9.07s\tremaining: 3.24s\n",
            "737:\tlearn: 0.1043924\ttotal: 9.08s\tremaining: 3.22s\n",
            "738:\tlearn: 0.1042541\ttotal: 9.09s\tremaining: 3.21s\n",
            "739:\tlearn: 0.1041205\ttotal: 9.1s\tremaining: 3.2s\n",
            "740:\tlearn: 0.1040103\ttotal: 9.11s\tremaining: 3.18s\n",
            "741:\tlearn: 0.1038387\ttotal: 9.12s\tremaining: 3.17s\n",
            "742:\tlearn: 0.1036559\ttotal: 9.12s\tremaining: 3.15s\n",
            "743:\tlearn: 0.1035732\ttotal: 9.13s\tremaining: 3.14s\n",
            "744:\tlearn: 0.1034724\ttotal: 9.14s\tremaining: 3.13s\n",
            "745:\tlearn: 0.1032417\ttotal: 9.15s\tremaining: 3.11s\n",
            "746:\tlearn: 0.1030588\ttotal: 9.15s\tremaining: 3.1s\n",
            "747:\tlearn: 0.1029769\ttotal: 9.16s\tremaining: 3.09s\n",
            "748:\tlearn: 0.1027907\ttotal: 9.17s\tremaining: 3.07s\n",
            "749:\tlearn: 0.1026260\ttotal: 9.18s\tremaining: 3.06s\n",
            "750:\tlearn: 0.1025348\ttotal: 9.19s\tremaining: 3.04s\n",
            "751:\tlearn: 0.1024282\ttotal: 9.19s\tremaining: 3.03s\n",
            "752:\tlearn: 0.1021024\ttotal: 9.2s\tremaining: 3.02s\n",
            "753:\tlearn: 0.1017679\ttotal: 9.22s\tremaining: 3.01s\n",
            "754:\tlearn: 0.1016082\ttotal: 9.23s\tremaining: 2.99s\n",
            "755:\tlearn: 0.1014347\ttotal: 9.24s\tremaining: 2.98s\n",
            "756:\tlearn: 0.1012193\ttotal: 9.24s\tremaining: 2.97s\n",
            "757:\tlearn: 0.1011596\ttotal: 9.25s\tremaining: 2.95s\n",
            "758:\tlearn: 0.1010273\ttotal: 9.26s\tremaining: 2.94s\n",
            "759:\tlearn: 0.1008375\ttotal: 9.27s\tremaining: 2.93s\n",
            "760:\tlearn: 0.1007726\ttotal: 9.27s\tremaining: 2.91s\n",
            "761:\tlearn: 0.1005798\ttotal: 9.28s\tremaining: 2.9s\n",
            "762:\tlearn: 0.1004300\ttotal: 9.29s\tremaining: 2.88s\n",
            "763:\tlearn: 0.1002992\ttotal: 9.3s\tremaining: 2.87s\n",
            "764:\tlearn: 0.1000757\ttotal: 9.3s\tremaining: 2.86s\n",
            "765:\tlearn: 0.0998976\ttotal: 9.31s\tremaining: 2.84s\n",
            "766:\tlearn: 0.0998391\ttotal: 9.32s\tremaining: 2.83s\n",
            "767:\tlearn: 0.0997215\ttotal: 9.33s\tremaining: 2.82s\n",
            "768:\tlearn: 0.0995454\ttotal: 9.34s\tremaining: 2.8s\n",
            "769:\tlearn: 0.0994068\ttotal: 9.34s\tremaining: 2.79s\n",
            "770:\tlearn: 0.0993238\ttotal: 9.35s\tremaining: 2.78s\n",
            "771:\tlearn: 0.0992071\ttotal: 9.37s\tremaining: 2.77s\n",
            "772:\tlearn: 0.0989234\ttotal: 9.37s\tremaining: 2.75s\n",
            "773:\tlearn: 0.0987512\ttotal: 9.38s\tremaining: 2.74s\n",
            "774:\tlearn: 0.0985741\ttotal: 9.39s\tremaining: 2.73s\n",
            "775:\tlearn: 0.0983682\ttotal: 9.4s\tremaining: 2.71s\n",
            "776:\tlearn: 0.0981205\ttotal: 9.4s\tremaining: 2.7s\n",
            "777:\tlearn: 0.0979164\ttotal: 9.42s\tremaining: 2.69s\n",
            "778:\tlearn: 0.0977735\ttotal: 9.43s\tremaining: 2.67s\n",
            "779:\tlearn: 0.0975919\ttotal: 9.43s\tremaining: 2.66s\n",
            "780:\tlearn: 0.0974470\ttotal: 9.44s\tremaining: 2.65s\n",
            "781:\tlearn: 0.0973530\ttotal: 9.45s\tremaining: 2.63s\n",
            "782:\tlearn: 0.0972478\ttotal: 9.46s\tremaining: 2.62s\n",
            "783:\tlearn: 0.0969761\ttotal: 9.46s\tremaining: 2.61s\n",
            "784:\tlearn: 0.0968597\ttotal: 9.47s\tremaining: 2.59s\n",
            "785:\tlearn: 0.0967849\ttotal: 9.48s\tremaining: 2.58s\n",
            "786:\tlearn: 0.0966551\ttotal: 9.49s\tremaining: 2.57s\n",
            "787:\tlearn: 0.0965069\ttotal: 9.5s\tremaining: 2.56s\n",
            "788:\tlearn: 0.0963177\ttotal: 9.5s\tremaining: 2.54s\n",
            "789:\tlearn: 0.0962287\ttotal: 9.51s\tremaining: 2.53s\n",
            "790:\tlearn: 0.0961309\ttotal: 9.52s\tremaining: 2.52s\n",
            "791:\tlearn: 0.0959793\ttotal: 9.53s\tremaining: 2.5s\n",
            "792:\tlearn: 0.0958910\ttotal: 9.54s\tremaining: 2.49s\n",
            "793:\tlearn: 0.0957107\ttotal: 9.54s\tremaining: 2.48s\n",
            "794:\tlearn: 0.0955629\ttotal: 9.55s\tremaining: 2.46s\n",
            "795:\tlearn: 0.0954107\ttotal: 9.56s\tremaining: 2.45s\n",
            "796:\tlearn: 0.0952875\ttotal: 9.57s\tremaining: 2.44s\n",
            "797:\tlearn: 0.0950805\ttotal: 9.57s\tremaining: 2.42s\n",
            "798:\tlearn: 0.0949974\ttotal: 9.58s\tremaining: 2.41s\n",
            "799:\tlearn: 0.0948452\ttotal: 9.59s\tremaining: 2.4s\n",
            "800:\tlearn: 0.0946134\ttotal: 9.6s\tremaining: 2.38s\n",
            "801:\tlearn: 0.0944681\ttotal: 9.6s\tremaining: 2.37s\n",
            "802:\tlearn: 0.0943607\ttotal: 9.61s\tremaining: 2.36s\n",
            "803:\tlearn: 0.0940938\ttotal: 9.63s\tremaining: 2.35s\n",
            "804:\tlearn: 0.0939296\ttotal: 9.64s\tremaining: 2.33s\n",
            "805:\tlearn: 0.0938157\ttotal: 9.65s\tremaining: 2.32s\n",
            "806:\tlearn: 0.0936146\ttotal: 9.66s\tremaining: 2.31s\n",
            "807:\tlearn: 0.0934668\ttotal: 9.66s\tremaining: 2.3s\n",
            "808:\tlearn: 0.0933679\ttotal: 9.67s\tremaining: 2.28s\n",
            "809:\tlearn: 0.0932073\ttotal: 9.68s\tremaining: 2.27s\n",
            "810:\tlearn: 0.0931090\ttotal: 9.69s\tremaining: 2.26s\n",
            "811:\tlearn: 0.0928881\ttotal: 9.7s\tremaining: 2.24s\n",
            "812:\tlearn: 0.0927659\ttotal: 9.71s\tremaining: 2.23s\n",
            "813:\tlearn: 0.0926905\ttotal: 9.71s\tremaining: 2.22s\n",
            "814:\tlearn: 0.0925902\ttotal: 9.72s\tremaining: 2.21s\n",
            "815:\tlearn: 0.0924413\ttotal: 9.73s\tremaining: 2.19s\n",
            "816:\tlearn: 0.0923054\ttotal: 9.74s\tremaining: 2.18s\n",
            "817:\tlearn: 0.0920936\ttotal: 9.75s\tremaining: 2.17s\n",
            "818:\tlearn: 0.0918913\ttotal: 9.75s\tremaining: 2.15s\n",
            "819:\tlearn: 0.0917582\ttotal: 9.76s\tremaining: 2.14s\n",
            "820:\tlearn: 0.0916319\ttotal: 9.77s\tremaining: 2.13s\n",
            "821:\tlearn: 0.0914357\ttotal: 9.78s\tremaining: 2.12s\n",
            "822:\tlearn: 0.0912979\ttotal: 9.79s\tremaining: 2.1s\n",
            "823:\tlearn: 0.0911714\ttotal: 9.79s\tremaining: 2.09s\n",
            "824:\tlearn: 0.0909261\ttotal: 9.8s\tremaining: 2.08s\n",
            "825:\tlearn: 0.0907801\ttotal: 9.81s\tremaining: 2.07s\n",
            "826:\tlearn: 0.0906638\ttotal: 9.82s\tremaining: 2.05s\n",
            "827:\tlearn: 0.0904952\ttotal: 9.83s\tremaining: 2.04s\n",
            "828:\tlearn: 0.0903938\ttotal: 9.84s\tremaining: 2.03s\n",
            "829:\tlearn: 0.0902719\ttotal: 9.85s\tremaining: 2.02s\n",
            "830:\tlearn: 0.0901470\ttotal: 9.85s\tremaining: 2s\n",
            "831:\tlearn: 0.0900130\ttotal: 9.86s\tremaining: 1.99s\n",
            "832:\tlearn: 0.0898488\ttotal: 9.87s\tremaining: 1.98s\n",
            "833:\tlearn: 0.0896739\ttotal: 9.88s\tremaining: 1.97s\n",
            "834:\tlearn: 0.0895621\ttotal: 9.89s\tremaining: 1.95s\n",
            "835:\tlearn: 0.0894452\ttotal: 9.89s\tremaining: 1.94s\n",
            "836:\tlearn: 0.0893256\ttotal: 9.9s\tremaining: 1.93s\n",
            "837:\tlearn: 0.0890709\ttotal: 9.91s\tremaining: 1.92s\n",
            "838:\tlearn: 0.0889660\ttotal: 9.92s\tremaining: 1.9s\n",
            "839:\tlearn: 0.0888592\ttotal: 9.93s\tremaining: 1.89s\n",
            "840:\tlearn: 0.0887092\ttotal: 9.93s\tremaining: 1.88s\n",
            "841:\tlearn: 0.0885647\ttotal: 9.94s\tremaining: 1.86s\n",
            "842:\tlearn: 0.0883893\ttotal: 9.95s\tremaining: 1.85s\n",
            "843:\tlearn: 0.0883121\ttotal: 9.96s\tremaining: 1.84s\n",
            "844:\tlearn: 0.0881287\ttotal: 9.97s\tremaining: 1.83s\n",
            "845:\tlearn: 0.0879612\ttotal: 9.98s\tremaining: 1.82s\n",
            "846:\tlearn: 0.0878505\ttotal: 9.98s\tremaining: 1.8s\n",
            "847:\tlearn: 0.0876675\ttotal: 10s\tremaining: 1.79s\n",
            "848:\tlearn: 0.0875022\ttotal: 10s\tremaining: 1.78s\n",
            "849:\tlearn: 0.0873978\ttotal: 10s\tremaining: 1.77s\n",
            "850:\tlearn: 0.0872769\ttotal: 10s\tremaining: 1.76s\n",
            "851:\tlearn: 0.0871143\ttotal: 10s\tremaining: 1.74s\n",
            "852:\tlearn: 0.0868906\ttotal: 10.1s\tremaining: 1.73s\n",
            "853:\tlearn: 0.0867435\ttotal: 10.1s\tremaining: 1.72s\n",
            "854:\tlearn: 0.0866222\ttotal: 10.1s\tremaining: 1.71s\n",
            "855:\tlearn: 0.0864800\ttotal: 10.1s\tremaining: 1.7s\n",
            "856:\tlearn: 0.0862736\ttotal: 10.1s\tremaining: 1.68s\n",
            "857:\tlearn: 0.0861811\ttotal: 10.1s\tremaining: 1.67s\n",
            "858:\tlearn: 0.0860452\ttotal: 10.1s\tremaining: 1.66s\n",
            "859:\tlearn: 0.0858263\ttotal: 10.1s\tremaining: 1.65s\n",
            "860:\tlearn: 0.0856881\ttotal: 10.1s\tremaining: 1.63s\n",
            "861:\tlearn: 0.0855892\ttotal: 10.1s\tremaining: 1.62s\n",
            "862:\tlearn: 0.0854800\ttotal: 10.1s\tremaining: 1.61s\n",
            "863:\tlearn: 0.0854276\ttotal: 10.1s\tremaining: 1.6s\n",
            "864:\tlearn: 0.0853540\ttotal: 10.1s\tremaining: 1.58s\n",
            "865:\tlearn: 0.0851815\ttotal: 10.2s\tremaining: 1.57s\n",
            "866:\tlearn: 0.0850343\ttotal: 10.2s\tremaining: 1.56s\n",
            "867:\tlearn: 0.0849439\ttotal: 10.2s\tremaining: 1.55s\n",
            "868:\tlearn: 0.0848610\ttotal: 10.2s\tremaining: 1.53s\n",
            "869:\tlearn: 0.0847577\ttotal: 10.2s\tremaining: 1.52s\n",
            "870:\tlearn: 0.0846238\ttotal: 10.2s\tremaining: 1.51s\n",
            "871:\tlearn: 0.0844746\ttotal: 10.2s\tremaining: 1.5s\n",
            "872:\tlearn: 0.0842677\ttotal: 10.2s\tremaining: 1.49s\n",
            "873:\tlearn: 0.0841647\ttotal: 10.2s\tremaining: 1.47s\n",
            "874:\tlearn: 0.0840521\ttotal: 10.2s\tremaining: 1.46s\n",
            "875:\tlearn: 0.0839594\ttotal: 10.3s\tremaining: 1.45s\n",
            "876:\tlearn: 0.0838811\ttotal: 10.3s\tremaining: 1.44s\n",
            "877:\tlearn: 0.0837738\ttotal: 10.3s\tremaining: 1.43s\n",
            "878:\tlearn: 0.0836532\ttotal: 10.3s\tremaining: 1.41s\n",
            "879:\tlearn: 0.0835292\ttotal: 10.3s\tremaining: 1.4s\n",
            "880:\tlearn: 0.0834503\ttotal: 10.3s\tremaining: 1.39s\n",
            "881:\tlearn: 0.0833507\ttotal: 10.3s\tremaining: 1.38s\n",
            "882:\tlearn: 0.0832423\ttotal: 10.3s\tremaining: 1.36s\n",
            "883:\tlearn: 0.0830983\ttotal: 10.3s\tremaining: 1.35s\n",
            "884:\tlearn: 0.0829873\ttotal: 10.3s\tremaining: 1.34s\n",
            "885:\tlearn: 0.0829032\ttotal: 10.3s\tremaining: 1.33s\n",
            "886:\tlearn: 0.0827971\ttotal: 10.3s\tremaining: 1.32s\n",
            "887:\tlearn: 0.0826949\ttotal: 10.3s\tremaining: 1.3s\n",
            "888:\tlearn: 0.0825628\ttotal: 10.3s\tremaining: 1.29s\n",
            "889:\tlearn: 0.0824612\ttotal: 10.4s\tremaining: 1.28s\n",
            "890:\tlearn: 0.0823868\ttotal: 10.4s\tremaining: 1.27s\n",
            "891:\tlearn: 0.0822679\ttotal: 10.4s\tremaining: 1.25s\n",
            "892:\tlearn: 0.0821094\ttotal: 10.4s\tremaining: 1.24s\n",
            "893:\tlearn: 0.0820110\ttotal: 10.4s\tremaining: 1.23s\n",
            "894:\tlearn: 0.0819107\ttotal: 10.4s\tremaining: 1.22s\n",
            "895:\tlearn: 0.0818543\ttotal: 10.4s\tremaining: 1.21s\n",
            "896:\tlearn: 0.0816966\ttotal: 10.4s\tremaining: 1.2s\n",
            "897:\tlearn: 0.0815667\ttotal: 10.4s\tremaining: 1.18s\n",
            "898:\tlearn: 0.0814432\ttotal: 10.4s\tremaining: 1.17s\n",
            "899:\tlearn: 0.0813078\ttotal: 10.4s\tremaining: 1.16s\n",
            "900:\tlearn: 0.0811947\ttotal: 10.4s\tremaining: 1.15s\n",
            "901:\tlearn: 0.0810916\ttotal: 10.5s\tremaining: 1.14s\n",
            "902:\tlearn: 0.0809257\ttotal: 10.5s\tremaining: 1.12s\n",
            "903:\tlearn: 0.0807818\ttotal: 10.5s\tremaining: 1.11s\n",
            "904:\tlearn: 0.0806924\ttotal: 10.5s\tremaining: 1.1s\n",
            "905:\tlearn: 0.0805273\ttotal: 10.5s\tremaining: 1.09s\n",
            "906:\tlearn: 0.0804248\ttotal: 10.5s\tremaining: 1.07s\n",
            "907:\tlearn: 0.0802910\ttotal: 10.5s\tremaining: 1.06s\n",
            "908:\tlearn: 0.0802481\ttotal: 10.5s\tremaining: 1.05s\n",
            "909:\tlearn: 0.0801573\ttotal: 10.5s\tremaining: 1.04s\n",
            "910:\tlearn: 0.0800392\ttotal: 10.5s\tremaining: 1.03s\n",
            "911:\tlearn: 0.0799035\ttotal: 10.5s\tremaining: 1.02s\n",
            "912:\tlearn: 0.0797135\ttotal: 10.5s\tremaining: 1s\n",
            "913:\tlearn: 0.0795917\ttotal: 10.5s\tremaining: 993ms\n",
            "914:\tlearn: 0.0794727\ttotal: 10.6s\tremaining: 981ms\n",
            "915:\tlearn: 0.0793518\ttotal: 10.6s\tremaining: 969ms\n",
            "916:\tlearn: 0.0792461\ttotal: 10.6s\tremaining: 957ms\n",
            "917:\tlearn: 0.0791996\ttotal: 10.6s\tremaining: 945ms\n",
            "918:\tlearn: 0.0791231\ttotal: 10.6s\tremaining: 933ms\n",
            "919:\tlearn: 0.0790119\ttotal: 10.6s\tremaining: 921ms\n",
            "920:\tlearn: 0.0789055\ttotal: 10.6s\tremaining: 909ms\n",
            "921:\tlearn: 0.0787757\ttotal: 10.6s\tremaining: 898ms\n",
            "922:\tlearn: 0.0786610\ttotal: 10.6s\tremaining: 887ms\n",
            "923:\tlearn: 0.0785786\ttotal: 10.6s\tremaining: 875ms\n",
            "924:\tlearn: 0.0784663\ttotal: 10.7s\tremaining: 864ms\n",
            "925:\tlearn: 0.0783948\ttotal: 10.7s\tremaining: 852ms\n",
            "926:\tlearn: 0.0782662\ttotal: 10.7s\tremaining: 840ms\n",
            "927:\tlearn: 0.0781828\ttotal: 10.7s\tremaining: 828ms\n",
            "928:\tlearn: 0.0780276\ttotal: 10.7s\tremaining: 816ms\n",
            "929:\tlearn: 0.0778801\ttotal: 10.7s\tremaining: 805ms\n",
            "930:\tlearn: 0.0777876\ttotal: 10.7s\tremaining: 793ms\n",
            "931:\tlearn: 0.0777260\ttotal: 10.7s\tremaining: 781ms\n",
            "932:\tlearn: 0.0776444\ttotal: 10.7s\tremaining: 769ms\n",
            "933:\tlearn: 0.0775029\ttotal: 10.7s\tremaining: 757ms\n",
            "934:\tlearn: 0.0773567\ttotal: 10.7s\tremaining: 746ms\n",
            "935:\tlearn: 0.0772989\ttotal: 10.7s\tremaining: 734ms\n",
            "936:\tlearn: 0.0771144\ttotal: 10.7s\tremaining: 722ms\n",
            "937:\tlearn: 0.0770566\ttotal: 10.8s\tremaining: 711ms\n",
            "938:\tlearn: 0.0768897\ttotal: 10.8s\tremaining: 699ms\n",
            "939:\tlearn: 0.0767614\ttotal: 10.8s\tremaining: 687ms\n",
            "940:\tlearn: 0.0766914\ttotal: 10.8s\tremaining: 676ms\n",
            "941:\tlearn: 0.0765617\ttotal: 10.8s\tremaining: 664ms\n",
            "942:\tlearn: 0.0764549\ttotal: 10.8s\tremaining: 652ms\n",
            "943:\tlearn: 0.0764021\ttotal: 10.8s\tremaining: 641ms\n",
            "944:\tlearn: 0.0763249\ttotal: 10.8s\tremaining: 629ms\n",
            "945:\tlearn: 0.0761600\ttotal: 10.8s\tremaining: 617ms\n",
            "946:\tlearn: 0.0760124\ttotal: 10.8s\tremaining: 606ms\n",
            "947:\tlearn: 0.0759304\ttotal: 10.8s\tremaining: 594ms\n",
            "948:\tlearn: 0.0758202\ttotal: 10.8s\tremaining: 583ms\n",
            "949:\tlearn: 0.0756787\ttotal: 10.9s\tremaining: 572ms\n",
            "950:\tlearn: 0.0755584\ttotal: 10.9s\tremaining: 560ms\n",
            "951:\tlearn: 0.0755108\ttotal: 10.9s\tremaining: 549ms\n",
            "952:\tlearn: 0.0754228\ttotal: 10.9s\tremaining: 537ms\n",
            "953:\tlearn: 0.0753029\ttotal: 10.9s\tremaining: 526ms\n",
            "954:\tlearn: 0.0751984\ttotal: 10.9s\tremaining: 514ms\n",
            "955:\tlearn: 0.0751202\ttotal: 10.9s\tremaining: 502ms\n",
            "956:\tlearn: 0.0750246\ttotal: 10.9s\tremaining: 491ms\n",
            "957:\tlearn: 0.0749639\ttotal: 10.9s\tremaining: 479ms\n",
            "958:\tlearn: 0.0749022\ttotal: 10.9s\tremaining: 468ms\n",
            "959:\tlearn: 0.0747769\ttotal: 10.9s\tremaining: 456ms\n",
            "960:\tlearn: 0.0747097\ttotal: 11s\tremaining: 445ms\n",
            "961:\tlearn: 0.0746552\ttotal: 11s\tremaining: 433ms\n",
            "962:\tlearn: 0.0745660\ttotal: 11s\tremaining: 421ms\n",
            "963:\tlearn: 0.0745046\ttotal: 11s\tremaining: 410ms\n",
            "964:\tlearn: 0.0743928\ttotal: 11s\tremaining: 398ms\n",
            "965:\tlearn: 0.0742858\ttotal: 11s\tremaining: 387ms\n",
            "966:\tlearn: 0.0741620\ttotal: 11s\tremaining: 375ms\n",
            "967:\tlearn: 0.0740448\ttotal: 11s\tremaining: 364ms\n",
            "968:\tlearn: 0.0739167\ttotal: 11s\tremaining: 352ms\n",
            "969:\tlearn: 0.0738247\ttotal: 11s\tremaining: 341ms\n",
            "970:\tlearn: 0.0737406\ttotal: 11s\tremaining: 329ms\n",
            "971:\tlearn: 0.0735637\ttotal: 11s\tremaining: 318ms\n",
            "972:\tlearn: 0.0734638\ttotal: 11.1s\tremaining: 307ms\n",
            "973:\tlearn: 0.0733447\ttotal: 11.1s\tremaining: 295ms\n",
            "974:\tlearn: 0.0732660\ttotal: 11.1s\tremaining: 284ms\n",
            "975:\tlearn: 0.0732103\ttotal: 11.1s\tremaining: 272ms\n",
            "976:\tlearn: 0.0731428\ttotal: 11.1s\tremaining: 261ms\n",
            "977:\tlearn: 0.0730349\ttotal: 11.1s\tremaining: 249ms\n",
            "978:\tlearn: 0.0729572\ttotal: 11.1s\tremaining: 238ms\n",
            "979:\tlearn: 0.0728617\ttotal: 11.1s\tremaining: 227ms\n",
            "980:\tlearn: 0.0727491\ttotal: 11.1s\tremaining: 216ms\n",
            "981:\tlearn: 0.0726410\ttotal: 11.2s\tremaining: 205ms\n",
            "982:\tlearn: 0.0725793\ttotal: 11.2s\tremaining: 193ms\n",
            "983:\tlearn: 0.0724502\ttotal: 11.2s\tremaining: 182ms\n",
            "984:\tlearn: 0.0723530\ttotal: 11.2s\tremaining: 171ms\n",
            "985:\tlearn: 0.0722785\ttotal: 11.2s\tremaining: 160ms\n",
            "986:\tlearn: 0.0721798\ttotal: 11.3s\tremaining: 148ms\n",
            "987:\tlearn: 0.0721020\ttotal: 11.3s\tremaining: 137ms\n",
            "988:\tlearn: 0.0720409\ttotal: 11.3s\tremaining: 126ms\n",
            "989:\tlearn: 0.0719419\ttotal: 11.4s\tremaining: 115ms\n",
            "990:\tlearn: 0.0717992\ttotal: 11.4s\tremaining: 104ms\n",
            "991:\tlearn: 0.0717031\ttotal: 11.5s\tremaining: 92.9ms\n",
            "992:\tlearn: 0.0715870\ttotal: 11.6s\tremaining: 81.5ms\n",
            "993:\tlearn: 0.0714787\ttotal: 11.6s\tremaining: 70.1ms\n",
            "994:\tlearn: 0.0713276\ttotal: 11.7s\tremaining: 58.7ms\n",
            "995:\tlearn: 0.0712137\ttotal: 11.7s\tremaining: 47.1ms\n",
            "996:\tlearn: 0.0711372\ttotal: 11.8s\tremaining: 35.5ms\n",
            "997:\tlearn: 0.0710419\ttotal: 11.8s\tremaining: 23.7ms\n",
            "998:\tlearn: 0.0709262\ttotal: 11.9s\tremaining: 11.9ms\n",
            "999:\tlearn: 0.0708105\ttotal: 11.9s\tremaining: 0us\n"
          ]
        },
        {
          "output_type": "execute_result",
          "data": {
            "text/plain": [
              "<catboost.core.CatBoostClassifier at 0x7fc20cd62be0>"
            ]
          },
          "metadata": {},
          "execution_count": 48
        }
      ],
      "source": [
        "cb=CatBoostClassifier()\n",
        "cb.fit(X_train,y_train)"
      ]
    },
    {
      "cell_type": "code",
      "execution_count": null,
      "metadata": {
        "colab": {
          "base_uri": "https://localhost:8080/"
        },
        "id": "W0bY0hpgTZ4b",
        "outputId": "75d802fa-e37a-4f0a-b59a-0cd30b65bffa"
      },
      "outputs": [
        {
          "output_type": "stream",
          "name": "stdout",
          "text": [
            "1.0\n",
            "0.6117216117216118\n"
          ]
        }
      ],
      "source": [
        "print(cb.score(X_train, y_train))\n",
        "print(cb.score(X_test, y_test))"
      ]
    },
    {
      "cell_type": "code",
      "execution_count": null,
      "metadata": {
        "colab": {
          "base_uri": "https://localhost:8080/",
          "height": 449
        },
        "id": "QRYkWJV7TbF0",
        "outputId": "cd4e058c-e586-4c50-c865-09465c7beb9a"
      },
      "outputs": [
        {
          "output_type": "display_data",
          "data": {
            "text/plain": [
              "<Figure size 640x480 with 2 Axes>"
            ],
            "image/png": "[encoded data removed]"
          },
          "metadata": {}
        }
      ],
      "source": [
        "y_pred = cb.predict(X_test)\n",
        "import matplotlib.pyplot as plt\n",
        "from sklearn.metrics import confusion_matrix\n",
        "from sklearn.metrics import ConfusionMatrixDisplay\n",
        "\n",
        "cm = confusion_matrix(y_test, y_pred)\n",
        "cm2 = ConfusionMatrixDisplay(confusion_matrix=cm)\n",
        "cm2.plot()\n",
        "plt.show()"
      ]
    },
    {
      "cell_type": "code",
      "execution_count": null,
      "metadata": {
        "colab": {
          "base_uri": "https://localhost:8080/"
        },
        "id": "3_YbT5i5Tcft",
        "outputId": "9463d88b-e000-4cf6-96d1-4908eb7f2fb7"
      },
      "outputs": [
        {
          "output_type": "stream",
          "name": "stdout",
          "text": [
            "Accuracy: 0.612\n",
            "precision: 0.619\n",
            "recall: 0.612\n",
            "f1: 0.612\n"
          ]
        }
      ],
      "source": [
        "from sklearn.metrics import precision_score, accuracy_score, recall_score, f1_score\n",
        "\n",
        "print(f\"Accuracy: {round(accuracy_score(y_test, y_pred),3)}\")\n",
        "print(f\"precision: {round(precision_score(y_test, y_pred, average='weighted'),3)}\")\n",
        "print(f\"recall: {round(recall_score(y_test, y_pred, average='weighted'),3)}\")\n",
        "print(f\"f1: {round(accuracy_score(y_test, y_pred), 3)}\")"
      ]
    },
    {
      "cell_type": "markdown",
      "metadata": {
        "id": "8YIed9VMTfbO"
      },
      "source": [
        "Gradient Boosting:"
      ]
    },
    {
      "cell_type": "code",
      "execution_count": null,
      "metadata": {
        "colab": {
          "base_uri": "https://localhost:8080/"
        },
        "id": "DURTZz-8Tep6",
        "outputId": "9cb95835-bf8e-446f-fb88-cbc4915f24e0"
      },
      "outputs": [
        {
          "output_type": "stream",
          "name": "stdout",
          "text": [
            "              precision    recall  f1-score   support\n",
            "\n",
            "           0       0.57      0.58      0.58        88\n",
            "           1       0.57      0.64      0.60        85\n",
            "           2       0.72      0.64      0.68       100\n",
            "\n",
            "    accuracy                           0.62       273\n",
            "   macro avg       0.62      0.62      0.62       273\n",
            "weighted avg       0.63      0.62      0.62       273\n",
            "\n"
          ]
        }
      ],
      "source": [
        "from sklearn.ensemble  import GradientBoostingClassifier\n",
        "from sklearn.metrics import classification_report\n",
        "gb=GradientBoostingClassifier(learning_rate=0.1)\n",
        "gb.fit(X_train,y_train)\n",
        "print(classification_report(y_test,gb.predict(X_test)))"
      ]
    },
    {
      "cell_type": "code",
      "execution_count": null,
      "metadata": {
        "colab": {
          "base_uri": "https://localhost:8080/"
        },
        "id": "WlO4GS__TkDM",
        "outputId": "d05ba53b-4df4-479e-96dc-7621f279a78e"
      },
      "outputs": [
        {
          "output_type": "stream",
          "name": "stdout",
          "text": [
            "0.5\n",
            "0.5494505494505495\n"
          ]
        }
      ],
      "source": [
        "print(nb.score(X_train, y_train))\n",
        "print(nb.score(X_test, y_test))"
      ]
    },
    {
      "cell_type": "code",
      "execution_count": null,
      "metadata": {
        "colab": {
          "base_uri": "https://localhost:8080/",
          "height": 449
        },
        "id": "2BELeaA2Tll5",
        "outputId": "09aa3024-1231-4a5f-f81d-d9c411d09bc0"
      },
      "outputs": [
        {
          "output_type": "display_data",
          "data": {
            "text/plain": [
              "<Figure size 640x480 with 2 Axes>"
            ],
            "image/png": "[encoded data removed]"
          },
          "metadata": {}
        }
      ],
      "source": [
        "y_pred = gb.predict(X_test)\n",
        "import matplotlib.pyplot as plt\n",
        "from sklearn.metrics import confusion_matrix\n",
        "from sklearn.metrics import ConfusionMatrixDisplay\n",
        "\n",
        "cm = confusion_matrix(y_test, y_pred)\n",
        "cm2 = ConfusionMatrixDisplay(confusion_matrix=cm)\n",
        "cm2.plot()\n",
        "plt.show()\n"
      ]
    },
    {
      "cell_type": "code",
      "execution_count": null,
      "metadata": {
        "colab": {
          "base_uri": "https://localhost:8080/"
        },
        "id": "F73uqZmETnKU",
        "outputId": "16091ee6-80d9-47c3-d24d-bd7b26415488"
      },
      "outputs": [
        {
          "output_type": "stream",
          "name": "stdout",
          "text": [
            "Accuracy: 0.619\n",
            "precision: 0.625\n",
            "recall: 0.619\n",
            "f1: 0.619\n"
          ]
        }
      ],
      "source": [
        "from sklearn.metrics import precision_score, accuracy_score, recall_score, f1_score\n",
        "\n",
        "print(f\"Accuracy: {round(accuracy_score(y_test, y_pred),3)}\")\n",
        "print(f\"precision: {round(precision_score(y_test, y_pred, average='weighted'),3)}\")\n",
        "print(f\"recall: {round(recall_score(y_test, y_pred, average='weighted'),3)}\")\n",
        "print(f\"f1: {round(accuracy_score(y_test, y_pred), 3)}\")"
      ]
    },
    {
      "cell_type": "markdown",
      "metadata": {
        "id": "kyCpTlVITpcN"
      },
      "source": [
        "AdaBoost"
      ]
    },
    {
      "cell_type": "code",
      "execution_count": null,
      "metadata": {
        "colab": {
          "base_uri": "https://localhost:8080/",
          "height": 74
        },
        "id": "KsG6EDxxTokg",
        "outputId": "d9f8729b-63e8-4ecf-d0fa-570286b7048a"
      },
      "outputs": [
        {
          "output_type": "execute_result",
          "data": {
            "text/plain": [
              "AdaBoostClassifier()"
            ],
            "text/html": [
              "<style>#sk-container-id-7 {color: black;background-color: white;}#sk-container-id-7 pre{padding: 0;}#sk-container-id-7 div.sk-toggleable {background-color: white;}#sk-container-id-7 label.sk-toggleable__label {cursor: pointer;display: block;width: 100%;margin-bottom: 0;padding: 0.3em;box-sizing: border-box;text-align: center;}#sk-container-id-7 label.sk-toggleable__label-arrow:before {content: \"▸\";float: left;margin-right: 0.25em;color: #696969;}#sk-container-id-7 label.sk-toggleable__label-arrow:hover:before {color: black;}#sk-container-id-7 div.sk-estimator:hover label.sk-toggleable__label-arrow:before {color: black;}#sk-container-id-7 div.sk-toggleable__content {max-height: 0;max-width: 0;overflow: hidden;text-align: left;background-color: #f0f8ff;}#sk-container-id-7 div.sk-toggleable__content pre {margin: 0.2em;color: black;border-radius: 0.25em;background-color: #f0f8ff;}#sk-container-id-7 input.sk-toggleable__control:checked~div.sk-toggleable__content {max-height: 200px;max-width: 100%;overflow: auto;}#sk-container-id-7 input.sk-toggleable__control:checked~label.sk-toggleable__label-arrow:before {content: \"▾\";}#sk-container-id-7 div.sk-estimator input.sk-toggleable__control:checked~label.sk-toggleable__label {background-color: #d4ebff;}#sk-container-id-7 div.sk-label input.sk-toggleable__control:checked~label.sk-toggleable__label {background-color: #d4ebff;}#sk-container-id-7 input.sk-hidden--visually {border: 0;clip: rect(1px 1px 1px 1px);clip: rect(1px, 1px, 1px, 1px);height: 1px;margin: -1px;overflow: hidden;padding: 0;position: absolute;width: 1px;}#sk-container-id-7 div.sk-estimator {font-family: monospace;background-color: #f0f8ff;border: 1px dotted black;border-radius: 0.25em;box-sizing: border-box;margin-bottom: 0.5em;}#sk-container-id-7 div.sk-estimator:hover {background-color: #d4ebff;}#sk-container-id-7 div.sk-parallel-item::after {content: \"\";width: 100%;border-bottom: 1px solid gray;flex-grow: 1;}#sk-container-id-7 div.sk-label:hover label.sk-toggleable__label {background-color: #d4ebff;}#sk-container-id-7 div.sk-serial::before {content: \"\";position: absolute;border-left: 1px solid gray;box-sizing: border-box;top: 0;bottom: 0;left: 50%;z-index: 0;}#sk-container-id-7 div.sk-serial {display: flex;flex-direction: column;align-items: center;background-color: white;padding-right: 0.2em;padding-left: 0.2em;position: relative;}#sk-container-id-7 div.sk-item {position: relative;z-index: 1;}#sk-container-id-7 div.sk-parallel {display: flex;align-items: stretch;justify-content: center;background-color: white;position: relative;}#sk-container-id-7 div.sk-item::before, #sk-container-id-7 div.sk-parallel-item::before {content: \"\";position: absolute;border-left: 1px solid gray;box-sizing: border-box;top: 0;bottom: 0;left: 50%;z-index: -1;}#sk-container-id-7 div.sk-parallel-item {display: flex;flex-direction: column;z-index: 1;position: relative;background-color: white;}#sk-container-id-7 div.sk-parallel-item:first-child::after {align-self: flex-end;width: 50%;}#sk-container-id-7 div.sk-parallel-item:last-child::after {align-self: flex-start;width: 50%;}#sk-container-id-7 div.sk-parallel-item:only-child::after {width: 0;}#sk-container-id-7 div.sk-dashed-wrapped {border: 1px dashed gray;margin: 0 0.4em 0.5em 0.4em;box-sizing: border-box;padding-bottom: 0.4em;background-color: white;}#sk-container-id-7 div.sk-label label {font-family: monospace;font-weight: bold;display: inline-block;line-height: 1.2em;}#sk-container-id-7 div.sk-label-container {text-align: center;}#sk-container-id-7 div.sk-container {/* jupyter's `normalize.less` sets `[hidden] { display: none; }` but bootstrap.min.css set `[hidden] { display: none !important; }` so we also need the `!important` here to be able to override the default hidden behavior on the sphinx rendered scikit-learn.org. See: https://github.com/scikit-learn/scikit-learn/issues/21755 */display: inline-block !important;position: relative;}#sk-container-id-7 div.sk-text-repr-fallback {display: none;}</style><div id=\"sk-container-id-7\" class=\"sk-top-container\"><div class=\"sk-text-repr-fallback\"><pre>AdaBoostClassifier()</pre><b>In a Jupyter environment, please rerun this cell to show the HTML representation or trust the notebook. <br />On GitHub, the HTML representation is unable to render, please try loading this page with nbviewer.org.</b></div><div class=\"sk-container\" hidden><div class=\"sk-item\"><div class=\"sk-estimator sk-toggleable\"><input class=\"sk-toggleable__control sk-hidden--visually\" id=\"sk-estimator-id-7\" type=\"checkbox\" checked><label for=\"sk-estimator-id-7\" class=\"sk-toggleable__label sk-toggleable__label-arrow\">AdaBoostClassifier</label><div class=\"sk-toggleable__content\"><pre>AdaBoostClassifier()</pre></div></div></div></div></div>"
            ]
          },
          "metadata": {},
          "execution_count": 56
        }
      ],
      "source": [
        "from sklearn.ensemble  import AdaBoostClassifier\n",
        "ab=AdaBoostClassifier()\n",
        "ab.fit(X_train,y_train)"
      ]
    },
    {
      "cell_type": "code",
      "execution_count": null,
      "metadata": {
        "colab": {
          "base_uri": "https://localhost:8080/"
        },
        "id": "eW1SKv3kTt2z",
        "outputId": "577cb1bf-83bd-41c2-b933-f4086c48fb0a"
      },
      "outputs": [
        {
          "output_type": "stream",
          "name": "stdout",
          "text": [
            "0.6792452830188679\n",
            "0.5421245421245421\n"
          ]
        }
      ],
      "source": [
        "print(ab.score(X_train, y_train))\n",
        "print(ab.score(X_test, y_test))"
      ]
    },
    {
      "cell_type": "code",
      "execution_count": null,
      "metadata": {
        "colab": {
          "base_uri": "https://localhost:8080/",
          "height": 449
        },
        "id": "vAwUfTyGTvXn",
        "outputId": "73a1b7ce-1c03-4b1f-8de4-938d39cf7cd0"
      },
      "outputs": [
        {
          "output_type": "display_data",
          "data": {
            "text/plain": [
              "<Figure size 640x480 with 2 Axes>"
            ],
            "image/png": "[encoded data removed]"
          },
          "metadata": {}
        }
      ],
      "source": [
        "y_pred = ab.predict(X_test)\n",
        "import matplotlib.pyplot as plt\n",
        "from sklearn.metrics import confusion_matrix\n",
        "from sklearn.metrics import ConfusionMatrixDisplay\n",
        "\n",
        "cm = confusion_matrix(y_test, y_pred)\n",
        "cm2 = ConfusionMatrixDisplay(confusion_matrix=cm)\n",
        "cm2.plot()\n",
        "plt.show()"
      ]
    },
    {
      "cell_type": "code",
      "execution_count": null,
      "metadata": {
        "colab": {
          "base_uri": "https://localhost:8080/"
        },
        "id": "VX5IGjJSTwo-",
        "outputId": "34f7e47e-b74e-4709-dfbf-11e231dbd7b7"
      },
      "outputs": [
        {
          "output_type": "stream",
          "name": "stdout",
          "text": [
            "Accuracy: 0.542\n",
            "precision: 0.562\n",
            "recall: 0.542\n",
            "f1: 0.542\n"
          ]
        }
      ],
      "source": [
        "from sklearn.metrics import precision_score, accuracy_score, recall_score, f1_score\n",
        "\n",
        "print(f\"Accuracy: {round(accuracy_score(y_test, y_pred),3)}\")\n",
        "print(f\"precision: {round(precision_score(y_test, y_pred, average='weighted'),3)}\")\n",
        "print(f\"recall: {round(recall_score(y_test, y_pred, average='weighted'),3)}\")\n",
        "print(f\"f1: {round(accuracy_score(y_test, y_pred), 3)}\")"
      ]
    },
    {
      "cell_type": "code",
      "execution_count": null,
      "metadata": {
        "id": "DQyNDA9KTyDT"
      },
      "outputs": [],
      "source": []
    },
    {
      "cell_type": "markdown",
      "metadata": {
        "id": "54f3-advImr2"
      },
      "source": [
        "CNN"
      ]
    },
    {
      "cell_type": "code",
      "execution_count": null,
      "metadata": {
        "id": "9XwC_21EOlS1"
      },
      "outputs": [],
      "source": [
        "import numpy as np # linear algebra\n",
        "import pandas as pd # data processing, CSV file I/O (e.g. pd.read_csv)\n",
        "import tensorflow as tf\n",
        "import matplotlib.pyplot as plt\n",
        "import seaborn as sns\n",
        "from sklearn.manifold import TSNE\n",
        "from sklearn.decomposition import PCA, TruncatedSVD\n",
        "import matplotlib.patches as mpatches\n",
        "import time\n",
        "\n",
        "# Classifier Libraries\n",
        "from sklearn.linear_model import LogisticRegression\n",
        "from sklearn.svm import SVC\n",
        "from sklearn.neighbors import KNeighborsClassifier\n",
        "from sklearn.tree import DecisionTreeClassifier\n",
        "from sklearn.ensemble import RandomForestClassifier\n",
        "import collections\n",
        "\n",
        "\n",
        "# Other Libraries\n",
        "from sklearn.model_selection import train_test_split\n",
        "from sklearn.pipeline import make_pipeline\n",
        "from imblearn.pipeline import make_pipeline as imbalanced_make_pipeline\n",
        "from imblearn.over_sampling import SMOTE\n",
        "from imblearn.under_sampling import NearMiss\n",
        "from imblearn.metrics import classification_report_imbalanced\n",
        "from sklearn.metrics import precision_score, recall_score, f1_score, roc_auc_score, accuracy_score, classification_report\n",
        "from collections import Counter\n",
        "from sklearn.model_selection import KFold, StratifiedKFold\n",
        "import warnings\n",
        "warnings.filterwarnings(\"ignore\")"
      ]
    },
    {
      "cell_type": "code",
      "execution_count": null,
      "metadata": {
        "id": "MD5ZcntSMBxr"
      },
      "outputs": [],
      "source": [
        "from tensorflow.keras.datasets import mnist\n",
        "from tensorflow.keras.models import Sequential\n",
        "from tensorflow.keras.layers import Conv2D\n",
        "from tensorflow.keras.layers import MaxPool2D\n",
        "from tensorflow.keras.layers import Flatten\n",
        "from tensorflow.keras.layers import Dropout\n",
        "from tensorflow.keras.layers import Dense\n",
        "import numpy as np\n",
        "X2=np.array(X_train)\n",
        "X3=np.array(X_test)\n",
        "X_train2=X2.reshape(X_train.shape[0],X_train.shape[1],1)\n",
        "X_test2=X3.reshape(X_test.shape[0],X_test.shape[1],1)\n"
      ]
    },
    {
      "cell_type": "code",
      "execution_count": null,
      "metadata": {
        "colab": {
          "base_uri": "https://localhost:8080/"
        },
        "id": "_yeb277MkYi-",
        "outputId": "6c9c4573-4fc2-4b24-908c-d16377b1d882"
      },
      "outputs": [
        {
          "output_type": "execute_result",
          "data": {
            "text/plain": [
              "(273, 13)"
            ]
          },
          "metadata": {},
          "execution_count": 62
        }
      ],
      "source": [
        "X_test.shape"
      ]
    },
    {
      "cell_type": "code",
      "execution_count": null,
      "metadata": {
        "id": "H41BVyOS65Op"
      },
      "outputs": [],
      "source": [
        "from tensorflow.keras.models import Sequential\n",
        "from tensorflow.keras.layers import Input,Embedding,Dense,Flatten,MaxPooling1D,Conv1D,BatchNormalization,Dropout\n",
        "# import model\n",
        "model20=Sequential()\n",
        "# layers\n",
        "model20.add(Conv1D(filters=32, kernel_size=2, activation='relu', input_shape=X_train2[0].shape)) #creates a convolutional layer which extracts features from the input\n",
        "model20.add(BatchNormalization()) #normalizes each feature for better accuracy and faster training\n",
        "model20.add(Dropout(0.2)) # hides 20% neurons to avoid overfitting\n",
        "\n",
        "model20.add(Conv1D(filters=64, kernel_size=2, activation='relu'))\n",
        "model20.add(BatchNormalization())\n",
        "model20.add(Dropout(0.5))\n",
        "\n",
        "model20.add(Conv1D(filters=64, kernel_size=2, activation='relu'))\n",
        "model20.add(BatchNormalization())\n",
        "model20.add(Dropout(0.5))\n",
        "\n",
        "model20.add(Conv1D(filters=64, kernel_size=2, activation='relu'))\n",
        "model20.add(BatchNormalization())\n",
        "model20.add(Dropout(0.25))\n",
        "\n",
        "model20.add(Flatten()) #convert input into 1D\n",
        "model20.add(Dense(64, activation='relu')) #fully connected layer for classification\n",
        "model20.add(Dropout(0.25))\n",
        "\n",
        "model20.add(Dense(100, activation='relu'))\n",
        "model20.add(Dense(50, activation='relu'))\n",
        "model20.add(Dense(25, activation='relu'))\n",
        "model20.add(Dense(1, activation = \"sigmoid\"))"
      ]
    },
    {
      "cell_type": "code",
      "execution_count": null,
      "metadata": {
        "colab": {
          "base_uri": "https://localhost:8080/"
        },
        "id": "xieoEq5Vouo0",
        "outputId": "5f375f18-adc1-4e33-e089-009d46859fd5"
      },
      "outputs": [
        {
          "output_type": "stream",
          "name": "stdout",
          "text": [
            "Model: \"sequential_2\"\n",
            "_________________________________________________________________\n",
            " Layer (type)                Output Shape              Param #   \n",
            "=================================================================\n",
            " conv1d_2 (Conv1D)           (None, 12, 32)            96        \n",
            "                                                                 \n",
            " batch_normalization_2 (Batc  (None, 12, 32)           128       \n",
            " hNormalization)                                                 \n",
            "                                                                 \n",
            " dropout_3 (Dropout)         (None, 12, 32)            0         \n",
            "                                                                 \n",
            " conv1d_3 (Conv1D)           (None, 11, 64)            4160      \n",
            "                                                                 \n",
            " batch_normalization_3 (Batc  (None, 11, 64)           256       \n",
            " hNormalization)                                                 \n",
            "                                                                 \n",
            " dropout_4 (Dropout)         (None, 11, 64)            0         \n",
            "                                                                 \n",
            " conv1d_4 (Conv1D)           (None, 10, 64)            8256      \n",
            "                                                                 \n",
            " batch_normalization_4 (Batc  (None, 10, 64)           256       \n",
            " hNormalization)                                                 \n",
            "                                                                 \n",
            " dropout_5 (Dropout)         (None, 10, 64)            0         \n",
            "                                                                 \n",
            " conv1d_5 (Conv1D)           (None, 9, 64)             8256      \n",
            "                                                                 \n",
            " batch_normalization_5 (Batc  (None, 9, 64)            256       \n",
            " hNormalization)                                                 \n",
            "                                                                 \n",
            " dropout_6 (Dropout)         (None, 9, 64)             0         \n",
            "                                                                 \n",
            " flatten_1 (Flatten)         (None, 576)               0         \n",
            "                                                                 \n",
            " dense_5 (Dense)             (None, 64)                36928     \n",
            "                                                                 \n",
            " dropout_7 (Dropout)         (None, 64)                0         \n",
            "                                                                 \n",
            " dense_6 (Dense)             (None, 100)               6500      \n",
            "                                                                 \n",
            " dense_7 (Dense)             (None, 50)                5050      \n",
            "                                                                 \n",
            " dense_8 (Dense)             (None, 25)                1275      \n",
            "                                                                 \n",
            " dense_9 (Dense)             (None, 1)                 26        \n",
            "                                                                 \n",
            "=================================================================\n",
            "Total params: 71,443\n",
            "Trainable params: 70,995\n",
            "Non-trainable params: 448\n",
            "_________________________________________________________________\n"
          ]
        }
      ],
      "source": [
        "model20.summary()"
      ]
    },
    {
      "cell_type": "code",
      "execution_count": null,
      "metadata": {
        "id": "8VMCJ6DLTMCA"
      },
      "outputs": [],
      "source": [
        "model20.compile(optimizer='adam', loss='binary_crossentropy', metrics=['accuracy'])"
      ]
    },
    {
      "cell_type": "code",
      "execution_count": null,
      "metadata": {
        "id": "5TxXk7orIaPT",
        "colab": {
          "base_uri": "https://localhost:8080/"
        },
        "outputId": "4773d92a-033e-4129-8962-93c75345d23f"
      },
      "outputs": [
        {
          "output_type": "stream",
          "name": "stdout",
          "text": [
            "Epoch 1/80\n",
            "20/20 [==============================] - 1s 47ms/step - loss: -640627776.0000 - accuracy: 0.3333 - val_loss: -1000440768.0000 - val_accuracy: 0.3114\n",
            "Epoch 2/80\n",
            "20/20 [==============================] - 1s 38ms/step - loss: -851220480.0000 - accuracy: 0.3428 - val_loss: -571091968.0000 - val_accuracy: 0.3114\n",
            "Epoch 3/80\n",
            "20/20 [==============================] - 1s 25ms/step - loss: -988769664.0000 - accuracy: 0.3333 - val_loss: -1087604352.0000 - val_accuracy: 0.3114\n",
            "Epoch 4/80\n",
            "20/20 [==============================] - 1s 27ms/step - loss: -1219772160.0000 - accuracy: 0.3459 - val_loss: -1279017216.0000 - val_accuracy: 0.3114\n",
            "Epoch 5/80\n",
            "20/20 [==============================] - 0s 25ms/step - loss: -1401345792.0000 - accuracy: 0.3396 - val_loss: -872837120.0000 - val_accuracy: 0.3114\n",
            "Epoch 6/80\n",
            "20/20 [==============================] - 0s 24ms/step - loss: -1759938560.0000 - accuracy: 0.3239 - val_loss: -1026876608.0000 - val_accuracy: 0.3114\n",
            "Epoch 7/80\n",
            "20/20 [==============================] - 0s 23ms/step - loss: -2070395392.0000 - accuracy: 0.3522 - val_loss: -1929659136.0000 - val_accuracy: 0.3114\n",
            "Epoch 8/80\n",
            "20/20 [==============================] - 0s 25ms/step - loss: -2361357312.0000 - accuracy: 0.3396 - val_loss: -1347898368.0000 - val_accuracy: 0.3114\n",
            "Epoch 9/80\n",
            "20/20 [==============================] - 0s 22ms/step - loss: -2900754688.0000 - accuracy: 0.3459 - val_loss: -3491883776.0000 - val_accuracy: 0.3553\n",
            "Epoch 10/80\n",
            "20/20 [==============================] - 0s 16ms/step - loss: -3289320704.0000 - accuracy: 0.3459 - val_loss: -2454881792.0000 - val_accuracy: 0.3114\n",
            "Epoch 11/80\n",
            "20/20 [==============================] - 0s 18ms/step - loss: -3809556224.0000 - accuracy: 0.3349 - val_loss: -3458848768.0000 - val_accuracy: 0.3663\n",
            "Epoch 12/80\n",
            "20/20 [==============================] - 0s 14ms/step - loss: -4400020992.0000 - accuracy: 0.3270 - val_loss: -4426365952.0000 - val_accuracy: 0.3590\n",
            "Epoch 13/80\n",
            "20/20 [==============================] - 0s 16ms/step - loss: -5598331904.0000 - accuracy: 0.3286 - val_loss: -7819287040.0000 - val_accuracy: 0.3553\n",
            "Epoch 14/80\n",
            "20/20 [==============================] - 0s 15ms/step - loss: -6044909056.0000 - accuracy: 0.3648 - val_loss: -4204896256.0000 - val_accuracy: 0.3443\n",
            "Epoch 15/80\n",
            "20/20 [==============================] - 0s 16ms/step - loss: -6698095616.0000 - accuracy: 0.3381 - val_loss: -6407740416.0000 - val_accuracy: 0.3626\n",
            "Epoch 16/80\n",
            "20/20 [==============================] - 0s 17ms/step - loss: -7947082240.0000 - accuracy: 0.3475 - val_loss: -9167357952.0000 - val_accuracy: 0.3553\n",
            "Epoch 17/80\n",
            "20/20 [==============================] - 0s 17ms/step - loss: -9483195392.0000 - accuracy: 0.3428 - val_loss: -6721026560.0000 - val_accuracy: 0.3480\n",
            "Epoch 18/80\n",
            "20/20 [==============================] - 0s 16ms/step - loss: -9929682944.0000 - accuracy: 0.3506 - val_loss: -6799522816.0000 - val_accuracy: 0.3150\n",
            "Epoch 19/80\n",
            "20/20 [==============================] - 0s 16ms/step - loss: -11342893056.0000 - accuracy: 0.3333 - val_loss: -14444357632.0000 - val_accuracy: 0.3663\n",
            "Epoch 20/80\n",
            "20/20 [==============================] - 0s 14ms/step - loss: -13176548352.0000 - accuracy: 0.3270 - val_loss: -13441480704.0000 - val_accuracy: 0.3553\n",
            "Epoch 21/80\n",
            "20/20 [==============================] - 0s 16ms/step - loss: -14723082240.0000 - accuracy: 0.3506 - val_loss: -20918966272.0000 - val_accuracy: 0.3150\n",
            "Epoch 22/80\n",
            "20/20 [==============================] - 0s 16ms/step - loss: -16335902720.0000 - accuracy: 0.3459 - val_loss: -18523789312.0000 - val_accuracy: 0.3114\n",
            "Epoch 23/80\n",
            "20/20 [==============================] - 0s 16ms/step - loss: -18010966016.0000 - accuracy: 0.3381 - val_loss: -17862486016.0000 - val_accuracy: 0.3150\n",
            "Epoch 24/80\n",
            "20/20 [==============================] - 0s 15ms/step - loss: -19502698496.0000 - accuracy: 0.3522 - val_loss: -18480336896.0000 - val_accuracy: 0.3114\n",
            "Epoch 25/80\n",
            "20/20 [==============================] - 0s 16ms/step - loss: -22475739136.0000 - accuracy: 0.3318 - val_loss: -31690186752.0000 - val_accuracy: 0.3480\n",
            "Epoch 26/80\n",
            "20/20 [==============================] - 0s 18ms/step - loss: -24890105856.0000 - accuracy: 0.3569 - val_loss: -30254917632.0000 - val_accuracy: 0.3370\n",
            "Epoch 27/80\n",
            "20/20 [==============================] - 0s 16ms/step - loss: -26005491712.0000 - accuracy: 0.3302 - val_loss: -38783516672.0000 - val_accuracy: 0.3114\n",
            "Epoch 28/80\n",
            "20/20 [==============================] - 0s 16ms/step - loss: -29171707904.0000 - accuracy: 0.3632 - val_loss: -31230337024.0000 - val_accuracy: 0.3114\n",
            "Epoch 29/80\n",
            "20/20 [==============================] - 0s 15ms/step - loss: -33154387968.0000 - accuracy: 0.3506 - val_loss: -52617875456.0000 - val_accuracy: 0.3553\n",
            "Epoch 30/80\n",
            "20/20 [==============================] - 0s 15ms/step - loss: -37640982528.0000 - accuracy: 0.3538 - val_loss: -43104686080.0000 - val_accuracy: 0.3114\n",
            "Epoch 31/80\n",
            "20/20 [==============================] - 0s 14ms/step - loss: -38370938880.0000 - accuracy: 0.3443 - val_loss: -38852628480.0000 - val_accuracy: 0.3553\n",
            "Epoch 32/80\n",
            "20/20 [==============================] - 0s 16ms/step - loss: -41188556800.0000 - accuracy: 0.3428 - val_loss: -50748403712.0000 - val_accuracy: 0.3114\n",
            "Epoch 33/80\n",
            "20/20 [==============================] - 0s 15ms/step - loss: -47184654336.0000 - accuracy: 0.3239 - val_loss: -59648471040.0000 - val_accuracy: 0.3114\n",
            "Epoch 34/80\n",
            "20/20 [==============================] - 0s 18ms/step - loss: -53547585536.0000 - accuracy: 0.3349 - val_loss: -62770753536.0000 - val_accuracy: 0.3553\n",
            "Epoch 35/80\n",
            "20/20 [==============================] - 0s 18ms/step - loss: -60879331328.0000 - accuracy: 0.3553 - val_loss: -79965945856.0000 - val_accuracy: 0.3810\n",
            "Epoch 36/80\n",
            "20/20 [==============================] - 0s 15ms/step - loss: -68090343424.0000 - accuracy: 0.3506 - val_loss: -91073110016.0000 - val_accuracy: 0.3700\n",
            "Epoch 37/80\n",
            "20/20 [==============================] - 0s 15ms/step - loss: -72350490624.0000 - accuracy: 0.3428 - val_loss: -96500973568.0000 - val_accuracy: 0.3443\n",
            "Epoch 38/80\n",
            "20/20 [==============================] - 0s 16ms/step - loss: -83221938176.0000 - accuracy: 0.3538 - val_loss: -100217176064.0000 - val_accuracy: 0.3077\n",
            "Epoch 39/80\n",
            "20/20 [==============================] - 0s 16ms/step - loss: -86388506624.0000 - accuracy: 0.3302 - val_loss: -117660901376.0000 - val_accuracy: 0.3114\n",
            "Epoch 40/80\n",
            "20/20 [==============================] - 0s 19ms/step - loss: -85910052864.0000 - accuracy: 0.3443 - val_loss: -113372160000.0000 - val_accuracy: 0.3114\n",
            "Epoch 41/80\n",
            "20/20 [==============================] - 0s 24ms/step - loss: -105530908672.0000 - accuracy: 0.3396 - val_loss: -124364111872.0000 - val_accuracy: 0.3736\n",
            "Epoch 42/80\n",
            "20/20 [==============================] - 0s 24ms/step - loss: -107285577728.0000 - accuracy: 0.3365 - val_loss: -123978752000.0000 - val_accuracy: 0.3114\n",
            "Epoch 43/80\n",
            "20/20 [==============================] - 0s 24ms/step - loss: -112500449280.0000 - accuracy: 0.3318 - val_loss: -156416966656.0000 - val_accuracy: 0.3700\n",
            "Epoch 44/80\n",
            "20/20 [==============================] - 0s 25ms/step - loss: -126573330432.0000 - accuracy: 0.3443 - val_loss: -186228965376.0000 - val_accuracy: 0.3590\n",
            "Epoch 45/80\n",
            "20/20 [==============================] - 0s 23ms/step - loss: -131358531584.0000 - accuracy: 0.3522 - val_loss: -177103372288.0000 - val_accuracy: 0.3114\n",
            "Epoch 46/80\n",
            "20/20 [==============================] - 0s 24ms/step - loss: -149252177920.0000 - accuracy: 0.3443 - val_loss: -182842130432.0000 - val_accuracy: 0.3114\n",
            "Epoch 47/80\n",
            "20/20 [==============================] - 1s 26ms/step - loss: -134504611840.0000 - accuracy: 0.3396 - val_loss: -166629212160.0000 - val_accuracy: 0.3114\n",
            "Epoch 48/80\n",
            "20/20 [==============================] - 1s 25ms/step - loss: -162969780224.0000 - accuracy: 0.3396 - val_loss: -185325535232.0000 - val_accuracy: 0.3590\n",
            "Epoch 49/80\n",
            "20/20 [==============================] - 1s 26ms/step - loss: -179851853824.0000 - accuracy: 0.3396 - val_loss: -196361158656.0000 - val_accuracy: 0.3114\n",
            "Epoch 50/80\n",
            "20/20 [==============================] - 0s 20ms/step - loss: -185065488384.0000 - accuracy: 0.3553 - val_loss: -247376396288.0000 - val_accuracy: 0.3150\n",
            "Epoch 51/80\n",
            "20/20 [==============================] - 0s 18ms/step - loss: -208109682688.0000 - accuracy: 0.3302 - val_loss: -192300285952.0000 - val_accuracy: 0.3736\n",
            "Epoch 52/80\n",
            "20/20 [==============================] - 0s 18ms/step - loss: -208444030976.0000 - accuracy: 0.3616 - val_loss: -249475448832.0000 - val_accuracy: 0.3810\n",
            "Epoch 53/80\n",
            "20/20 [==============================] - 0s 15ms/step - loss: -212808679424.0000 - accuracy: 0.3428 - val_loss: -246438068224.0000 - val_accuracy: 0.3114\n",
            "Epoch 54/80\n",
            "20/20 [==============================] - 0s 18ms/step - loss: -256023740416.0000 - accuracy: 0.3585 - val_loss: -285526392832.0000 - val_accuracy: 0.3114\n",
            "Epoch 55/80\n",
            "20/20 [==============================] - 0s 18ms/step - loss: -256373342208.0000 - accuracy: 0.3396 - val_loss: -319346180096.0000 - val_accuracy: 0.3700\n",
            "Epoch 56/80\n",
            "20/20 [==============================] - 0s 16ms/step - loss: -286723244032.0000 - accuracy: 0.3538 - val_loss: -282228424704.0000 - val_accuracy: 0.3810\n",
            "Epoch 57/80\n",
            "20/20 [==============================] - 0s 18ms/step - loss: -286814470144.0000 - accuracy: 0.3428 - val_loss: -386415263744.0000 - val_accuracy: 0.3626\n",
            "Epoch 58/80\n",
            "20/20 [==============================] - 0s 17ms/step - loss: -317517365248.0000 - accuracy: 0.3459 - val_loss: -506922991616.0000 - val_accuracy: 0.3114\n",
            "Epoch 59/80\n",
            "20/20 [==============================] - 0s 16ms/step - loss: -313342263296.0000 - accuracy: 0.3412 - val_loss: -377320898560.0000 - val_accuracy: 0.3114\n",
            "Epoch 60/80\n",
            "20/20 [==============================] - 0s 18ms/step - loss: -360562655232.0000 - accuracy: 0.3349 - val_loss: -458636328960.0000 - val_accuracy: 0.3114\n",
            "Epoch 61/80\n",
            "20/20 [==============================] - 0s 17ms/step - loss: -353006682112.0000 - accuracy: 0.3239 - val_loss: -387381231616.0000 - val_accuracy: 0.3114\n",
            "Epoch 62/80\n",
            "20/20 [==============================] - 0s 18ms/step - loss: -388678287360.0000 - accuracy: 0.3270 - val_loss: -442171392000.0000 - val_accuracy: 0.3114\n",
            "Epoch 63/80\n",
            "20/20 [==============================] - 0s 16ms/step - loss: -414677860352.0000 - accuracy: 0.3428 - val_loss: -583242416128.0000 - val_accuracy: 0.3590\n",
            "Epoch 64/80\n",
            "20/20 [==============================] - 0s 17ms/step - loss: -436861435904.0000 - accuracy: 0.3475 - val_loss: -630035644416.0000 - val_accuracy: 0.3114\n",
            "Epoch 65/80\n",
            "20/20 [==============================] - 0s 16ms/step - loss: -462119698432.0000 - accuracy: 0.3506 - val_loss: -776529969152.0000 - val_accuracy: 0.3480\n",
            "Epoch 66/80\n",
            "20/20 [==============================] - 0s 18ms/step - loss: -508939599872.0000 - accuracy: 0.3459 - val_loss: -745565716480.0000 - val_accuracy: 0.3114\n",
            "Epoch 67/80\n",
            "20/20 [==============================] - 0s 17ms/step - loss: -519553712128.0000 - accuracy: 0.3412 - val_loss: -650583801856.0000 - val_accuracy: 0.3114\n",
            "Epoch 68/80\n",
            "20/20 [==============================] - 0s 19ms/step - loss: -517346885632.0000 - accuracy: 0.3302 - val_loss: -537137610752.0000 - val_accuracy: 0.3700\n",
            "Epoch 69/80\n",
            "20/20 [==============================] - 0s 24ms/step - loss: -578466349056.0000 - accuracy: 0.3396 - val_loss: -724979744768.0000 - val_accuracy: 0.3626\n",
            "Epoch 70/80\n",
            "20/20 [==============================] - 0s 25ms/step - loss: -534883696640.0000 - accuracy: 0.3475 - val_loss: -926351491072.0000 - val_accuracy: 0.3114\n",
            "Epoch 71/80\n",
            "20/20 [==============================] - 0s 23ms/step - loss: -615329169408.0000 - accuracy: 0.3601 - val_loss: -740375265280.0000 - val_accuracy: 0.3114\n",
            "Epoch 72/80\n",
            "20/20 [==============================] - 0s 24ms/step - loss: -681641115648.0000 - accuracy: 0.3396 - val_loss: -735442829312.0000 - val_accuracy: 0.3114\n",
            "Epoch 73/80\n",
            "20/20 [==============================] - 0s 24ms/step - loss: -718348288000.0000 - accuracy: 0.3396 - val_loss: -643027894272.0000 - val_accuracy: 0.3700\n",
            "Epoch 74/80\n",
            "20/20 [==============================] - 0s 24ms/step - loss: -737521827840.0000 - accuracy: 0.3601 - val_loss: -976667344896.0000 - val_accuracy: 0.3114\n",
            "Epoch 75/80\n",
            "20/20 [==============================] - 1s 25ms/step - loss: -758242607104.0000 - accuracy: 0.3349 - val_loss: -1007086534656.0000 - val_accuracy: 0.3626\n",
            "Epoch 76/80\n",
            "20/20 [==============================] - 0s 25ms/step - loss: -848389144576.0000 - accuracy: 0.3412 - val_loss: -922856456192.0000 - val_accuracy: 0.3663\n",
            "Epoch 77/80\n",
            "20/20 [==============================] - 1s 29ms/step - loss: -820108066816.0000 - accuracy: 0.3412 - val_loss: -799721455616.0000 - val_accuracy: 0.3736\n",
            "Epoch 78/80\n",
            "20/20 [==============================] - 1s 31ms/step - loss: -853599453184.0000 - accuracy: 0.3255 - val_loss: -958180753408.0000 - val_accuracy: 0.3114\n",
            "Epoch 79/80\n",
            "20/20 [==============================] - 1s 26ms/step - loss: -949849358336.0000 - accuracy: 0.3506 - val_loss: -906016194560.0000 - val_accuracy: 0.3114\n",
            "Epoch 80/80\n",
            "20/20 [==============================] - 1s 26ms/step - loss: -1001473179648.0000 - accuracy: 0.3522 - val_loss: -810168811520.0000 - val_accuracy: 0.3114\n"
          ]
        }
      ],
      "source": [
        "history=model20.fit(X_train2,y_train,epochs=80,validation_data=(X_test2,y_test))"
      ]
    },
    {
      "cell_type": "code",
      "execution_count": null,
      "metadata": {
        "id": "cQKHzGQsR2HB"
      },
      "outputs": [],
      "source": [
        "def plot_learningcurve(history,epochs):\n",
        "  epoch=range(1,epochs+1)\n",
        "  # accuracy\n",
        "  plt.plot(epoch, history.history['accuracy'])\n",
        "  plt.plot(epoch, history.history['val_accuracy'])\n",
        "  plt.title('Model accuracy')\n",
        "  plt.xlabel('epoch')\n",
        "  plt.ylabel('accuracy')\n",
        "  plt.legend(['train','val'], loc='upper left')\n",
        "  plt.show()\n",
        "\n",
        "  # loss\n",
        "  plt.plot(epoch, history.history['loss'])\n",
        "  plt.plot(epoch, history.history['val_loss'])\n",
        "  plt.title('Model loss')\n",
        "  plt.xlabel('epoch')\n",
        "  plt.ylabel('loss')\n",
        "  plt.legend(['train','val'], loc='upper left')\n",
        "  plt.show()"
      ]
    },
    {
      "cell_type": "code",
      "execution_count": null,
      "metadata": {
        "id": "1kyqeUL6R2HC",
        "colab": {
          "base_uri": "https://localhost:8080/",
          "height": 927
        },
        "outputId": "22735f4d-6989-4005-f542-c747ecd0801b"
      },
      "outputs": [
        {
          "output_type": "display_data",
          "data": {
            "text/plain": [
              "<Figure size 640x480 with 1 Axes>"
            ],
            "image/png": "[encoded data removed]"
          },
          "metadata": {}
        },
        {
          "output_type": "display_data",
          "data": {
            "text/plain": [
              "<Figure size 640x480 with 1 Axes>"
            ],
            "image/png": "[encoded data removed]"
          },
          "metadata": {}
        }
      ],
      "source": [
        "plot_learningcurve(history,80)"
      ]
    },
    {
      "cell_type": "code",
      "execution_count": null,
      "metadata": {
        "id": "trF5dDU8UGOh",
        "colab": {
          "base_uri": "https://localhost:8080/"
        },
        "outputId": "e2b666df-3423-41d1-f239-da36de2b8711"
      },
      "outputs": [
        {
          "output_type": "stream",
          "name": "stdout",
          "text": [
            "9/9 [==============================] - 0s 4ms/step - loss: -810168811520.0000 - accuracy: 0.3114\n"
          ]
        }
      ],
      "source": [
        "c=model20.evaluate(X_test2,y_test)"
      ]
    },
    {
      "cell_type": "code",
      "execution_count": null,
      "metadata": {
        "id": "k_LmS-wmVToS",
        "colab": {
          "base_uri": "https://localhost:8080/"
        },
        "outputId": "0c74d864-5ab3-44a8-c738-1912ea55ace5"
      },
      "outputs": [
        {
          "output_type": "stream",
          "name": "stdout",
          "text": [
            "9/9 [==============================] - 0s 3ms/step\n",
            "              precision    recall  f1-score   support\n",
            "\n",
            "           0       0.00      0.00      0.00        88\n",
            "           1       0.31      1.00      0.47        85\n",
            "           2       0.00      0.00      0.00       100\n",
            "\n",
            "    accuracy                           0.31       273\n",
            "   macro avg       0.10      0.33      0.16       273\n",
            "weighted avg       0.10      0.31      0.15       273\n",
            "\n"
          ]
        }
      ],
      "source": [
        "pred = (model20.predict(X_test2))\n",
        "res = []\n",
        "for ele in pred:\n",
        "  if(ele < 0.5):\n",
        "    res.append(0)\n",
        "  else:\n",
        "    res.append(1)\n",
        "print(classification_report(y_test, res))"
      ]
    }
  ],
  "metadata": {
    "colab": {
      "provenance": [],
      "include_colab_link": true
    },
    "kernelspec": {
      "display_name": "Python 3",
      "name": "python3"
    },
    "language_info": {
      "name": "python"
    }
  },
  "nbformat": 4,
  "nbformat_minor": 0
}